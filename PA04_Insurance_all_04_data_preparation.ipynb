{
 "cells": [
  {
   "cell_type": "markdown",
   "source": "# Imports",
   "metadata": {
    "cell_id": "1021eef5-c0a1-40ae-bf80-e0435f1b0812",
    "deepnote_cell_type": "markdown",
    "deepnote_cell_height": 81.60000610351562
   }
  },
  {
   "cell_type": "code",
   "metadata": {
    "ExecuteTime": {
     "end_time": "2022-08-30T00:39:47.498971Z",
     "start_time": "2022-08-30T00:39:47.483388Z"
    },
    "cell_id": "00001-d8b79d19-e820-47a1-8973-6a18611c8692",
    "deepnote_to_be_reexecuted": false,
    "source_hash": "e3304ed3",
    "execution_start": 1661863720760,
    "execution_millis": 4181,
    "deepnote_cell_type": "code",
    "deepnote_cell_height": 201.60000610351562
   },
   "source": "import pandas as pd\nimport numpy as np\nimport seaborn as sns\nimport matplotlib.pyplot as plt\nfrom IPython.core.display import HTML\nfrom IPython.display import Image\nfrom scipy import stats\nfrom sklearn.preprocessing import RobustScaler, MinMaxScaler",
   "outputs": [],
   "execution_count": null
  },
  {
   "cell_type": "markdown",
   "source": "# Helper functions",
   "metadata": {
    "cell_id": "00002-4fef2db2-9cc0-44e2-a88d-7d1ccda64910",
    "deepnote_cell_type": "markdown",
    "deepnote_cell_height": 81.60000610351562
   }
  },
  {
   "cell_type": "code",
   "metadata": {
    "ExecuteTime": {
     "end_time": "2022-08-30T00:39:47.536727Z",
     "start_time": "2022-08-30T00:39:47.498971Z"
    },
    "cell_id": "00003-4e6bb5e5-fd53-4ad8-bf43-f8388ff2368e",
    "deepnote_to_be_reexecuted": false,
    "source_hash": "46a4bb4d",
    "execution_start": 1661863724955,
    "execution_millis": 432,
    "deepnote_cell_type": "code",
    "deepnote_cell_height": 302.20001220703125,
    "deepnote_output_heights": [
     null,
     1
    ]
   },
   "source": "def jupyter_settings():\n    %matplotlib inline\n    %pylab inline\n    plt.style.use( 'bmh' )\n    plt.rcParams['figure.figsize'] = [25, 12]\n    plt.rcParams['font.size'] = 24\n    display( HTML( '<style>.container { width:100% !important; }</style>') )\n    sns.set()\njupyter_settings()",
   "outputs": [
    {
     "name": "stdout",
     "text": "%pylab is deprecated, use %matplotlib inline and import the required libraries.\nPopulating the interactive namespace from numpy and matplotlib\n",
     "output_type": "stream"
    },
    {
     "data": {
      "text/plain": "<IPython.core.display.HTML object>",
      "text/html": "<style>.container { width:100% !important; }</style>"
     },
     "metadata": {},
     "output_type": "display_data"
    }
   ],
   "execution_count": null
  },
  {
   "cell_type": "markdown",
   "source": "# load data",
   "metadata": {
    "cell_id": "00004-43a4fe95-7fca-476e-8d1e-da12da22c630",
    "deepnote_cell_type": "markdown",
    "deepnote_cell_height": 81.60000610351562
   }
  },
  {
   "cell_type": "code",
   "source": "df4 = pd.read_csv('data/df3.csv')",
   "metadata": {
    "ExecuteTime": {
     "end_time": "2022-08-30T00:39:48.238811Z",
     "start_time": "2022-08-30T00:39:47.536727Z"
    },
    "cell_id": "00005-11790c5b-3589-4eab-8be0-d30a98dc8b70",
    "deepnote_to_be_reexecuted": false,
    "source_hash": "8b41ec7b",
    "execution_start": 1661863725111,
    "execution_millis": 1050,
    "deepnote_cell_type": "code",
    "deepnote_cell_height": 75.60000610351562
   },
   "outputs": [],
   "execution_count": null
  },
  {
   "cell_type": "code",
   "source": "df4.head()",
   "metadata": {
    "ExecuteTime": {
     "end_time": "2022-08-30T00:39:48.269786Z",
     "start_time": "2022-08-30T00:39:48.238811Z"
    },
    "scrolled": true,
    "cell_id": "00006-c3c96d2c-1263-4be2-b874-8872fceb0161",
    "deepnote_to_be_reexecuted": false,
    "source_hash": "c276eb85",
    "execution_start": 1661863726173,
    "execution_millis": 167,
    "deepnote_cell_type": "code",
    "deepnote_cell_height": 389.20001220703125
   },
   "outputs": [
    {
     "output_type": "execute_result",
     "execution_count": 4,
     "data": {
      "application/vnd.deepnote.dataframe.v3+json": {
       "column_count": 11,
       "row_count": 5,
       "columns": [
        {
         "name": "id",
         "dtype": "int64",
         "stats": {
          "unique_count": 5,
          "nan_count": 0,
          "min": "1",
          "max": "5",
          "histogram": [
           {
            "bin_start": 1,
            "bin_end": 1.4,
            "count": 1
           },
           {
            "bin_start": 1.4,
            "bin_end": 1.8,
            "count": 0
           },
           {
            "bin_start": 1.8,
            "bin_end": 2.2,
            "count": 1
           },
           {
            "bin_start": 2.2,
            "bin_end": 2.6,
            "count": 0
           },
           {
            "bin_start": 2.6,
            "bin_end": 3,
            "count": 0
           },
           {
            "bin_start": 3,
            "bin_end": 3.4000000000000004,
            "count": 1
           },
           {
            "bin_start": 3.4000000000000004,
            "bin_end": 3.8000000000000003,
            "count": 0
           },
           {
            "bin_start": 3.8000000000000003,
            "bin_end": 4.2,
            "count": 1
           },
           {
            "bin_start": 4.2,
            "bin_end": 4.6,
            "count": 0
           },
           {
            "bin_start": 4.6,
            "bin_end": 5,
            "count": 1
           }
          ]
         }
        },
        {
         "name": "gender",
         "dtype": "object",
         "stats": {
          "unique_count": 2,
          "nan_count": 0,
          "categories": [
           {
            "name": "Male",
            "count": 4
           },
           {
            "name": "Female",
            "count": 1
           }
          ]
         }
        },
        {
         "name": "age",
         "dtype": "int64",
         "stats": {
          "unique_count": 5,
          "nan_count": 0,
          "min": "21",
          "max": "76",
          "histogram": [
           {
            "bin_start": 21,
            "bin_end": 26.5,
            "count": 1
           },
           {
            "bin_start": 26.5,
            "bin_end": 32,
            "count": 1
           },
           {
            "bin_start": 32,
            "bin_end": 37.5,
            "count": 0
           },
           {
            "bin_start": 37.5,
            "bin_end": 43,
            "count": 0
           },
           {
            "bin_start": 43,
            "bin_end": 48.5,
            "count": 2
           },
           {
            "bin_start": 48.5,
            "bin_end": 54,
            "count": 0
           },
           {
            "bin_start": 54,
            "bin_end": 59.5,
            "count": 0
           },
           {
            "bin_start": 59.5,
            "bin_end": 65,
            "count": 0
           },
           {
            "bin_start": 65,
            "bin_end": 70.5,
            "count": 0
           },
           {
            "bin_start": 70.5,
            "bin_end": 76,
            "count": 1
           }
          ]
         }
        },
        {
         "name": "region_code",
         "dtype": "float64",
         "stats": {
          "unique_count": 4,
          "nan_count": 0,
          "min": "3.0",
          "max": "41.0",
          "histogram": [
           {
            "bin_start": 3,
            "bin_end": 6.8,
            "count": 1
           },
           {
            "bin_start": 6.8,
            "bin_end": 10.6,
            "count": 0
           },
           {
            "bin_start": 10.6,
            "bin_end": 14.399999999999999,
            "count": 1
           },
           {
            "bin_start": 14.399999999999999,
            "bin_end": 18.2,
            "count": 0
           },
           {
            "bin_start": 18.2,
            "bin_end": 22,
            "count": 0
           },
           {
            "bin_start": 22,
            "bin_end": 25.799999999999997,
            "count": 0
           },
           {
            "bin_start": 25.799999999999997,
            "bin_end": 29.599999999999998,
            "count": 2
           },
           {
            "bin_start": 29.599999999999998,
            "bin_end": 33.4,
            "count": 0
           },
           {
            "bin_start": 33.4,
            "bin_end": 37.199999999999996,
            "count": 0
           },
           {
            "bin_start": 37.199999999999996,
            "bin_end": 41,
            "count": 1
           }
          ]
         }
        },
        {
         "name": "policy_sales_channel",
         "dtype": "float64",
         "stats": {
          "unique_count": 2,
          "nan_count": 0,
          "min": "26.0",
          "max": "152.0",
          "histogram": [
           {
            "bin_start": 26,
            "bin_end": 38.6,
            "count": 3
           },
           {
            "bin_start": 38.6,
            "bin_end": 51.2,
            "count": 0
           },
           {
            "bin_start": 51.2,
            "bin_end": 63.8,
            "count": 0
           },
           {
            "bin_start": 63.8,
            "bin_end": 76.4,
            "count": 0
           },
           {
            "bin_start": 76.4,
            "bin_end": 89,
            "count": 0
           },
           {
            "bin_start": 89,
            "bin_end": 101.6,
            "count": 0
           },
           {
            "bin_start": 101.6,
            "bin_end": 114.2,
            "count": 0
           },
           {
            "bin_start": 114.2,
            "bin_end": 126.8,
            "count": 0
           },
           {
            "bin_start": 126.8,
            "bin_end": 139.39999999999998,
            "count": 0
           },
           {
            "bin_start": 139.39999999999998,
            "bin_end": 152,
            "count": 2
           }
          ]
         }
        },
        {
         "name": "previously_insured",
         "dtype": "int64",
         "stats": {
          "unique_count": 2,
          "nan_count": 0,
          "min": "0",
          "max": "1",
          "histogram": [
           {
            "bin_start": 0,
            "bin_end": 0.1,
            "count": 3
           },
           {
            "bin_start": 0.1,
            "bin_end": 0.2,
            "count": 0
           },
           {
            "bin_start": 0.2,
            "bin_end": 0.30000000000000004,
            "count": 0
           },
           {
            "bin_start": 0.30000000000000004,
            "bin_end": 0.4,
            "count": 0
           },
           {
            "bin_start": 0.4,
            "bin_end": 0.5,
            "count": 0
           },
           {
            "bin_start": 0.5,
            "bin_end": 0.6000000000000001,
            "count": 0
           },
           {
            "bin_start": 0.6000000000000001,
            "bin_end": 0.7000000000000001,
            "count": 0
           },
           {
            "bin_start": 0.7000000000000001,
            "bin_end": 0.8,
            "count": 0
           },
           {
            "bin_start": 0.8,
            "bin_end": 0.9,
            "count": 0
           },
           {
            "bin_start": 0.9,
            "bin_end": 1,
            "count": 2
           }
          ]
         }
        },
        {
         "name": "annual_premium",
         "dtype": "float64",
         "stats": {
          "unique_count": 5,
          "nan_count": 0,
          "min": "27496.0",
          "max": "40454.0",
          "histogram": [
           {
            "bin_start": 27496,
            "bin_end": 28791.8,
            "count": 2
           },
           {
            "bin_start": 28791.8,
            "bin_end": 30087.6,
            "count": 0
           },
           {
            "bin_start": 30087.6,
            "bin_end": 31383.4,
            "count": 0
           },
           {
            "bin_start": 31383.4,
            "bin_end": 32679.2,
            "count": 0
           },
           {
            "bin_start": 32679.2,
            "bin_end": 33975,
            "count": 1
           },
           {
            "bin_start": 33975,
            "bin_end": 35270.8,
            "count": 0
           },
           {
            "bin_start": 35270.8,
            "bin_end": 36566.6,
            "count": 0
           },
           {
            "bin_start": 36566.6,
            "bin_end": 37862.4,
            "count": 0
           },
           {
            "bin_start": 37862.4,
            "bin_end": 39158.2,
            "count": 1
           },
           {
            "bin_start": 39158.2,
            "bin_end": 40454,
            "count": 1
           }
          ]
         }
        },
        {
         "name": "vintage",
         "dtype": "int64",
         "stats": {
          "unique_count": 5,
          "nan_count": 0,
          "min": "27",
          "max": "217",
          "histogram": [
           {
            "bin_start": 27,
            "bin_end": 46,
            "count": 2
           },
           {
            "bin_start": 46,
            "bin_end": 65,
            "count": 0
           },
           {
            "bin_start": 65,
            "bin_end": 84,
            "count": 0
           },
           {
            "bin_start": 84,
            "bin_end": 103,
            "count": 0
           },
           {
            "bin_start": 103,
            "bin_end": 122,
            "count": 0
           },
           {
            "bin_start": 122,
            "bin_end": 141,
            "count": 0
           },
           {
            "bin_start": 141,
            "bin_end": 160,
            "count": 0
           },
           {
            "bin_start": 160,
            "bin_end": 179,
            "count": 0
           },
           {
            "bin_start": 179,
            "bin_end": 198,
            "count": 1
           },
           {
            "bin_start": 198,
            "bin_end": 217,
            "count": 2
           }
          ]
         }
        },
        {
         "name": "vehicle_age",
         "dtype": "object",
         "stats": {
          "unique_count": 3,
          "nan_count": 0,
          "categories": [
           {
            "name": "> 2 Years",
            "count": 2
           },
           {
            "name": "< 1 Year",
            "count": 2
           },
           {
            "name": "1-2 Year",
            "count": 1
           }
          ]
         }
        },
        {
         "name": "vehicle_damage",
         "dtype": "int64",
         "stats": {
          "unique_count": 2,
          "nan_count": 0,
          "min": "0",
          "max": "1",
          "histogram": [
           {
            "bin_start": 0,
            "bin_end": 0.1,
            "count": 3
           },
           {
            "bin_start": 0.1,
            "bin_end": 0.2,
            "count": 0
           },
           {
            "bin_start": 0.2,
            "bin_end": 0.30000000000000004,
            "count": 0
           },
           {
            "bin_start": 0.30000000000000004,
            "bin_end": 0.4,
            "count": 0
           },
           {
            "bin_start": 0.4,
            "bin_end": 0.5,
            "count": 0
           },
           {
            "bin_start": 0.5,
            "bin_end": 0.6000000000000001,
            "count": 0
           },
           {
            "bin_start": 0.6000000000000001,
            "bin_end": 0.7000000000000001,
            "count": 0
           },
           {
            "bin_start": 0.7000000000000001,
            "bin_end": 0.8,
            "count": 0
           },
           {
            "bin_start": 0.8,
            "bin_end": 0.9,
            "count": 0
           },
           {
            "bin_start": 0.9,
            "bin_end": 1,
            "count": 2
           }
          ]
         }
        },
        {
         "name": "response",
         "dtype": "int64",
         "stats": {
          "unique_count": 2,
          "nan_count": 0,
          "min": "0",
          "max": "1",
          "histogram": [
           {
            "bin_start": 0,
            "bin_end": 0.1,
            "count": 3
           },
           {
            "bin_start": 0.1,
            "bin_end": 0.2,
            "count": 0
           },
           {
            "bin_start": 0.2,
            "bin_end": 0.30000000000000004,
            "count": 0
           },
           {
            "bin_start": 0.30000000000000004,
            "bin_end": 0.4,
            "count": 0
           },
           {
            "bin_start": 0.4,
            "bin_end": 0.5,
            "count": 0
           },
           {
            "bin_start": 0.5,
            "bin_end": 0.6000000000000001,
            "count": 0
           },
           {
            "bin_start": 0.6000000000000001,
            "bin_end": 0.7000000000000001,
            "count": 0
           },
           {
            "bin_start": 0.7000000000000001,
            "bin_end": 0.8,
            "count": 0
           },
           {
            "bin_start": 0.8,
            "bin_end": 0.9,
            "count": 0
           },
           {
            "bin_start": 0.9,
            "bin_end": 1,
            "count": 2
           }
          ]
         }
        },
        {
         "name": "_deepnote_index_column",
         "dtype": "int64"
        }
       ],
       "rows": [
        {
         "id": "1",
         "gender": "Male",
         "age": "44",
         "region_code": "28.0",
         "policy_sales_channel": "26.0",
         "previously_insured": "0",
         "annual_premium": "40454.0",
         "vintage": "217",
         "vehicle_age": "> 2 Years",
         "vehicle_damage": "1",
         "response": "1",
         "_deepnote_index_column": "0"
        },
        {
         "id": "2",
         "gender": "Male",
         "age": "76",
         "region_code": "3.0",
         "policy_sales_channel": "26.0",
         "previously_insured": "0",
         "annual_premium": "33536.0",
         "vintage": "183",
         "vehicle_age": "1-2 Year",
         "vehicle_damage": "0",
         "response": "0",
         "_deepnote_index_column": "1"
        },
        {
         "id": "3",
         "gender": "Male",
         "age": "47",
         "region_code": "28.0",
         "policy_sales_channel": "26.0",
         "previously_insured": "0",
         "annual_premium": "38294.0",
         "vintage": "27",
         "vehicle_age": "> 2 Years",
         "vehicle_damage": "1",
         "response": "1",
         "_deepnote_index_column": "2"
        },
        {
         "id": "4",
         "gender": "Male",
         "age": "21",
         "region_code": "11.0",
         "policy_sales_channel": "152.0",
         "previously_insured": "1",
         "annual_premium": "28619.0",
         "vintage": "203",
         "vehicle_age": "< 1 Year",
         "vehicle_damage": "0",
         "response": "0",
         "_deepnote_index_column": "3"
        },
        {
         "id": "5",
         "gender": "Female",
         "age": "29",
         "region_code": "41.0",
         "policy_sales_channel": "152.0",
         "previously_insured": "1",
         "annual_premium": "27496.0",
         "vintage": "39",
         "vehicle_age": "< 1 Year",
         "vehicle_damage": "0",
         "response": "0",
         "_deepnote_index_column": "4"
        }
       ]
      },
      "text/plain": "   id  gender  age  region_code  policy_sales_channel  previously_insured  \\\n0   1    Male   44         28.0                  26.0                   0   \n1   2    Male   76          3.0                  26.0                   0   \n2   3    Male   47         28.0                  26.0                   0   \n3   4    Male   21         11.0                 152.0                   1   \n4   5  Female   29         41.0                 152.0                   1   \n\n   annual_premium  vintage vehicle_age  vehicle_damage  response  \n0         40454.0      217   > 2 Years               1         1  \n1         33536.0      183    1-2 Year               0         0  \n2         38294.0       27   > 2 Years               1         1  \n3         28619.0      203    < 1 Year               0         0  \n4         27496.0       39    < 1 Year               0         0  ",
      "text/html": "<div>\n<style scoped>\n    .dataframe tbody tr th:only-of-type {\n        vertical-align: middle;\n    }\n\n    .dataframe tbody tr th {\n        vertical-align: top;\n    }\n\n    .dataframe thead th {\n        text-align: right;\n    }\n</style>\n<table border=\"1\" class=\"dataframe\">\n  <thead>\n    <tr style=\"text-align: right;\">\n      <th></th>\n      <th>id</th>\n      <th>gender</th>\n      <th>age</th>\n      <th>region_code</th>\n      <th>policy_sales_channel</th>\n      <th>previously_insured</th>\n      <th>annual_premium</th>\n      <th>vintage</th>\n      <th>vehicle_age</th>\n      <th>vehicle_damage</th>\n      <th>response</th>\n    </tr>\n  </thead>\n  <tbody>\n    <tr>\n      <th>0</th>\n      <td>1</td>\n      <td>Male</td>\n      <td>44</td>\n      <td>28.0</td>\n      <td>26.0</td>\n      <td>0</td>\n      <td>40454.0</td>\n      <td>217</td>\n      <td>&gt; 2 Years</td>\n      <td>1</td>\n      <td>1</td>\n    </tr>\n    <tr>\n      <th>1</th>\n      <td>2</td>\n      <td>Male</td>\n      <td>76</td>\n      <td>3.0</td>\n      <td>26.0</td>\n      <td>0</td>\n      <td>33536.0</td>\n      <td>183</td>\n      <td>1-2 Year</td>\n      <td>0</td>\n      <td>0</td>\n    </tr>\n    <tr>\n      <th>2</th>\n      <td>3</td>\n      <td>Male</td>\n      <td>47</td>\n      <td>28.0</td>\n      <td>26.0</td>\n      <td>0</td>\n      <td>38294.0</td>\n      <td>27</td>\n      <td>&gt; 2 Years</td>\n      <td>1</td>\n      <td>1</td>\n    </tr>\n    <tr>\n      <th>3</th>\n      <td>4</td>\n      <td>Male</td>\n      <td>21</td>\n      <td>11.0</td>\n      <td>152.0</td>\n      <td>1</td>\n      <td>28619.0</td>\n      <td>203</td>\n      <td>&lt; 1 Year</td>\n      <td>0</td>\n      <td>0</td>\n    </tr>\n    <tr>\n      <th>4</th>\n      <td>5</td>\n      <td>Female</td>\n      <td>29</td>\n      <td>41.0</td>\n      <td>152.0</td>\n      <td>1</td>\n      <td>27496.0</td>\n      <td>39</td>\n      <td>&lt; 1 Year</td>\n      <td>0</td>\n      <td>0</td>\n    </tr>\n  </tbody>\n</table>\n</div>"
     },
     "metadata": {}
    }
   ],
   "execution_count": null
  },
  {
   "cell_type": "code",
   "source": "df4.dtypes",
   "metadata": {
    "ExecuteTime": {
     "end_time": "2022-08-30T00:39:48.301028Z",
     "start_time": "2022-08-30T00:39:48.269786Z"
    },
    "cell_id": "00007-f8be2307-b092-455f-b264-9ed4cf4b28ee",
    "deepnote_to_be_reexecuted": false,
    "source_hash": "2827659f",
    "execution_start": 1661863726353,
    "execution_millis": 8,
    "deepnote_cell_type": "code",
    "deepnote_cell_height": 322.3999938964844,
    "deepnote_output_heights": [
     231
    ]
   },
   "outputs": [
    {
     "output_type": "execute_result",
     "execution_count": 5,
     "data": {
      "text/plain": "id                        int64\ngender                   object\nage                       int64\nregion_code             float64\npolicy_sales_channel    float64\npreviously_insured        int64\nannual_premium          float64\nvintage                   int64\nvehicle_age              object\nvehicle_damage            int64\nresponse                  int64\ndtype: object"
     },
     "metadata": {}
    }
   ],
   "execution_count": null
  },
  {
   "cell_type": "markdown",
   "source": "# Rescaling",
   "metadata": {
    "cell_id": "00008-f9bc15d8-0af4-49ba-9723-9aac59f3e2a4",
    "deepnote_cell_type": "markdown",
    "deepnote_cell_height": 81.60000610351562
   }
  },
  {
   "cell_type": "code",
   "source": "rs = RobustScaler()\nmms = MinMaxScaler()\n# Min - max sacaler\ndf4['age'] = mms.fit_transform(df4[['age']].values)\n\ndf4['vintage'] = mms.fit_transform(df4[['vintage']].values)\n\n# Robuster scaler\ndf4['annual_premium'] = rs.fit_transform(df4[['annual_premium']].values)",
   "metadata": {
    "ExecuteTime": {
     "end_time": "2022-08-30T00:39:48.501514Z",
     "start_time": "2022-08-30T00:39:48.301028Z"
    },
    "cell_id": "00009-321f3a72-ab3f-4b65-9705-b08df466c733",
    "deepnote_to_be_reexecuted": false,
    "source_hash": "b9ec148c",
    "execution_start": 1661863726407,
    "execution_millis": 139,
    "deepnote_cell_type": "code",
    "deepnote_cell_height": 219.60000610351562
   },
   "outputs": [],
   "execution_count": null
  },
  {
   "cell_type": "markdown",
   "source": "# Encoding",
   "metadata": {
    "cell_id": "c7a896ab86494f84b87ca780cc4d1465",
    "tags": [],
    "deepnote_cell_type": "markdown",
    "deepnote_cell_height": 81.60000610351562
   }
  },
  {
   "cell_type": "code",
   "source": "df4['gender'] = df4['gender'].apply(lambda x: 1 if x=='Female' else (0 if x=='Male' else x))\n\n# vehicle_age ordinal scale\nvehicle_age_dict = {'> 2 Years':3, '1-2 Year':2, '< 1 Year':1}\ndf4['vehicle_age'] = df4['vehicle_age'].map(vehicle_age_dict)",
   "metadata": {
    "cell_id": "c7d4d31642c0404a88fa6d49b866c92e",
    "tags": [],
    "deepnote_to_be_reexecuted": false,
    "source_hash": "9fd5c4f4",
    "execution_start": 1661863726553,
    "execution_millis": 585,
    "deepnote_cell_type": "code",
    "deepnote_cell_height": 147.60000610351562
   },
   "outputs": [],
   "execution_count": null
  },
  {
   "cell_type": "code",
   "source": "df4.head()",
   "metadata": {
    "cell_id": "a2765994d45c4bf591adb3a18afb3cce",
    "tags": [],
    "deepnote_to_be_reexecuted": false,
    "source_hash": "c276eb85",
    "execution_start": 1661863727147,
    "execution_millis": 99,
    "deepnote_cell_type": "code",
    "deepnote_cell_height": 389.20001220703125
   },
   "outputs": [
    {
     "output_type": "execute_result",
     "execution_count": 8,
     "data": {
      "application/vnd.deepnote.dataframe.v3+json": {
       "column_count": 11,
       "row_count": 5,
       "columns": [
        {
         "name": "id",
         "dtype": "int64",
         "stats": {
          "unique_count": 5,
          "nan_count": 0,
          "min": "1",
          "max": "5",
          "histogram": [
           {
            "bin_start": 1,
            "bin_end": 1.4,
            "count": 1
           },
           {
            "bin_start": 1.4,
            "bin_end": 1.8,
            "count": 0
           },
           {
            "bin_start": 1.8,
            "bin_end": 2.2,
            "count": 1
           },
           {
            "bin_start": 2.2,
            "bin_end": 2.6,
            "count": 0
           },
           {
            "bin_start": 2.6,
            "bin_end": 3,
            "count": 0
           },
           {
            "bin_start": 3,
            "bin_end": 3.4000000000000004,
            "count": 1
           },
           {
            "bin_start": 3.4000000000000004,
            "bin_end": 3.8000000000000003,
            "count": 0
           },
           {
            "bin_start": 3.8000000000000003,
            "bin_end": 4.2,
            "count": 1
           },
           {
            "bin_start": 4.2,
            "bin_end": 4.6,
            "count": 0
           },
           {
            "bin_start": 4.6,
            "bin_end": 5,
            "count": 1
           }
          ]
         }
        },
        {
         "name": "gender",
         "dtype": "int64",
         "stats": {
          "unique_count": 2,
          "nan_count": 0,
          "min": "0",
          "max": "1",
          "histogram": [
           {
            "bin_start": 0,
            "bin_end": 0.1,
            "count": 4
           },
           {
            "bin_start": 0.1,
            "bin_end": 0.2,
            "count": 0
           },
           {
            "bin_start": 0.2,
            "bin_end": 0.30000000000000004,
            "count": 0
           },
           {
            "bin_start": 0.30000000000000004,
            "bin_end": 0.4,
            "count": 0
           },
           {
            "bin_start": 0.4,
            "bin_end": 0.5,
            "count": 0
           },
           {
            "bin_start": 0.5,
            "bin_end": 0.6000000000000001,
            "count": 0
           },
           {
            "bin_start": 0.6000000000000001,
            "bin_end": 0.7000000000000001,
            "count": 0
           },
           {
            "bin_start": 0.7000000000000001,
            "bin_end": 0.8,
            "count": 0
           },
           {
            "bin_start": 0.8,
            "bin_end": 0.9,
            "count": 0
           },
           {
            "bin_start": 0.9,
            "bin_end": 1,
            "count": 1
           }
          ]
         }
        },
        {
         "name": "age",
         "dtype": "float64",
         "stats": {
          "unique_count": 5,
          "nan_count": 0,
          "min": "0.015384615384615385",
          "max": "0.8615384615384616",
          "histogram": [
           {
            "bin_start": 0.015384615384615385,
            "bin_end": 0.1,
            "count": 1
           },
           {
            "bin_start": 0.1,
            "bin_end": 0.18461538461538463,
            "count": 1
           },
           {
            "bin_start": 0.18461538461538463,
            "bin_end": 0.2692307692307692,
            "count": 0
           },
           {
            "bin_start": 0.2692307692307692,
            "bin_end": 0.35384615384615387,
            "count": 0
           },
           {
            "bin_start": 0.35384615384615387,
            "bin_end": 0.4384615384615385,
            "count": 2
           },
           {
            "bin_start": 0.4384615384615385,
            "bin_end": 0.523076923076923,
            "count": 0
           },
           {
            "bin_start": 0.523076923076923,
            "bin_end": 0.6076923076923078,
            "count": 0
           },
           {
            "bin_start": 0.6076923076923078,
            "bin_end": 0.6923076923076923,
            "count": 0
           },
           {
            "bin_start": 0.6923076923076923,
            "bin_end": 0.776923076923077,
            "count": 0
           },
           {
            "bin_start": 0.776923076923077,
            "bin_end": 0.8615384615384616,
            "count": 1
           }
          ]
         }
        },
        {
         "name": "region_code",
         "dtype": "float64",
         "stats": {
          "unique_count": 4,
          "nan_count": 0,
          "min": "3.0",
          "max": "41.0",
          "histogram": [
           {
            "bin_start": 3,
            "bin_end": 6.8,
            "count": 1
           },
           {
            "bin_start": 6.8,
            "bin_end": 10.6,
            "count": 0
           },
           {
            "bin_start": 10.6,
            "bin_end": 14.399999999999999,
            "count": 1
           },
           {
            "bin_start": 14.399999999999999,
            "bin_end": 18.2,
            "count": 0
           },
           {
            "bin_start": 18.2,
            "bin_end": 22,
            "count": 0
           },
           {
            "bin_start": 22,
            "bin_end": 25.799999999999997,
            "count": 0
           },
           {
            "bin_start": 25.799999999999997,
            "bin_end": 29.599999999999998,
            "count": 2
           },
           {
            "bin_start": 29.599999999999998,
            "bin_end": 33.4,
            "count": 0
           },
           {
            "bin_start": 33.4,
            "bin_end": 37.199999999999996,
            "count": 0
           },
           {
            "bin_start": 37.199999999999996,
            "bin_end": 41,
            "count": 1
           }
          ]
         }
        },
        {
         "name": "policy_sales_channel",
         "dtype": "float64",
         "stats": {
          "unique_count": 2,
          "nan_count": 0,
          "min": "26.0",
          "max": "152.0",
          "histogram": [
           {
            "bin_start": 26,
            "bin_end": 38.6,
            "count": 3
           },
           {
            "bin_start": 38.6,
            "bin_end": 51.2,
            "count": 0
           },
           {
            "bin_start": 51.2,
            "bin_end": 63.8,
            "count": 0
           },
           {
            "bin_start": 63.8,
            "bin_end": 76.4,
            "count": 0
           },
           {
            "bin_start": 76.4,
            "bin_end": 89,
            "count": 0
           },
           {
            "bin_start": 89,
            "bin_end": 101.6,
            "count": 0
           },
           {
            "bin_start": 101.6,
            "bin_end": 114.2,
            "count": 0
           },
           {
            "bin_start": 114.2,
            "bin_end": 126.8,
            "count": 0
           },
           {
            "bin_start": 126.8,
            "bin_end": 139.39999999999998,
            "count": 0
           },
           {
            "bin_start": 139.39999999999998,
            "bin_end": 152,
            "count": 2
           }
          ]
         }
        },
        {
         "name": "previously_insured",
         "dtype": "int64",
         "stats": {
          "unique_count": 2,
          "nan_count": 0,
          "min": "0",
          "max": "1",
          "histogram": [
           {
            "bin_start": 0,
            "bin_end": 0.1,
            "count": 3
           },
           {
            "bin_start": 0.1,
            "bin_end": 0.2,
            "count": 0
           },
           {
            "bin_start": 0.2,
            "bin_end": 0.30000000000000004,
            "count": 0
           },
           {
            "bin_start": 0.30000000000000004,
            "bin_end": 0.4,
            "count": 0
           },
           {
            "bin_start": 0.4,
            "bin_end": 0.5,
            "count": 0
           },
           {
            "bin_start": 0.5,
            "bin_end": 0.6000000000000001,
            "count": 0
           },
           {
            "bin_start": 0.6000000000000001,
            "bin_end": 0.7000000000000001,
            "count": 0
           },
           {
            "bin_start": 0.7000000000000001,
            "bin_end": 0.8,
            "count": 0
           },
           {
            "bin_start": 0.8,
            "bin_end": 0.9,
            "count": 0
           },
           {
            "bin_start": 0.9,
            "bin_end": 1,
            "count": 2
           }
          ]
         }
        },
        {
         "name": "annual_premium",
         "dtype": "float64",
         "stats": {
          "unique_count": 5,
          "nan_count": 0,
          "min": "-0.2782927642547516",
          "max": "0.5858619539846616",
          "histogram": [
           {
            "bin_start": -0.2782927642547516,
            "bin_end": -0.19187729243081025,
            "count": 2
           },
           {
            "bin_start": -0.19187729243081025,
            "bin_end": -0.10546182060686896,
            "count": 0
           },
           {
            "bin_start": -0.10546182060686896,
            "bin_end": -0.019046348782927658,
            "count": 0
           },
           {
            "bin_start": -0.019046348782927658,
            "bin_end": 0.06736912304101367,
            "count": 0
           },
           {
            "bin_start": 0.06736912304101367,
            "bin_end": 0.153784594864955,
            "count": 1
           },
           {
            "bin_start": 0.153784594864955,
            "bin_end": 0.24020006668889626,
            "count": 0
           },
           {
            "bin_start": 0.24020006668889626,
            "bin_end": 0.32661553851283764,
            "count": 0
           },
           {
            "bin_start": 0.32661553851283764,
            "bin_end": 0.4130310103367789,
            "count": 0
           },
           {
            "bin_start": 0.4130310103367789,
            "bin_end": 0.4994464821607202,
            "count": 1
           },
           {
            "bin_start": 0.4994464821607202,
            "bin_end": 0.5858619539846616,
            "count": 1
           }
          ]
         }
        },
        {
         "name": "vintage",
         "dtype": "float64",
         "stats": {
          "unique_count": 5,
          "nan_count": 0,
          "min": "0.058823529411764705",
          "max": "0.7162629757785468",
          "histogram": [
           {
            "bin_start": 0.058823529411764705,
            "bin_end": 0.12456747404844291,
            "count": 2
           },
           {
            "bin_start": 0.12456747404844291,
            "bin_end": 0.19031141868512114,
            "count": 0
           },
           {
            "bin_start": 0.19031141868512114,
            "bin_end": 0.25605536332179935,
            "count": 0
           },
           {
            "bin_start": 0.25605536332179935,
            "bin_end": 0.32179930795847755,
            "count": 0
           },
           {
            "bin_start": 0.32179930795847755,
            "bin_end": 0.38754325259515576,
            "count": 0
           },
           {
            "bin_start": 0.38754325259515576,
            "bin_end": 0.45328719723183397,
            "count": 0
           },
           {
            "bin_start": 0.45328719723183397,
            "bin_end": 0.5190311418685122,
            "count": 0
           },
           {
            "bin_start": 0.5190311418685122,
            "bin_end": 0.5847750865051904,
            "count": 0
           },
           {
            "bin_start": 0.5847750865051904,
            "bin_end": 0.6505190311418686,
            "count": 1
           },
           {
            "bin_start": 0.6505190311418686,
            "bin_end": 0.7162629757785468,
            "count": 2
           }
          ]
         }
        },
        {
         "name": "vehicle_age",
         "dtype": "int64",
         "stats": {
          "unique_count": 3,
          "nan_count": 0,
          "min": "1",
          "max": "3",
          "histogram": [
           {
            "bin_start": 1,
            "bin_end": 1.2,
            "count": 2
           },
           {
            "bin_start": 1.2,
            "bin_end": 1.4,
            "count": 0
           },
           {
            "bin_start": 1.4,
            "bin_end": 1.6,
            "count": 0
           },
           {
            "bin_start": 1.6,
            "bin_end": 1.8,
            "count": 0
           },
           {
            "bin_start": 1.8,
            "bin_end": 2,
            "count": 0
           },
           {
            "bin_start": 2,
            "bin_end": 2.2,
            "count": 1
           },
           {
            "bin_start": 2.2,
            "bin_end": 2.4000000000000004,
            "count": 0
           },
           {
            "bin_start": 2.4000000000000004,
            "bin_end": 2.6,
            "count": 0
           },
           {
            "bin_start": 2.6,
            "bin_end": 2.8,
            "count": 0
           },
           {
            "bin_start": 2.8,
            "bin_end": 3,
            "count": 2
           }
          ]
         }
        },
        {
         "name": "vehicle_damage",
         "dtype": "int64",
         "stats": {
          "unique_count": 2,
          "nan_count": 0,
          "min": "0",
          "max": "1",
          "histogram": [
           {
            "bin_start": 0,
            "bin_end": 0.1,
            "count": 3
           },
           {
            "bin_start": 0.1,
            "bin_end": 0.2,
            "count": 0
           },
           {
            "bin_start": 0.2,
            "bin_end": 0.30000000000000004,
            "count": 0
           },
           {
            "bin_start": 0.30000000000000004,
            "bin_end": 0.4,
            "count": 0
           },
           {
            "bin_start": 0.4,
            "bin_end": 0.5,
            "count": 0
           },
           {
            "bin_start": 0.5,
            "bin_end": 0.6000000000000001,
            "count": 0
           },
           {
            "bin_start": 0.6000000000000001,
            "bin_end": 0.7000000000000001,
            "count": 0
           },
           {
            "bin_start": 0.7000000000000001,
            "bin_end": 0.8,
            "count": 0
           },
           {
            "bin_start": 0.8,
            "bin_end": 0.9,
            "count": 0
           },
           {
            "bin_start": 0.9,
            "bin_end": 1,
            "count": 2
           }
          ]
         }
        },
        {
         "name": "response",
         "dtype": "int64",
         "stats": {
          "unique_count": 2,
          "nan_count": 0,
          "min": "0",
          "max": "1",
          "histogram": [
           {
            "bin_start": 0,
            "bin_end": 0.1,
            "count": 3
           },
           {
            "bin_start": 0.1,
            "bin_end": 0.2,
            "count": 0
           },
           {
            "bin_start": 0.2,
            "bin_end": 0.30000000000000004,
            "count": 0
           },
           {
            "bin_start": 0.30000000000000004,
            "bin_end": 0.4,
            "count": 0
           },
           {
            "bin_start": 0.4,
            "bin_end": 0.5,
            "count": 0
           },
           {
            "bin_start": 0.5,
            "bin_end": 0.6000000000000001,
            "count": 0
           },
           {
            "bin_start": 0.6000000000000001,
            "bin_end": 0.7000000000000001,
            "count": 0
           },
           {
            "bin_start": 0.7000000000000001,
            "bin_end": 0.8,
            "count": 0
           },
           {
            "bin_start": 0.8,
            "bin_end": 0.9,
            "count": 0
           },
           {
            "bin_start": 0.9,
            "bin_end": 1,
            "count": 2
           }
          ]
         }
        },
        {
         "name": "_deepnote_index_column",
         "dtype": "int64"
        }
       ],
       "rows": [
        {
         "id": "1",
         "gender": "0",
         "age": "0.36923076923076925",
         "region_code": "28.0",
         "policy_sales_channel": "26.0",
         "previously_insured": "0",
         "annual_premium": "0.5858619539846616",
         "vintage": "0.7162629757785468",
         "vehicle_age": "3",
         "vehicle_damage": "1",
         "response": "1",
         "_deepnote_index_column": "0"
        },
        {
         "id": "2",
         "gender": "0",
         "age": "0.8615384615384616",
         "region_code": "3.0",
         "policy_sales_channel": "26.0",
         "previously_insured": "0",
         "annual_premium": "0.1245081693897966",
         "vintage": "0.5986159169550174",
         "vehicle_age": "2",
         "vehicle_damage": "0",
         "response": "0",
         "_deepnote_index_column": "1"
        },
        {
         "id": "3",
         "gender": "0",
         "age": "0.41538461538461546",
         "region_code": "28.0",
         "policy_sales_channel": "26.0",
         "previously_insured": "0",
         "annual_premium": "0.44181393797932644",
         "vintage": "0.058823529411764705",
         "vehicle_age": "3",
         "vehicle_damage": "1",
         "response": "1",
         "_deepnote_index_column": "2"
        },
        {
         "id": "4",
         "gender": "0",
         "age": "0.015384615384615385",
         "region_code": "11.0",
         "policy_sales_channel": "152.0",
         "previously_insured": "1",
         "annual_premium": "-0.20340113371123708",
         "vintage": "0.6678200692041523",
         "vehicle_age": "1",
         "vehicle_damage": "0",
         "response": "0",
         "_deepnote_index_column": "3"
        },
        {
         "id": "5",
         "gender": "1",
         "age": "0.13846153846153847",
         "region_code": "41.0",
         "policy_sales_channel": "152.0",
         "previously_insured": "1",
         "annual_premium": "-0.2782927642547516",
         "vintage": "0.10034602076124569",
         "vehicle_age": "1",
         "vehicle_damage": "0",
         "response": "0",
         "_deepnote_index_column": "4"
        }
       ]
      },
      "text/plain": "   id  gender       age  region_code  policy_sales_channel  \\\n0   1       0  0.369231         28.0                  26.0   \n1   2       0  0.861538          3.0                  26.0   \n2   3       0  0.415385         28.0                  26.0   \n3   4       0  0.015385         11.0                 152.0   \n4   5       1  0.138462         41.0                 152.0   \n\n   previously_insured  annual_premium   vintage  vehicle_age  vehicle_damage  \\\n0                   0        0.585862  0.716263            3               1   \n1                   0        0.124508  0.598616            2               0   \n2                   0        0.441814  0.058824            3               1   \n3                   1       -0.203401  0.667820            1               0   \n4                   1       -0.278293  0.100346            1               0   \n\n   response  \n0         1  \n1         0  \n2         1  \n3         0  \n4         0  ",
      "text/html": "<div>\n<style scoped>\n    .dataframe tbody tr th:only-of-type {\n        vertical-align: middle;\n    }\n\n    .dataframe tbody tr th {\n        vertical-align: top;\n    }\n\n    .dataframe thead th {\n        text-align: right;\n    }\n</style>\n<table border=\"1\" class=\"dataframe\">\n  <thead>\n    <tr style=\"text-align: right;\">\n      <th></th>\n      <th>id</th>\n      <th>gender</th>\n      <th>age</th>\n      <th>region_code</th>\n      <th>policy_sales_channel</th>\n      <th>previously_insured</th>\n      <th>annual_premium</th>\n      <th>vintage</th>\n      <th>vehicle_age</th>\n      <th>vehicle_damage</th>\n      <th>response</th>\n    </tr>\n  </thead>\n  <tbody>\n    <tr>\n      <th>0</th>\n      <td>1</td>\n      <td>0</td>\n      <td>0.369231</td>\n      <td>28.0</td>\n      <td>26.0</td>\n      <td>0</td>\n      <td>0.585862</td>\n      <td>0.716263</td>\n      <td>3</td>\n      <td>1</td>\n      <td>1</td>\n    </tr>\n    <tr>\n      <th>1</th>\n      <td>2</td>\n      <td>0</td>\n      <td>0.861538</td>\n      <td>3.0</td>\n      <td>26.0</td>\n      <td>0</td>\n      <td>0.124508</td>\n      <td>0.598616</td>\n      <td>2</td>\n      <td>0</td>\n      <td>0</td>\n    </tr>\n    <tr>\n      <th>2</th>\n      <td>3</td>\n      <td>0</td>\n      <td>0.415385</td>\n      <td>28.0</td>\n      <td>26.0</td>\n      <td>0</td>\n      <td>0.441814</td>\n      <td>0.058824</td>\n      <td>3</td>\n      <td>1</td>\n      <td>1</td>\n    </tr>\n    <tr>\n      <th>3</th>\n      <td>4</td>\n      <td>0</td>\n      <td>0.015385</td>\n      <td>11.0</td>\n      <td>152.0</td>\n      <td>1</td>\n      <td>-0.203401</td>\n      <td>0.667820</td>\n      <td>1</td>\n      <td>0</td>\n      <td>0</td>\n    </tr>\n    <tr>\n      <th>4</th>\n      <td>5</td>\n      <td>1</td>\n      <td>0.138462</td>\n      <td>41.0</td>\n      <td>152.0</td>\n      <td>1</td>\n      <td>-0.278293</td>\n      <td>0.100346</td>\n      <td>1</td>\n      <td>0</td>\n      <td>0</td>\n    </tr>\n  </tbody>\n</table>\n</div>"
     },
     "metadata": {}
    }
   ],
   "execution_count": null
  },
  {
   "cell_type": "code",
   "source": "df4.to_csv('data/df4.csv',index=False)",
   "metadata": {
    "cell_id": "cc2254c6f4a04f24b1a75def81fcc6dc",
    "tags": [],
    "deepnote_to_be_reexecuted": false,
    "source_hash": "9f1c1360",
    "execution_start": 1661863772658,
    "execution_millis": 8814,
    "deepnote_cell_type": "code",
    "deepnote_cell_height": 75.60000610351562
   },
   "outputs": [],
   "execution_count": null
  },
  {
   "cell_type": "markdown",
   "source": "<a style='text-decoration:none;line-height:16px;display:flex;color:#5B5B62;padding:10px;justify-content:end;' href='https://deepnote.com?utm_source=created-in-deepnote-cell&projectId=3161d838-98a4-47ed-ae81-127ad2068af4' target=\"_blank\">\n<img alt='Created in deepnote.com' style='display:inline;max-height:16px;margin:0px;margin-right:7.5px;' src='data:image/svg+xml;base64,PD94bWwgdmVyc2lvbj0iMS4wIiBlbmNvZGluZz0iVVRGLTgiPz4KPHN2ZyB3aWR0aD0iODBweCIgaGVpZ2h0PSI4MHB4IiB2aWV3Qm94PSIwIDAgODAgODAiIHZlcnNpb249IjEuMSIgeG1sbnM9Imh0dHA6Ly93d3cudzMub3JnLzIwMDAvc3ZnIiB4bWxuczp4bGluaz0iaHR0cDovL3d3dy53My5vcmcvMTk5OS94bGluayI+CiAgICA8IS0tIEdlbmVyYXRvcjogU2tldGNoIDU0LjEgKDc2NDkwKSAtIGh0dHBzOi8vc2tldGNoYXBwLmNvbSAtLT4KICAgIDx0aXRsZT5Hcm91cCAzPC90aXRsZT4KICAgIDxkZXNjPkNyZWF0ZWQgd2l0aCBTa2V0Y2guPC9kZXNjPgogICAgPGcgaWQ9IkxhbmRpbmciIHN0cm9rZT0ibm9uZSIgc3Ryb2tlLXdpZHRoPSIxIiBmaWxsPSJub25lIiBmaWxsLXJ1bGU9ImV2ZW5vZGQiPgogICAgICAgIDxnIGlkPSJBcnRib2FyZCIgdHJhbnNmb3JtPSJ0cmFuc2xhdGUoLTEyMzUuMDAwMDAwLCAtNzkuMDAwMDAwKSI+CiAgICAgICAgICAgIDxnIGlkPSJHcm91cC0zIiB0cmFuc2Zvcm09InRyYW5zbGF0ZSgxMjM1LjAwMDAwMCwgNzkuMDAwMDAwKSI+CiAgICAgICAgICAgICAgICA8cG9seWdvbiBpZD0iUGF0aC0yMCIgZmlsbD0iIzAyNjVCNCIgcG9pbnRzPSIyLjM3NjIzNzYyIDgwIDM4LjA0NzY2NjcgODAgNTcuODIxNzgyMiA3My44MDU3NTkyIDU3LjgyMTc4MjIgMzIuNzU5MjczOSAzOS4xNDAyMjc4IDMxLjY4MzE2ODMiPjwvcG9seWdvbj4KICAgICAgICAgICAgICAgIDxwYXRoIGQ9Ik0zNS4wMDc3MTgsODAgQzQyLjkwNjIwMDcsNzYuNDU0OTM1OCA0Ny41NjQ5MTY3LDcxLjU0MjI2NzEgNDguOTgzODY2LDY1LjI2MTk5MzkgQzUxLjExMjI4OTksNTUuODQxNTg0MiA0MS42NzcxNzk1LDQ5LjIxMjIyODQgMjUuNjIzOTg0Niw0OS4yMTIyMjg0IEMyNS40ODQ5Mjg5LDQ5LjEyNjg0NDggMjkuODI2MTI5Niw0My4yODM4MjQ4IDM4LjY0NzU4NjksMzEuNjgzMTY4MyBMNzIuODcxMjg3MSwzMi41NTQ0MjUgTDY1LjI4MDk3Myw2Ny42NzYzNDIxIEw1MS4xMTIyODk5LDc3LjM3NjE0NCBMMzUuMDA3NzE4LDgwIFoiIGlkPSJQYXRoLTIyIiBmaWxsPSIjMDAyODY4Ij48L3BhdGg+CiAgICAgICAgICAgICAgICA8cGF0aCBkPSJNMCwzNy43MzA0NDA1IEwyNy4xMTQ1MzcsMC4yNTcxMTE0MzYgQzYyLjM3MTUxMjMsLTEuOTkwNzE3MDEgODAsMTAuNTAwMzkyNyA4MCwzNy43MzA0NDA1IEM4MCw2NC45NjA0ODgyIDY0Ljc3NjUwMzgsNzkuMDUwMzQxNCAzNC4zMjk1MTEzLDgwIEM0Ny4wNTUzNDg5LDc3LjU2NzA4MDggNTMuNDE4MjY3Nyw3MC4zMTM2MTAzIDUzLjQxODI2NzcsNTguMjM5NTg4NSBDNTMuNDE4MjY3Nyw0MC4xMjg1NTU3IDM2LjMwMzk1NDQsMzcuNzMwNDQwNSAyNS4yMjc0MTcsMzcuNzMwNDQwNSBDMTcuODQzMDU4NiwzNy43MzA0NDA1IDkuNDMzOTE5NjYsMzcuNzMwNDQwNSAwLDM3LjczMDQ0MDUgWiIgaWQ9IlBhdGgtMTkiIGZpbGw9IiMzNzkzRUYiPjwvcGF0aD4KICAgICAgICAgICAgPC9nPgogICAgICAgIDwvZz4KICAgIDwvZz4KPC9zdmc+' > </img>\nCreated in <span style='font-weight:600;margin-left:4px;'>Deepnote</span></a>",
   "metadata": {
    "tags": [],
    "created_in_deepnote_cell": true,
    "deepnote_cell_type": "markdown"
   }
  }
 ],
 "nbformat": 4,
 "nbformat_minor": 4,
 "metadata": {
  "kernelspec": {
   "display_name": "Python 3",
   "language": "python",
   "name": "python3"
  },
  "language_info": {
   "codemirror_mode": {
    "name": "ipython",
    "version": 3
   },
   "file_extension": ".py",
   "mimetype": "text/x-python",
   "name": "python",
   "nbconvert_exporter": "python",
   "pygments_lexer": "ipython3",
   "version": "3.8.5"
  },
  "deepnote_notebook_id": "de28358c-fdbd-475d-8af9-aaa63649a58a",
  "deepnote": {},
  "deepnote_execution_queue": []
 }
}