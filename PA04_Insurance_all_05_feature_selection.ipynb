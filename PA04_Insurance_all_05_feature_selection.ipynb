{
 "cells": [
  {
   "cell_type": "markdown",
   "source": "# Imports",
   "metadata": {
    "cell_id": "212708af50214a78910b537f94e104c6",
    "tags": [],
    "deepnote_cell_type": "markdown",
    "deepnote_cell_height": 81.60000610351562
   }
  },
  {
   "cell_type": "code",
   "source": "import pandas as pd\nimport numpy as np\nimport seaborn as sns\nimport matplotlib.pyplot as plt\nfrom IPython.core.display import HTML\nfrom IPython.display import Image\nfrom scipy import stats\nfrom sklearn.preprocessing import RobustScaler, MinMaxScaler# Start writing code here...",
   "metadata": {
    "tags": [],
    "cell_id": "5e7d084a-f3be-4dbf-8839-c97912c25066",
    "deepnote_to_be_reexecuted": false,
    "source_hash": "a156261c",
    "execution_start": 1661864310290,
    "execution_millis": 3275,
    "deepnote_cell_type": "code",
    "deepnote_cell_height": 201.60000610351562
   },
   "outputs": [],
   "execution_count": null
  },
  {
   "cell_type": "markdown",
   "source": "# Helper functions",
   "metadata": {
    "cell_id": "1289ff42ed1b4ba893e01759d632e489",
    "tags": [],
    "deepnote_to_be_reexecuted": false,
    "source_hash": "7e52a908",
    "execution_start": 1661864259673,
    "execution_millis": 2,
    "deepnote_cell_type": "markdown",
    "deepnote_cell_height": 81.60000610351562
   }
  },
  {
   "cell_type": "code",
   "source": "def jupyter_settings():\n    %matplotlib inline\n    %pylab inline\n    plt.style.use( 'bmh' )\n    plt.rcParams['figure.figsize'] = [25, 12]\n    plt.rcParams['font.size'] = 24\n    display( HTML( '<style>.container { width:100% !important; }</style>') )\n    sns.set()\njupyter_settings()",
   "metadata": {
    "cell_id": "ed3fd78355f94579a665b0fa4d1ddfe7",
    "tags": [],
    "deepnote_to_be_reexecuted": false,
    "source_hash": "46a4bb4d",
    "execution_start": 1661864313619,
    "execution_millis": 46,
    "deepnote_cell_type": "code",
    "deepnote_cell_height": 302.20001220703125,
    "deepnote_output_heights": [
     null,
     1
    ]
   },
   "outputs": [
    {
     "name": "stdout",
     "text": "%pylab is deprecated, use %matplotlib inline and import the required libraries.\nPopulating the interactive namespace from numpy and matplotlib\n",
     "output_type": "stream"
    },
    {
     "data": {
      "text/plain": "<IPython.core.display.HTML object>",
      "text/html": "<style>.container { width:100% !important; }</style>"
     },
     "metadata": {},
     "output_type": "display_data"
    }
   ],
   "execution_count": null
  },
  {
   "cell_type": "markdown",
   "source": "# Load functions",
   "metadata": {
    "cell_id": "588de57180ca403db6d9b5681a5d4417",
    "tags": [],
    "deepnote_cell_type": "markdown",
    "deepnote_cell_height": 81.60000610351562
   }
  },
  {
   "cell_type": "code",
   "source": "df5 = pd.read_csv('data/df4.csv')",
   "metadata": {
    "cell_id": "cead86bb780842739ab760f76b30e879",
    "tags": [],
    "deepnote_to_be_reexecuted": false,
    "source_hash": "1b473213",
    "execution_start": 1661864583311,
    "execution_millis": 1155,
    "deepnote_cell_type": "code",
    "deepnote_cell_height": 75.60000610351562
   },
   "outputs": [],
   "execution_count": null
  },
  {
   "cell_type": "code",
   "source": "df5.head()",
   "metadata": {
    "cell_id": "3a20fe3772ad44ad8f13ebfdbc7195dc",
    "tags": [],
    "deepnote_to_be_reexecuted": false,
    "source_hash": "306cd46f",
    "execution_start": 1661864589788,
    "execution_millis": 169,
    "deepnote_cell_type": "code",
    "deepnote_cell_height": 389.20001220703125
   },
   "outputs": [
    {
     "output_type": "execute_result",
     "execution_count": 4,
     "data": {
      "application/vnd.deepnote.dataframe.v3+json": {
       "column_count": 11,
       "row_count": 5,
       "columns": [
        {
         "name": "id",
         "dtype": "int64",
         "stats": {
          "unique_count": 5,
          "nan_count": 0,
          "min": "1",
          "max": "5",
          "histogram": [
           {
            "bin_start": 1,
            "bin_end": 1.4,
            "count": 1
           },
           {
            "bin_start": 1.4,
            "bin_end": 1.8,
            "count": 0
           },
           {
            "bin_start": 1.8,
            "bin_end": 2.2,
            "count": 1
           },
           {
            "bin_start": 2.2,
            "bin_end": 2.6,
            "count": 0
           },
           {
            "bin_start": 2.6,
            "bin_end": 3,
            "count": 0
           },
           {
            "bin_start": 3,
            "bin_end": 3.4000000000000004,
            "count": 1
           },
           {
            "bin_start": 3.4000000000000004,
            "bin_end": 3.8000000000000003,
            "count": 0
           },
           {
            "bin_start": 3.8000000000000003,
            "bin_end": 4.2,
            "count": 1
           },
           {
            "bin_start": 4.2,
            "bin_end": 4.6,
            "count": 0
           },
           {
            "bin_start": 4.6,
            "bin_end": 5,
            "count": 1
           }
          ]
         }
        },
        {
         "name": "gender",
         "dtype": "int64",
         "stats": {
          "unique_count": 2,
          "nan_count": 0,
          "min": "0",
          "max": "1",
          "histogram": [
           {
            "bin_start": 0,
            "bin_end": 0.1,
            "count": 4
           },
           {
            "bin_start": 0.1,
            "bin_end": 0.2,
            "count": 0
           },
           {
            "bin_start": 0.2,
            "bin_end": 0.30000000000000004,
            "count": 0
           },
           {
            "bin_start": 0.30000000000000004,
            "bin_end": 0.4,
            "count": 0
           },
           {
            "bin_start": 0.4,
            "bin_end": 0.5,
            "count": 0
           },
           {
            "bin_start": 0.5,
            "bin_end": 0.6000000000000001,
            "count": 0
           },
           {
            "bin_start": 0.6000000000000001,
            "bin_end": 0.7000000000000001,
            "count": 0
           },
           {
            "bin_start": 0.7000000000000001,
            "bin_end": 0.8,
            "count": 0
           },
           {
            "bin_start": 0.8,
            "bin_end": 0.9,
            "count": 0
           },
           {
            "bin_start": 0.9,
            "bin_end": 1,
            "count": 1
           }
          ]
         }
        },
        {
         "name": "age",
         "dtype": "float64",
         "stats": {
          "unique_count": 5,
          "nan_count": 0,
          "min": "0.0153846153846153",
          "max": "0.8615384615384616",
          "histogram": [
           {
            "bin_start": 0.0153846153846153,
            "bin_end": 0.09999999999999992,
            "count": 1
           },
           {
            "bin_start": 0.09999999999999992,
            "bin_end": 0.18461538461538454,
            "count": 1
           },
           {
            "bin_start": 0.18461538461538454,
            "bin_end": 0.2692307692307691,
            "count": 0
           },
           {
            "bin_start": 0.2692307692307691,
            "bin_end": 0.35384615384615375,
            "count": 0
           },
           {
            "bin_start": 0.35384615384615375,
            "bin_end": 0.4384615384615384,
            "count": 2
           },
           {
            "bin_start": 0.4384615384615384,
            "bin_end": 0.523076923076923,
            "count": 0
           },
           {
            "bin_start": 0.523076923076923,
            "bin_end": 0.6076923076923076,
            "count": 0
           },
           {
            "bin_start": 0.6076923076923076,
            "bin_end": 0.6923076923076923,
            "count": 0
           },
           {
            "bin_start": 0.6923076923076923,
            "bin_end": 0.7769230769230769,
            "count": 0
           },
           {
            "bin_start": 0.7769230769230769,
            "bin_end": 0.8615384615384616,
            "count": 1
           }
          ]
         }
        },
        {
         "name": "region_code",
         "dtype": "float64",
         "stats": {
          "unique_count": 4,
          "nan_count": 0,
          "min": "3.0",
          "max": "41.0",
          "histogram": [
           {
            "bin_start": 3,
            "bin_end": 6.8,
            "count": 1
           },
           {
            "bin_start": 6.8,
            "bin_end": 10.6,
            "count": 0
           },
           {
            "bin_start": 10.6,
            "bin_end": 14.399999999999999,
            "count": 1
           },
           {
            "bin_start": 14.399999999999999,
            "bin_end": 18.2,
            "count": 0
           },
           {
            "bin_start": 18.2,
            "bin_end": 22,
            "count": 0
           },
           {
            "bin_start": 22,
            "bin_end": 25.799999999999997,
            "count": 0
           },
           {
            "bin_start": 25.799999999999997,
            "bin_end": 29.599999999999998,
            "count": 2
           },
           {
            "bin_start": 29.599999999999998,
            "bin_end": 33.4,
            "count": 0
           },
           {
            "bin_start": 33.4,
            "bin_end": 37.199999999999996,
            "count": 0
           },
           {
            "bin_start": 37.199999999999996,
            "bin_end": 41,
            "count": 1
           }
          ]
         }
        },
        {
         "name": "policy_sales_channel",
         "dtype": "float64",
         "stats": {
          "unique_count": 2,
          "nan_count": 0,
          "min": "26.0",
          "max": "152.0",
          "histogram": [
           {
            "bin_start": 26,
            "bin_end": 38.6,
            "count": 3
           },
           {
            "bin_start": 38.6,
            "bin_end": 51.2,
            "count": 0
           },
           {
            "bin_start": 51.2,
            "bin_end": 63.8,
            "count": 0
           },
           {
            "bin_start": 63.8,
            "bin_end": 76.4,
            "count": 0
           },
           {
            "bin_start": 76.4,
            "bin_end": 89,
            "count": 0
           },
           {
            "bin_start": 89,
            "bin_end": 101.6,
            "count": 0
           },
           {
            "bin_start": 101.6,
            "bin_end": 114.2,
            "count": 0
           },
           {
            "bin_start": 114.2,
            "bin_end": 126.8,
            "count": 0
           },
           {
            "bin_start": 126.8,
            "bin_end": 139.39999999999998,
            "count": 0
           },
           {
            "bin_start": 139.39999999999998,
            "bin_end": 152,
            "count": 2
           }
          ]
         }
        },
        {
         "name": "previously_insured",
         "dtype": "int64",
         "stats": {
          "unique_count": 2,
          "nan_count": 0,
          "min": "0",
          "max": "1",
          "histogram": [
           {
            "bin_start": 0,
            "bin_end": 0.1,
            "count": 3
           },
           {
            "bin_start": 0.1,
            "bin_end": 0.2,
            "count": 0
           },
           {
            "bin_start": 0.2,
            "bin_end": 0.30000000000000004,
            "count": 0
           },
           {
            "bin_start": 0.30000000000000004,
            "bin_end": 0.4,
            "count": 0
           },
           {
            "bin_start": 0.4,
            "bin_end": 0.5,
            "count": 0
           },
           {
            "bin_start": 0.5,
            "bin_end": 0.6000000000000001,
            "count": 0
           },
           {
            "bin_start": 0.6000000000000001,
            "bin_end": 0.7000000000000001,
            "count": 0
           },
           {
            "bin_start": 0.7000000000000001,
            "bin_end": 0.8,
            "count": 0
           },
           {
            "bin_start": 0.8,
            "bin_end": 0.9,
            "count": 0
           },
           {
            "bin_start": 0.9,
            "bin_end": 1,
            "count": 2
           }
          ]
         }
        },
        {
         "name": "annual_premium",
         "dtype": "float64",
         "stats": {
          "unique_count": 5,
          "nan_count": 0,
          "min": "-0.2782927642547516",
          "max": "0.5858619539846616",
          "histogram": [
           {
            "bin_start": -0.2782927642547516,
            "bin_end": -0.19187729243081025,
            "count": 2
           },
           {
            "bin_start": -0.19187729243081025,
            "bin_end": -0.10546182060686896,
            "count": 0
           },
           {
            "bin_start": -0.10546182060686896,
            "bin_end": -0.019046348782927658,
            "count": 0
           },
           {
            "bin_start": -0.019046348782927658,
            "bin_end": 0.06736912304101367,
            "count": 0
           },
           {
            "bin_start": 0.06736912304101367,
            "bin_end": 0.153784594864955,
            "count": 1
           },
           {
            "bin_start": 0.153784594864955,
            "bin_end": 0.24020006668889626,
            "count": 0
           },
           {
            "bin_start": 0.24020006668889626,
            "bin_end": 0.32661553851283764,
            "count": 0
           },
           {
            "bin_start": 0.32661553851283764,
            "bin_end": 0.4130310103367789,
            "count": 0
           },
           {
            "bin_start": 0.4130310103367789,
            "bin_end": 0.4994464821607202,
            "count": 1
           },
           {
            "bin_start": 0.4994464821607202,
            "bin_end": 0.5858619539846616,
            "count": 1
           }
          ]
         }
        },
        {
         "name": "vintage",
         "dtype": "float64",
         "stats": {
          "unique_count": 5,
          "nan_count": 0,
          "min": "0.0588235294117647",
          "max": "0.7162629757785468",
          "histogram": [
           {
            "bin_start": 0.0588235294117647,
            "bin_end": 0.1245674740484429,
            "count": 2
           },
           {
            "bin_start": 0.1245674740484429,
            "bin_end": 0.1903114186851211,
            "count": 0
           },
           {
            "bin_start": 0.1903114186851211,
            "bin_end": 0.25605536332179935,
            "count": 0
           },
           {
            "bin_start": 0.25605536332179935,
            "bin_end": 0.32179930795847755,
            "count": 0
           },
           {
            "bin_start": 0.32179930795847755,
            "bin_end": 0.38754325259515576,
            "count": 0
           },
           {
            "bin_start": 0.38754325259515576,
            "bin_end": 0.45328719723183397,
            "count": 0
           },
           {
            "bin_start": 0.45328719723183397,
            "bin_end": 0.5190311418685122,
            "count": 0
           },
           {
            "bin_start": 0.5190311418685122,
            "bin_end": 0.5847750865051904,
            "count": 0
           },
           {
            "bin_start": 0.5847750865051904,
            "bin_end": 0.6505190311418686,
            "count": 1
           },
           {
            "bin_start": 0.6505190311418686,
            "bin_end": 0.7162629757785468,
            "count": 2
           }
          ]
         }
        },
        {
         "name": "vehicle_age",
         "dtype": "int64",
         "stats": {
          "unique_count": 3,
          "nan_count": 0,
          "min": "1",
          "max": "3",
          "histogram": [
           {
            "bin_start": 1,
            "bin_end": 1.2,
            "count": 2
           },
           {
            "bin_start": 1.2,
            "bin_end": 1.4,
            "count": 0
           },
           {
            "bin_start": 1.4,
            "bin_end": 1.6,
            "count": 0
           },
           {
            "bin_start": 1.6,
            "bin_end": 1.8,
            "count": 0
           },
           {
            "bin_start": 1.8,
            "bin_end": 2,
            "count": 0
           },
           {
            "bin_start": 2,
            "bin_end": 2.2,
            "count": 1
           },
           {
            "bin_start": 2.2,
            "bin_end": 2.4000000000000004,
            "count": 0
           },
           {
            "bin_start": 2.4000000000000004,
            "bin_end": 2.6,
            "count": 0
           },
           {
            "bin_start": 2.6,
            "bin_end": 2.8,
            "count": 0
           },
           {
            "bin_start": 2.8,
            "bin_end": 3,
            "count": 2
           }
          ]
         }
        },
        {
         "name": "vehicle_damage",
         "dtype": "int64",
         "stats": {
          "unique_count": 2,
          "nan_count": 0,
          "min": "0",
          "max": "1",
          "histogram": [
           {
            "bin_start": 0,
            "bin_end": 0.1,
            "count": 3
           },
           {
            "bin_start": 0.1,
            "bin_end": 0.2,
            "count": 0
           },
           {
            "bin_start": 0.2,
            "bin_end": 0.30000000000000004,
            "count": 0
           },
           {
            "bin_start": 0.30000000000000004,
            "bin_end": 0.4,
            "count": 0
           },
           {
            "bin_start": 0.4,
            "bin_end": 0.5,
            "count": 0
           },
           {
            "bin_start": 0.5,
            "bin_end": 0.6000000000000001,
            "count": 0
           },
           {
            "bin_start": 0.6000000000000001,
            "bin_end": 0.7000000000000001,
            "count": 0
           },
           {
            "bin_start": 0.7000000000000001,
            "bin_end": 0.8,
            "count": 0
           },
           {
            "bin_start": 0.8,
            "bin_end": 0.9,
            "count": 0
           },
           {
            "bin_start": 0.9,
            "bin_end": 1,
            "count": 2
           }
          ]
         }
        },
        {
         "name": "response",
         "dtype": "int64",
         "stats": {
          "unique_count": 2,
          "nan_count": 0,
          "min": "0",
          "max": "1",
          "histogram": [
           {
            "bin_start": 0,
            "bin_end": 0.1,
            "count": 3
           },
           {
            "bin_start": 0.1,
            "bin_end": 0.2,
            "count": 0
           },
           {
            "bin_start": 0.2,
            "bin_end": 0.30000000000000004,
            "count": 0
           },
           {
            "bin_start": 0.30000000000000004,
            "bin_end": 0.4,
            "count": 0
           },
           {
            "bin_start": 0.4,
            "bin_end": 0.5,
            "count": 0
           },
           {
            "bin_start": 0.5,
            "bin_end": 0.6000000000000001,
            "count": 0
           },
           {
            "bin_start": 0.6000000000000001,
            "bin_end": 0.7000000000000001,
            "count": 0
           },
           {
            "bin_start": 0.7000000000000001,
            "bin_end": 0.8,
            "count": 0
           },
           {
            "bin_start": 0.8,
            "bin_end": 0.9,
            "count": 0
           },
           {
            "bin_start": 0.9,
            "bin_end": 1,
            "count": 2
           }
          ]
         }
        },
        {
         "name": "_deepnote_index_column",
         "dtype": "int64"
        }
       ],
       "rows": [
        {
         "id": "1",
         "gender": "0",
         "age": "0.3692307692307692",
         "region_code": "28.0",
         "policy_sales_channel": "26.0",
         "previously_insured": "0",
         "annual_premium": "0.5858619539846616",
         "vintage": "0.7162629757785468",
         "vehicle_age": "3",
         "vehicle_damage": "1",
         "response": "1",
         "_deepnote_index_column": "0"
        },
        {
         "id": "2",
         "gender": "0",
         "age": "0.8615384615384616",
         "region_code": "3.0",
         "policy_sales_channel": "26.0",
         "previously_insured": "0",
         "annual_premium": "0.1245081693897966",
         "vintage": "0.5986159169550174",
         "vehicle_age": "2",
         "vehicle_damage": "0",
         "response": "0",
         "_deepnote_index_column": "1"
        },
        {
         "id": "3",
         "gender": "0",
         "age": "0.4153846153846154",
         "region_code": "28.0",
         "policy_sales_channel": "26.0",
         "previously_insured": "0",
         "annual_premium": "0.4418139379793264",
         "vintage": "0.0588235294117647",
         "vehicle_age": "3",
         "vehicle_damage": "1",
         "response": "1",
         "_deepnote_index_column": "2"
        },
        {
         "id": "4",
         "gender": "0",
         "age": "0.0153846153846153",
         "region_code": "11.0",
         "policy_sales_channel": "152.0",
         "previously_insured": "1",
         "annual_premium": "-0.203401133711237",
         "vintage": "0.6678200692041523",
         "vehicle_age": "1",
         "vehicle_damage": "0",
         "response": "0",
         "_deepnote_index_column": "3"
        },
        {
         "id": "5",
         "gender": "1",
         "age": "0.1384615384615384",
         "region_code": "41.0",
         "policy_sales_channel": "152.0",
         "previously_insured": "1",
         "annual_premium": "-0.2782927642547516",
         "vintage": "0.1003460207612456",
         "vehicle_age": "1",
         "vehicle_damage": "0",
         "response": "0",
         "_deepnote_index_column": "4"
        }
       ]
      },
      "text/plain": "   id  gender       age  region_code  policy_sales_channel  \\\n0   1       0  0.369231         28.0                  26.0   \n1   2       0  0.861538          3.0                  26.0   \n2   3       0  0.415385         28.0                  26.0   \n3   4       0  0.015385         11.0                 152.0   \n4   5       1  0.138462         41.0                 152.0   \n\n   previously_insured  annual_premium   vintage  vehicle_age  vehicle_damage  \\\n0                   0        0.585862  0.716263            3               1   \n1                   0        0.124508  0.598616            2               0   \n2                   0        0.441814  0.058824            3               1   \n3                   1       -0.203401  0.667820            1               0   \n4                   1       -0.278293  0.100346            1               0   \n\n   response  \n0         1  \n1         0  \n2         1  \n3         0  \n4         0  ",
      "text/html": "<div>\n<style scoped>\n    .dataframe tbody tr th:only-of-type {\n        vertical-align: middle;\n    }\n\n    .dataframe tbody tr th {\n        vertical-align: top;\n    }\n\n    .dataframe thead th {\n        text-align: right;\n    }\n</style>\n<table border=\"1\" class=\"dataframe\">\n  <thead>\n    <tr style=\"text-align: right;\">\n      <th></th>\n      <th>id</th>\n      <th>gender</th>\n      <th>age</th>\n      <th>region_code</th>\n      <th>policy_sales_channel</th>\n      <th>previously_insured</th>\n      <th>annual_premium</th>\n      <th>vintage</th>\n      <th>vehicle_age</th>\n      <th>vehicle_damage</th>\n      <th>response</th>\n    </tr>\n  </thead>\n  <tbody>\n    <tr>\n      <th>0</th>\n      <td>1</td>\n      <td>0</td>\n      <td>0.369231</td>\n      <td>28.0</td>\n      <td>26.0</td>\n      <td>0</td>\n      <td>0.585862</td>\n      <td>0.716263</td>\n      <td>3</td>\n      <td>1</td>\n      <td>1</td>\n    </tr>\n    <tr>\n      <th>1</th>\n      <td>2</td>\n      <td>0</td>\n      <td>0.861538</td>\n      <td>3.0</td>\n      <td>26.0</td>\n      <td>0</td>\n      <td>0.124508</td>\n      <td>0.598616</td>\n      <td>2</td>\n      <td>0</td>\n      <td>0</td>\n    </tr>\n    <tr>\n      <th>2</th>\n      <td>3</td>\n      <td>0</td>\n      <td>0.415385</td>\n      <td>28.0</td>\n      <td>26.0</td>\n      <td>0</td>\n      <td>0.441814</td>\n      <td>0.058824</td>\n      <td>3</td>\n      <td>1</td>\n      <td>1</td>\n    </tr>\n    <tr>\n      <th>3</th>\n      <td>4</td>\n      <td>0</td>\n      <td>0.015385</td>\n      <td>11.0</td>\n      <td>152.0</td>\n      <td>1</td>\n      <td>-0.203401</td>\n      <td>0.667820</td>\n      <td>1</td>\n      <td>0</td>\n      <td>0</td>\n    </tr>\n    <tr>\n      <th>4</th>\n      <td>5</td>\n      <td>1</td>\n      <td>0.138462</td>\n      <td>41.0</td>\n      <td>152.0</td>\n      <td>1</td>\n      <td>-0.278293</td>\n      <td>0.100346</td>\n      <td>1</td>\n      <td>0</td>\n      <td>0</td>\n    </tr>\n  </tbody>\n</table>\n</div>"
     },
     "metadata": {}
    }
   ],
   "execution_count": null
  },
  {
   "cell_type": "code",
   "source": "df5.dtypes",
   "metadata": {
    "cell_id": "acdac1df05194ee88515cba7cb2e91a9",
    "tags": [],
    "deepnote_to_be_reexecuted": false,
    "source_hash": "24a6343e",
    "execution_start": 1661864599722,
    "execution_millis": 723,
    "deepnote_cell_type": "code",
    "deepnote_cell_height": 322.3999938964844,
    "deepnote_output_heights": [
     231
    ]
   },
   "outputs": [
    {
     "output_type": "execute_result",
     "execution_count": 5,
     "data": {
      "text/plain": "id                        int64\ngender                    int64\nage                     float64\nregion_code             float64\npolicy_sales_channel    float64\npreviously_insured        int64\nannual_premium          float64\nvintage                 float64\nvehicle_age               int64\nvehicle_damage            int64\nresponse                  int64\ndtype: object"
     },
     "metadata": {}
    }
   ],
   "execution_count": null
  },
  {
   "cell_type": "markdown",
   "source": "<a style='text-decoration:none;line-height:16px;display:flex;color:#5B5B62;padding:10px;justify-content:end;' href='https://deepnote.com?utm_source=created-in-deepnote-cell&projectId=3161d838-98a4-47ed-ae81-127ad2068af4' target=\"_blank\">\n<img alt='Created in deepnote.com' style='display:inline;max-height:16px;margin:0px;margin-right:7.5px;' src='data:image/svg+xml;base64,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' > </img>\nCreated in <span style='font-weight:600;margin-left:4px;'>Deepnote</span></a>",
   "metadata": {
    "tags": [],
    "created_in_deepnote_cell": true,
    "deepnote_cell_type": "markdown"
   }
  }
 ],
 "nbformat": 4,
 "nbformat_minor": 2,
 "metadata": {
  "orig_nbformat": 2,
  "deepnote": {},
  "deepnote_notebook_id": "6fc7dc12-8e27-4a37-9e9e-26b7f39d675c",
  "deepnote_execution_queue": []
 }
}