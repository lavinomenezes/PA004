{
 "cells": [
  {
   "cell_type": "markdown",
   "source": "# Imports",
   "metadata": {
    "cell_id": "212708af50214a78910b537f94e104c6",
    "tags": [],
    "deepnote_cell_type": "markdown",
    "deepnote_cell_height": 82
   }
  },
  {
   "cell_type": "code",
   "source": "import pandas as pd\nimport numpy as np\nimport seaborn as sns\nimport matplotlib.pyplot as plt\nfrom IPython.core.display import HTML\nfrom IPython.display import Image\nfrom scipy import stats\nfrom sklearn.model_selection import train_test_split\nfrom boruta import BorutaPy\nfrom sklearn.ensemble import RandomForestRegressor\n\n\nfrom sklearn.ensemble import ExtraTreesClassifier",
   "metadata": {
    "ExecuteTime": {
     "end_time": "2022-08-30T22:13:21.310260Z",
     "start_time": "2022-08-30T22:13:21.288127Z"
    },
    "cell_id": "5e7d084a-f3be-4dbf-8839-c97912c25066",
    "deepnote_to_be_reexecuted": false,
    "execution_millis": 2,
    "execution_start": 1661952379174,
    "source_hash": "b2b0f8e8",
    "tags": [],
    "deepnote_cell_type": "code",
    "deepnote_cell_height": 292
   },
   "execution_count": 16,
   "outputs": []
  },
  {
   "cell_type": "markdown",
   "source": "# Helper functions",
   "metadata": {
    "cell_id": "1289ff42ed1b4ba893e01759d632e489",
    "deepnote_to_be_reexecuted": false,
    "execution_millis": 2,
    "execution_start": 1661864259673,
    "source_hash": "7e52a908",
    "tags": [],
    "deepnote_cell_type": "markdown",
    "deepnote_cell_height": 82
   }
  },
  {
   "cell_type": "code",
   "metadata": {
    "ExecuteTime": {
     "end_time": "2022-08-30T22:13:21.688920Z",
     "start_time": "2022-08-30T22:13:21.310260Z"
    },
    "cell_id": "ed3fd78355f94579a665b0fa4d1ddfe7",
    "deepnote_to_be_reexecuted": false,
    "execution_millis": 557,
    "execution_start": 1661948138401,
    "source_hash": "46a4bb4d",
    "tags": [],
    "deepnote_cell_type": "code",
    "deepnote_cell_height": 308.3999938964844,
    "deepnote_output_heights": [
     null,
     1
    ]
   },
   "source": "def jupyter_settings():\n    %matplotlib inline\n    %pylab inline\n    plt.style.use( 'bmh' )\n    plt.rcParams['figure.figsize'] = [25, 12]\n    plt.rcParams['font.size'] = 24\n    display( HTML( '<style>.container { width:100% !important; }</style>') )\n    sns.set()\njupyter_settings()",
   "execution_count": 2,
   "outputs": [
    {
     "name": "stdout",
     "text": "%pylab is deprecated, use %matplotlib inline and import the required libraries.\nPopulating the interactive namespace from numpy and matplotlib\n",
     "output_type": "stream"
    },
    {
     "data": {
      "text/plain": "<IPython.core.display.HTML object>",
      "text/html": "<style>.container { width:100% !important; }</style>"
     },
     "metadata": {},
     "output_type": "display_data"
    }
   ]
  },
  {
   "cell_type": "markdown",
   "source": "# Load functions",
   "metadata": {
    "cell_id": "588de57180ca403db6d9b5681a5d4417",
    "tags": [],
    "deepnote_cell_type": "markdown",
    "deepnote_cell_height": 82
   }
  },
  {
   "cell_type": "code",
   "metadata": {
    "ExecuteTime": {
     "end_time": "2022-08-30T22:13:22.460275Z",
     "start_time": "2022-08-30T22:13:21.688920Z"
    },
    "cell_id": "cead86bb780842739ab760f76b30e879",
    "deepnote_to_be_reexecuted": false,
    "execution_millis": 505,
    "execution_start": 1661948138503,
    "source_hash": "1b473213",
    "tags": [],
    "deepnote_cell_type": "code",
    "deepnote_cell_height": 76
   },
   "source": "df5 = pd.read_csv('data/df4.csv')",
   "execution_count": 3,
   "outputs": []
  },
  {
   "cell_type": "code",
   "metadata": {
    "ExecuteTime": {
     "end_time": "2022-08-30T22:13:22.559713Z",
     "start_time": "2022-08-30T22:13:22.460275Z"
    },
    "cell_id": "3a20fe3772ad44ad8f13ebfdbc7195dc",
    "deepnote_to_be_reexecuted": false,
    "execution_millis": 52,
    "execution_start": 1661948139017,
    "source_hash": "306cd46f",
    "tags": [],
    "deepnote_cell_type": "code",
    "deepnote_cell_height": 390,
    "deepnote_output_heights": [
     176
    ]
   },
   "source": "df5.head()",
   "execution_count": 4,
   "outputs": [
    {
     "output_type": "execute_result",
     "execution_count": 4,
     "data": {
      "application/vnd.deepnote.dataframe.v3+json": {
       "column_count": 11,
       "row_count": 5,
       "columns": [
        {
         "name": "id",
         "dtype": "int64",
         "stats": {
          "unique_count": 5,
          "nan_count": 0,
          "min": "1",
          "max": "5",
          "histogram": [
           {
            "bin_start": 1,
            "bin_end": 1.4,
            "count": 1
           },
           {
            "bin_start": 1.4,
            "bin_end": 1.8,
            "count": 0
           },
           {
            "bin_start": 1.8,
            "bin_end": 2.2,
            "count": 1
           },
           {
            "bin_start": 2.2,
            "bin_end": 2.6,
            "count": 0
           },
           {
            "bin_start": 2.6,
            "bin_end": 3,
            "count": 0
           },
           {
            "bin_start": 3,
            "bin_end": 3.4000000000000004,
            "count": 1
           },
           {
            "bin_start": 3.4000000000000004,
            "bin_end": 3.8000000000000003,
            "count": 0
           },
           {
            "bin_start": 3.8000000000000003,
            "bin_end": 4.2,
            "count": 1
           },
           {
            "bin_start": 4.2,
            "bin_end": 4.6,
            "count": 0
           },
           {
            "bin_start": 4.6,
            "bin_end": 5,
            "count": 1
           }
          ]
         }
        },
        {
         "name": "gender",
         "dtype": "int64",
         "stats": {
          "unique_count": 2,
          "nan_count": 0,
          "min": "0",
          "max": "1",
          "histogram": [
           {
            "bin_start": 0,
            "bin_end": 0.1,
            "count": 4
           },
           {
            "bin_start": 0.1,
            "bin_end": 0.2,
            "count": 0
           },
           {
            "bin_start": 0.2,
            "bin_end": 0.30000000000000004,
            "count": 0
           },
           {
            "bin_start": 0.30000000000000004,
            "bin_end": 0.4,
            "count": 0
           },
           {
            "bin_start": 0.4,
            "bin_end": 0.5,
            "count": 0
           },
           {
            "bin_start": 0.5,
            "bin_end": 0.6000000000000001,
            "count": 0
           },
           {
            "bin_start": 0.6000000000000001,
            "bin_end": 0.7000000000000001,
            "count": 0
           },
           {
            "bin_start": 0.7000000000000001,
            "bin_end": 0.8,
            "count": 0
           },
           {
            "bin_start": 0.8,
            "bin_end": 0.9,
            "count": 0
           },
           {
            "bin_start": 0.9,
            "bin_end": 1,
            "count": 1
           }
          ]
         }
        },
        {
         "name": "age",
         "dtype": "float64",
         "stats": {
          "unique_count": 5,
          "nan_count": 0,
          "min": "0.0153846153846153",
          "max": "0.8615384615384616",
          "histogram": [
           {
            "bin_start": 0.0153846153846153,
            "bin_end": 0.09999999999999992,
            "count": 1
           },
           {
            "bin_start": 0.09999999999999992,
            "bin_end": 0.18461538461538454,
            "count": 1
           },
           {
            "bin_start": 0.18461538461538454,
            "bin_end": 0.2692307692307691,
            "count": 0
           },
           {
            "bin_start": 0.2692307692307691,
            "bin_end": 0.35384615384615375,
            "count": 0
           },
           {
            "bin_start": 0.35384615384615375,
            "bin_end": 0.4384615384615384,
            "count": 2
           },
           {
            "bin_start": 0.4384615384615384,
            "bin_end": 0.523076923076923,
            "count": 0
           },
           {
            "bin_start": 0.523076923076923,
            "bin_end": 0.6076923076923076,
            "count": 0
           },
           {
            "bin_start": 0.6076923076923076,
            "bin_end": 0.6923076923076923,
            "count": 0
           },
           {
            "bin_start": 0.6923076923076923,
            "bin_end": 0.7769230769230769,
            "count": 0
           },
           {
            "bin_start": 0.7769230769230769,
            "bin_end": 0.8615384615384616,
            "count": 1
           }
          ]
         }
        },
        {
         "name": "region_code",
         "dtype": "float64",
         "stats": {
          "unique_count": 4,
          "nan_count": 0,
          "min": "3.0",
          "max": "41.0",
          "histogram": [
           {
            "bin_start": 3,
            "bin_end": 6.8,
            "count": 1
           },
           {
            "bin_start": 6.8,
            "bin_end": 10.6,
            "count": 0
           },
           {
            "bin_start": 10.6,
            "bin_end": 14.399999999999999,
            "count": 1
           },
           {
            "bin_start": 14.399999999999999,
            "bin_end": 18.2,
            "count": 0
           },
           {
            "bin_start": 18.2,
            "bin_end": 22,
            "count": 0
           },
           {
            "bin_start": 22,
            "bin_end": 25.799999999999997,
            "count": 0
           },
           {
            "bin_start": 25.799999999999997,
            "bin_end": 29.599999999999998,
            "count": 2
           },
           {
            "bin_start": 29.599999999999998,
            "bin_end": 33.4,
            "count": 0
           },
           {
            "bin_start": 33.4,
            "bin_end": 37.199999999999996,
            "count": 0
           },
           {
            "bin_start": 37.199999999999996,
            "bin_end": 41,
            "count": 1
           }
          ]
         }
        },
        {
         "name": "policy_sales_channel",
         "dtype": "float64",
         "stats": {
          "unique_count": 2,
          "nan_count": 0,
          "min": "26.0",
          "max": "152.0",
          "histogram": [
           {
            "bin_start": 26,
            "bin_end": 38.6,
            "count": 3
           },
           {
            "bin_start": 38.6,
            "bin_end": 51.2,
            "count": 0
           },
           {
            "bin_start": 51.2,
            "bin_end": 63.8,
            "count": 0
           },
           {
            "bin_start": 63.8,
            "bin_end": 76.4,
            "count": 0
           },
           {
            "bin_start": 76.4,
            "bin_end": 89,
            "count": 0
           },
           {
            "bin_start": 89,
            "bin_end": 101.6,
            "count": 0
           },
           {
            "bin_start": 101.6,
            "bin_end": 114.2,
            "count": 0
           },
           {
            "bin_start": 114.2,
            "bin_end": 126.8,
            "count": 0
           },
           {
            "bin_start": 126.8,
            "bin_end": 139.39999999999998,
            "count": 0
           },
           {
            "bin_start": 139.39999999999998,
            "bin_end": 152,
            "count": 2
           }
          ]
         }
        },
        {
         "name": "previously_insured",
         "dtype": "int64",
         "stats": {
          "unique_count": 2,
          "nan_count": 0,
          "min": "0",
          "max": "1",
          "histogram": [
           {
            "bin_start": 0,
            "bin_end": 0.1,
            "count": 3
           },
           {
            "bin_start": 0.1,
            "bin_end": 0.2,
            "count": 0
           },
           {
            "bin_start": 0.2,
            "bin_end": 0.30000000000000004,
            "count": 0
           },
           {
            "bin_start": 0.30000000000000004,
            "bin_end": 0.4,
            "count": 0
           },
           {
            "bin_start": 0.4,
            "bin_end": 0.5,
            "count": 0
           },
           {
            "bin_start": 0.5,
            "bin_end": 0.6000000000000001,
            "count": 0
           },
           {
            "bin_start": 0.6000000000000001,
            "bin_end": 0.7000000000000001,
            "count": 0
           },
           {
            "bin_start": 0.7000000000000001,
            "bin_end": 0.8,
            "count": 0
           },
           {
            "bin_start": 0.8,
            "bin_end": 0.9,
            "count": 0
           },
           {
            "bin_start": 0.9,
            "bin_end": 1,
            "count": 2
           }
          ]
         }
        },
        {
         "name": "annual_premium",
         "dtype": "float64",
         "stats": {
          "unique_count": 5,
          "nan_count": 0,
          "min": "-0.2782927642547516",
          "max": "0.5858619539846616",
          "histogram": [
           {
            "bin_start": -0.2782927642547516,
            "bin_end": -0.19187729243081025,
            "count": 2
           },
           {
            "bin_start": -0.19187729243081025,
            "bin_end": -0.10546182060686896,
            "count": 0
           },
           {
            "bin_start": -0.10546182060686896,
            "bin_end": -0.019046348782927658,
            "count": 0
           },
           {
            "bin_start": -0.019046348782927658,
            "bin_end": 0.06736912304101367,
            "count": 0
           },
           {
            "bin_start": 0.06736912304101367,
            "bin_end": 0.153784594864955,
            "count": 1
           },
           {
            "bin_start": 0.153784594864955,
            "bin_end": 0.24020006668889626,
            "count": 0
           },
           {
            "bin_start": 0.24020006668889626,
            "bin_end": 0.32661553851283764,
            "count": 0
           },
           {
            "bin_start": 0.32661553851283764,
            "bin_end": 0.4130310103367789,
            "count": 0
           },
           {
            "bin_start": 0.4130310103367789,
            "bin_end": 0.4994464821607202,
            "count": 1
           },
           {
            "bin_start": 0.4994464821607202,
            "bin_end": 0.5858619539846616,
            "count": 1
           }
          ]
         }
        },
        {
         "name": "vintage",
         "dtype": "float64",
         "stats": {
          "unique_count": 5,
          "nan_count": 0,
          "min": "0.0588235294117647",
          "max": "0.7162629757785468",
          "histogram": [
           {
            "bin_start": 0.0588235294117647,
            "bin_end": 0.1245674740484429,
            "count": 2
           },
           {
            "bin_start": 0.1245674740484429,
            "bin_end": 0.1903114186851211,
            "count": 0
           },
           {
            "bin_start": 0.1903114186851211,
            "bin_end": 0.25605536332179935,
            "count": 0
           },
           {
            "bin_start": 0.25605536332179935,
            "bin_end": 0.32179930795847755,
            "count": 0
           },
           {
            "bin_start": 0.32179930795847755,
            "bin_end": 0.38754325259515576,
            "count": 0
           },
           {
            "bin_start": 0.38754325259515576,
            "bin_end": 0.45328719723183397,
            "count": 0
           },
           {
            "bin_start": 0.45328719723183397,
            "bin_end": 0.5190311418685122,
            "count": 0
           },
           {
            "bin_start": 0.5190311418685122,
            "bin_end": 0.5847750865051904,
            "count": 0
           },
           {
            "bin_start": 0.5847750865051904,
            "bin_end": 0.6505190311418686,
            "count": 1
           },
           {
            "bin_start": 0.6505190311418686,
            "bin_end": 0.7162629757785468,
            "count": 2
           }
          ]
         }
        },
        {
         "name": "vehicle_age",
         "dtype": "int64",
         "stats": {
          "unique_count": 3,
          "nan_count": 0,
          "min": "1",
          "max": "3",
          "histogram": [
           {
            "bin_start": 1,
            "bin_end": 1.2,
            "count": 2
           },
           {
            "bin_start": 1.2,
            "bin_end": 1.4,
            "count": 0
           },
           {
            "bin_start": 1.4,
            "bin_end": 1.6,
            "count": 0
           },
           {
            "bin_start": 1.6,
            "bin_end": 1.8,
            "count": 0
           },
           {
            "bin_start": 1.8,
            "bin_end": 2,
            "count": 0
           },
           {
            "bin_start": 2,
            "bin_end": 2.2,
            "count": 1
           },
           {
            "bin_start": 2.2,
            "bin_end": 2.4000000000000004,
            "count": 0
           },
           {
            "bin_start": 2.4000000000000004,
            "bin_end": 2.6,
            "count": 0
           },
           {
            "bin_start": 2.6,
            "bin_end": 2.8,
            "count": 0
           },
           {
            "bin_start": 2.8,
            "bin_end": 3,
            "count": 2
           }
          ]
         }
        },
        {
         "name": "vehicle_damage",
         "dtype": "int64",
         "stats": {
          "unique_count": 2,
          "nan_count": 0,
          "min": "0",
          "max": "1",
          "histogram": [
           {
            "bin_start": 0,
            "bin_end": 0.1,
            "count": 3
           },
           {
            "bin_start": 0.1,
            "bin_end": 0.2,
            "count": 0
           },
           {
            "bin_start": 0.2,
            "bin_end": 0.30000000000000004,
            "count": 0
           },
           {
            "bin_start": 0.30000000000000004,
            "bin_end": 0.4,
            "count": 0
           },
           {
            "bin_start": 0.4,
            "bin_end": 0.5,
            "count": 0
           },
           {
            "bin_start": 0.5,
            "bin_end": 0.6000000000000001,
            "count": 0
           },
           {
            "bin_start": 0.6000000000000001,
            "bin_end": 0.7000000000000001,
            "count": 0
           },
           {
            "bin_start": 0.7000000000000001,
            "bin_end": 0.8,
            "count": 0
           },
           {
            "bin_start": 0.8,
            "bin_end": 0.9,
            "count": 0
           },
           {
            "bin_start": 0.9,
            "bin_end": 1,
            "count": 2
           }
          ]
         }
        },
        {
         "name": "response",
         "dtype": "int64",
         "stats": {
          "unique_count": 2,
          "nan_count": 0,
          "min": "0",
          "max": "1",
          "histogram": [
           {
            "bin_start": 0,
            "bin_end": 0.1,
            "count": 3
           },
           {
            "bin_start": 0.1,
            "bin_end": 0.2,
            "count": 0
           },
           {
            "bin_start": 0.2,
            "bin_end": 0.30000000000000004,
            "count": 0
           },
           {
            "bin_start": 0.30000000000000004,
            "bin_end": 0.4,
            "count": 0
           },
           {
            "bin_start": 0.4,
            "bin_end": 0.5,
            "count": 0
           },
           {
            "bin_start": 0.5,
            "bin_end": 0.6000000000000001,
            "count": 0
           },
           {
            "bin_start": 0.6000000000000001,
            "bin_end": 0.7000000000000001,
            "count": 0
           },
           {
            "bin_start": 0.7000000000000001,
            "bin_end": 0.8,
            "count": 0
           },
           {
            "bin_start": 0.8,
            "bin_end": 0.9,
            "count": 0
           },
           {
            "bin_start": 0.9,
            "bin_end": 1,
            "count": 2
           }
          ]
         }
        },
        {
         "name": "_deepnote_index_column",
         "dtype": "int64"
        }
       ],
       "rows": [
        {
         "id": "1",
         "gender": "0",
         "age": "0.3692307692307692",
         "region_code": "28.0",
         "policy_sales_channel": "26.0",
         "previously_insured": "0",
         "annual_premium": "0.5858619539846616",
         "vintage": "0.7162629757785468",
         "vehicle_age": "3",
         "vehicle_damage": "1",
         "response": "1",
         "_deepnote_index_column": "0"
        },
        {
         "id": "2",
         "gender": "0",
         "age": "0.8615384615384616",
         "region_code": "3.0",
         "policy_sales_channel": "26.0",
         "previously_insured": "0",
         "annual_premium": "0.1245081693897966",
         "vintage": "0.5986159169550174",
         "vehicle_age": "2",
         "vehicle_damage": "0",
         "response": "0",
         "_deepnote_index_column": "1"
        },
        {
         "id": "3",
         "gender": "0",
         "age": "0.4153846153846154",
         "region_code": "28.0",
         "policy_sales_channel": "26.0",
         "previously_insured": "0",
         "annual_premium": "0.4418139379793264",
         "vintage": "0.0588235294117647",
         "vehicle_age": "3",
         "vehicle_damage": "1",
         "response": "1",
         "_deepnote_index_column": "2"
        },
        {
         "id": "4",
         "gender": "0",
         "age": "0.0153846153846153",
         "region_code": "11.0",
         "policy_sales_channel": "152.0",
         "previously_insured": "1",
         "annual_premium": "-0.203401133711237",
         "vintage": "0.6678200692041523",
         "vehicle_age": "1",
         "vehicle_damage": "0",
         "response": "0",
         "_deepnote_index_column": "3"
        },
        {
         "id": "5",
         "gender": "1",
         "age": "0.1384615384615384",
         "region_code": "41.0",
         "policy_sales_channel": "152.0",
         "previously_insured": "1",
         "annual_premium": "-0.2782927642547516",
         "vintage": "0.1003460207612456",
         "vehicle_age": "1",
         "vehicle_damage": "0",
         "response": "0",
         "_deepnote_index_column": "4"
        }
       ]
      },
      "text/plain": "   id  gender       age  region_code  policy_sales_channel  \\\n0   1       0  0.369231         28.0                  26.0   \n1   2       0  0.861538          3.0                  26.0   \n2   3       0  0.415385         28.0                  26.0   \n3   4       0  0.015385         11.0                 152.0   \n4   5       1  0.138462         41.0                 152.0   \n\n   previously_insured  annual_premium   vintage  vehicle_age  vehicle_damage  \\\n0                   0        0.585862  0.716263            3               1   \n1                   0        0.124508  0.598616            2               0   \n2                   0        0.441814  0.058824            3               1   \n3                   1       -0.203401  0.667820            1               0   \n4                   1       -0.278293  0.100346            1               0   \n\n   response  \n0         1  \n1         0  \n2         1  \n3         0  \n4         0  ",
      "text/html": "<div>\n<style scoped>\n    .dataframe tbody tr th:only-of-type {\n        vertical-align: middle;\n    }\n\n    .dataframe tbody tr th {\n        vertical-align: top;\n    }\n\n    .dataframe thead th {\n        text-align: right;\n    }\n</style>\n<table border=\"1\" class=\"dataframe\">\n  <thead>\n    <tr style=\"text-align: right;\">\n      <th></th>\n      <th>id</th>\n      <th>gender</th>\n      <th>age</th>\n      <th>region_code</th>\n      <th>policy_sales_channel</th>\n      <th>previously_insured</th>\n      <th>annual_premium</th>\n      <th>vintage</th>\n      <th>vehicle_age</th>\n      <th>vehicle_damage</th>\n      <th>response</th>\n    </tr>\n  </thead>\n  <tbody>\n    <tr>\n      <th>0</th>\n      <td>1</td>\n      <td>0</td>\n      <td>0.369231</td>\n      <td>28.0</td>\n      <td>26.0</td>\n      <td>0</td>\n      <td>0.585862</td>\n      <td>0.716263</td>\n      <td>3</td>\n      <td>1</td>\n      <td>1</td>\n    </tr>\n    <tr>\n      <th>1</th>\n      <td>2</td>\n      <td>0</td>\n      <td>0.861538</td>\n      <td>3.0</td>\n      <td>26.0</td>\n      <td>0</td>\n      <td>0.124508</td>\n      <td>0.598616</td>\n      <td>2</td>\n      <td>0</td>\n      <td>0</td>\n    </tr>\n    <tr>\n      <th>2</th>\n      <td>3</td>\n      <td>0</td>\n      <td>0.415385</td>\n      <td>28.0</td>\n      <td>26.0</td>\n      <td>0</td>\n      <td>0.441814</td>\n      <td>0.058824</td>\n      <td>3</td>\n      <td>1</td>\n      <td>1</td>\n    </tr>\n    <tr>\n      <th>3</th>\n      <td>4</td>\n      <td>0</td>\n      <td>0.015385</td>\n      <td>11.0</td>\n      <td>152.0</td>\n      <td>1</td>\n      <td>-0.203401</td>\n      <td>0.667820</td>\n      <td>1</td>\n      <td>0</td>\n      <td>0</td>\n    </tr>\n    <tr>\n      <th>4</th>\n      <td>5</td>\n      <td>1</td>\n      <td>0.138462</td>\n      <td>41.0</td>\n      <td>152.0</td>\n      <td>1</td>\n      <td>-0.278293</td>\n      <td>0.100346</td>\n      <td>1</td>\n      <td>0</td>\n      <td>0</td>\n    </tr>\n  </tbody>\n</table>\n</div>"
     },
     "metadata": {}
    }
   ]
  },
  {
   "cell_type": "code",
   "metadata": {
    "ExecuteTime": {
     "end_time": "2022-08-30T22:13:22.590954Z",
     "start_time": "2022-08-30T22:13:22.559713Z"
    },
    "cell_id": "acdac1df05194ee88515cba7cb2e91a9",
    "deepnote_to_be_reexecuted": false,
    "execution_millis": 5,
    "execution_start": 1661948139075,
    "source_hash": "24a6343e",
    "tags": [],
    "deepnote_cell_type": "code",
    "deepnote_cell_height": 323,
    "deepnote_output_heights": [
     231
    ]
   },
   "source": "df5.dtypes",
   "execution_count": 5,
   "outputs": [
    {
     "output_type": "execute_result",
     "execution_count": 5,
     "data": {
      "text/plain": "id                        int64\ngender                    int64\nage                     float64\nregion_code             float64\npolicy_sales_channel    float64\npreviously_insured        int64\nannual_premium          float64\nvintage                 float64\nvehicle_age               int64\nvehicle_damage            int64\nresponse                  int64\ndtype: object"
     },
     "metadata": {}
    }
   ]
  },
  {
   "cell_type": "markdown",
   "source": "# Split data frame",
   "metadata": {
    "cell_id": "00008-9d237660-acd8-48f8-8d81-c5a4ff96f5c2",
    "deepnote_cell_type": "markdown",
    "deepnote_cell_height": 82
   }
  },
  {
   "cell_type": "code",
   "metadata": {
    "ExecuteTime": {
     "end_time": "2022-08-30T22:13:22.945126Z",
     "start_time": "2022-08-30T22:13:22.590954Z"
    },
    "cell_id": "00009-31309197-5262-449a-baac-cd6e9ea91911",
    "deepnote_to_be_reexecuted": false,
    "source_hash": "326e4d1a",
    "execution_start": 1661948139086,
    "execution_millis": 154,
    "deepnote_cell_type": "code",
    "deepnote_cell_height": 81
   },
   "source": "train, val = train_test_split(df5,test_size=0.2,stratify=df5['response'],random_state=42)",
   "execution_count": 6,
   "outputs": []
  },
  {
   "cell_type": "code",
   "metadata": {
    "ExecuteTime": {
     "end_time": "2022-08-30T22:13:22.960747Z",
     "start_time": "2022-08-30T22:13:22.945126Z"
    },
    "cell_id": "00010-5ea9aa33-c10a-4ea3-9082-ec4706ee3233",
    "deepnote_to_be_reexecuted": false,
    "source_hash": "e1391210",
    "execution_start": 1661948139251,
    "execution_millis": 3,
    "deepnote_cell_type": "code",
    "deepnote_cell_height": 184
   },
   "source": "# train dataframes\nX_train = train\ny_train = X_train['response']\n\n# validation dataframes\nx_val = val\ny_val = val['response']",
   "execution_count": 7,
   "outputs": []
  },
  {
   "cell_type": "markdown",
   "source": "# Feature Selection",
   "metadata": {
    "cell_id": "00011-85c059e5-3a5e-4a7d-8cbf-23a32d4698f8",
    "deepnote_cell_type": "markdown",
    "deepnote_cell_height": 82
   }
  },
  {
   "cell_type": "markdown",
   "source": "## Boruta",
   "metadata": {
    "cell_id": "00012-95da5403-0c0f-4a45-bc78-bf6f8c5e3d60",
    "deepnote_cell_type": "markdown",
    "deepnote_cell_height": 70
   }
  },
  {
   "cell_type": "code",
   "source": "# training and teste dataset for boruta\nX_train_n = X_train.drop(columns=['id','response']).values\ny_train_n = y_train.values.ravel()\n\n#define RandonForestRegressor\nrf = RandomForestRegressor(n_jobs=-1)",
   "metadata": {
    "ExecuteTime": {
     "end_time": "2022-08-30T22:13:57.000261Z",
     "start_time": "2022-08-30T22:13:56.969610Z"
    },
    "cell_id": "00013-832633a2-3d9e-481e-89c0-96f91187e63d",
    "deepnote_to_be_reexecuted": false,
    "source_hash": "6453fcf",
    "execution_start": 1661948139268,
    "execution_millis": 12,
    "deepnote_cell_type": "code",
    "deepnote_cell_height": 166
   },
   "execution_count": 8,
   "outputs": []
  },
  {
   "cell_type": "code",
   "source": "# boruta\n#boruta = BorutaPy(rf,n_estimators='auto',verbose=2,random_state=42).fit(X_train_n,y_train_n)",
   "metadata": {
    "ExecuteTime": {
     "end_time": "2022-08-30T22:13:23.045406Z",
     "start_time": "2022-08-30T22:13:23.029748Z"
    },
    "cell_id": "00014-bdd00765-4e5f-403c-bfd9-0688a58113c4",
    "deepnote_to_be_reexecuted": false,
    "source_hash": "9fa8a7d7",
    "execution_start": 1661948139286,
    "execution_millis": 3996734,
    "deepnote_cell_type": "code",
    "deepnote_cell_height": 719
   },
   "execution_count": 9,
   "outputs": [
    {
     "name": "stdout",
     "text": "Iteration: \t1 / 100\nConfirmed: \t0\nTentative: \t9\nRejected: \t0\nIteration: \t2 / 100\nConfirmed: \t0\nTentative: \t9\nRejected: \t0\nIteration: \t3 / 100\nConfirmed: \t0\nTentative: \t9\nRejected: \t0\nIteration: \t4 / 100\nConfirmed: \t0\nTentative: \t9\nRejected: \t0\nIteration: \t5 / 100\nConfirmed: \t0\nTentative: \t9\nRejected: \t0\nIteration: \t6 / 100\nConfirmed: \t0\nTentative: \t9\nRejected: \t0\nIteration: \t7 / 100\nConfirmed: \t0\nTentative: \t9\nRejected: \t0\nIteration: \t8 / 100\nConfirmed: \t1\nTentative: \t1\nRejected: \t7\nIteration: \t9 / 100\nConfirmed: \t1\nTentative: \t1\nRejected: \t7\nIteration: \t10 / 100\nConfirmed: \t1\nTentative: \t1\nRejected: \t7\nIteration: \t11 / 100\nConfirmed: \t1\nTentative: \t1\nRejected: \t7\nIteration: \t12 / 100\nConfirmed: \t1\nTentative: \t1\nRejected: \t7\nIteration: \t13 / 100\nConfirmed: \t1\nTentative: \t1\nRejected: \t7\nIteration: \t14 / 100\nConfirmed: \t1\nTentative: \t1\nRejected: \t7\nIteration: \t15 / 100\nConfirmed: \t1\nTentative: \t1\nRejected: \t7\nIteration: \t16 / 100\nConfirmed: \t1\nTentative: \t1\nRejected: \t7\nIteration: \t17 / 100\nConfirmed: \t1\nTentative: \t1\nRejected: \t7\nIteration: \t18 / 100\nConfirmed: \t1\nTentative: \t1\nRejected: \t7\nIteration: \t19 / 100\nConfirmed: \t1\nTentative: \t1\nRejected: \t7\nIteration: \t20 / 100\nConfirmed: \t1\nTentative: \t1\nRejected: \t7\nIteration: \t21 / 100\nConfirmed: \t1\nTentative: \t1\nRejected: \t7\nIteration: \t22 / 100\nConfirmed: \t1\nTentative: \t1\nRejected: \t7\nIteration: \t23 / 100\nConfirmed: \t1\nTentative: \t1\nRejected: \t7\nIteration: \t24 / 100\nConfirmed: \t1\nTentative: \t1\nRejected: \t7\nIteration: \t25 / 100\nConfirmed: \t1\nTentative: \t1\nRejected: \t7\nIteration: \t26 / 100\nConfirmed: \t1\nTentative: \t1\nRejected: \t7\nIteration: \t27 / 100\nConfirmed: \t1\nTentative: \t1\nRejected: \t7\nIteration: \t28 / 100\nConfirmed: \t1\nTentative: \t1\nRejected: \t7\nIteration: \t29 / 100\nConfirmed: \t1\nTentative: \t1\nRejected: \t7\nIteration: \t30 / 100\nConfirmed: \t1\nTentative: \t1\nRejected: \t7\nIteration: \t31 / 100\nConfirmed: \t1\nTentative: \t1\nRejected: \t7\nIteration: \t32 / 100\nConfirmed: \t1\nTentative: \t1\nRejected: \t7\nIteration: \t33 / 100\nConfirmed: \t1\nTentative: \t1\nRejected: \t7\nIteration: \t34 / 100\nConfirmed: \t1\nTentative: \t1\nRejected: \t7\nIteration: \t35 / 100\nConfirmed: \t1\nTentative: \t1\nRejected: \t7\nIteration: \t36 / 100\nConfirmed: \t1\nTentative: \t1\nRejected: \t7\nIteration: \t37 / 100\nConfirmed: \t1\nTentative: \t1\nRejected: \t7\nIteration: \t38 / 100\nConfirmed: \t1\nTentative: \t1\nRejected: \t7\nIteration: \t39 / 100\nConfirmed: \t1\nTentative: \t1\nRejected: \t7\nIteration: \t40 / 100\nConfirmed: \t1\nTentative: \t1\nRejected: \t7\nIteration: \t41 / 100\nConfirmed: \t1\nTentative: \t1\nRejected: \t7\nIteration: \t42 / 100\nConfirmed: \t1\nTentative: \t1\nRejected: \t7\nIteration: \t43 / 100\nConfirmed: \t1\nTentative: \t1\nRejected: \t7\nIteration: \t44 / 100\nConfirmed: \t1\nTentative: \t1\nRejected: \t7\nIteration: \t45 / 100\nConfirmed: \t1\nTentative: \t1\nRejected: \t7\nIteration: \t46 / 100\nConfirmed: \t1\nTentative: \t1\nRejected: \t7\nIteration: \t47 / 100\nConfirmed: \t1\nTentative: \t1\nRejected: \t7\nIteration: \t48 / 100\nConfirmed: \t1\nTentative: \t1\nRejected: \t7\nIteration: \t49 / 100\nConfirmed: \t1\nTentative: \t1\nRejected: \t7\nIteration: \t50 / 100\nConfirmed: \t1\nTentative: \t1\nRejected: \t7\nIteration: \t51 / 100\nConfirmed: \t1\nTentative: \t1\nRejected: \t7\nIteration: \t52 / 100\nConfirmed: \t1\nTentative: \t1\nRejected: \t7\nIteration: \t53 / 100\nConfirmed: \t1\nTentative: \t1\nRejected: \t7\nIteration: \t54 / 100\nConfirmed: \t1\nTentative: \t1\nRejected: \t7\nIteration: \t55 / 100\nConfirmed: \t1\nTentative: \t1\nRejected: \t7\nIteration: \t56 / 100\nConfirmed: \t1\nTentative: \t1\nRejected: \t7\nIteration: \t57 / 100\nConfirmed: \t1\nTentative: \t1\nRejected: \t7\nIteration: \t58 / 100\nConfirmed: \t1\nTentative: \t1\nRejected: \t7\nIteration: \t59 / 100\nConfirmed: \t1\nTentative: \t1\nRejected: \t7\nIteration: \t60 / 100\nConfirmed: \t1\nTentative: \t1\nRejected: \t7\nIteration: \t61 / 100\nConfirmed: \t1\nTentative: \t1\nRejected: \t7\nIteration: \t62 / 100\nConfirmed: \t1\nTentative: \t1\nRejected: \t7\nIteration: \t63 / 100\nConfirmed: \t1\nTentative: \t1\nRejected: \t7\nIteration: \t64 / 100\nConfirmed: \t1\nTentative: \t1\nRejected: \t7\nIteration: \t65 / 100\nConfirmed: \t1\nTentative: \t1\nRejected: \t7\nIteration: \t66 / 100\nConfirmed: \t1\nTentative: \t1\nRejected: \t7\nIteration: \t67 / 100\nConfirmed: \t1\nTentative: \t1\nRejected: \t7\nIteration: \t68 / 100\nConfirmed: \t1\nTentative: \t1\nRejected: \t7\nIteration: \t69 / 100\nConfirmed: \t1\nTentative: \t1\nRejected: \t7\nIteration: \t70 / 100\nConfirmed: \t1\nTentative: \t1\nRejected: \t7\nIteration: \t71 / 100\nConfirmed: \t1\nTentative: \t1\nRejected: \t7\nIteration: \t72 / 100\nConfirmed: \t1\nTentative: \t1\nRejected: \t7\nIteration: \t73 / 100\nConfirmed: \t1\nTentative: \t1\nRejected: \t7\nIteration: \t74 / 100\nConfirmed: \t1\nTentative: \t1\nRejected: \t7\nIteration: \t75 / 100\nConfirmed: \t1\nTentative: \t1\nRejected: \t7\nIteration: \t76 / 100\nConfirmed: \t1\nTentative: \t1\nRejected: \t7\nIteration: \t77 / 100\nConfirmed: \t1\nTentative: \t1\nRejected: \t7\nIteration: \t78 / 100\nConfirmed: \t1\nTentative: \t1\nRejected: \t7\nIteration: \t79 / 100\nConfirmed: \t1\nTentative: \t1\nRejected: \t7\nIteration: \t80 / 100\nConfirmed: \t1\nTentative: \t1\nRejected: \t7\nIteration: \t81 / 100\nConfirmed: \t1\nTentative: \t1\nRejected: \t7\nIteration: \t82 / 100\nConfirmed: \t1\nTentative: \t1\nRejected: \t7\nIteration: \t83 / 100\nConfirmed: \t1\nTentative: \t1\nRejected: \t7\nIteration: \t84 / 100\nConfirmed: \t1\nTentative: \t1\nRejected: \t7\nIteration: \t85 / 100\nConfirmed: \t1\nTentative: \t1\nRejected: \t7\nIteration: \t86 / 100\nConfirmed: \t1\nTentative: \t1\nRejected: \t7\nIteration: \t87 / 100\nConfirmed: \t1\nTentative: \t1\nRejected: \t7\nIteration: \t88 / 100\nConfirmed: \t1\nTentative: \t1\nRejected: \t7\nIteration: \t89 / 100\nConfirmed: \t1\nTentative: \t1\nRejected: \t7\nIteration: \t90 / 100\nConfirmed: \t1\nTentative: \t1\nRejected: \t7\nIteration: \t91 / 100\nConfirmed: \t1\nTentative: \t1\nRejected: \t7\nIteration: \t92 / 100\nConfirmed: \t1\nTentative: \t1\nRejected: \t7\nIteration: \t93 / 100\nConfirmed: \t1\nTentative: \t1\nRejected: \t7\nIteration: \t94 / 100\nConfirmed: \t1\nTentative: \t1\nRejected: \t7\nIteration: \t95 / 100\nConfirmed: \t1\nTentative: \t0\nRejected: \t8\n\n\nBorutaPy finished running.\n\nIteration: \t96 / 100\nConfirmed: \t1\nTentative: \t0\nRejected: \t8\n",
     "output_type": "stream"
    }
   ]
  },
  {
   "cell_type": "code",
   "source": "cols_selected = boruta.support_.tolist()\n\nx_train_fs = X_train.drop(columns=['id','response'])\ncols_selected_boruta = x_train_fs.iloc[:,cols_selected]\n\ncols_not_selected_boruta = list(np.setdiff1d(x_train_fs.columns, cols_selected_boruta))",
   "metadata": {
    "ExecuteTime": {
     "end_time": "2022-08-30T22:13:23.060989Z",
     "start_time": "2022-08-30T22:13:23.045406Z"
    },
    "cell_id": "00015-ceaeb654-7b47-460e-b867-17d859bb31f6",
    "deepnote_to_be_reexecuted": false,
    "source_hash": "7f667bd6",
    "execution_start": 1661952309356,
    "execution_millis": 3,
    "deepnote_cell_type": "code",
    "deepnote_cell_height": 171
   },
   "execution_count": 11,
   "outputs": []
  },
  {
   "cell_type": "code",
   "source": "cols_selected_boruta.columns",
   "metadata": {
    "ExecuteTime": {
     "end_time": "2022-08-30T22:13:23.076611Z",
     "start_time": "2022-08-30T22:13:23.060989Z"
    },
    "cell_id": "00016-18f2243d-322f-48e4-a561-0345b02d99bb",
    "deepnote_to_be_reexecuted": false,
    "source_hash": "81c5ada7",
    "execution_start": 1661952311803,
    "execution_millis": 8,
    "deepnote_cell_type": "code",
    "deepnote_cell_height": 112,
    "deepnote_output_heights": [
     20
    ]
   },
   "execution_count": 12,
   "outputs": [
    {
     "output_type": "execute_result",
     "execution_count": 12,
     "data": {
      "text/plain": "Index(['vehicle_damage'], dtype='object')"
     },
     "metadata": {}
    }
   ]
  },
  {
   "cell_type": "code",
   "source": "cols_selected_boruta_final = ['vehicle_damage']",
   "metadata": {
    "cell_id": "30e8b04c041944a9aa7715ddfb0dbeb2",
    "tags": [],
    "deepnote_cell_type": "code",
    "deepnote_cell_height": 61
   },
   "outputs": [],
   "execution_count": null
  },
  {
   "cell_type": "markdown",
   "source": "## Feature importance",
   "metadata": {
    "cell_id": "7ded9cccf5574c8ebb1a1bd2b9208b85",
    "tags": [],
    "deepnote_cell_type": "markdown",
    "deepnote_cell_height": 70
   }
  },
  {
   "cell_type": "code",
   "source": "etf = ExtraTreesClassifier(n_estimators=100,criterion=\"entropy\",max_features='sqrt')",
   "metadata": {
    "cell_id": "ea500143396b44cb9755c0830dfdb661",
    "tags": [],
    "deepnote_to_be_reexecuted": false,
    "source_hash": "b44c2198",
    "execution_start": 1661952384078,
    "execution_millis": 3,
    "deepnote_cell_type": "code",
    "deepnote_cell_height": 81
   },
   "outputs": [],
   "execution_count": 17
  },
  {
   "cell_type": "code",
   "source": "X_train_etf = X_train.drop(columns=['id','response'])\netf.fit(X_train_etf,y_train)",
   "metadata": {
    "cell_id": "196a16a8e8c5415aab542842e161ffa9",
    "tags": [],
    "deepnote_to_be_reexecuted": false,
    "source_hash": "b16f9e59",
    "execution_start": 1661952386156,
    "execution_millis": 27497,
    "deepnote_cell_type": "code",
    "deepnote_cell_height": 169,
    "deepnote_output_heights": [
     59
    ]
   },
   "outputs": [
    {
     "output_type": "execute_result",
     "execution_count": 18,
     "data": {
      "text/plain": "ExtraTreesClassifier(criterion='entropy')",
      "text/html": "<style>#sk-container-id-1 {color: black;background-color: white;}#sk-container-id-1 pre{padding: 0;}#sk-container-id-1 div.sk-toggleable {background-color: white;}#sk-container-id-1 label.sk-toggleable__label {cursor: pointer;display: block;width: 100%;margin-bottom: 0;padding: 0.3em;box-sizing: border-box;text-align: center;}#sk-container-id-1 label.sk-toggleable__label-arrow:before {content: \"▸\";float: left;margin-right: 0.25em;color: #696969;}#sk-container-id-1 label.sk-toggleable__label-arrow:hover:before {color: black;}#sk-container-id-1 div.sk-estimator:hover label.sk-toggleable__label-arrow:before {color: black;}#sk-container-id-1 div.sk-toggleable__content {max-height: 0;max-width: 0;overflow: hidden;text-align: left;background-color: #f0f8ff;}#sk-container-id-1 div.sk-toggleable__content pre {margin: 0.2em;color: black;border-radius: 0.25em;background-color: #f0f8ff;}#sk-container-id-1 input.sk-toggleable__control:checked~div.sk-toggleable__content {max-height: 200px;max-width: 100%;overflow: auto;}#sk-container-id-1 input.sk-toggleable__control:checked~label.sk-toggleable__label-arrow:before {content: \"▾\";}#sk-container-id-1 div.sk-estimator input.sk-toggleable__control:checked~label.sk-toggleable__label {background-color: #d4ebff;}#sk-container-id-1 div.sk-label input.sk-toggleable__control:checked~label.sk-toggleable__label {background-color: #d4ebff;}#sk-container-id-1 input.sk-hidden--visually {border: 0;clip: rect(1px 1px 1px 1px);clip: rect(1px, 1px, 1px, 1px);height: 1px;margin: -1px;overflow: hidden;padding: 0;position: absolute;width: 1px;}#sk-container-id-1 div.sk-estimator {font-family: monospace;background-color: #f0f8ff;border: 1px dotted black;border-radius: 0.25em;box-sizing: border-box;margin-bottom: 0.5em;}#sk-container-id-1 div.sk-estimator:hover {background-color: #d4ebff;}#sk-container-id-1 div.sk-parallel-item::after {content: \"\";width: 100%;border-bottom: 1px solid gray;flex-grow: 1;}#sk-container-id-1 div.sk-label:hover label.sk-toggleable__label {background-color: #d4ebff;}#sk-container-id-1 div.sk-serial::before {content: \"\";position: absolute;border-left: 1px solid gray;box-sizing: border-box;top: 0;bottom: 0;left: 50%;z-index: 0;}#sk-container-id-1 div.sk-serial {display: flex;flex-direction: column;align-items: center;background-color: white;padding-right: 0.2em;padding-left: 0.2em;position: relative;}#sk-container-id-1 div.sk-item {position: relative;z-index: 1;}#sk-container-id-1 div.sk-parallel {display: flex;align-items: stretch;justify-content: center;background-color: white;position: relative;}#sk-container-id-1 div.sk-item::before, #sk-container-id-1 div.sk-parallel-item::before {content: \"\";position: absolute;border-left: 1px solid gray;box-sizing: border-box;top: 0;bottom: 0;left: 50%;z-index: -1;}#sk-container-id-1 div.sk-parallel-item {display: flex;flex-direction: column;z-index: 1;position: relative;background-color: white;}#sk-container-id-1 div.sk-parallel-item:first-child::after {align-self: flex-end;width: 50%;}#sk-container-id-1 div.sk-parallel-item:last-child::after {align-self: flex-start;width: 50%;}#sk-container-id-1 div.sk-parallel-item:only-child::after {width: 0;}#sk-container-id-1 div.sk-dashed-wrapped {border: 1px dashed gray;margin: 0 0.4em 0.5em 0.4em;box-sizing: border-box;padding-bottom: 0.4em;background-color: white;}#sk-container-id-1 div.sk-label label {font-family: monospace;font-weight: bold;display: inline-block;line-height: 1.2em;}#sk-container-id-1 div.sk-label-container {text-align: center;}#sk-container-id-1 div.sk-container {/* jupyter's `normalize.less` sets `[hidden] { display: none; }` but bootstrap.min.css set `[hidden] { display: none !important; }` so we also need the `!important` here to be able to override the default hidden behavior on the sphinx rendered scikit-learn.org. See: https://github.com/scikit-learn/scikit-learn/issues/21755 */display: inline-block !important;position: relative;}#sk-container-id-1 div.sk-text-repr-fallback {display: none;}</style><div id=\"sk-container-id-1\" class=\"sk-top-container\"><div class=\"sk-text-repr-fallback\"><pre>ExtraTreesClassifier(criterion=&#x27;entropy&#x27;)</pre><b>In a Jupyter environment, please rerun this cell to show the HTML representation or trust the notebook. <br />On GitHub, the HTML representation is unable to render, please try loading this page with nbviewer.org.</b></div><div class=\"sk-container\" hidden><div class=\"sk-item\"><div class=\"sk-estimator sk-toggleable\"><input class=\"sk-toggleable__control sk-hidden--visually\" id=\"sk-estimator-id-1\" type=\"checkbox\" checked><label for=\"sk-estimator-id-1\" class=\"sk-toggleable__label sk-toggleable__label-arrow\">ExtraTreesClassifier</label><div class=\"sk-toggleable__content\"><pre>ExtraTreesClassifier(criterion=&#x27;entropy&#x27;)</pre></div></div></div></div></div>"
     },
     "metadata": {}
    }
   ],
   "execution_count": 18
  },
  {
   "cell_type": "code",
   "source": "etf.feature_importances_",
   "metadata": {
    "cell_id": "4c349ff4283b442498c2194bccef26fc",
    "tags": [],
    "deepnote_to_be_reexecuted": false,
    "source_hash": "bebb6739",
    "execution_start": 1661952440790,
    "execution_millis": 259,
    "deepnote_cell_type": "code",
    "deepnote_cell_height": 131,
    "deepnote_output_heights": [
     39
    ]
   },
   "outputs": [
    {
     "output_type": "execute_result",
     "execution_count": 19,
     "data": {
      "text/plain": "array([0.00531063, 0.12984885, 0.10076338, 0.06492919, 0.13311627,\n       0.21187972, 0.24238578, 0.02109506, 0.09067111])"
     },
     "metadata": {}
    }
   ],
   "execution_count": 19
  },
  {
   "cell_type": "code",
   "source": "feature_importance_normalized = np.std([tree.feature_importances_ for tree in \n                                        etf.estimators_],\n                                        axis = 0)",
   "metadata": {
    "cell_id": "7abedbc7181345f685976dabe0fac57e",
    "tags": [],
    "deepnote_to_be_reexecuted": false,
    "source_hash": "fa4f862e",
    "execution_start": 1661952519092,
    "execution_millis": 236,
    "deepnote_cell_type": "code",
    "deepnote_cell_height": 117
   },
   "outputs": [],
   "execution_count": 20
  },
  {
   "cell_type": "code",
   "source": "ft_values = pd.Series(data=feature_importance_normalized,name='ft')\nft_names = pd.Series(data=X_train_etf.columns)\naux = {'feature':ft_names,'values':ft_values}\nfeature_import = pd.DataFrame(aux)\nfeature_import = feature_import.sort_values(by=['values'],ascending=False)\n",
   "metadata": {
    "cell_id": "897baf4d0e1144dabda26469b2c6170c",
    "tags": [],
    "deepnote_to_be_reexecuted": false,
    "source_hash": "87aa5df",
    "execution_start": 1661954399667,
    "execution_millis": 1,
    "deepnote_cell_type": "code",
    "deepnote_cell_height": 279,
    "deepnote_output_heights": [
     193
    ]
   },
   "outputs": [],
   "execution_count": 68
  },
  {
   "cell_type": "code",
   "source": "sns.barplot(x='feature',y='values',data=feature_import)\nplt.xlabel('Feature Labels')\nplt.ylabel('Feature Importances')\nplt.title('Comparison of different Feature Importances')\nplt.show()",
   "metadata": {
    "cell_id": "14ec209830694f1b834a47182b143e6f",
    "tags": [],
    "deepnote_to_be_reexecuted": false,
    "source_hash": "20773bbb",
    "execution_start": 1661954401920,
    "execution_millis": 370,
    "deepnote_cell_type": "code",
    "deepnote_cell_height": 426,
    "deepnote_output_heights": [
     262
    ]
   },
   "outputs": [
    {
     "data": {
      "text/plain": "<Figure size 1800x864 with 1 Axes>",
      "image/png": "[encoded data removed]"
     },
     "metadata": {
      "image/png": {
       "width": 1460,
       "height": 720
      }
     },
     "output_type": "display_data"
    }
   ],
   "execution_count": 69
  },
  {
   "cell_type": "markdown",
   "source": "<a style='text-decoration:none;line-height:16px;display:flex;color:#5B5B62;padding:10px;justify-content:end;' href='https://deepnote.com?utm_source=created-in-deepnote-cell&projectId=3161d838-98a4-47ed-ae81-127ad2068af4' target=\"_blank\">\n<img alt='Created in deepnote.com' style='display:inline;max-height:16px;margin:0px;margin-right:7.5px;' src='data:image/svg+xml;base64,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' > </img>\nCreated in <span style='font-weight:600;margin-left:4px;'>Deepnote</span></a>",
   "metadata": {
    "tags": [],
    "created_in_deepnote_cell": true,
    "deepnote_cell_type": "markdown"
   }
  }
 ],
 "nbformat": 4,
 "nbformat_minor": 2,
 "metadata": {
  "deepnote": {},
  "deepnote_execution_queue": [],
  "deepnote_notebook_id": "6fc7dc12-8e27-4a37-9e9e-26b7f39d675c",
  "kernelspec": {
   "display_name": "Python 3",
   "language": "python",
   "name": "python3"
  },
  "language_info": {
   "codemirror_mode": {
    "name": "ipython",
    "version": 3
   },
   "file_extension": ".py",
   "mimetype": "text/x-python",
   "name": "python",
   "nbconvert_exporter": "python",
   "pygments_lexer": "ipython3",
   "version": "3.8.5"
  }
 }
}