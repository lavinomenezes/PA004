{
 "cells": [
  {
   "cell_type": "markdown",
   "source": "# Imports",
   "metadata": {
    "cell_id": "14d744d2-4748-4c95-903c-15a9d3adc6e6",
    "deepnote_cell_type": "markdown",
    "deepnote_cell_height": 81.60000610351562
   }
  },
  {
   "cell_type": "code",
   "source": "import pandas as pd\nimport numpy as np\nimport seaborn as sns\nimport matplotlib.pyplot as plt\nimport xgboost as xgb\nfrom IPython.core.display import HTML\nfrom sklearn.model_selection import train_test_split\nfrom sklearn.ensemble import RandomForestClassifier\nfrom sklearn.ensemble import ExtraTreesClassifier\nfrom sklearn.neighbors import KNeighborsClassifier\nimport sklearn.metrics\nfrom sklearn import linear_model as lm\nimport scikitplot as skplt\npd.options.mode.chained_assignment = None  # default='warn'",
   "metadata": {
    "ExecuteTime": {
     "end_time": "2022-09-07T21:54:01.766342Z",
     "start_time": "2022-09-07T21:53:56.068568Z"
    },
    "cell_id": "00001-8f2e38cd-122d-43db-9f3e-17e868bf9b11",
    "deepnote_to_be_reexecuted": false,
    "source_hash": "f8c75c44",
    "execution_start": 1662730608295,
    "execution_millis": 1,
    "deepnote_cell_type": "code",
    "deepnote_cell_height": 309.6000061035156
   },
   "execution_count": 74,
   "outputs": []
  },
  {
   "cell_type": "markdown",
   "source": "# helper functions",
   "metadata": {
    "cell_id": "00002-c8dd785f-c8d1-46e1-a60a-736494a581d6",
    "deepnote_cell_type": "markdown",
    "deepnote_cell_height": 81.60000610351562
   }
  },
  {
   "cell_type": "code",
   "metadata": {
    "ExecuteTime": {
     "end_time": "2022-09-07T21:54:04.436173Z",
     "start_time": "2022-09-07T21:54:04.383384Z"
    },
    "cell_id": "00003-5517e9ba-f076-4b96-a62d-e53e82cfe237",
    "deepnote_to_be_reexecuted": false,
    "source_hash": "46a4bb4d",
    "execution_start": 1662726374253,
    "execution_millis": 398,
    "deepnote_cell_type": "code",
    "deepnote_cell_height": 302.20001220703125,
    "deepnote_output_heights": [
     null,
     1
    ]
   },
   "source": "def jupyter_settings():\n    %matplotlib inline\n    %pylab inline\n    plt.style.use( 'bmh' )\n    plt.rcParams['figure.figsize'] = [25, 12]\n    plt.rcParams['font.size'] = 24\n    display( HTML( '<style>.container { width:100% !important; }</style>') )\n    sns.set()\njupyter_settings()",
   "execution_count": 2,
   "outputs": [
    {
     "name": "stdout",
     "text": "%pylab is deprecated, use %matplotlib inline and import the required libraries.\nPopulating the interactive namespace from numpy and matplotlib\n",
     "output_type": "stream"
    },
    {
     "data": {
      "text/plain": "<IPython.core.display.HTML object>",
      "text/html": "<style>.container { width:100% !important; }</style>"
     },
     "metadata": {},
     "output_type": "display_data"
    }
   ]
  },
  {
   "cell_type": "code",
   "metadata": {
    "ExecuteTime": {
     "end_time": "2022-09-07T21:54:06.526099Z",
     "start_time": "2022-09-07T21:54:06.495431Z"
    },
    "cell_id": "00004-47f8bd42-4273-4320-bc31-e5a79be3291f",
    "deepnote_to_be_reexecuted": false,
    "source_hash": "3c1bb37b",
    "execution_start": 1662726374297,
    "execution_millis": 42,
    "deepnote_cell_type": "code",
    "deepnote_cell_height": 237.60000610351562
   },
   "source": "def precision_at_k( data, k=2000 ):\n    # reset index\n    data = data.reset_index( drop=True )\n\n    # create ranking order\n    data['ranking'] = data.index + 1 \n\n    data['precision_at_k'] = data['response'].cumsum() / data['ranking']\n\n    return data.loc[k, 'precision_at_k']",
   "execution_count": 3,
   "outputs": []
  },
  {
   "cell_type": "code",
   "metadata": {
    "ExecuteTime": {
     "end_time": "2022-09-07T21:54:08.203908Z",
     "start_time": "2022-09-07T21:54:08.173224Z"
    },
    "cell_id": "00005-9d92dab6-46cd-49b8-8ed3-62f3a5a3e035",
    "deepnote_to_be_reexecuted": false,
    "source_hash": "979ce389",
    "execution_start": 1662726374340,
    "execution_millis": 47,
    "deepnote_cell_type": "code",
    "deepnote_cell_height": 237.60000610351562
   },
   "source": "def recall_at_k( data, k=2000 ):\n    # reset index\n    data = data.reset_index( drop=True )\n\n    # create ranking order\n    data['ranking'] = data.index + 1 \n\n    data['recall_at_k'] = data['response'].cumsum() / data['response'].sum()\n\n    return data.loc[k, 'recall_at_k']",
   "execution_count": 4,
   "outputs": []
  },
  {
   "cell_type": "code",
   "metadata": {
    "ExecuteTime": {
     "end_time": "2022-09-07T21:54:09.827818Z",
     "start_time": "2022-09-07T21:54:09.797174Z"
    },
    "cell_id": "00006-ab8794da-ac1a-4a74-a1c7-59a2709e69f8",
    "deepnote_to_be_reexecuted": false,
    "source_hash": "1776f534",
    "execution_start": 1662726374436,
    "execution_millis": 39,
    "deepnote_cell_type": "code",
    "deepnote_cell_height": 291.6000061035156
   },
   "source": "def performace(model_name,data,y_val,yhat_class,k):\n    import sklearn.metrics\n    prec = sklearn.metrics.precision_score(y_val,yhat_class)\n    recal = sklearn.metrics.recall_score(y_val,yhat_class)\n    recal_k = recall_at_k(data,k)\n    prec_k = precision_at_k(data,k)\n    \n    return pd.DataFrame({'Model Name':model_name,\n                        'Precison':prec,\n                        'Recall':recal,\n                        'k':k,\n                        'Precison at k':prec_k,\n                        'Recall at k':recal_k},index=[0])",
   "execution_count": 5,
   "outputs": []
  },
  {
   "cell_type": "code",
   "source": "def performace_cross_val(data,target,model,model_name,round_n=3,splits=4,shuffle_n=True,random=42,k=2000):\n    import sklearn.model_selection as ms\n    import sklearn.metrics\n    import numpy as np\n    skf = ms.StratifiedKFold(n_splits=splits,shuffle=shuffle_n,random_state=random)\n    X = data\n    y = X[target]\n    X = X.drop(columns=[target,'id'])\n    precision = []\n    recall = []\n    prec_k = []\n    rec_k = []\n    for train_index, test_index in skf.split(X,y):\n        #train the model \n        model.fit(X.iloc[train_index],y.iloc[train_index])\n\n        #predict the classification \n        yhat_class = model.predict( X.iloc[test_index] )\n\n        #predict the probabilit\n        yhat_proba = model.predict_proba(X.iloc[test_index])\n\n        # precision and recall\n        prec = sklearn.metrics.precision_score(y.iloc[test_index],yhat_class)\n        rec = sklearn.metrics.recall_score(y.iloc[test_index],yhat_class)\n        precision.append(prec)\n        recall.append(rec)\n\n        # sort the test dataframe by the probabiliti score of the model\n        aux = X.iloc[test_index]\n        aux[target] = y[test_index]\n        aux['score'] = yhat_proba[:,1].tolist()\n\n        # sorte by score\n        aux = aux.sort_values('score',ascending=False)\n\n        # precision and recall at k\n        prec_k.append(precision_at_k(aux,k))\n        rec_k.append(recall_at_k(aux,k))\n\n    # return a dataset with the metrics    \n    return pd.DataFrame({'Model name': model_name + \" Cross_Val\",\n                                'PRECISION CROSS_VAL': np.round( np.mean( precision ), round_n ),\n                                'PRECISON STD': np.round( np.std( precision ), round_n ),\n                                'RECALL CROSS_VAL': np.round( np.mean( recall ), round_n ),\n                                'RECALL STD': np.round( np.std( recall ), round_n ),\n                                'PRECISION AT K CROSS_VAL': np.round( np.mean( prec_k ), round_n ),\n                                'PRECISION AT K STD': np.round( np.std( prec_k ), round_n ),\n                                'RECALL AT K CROSS_VAL': np.round( np.mean( rec_k), round_n ),\n                                'RECALL AT K STD': np.round( np.std( rec_k )) },index=[0]) ",
   "metadata": {
    "cell_id": "742c29517f224f6298fe9b0cab0c09de",
    "tags": [],
    "deepnote_to_be_reexecuted": false,
    "source_hash": "a4b26ef3",
    "execution_start": 1662726931231,
    "execution_millis": 1,
    "deepnote_cell_type": "code",
    "deepnote_cell_height": 957.5999755859375
   },
   "outputs": [],
   "execution_count": 61
  },
  {
   "cell_type": "markdown",
   "source": "# Load data",
   "metadata": {
    "cell_id": "00007-84180494-931e-413c-ac91-7d9eb41170ee",
    "deepnote_cell_type": "markdown",
    "deepnote_cell_height": 81.60000610351562
   }
  },
  {
   "cell_type": "code",
   "metadata": {
    "ExecuteTime": {
     "end_time": "2022-09-07T21:54:18.443927Z",
     "start_time": "2022-09-07T21:54:17.988126Z"
    },
    "cell_id": "00008-c41e43a5-52c6-4310-9007-b7ae4b5435fa",
    "deepnote_to_be_reexecuted": false,
    "source_hash": "37361c87",
    "execution_start": 1662726374476,
    "execution_millis": 296,
    "deepnote_cell_type": "code",
    "deepnote_cell_height": 75.60000610351562
   },
   "source": "df6 = pd.read_csv('data/df5.csv')",
   "execution_count": 6,
   "outputs": []
  },
  {
   "cell_type": "code",
   "metadata": {
    "ExecuteTime": {
     "end_time": "2022-09-07T21:54:37.035531Z",
     "start_time": "2022-09-07T21:54:37.004310Z"
    },
    "scrolled": true,
    "cell_id": "00009-51310743-184f-4924-9bd7-bad07ab35a12",
    "deepnote_to_be_reexecuted": false,
    "source_hash": "8f2e4d8a",
    "execution_start": 1662726374789,
    "execution_millis": 29,
    "deepnote_cell_type": "code",
    "deepnote_cell_height": 389.20001220703125,
    "deepnote_output_heights": [
     175
    ]
   },
   "source": "df6.head()",
   "execution_count": 7,
   "outputs": [
    {
     "output_type": "execute_result",
     "execution_count": 7,
     "data": {
      "application/vnd.deepnote.dataframe.v3+json": {
       "column_count": 9,
       "row_count": 5,
       "columns": [
        {
         "name": "id",
         "dtype": "int64",
         "stats": {
          "unique_count": 5,
          "nan_count": 0,
          "min": "1",
          "max": "5",
          "histogram": [
           {
            "bin_start": 1,
            "bin_end": 1.4,
            "count": 1
           },
           {
            "bin_start": 1.4,
            "bin_end": 1.8,
            "count": 0
           },
           {
            "bin_start": 1.8,
            "bin_end": 2.2,
            "count": 1
           },
           {
            "bin_start": 2.2,
            "bin_end": 2.6,
            "count": 0
           },
           {
            "bin_start": 2.6,
            "bin_end": 3,
            "count": 0
           },
           {
            "bin_start": 3,
            "bin_end": 3.4000000000000004,
            "count": 1
           },
           {
            "bin_start": 3.4000000000000004,
            "bin_end": 3.8000000000000003,
            "count": 0
           },
           {
            "bin_start": 3.8000000000000003,
            "bin_end": 4.2,
            "count": 1
           },
           {
            "bin_start": 4.2,
            "bin_end": 4.6,
            "count": 0
           },
           {
            "bin_start": 4.6,
            "bin_end": 5,
            "count": 1
           }
          ]
         }
        },
        {
         "name": "age",
         "dtype": "float64",
         "stats": {
          "unique_count": 5,
          "nan_count": 0,
          "min": "0.0153846153846153",
          "max": "0.8615384615384616",
          "histogram": [
           {
            "bin_start": 0.0153846153846153,
            "bin_end": 0.09999999999999992,
            "count": 1
           },
           {
            "bin_start": 0.09999999999999992,
            "bin_end": 0.18461538461538454,
            "count": 1
           },
           {
            "bin_start": 0.18461538461538454,
            "bin_end": 0.2692307692307691,
            "count": 0
           },
           {
            "bin_start": 0.2692307692307691,
            "bin_end": 0.35384615384615375,
            "count": 0
           },
           {
            "bin_start": 0.35384615384615375,
            "bin_end": 0.4384615384615384,
            "count": 2
           },
           {
            "bin_start": 0.4384615384615384,
            "bin_end": 0.523076923076923,
            "count": 0
           },
           {
            "bin_start": 0.523076923076923,
            "bin_end": 0.6076923076923076,
            "count": 0
           },
           {
            "bin_start": 0.6076923076923076,
            "bin_end": 0.6923076923076923,
            "count": 0
           },
           {
            "bin_start": 0.6923076923076923,
            "bin_end": 0.7769230769230769,
            "count": 0
           },
           {
            "bin_start": 0.7769230769230769,
            "bin_end": 0.8615384615384616,
            "count": 1
           }
          ]
         }
        },
        {
         "name": "region_code",
         "dtype": "float64",
         "stats": {
          "unique_count": 4,
          "nan_count": 0,
          "min": "3.0",
          "max": "41.0",
          "histogram": [
           {
            "bin_start": 3,
            "bin_end": 6.8,
            "count": 1
           },
           {
            "bin_start": 6.8,
            "bin_end": 10.6,
            "count": 0
           },
           {
            "bin_start": 10.6,
            "bin_end": 14.399999999999999,
            "count": 1
           },
           {
            "bin_start": 14.399999999999999,
            "bin_end": 18.2,
            "count": 0
           },
           {
            "bin_start": 18.2,
            "bin_end": 22,
            "count": 0
           },
           {
            "bin_start": 22,
            "bin_end": 25.799999999999997,
            "count": 0
           },
           {
            "bin_start": 25.799999999999997,
            "bin_end": 29.599999999999998,
            "count": 2
           },
           {
            "bin_start": 29.599999999999998,
            "bin_end": 33.4,
            "count": 0
           },
           {
            "bin_start": 33.4,
            "bin_end": 37.199999999999996,
            "count": 0
           },
           {
            "bin_start": 37.199999999999996,
            "bin_end": 41,
            "count": 1
           }
          ]
         }
        },
        {
         "name": "policy_sales_channel",
         "dtype": "float64",
         "stats": {
          "unique_count": 2,
          "nan_count": 0,
          "min": "26.0",
          "max": "152.0",
          "histogram": [
           {
            "bin_start": 26,
            "bin_end": 38.6,
            "count": 3
           },
           {
            "bin_start": 38.6,
            "bin_end": 51.2,
            "count": 0
           },
           {
            "bin_start": 51.2,
            "bin_end": 63.8,
            "count": 0
           },
           {
            "bin_start": 63.8,
            "bin_end": 76.4,
            "count": 0
           },
           {
            "bin_start": 76.4,
            "bin_end": 89,
            "count": 0
           },
           {
            "bin_start": 89,
            "bin_end": 101.6,
            "count": 0
           },
           {
            "bin_start": 101.6,
            "bin_end": 114.2,
            "count": 0
           },
           {
            "bin_start": 114.2,
            "bin_end": 126.8,
            "count": 0
           },
           {
            "bin_start": 126.8,
            "bin_end": 139.39999999999998,
            "count": 0
           },
           {
            "bin_start": 139.39999999999998,
            "bin_end": 152,
            "count": 2
           }
          ]
         }
        },
        {
         "name": "previously_insured",
         "dtype": "int64",
         "stats": {
          "unique_count": 2,
          "nan_count": 0,
          "min": "0",
          "max": "1",
          "histogram": [
           {
            "bin_start": 0,
            "bin_end": 0.1,
            "count": 3
           },
           {
            "bin_start": 0.1,
            "bin_end": 0.2,
            "count": 0
           },
           {
            "bin_start": 0.2,
            "bin_end": 0.30000000000000004,
            "count": 0
           },
           {
            "bin_start": 0.30000000000000004,
            "bin_end": 0.4,
            "count": 0
           },
           {
            "bin_start": 0.4,
            "bin_end": 0.5,
            "count": 0
           },
           {
            "bin_start": 0.5,
            "bin_end": 0.6000000000000001,
            "count": 0
           },
           {
            "bin_start": 0.6000000000000001,
            "bin_end": 0.7000000000000001,
            "count": 0
           },
           {
            "bin_start": 0.7000000000000001,
            "bin_end": 0.8,
            "count": 0
           },
           {
            "bin_start": 0.8,
            "bin_end": 0.9,
            "count": 0
           },
           {
            "bin_start": 0.9,
            "bin_end": 1,
            "count": 2
           }
          ]
         }
        },
        {
         "name": "vintage",
         "dtype": "float64",
         "stats": {
          "unique_count": 5,
          "nan_count": 0,
          "min": "0.0588235294117647",
          "max": "0.7162629757785468",
          "histogram": [
           {
            "bin_start": 0.0588235294117647,
            "bin_end": 0.1245674740484429,
            "count": 2
           },
           {
            "bin_start": 0.1245674740484429,
            "bin_end": 0.1903114186851211,
            "count": 0
           },
           {
            "bin_start": 0.1903114186851211,
            "bin_end": 0.25605536332179935,
            "count": 0
           },
           {
            "bin_start": 0.25605536332179935,
            "bin_end": 0.32179930795847755,
            "count": 0
           },
           {
            "bin_start": 0.32179930795847755,
            "bin_end": 0.38754325259515576,
            "count": 0
           },
           {
            "bin_start": 0.38754325259515576,
            "bin_end": 0.45328719723183397,
            "count": 0
           },
           {
            "bin_start": 0.45328719723183397,
            "bin_end": 0.5190311418685122,
            "count": 0
           },
           {
            "bin_start": 0.5190311418685122,
            "bin_end": 0.5847750865051904,
            "count": 0
           },
           {
            "bin_start": 0.5847750865051904,
            "bin_end": 0.6505190311418686,
            "count": 1
           },
           {
            "bin_start": 0.6505190311418686,
            "bin_end": 0.7162629757785468,
            "count": 2
           }
          ]
         }
        },
        {
         "name": "vehicle_age",
         "dtype": "int64",
         "stats": {
          "unique_count": 3,
          "nan_count": 0,
          "min": "1",
          "max": "3",
          "histogram": [
           {
            "bin_start": 1,
            "bin_end": 1.2,
            "count": 2
           },
           {
            "bin_start": 1.2,
            "bin_end": 1.4,
            "count": 0
           },
           {
            "bin_start": 1.4,
            "bin_end": 1.6,
            "count": 0
           },
           {
            "bin_start": 1.6,
            "bin_end": 1.8,
            "count": 0
           },
           {
            "bin_start": 1.8,
            "bin_end": 2,
            "count": 0
           },
           {
            "bin_start": 2,
            "bin_end": 2.2,
            "count": 1
           },
           {
            "bin_start": 2.2,
            "bin_end": 2.4000000000000004,
            "count": 0
           },
           {
            "bin_start": 2.4000000000000004,
            "bin_end": 2.6,
            "count": 0
           },
           {
            "bin_start": 2.6,
            "bin_end": 2.8,
            "count": 0
           },
           {
            "bin_start": 2.8,
            "bin_end": 3,
            "count": 2
           }
          ]
         }
        },
        {
         "name": "vehicle_damage",
         "dtype": "int64",
         "stats": {
          "unique_count": 2,
          "nan_count": 0,
          "min": "0",
          "max": "1",
          "histogram": [
           {
            "bin_start": 0,
            "bin_end": 0.1,
            "count": 3
           },
           {
            "bin_start": 0.1,
            "bin_end": 0.2,
            "count": 0
           },
           {
            "bin_start": 0.2,
            "bin_end": 0.30000000000000004,
            "count": 0
           },
           {
            "bin_start": 0.30000000000000004,
            "bin_end": 0.4,
            "count": 0
           },
           {
            "bin_start": 0.4,
            "bin_end": 0.5,
            "count": 0
           },
           {
            "bin_start": 0.5,
            "bin_end": 0.6000000000000001,
            "count": 0
           },
           {
            "bin_start": 0.6000000000000001,
            "bin_end": 0.7000000000000001,
            "count": 0
           },
           {
            "bin_start": 0.7000000000000001,
            "bin_end": 0.8,
            "count": 0
           },
           {
            "bin_start": 0.8,
            "bin_end": 0.9,
            "count": 0
           },
           {
            "bin_start": 0.9,
            "bin_end": 1,
            "count": 2
           }
          ]
         }
        },
        {
         "name": "response",
         "dtype": "int64",
         "stats": {
          "unique_count": 2,
          "nan_count": 0,
          "min": "0",
          "max": "1",
          "histogram": [
           {
            "bin_start": 0,
            "bin_end": 0.1,
            "count": 3
           },
           {
            "bin_start": 0.1,
            "bin_end": 0.2,
            "count": 0
           },
           {
            "bin_start": 0.2,
            "bin_end": 0.30000000000000004,
            "count": 0
           },
           {
            "bin_start": 0.30000000000000004,
            "bin_end": 0.4,
            "count": 0
           },
           {
            "bin_start": 0.4,
            "bin_end": 0.5,
            "count": 0
           },
           {
            "bin_start": 0.5,
            "bin_end": 0.6000000000000001,
            "count": 0
           },
           {
            "bin_start": 0.6000000000000001,
            "bin_end": 0.7000000000000001,
            "count": 0
           },
           {
            "bin_start": 0.7000000000000001,
            "bin_end": 0.8,
            "count": 0
           },
           {
            "bin_start": 0.8,
            "bin_end": 0.9,
            "count": 0
           },
           {
            "bin_start": 0.9,
            "bin_end": 1,
            "count": 2
           }
          ]
         }
        },
        {
         "name": "_deepnote_index_column",
         "dtype": "int64"
        }
       ],
       "rows": [
        {
         "id": "1",
         "age": "0.3692307692307693",
         "region_code": "28.0",
         "policy_sales_channel": "26.0",
         "previously_insured": "0",
         "vintage": "0.7162629757785468",
         "vehicle_age": "3",
         "vehicle_damage": "1",
         "response": "1",
         "_deepnote_index_column": "0"
        },
        {
         "id": "2",
         "age": "0.8615384615384616",
         "region_code": "3.0",
         "policy_sales_channel": "26.0",
         "previously_insured": "0",
         "vintage": "0.5986159169550174",
         "vehicle_age": "2",
         "vehicle_damage": "0",
         "response": "0",
         "_deepnote_index_column": "1"
        },
        {
         "id": "3",
         "age": "0.4153846153846154",
         "region_code": "28.0",
         "policy_sales_channel": "26.0",
         "previously_insured": "0",
         "vintage": "0.0588235294117647",
         "vehicle_age": "3",
         "vehicle_damage": "1",
         "response": "1",
         "_deepnote_index_column": "2"
        },
        {
         "id": "4",
         "age": "0.0153846153846153",
         "region_code": "11.0",
         "policy_sales_channel": "152.0",
         "previously_insured": "1",
         "vintage": "0.6678200692041523",
         "vehicle_age": "1",
         "vehicle_damage": "0",
         "response": "0",
         "_deepnote_index_column": "3"
        },
        {
         "id": "5",
         "age": "0.1384615384615384",
         "region_code": "41.0",
         "policy_sales_channel": "152.0",
         "previously_insured": "1",
         "vintage": "0.1003460207612456",
         "vehicle_age": "1",
         "vehicle_damage": "0",
         "response": "0",
         "_deepnote_index_column": "4"
        }
       ]
      },
      "text/plain": "   id       age  region_code  policy_sales_channel  previously_insured  \\\n0   1  0.369231         28.0                  26.0                   0   \n1   2  0.861538          3.0                  26.0                   0   \n2   3  0.415385         28.0                  26.0                   0   \n3   4  0.015385         11.0                 152.0                   1   \n4   5  0.138462         41.0                 152.0                   1   \n\n    vintage  vehicle_age  vehicle_damage  response  \n0  0.716263            3               1         1  \n1  0.598616            2               0         0  \n2  0.058824            3               1         1  \n3  0.667820            1               0         0  \n4  0.100346            1               0         0  ",
      "text/html": "<div>\n<style scoped>\n    .dataframe tbody tr th:only-of-type {\n        vertical-align: middle;\n    }\n\n    .dataframe tbody tr th {\n        vertical-align: top;\n    }\n\n    .dataframe thead th {\n        text-align: right;\n    }\n</style>\n<table border=\"1\" class=\"dataframe\">\n  <thead>\n    <tr style=\"text-align: right;\">\n      <th></th>\n      <th>id</th>\n      <th>age</th>\n      <th>region_code</th>\n      <th>policy_sales_channel</th>\n      <th>previously_insured</th>\n      <th>vintage</th>\n      <th>vehicle_age</th>\n      <th>vehicle_damage</th>\n      <th>response</th>\n    </tr>\n  </thead>\n  <tbody>\n    <tr>\n      <th>0</th>\n      <td>1</td>\n      <td>0.369231</td>\n      <td>28.0</td>\n      <td>26.0</td>\n      <td>0</td>\n      <td>0.716263</td>\n      <td>3</td>\n      <td>1</td>\n      <td>1</td>\n    </tr>\n    <tr>\n      <th>1</th>\n      <td>2</td>\n      <td>0.861538</td>\n      <td>3.0</td>\n      <td>26.0</td>\n      <td>0</td>\n      <td>0.598616</td>\n      <td>2</td>\n      <td>0</td>\n      <td>0</td>\n    </tr>\n    <tr>\n      <th>2</th>\n      <td>3</td>\n      <td>0.415385</td>\n      <td>28.0</td>\n      <td>26.0</td>\n      <td>0</td>\n      <td>0.058824</td>\n      <td>3</td>\n      <td>1</td>\n      <td>1</td>\n    </tr>\n    <tr>\n      <th>3</th>\n      <td>4</td>\n      <td>0.015385</td>\n      <td>11.0</td>\n      <td>152.0</td>\n      <td>1</td>\n      <td>0.667820</td>\n      <td>1</td>\n      <td>0</td>\n      <td>0</td>\n    </tr>\n    <tr>\n      <th>4</th>\n      <td>5</td>\n      <td>0.138462</td>\n      <td>41.0</td>\n      <td>152.0</td>\n      <td>1</td>\n      <td>0.100346</td>\n      <td>1</td>\n      <td>0</td>\n      <td>0</td>\n    </tr>\n  </tbody>\n</table>\n</div>"
     },
     "metadata": {}
    }
   ]
  },
  {
   "cell_type": "code",
   "metadata": {
    "ExecuteTime": {
     "end_time": "2022-09-07T21:54:38.126970Z",
     "start_time": "2022-09-07T21:54:38.111741Z"
    },
    "cell_id": "00010-9bcda57f-6c10-4b76-a917-7cc123ffa627",
    "deepnote_to_be_reexecuted": false,
    "source_hash": "ac6ebbf9",
    "execution_start": 1662726374815,
    "execution_millis": 55,
    "deepnote_cell_type": "code",
    "deepnote_cell_height": 284.6000061035156,
    "deepnote_output_heights": [
     193
    ]
   },
   "source": "df6.dtypes",
   "execution_count": 8,
   "outputs": [
    {
     "output_type": "execute_result",
     "execution_count": 8,
     "data": {
      "text/plain": "id                        int64\nage                     float64\nregion_code             float64\npolicy_sales_channel    float64\npreviously_insured        int64\nvintage                 float64\nvehicle_age               int64\nvehicle_damage            int64\nresponse                  int64\ndtype: object"
     },
     "metadata": {}
    }
   ]
  },
  {
   "cell_type": "markdown",
   "source": "## Slipt train test",
   "metadata": {
    "cell_id": "00011-8ade3ecc-bbc3-41e9-a58a-9ed7c892b3e5",
    "deepnote_cell_type": "markdown",
    "deepnote_cell_height": 69.60000610351562
   }
  },
  {
   "cell_type": "code",
   "metadata": {
    "ExecuteTime": {
     "end_time": "2022-09-07T21:54:43.934489Z",
     "start_time": "2022-09-07T21:54:43.919461Z"
    },
    "cell_id": "00012-159cb4bb-2b49-4980-adbd-d0e872cd2a19",
    "deepnote_to_be_reexecuted": false,
    "source_hash": "9f7252c1",
    "execution_start": 1662726374871,
    "execution_millis": 51,
    "deepnote_cell_type": "code",
    "deepnote_cell_height": 75.60000610351562
   },
   "source": "from sklearn.model_selection import StratifiedKFold",
   "execution_count": 9,
   "outputs": []
  },
  {
   "cell_type": "code",
   "metadata": {
    "ExecuteTime": {
     "end_time": "2022-09-07T16:05:57.005743Z",
     "start_time": "2022-09-07T16:05:56.466761Z"
    },
    "cell_id": "00014-300c7c0c-ae4e-4c09-82c3-e8890820e92b",
    "deepnote_to_be_reexecuted": false,
    "source_hash": "6fdaa04d",
    "execution_start": 1662726374926,
    "execution_millis": 207,
    "deepnote_cell_type": "code",
    "deepnote_cell_height": 237.60000610351562
   },
   "source": "train, val = train_test_split(df6,test_size=0.3,stratify=df6['response'],random_state=42)\n\n# train dataframes\nX_train = train.copy()\ny_train = X_train['response']\nX_train.drop(columns = ['response','id'],inplace=True)\n# validation dataframes\nx_val = val.copy()\ny_val = val['response']\nx_val.drop(columns = ['response','id'],inplace=True)",
   "execution_count": 10,
   "outputs": []
  },
  {
   "cell_type": "markdown",
   "source": "# Machine learning",
   "metadata": {
    "cell_id": "00015-e802f5a4-b869-4d12-8fa2-9235c385383f",
    "deepnote_cell_type": "markdown",
    "deepnote_cell_height": 81.60000610351562
   }
  },
  {
   "cell_type": "markdown",
   "source": "## KNN",
   "metadata": {
    "cell_id": "00016-2a0bce78-f887-46fc-bacb-c84b26d3beda",
    "deepnote_cell_type": "markdown",
    "deepnote_cell_height": 69.60000610351562
   }
  },
  {
   "cell_type": "code",
   "metadata": {
    "ExecuteTime": {
     "end_time": "2022-09-07T16:05:58.683591Z",
     "start_time": "2022-09-07T16:05:57.005743Z"
    },
    "cell_id": "00017-edcd367a-ef36-45f6-b004-e7dfad534627",
    "deepnote_to_be_reexecuted": false,
    "source_hash": "925e30ac",
    "execution_start": 1662726375187,
    "execution_millis": 342,
    "deepnote_cell_type": "code",
    "deepnote_cell_height": 222.39999389648438,
    "deepnote_output_heights": [
     59
    ]
   },
   "source": "#model\nknn_model = KNeighborsClassifier(n_neighbors=5)\n\n# model training\nknn_model.fit(X_train,y_train)",
   "execution_count": 11,
   "outputs": [
    {
     "output_type": "execute_result",
     "execution_count": 11,
     "data": {
      "text/plain": "KNeighborsClassifier()",
      "text/html": "<style>#sk-container-id-1 {color: black;background-color: white;}#sk-container-id-1 pre{padding: 0;}#sk-container-id-1 div.sk-toggleable {background-color: white;}#sk-container-id-1 label.sk-toggleable__label {cursor: pointer;display: block;width: 100%;margin-bottom: 0;padding: 0.3em;box-sizing: border-box;text-align: center;}#sk-container-id-1 label.sk-toggleable__label-arrow:before {content: \"▸\";float: left;margin-right: 0.25em;color: #696969;}#sk-container-id-1 label.sk-toggleable__label-arrow:hover:before {color: black;}#sk-container-id-1 div.sk-estimator:hover label.sk-toggleable__label-arrow:before {color: black;}#sk-container-id-1 div.sk-toggleable__content {max-height: 0;max-width: 0;overflow: hidden;text-align: left;background-color: #f0f8ff;}#sk-container-id-1 div.sk-toggleable__content pre {margin: 0.2em;color: black;border-radius: 0.25em;background-color: #f0f8ff;}#sk-container-id-1 input.sk-toggleable__control:checked~div.sk-toggleable__content {max-height: 200px;max-width: 100%;overflow: auto;}#sk-container-id-1 input.sk-toggleable__control:checked~label.sk-toggleable__label-arrow:before {content: \"▾\";}#sk-container-id-1 div.sk-estimator input.sk-toggleable__control:checked~label.sk-toggleable__label {background-color: #d4ebff;}#sk-container-id-1 div.sk-label input.sk-toggleable__control:checked~label.sk-toggleable__label {background-color: #d4ebff;}#sk-container-id-1 input.sk-hidden--visually {border: 0;clip: rect(1px 1px 1px 1px);clip: rect(1px, 1px, 1px, 1px);height: 1px;margin: -1px;overflow: hidden;padding: 0;position: absolute;width: 1px;}#sk-container-id-1 div.sk-estimator {font-family: monospace;background-color: #f0f8ff;border: 1px dotted black;border-radius: 0.25em;box-sizing: border-box;margin-bottom: 0.5em;}#sk-container-id-1 div.sk-estimator:hover {background-color: #d4ebff;}#sk-container-id-1 div.sk-parallel-item::after {content: \"\";width: 100%;border-bottom: 1px solid gray;flex-grow: 1;}#sk-container-id-1 div.sk-label:hover label.sk-toggleable__label {background-color: #d4ebff;}#sk-container-id-1 div.sk-serial::before {content: \"\";position: absolute;border-left: 1px solid gray;box-sizing: border-box;top: 0;bottom: 0;left: 50%;z-index: 0;}#sk-container-id-1 div.sk-serial {display: flex;flex-direction: column;align-items: center;background-color: white;padding-right: 0.2em;padding-left: 0.2em;position: relative;}#sk-container-id-1 div.sk-item {position: relative;z-index: 1;}#sk-container-id-1 div.sk-parallel {display: flex;align-items: stretch;justify-content: center;background-color: white;position: relative;}#sk-container-id-1 div.sk-item::before, #sk-container-id-1 div.sk-parallel-item::before {content: \"\";position: absolute;border-left: 1px solid gray;box-sizing: border-box;top: 0;bottom: 0;left: 50%;z-index: -1;}#sk-container-id-1 div.sk-parallel-item {display: flex;flex-direction: column;z-index: 1;position: relative;background-color: white;}#sk-container-id-1 div.sk-parallel-item:first-child::after {align-self: flex-end;width: 50%;}#sk-container-id-1 div.sk-parallel-item:last-child::after {align-self: flex-start;width: 50%;}#sk-container-id-1 div.sk-parallel-item:only-child::after {width: 0;}#sk-container-id-1 div.sk-dashed-wrapped {border: 1px dashed gray;margin: 0 0.4em 0.5em 0.4em;box-sizing: border-box;padding-bottom: 0.4em;background-color: white;}#sk-container-id-1 div.sk-label label {font-family: monospace;font-weight: bold;display: inline-block;line-height: 1.2em;}#sk-container-id-1 div.sk-label-container {text-align: center;}#sk-container-id-1 div.sk-container {/* jupyter's `normalize.less` sets `[hidden] { display: none; }` but bootstrap.min.css set `[hidden] { display: none !important; }` so we also need the `!important` here to be able to override the default hidden behavior on the sphinx rendered scikit-learn.org. See: https://github.com/scikit-learn/scikit-learn/issues/21755 */display: inline-block !important;position: relative;}#sk-container-id-1 div.sk-text-repr-fallback {display: none;}</style><div id=\"sk-container-id-1\" class=\"sk-top-container\"><div class=\"sk-text-repr-fallback\"><pre>KNeighborsClassifier()</pre><b>In a Jupyter environment, please rerun this cell to show the HTML representation or trust the notebook. <br />On GitHub, the HTML representation is unable to render, please try loading this page with nbviewer.org.</b></div><div class=\"sk-container\" hidden><div class=\"sk-item\"><div class=\"sk-estimator sk-toggleable\"><input class=\"sk-toggleable__control sk-hidden--visually\" id=\"sk-estimator-id-1\" type=\"checkbox\" checked><label for=\"sk-estimator-id-1\" class=\"sk-toggleable__label sk-toggleable__label-arrow\">KNeighborsClassifier</label><div class=\"sk-toggleable__content\"><pre>KNeighborsClassifier()</pre></div></div></div></div></div>"
     },
     "metadata": {}
    }
   ]
  },
  {
   "cell_type": "code",
   "metadata": {
    "ExecuteTime": {
     "end_time": "2022-09-07T16:06:47.144407Z",
     "start_time": "2022-09-07T16:05:58.683591Z"
    },
    "cell_id": "00018-73123b44-fc09-4483-84e1-8c67af5f6f3a",
    "deepnote_to_be_reexecuted": false,
    "source_hash": "e479a2c4",
    "execution_start": 1662726375533,
    "execution_millis": 26679,
    "deepnote_cell_type": "code",
    "deepnote_cell_height": 198.39999389648438
   },
   "source": "#model prediction proba - poder de generalizção\nyhat_knn_proba = knn_model.predict_proba( x_val )\n\n#model prediction - poder de generalizção\nyhat_knn_class = knn_model.predict( x_val )",
   "execution_count": 12,
   "outputs": [
    {
     "name": "stderr",
     "text": "/shared-libs/python3.9/py/lib/python3.9/site-packages/sklearn/neighbors/_classification.py:237: FutureWarning: Unlike other reduction functions (e.g. `skew`, `kurtosis`), the default behavior of `mode` typically preserves the axis it acts along. In SciPy 1.11.0, this behavior will change: the default value of `keepdims` will become False, the `axis` over which the statistic is taken will be eliminated, and the value None will no longer be accepted. Set `keepdims` to True or False to avoid this warning.\n  mode, _ = stats.mode(_y[neigh_ind, k], axis=1)\n",
     "output_type": "stream"
    }
   ]
  },
  {
   "cell_type": "code",
   "metadata": {
    "ExecuteTime": {
     "end_time": "2022-09-07T16:06:48.029170Z",
     "start_time": "2022-09-07T16:06:47.146422Z"
    },
    "scrolled": false,
    "cell_id": "00019-287ff93b-6fce-49eb-97a2-4de2942ff0ba",
    "deepnote_to_be_reexecuted": false,
    "source_hash": "4922d075",
    "execution_start": 1662726402234,
    "execution_millis": 744,
    "deepnote_cell_type": "code",
    "deepnote_cell_height": 664.4000244140625,
    "deepnote_output_heights": [
     537
    ]
   },
   "source": "fig ,ax = plt.subplots(1,2)\nskplt.metrics.plot_cumulative_gain(y_val,yhat_knn_proba,ax=ax[0]);\nskplt.metrics.plot_lift_curve(y_val,yhat_knn_proba,ax=ax[1]);",
   "execution_count": 13,
   "outputs": [
    {
     "data": {
      "text/plain": "<Figure size 1800x864 with 2 Axes>",
      "image/png": "[encoded data removed]"
     },
     "metadata": {
      "image/png": {
       "width": 1454,
       "height": 723
      }
     },
     "output_type": "display_data"
    }
   ]
  },
  {
   "cell_type": "markdown",
   "source": "## Linear model",
   "metadata": {
    "cell_id": "00020-ee979896-bb38-4467-b22e-8003e0d9b462",
    "deepnote_cell_type": "markdown",
    "deepnote_cell_height": 69.60000610351562
   }
  },
  {
   "cell_type": "code",
   "metadata": {
    "ExecuteTime": {
     "end_time": "2022-09-07T16:06:55.377640Z",
     "start_time": "2022-09-07T16:06:48.029170Z"
    },
    "cell_id": "00021-f4bab372-bb15-4b26-a4de-f6769167124c",
    "deepnote_to_be_reexecuted": false,
    "source_hash": "a6c25da3",
    "execution_start": 1662726402979,
    "execution_millis": 11942,
    "deepnote_cell_type": "code",
    "deepnote_cell_height": 354.20001220703125,
    "deepnote_output_heights": [
     59,
     59
    ]
   },
   "source": "lm_model = lm.LogisticRegression(random_state=42,n_jobs=-1)\nlm_model.fit(X_train,y_train)",
   "execution_count": 14,
   "outputs": [
    {
     "name": "stderr",
     "text": "/shared-libs/python3.9/py/lib/python3.9/site-packages/sklearn/linear_model/_logistic.py:444: ConvergenceWarning: lbfgs failed to converge (status=1):\nSTOP: TOTAL NO. of ITERATIONS REACHED LIMIT.\n\nIncrease the number of iterations (max_iter) or scale the data as shown in:\n    https://scikit-learn.org/stable/modules/preprocessing.html\nPlease also refer to the documentation for alternative solver options:\n    https://scikit-learn.org/stable/modules/linear_model.html#logistic-regression\n  n_iter_i = _check_optimize_result(\n",
     "output_type": "stream"
    },
    {
     "output_type": "execute_result",
     "execution_count": 14,
     "data": {
      "text/plain": "LogisticRegression(n_jobs=-1, random_state=42)",
      "text/html": "<style>#sk-container-id-2 {color: black;background-color: white;}#sk-container-id-2 pre{padding: 0;}#sk-container-id-2 div.sk-toggleable {background-color: white;}#sk-container-id-2 label.sk-toggleable__label {cursor: pointer;display: block;width: 100%;margin-bottom: 0;padding: 0.3em;box-sizing: border-box;text-align: center;}#sk-container-id-2 label.sk-toggleable__label-arrow:before {content: \"▸\";float: left;margin-right: 0.25em;color: #696969;}#sk-container-id-2 label.sk-toggleable__label-arrow:hover:before {color: black;}#sk-container-id-2 div.sk-estimator:hover label.sk-toggleable__label-arrow:before {color: black;}#sk-container-id-2 div.sk-toggleable__content {max-height: 0;max-width: 0;overflow: hidden;text-align: left;background-color: #f0f8ff;}#sk-container-id-2 div.sk-toggleable__content pre {margin: 0.2em;color: black;border-radius: 0.25em;background-color: #f0f8ff;}#sk-container-id-2 input.sk-toggleable__control:checked~div.sk-toggleable__content {max-height: 200px;max-width: 100%;overflow: auto;}#sk-container-id-2 input.sk-toggleable__control:checked~label.sk-toggleable__label-arrow:before {content: \"▾\";}#sk-container-id-2 div.sk-estimator input.sk-toggleable__control:checked~label.sk-toggleable__label {background-color: #d4ebff;}#sk-container-id-2 div.sk-label input.sk-toggleable__control:checked~label.sk-toggleable__label {background-color: #d4ebff;}#sk-container-id-2 input.sk-hidden--visually {border: 0;clip: rect(1px 1px 1px 1px);clip: rect(1px, 1px, 1px, 1px);height: 1px;margin: -1px;overflow: hidden;padding: 0;position: absolute;width: 1px;}#sk-container-id-2 div.sk-estimator {font-family: monospace;background-color: #f0f8ff;border: 1px dotted black;border-radius: 0.25em;box-sizing: border-box;margin-bottom: 0.5em;}#sk-container-id-2 div.sk-estimator:hover {background-color: #d4ebff;}#sk-container-id-2 div.sk-parallel-item::after {content: \"\";width: 100%;border-bottom: 1px solid gray;flex-grow: 1;}#sk-container-id-2 div.sk-label:hover label.sk-toggleable__label {background-color: #d4ebff;}#sk-container-id-2 div.sk-serial::before {content: \"\";position: absolute;border-left: 1px solid gray;box-sizing: border-box;top: 0;bottom: 0;left: 50%;z-index: 0;}#sk-container-id-2 div.sk-serial {display: flex;flex-direction: column;align-items: center;background-color: white;padding-right: 0.2em;padding-left: 0.2em;position: relative;}#sk-container-id-2 div.sk-item {position: relative;z-index: 1;}#sk-container-id-2 div.sk-parallel {display: flex;align-items: stretch;justify-content: center;background-color: white;position: relative;}#sk-container-id-2 div.sk-item::before, #sk-container-id-2 div.sk-parallel-item::before {content: \"\";position: absolute;border-left: 1px solid gray;box-sizing: border-box;top: 0;bottom: 0;left: 50%;z-index: -1;}#sk-container-id-2 div.sk-parallel-item {display: flex;flex-direction: column;z-index: 1;position: relative;background-color: white;}#sk-container-id-2 div.sk-parallel-item:first-child::after {align-self: flex-end;width: 50%;}#sk-container-id-2 div.sk-parallel-item:last-child::after {align-self: flex-start;width: 50%;}#sk-container-id-2 div.sk-parallel-item:only-child::after {width: 0;}#sk-container-id-2 div.sk-dashed-wrapped {border: 1px dashed gray;margin: 0 0.4em 0.5em 0.4em;box-sizing: border-box;padding-bottom: 0.4em;background-color: white;}#sk-container-id-2 div.sk-label label {font-family: monospace;font-weight: bold;display: inline-block;line-height: 1.2em;}#sk-container-id-2 div.sk-label-container {text-align: center;}#sk-container-id-2 div.sk-container {/* jupyter's `normalize.less` sets `[hidden] { display: none; }` but bootstrap.min.css set `[hidden] { display: none !important; }` so we also need the `!important` here to be able to override the default hidden behavior on the sphinx rendered scikit-learn.org. See: https://github.com/scikit-learn/scikit-learn/issues/21755 */display: inline-block !important;position: relative;}#sk-container-id-2 div.sk-text-repr-fallback {display: none;}</style><div id=\"sk-container-id-2\" class=\"sk-top-container\"><div class=\"sk-text-repr-fallback\"><pre>LogisticRegression(n_jobs=-1, random_state=42)</pre><b>In a Jupyter environment, please rerun this cell to show the HTML representation or trust the notebook. <br />On GitHub, the HTML representation is unable to render, please try loading this page with nbviewer.org.</b></div><div class=\"sk-container\" hidden><div class=\"sk-item\"><div class=\"sk-estimator sk-toggleable\"><input class=\"sk-toggleable__control sk-hidden--visually\" id=\"sk-estimator-id-2\" type=\"checkbox\" checked><label for=\"sk-estimator-id-2\" class=\"sk-toggleable__label sk-toggleable__label-arrow\">LogisticRegression</label><div class=\"sk-toggleable__content\"><pre>LogisticRegression(n_jobs=-1, random_state=42)</pre></div></div></div></div></div>"
     },
     "metadata": {}
    }
   ]
  },
  {
   "cell_type": "code",
   "metadata": {
    "ExecuteTime": {
     "end_time": "2022-09-07T16:06:55.431020Z",
     "start_time": "2022-09-07T16:06:55.377640Z"
    },
    "cell_id": "00022-3be5e03f-fcad-4558-b5de-952efaf0c41e",
    "deepnote_to_be_reexecuted": false,
    "source_hash": "478f3e19",
    "execution_start": 1662726415009,
    "execution_millis": 107,
    "deepnote_cell_type": "code",
    "deepnote_cell_height": 147.60000610351562
   },
   "source": "#model prediction proba - poder de generalizção\nyhat_lm_proba = lm_model.predict_proba( x_val )\n\n#model prediction - poder de generalizção\nyhat_lm_class = lm_model.predict( x_val )",
   "execution_count": 15,
   "outputs": []
  },
  {
   "cell_type": "code",
   "metadata": {
    "ExecuteTime": {
     "end_time": "2022-09-07T16:06:56.217578Z",
     "start_time": "2022-09-07T16:06:55.431020Z"
    },
    "scrolled": true,
    "cell_id": "00023-f8e2c4a6-d24d-46f3-b32a-7b23f29db642",
    "deepnote_to_be_reexecuted": false,
    "source_hash": "cc604100",
    "execution_start": 1662726415123,
    "execution_millis": 1133,
    "deepnote_cell_type": "code",
    "deepnote_cell_height": 664.4000244140625,
    "deepnote_output_heights": [
     537
    ]
   },
   "source": "fig ,ax = plt.subplots(1,2)\nskplt.metrics.plot_cumulative_gain(y_val,yhat_lm_proba,ax=ax[0]);\nskplt.metrics.plot_lift_curve(y_val,yhat_lm_proba,ax=ax[1]);",
   "execution_count": 16,
   "outputs": [
    {
     "data": {
      "text/plain": "<Figure size 1800x864 with 2 Axes>",
      "image/png": "[encoded data removed]"
     },
     "metadata": {
      "image/png": {
       "width": 1454,
       "height": 723
      }
     },
     "output_type": "display_data"
    }
   ]
  },
  {
   "cell_type": "markdown",
   "source": "## Random forrest classifier",
   "metadata": {
    "cell_id": "00024-ca2a8dd8-8310-48f8-999f-6799c50992ac",
    "deepnote_cell_type": "markdown",
    "deepnote_cell_height": 69.60000610351562
   }
  },
  {
   "cell_type": "code",
   "source": "rf_model = RandomForestClassifier(n_estimators=300,random_state=42,n_jobs=-1)\nrf_model.fit(X_train,y_train)",
   "metadata": {
    "ExecuteTime": {
     "end_time": "2022-09-07T16:09:29.626740Z",
     "start_time": "2022-09-07T16:06:56.217578Z"
    },
    "cell_id": "00025-57c9c35f-0bae-4a9b-898e-e25b1f58e4c5",
    "deepnote_to_be_reexecuted": false,
    "source_hash": "92259f83",
    "execution_start": 1662726415926,
    "execution_millis": 72232,
    "deepnote_cell_type": "code",
    "deepnote_cell_height": 168.60000610351562,
    "deepnote_output_heights": [
     59
    ]
   },
   "execution_count": 17,
   "outputs": [
    {
     "output_type": "execute_result",
     "execution_count": 17,
     "data": {
      "text/plain": "RandomForestClassifier(n_estimators=300, n_jobs=-1, random_state=42)",
      "text/html": "<style>#sk-container-id-3 {color: black;background-color: white;}#sk-container-id-3 pre{padding: 0;}#sk-container-id-3 div.sk-toggleable {background-color: white;}#sk-container-id-3 label.sk-toggleable__label {cursor: pointer;display: block;width: 100%;margin-bottom: 0;padding: 0.3em;box-sizing: border-box;text-align: center;}#sk-container-id-3 label.sk-toggleable__label-arrow:before {content: \"▸\";float: left;margin-right: 0.25em;color: #696969;}#sk-container-id-3 label.sk-toggleable__label-arrow:hover:before {color: black;}#sk-container-id-3 div.sk-estimator:hover label.sk-toggleable__label-arrow:before {color: black;}#sk-container-id-3 div.sk-toggleable__content {max-height: 0;max-width: 0;overflow: hidden;text-align: left;background-color: #f0f8ff;}#sk-container-id-3 div.sk-toggleable__content pre {margin: 0.2em;color: black;border-radius: 0.25em;background-color: #f0f8ff;}#sk-container-id-3 input.sk-toggleable__control:checked~div.sk-toggleable__content {max-height: 200px;max-width: 100%;overflow: auto;}#sk-container-id-3 input.sk-toggleable__control:checked~label.sk-toggleable__label-arrow:before {content: \"▾\";}#sk-container-id-3 div.sk-estimator input.sk-toggleable__control:checked~label.sk-toggleable__label {background-color: #d4ebff;}#sk-container-id-3 div.sk-label input.sk-toggleable__control:checked~label.sk-toggleable__label {background-color: #d4ebff;}#sk-container-id-3 input.sk-hidden--visually {border: 0;clip: rect(1px 1px 1px 1px);clip: rect(1px, 1px, 1px, 1px);height: 1px;margin: -1px;overflow: hidden;padding: 0;position: absolute;width: 1px;}#sk-container-id-3 div.sk-estimator {font-family: monospace;background-color: #f0f8ff;border: 1px dotted black;border-radius: 0.25em;box-sizing: border-box;margin-bottom: 0.5em;}#sk-container-id-3 div.sk-estimator:hover {background-color: #d4ebff;}#sk-container-id-3 div.sk-parallel-item::after {content: \"\";width: 100%;border-bottom: 1px solid gray;flex-grow: 1;}#sk-container-id-3 div.sk-label:hover label.sk-toggleable__label {background-color: #d4ebff;}#sk-container-id-3 div.sk-serial::before {content: \"\";position: absolute;border-left: 1px solid gray;box-sizing: border-box;top: 0;bottom: 0;left: 50%;z-index: 0;}#sk-container-id-3 div.sk-serial {display: flex;flex-direction: column;align-items: center;background-color: white;padding-right: 0.2em;padding-left: 0.2em;position: relative;}#sk-container-id-3 div.sk-item {position: relative;z-index: 1;}#sk-container-id-3 div.sk-parallel {display: flex;align-items: stretch;justify-content: center;background-color: white;position: relative;}#sk-container-id-3 div.sk-item::before, #sk-container-id-3 div.sk-parallel-item::before {content: \"\";position: absolute;border-left: 1px solid gray;box-sizing: border-box;top: 0;bottom: 0;left: 50%;z-index: -1;}#sk-container-id-3 div.sk-parallel-item {display: flex;flex-direction: column;z-index: 1;position: relative;background-color: white;}#sk-container-id-3 div.sk-parallel-item:first-child::after {align-self: flex-end;width: 50%;}#sk-container-id-3 div.sk-parallel-item:last-child::after {align-self: flex-start;width: 50%;}#sk-container-id-3 div.sk-parallel-item:only-child::after {width: 0;}#sk-container-id-3 div.sk-dashed-wrapped {border: 1px dashed gray;margin: 0 0.4em 0.5em 0.4em;box-sizing: border-box;padding-bottom: 0.4em;background-color: white;}#sk-container-id-3 div.sk-label label {font-family: monospace;font-weight: bold;display: inline-block;line-height: 1.2em;}#sk-container-id-3 div.sk-label-container {text-align: center;}#sk-container-id-3 div.sk-container {/* jupyter's `normalize.less` sets `[hidden] { display: none; }` but bootstrap.min.css set `[hidden] { display: none !important; }` so we also need the `!important` here to be able to override the default hidden behavior on the sphinx rendered scikit-learn.org. See: https://github.com/scikit-learn/scikit-learn/issues/21755 */display: inline-block !important;position: relative;}#sk-container-id-3 div.sk-text-repr-fallback {display: none;}</style><div id=\"sk-container-id-3\" class=\"sk-top-container\"><div class=\"sk-text-repr-fallback\"><pre>RandomForestClassifier(n_estimators=300, n_jobs=-1, random_state=42)</pre><b>In a Jupyter environment, please rerun this cell to show the HTML representation or trust the notebook. <br />On GitHub, the HTML representation is unable to render, please try loading this page with nbviewer.org.</b></div><div class=\"sk-container\" hidden><div class=\"sk-item\"><div class=\"sk-estimator sk-toggleable\"><input class=\"sk-toggleable__control sk-hidden--visually\" id=\"sk-estimator-id-3\" type=\"checkbox\" checked><label for=\"sk-estimator-id-3\" class=\"sk-toggleable__label sk-toggleable__label-arrow\">RandomForestClassifier</label><div class=\"sk-toggleable__content\"><pre>RandomForestClassifier(n_estimators=300, n_jobs=-1, random_state=42)</pre></div></div></div></div></div>"
     },
     "metadata": {}
    }
   ]
  },
  {
   "cell_type": "code",
   "metadata": {
    "ExecuteTime": {
     "end_time": "2022-09-07T16:10:12.387775Z",
     "start_time": "2022-09-07T16:09:29.628760Z"
    },
    "cell_id": "00026-f232cb90-923d-453b-9727-a2f224179aa3",
    "deepnote_to_be_reexecuted": false,
    "source_hash": "5bb0233b",
    "execution_start": 1662726487466,
    "execution_millis": 17898,
    "deepnote_cell_type": "code",
    "deepnote_cell_height": 147.60000610351562
   },
   "source": "#model prediction proba - poder de generalizção\nyhat_rf_proba = rf_model.predict_proba( x_val )\n\n#model prediction - poder de generalizção\nyhat_rf_class = rf_model.predict( x_val )",
   "execution_count": 18,
   "outputs": []
  },
  {
   "cell_type": "code",
   "metadata": {
    "ExecuteTime": {
     "end_time": "2022-09-07T16:10:13.459341Z",
     "start_time": "2022-09-07T16:10:12.403396Z"
    },
    "scrolled": true,
    "cell_id": "00027-fd53a067-8226-4d8a-94f7-400b7890c90d",
    "deepnote_to_be_reexecuted": false,
    "source_hash": "d0650421",
    "execution_start": 1662726505379,
    "execution_millis": 659,
    "deepnote_cell_type": "code",
    "deepnote_cell_height": 664.4000244140625,
    "deepnote_output_heights": [
     537
    ]
   },
   "source": "fig ,ax = plt.subplots(1,2)\nskplt.metrics.plot_cumulative_gain(y_val,yhat_rf_proba,ax=ax[0]);\nskplt.metrics.plot_lift_curve(y_val,yhat_rf_proba,ax=ax[1]);",
   "execution_count": 19,
   "outputs": [
    {
     "data": {
      "text/plain": "<Figure size 1800x864 with 2 Axes>",
      "image/png": "[encoded data removed]"
     },
     "metadata": {
      "image/png": {
       "width": 1454,
       "height": 723
      }
     },
     "output_type": "display_data"
    }
   ]
  },
  {
   "cell_type": "markdown",
   "source": "## Extratree classifier",
   "metadata": {
    "cell_id": "00028-e34935f1-dd41-4aa6-8221-7a8391895f6c",
    "deepnote_cell_type": "markdown",
    "deepnote_cell_height": 69.60000610351562
   }
  },
  {
   "cell_type": "code",
   "source": "et_model = ExtraTreesClassifier(n_estimators=100,random_state=42,n_jobs=-1,max_depth=10)\net_model.fit(X_train,y_train)",
   "metadata": {
    "ExecuteTime": {
     "end_time": "2022-09-07T16:12:54.914538Z",
     "start_time": "2022-09-07T16:10:13.459341Z"
    },
    "cell_id": "00029-e590be43-30d2-4729-9575-edf6e2e66bb7",
    "deepnote_to_be_reexecuted": false,
    "source_hash": "ccdd23da",
    "execution_start": 1662726506032,
    "execution_millis": 16170,
    "deepnote_cell_type": "code",
    "deepnote_cell_height": 168.39999389648438,
    "deepnote_output_heights": [
     59
    ]
   },
   "outputs": [
    {
     "output_type": "execute_result",
     "execution_count": 20,
     "data": {
      "text/plain": "ExtraTreesClassifier(n_jobs=-1, random_state=42)",
      "text/html": "<style>#sk-container-id-4 {color: black;background-color: white;}#sk-container-id-4 pre{padding: 0;}#sk-container-id-4 div.sk-toggleable {background-color: white;}#sk-container-id-4 label.sk-toggleable__label {cursor: pointer;display: block;width: 100%;margin-bottom: 0;padding: 0.3em;box-sizing: border-box;text-align: center;}#sk-container-id-4 label.sk-toggleable__label-arrow:before {content: \"▸\";float: left;margin-right: 0.25em;color: #696969;}#sk-container-id-4 label.sk-toggleable__label-arrow:hover:before {color: black;}#sk-container-id-4 div.sk-estimator:hover label.sk-toggleable__label-arrow:before {color: black;}#sk-container-id-4 div.sk-toggleable__content {max-height: 0;max-width: 0;overflow: hidden;text-align: left;background-color: #f0f8ff;}#sk-container-id-4 div.sk-toggleable__content pre {margin: 0.2em;color: black;border-radius: 0.25em;background-color: #f0f8ff;}#sk-container-id-4 input.sk-toggleable__control:checked~div.sk-toggleable__content {max-height: 200px;max-width: 100%;overflow: auto;}#sk-container-id-4 input.sk-toggleable__control:checked~label.sk-toggleable__label-arrow:before {content: \"▾\";}#sk-container-id-4 div.sk-estimator input.sk-toggleable__control:checked~label.sk-toggleable__label {background-color: #d4ebff;}#sk-container-id-4 div.sk-label input.sk-toggleable__control:checked~label.sk-toggleable__label {background-color: #d4ebff;}#sk-container-id-4 input.sk-hidden--visually {border: 0;clip: rect(1px 1px 1px 1px);clip: rect(1px, 1px, 1px, 1px);height: 1px;margin: -1px;overflow: hidden;padding: 0;position: absolute;width: 1px;}#sk-container-id-4 div.sk-estimator {font-family: monospace;background-color: #f0f8ff;border: 1px dotted black;border-radius: 0.25em;box-sizing: border-box;margin-bottom: 0.5em;}#sk-container-id-4 div.sk-estimator:hover {background-color: #d4ebff;}#sk-container-id-4 div.sk-parallel-item::after {content: \"\";width: 100%;border-bottom: 1px solid gray;flex-grow: 1;}#sk-container-id-4 div.sk-label:hover label.sk-toggleable__label {background-color: #d4ebff;}#sk-container-id-4 div.sk-serial::before {content: \"\";position: absolute;border-left: 1px solid gray;box-sizing: border-box;top: 0;bottom: 0;left: 50%;z-index: 0;}#sk-container-id-4 div.sk-serial {display: flex;flex-direction: column;align-items: center;background-color: white;padding-right: 0.2em;padding-left: 0.2em;position: relative;}#sk-container-id-4 div.sk-item {position: relative;z-index: 1;}#sk-container-id-4 div.sk-parallel {display: flex;align-items: stretch;justify-content: center;background-color: white;position: relative;}#sk-container-id-4 div.sk-item::before, #sk-container-id-4 div.sk-parallel-item::before {content: \"\";position: absolute;border-left: 1px solid gray;box-sizing: border-box;top: 0;bottom: 0;left: 50%;z-index: -1;}#sk-container-id-4 div.sk-parallel-item {display: flex;flex-direction: column;z-index: 1;position: relative;background-color: white;}#sk-container-id-4 div.sk-parallel-item:first-child::after {align-self: flex-end;width: 50%;}#sk-container-id-4 div.sk-parallel-item:last-child::after {align-self: flex-start;width: 50%;}#sk-container-id-4 div.sk-parallel-item:only-child::after {width: 0;}#sk-container-id-4 div.sk-dashed-wrapped {border: 1px dashed gray;margin: 0 0.4em 0.5em 0.4em;box-sizing: border-box;padding-bottom: 0.4em;background-color: white;}#sk-container-id-4 div.sk-label label {font-family: monospace;font-weight: bold;display: inline-block;line-height: 1.2em;}#sk-container-id-4 div.sk-label-container {text-align: center;}#sk-container-id-4 div.sk-container {/* jupyter's `normalize.less` sets `[hidden] { display: none; }` but bootstrap.min.css set `[hidden] { display: none !important; }` so we also need the `!important` here to be able to override the default hidden behavior on the sphinx rendered scikit-learn.org. See: https://github.com/scikit-learn/scikit-learn/issues/21755 */display: inline-block !important;position: relative;}#sk-container-id-4 div.sk-text-repr-fallback {display: none;}</style><div id=\"sk-container-id-4\" class=\"sk-top-container\"><div class=\"sk-text-repr-fallback\"><pre>ExtraTreesClassifier(n_jobs=-1, random_state=42)</pre><b>In a Jupyter environment, please rerun this cell to show the HTML representation or trust the notebook. <br />On GitHub, the HTML representation is unable to render, please try loading this page with nbviewer.org.</b></div><div class=\"sk-container\" hidden><div class=\"sk-item\"><div class=\"sk-estimator sk-toggleable\"><input class=\"sk-toggleable__control sk-hidden--visually\" id=\"sk-estimator-id-4\" type=\"checkbox\" checked><label for=\"sk-estimator-id-4\" class=\"sk-toggleable__label sk-toggleable__label-arrow\">ExtraTreesClassifier</label><div class=\"sk-toggleable__content\"><pre>ExtraTreesClassifier(n_jobs=-1, random_state=42)</pre></div></div></div></div></div>"
     },
     "metadata": {}
    }
   ],
   "execution_count": null
  },
  {
   "cell_type": "code",
   "metadata": {
    "ExecuteTime": {
     "end_time": "2022-09-07T16:17:34.599232Z",
     "start_time": "2022-09-07T16:12:54.961402Z"
    },
    "cell_id": "00030-7d26fbc0-c61f-4321-a96b-e8a0ce64c60c",
    "deepnote_to_be_reexecuted": false,
    "source_hash": "dcc23347",
    "execution_start": 1662726522202,
    "execution_millis": 7437,
    "deepnote_cell_type": "code",
    "deepnote_cell_height": 147.60000610351562
   },
   "source": "#model prediction proba - poder de generalizção\nyhat_et_proba = et_model.predict_proba( x_val )\n\n#model prediction - poder de generalizção\nyhat_et_class = et_model.predict( x_val )",
   "execution_count": 21,
   "outputs": []
  },
  {
   "cell_type": "code",
   "metadata": {
    "ExecuteTime": {
     "end_time": "2022-09-07T16:17:38.810331Z",
     "start_time": "2022-09-07T16:17:34.620894Z"
    },
    "scrolled": true,
    "cell_id": "00031-5b456b84-3792-42d6-8c91-c99e792bf168",
    "deepnote_to_be_reexecuted": false,
    "source_hash": "d18b4278",
    "execution_start": 1662726529644,
    "execution_millis": 656,
    "deepnote_cell_type": "code",
    "deepnote_cell_height": 664.4000244140625,
    "deepnote_output_heights": [
     537
    ]
   },
   "source": "fig ,ax = plt.subplots(1,2)\nskplt.metrics.plot_cumulative_gain(y_val,yhat_et_proba,ax=ax[0]);\nskplt.metrics.plot_lift_curve(y_val,yhat_et_proba,ax=ax[1]);",
   "execution_count": 22,
   "outputs": [
    {
     "data": {
      "text/plain": "<Figure size 1800x864 with 2 Axes>",
      "image/png": "[encoded data removed]"
     },
     "metadata": {
      "image/png": {
       "width": 1454,
       "height": 723
      }
     },
     "output_type": "display_data"
    }
   ]
  },
  {
   "cell_type": "markdown",
   "source": "## XGBoost",
   "metadata": {
    "cell_id": "00032-05e3d8ce-6628-4b64-8481-e513b51e0439",
    "deepnote_cell_type": "markdown",
    "deepnote_cell_height": 69.60000610351562
   }
  },
  {
   "cell_type": "code",
   "source": "xgb_model = xgb.XGBClassifier(objective='reg:squarederror',\n                             n_estimators=1000,\n                             eta=0.01,\n                             max_depth=10,\n                             subsample=0.7,\n                             colsample_bytree=0.9).fit(X_train,y_train)",
   "metadata": {
    "ExecuteTime": {
     "end_time": "2022-09-07T16:38:13.963136Z",
     "start_time": "2022-09-07T16:34:35.321131Z"
    },
    "cell_id": "00033-51b3229f-cf51-4b33-a8d2-4333b9435c2e",
    "deepnote_to_be_reexecuted": false,
    "source_hash": "57151775",
    "execution_start": 1662728709840,
    "execution_millis": 311415,
    "deepnote_cell_type": "code",
    "deepnote_cell_height": 165.60000610351562
   },
   "execution_count": 72,
   "outputs": []
  },
  {
   "cell_type": "code",
   "metadata": {
    "ExecuteTime": {
     "end_time": "2022-09-07T16:41:20.152915Z",
     "start_time": "2022-09-07T16:41:14.553679Z"
    },
    "cell_id": "00034-2cda73e1-1a7f-487b-8561-c94ba23f24d7",
    "deepnote_to_be_reexecuted": false,
    "source_hash": "d5fa6e95",
    "execution_start": 1662726625256,
    "execution_millis": 3019,
    "deepnote_cell_type": "code",
    "deepnote_cell_height": 147.60000610351562
   },
   "source": "#model prediction proba - poder de generalizção\nyhat_xgb_proba = xgb_model.predict_proba( x_val )\n\n#model prediction - poder de generalizção\nyhat_xgb_class = xgb_model.predict( x_val )",
   "execution_count": 24,
   "outputs": []
  },
  {
   "cell_type": "code",
   "metadata": {
    "ExecuteTime": {
     "end_time": "2022-09-07T16:41:25.793960Z",
     "start_time": "2022-09-07T16:41:25.130328Z"
    },
    "cell_id": "00035-4ecf6a99-50af-4a0c-bd4e-61325abf311c",
    "deepnote_to_be_reexecuted": false,
    "source_hash": "221f8686",
    "execution_start": 1662726628279,
    "execution_millis": 661,
    "deepnote_cell_type": "code",
    "deepnote_cell_height": 664.4000244140625,
    "deepnote_output_heights": [
     537
    ]
   },
   "source": "fig ,ax = plt.subplots(1,2)\nskplt.metrics.plot_cumulative_gain(y_val,yhat_xgb_proba,ax=ax[0]);\nskplt.metrics.plot_lift_curve(y_val,yhat_xgb_proba,ax=ax[1]);",
   "execution_count": 25,
   "outputs": [
    {
     "data": {
      "text/plain": "<Figure size 1800x864 with 2 Axes>",
      "image/png": "[encoded data removed]"
     },
     "metadata": {
      "image/png": {
       "width": 1454,
       "height": 723
      }
     },
     "output_type": "display_data"
    }
   ]
  },
  {
   "cell_type": "markdown",
   "source": "# Model performace ",
   "metadata": {
    "cell_id": "00036-e6b2d869-4189-43cf-8f7e-6c63eee6eba7",
    "deepnote_cell_type": "markdown",
    "deepnote_cell_height": 81.60000610351562
   }
  },
  {
   "cell_type": "code",
   "metadata": {
    "ExecuteTime": {
     "end_time": "2022-09-07T16:46:50.363693Z",
     "start_time": "2022-09-07T16:46:50.348108Z"
    },
    "cell_id": "00037-ec461c44-3aac-4dc3-9f36-550ab0bb9f98",
    "deepnote_to_be_reexecuted": false,
    "source_hash": "df129cea",
    "execution_start": 1662726628924,
    "deepnote_cell_type": "code",
    "deepnote_cell_height": 75.60000610351562
   },
   "source": "clients = 2000",
   "execution_count": 26,
   "outputs": []
  },
  {
   "cell_type": "markdown",
   "source": "## KNN",
   "metadata": {
    "cell_id": "00038-0f6c4694-3c8c-4bdd-bf62-e373191bfd4e",
    "deepnote_cell_type": "markdown",
    "deepnote_cell_height": 69.60000610351562
   }
  },
  {
   "cell_type": "code",
   "metadata": {
    "ExecuteTime": {
     "end_time": "2022-09-07T16:46:50.379315Z",
     "start_time": "2022-09-07T16:46:50.363693Z"
    },
    "cell_id": "00039-5c151074-e16d-42d9-96a7-69a4ee7c2be3",
    "deepnote_to_be_reexecuted": false,
    "source_hash": "62e7a121",
    "execution_start": 1662726628942,
    "deepnote_cell_type": "code",
    "deepnote_cell_height": 75.60000610351562
   },
   "source": "knn_df = val.copy()",
   "execution_count": 27,
   "outputs": []
  },
  {
   "cell_type": "code",
   "metadata": {
    "ExecuteTime": {
     "end_time": "2022-09-07T16:46:50.432709Z",
     "start_time": "2022-09-07T16:46:50.379315Z"
    },
    "cell_id": "00040-7e8456a4-922d-489f-81b0-ec1da174bbac",
    "deepnote_to_be_reexecuted": false,
    "source_hash": "c91651cb",
    "execution_start": 1662726628943,
    "execution_millis": 46,
    "deepnote_cell_type": "code",
    "deepnote_cell_height": 111.60000610351562
   },
   "source": "knn_df['score_knn'] = yhat_knn_proba[:,1].tolist()\n# sorte by score\nknn_df = knn_df.sort_values('score_knn',ascending=False)",
   "execution_count": 28,
   "outputs": []
  },
  {
   "cell_type": "code",
   "metadata": {
    "ExecuteTime": {
     "end_time": "2022-09-07T16:46:50.463951Z",
     "start_time": "2022-09-07T16:46:50.432709Z"
    },
    "cell_id": "00041-e8751d43-0672-4296-9375-d4fd533622a1",
    "deepnote_to_be_reexecuted": false,
    "source_hash": "241cdc53",
    "execution_start": 1662726628990,
    "execution_millis": 44,
    "deepnote_cell_type": "code",
    "deepnote_cell_height": 389.20001220703125,
    "deepnote_output_heights": [
     175
    ]
   },
   "source": "knn_df.head()",
   "execution_count": 29,
   "outputs": [
    {
     "output_type": "execute_result",
     "execution_count": 29,
     "data": {
      "application/vnd.deepnote.dataframe.v3+json": {
       "column_count": 10,
       "row_count": 5,
       "columns": [
        {
         "name": "id",
         "dtype": "int64",
         "stats": {
          "unique_count": 5,
          "nan_count": 0,
          "min": "66092",
          "max": "378904",
          "histogram": [
           {
            "bin_start": 66092,
            "bin_end": 97373.2,
            "count": 1
           },
           {
            "bin_start": 97373.2,
            "bin_end": 128654.4,
            "count": 0
           },
           {
            "bin_start": 128654.4,
            "bin_end": 159935.6,
            "count": 0
           },
           {
            "bin_start": 159935.6,
            "bin_end": 191216.8,
            "count": 0
           },
           {
            "bin_start": 191216.8,
            "bin_end": 222498,
            "count": 1
           },
           {
            "bin_start": 222498,
            "bin_end": 253779.2,
            "count": 1
           },
           {
            "bin_start": 253779.2,
            "bin_end": 285060.4,
            "count": 0
           },
           {
            "bin_start": 285060.4,
            "bin_end": 316341.6,
            "count": 0
           },
           {
            "bin_start": 316341.6,
            "bin_end": 347622.8,
            "count": 0
           },
           {
            "bin_start": 347622.8,
            "bin_end": 378904,
            "count": 2
           }
          ]
         }
        },
        {
         "name": "age",
         "dtype": "float64",
         "stats": {
          "unique_count": 3,
          "nan_count": 0,
          "min": "0.1538461538461538",
          "max": "0.3692307692307693",
          "histogram": [
           {
            "bin_start": 0.1538461538461538,
            "bin_end": 0.17538461538461536,
            "count": 3
           },
           {
            "bin_start": 0.17538461538461536,
            "bin_end": 0.1969230769230769,
            "count": 0
           },
           {
            "bin_start": 0.1969230769230769,
            "bin_end": 0.21846153846153846,
            "count": 0
           },
           {
            "bin_start": 0.21846153846153846,
            "bin_end": 0.24,
            "count": 0
           },
           {
            "bin_start": 0.24,
            "bin_end": 0.26153846153846155,
            "count": 0
           },
           {
            "bin_start": 0.26153846153846155,
            "bin_end": 0.2830769230769231,
            "count": 0
           },
           {
            "bin_start": 0.2830769230769231,
            "bin_end": 0.3046153846153846,
            "count": 0
           },
           {
            "bin_start": 0.3046153846153846,
            "bin_end": 0.32615384615384624,
            "count": 0
           },
           {
            "bin_start": 0.32615384615384624,
            "bin_end": 0.34769230769230774,
            "count": 1
           },
           {
            "bin_start": 0.34769230769230774,
            "bin_end": 0.3692307692307693,
            "count": 1
           }
          ]
         }
        },
        {
         "name": "region_code",
         "dtype": "float64",
         "stats": {
          "unique_count": 5,
          "nan_count": 0,
          "min": "3.0",
          "max": "43.0",
          "histogram": [
           {
            "bin_start": 3,
            "bin_end": 7,
            "count": 1
           },
           {
            "bin_start": 7,
            "bin_end": 11,
            "count": 0
           },
           {
            "bin_start": 11,
            "bin_end": 15,
            "count": 0
           },
           {
            "bin_start": 15,
            "bin_end": 19,
            "count": 0
           },
           {
            "bin_start": 19,
            "bin_end": 23,
            "count": 0
           },
           {
            "bin_start": 23,
            "bin_end": 27,
            "count": 0
           },
           {
            "bin_start": 27,
            "bin_end": 31,
            "count": 2
           },
           {
            "bin_start": 31,
            "bin_end": 35,
            "count": 1
           },
           {
            "bin_start": 35,
            "bin_end": 39,
            "count": 0
           },
           {
            "bin_start": 39,
            "bin_end": 43,
            "count": 1
           }
          ]
         }
        },
        {
         "name": "policy_sales_channel",
         "dtype": "float64",
         "stats": {
          "unique_count": 3,
          "nan_count": 0,
          "min": "26.0",
          "max": "155.0",
          "histogram": [
           {
            "bin_start": 26,
            "bin_end": 38.9,
            "count": 1
           },
           {
            "bin_start": 38.9,
            "bin_end": 51.8,
            "count": 0
           },
           {
            "bin_start": 51.8,
            "bin_end": 64.7,
            "count": 0
           },
           {
            "bin_start": 64.7,
            "bin_end": 77.6,
            "count": 0
           },
           {
            "bin_start": 77.6,
            "bin_end": 90.5,
            "count": 0
           },
           {
            "bin_start": 90.5,
            "bin_end": 103.4,
            "count": 0
           },
           {
            "bin_start": 103.4,
            "bin_end": 116.3,
            "count": 0
           },
           {
            "bin_start": 116.3,
            "bin_end": 129.2,
            "count": 3
           },
           {
            "bin_start": 129.2,
            "bin_end": 142.10000000000002,
            "count": 0
           },
           {
            "bin_start": 142.10000000000002,
            "bin_end": 155,
            "count": 1
           }
          ]
         }
        },
        {
         "name": "previously_insured",
         "dtype": "int64",
         "stats": {
          "unique_count": 1,
          "nan_count": 0,
          "min": "0",
          "max": "0",
          "histogram": [
           {
            "bin_start": -0.5,
            "bin_end": -0.4,
            "count": 0
           },
           {
            "bin_start": -0.4,
            "bin_end": -0.3,
            "count": 0
           },
           {
            "bin_start": -0.3,
            "bin_end": -0.19999999999999996,
            "count": 0
           },
           {
            "bin_start": -0.19999999999999996,
            "bin_end": -0.09999999999999998,
            "count": 0
           },
           {
            "bin_start": -0.09999999999999998,
            "bin_end": 0,
            "count": 0
           },
           {
            "bin_start": 0,
            "bin_end": 0.10000000000000009,
            "count": 5
           },
           {
            "bin_start": 0.10000000000000009,
            "bin_end": 0.20000000000000007,
            "count": 0
           },
           {
            "bin_start": 0.20000000000000007,
            "bin_end": 0.30000000000000004,
            "count": 0
           },
           {
            "bin_start": 0.30000000000000004,
            "bin_end": 0.4,
            "count": 0
           },
           {
            "bin_start": 0.4,
            "bin_end": 0.5,
            "count": 0
           }
          ]
         }
        },
        {
         "name": "vintage",
         "dtype": "float64",
         "stats": {
          "unique_count": 5,
          "nan_count": 0,
          "min": "0.0588235294117647",
          "max": "0.944636678200692",
          "histogram": [
           {
            "bin_start": 0.0588235294117647,
            "bin_end": 0.14740484429065742,
            "count": 1
           },
           {
            "bin_start": 0.14740484429065742,
            "bin_end": 0.23598615916955015,
            "count": 1
           },
           {
            "bin_start": 0.23598615916955015,
            "bin_end": 0.3245674740484429,
            "count": 0
           },
           {
            "bin_start": 0.3245674740484429,
            "bin_end": 0.41314878892733564,
            "count": 0
           },
           {
            "bin_start": 0.41314878892733564,
            "bin_end": 0.5017301038062284,
            "count": 0
           },
           {
            "bin_start": 0.5017301038062284,
            "bin_end": 0.590311418685121,
            "count": 0
           },
           {
            "bin_start": 0.590311418685121,
            "bin_end": 0.6788927335640138,
            "count": 0
           },
           {
            "bin_start": 0.6788927335640138,
            "bin_end": 0.7674740484429066,
            "count": 0
           },
           {
            "bin_start": 0.7674740484429066,
            "bin_end": 0.8560553633217993,
            "count": 2
           },
           {
            "bin_start": 0.8560553633217993,
            "bin_end": 0.944636678200692,
            "count": 1
           }
          ]
         }
        },
        {
         "name": "vehicle_age",
         "dtype": "int64",
         "stats": {
          "unique_count": 3,
          "nan_count": 0,
          "min": "1",
          "max": "3",
          "histogram": [
           {
            "bin_start": 1,
            "bin_end": 1.2,
            "count": 2
           },
           {
            "bin_start": 1.2,
            "bin_end": 1.4,
            "count": 0
           },
           {
            "bin_start": 1.4,
            "bin_end": 1.6,
            "count": 0
           },
           {
            "bin_start": 1.6,
            "bin_end": 1.8,
            "count": 0
           },
           {
            "bin_start": 1.8,
            "bin_end": 2,
            "count": 0
           },
           {
            "bin_start": 2,
            "bin_end": 2.2,
            "count": 2
           },
           {
            "bin_start": 2.2,
            "bin_end": 2.4000000000000004,
            "count": 0
           },
           {
            "bin_start": 2.4000000000000004,
            "bin_end": 2.6,
            "count": 0
           },
           {
            "bin_start": 2.6,
            "bin_end": 2.8,
            "count": 0
           },
           {
            "bin_start": 2.8,
            "bin_end": 3,
            "count": 1
           }
          ]
         }
        },
        {
         "name": "vehicle_damage",
         "dtype": "int64",
         "stats": {
          "unique_count": 1,
          "nan_count": 0,
          "min": "1",
          "max": "1",
          "histogram": [
           {
            "bin_start": 0.5,
            "bin_end": 0.6,
            "count": 0
           },
           {
            "bin_start": 0.6,
            "bin_end": 0.7,
            "count": 0
           },
           {
            "bin_start": 0.7,
            "bin_end": 0.8,
            "count": 0
           },
           {
            "bin_start": 0.8,
            "bin_end": 0.9,
            "count": 0
           },
           {
            "bin_start": 0.9,
            "bin_end": 1,
            "count": 0
           },
           {
            "bin_start": 1,
            "bin_end": 1.1,
            "count": 5
           },
           {
            "bin_start": 1.1,
            "bin_end": 1.2000000000000002,
            "count": 0
           },
           {
            "bin_start": 1.2000000000000002,
            "bin_end": 1.3,
            "count": 0
           },
           {
            "bin_start": 1.3,
            "bin_end": 1.4,
            "count": 0
           },
           {
            "bin_start": 1.4,
            "bin_end": 1.5,
            "count": 0
           }
          ]
         }
        },
        {
         "name": "response",
         "dtype": "int64",
         "stats": {
          "unique_count": 1,
          "nan_count": 0,
          "min": "0",
          "max": "0",
          "histogram": [
           {
            "bin_start": -0.5,
            "bin_end": -0.4,
            "count": 0
           },
           {
            "bin_start": -0.4,
            "bin_end": -0.3,
            "count": 0
           },
           {
            "bin_start": -0.3,
            "bin_end": -0.19999999999999996,
            "count": 0
           },
           {
            "bin_start": -0.19999999999999996,
            "bin_end": -0.09999999999999998,
            "count": 0
           },
           {
            "bin_start": -0.09999999999999998,
            "bin_end": 0,
            "count": 0
           },
           {
            "bin_start": 0,
            "bin_end": 0.10000000000000009,
            "count": 5
           },
           {
            "bin_start": 0.10000000000000009,
            "bin_end": 0.20000000000000007,
            "count": 0
           },
           {
            "bin_start": 0.20000000000000007,
            "bin_end": 0.30000000000000004,
            "count": 0
           },
           {
            "bin_start": 0.30000000000000004,
            "bin_end": 0.4,
            "count": 0
           },
           {
            "bin_start": 0.4,
            "bin_end": 0.5,
            "count": 0
           }
          ]
         }
        },
        {
         "name": "score_knn",
         "dtype": "float64",
         "stats": {
          "unique_count": 1,
          "nan_count": 0,
          "min": "1.0",
          "max": "1.0",
          "histogram": [
           {
            "bin_start": 0.5,
            "bin_end": 0.6,
            "count": 0
           },
           {
            "bin_start": 0.6,
            "bin_end": 0.7,
            "count": 0
           },
           {
            "bin_start": 0.7,
            "bin_end": 0.8,
            "count": 0
           },
           {
            "bin_start": 0.8,
            "bin_end": 0.9,
            "count": 0
           },
           {
            "bin_start": 0.9,
            "bin_end": 1,
            "count": 0
           },
           {
            "bin_start": 1,
            "bin_end": 1.1,
            "count": 5
           },
           {
            "bin_start": 1.1,
            "bin_end": 1.2000000000000002,
            "count": 0
           },
           {
            "bin_start": 1.2000000000000002,
            "bin_end": 1.3,
            "count": 0
           },
           {
            "bin_start": 1.3,
            "bin_end": 1.4,
            "count": 0
           },
           {
            "bin_start": 1.4,
            "bin_end": 1.5,
            "count": 0
           }
          ]
         }
        },
        {
         "name": "_deepnote_index_column",
         "dtype": "int64"
        }
       ],
       "rows": [
        {
         "id": "194784",
         "age": "0.1538461538461538",
         "region_code": "43.0",
         "policy_sales_channel": "155.0",
         "previously_insured": "0",
         "vintage": "0.7785467128027682",
         "vehicle_age": "2",
         "vehicle_damage": "1",
         "response": "0",
         "score_knn": "1.0",
         "_deepnote_index_column": "194783"
        },
        {
         "id": "235907",
         "age": "0.1538461538461538",
         "region_code": "33.0",
         "policy_sales_channel": "124.0",
         "previously_insured": "0",
         "vintage": "0.0588235294117647",
         "vehicle_age": "1",
         "vehicle_damage": "1",
         "response": "0",
         "score_knn": "1.0",
         "_deepnote_index_column": "235906"
        },
        {
         "id": "66092",
         "age": "0.3692307692307693",
         "region_code": "28.0",
         "policy_sales_channel": "26.0",
         "previously_insured": "0",
         "vintage": "0.944636678200692",
         "vehicle_age": "3",
         "vehicle_damage": "1",
         "response": "0",
         "score_knn": "1.0",
         "_deepnote_index_column": "66091"
        },
        {
         "id": "364419",
         "age": "0.3384615384615385",
         "region_code": "30.0",
         "policy_sales_channel": "124.0",
         "previously_insured": "0",
         "vintage": "0.8269896193771626",
         "vehicle_age": "2",
         "vehicle_damage": "1",
         "response": "0",
         "score_knn": "1.0",
         "_deepnote_index_column": "364418"
        },
        {
         "id": "378904",
         "age": "0.1538461538461538",
         "region_code": "3.0",
         "policy_sales_channel": "124.0",
         "previously_insured": "0",
         "vintage": "0.1903114186851211",
         "vehicle_age": "1",
         "vehicle_damage": "1",
         "response": "0",
         "score_knn": "1.0",
         "_deepnote_index_column": "378903"
        }
       ]
      },
      "text/plain": "            id       age  region_code  policy_sales_channel  \\\n194783  194784  0.153846         43.0                 155.0   \n235906  235907  0.153846         33.0                 124.0   \n66091    66092  0.369231         28.0                  26.0   \n364418  364419  0.338462         30.0                 124.0   \n378903  378904  0.153846          3.0                 124.0   \n\n        previously_insured   vintage  vehicle_age  vehicle_damage  response  \\\n194783                   0  0.778547            2               1         0   \n235906                   0  0.058824            1               1         0   \n66091                    0  0.944637            3               1         0   \n364418                   0  0.826990            2               1         0   \n378903                   0  0.190311            1               1         0   \n\n        score_knn  \n194783        1.0  \n235906        1.0  \n66091         1.0  \n364418        1.0  \n378903        1.0  ",
      "text/html": "<div>\n<style scoped>\n    .dataframe tbody tr th:only-of-type {\n        vertical-align: middle;\n    }\n\n    .dataframe tbody tr th {\n        vertical-align: top;\n    }\n\n    .dataframe thead th {\n        text-align: right;\n    }\n</style>\n<table border=\"1\" class=\"dataframe\">\n  <thead>\n    <tr style=\"text-align: right;\">\n      <th></th>\n      <th>id</th>\n      <th>age</th>\n      <th>region_code</th>\n      <th>policy_sales_channel</th>\n      <th>previously_insured</th>\n      <th>vintage</th>\n      <th>vehicle_age</th>\n      <th>vehicle_damage</th>\n      <th>response</th>\n      <th>score_knn</th>\n    </tr>\n  </thead>\n  <tbody>\n    <tr>\n      <th>194783</th>\n      <td>194784</td>\n      <td>0.153846</td>\n      <td>43.0</td>\n      <td>155.0</td>\n      <td>0</td>\n      <td>0.778547</td>\n      <td>2</td>\n      <td>1</td>\n      <td>0</td>\n      <td>1.0</td>\n    </tr>\n    <tr>\n      <th>235906</th>\n      <td>235907</td>\n      <td>0.153846</td>\n      <td>33.0</td>\n      <td>124.0</td>\n      <td>0</td>\n      <td>0.058824</td>\n      <td>1</td>\n      <td>1</td>\n      <td>0</td>\n      <td>1.0</td>\n    </tr>\n    <tr>\n      <th>66091</th>\n      <td>66092</td>\n      <td>0.369231</td>\n      <td>28.0</td>\n      <td>26.0</td>\n      <td>0</td>\n      <td>0.944637</td>\n      <td>3</td>\n      <td>1</td>\n      <td>0</td>\n      <td>1.0</td>\n    </tr>\n    <tr>\n      <th>364418</th>\n      <td>364419</td>\n      <td>0.338462</td>\n      <td>30.0</td>\n      <td>124.0</td>\n      <td>0</td>\n      <td>0.826990</td>\n      <td>2</td>\n      <td>1</td>\n      <td>0</td>\n      <td>1.0</td>\n    </tr>\n    <tr>\n      <th>378903</th>\n      <td>378904</td>\n      <td>0.153846</td>\n      <td>3.0</td>\n      <td>124.0</td>\n      <td>0</td>\n      <td>0.190311</td>\n      <td>1</td>\n      <td>1</td>\n      <td>0</td>\n      <td>1.0</td>\n    </tr>\n  </tbody>\n</table>\n</div>"
     },
     "metadata": {}
    }
   ]
  },
  {
   "cell_type": "code",
   "metadata": {
    "ExecuteTime": {
     "end_time": "2022-09-07T16:46:50.602257Z",
     "start_time": "2022-09-07T16:46:50.463951Z"
    },
    "cell_id": "00042-a4d1060d-fe1e-40e6-8483-840387e9ff97",
    "deepnote_to_be_reexecuted": false,
    "source_hash": "cc0a5808",
    "execution_start": 1662726629036,
    "execution_millis": 105,
    "deepnote_cell_type": "code",
    "deepnote_cell_height": 75.60000610351562
   },
   "source": "knn_performace = performace(\"KNN\",knn_df,y_val,yhat_knn_class,clients)",
   "execution_count": 30,
   "outputs": []
  },
  {
   "cell_type": "code",
   "metadata": {
    "ExecuteTime": {
     "end_time": "2022-09-07T16:46:50.633232Z",
     "start_time": "2022-09-07T16:46:50.602257Z"
    },
    "cell_id": "00043-522682fb-0425-405c-9e4f-a84fe3f921d2",
    "deepnote_to_be_reexecuted": false,
    "source_hash": "2a4b12ec",
    "execution_start": 1662726629239,
    "execution_millis": 39,
    "deepnote_cell_type": "code",
    "deepnote_cell_height": 225.1999969482422,
    "deepnote_output_heights": [
     59
    ]
   },
   "source": "knn_performace",
   "execution_count": 31,
   "outputs": [
    {
     "output_type": "execute_result",
     "execution_count": 31,
     "data": {
      "application/vnd.deepnote.dataframe.v3+json": {
       "column_count": 6,
       "row_count": 1,
       "columns": [
        {
         "name": "Model Name",
         "dtype": "object",
         "stats": {
          "unique_count": 1,
          "nan_count": 0,
          "categories": [
           {
            "name": "KNN",
            "count": 1
           }
          ]
         }
        },
        {
         "name": "Precison",
         "dtype": "float64",
         "stats": {
          "unique_count": 1,
          "nan_count": 0,
          "min": "0.3390610201596536",
          "max": "0.3390610201596536",
          "histogram": [
           {
            "bin_start": -0.16093897984034639,
            "bin_end": -0.06093897984034638,
            "count": 0
           },
           {
            "bin_start": -0.06093897984034638,
            "bin_end": 0.039061020159653626,
            "count": 0
           },
           {
            "bin_start": 0.039061020159653626,
            "bin_end": 0.13906102015965366,
            "count": 0
           },
           {
            "bin_start": 0.13906102015965366,
            "bin_end": 0.23906102015965364,
            "count": 0
           },
           {
            "bin_start": 0.23906102015965364,
            "bin_end": 0.3390610201596536,
            "count": 0
           },
           {
            "bin_start": 0.3390610201596536,
            "bin_end": 0.4390610201596537,
            "count": 1
           },
           {
            "bin_start": 0.4390610201596537,
            "bin_end": 0.5390610201596537,
            "count": 0
           },
           {
            "bin_start": 0.5390610201596537,
            "bin_end": 0.6390610201596536,
            "count": 0
           },
           {
            "bin_start": 0.6390610201596536,
            "bin_end": 0.7390610201596537,
            "count": 0
           },
           {
            "bin_start": 0.7390610201596537,
            "bin_end": 0.8390610201596536,
            "count": 0
           }
          ]
         }
        },
        {
         "name": "Recall",
         "dtype": "float64",
         "stats": {
          "unique_count": 1,
          "nan_count": 0,
          "min": "0.17883393991293797",
          "max": "0.17883393991293797",
          "histogram": [
           {
            "bin_start": -0.32116606008706206,
            "bin_end": -0.22116606008706205,
            "count": 0
           },
           {
            "bin_start": -0.22116606008706205,
            "bin_end": -0.12116606008706204,
            "count": 0
           },
           {
            "bin_start": -0.12116606008706204,
            "bin_end": -0.02116606008706201,
            "count": 0
           },
           {
            "bin_start": -0.02116606008706201,
            "bin_end": 0.07883393991293797,
            "count": 0
           },
           {
            "bin_start": 0.07883393991293797,
            "bin_end": 0.17883393991293794,
            "count": 0
           },
           {
            "bin_start": 0.17883393991293794,
            "bin_end": 0.27883393991293803,
            "count": 1
           },
           {
            "bin_start": 0.27883393991293803,
            "bin_end": 0.378833939912938,
            "count": 0
           },
           {
            "bin_start": 0.378833939912938,
            "bin_end": 0.478833939912938,
            "count": 0
           },
           {
            "bin_start": 0.478833939912938,
            "bin_end": 0.578833939912938,
            "count": 0
           },
           {
            "bin_start": 0.578833939912938,
            "bin_end": 0.678833939912938,
            "count": 0
           }
          ]
         }
        },
        {
         "name": "k",
         "dtype": "int64",
         "stats": {
          "unique_count": 1,
          "nan_count": 0,
          "min": "2000",
          "max": "2000",
          "histogram": [
           {
            "bin_start": 1999.5,
            "bin_end": 1999.6,
            "count": 0
           },
           {
            "bin_start": 1999.6,
            "bin_end": 1999.7,
            "count": 0
           },
           {
            "bin_start": 1999.7,
            "bin_end": 1999.8,
            "count": 0
           },
           {
            "bin_start": 1999.8,
            "bin_end": 1999.9,
            "count": 0
           },
           {
            "bin_start": 1999.9,
            "bin_end": 2000,
            "count": 0
           },
           {
            "bin_start": 2000,
            "bin_end": 2000.1,
            "count": 1
           },
           {
            "bin_start": 2000.1,
            "bin_end": 2000.2,
            "count": 0
           },
           {
            "bin_start": 2000.2,
            "bin_end": 2000.3,
            "count": 0
           },
           {
            "bin_start": 2000.3,
            "bin_end": 2000.4,
            "count": 0
           },
           {
            "bin_start": 2000.4,
            "bin_end": 2000.5,
            "count": 0
           }
          ]
         }
        },
        {
         "name": "Precison at k",
         "dtype": "float64",
         "stats": {
          "unique_count": 1,
          "nan_count": 0,
          "min": "0.3568215892053973",
          "max": "0.3568215892053973",
          "histogram": [
           {
            "bin_start": -0.1431784107946027,
            "bin_end": -0.04317841079460269,
            "count": 0
           },
           {
            "bin_start": -0.04317841079460269,
            "bin_end": 0.056821589205397316,
            "count": 0
           },
           {
            "bin_start": 0.056821589205397316,
            "bin_end": 0.15682158920539735,
            "count": 0
           },
           {
            "bin_start": 0.15682158920539735,
            "bin_end": 0.2568215892053973,
            "count": 0
           },
           {
            "bin_start": 0.2568215892053973,
            "bin_end": 0.3568215892053973,
            "count": 0
           },
           {
            "bin_start": 0.3568215892053973,
            "bin_end": 0.4568215892053974,
            "count": 1
           },
           {
            "bin_start": 0.4568215892053974,
            "bin_end": 0.5568215892053974,
            "count": 0
           },
           {
            "bin_start": 0.5568215892053974,
            "bin_end": 0.6568215892053973,
            "count": 0
           },
           {
            "bin_start": 0.6568215892053973,
            "bin_end": 0.7568215892053973,
            "count": 0
           },
           {
            "bin_start": 0.7568215892053973,
            "bin_end": 0.8568215892053973,
            "count": 0
           }
          ]
         }
        },
        {
         "name": "Recall at k",
         "dtype": "float64",
         "stats": {
          "unique_count": 1,
          "nan_count": 0,
          "min": "0.05095268679083708",
          "max": "0.05095268679083708",
          "histogram": [
           {
            "bin_start": -0.4490473132091629,
            "bin_end": -0.34904731320916293,
            "count": 0
           },
           {
            "bin_start": -0.34904731320916293,
            "bin_end": -0.2490473132091629,
            "count": 0
           },
           {
            "bin_start": -0.2490473132091629,
            "bin_end": -0.14904731320916287,
            "count": 0
           },
           {
            "bin_start": -0.14904731320916287,
            "bin_end": -0.04904731320916289,
            "count": 0
           },
           {
            "bin_start": -0.04904731320916289,
            "bin_end": 0.05095268679083709,
            "count": 1
           },
           {
            "bin_start": 0.05095268679083709,
            "bin_end": 0.15095268679083718,
            "count": 0
           },
           {
            "bin_start": 0.15095268679083718,
            "bin_end": 0.25095268679083715,
            "count": 0
           },
           {
            "bin_start": 0.25095268679083715,
            "bin_end": 0.35095268679083713,
            "count": 0
           },
           {
            "bin_start": 0.35095268679083713,
            "bin_end": 0.4509526867908371,
            "count": 0
           },
           {
            "bin_start": 0.4509526867908371,
            "bin_end": 0.5509526867908371,
            "count": 0
           }
          ]
         }
        },
        {
         "name": "_deepnote_index_column",
         "dtype": "int64"
        }
       ],
       "rows": [
        {
         "Model Name": "KNN",
         "Precison": "0.3390610201596536",
         "Recall": "0.17883393991293797",
         "k": "2000",
         "Precison at k": "0.3568215892053973",
         "Recall at k": "0.05095268679083708",
         "_deepnote_index_column": "0"
        }
       ]
      },
      "text/plain": "  Model Name  Precison    Recall     k  Precison at k  Recall at k\n0        KNN  0.339061  0.178834  2000       0.356822     0.050953",
      "text/html": "<div>\n<style scoped>\n    .dataframe tbody tr th:only-of-type {\n        vertical-align: middle;\n    }\n\n    .dataframe tbody tr th {\n        vertical-align: top;\n    }\n\n    .dataframe thead th {\n        text-align: right;\n    }\n</style>\n<table border=\"1\" class=\"dataframe\">\n  <thead>\n    <tr style=\"text-align: right;\">\n      <th></th>\n      <th>Model Name</th>\n      <th>Precison</th>\n      <th>Recall</th>\n      <th>k</th>\n      <th>Precison at k</th>\n      <th>Recall at k</th>\n    </tr>\n  </thead>\n  <tbody>\n    <tr>\n      <th>0</th>\n      <td>KNN</td>\n      <td>0.339061</td>\n      <td>0.178834</td>\n      <td>2000</td>\n      <td>0.356822</td>\n      <td>0.050953</td>\n    </tr>\n  </tbody>\n</table>\n</div>"
     },
     "metadata": {}
    }
   ]
  },
  {
   "cell_type": "markdown",
   "source": "## Linear model",
   "metadata": {
    "cell_id": "00044-2f3d17c0-0789-41ee-8b61-32961a365368",
    "deepnote_cell_type": "markdown",
    "deepnote_cell_height": 69.60000610351562
   }
  },
  {
   "cell_type": "code",
   "metadata": {
    "ExecuteTime": {
     "end_time": "2022-09-07T16:46:50.648851Z",
     "start_time": "2022-09-07T16:46:50.633232Z"
    },
    "cell_id": "00045-39b57d7f-fcf5-40c4-9d68-d0ccd1331b48",
    "deepnote_to_be_reexecuted": false,
    "source_hash": "ed4ec854",
    "execution_start": 1662726629268,
    "execution_millis": 6,
    "deepnote_cell_type": "code",
    "deepnote_cell_height": 75.60000610351562
   },
   "source": "lm_df = val.copy()",
   "execution_count": 32,
   "outputs": []
  },
  {
   "cell_type": "code",
   "metadata": {
    "ExecuteTime": {
     "end_time": "2022-09-07T16:46:50.717850Z",
     "start_time": "2022-09-07T16:46:50.648851Z"
    },
    "cell_id": "00046-c0b26255-6cd8-4bca-adda-37d36242005c",
    "deepnote_to_be_reexecuted": false,
    "source_hash": "15c9d82a",
    "execution_start": 1662726629299,
    "execution_millis": 47,
    "deepnote_cell_type": "code",
    "deepnote_cell_height": 111.60000610351562
   },
   "source": "lm_df['score_lm'] = yhat_lm_proba[:,1].tolist()\n# sorte by score\nlm_df = lm_df.sort_values('score_lm',ascending=False)",
   "execution_count": 33,
   "outputs": []
  },
  {
   "cell_type": "code",
   "metadata": {
    "ExecuteTime": {
     "end_time": "2022-09-07T16:46:50.749091Z",
     "start_time": "2022-09-07T16:46:50.717850Z"
    },
    "cell_id": "00047-12820bf5-37f7-4ff5-916c-96ff096c1932",
    "deepnote_to_be_reexecuted": false,
    "source_hash": "b43de6bd",
    "execution_start": 1662726629395,
    "execution_millis": 34,
    "deepnote_cell_type": "code",
    "deepnote_cell_height": 389.20001220703125,
    "deepnote_output_heights": [
     175
    ]
   },
   "source": "lm_df.head()",
   "execution_count": 34,
   "outputs": [
    {
     "output_type": "execute_result",
     "execution_count": 34,
     "data": {
      "application/vnd.deepnote.dataframe.v3+json": {
       "column_count": 10,
       "row_count": 5,
       "columns": [
        {
         "name": "id",
         "dtype": "int64",
         "stats": {
          "unique_count": 5,
          "nan_count": 0,
          "min": "91144",
          "max": "375384",
          "histogram": [
           {
            "bin_start": 91144,
            "bin_end": 119568,
            "count": 1
           },
           {
            "bin_start": 119568,
            "bin_end": 147992,
            "count": 0
           },
           {
            "bin_start": 147992,
            "bin_end": 176416,
            "count": 0
           },
           {
            "bin_start": 176416,
            "bin_end": 204840,
            "count": 0
           },
           {
            "bin_start": 204840,
            "bin_end": 233264,
            "count": 1
           },
           {
            "bin_start": 233264,
            "bin_end": 261688,
            "count": 0
           },
           {
            "bin_start": 261688,
            "bin_end": 290112,
            "count": 0
           },
           {
            "bin_start": 290112,
            "bin_end": 318536,
            "count": 0
           },
           {
            "bin_start": 318536,
            "bin_end": 346960,
            "count": 2
           },
           {
            "bin_start": 346960,
            "bin_end": 375384,
            "count": 1
           }
          ]
         }
        },
        {
         "name": "age",
         "dtype": "float64",
         "stats": {
          "unique_count": 3,
          "nan_count": 0,
          "min": "0.1538461538461538",
          "max": "0.1846153846153846",
          "histogram": [
           {
            "bin_start": 0.1538461538461538,
            "bin_end": 0.1569230769230769,
            "count": 1
           },
           {
            "bin_start": 0.1569230769230769,
            "bin_end": 0.15999999999999995,
            "count": 0
           },
           {
            "bin_start": 0.15999999999999995,
            "bin_end": 0.16307692307692304,
            "count": 0
           },
           {
            "bin_start": 0.16307692307692304,
            "bin_end": 0.16615384615384612,
            "count": 0
           },
           {
            "bin_start": 0.16615384615384612,
            "bin_end": 0.16923076923076918,
            "count": 0
           },
           {
            "bin_start": 0.16923076923076918,
            "bin_end": 0.17230769230769227,
            "count": 1
           },
           {
            "bin_start": 0.17230769230769227,
            "bin_end": 0.17538461538461536,
            "count": 0
           },
           {
            "bin_start": 0.17538461538461536,
            "bin_end": 0.17846153846153845,
            "count": 0
           },
           {
            "bin_start": 0.17846153846153845,
            "bin_end": 0.1815384615384615,
            "count": 0
           },
           {
            "bin_start": 0.1815384615384615,
            "bin_end": 0.1846153846153846,
            "count": 3
           }
          ]
         }
        },
        {
         "name": "region_code",
         "dtype": "float64",
         "stats": {
          "unique_count": 3,
          "nan_count": 0,
          "min": "1.0",
          "max": "28.0",
          "histogram": [
           {
            "bin_start": 1,
            "bin_end": 3.7,
            "count": 1
           },
           {
            "bin_start": 3.7,
            "bin_end": 6.4,
            "count": 0
           },
           {
            "bin_start": 6.4,
            "bin_end": 9.100000000000001,
            "count": 1
           },
           {
            "bin_start": 9.100000000000001,
            "bin_end": 11.8,
            "count": 0
           },
           {
            "bin_start": 11.8,
            "bin_end": 14.5,
            "count": 0
           },
           {
            "bin_start": 14.5,
            "bin_end": 17.200000000000003,
            "count": 0
           },
           {
            "bin_start": 17.200000000000003,
            "bin_end": 19.900000000000002,
            "count": 0
           },
           {
            "bin_start": 19.900000000000002,
            "bin_end": 22.6,
            "count": 0
           },
           {
            "bin_start": 22.6,
            "bin_end": 25.3,
            "count": 0
           },
           {
            "bin_start": 25.3,
            "bin_end": 28,
            "count": 3
           }
          ]
         }
        },
        {
         "name": "policy_sales_channel",
         "dtype": "float64",
         "stats": {
          "unique_count": 2,
          "nan_count": 0,
          "min": "26.0",
          "max": "31.0",
          "histogram": [
           {
            "bin_start": 26,
            "bin_end": 26.5,
            "count": 4
           },
           {
            "bin_start": 26.5,
            "bin_end": 27,
            "count": 0
           },
           {
            "bin_start": 27,
            "bin_end": 27.5,
            "count": 0
           },
           {
            "bin_start": 27.5,
            "bin_end": 28,
            "count": 0
           },
           {
            "bin_start": 28,
            "bin_end": 28.5,
            "count": 0
           },
           {
            "bin_start": 28.5,
            "bin_end": 29,
            "count": 0
           },
           {
            "bin_start": 29,
            "bin_end": 29.5,
            "count": 0
           },
           {
            "bin_start": 29.5,
            "bin_end": 30,
            "count": 0
           },
           {
            "bin_start": 30,
            "bin_end": 30.5,
            "count": 0
           },
           {
            "bin_start": 30.5,
            "bin_end": 31,
            "count": 1
           }
          ]
         }
        },
        {
         "name": "previously_insured",
         "dtype": "int64",
         "stats": {
          "unique_count": 1,
          "nan_count": 0,
          "min": "0",
          "max": "0",
          "histogram": [
           {
            "bin_start": -0.5,
            "bin_end": -0.4,
            "count": 0
           },
           {
            "bin_start": -0.4,
            "bin_end": -0.3,
            "count": 0
           },
           {
            "bin_start": -0.3,
            "bin_end": -0.19999999999999996,
            "count": 0
           },
           {
            "bin_start": -0.19999999999999996,
            "bin_end": -0.09999999999999998,
            "count": 0
           },
           {
            "bin_start": -0.09999999999999998,
            "bin_end": 0,
            "count": 0
           },
           {
            "bin_start": 0,
            "bin_end": 0.10000000000000009,
            "count": 5
           },
           {
            "bin_start": 0.10000000000000009,
            "bin_end": 0.20000000000000007,
            "count": 0
           },
           {
            "bin_start": 0.20000000000000007,
            "bin_end": 0.30000000000000004,
            "count": 0
           },
           {
            "bin_start": 0.30000000000000004,
            "bin_end": 0.4,
            "count": 0
           },
           {
            "bin_start": 0.4,
            "bin_end": 0.5,
            "count": 0
           }
          ]
         }
        },
        {
         "name": "vintage",
         "dtype": "float64",
         "stats": {
          "unique_count": 5,
          "nan_count": 0,
          "min": "0.1418685121107266",
          "max": "0.9792387543252596",
          "histogram": [
           {
            "bin_start": 0.1418685121107266,
            "bin_end": 0.2256055363321799,
            "count": 1
           },
           {
            "bin_start": 0.2256055363321799,
            "bin_end": 0.3093425605536332,
            "count": 0
           },
           {
            "bin_start": 0.3093425605536332,
            "bin_end": 0.39307958477508653,
            "count": 1
           },
           {
            "bin_start": 0.39307958477508653,
            "bin_end": 0.4768166089965398,
            "count": 1
           },
           {
            "bin_start": 0.4768166089965398,
            "bin_end": 0.5605536332179931,
            "count": 0
           },
           {
            "bin_start": 0.5605536332179931,
            "bin_end": 0.6442906574394465,
            "count": 0
           },
           {
            "bin_start": 0.6442906574394465,
            "bin_end": 0.7280276816608997,
            "count": 0
           },
           {
            "bin_start": 0.7280276816608997,
            "bin_end": 0.811764705882353,
            "count": 1
           },
           {
            "bin_start": 0.811764705882353,
            "bin_end": 0.8955017301038064,
            "count": 0
           },
           {
            "bin_start": 0.8955017301038064,
            "bin_end": 0.9792387543252596,
            "count": 1
           }
          ]
         }
        },
        {
         "name": "vehicle_age",
         "dtype": "int64",
         "stats": {
          "unique_count": 1,
          "nan_count": 0,
          "min": "3",
          "max": "3",
          "histogram": [
           {
            "bin_start": 2.5,
            "bin_end": 2.6,
            "count": 0
           },
           {
            "bin_start": 2.6,
            "bin_end": 2.7,
            "count": 0
           },
           {
            "bin_start": 2.7,
            "bin_end": 2.8,
            "count": 0
           },
           {
            "bin_start": 2.8,
            "bin_end": 2.9,
            "count": 0
           },
           {
            "bin_start": 2.9,
            "bin_end": 3,
            "count": 0
           },
           {
            "bin_start": 3,
            "bin_end": 3.1,
            "count": 5
           },
           {
            "bin_start": 3.1,
            "bin_end": 3.2,
            "count": 0
           },
           {
            "bin_start": 3.2,
            "bin_end": 3.3,
            "count": 0
           },
           {
            "bin_start": 3.3,
            "bin_end": 3.4,
            "count": 0
           },
           {
            "bin_start": 3.4,
            "bin_end": 3.5,
            "count": 0
           }
          ]
         }
        },
        {
         "name": "vehicle_damage",
         "dtype": "int64",
         "stats": {
          "unique_count": 1,
          "nan_count": 0,
          "min": "1",
          "max": "1",
          "histogram": [
           {
            "bin_start": 0.5,
            "bin_end": 0.6,
            "count": 0
           },
           {
            "bin_start": 0.6,
            "bin_end": 0.7,
            "count": 0
           },
           {
            "bin_start": 0.7,
            "bin_end": 0.8,
            "count": 0
           },
           {
            "bin_start": 0.8,
            "bin_end": 0.9,
            "count": 0
           },
           {
            "bin_start": 0.9,
            "bin_end": 1,
            "count": 0
           },
           {
            "bin_start": 1,
            "bin_end": 1.1,
            "count": 5
           },
           {
            "bin_start": 1.1,
            "bin_end": 1.2000000000000002,
            "count": 0
           },
           {
            "bin_start": 1.2000000000000002,
            "bin_end": 1.3,
            "count": 0
           },
           {
            "bin_start": 1.3,
            "bin_end": 1.4,
            "count": 0
           },
           {
            "bin_start": 1.4,
            "bin_end": 1.5,
            "count": 0
           }
          ]
         }
        },
        {
         "name": "response",
         "dtype": "int64",
         "stats": {
          "unique_count": 2,
          "nan_count": 0,
          "min": "0",
          "max": "1",
          "histogram": [
           {
            "bin_start": 0,
            "bin_end": 0.1,
            "count": 4
           },
           {
            "bin_start": 0.1,
            "bin_end": 0.2,
            "count": 0
           },
           {
            "bin_start": 0.2,
            "bin_end": 0.30000000000000004,
            "count": 0
           },
           {
            "bin_start": 0.30000000000000004,
            "bin_end": 0.4,
            "count": 0
           },
           {
            "bin_start": 0.4,
            "bin_end": 0.5,
            "count": 0
           },
           {
            "bin_start": 0.5,
            "bin_end": 0.6000000000000001,
            "count": 0
           },
           {
            "bin_start": 0.6000000000000001,
            "bin_end": 0.7000000000000001,
            "count": 0
           },
           {
            "bin_start": 0.7000000000000001,
            "bin_end": 0.8,
            "count": 0
           },
           {
            "bin_start": 0.8,
            "bin_end": 0.9,
            "count": 0
           },
           {
            "bin_start": 0.9,
            "bin_end": 1,
            "count": 1
           }
          ]
         }
        },
        {
         "name": "score_lm",
         "dtype": "float64",
         "stats": {
          "unique_count": 5,
          "nan_count": 0,
          "min": "0.5275307949849593",
          "max": "0.5362469240322407",
          "histogram": [
           {
            "bin_start": 0.5275307949849593,
            "bin_end": 0.5284024078896874,
            "count": 1
           },
           {
            "bin_start": 0.5284024078896874,
            "bin_end": 0.5292740207944155,
            "count": 1
           },
           {
            "bin_start": 0.5292740207944155,
            "bin_end": 0.5301456336991437,
            "count": 1
           },
           {
            "bin_start": 0.5301456336991437,
            "bin_end": 0.5310172466038718,
            "count": 0
           },
           {
            "bin_start": 0.5310172466038718,
            "bin_end": 0.5318888595086,
            "count": 0
           },
           {
            "bin_start": 0.5318888595086,
            "bin_end": 0.5327604724133281,
            "count": 0
           },
           {
            "bin_start": 0.5327604724133281,
            "bin_end": 0.5336320853180563,
            "count": 0
           },
           {
            "bin_start": 0.5336320853180563,
            "bin_end": 0.5345036982227844,
            "count": 0
           },
           {
            "bin_start": 0.5345036982227844,
            "bin_end": 0.5353753111275126,
            "count": 0
           },
           {
            "bin_start": 0.5353753111275126,
            "bin_end": 0.5362469240322407,
            "count": 2
           }
          ]
         }
        },
        {
         "name": "_deepnote_index_column",
         "dtype": "int64"
        }
       ],
       "rows": [
        {
         "id": "205845",
         "age": "0.1692307692307692",
         "region_code": "1.0",
         "policy_sales_channel": "26.0",
         "previously_insured": "0",
         "vintage": "0.3806228373702423",
         "vehicle_age": "3",
         "vehicle_damage": "1",
         "response": "0",
         "score_lm": "0.5362469240322407",
         "_deepnote_index_column": "205844"
        },
        {
         "id": "375384",
         "age": "0.1538461538461538",
         "region_code": "9.0",
         "policy_sales_channel": "31.0",
         "previously_insured": "0",
         "vintage": "0.782006920415225",
         "vehicle_age": "3",
         "vehicle_damage": "1",
         "response": "0",
         "score_lm": "0.5359416533700582",
         "_deepnote_index_column": "375383"
        },
        {
         "id": "334419",
         "age": "0.1846153846153846",
         "region_code": "28.0",
         "policy_sales_channel": "26.0",
         "previously_insured": "0",
         "vintage": "0.1418685121107266",
         "vehicle_age": "3",
         "vehicle_damage": "1",
         "response": "0",
         "score_lm": "0.5297106736500248",
         "_deepnote_index_column": "334418"
        },
        {
         "id": "330639",
         "age": "0.1846153846153846",
         "region_code": "28.0",
         "policy_sales_channel": "26.0",
         "previously_insured": "0",
         "vintage": "0.4325259515570934",
         "vehicle_age": "3",
         "vehicle_damage": "1",
         "response": "1",
         "score_lm": "0.5289541457194417",
         "_deepnote_index_column": "330638"
        },
        {
         "id": "91144",
         "age": "0.1846153846153846",
         "region_code": "28.0",
         "policy_sales_channel": "26.0",
         "previously_insured": "0",
         "vintage": "0.9792387543252596",
         "vehicle_age": "3",
         "vehicle_damage": "1",
         "response": "0",
         "score_lm": "0.5275307949849593",
         "_deepnote_index_column": "91143"
        }
       ]
      },
      "text/plain": "            id       age  region_code  policy_sales_channel  \\\n205844  205845  0.169231          1.0                  26.0   \n375383  375384  0.153846          9.0                  31.0   \n334418  334419  0.184615         28.0                  26.0   \n330638  330639  0.184615         28.0                  26.0   \n91143    91144  0.184615         28.0                  26.0   \n\n        previously_insured   vintage  vehicle_age  vehicle_damage  response  \\\n205844                   0  0.380623            3               1         0   \n375383                   0  0.782007            3               1         0   \n334418                   0  0.141869            3               1         0   \n330638                   0  0.432526            3               1         1   \n91143                    0  0.979239            3               1         0   \n\n        score_lm  \n205844  0.536247  \n375383  0.535942  \n334418  0.529711  \n330638  0.528954  \n91143   0.527531  ",
      "text/html": "<div>\n<style scoped>\n    .dataframe tbody tr th:only-of-type {\n        vertical-align: middle;\n    }\n\n    .dataframe tbody tr th {\n        vertical-align: top;\n    }\n\n    .dataframe thead th {\n        text-align: right;\n    }\n</style>\n<table border=\"1\" class=\"dataframe\">\n  <thead>\n    <tr style=\"text-align: right;\">\n      <th></th>\n      <th>id</th>\n      <th>age</th>\n      <th>region_code</th>\n      <th>policy_sales_channel</th>\n      <th>previously_insured</th>\n      <th>vintage</th>\n      <th>vehicle_age</th>\n      <th>vehicle_damage</th>\n      <th>response</th>\n      <th>score_lm</th>\n    </tr>\n  </thead>\n  <tbody>\n    <tr>\n      <th>205844</th>\n      <td>205845</td>\n      <td>0.169231</td>\n      <td>1.0</td>\n      <td>26.0</td>\n      <td>0</td>\n      <td>0.380623</td>\n      <td>3</td>\n      <td>1</td>\n      <td>0</td>\n      <td>0.536247</td>\n    </tr>\n    <tr>\n      <th>375383</th>\n      <td>375384</td>\n      <td>0.153846</td>\n      <td>9.0</td>\n      <td>31.0</td>\n      <td>0</td>\n      <td>0.782007</td>\n      <td>3</td>\n      <td>1</td>\n      <td>0</td>\n      <td>0.535942</td>\n    </tr>\n    <tr>\n      <th>334418</th>\n      <td>334419</td>\n      <td>0.184615</td>\n      <td>28.0</td>\n      <td>26.0</td>\n      <td>0</td>\n      <td>0.141869</td>\n      <td>3</td>\n      <td>1</td>\n      <td>0</td>\n      <td>0.529711</td>\n    </tr>\n    <tr>\n      <th>330638</th>\n      <td>330639</td>\n      <td>0.184615</td>\n      <td>28.0</td>\n      <td>26.0</td>\n      <td>0</td>\n      <td>0.432526</td>\n      <td>3</td>\n      <td>1</td>\n      <td>1</td>\n      <td>0.528954</td>\n    </tr>\n    <tr>\n      <th>91143</th>\n      <td>91144</td>\n      <td>0.184615</td>\n      <td>28.0</td>\n      <td>26.0</td>\n      <td>0</td>\n      <td>0.979239</td>\n      <td>3</td>\n      <td>1</td>\n      <td>0</td>\n      <td>0.527531</td>\n    </tr>\n  </tbody>\n</table>\n</div>"
     },
     "metadata": {}
    }
   ]
  },
  {
   "cell_type": "code",
   "metadata": {
    "ExecuteTime": {
     "end_time": "2022-09-07T16:46:50.903400Z",
     "start_time": "2022-09-07T16:46:50.749091Z"
    },
    "cell_id": "00048-3d7d9cfb-03f2-495f-832d-e177a6440a73",
    "deepnote_to_be_reexecuted": false,
    "source_hash": "ff62ee21",
    "execution_start": 1662726629455,
    "execution_millis": 49,
    "deepnote_cell_type": "code",
    "deepnote_cell_height": 75.60000610351562
   },
   "source": "lm_performace = performace(\"linear model\",lm_df,y_val,yhat_lm_class,clients)",
   "execution_count": 35,
   "outputs": []
  },
  {
   "cell_type": "code",
   "metadata": {
    "ExecuteTime": {
     "end_time": "2022-09-07T16:46:50.934639Z",
     "start_time": "2022-09-07T16:46:50.903400Z"
    },
    "scrolled": true,
    "cell_id": "00049-08cc8e3d-0ea6-406e-985f-9e0b1ad313bd",
    "deepnote_to_be_reexecuted": false,
    "source_hash": "6f0100eb",
    "execution_start": 1662726629548,
    "execution_millis": 8,
    "deepnote_cell_type": "code",
    "deepnote_cell_height": 225.1999969482422,
    "deepnote_output_heights": [
     59
    ]
   },
   "source": "lm_performace",
   "execution_count": 36,
   "outputs": [
    {
     "output_type": "execute_result",
     "execution_count": 36,
     "data": {
      "application/vnd.deepnote.dataframe.v3+json": {
       "column_count": 6,
       "row_count": 1,
       "columns": [
        {
         "name": "Model Name",
         "dtype": "object",
         "stats": {
          "unique_count": 1,
          "nan_count": 0,
          "categories": [
           {
            "name": "linear model",
            "count": 1
           }
          ]
         }
        },
        {
         "name": "Precison",
         "dtype": "float64",
         "stats": {
          "unique_count": 1,
          "nan_count": 0,
          "min": "0.4576271186440678",
          "max": "0.4576271186440678",
          "histogram": [
           {
            "bin_start": -0.0423728813559322,
            "bin_end": 0.057627118644067804,
            "count": 0
           },
           {
            "bin_start": 0.057627118644067804,
            "bin_end": 0.1576271186440678,
            "count": 0
           },
           {
            "bin_start": 0.1576271186440678,
            "bin_end": 0.25762711864406784,
            "count": 0
           },
           {
            "bin_start": 0.25762711864406784,
            "bin_end": 0.3576271186440678,
            "count": 0
           },
           {
            "bin_start": 0.3576271186440678,
            "bin_end": 0.4576271186440678,
            "count": 0
           },
           {
            "bin_start": 0.4576271186440678,
            "bin_end": 0.5576271186440679,
            "count": 1
           },
           {
            "bin_start": 0.5576271186440679,
            "bin_end": 0.6576271186440679,
            "count": 0
           },
           {
            "bin_start": 0.6576271186440679,
            "bin_end": 0.7576271186440678,
            "count": 0
           },
           {
            "bin_start": 0.7576271186440678,
            "bin_end": 0.8576271186440678,
            "count": 0
           },
           {
            "bin_start": 0.8576271186440678,
            "bin_end": 0.9576271186440678,
            "count": 0
           }
          ]
         }
        },
        {
         "name": "Recall",
         "dtype": "float64",
         "stats": {
          "unique_count": 1,
          "nan_count": 0,
          "min": "0.0019267822736030828",
          "max": "0.0019267822736030828",
          "histogram": [
           {
            "bin_start": -0.4980732177263969,
            "bin_end": -0.3980732177263969,
            "count": 0
           },
           {
            "bin_start": -0.3980732177263969,
            "bin_end": -0.2980732177263969,
            "count": 0
           },
           {
            "bin_start": -0.2980732177263969,
            "bin_end": -0.19807321772639686,
            "count": 0
           },
           {
            "bin_start": -0.19807321772639686,
            "bin_end": -0.09807321772639688,
            "count": 0
           },
           {
            "bin_start": -0.09807321772639688,
            "bin_end": 0.0019267822736031004,
            "count": 1
           },
           {
            "bin_start": 0.0019267822736031004,
            "bin_end": 0.10192678227360319,
            "count": 0
           },
           {
            "bin_start": 0.10192678227360319,
            "bin_end": 0.20192678227360317,
            "count": 0
           },
           {
            "bin_start": 0.20192678227360317,
            "bin_end": 0.30192678227360314,
            "count": 0
           },
           {
            "bin_start": 0.30192678227360314,
            "bin_end": 0.4019267822736031,
            "count": 0
           },
           {
            "bin_start": 0.4019267822736031,
            "bin_end": 0.5019267822736031,
            "count": 0
           }
          ]
         }
        },
        {
         "name": "k",
         "dtype": "int64",
         "stats": {
          "unique_count": 1,
          "nan_count": 0,
          "min": "2000",
          "max": "2000",
          "histogram": [
           {
            "bin_start": 1999.5,
            "bin_end": 1999.6,
            "count": 0
           },
           {
            "bin_start": 1999.6,
            "bin_end": 1999.7,
            "count": 0
           },
           {
            "bin_start": 1999.7,
            "bin_end": 1999.8,
            "count": 0
           },
           {
            "bin_start": 1999.8,
            "bin_end": 1999.9,
            "count": 0
           },
           {
            "bin_start": 1999.9,
            "bin_end": 2000,
            "count": 0
           },
           {
            "bin_start": 2000,
            "bin_end": 2000.1,
            "count": 1
           },
           {
            "bin_start": 2000.1,
            "bin_end": 2000.2,
            "count": 0
           },
           {
            "bin_start": 2000.2,
            "bin_end": 2000.3,
            "count": 0
           },
           {
            "bin_start": 2000.3,
            "bin_end": 2000.4,
            "count": 0
           },
           {
            "bin_start": 2000.4,
            "bin_end": 2000.5,
            "count": 0
           }
          ]
         }
        },
        {
         "name": "Precison at k",
         "dtype": "float64",
         "stats": {
          "unique_count": 1,
          "nan_count": 0,
          "min": "0.4047976011994003",
          "max": "0.4047976011994003",
          "histogram": [
           {
            "bin_start": -0.09520239880059972,
            "bin_end": 0.0047976011994002865,
            "count": 0
           },
           {
            "bin_start": 0.0047976011994002865,
            "bin_end": 0.10479760119940029,
            "count": 0
           },
           {
            "bin_start": 0.10479760119940029,
            "bin_end": 0.20479760119940033,
            "count": 0
           },
           {
            "bin_start": 0.20479760119940033,
            "bin_end": 0.3047976011994003,
            "count": 0
           },
           {
            "bin_start": 0.3047976011994003,
            "bin_end": 0.4047976011994003,
            "count": 0
           },
           {
            "bin_start": 0.4047976011994003,
            "bin_end": 0.5047976011994004,
            "count": 1
           },
           {
            "bin_start": 0.5047976011994004,
            "bin_end": 0.6047976011994003,
            "count": 0
           },
           {
            "bin_start": 0.6047976011994003,
            "bin_end": 0.7047976011994004,
            "count": 0
           },
           {
            "bin_start": 0.7047976011994004,
            "bin_end": 0.8047976011994002,
            "count": 0
           },
           {
            "bin_start": 0.8047976011994002,
            "bin_end": 0.9047976011994003,
            "count": 0
           }
          ]
         }
        },
        {
         "name": "Recall at k",
         "dtype": "float64",
         "stats": {
          "unique_count": 1,
          "nan_count": 0,
          "min": "0.057803468208092484",
          "max": "0.057803468208092484",
          "histogram": [
           {
            "bin_start": -0.44219653179190754,
            "bin_end": -0.34219653179190757,
            "count": 0
           },
           {
            "bin_start": -0.34219653179190757,
            "bin_end": -0.24219653179190753,
            "count": 0
           },
           {
            "bin_start": -0.24219653179190753,
            "bin_end": -0.1421965317919075,
            "count": 0
           },
           {
            "bin_start": -0.1421965317919075,
            "bin_end": -0.04219653179190752,
            "count": 0
           },
           {
            "bin_start": -0.04219653179190752,
            "bin_end": 0.05780346820809246,
            "count": 0
           },
           {
            "bin_start": 0.05780346820809246,
            "bin_end": 0.15780346820809255,
            "count": 1
           },
           {
            "bin_start": 0.15780346820809255,
            "bin_end": 0.2578034682080925,
            "count": 0
           },
           {
            "bin_start": 0.2578034682080925,
            "bin_end": 0.3578034682080925,
            "count": 0
           },
           {
            "bin_start": 0.3578034682080925,
            "bin_end": 0.4578034682080925,
            "count": 0
           },
           {
            "bin_start": 0.4578034682080925,
            "bin_end": 0.5578034682080925,
            "count": 0
           }
          ]
         }
        },
        {
         "name": "_deepnote_index_column",
         "dtype": "int64"
        }
       ],
       "rows": [
        {
         "Model Name": "linear model",
         "Precison": "0.4576271186440678",
         "Recall": "0.0019267822736030828",
         "k": "2000",
         "Precison at k": "0.4047976011994003",
         "Recall at k": "0.057803468208092484",
         "_deepnote_index_column": "0"
        }
       ]
      },
      "text/plain": "     Model Name  Precison    Recall     k  Precison at k  Recall at k\n0  linear model  0.457627  0.001927  2000       0.404798     0.057803",
      "text/html": "<div>\n<style scoped>\n    .dataframe tbody tr th:only-of-type {\n        vertical-align: middle;\n    }\n\n    .dataframe tbody tr th {\n        vertical-align: top;\n    }\n\n    .dataframe thead th {\n        text-align: right;\n    }\n</style>\n<table border=\"1\" class=\"dataframe\">\n  <thead>\n    <tr style=\"text-align: right;\">\n      <th></th>\n      <th>Model Name</th>\n      <th>Precison</th>\n      <th>Recall</th>\n      <th>k</th>\n      <th>Precison at k</th>\n      <th>Recall at k</th>\n    </tr>\n  </thead>\n  <tbody>\n    <tr>\n      <th>0</th>\n      <td>linear model</td>\n      <td>0.457627</td>\n      <td>0.001927</td>\n      <td>2000</td>\n      <td>0.404798</td>\n      <td>0.057803</td>\n    </tr>\n  </tbody>\n</table>\n</div>"
     },
     "metadata": {}
    }
   ]
  },
  {
   "cell_type": "markdown",
   "source": "## Randon forrest",
   "metadata": {
    "cell_id": "00050-e6b0f135-4fa7-4b06-a9fa-c2951bd5e88a",
    "deepnote_cell_type": "markdown",
    "deepnote_cell_height": 69.60000610351562
   }
  },
  {
   "cell_type": "code",
   "metadata": {
    "ExecuteTime": {
     "end_time": "2022-09-07T16:46:50.950261Z",
     "start_time": "2022-09-07T16:46:50.934639Z"
    },
    "cell_id": "00051-69a2972c-6073-4c73-9495-c75f08b585c8",
    "deepnote_to_be_reexecuted": false,
    "source_hash": "a252b339",
    "execution_start": 1662726629549,
    "execution_millis": 0,
    "deepnote_cell_type": "code",
    "deepnote_cell_height": 75.60000610351562
   },
   "source": "rf_df = val.copy()",
   "execution_count": 37,
   "outputs": []
  },
  {
   "cell_type": "code",
   "metadata": {
    "ExecuteTime": {
     "end_time": "2022-09-07T16:46:51.035191Z",
     "start_time": "2022-09-07T16:46:50.950261Z"
    },
    "cell_id": "00052-9a1a2149-e455-4660-94b7-ada3a784b077",
    "deepnote_to_be_reexecuted": false,
    "source_hash": "e6544e31",
    "execution_start": 1662726629581,
    "execution_millis": 23,
    "deepnote_cell_type": "code",
    "deepnote_cell_height": 111.60000610351562
   },
   "source": "rf_df['score_rf'] = yhat_rf_proba[:,1].tolist()\n# sorte by score\nrf_df = rf_df.sort_values('score_rf',ascending=False)",
   "execution_count": 38,
   "outputs": []
  },
  {
   "cell_type": "code",
   "metadata": {
    "ExecuteTime": {
     "end_time": "2022-09-07T16:46:51.066167Z",
     "start_time": "2022-09-07T16:46:51.035191Z"
    },
    "scrolled": true,
    "cell_id": "00053-ae3f04e1-419b-417a-ad20-8d95a50b4d38",
    "deepnote_to_be_reexecuted": false,
    "source_hash": "46481eba",
    "execution_start": 1662726629608,
    "execution_millis": 46,
    "deepnote_cell_type": "code",
    "deepnote_cell_height": 389.20001220703125,
    "deepnote_output_heights": [
     175
    ]
   },
   "source": "rf_df.head()",
   "execution_count": 39,
   "outputs": [
    {
     "output_type": "execute_result",
     "execution_count": 39,
     "data": {
      "application/vnd.deepnote.dataframe.v3+json": {
       "column_count": 10,
       "row_count": 5,
       "columns": [
        {
         "name": "id",
         "dtype": "int64",
         "stats": {
          "unique_count": 5,
          "nan_count": 0,
          "min": "72982",
          "max": "336025",
          "histogram": [
           {
            "bin_start": 72982,
            "bin_end": 99286.3,
            "count": 1
           },
           {
            "bin_start": 99286.3,
            "bin_end": 125590.6,
            "count": 1
           },
           {
            "bin_start": 125590.6,
            "bin_end": 151894.9,
            "count": 0
           },
           {
            "bin_start": 151894.9,
            "bin_end": 178199.2,
            "count": 0
           },
           {
            "bin_start": 178199.2,
            "bin_end": 204503.5,
            "count": 1
           },
           {
            "bin_start": 204503.5,
            "bin_end": 230807.8,
            "count": 1
           },
           {
            "bin_start": 230807.8,
            "bin_end": 257112.1,
            "count": 0
           },
           {
            "bin_start": 257112.1,
            "bin_end": 283416.4,
            "count": 0
           },
           {
            "bin_start": 283416.4,
            "bin_end": 309720.69999999995,
            "count": 0
           },
           {
            "bin_start": 309720.69999999995,
            "bin_end": 336025,
            "count": 1
           }
          ]
         }
        },
        {
         "name": "age",
         "dtype": "float64",
         "stats": {
          "unique_count": 3,
          "nan_count": 0,
          "min": "0.1538461538461538",
          "max": "0.3846153846153846",
          "histogram": [
           {
            "bin_start": 0.1538461538461538,
            "bin_end": 0.17692307692307688,
            "count": 1
           },
           {
            "bin_start": 0.17692307692307688,
            "bin_end": 0.19999999999999996,
            "count": 0
           },
           {
            "bin_start": 0.19999999999999996,
            "bin_end": 0.22307692307692303,
            "count": 0
           },
           {
            "bin_start": 0.22307692307692303,
            "bin_end": 0.2461538461538461,
            "count": 0
           },
           {
            "bin_start": 0.2461538461538461,
            "bin_end": 0.26923076923076916,
            "count": 0
           },
           {
            "bin_start": 0.26923076923076916,
            "bin_end": 0.29230769230769227,
            "count": 0
           },
           {
            "bin_start": 0.29230769230769227,
            "bin_end": 0.3153846153846154,
            "count": 0
           },
           {
            "bin_start": 0.3153846153846154,
            "bin_end": 0.3384615384615384,
            "count": 0
           },
           {
            "bin_start": 0.3384615384615384,
            "bin_end": 0.3615384615384615,
            "count": 0
           },
           {
            "bin_start": 0.3615384615384615,
            "bin_end": 0.3846153846153846,
            "count": 4
           }
          ]
         }
        },
        {
         "name": "region_code",
         "dtype": "float64",
         "stats": {
          "unique_count": 1,
          "nan_count": 0,
          "min": "28.0",
          "max": "28.0",
          "histogram": [
           {
            "bin_start": 27.5,
            "bin_end": 27.6,
            "count": 0
           },
           {
            "bin_start": 27.6,
            "bin_end": 27.7,
            "count": 0
           },
           {
            "bin_start": 27.7,
            "bin_end": 27.8,
            "count": 0
           },
           {
            "bin_start": 27.8,
            "bin_end": 27.9,
            "count": 0
           },
           {
            "bin_start": 27.9,
            "bin_end": 28,
            "count": 0
           },
           {
            "bin_start": 28,
            "bin_end": 28.1,
            "count": 5
           },
           {
            "bin_start": 28.1,
            "bin_end": 28.2,
            "count": 0
           },
           {
            "bin_start": 28.2,
            "bin_end": 28.3,
            "count": 0
           },
           {
            "bin_start": 28.3,
            "bin_end": 28.4,
            "count": 0
           },
           {
            "bin_start": 28.4,
            "bin_end": 28.5,
            "count": 0
           }
          ]
         }
        },
        {
         "name": "policy_sales_channel",
         "dtype": "float64",
         "stats": {
          "unique_count": 1,
          "nan_count": 0,
          "min": "26.0",
          "max": "26.0",
          "histogram": [
           {
            "bin_start": 25.5,
            "bin_end": 25.6,
            "count": 0
           },
           {
            "bin_start": 25.6,
            "bin_end": 25.7,
            "count": 0
           },
           {
            "bin_start": 25.7,
            "bin_end": 25.8,
            "count": 0
           },
           {
            "bin_start": 25.8,
            "bin_end": 25.9,
            "count": 0
           },
           {
            "bin_start": 25.9,
            "bin_end": 26,
            "count": 0
           },
           {
            "bin_start": 26,
            "bin_end": 26.1,
            "count": 5
           },
           {
            "bin_start": 26.1,
            "bin_end": 26.2,
            "count": 0
           },
           {
            "bin_start": 26.2,
            "bin_end": 26.3,
            "count": 0
           },
           {
            "bin_start": 26.3,
            "bin_end": 26.4,
            "count": 0
           },
           {
            "bin_start": 26.4,
            "bin_end": 26.5,
            "count": 0
           }
          ]
         }
        },
        {
         "name": "previously_insured",
         "dtype": "int64",
         "stats": {
          "unique_count": 1,
          "nan_count": 0,
          "min": "0",
          "max": "0",
          "histogram": [
           {
            "bin_start": -0.5,
            "bin_end": -0.4,
            "count": 0
           },
           {
            "bin_start": -0.4,
            "bin_end": -0.3,
            "count": 0
           },
           {
            "bin_start": -0.3,
            "bin_end": -0.19999999999999996,
            "count": 0
           },
           {
            "bin_start": -0.19999999999999996,
            "bin_end": -0.09999999999999998,
            "count": 0
           },
           {
            "bin_start": -0.09999999999999998,
            "bin_end": 0,
            "count": 0
           },
           {
            "bin_start": 0,
            "bin_end": 0.10000000000000009,
            "count": 5
           },
           {
            "bin_start": 0.10000000000000009,
            "bin_end": 0.20000000000000007,
            "count": 0
           },
           {
            "bin_start": 0.20000000000000007,
            "bin_end": 0.30000000000000004,
            "count": 0
           },
           {
            "bin_start": 0.30000000000000004,
            "bin_end": 0.4,
            "count": 0
           },
           {
            "bin_start": 0.4,
            "bin_end": 0.5,
            "count": 0
           }
          ]
         }
        },
        {
         "name": "vintage",
         "dtype": "float64",
         "stats": {
          "unique_count": 3,
          "nan_count": 0,
          "min": "0.1626297577854671",
          "max": "0.8512110726643599",
          "histogram": [
           {
            "bin_start": 0.1626297577854671,
            "bin_end": 0.2314878892733564,
            "count": 1
           },
           {
            "bin_start": 0.2314878892733564,
            "bin_end": 0.30034602076124567,
            "count": 0
           },
           {
            "bin_start": 0.30034602076124567,
            "bin_end": 0.36920415224913494,
            "count": 0
           },
           {
            "bin_start": 0.36920415224913494,
            "bin_end": 0.43806228373702427,
            "count": 0
           },
           {
            "bin_start": 0.43806228373702427,
            "bin_end": 0.5069204152249135,
            "count": 0
           },
           {
            "bin_start": 0.5069204152249135,
            "bin_end": 0.5757785467128028,
            "count": 0
           },
           {
            "bin_start": 0.5757785467128028,
            "bin_end": 0.6446366782006921,
            "count": 0
           },
           {
            "bin_start": 0.6446366782006921,
            "bin_end": 0.7134948096885814,
            "count": 3
           },
           {
            "bin_start": 0.7134948096885814,
            "bin_end": 0.7823529411764707,
            "count": 0
           },
           {
            "bin_start": 0.7823529411764707,
            "bin_end": 0.8512110726643599,
            "count": 1
           }
          ]
         }
        },
        {
         "name": "vehicle_age",
         "dtype": "int64",
         "stats": {
          "unique_count": 2,
          "nan_count": 0,
          "min": "1",
          "max": "2",
          "histogram": [
           {
            "bin_start": 1,
            "bin_end": 1.1,
            "count": 1
           },
           {
            "bin_start": 1.1,
            "bin_end": 1.2,
            "count": 0
           },
           {
            "bin_start": 1.2,
            "bin_end": 1.3,
            "count": 0
           },
           {
            "bin_start": 1.3,
            "bin_end": 1.4,
            "count": 0
           },
           {
            "bin_start": 1.4,
            "bin_end": 1.5,
            "count": 0
           },
           {
            "bin_start": 1.5,
            "bin_end": 1.6,
            "count": 0
           },
           {
            "bin_start": 1.6,
            "bin_end": 1.7000000000000002,
            "count": 0
           },
           {
            "bin_start": 1.7000000000000002,
            "bin_end": 1.8,
            "count": 0
           },
           {
            "bin_start": 1.8,
            "bin_end": 1.9,
            "count": 0
           },
           {
            "bin_start": 1.9,
            "bin_end": 2,
            "count": 4
           }
          ]
         }
        },
        {
         "name": "vehicle_damage",
         "dtype": "int64",
         "stats": {
          "unique_count": 1,
          "nan_count": 0,
          "min": "1",
          "max": "1",
          "histogram": [
           {
            "bin_start": 0.5,
            "bin_end": 0.6,
            "count": 0
           },
           {
            "bin_start": 0.6,
            "bin_end": 0.7,
            "count": 0
           },
           {
            "bin_start": 0.7,
            "bin_end": 0.8,
            "count": 0
           },
           {
            "bin_start": 0.8,
            "bin_end": 0.9,
            "count": 0
           },
           {
            "bin_start": 0.9,
            "bin_end": 1,
            "count": 0
           },
           {
            "bin_start": 1,
            "bin_end": 1.1,
            "count": 5
           },
           {
            "bin_start": 1.1,
            "bin_end": 1.2000000000000002,
            "count": 0
           },
           {
            "bin_start": 1.2000000000000002,
            "bin_end": 1.3,
            "count": 0
           },
           {
            "bin_start": 1.3,
            "bin_end": 1.4,
            "count": 0
           },
           {
            "bin_start": 1.4,
            "bin_end": 1.5,
            "count": 0
           }
          ]
         }
        },
        {
         "name": "response",
         "dtype": "int64",
         "stats": {
          "unique_count": 2,
          "nan_count": 0,
          "min": "0",
          "max": "1",
          "histogram": [
           {
            "bin_start": 0,
            "bin_end": 0.1,
            "count": 4
           },
           {
            "bin_start": 0.1,
            "bin_end": 0.2,
            "count": 0
           },
           {
            "bin_start": 0.2,
            "bin_end": 0.30000000000000004,
            "count": 0
           },
           {
            "bin_start": 0.30000000000000004,
            "bin_end": 0.4,
            "count": 0
           },
           {
            "bin_start": 0.4,
            "bin_end": 0.5,
            "count": 0
           },
           {
            "bin_start": 0.5,
            "bin_end": 0.6000000000000001,
            "count": 0
           },
           {
            "bin_start": 0.6000000000000001,
            "bin_end": 0.7000000000000001,
            "count": 0
           },
           {
            "bin_start": 0.7000000000000001,
            "bin_end": 0.8,
            "count": 0
           },
           {
            "bin_start": 0.8,
            "bin_end": 0.9,
            "count": 0
           },
           {
            "bin_start": 0.9,
            "bin_end": 1,
            "count": 1
           }
          ]
         }
        },
        {
         "name": "score_rf",
         "dtype": "float64",
         "stats": {
          "unique_count": 3,
          "nan_count": 0,
          "min": "0.9912478632478633",
          "max": "0.9966666666666667",
          "histogram": [
           {
            "bin_start": 0.9912478632478633,
            "bin_end": 0.9917897435897436,
            "count": 3
           },
           {
            "bin_start": 0.9917897435897436,
            "bin_end": 0.992331623931624,
            "count": 0
           },
           {
            "bin_start": 0.992331623931624,
            "bin_end": 0.9928735042735043,
            "count": 0
           },
           {
            "bin_start": 0.9928735042735043,
            "bin_end": 0.9934153846153847,
            "count": 0
           },
           {
            "bin_start": 0.9934153846153847,
            "bin_end": 0.993957264957265,
            "count": 0
           },
           {
            "bin_start": 0.993957264957265,
            "bin_end": 0.9944991452991453,
            "count": 1
           },
           {
            "bin_start": 0.9944991452991453,
            "bin_end": 0.9950410256410257,
            "count": 0
           },
           {
            "bin_start": 0.9950410256410257,
            "bin_end": 0.995582905982906,
            "count": 0
           },
           {
            "bin_start": 0.995582905982906,
            "bin_end": 0.9961247863247864,
            "count": 0
           },
           {
            "bin_start": 0.9961247863247864,
            "bin_end": 0.9966666666666667,
            "count": 1
           }
          ]
         }
        },
        {
         "name": "_deepnote_index_column",
         "dtype": "int64"
        }
       ],
       "rows": [
        {
         "id": "106976",
         "age": "0.1538461538461538",
         "region_code": "28.0",
         "policy_sales_channel": "26.0",
         "previously_insured": "0",
         "vintage": "0.1626297577854671",
         "vehicle_age": "1",
         "vehicle_damage": "1",
         "response": "0",
         "score_rf": "0.9966666666666667",
         "_deepnote_index_column": "106975"
        },
        {
         "id": "223684",
         "age": "0.3692307692307693",
         "region_code": "28.0",
         "policy_sales_channel": "26.0",
         "previously_insured": "0",
         "vintage": "0.8512110726643599",
         "vehicle_age": "2",
         "vehicle_damage": "1",
         "response": "0",
         "score_rf": "0.9939880952380952",
         "_deepnote_index_column": "223683"
        },
        {
         "id": "72982",
         "age": "0.3846153846153846",
         "region_code": "28.0",
         "policy_sales_channel": "26.0",
         "previously_insured": "0",
         "vintage": "0.6539792387543253",
         "vehicle_age": "2",
         "vehicle_damage": "1",
         "response": "0",
         "score_rf": "0.9912478632478633",
         "_deepnote_index_column": "72981"
        },
        {
         "id": "184470",
         "age": "0.3846153846153846",
         "region_code": "28.0",
         "policy_sales_channel": "26.0",
         "previously_insured": "0",
         "vintage": "0.6539792387543253",
         "vehicle_age": "2",
         "vehicle_damage": "1",
         "response": "0",
         "score_rf": "0.9912478632478633",
         "_deepnote_index_column": "184469"
        },
        {
         "id": "336025",
         "age": "0.3846153846153846",
         "region_code": "28.0",
         "policy_sales_channel": "26.0",
         "previously_insured": "0",
         "vintage": "0.6539792387543253",
         "vehicle_age": "2",
         "vehicle_damage": "1",
         "response": "1",
         "score_rf": "0.9912478632478633",
         "_deepnote_index_column": "336024"
        }
       ]
      },
      "text/plain": "            id       age  region_code  policy_sales_channel  \\\n106975  106976  0.153846         28.0                  26.0   \n223683  223684  0.369231         28.0                  26.0   \n72981    72982  0.384615         28.0                  26.0   \n184469  184470  0.384615         28.0                  26.0   \n336024  336025  0.384615         28.0                  26.0   \n\n        previously_insured   vintage  vehicle_age  vehicle_damage  response  \\\n106975                   0  0.162630            1               1         0   \n223683                   0  0.851211            2               1         0   \n72981                    0  0.653979            2               1         0   \n184469                   0  0.653979            2               1         0   \n336024                   0  0.653979            2               1         1   \n\n        score_rf  \n106975  0.996667  \n223683  0.993988  \n72981   0.991248  \n184469  0.991248  \n336024  0.991248  ",
      "text/html": "<div>\n<style scoped>\n    .dataframe tbody tr th:only-of-type {\n        vertical-align: middle;\n    }\n\n    .dataframe tbody tr th {\n        vertical-align: top;\n    }\n\n    .dataframe thead th {\n        text-align: right;\n    }\n</style>\n<table border=\"1\" class=\"dataframe\">\n  <thead>\n    <tr style=\"text-align: right;\">\n      <th></th>\n      <th>id</th>\n      <th>age</th>\n      <th>region_code</th>\n      <th>policy_sales_channel</th>\n      <th>previously_insured</th>\n      <th>vintage</th>\n      <th>vehicle_age</th>\n      <th>vehicle_damage</th>\n      <th>response</th>\n      <th>score_rf</th>\n    </tr>\n  </thead>\n  <tbody>\n    <tr>\n      <th>106975</th>\n      <td>106976</td>\n      <td>0.153846</td>\n      <td>28.0</td>\n      <td>26.0</td>\n      <td>0</td>\n      <td>0.162630</td>\n      <td>1</td>\n      <td>1</td>\n      <td>0</td>\n      <td>0.996667</td>\n    </tr>\n    <tr>\n      <th>223683</th>\n      <td>223684</td>\n      <td>0.369231</td>\n      <td>28.0</td>\n      <td>26.0</td>\n      <td>0</td>\n      <td>0.851211</td>\n      <td>2</td>\n      <td>1</td>\n      <td>0</td>\n      <td>0.993988</td>\n    </tr>\n    <tr>\n      <th>72981</th>\n      <td>72982</td>\n      <td>0.384615</td>\n      <td>28.0</td>\n      <td>26.0</td>\n      <td>0</td>\n      <td>0.653979</td>\n      <td>2</td>\n      <td>1</td>\n      <td>0</td>\n      <td>0.991248</td>\n    </tr>\n    <tr>\n      <th>184469</th>\n      <td>184470</td>\n      <td>0.384615</td>\n      <td>28.0</td>\n      <td>26.0</td>\n      <td>0</td>\n      <td>0.653979</td>\n      <td>2</td>\n      <td>1</td>\n      <td>0</td>\n      <td>0.991248</td>\n    </tr>\n    <tr>\n      <th>336024</th>\n      <td>336025</td>\n      <td>0.384615</td>\n      <td>28.0</td>\n      <td>26.0</td>\n      <td>0</td>\n      <td>0.653979</td>\n      <td>2</td>\n      <td>1</td>\n      <td>1</td>\n      <td>0.991248</td>\n    </tr>\n  </tbody>\n</table>\n</div>"
     },
     "metadata": {}
    }
   ]
  },
  {
   "cell_type": "code",
   "metadata": {
    "ExecuteTime": {
     "end_time": "2022-09-07T16:46:51.204493Z",
     "start_time": "2022-09-07T16:46:51.066167Z"
    },
    "cell_id": "00054-34328c7b-ef48-4413-a617-e954eb8af022",
    "deepnote_to_be_reexecuted": false,
    "source_hash": "ea237d99",
    "execution_start": 1662726629655,
    "execution_millis": 91,
    "deepnote_cell_type": "code",
    "deepnote_cell_height": 75.60000610351562
   },
   "source": "rf_performace = performace(\"Random forest\",rf_df,y_val,yhat_rf_class,clients)",
   "execution_count": 40,
   "outputs": []
  },
  {
   "cell_type": "code",
   "metadata": {
    "ExecuteTime": {
     "end_time": "2022-09-07T16:46:51.251088Z",
     "start_time": "2022-09-07T16:46:51.204493Z"
    },
    "cell_id": "00055-9db3f910-6e56-4d5c-b448-f000a9b00e36",
    "deepnote_to_be_reexecuted": false,
    "source_hash": "ed170d2f",
    "execution_start": 1662726629779,
    "execution_millis": 3,
    "deepnote_cell_type": "code",
    "deepnote_cell_height": 225.1999969482422,
    "deepnote_output_heights": [
     59
    ]
   },
   "source": "rf_performace",
   "execution_count": 41,
   "outputs": [
    {
     "output_type": "execute_result",
     "execution_count": 41,
     "data": {
      "application/vnd.deepnote.dataframe.v3+json": {
       "column_count": 6,
       "row_count": 1,
       "columns": [
        {
         "name": "Model Name",
         "dtype": "object",
         "stats": {
          "unique_count": 1,
          "nan_count": 0,
          "categories": [
           {
            "name": "Random forest",
            "count": 1
           }
          ]
         }
        },
        {
         "name": "Precison",
         "dtype": "float64",
         "stats": {
          "unique_count": 1,
          "nan_count": 0,
          "min": "0.32651464341605185",
          "max": "0.32651464341605185",
          "histogram": [
           {
            "bin_start": -0.17348535658394815,
            "bin_end": -0.07348535658394814,
            "count": 0
           },
           {
            "bin_start": -0.07348535658394814,
            "bin_end": 0.026514643416051864,
            "count": 0
           },
           {
            "bin_start": 0.026514643416051864,
            "bin_end": 0.1265146434160519,
            "count": 0
           },
           {
            "bin_start": 0.1265146434160519,
            "bin_end": 0.22651464341605188,
            "count": 0
           },
           {
            "bin_start": 0.22651464341605188,
            "bin_end": 0.32651464341605185,
            "count": 0
           },
           {
            "bin_start": 0.32651464341605185,
            "bin_end": 0.42651464341605194,
            "count": 1
           },
           {
            "bin_start": 0.42651464341605194,
            "bin_end": 0.5265146434160519,
            "count": 0
           },
           {
            "bin_start": 0.5265146434160519,
            "bin_end": 0.6265146434160519,
            "count": 0
           },
           {
            "bin_start": 0.6265146434160519,
            "bin_end": 0.7265146434160519,
            "count": 0
           },
           {
            "bin_start": 0.7265146434160519,
            "bin_end": 0.8265146434160519,
            "count": 0
           }
          ]
         }
        },
        {
         "name": "Recall",
         "dtype": "float64",
         "stats": {
          "unique_count": 1,
          "nan_count": 0,
          "min": "0.20844929708128165",
          "max": "0.20844929708128165",
          "histogram": [
           {
            "bin_start": -0.2915507029187183,
            "bin_end": -0.1915507029187183,
            "count": 0
           },
           {
            "bin_start": -0.1915507029187183,
            "bin_end": -0.09155070291871831,
            "count": 0
           },
           {
            "bin_start": -0.09155070291871831,
            "bin_end": 0.008449297081281726,
            "count": 0
           },
           {
            "bin_start": 0.008449297081281726,
            "bin_end": 0.1084492970812817,
            "count": 0
           },
           {
            "bin_start": 0.1084492970812817,
            "bin_end": 0.20844929708128168,
            "count": 1
           },
           {
            "bin_start": 0.20844929708128168,
            "bin_end": 0.30844929708128177,
            "count": 0
           },
           {
            "bin_start": 0.30844929708128177,
            "bin_end": 0.40844929708128175,
            "count": 0
           },
           {
            "bin_start": 0.40844929708128175,
            "bin_end": 0.5084492970812817,
            "count": 0
           },
           {
            "bin_start": 0.5084492970812817,
            "bin_end": 0.6084492970812817,
            "count": 0
           },
           {
            "bin_start": 0.6084492970812817,
            "bin_end": 0.7084492970812817,
            "count": 0
           }
          ]
         }
        },
        {
         "name": "k",
         "dtype": "int64",
         "stats": {
          "unique_count": 1,
          "nan_count": 0,
          "min": "2000",
          "max": "2000",
          "histogram": [
           {
            "bin_start": 1999.5,
            "bin_end": 1999.6,
            "count": 0
           },
           {
            "bin_start": 1999.6,
            "bin_end": 1999.7,
            "count": 0
           },
           {
            "bin_start": 1999.7,
            "bin_end": 1999.8,
            "count": 0
           },
           {
            "bin_start": 1999.8,
            "bin_end": 1999.9,
            "count": 0
           },
           {
            "bin_start": 1999.9,
            "bin_end": 2000,
            "count": 0
           },
           {
            "bin_start": 2000,
            "bin_end": 2000.1,
            "count": 1
           },
           {
            "bin_start": 2000.1,
            "bin_end": 2000.2,
            "count": 0
           },
           {
            "bin_start": 2000.2,
            "bin_end": 2000.3,
            "count": 0
           },
           {
            "bin_start": 2000.3,
            "bin_end": 2000.4,
            "count": 0
           },
           {
            "bin_start": 2000.4,
            "bin_end": 2000.5,
            "count": 0
           }
          ]
         }
        },
        {
         "name": "Precison at k",
         "dtype": "float64",
         "stats": {
          "unique_count": 1,
          "nan_count": 0,
          "min": "0.3683158420789605",
          "max": "0.3683158420789605",
          "histogram": [
           {
            "bin_start": -0.1316841579210395,
            "bin_end": -0.031684157921039485,
            "count": 0
           },
           {
            "bin_start": -0.031684157921039485,
            "bin_end": 0.06831584207896052,
            "count": 0
           },
           {
            "bin_start": 0.06831584207896052,
            "bin_end": 0.16831584207896055,
            "count": 0
           },
           {
            "bin_start": 0.16831584207896055,
            "bin_end": 0.26831584207896053,
            "count": 0
           },
           {
            "bin_start": 0.26831584207896053,
            "bin_end": 0.3683158420789605,
            "count": 0
           },
           {
            "bin_start": 0.3683158420789605,
            "bin_end": 0.4683158420789606,
            "count": 1
           },
           {
            "bin_start": 0.4683158420789606,
            "bin_end": 0.5683158420789606,
            "count": 0
           },
           {
            "bin_start": 0.5683158420789606,
            "bin_end": 0.6683158420789606,
            "count": 0
           },
           {
            "bin_start": 0.6683158420789606,
            "bin_end": 0.7683158420789605,
            "count": 0
           },
           {
            "bin_start": 0.7683158420789605,
            "bin_end": 0.8683158420789605,
            "count": 0
           }
          ]
         }
        },
        {
         "name": "Recall at k",
         "dtype": "float64",
         "stats": {
          "unique_count": 1,
          "nan_count": 0,
          "min": "0.05259401983872119",
          "max": "0.05259401983872119",
          "histogram": [
           {
            "bin_start": -0.4474059801612788,
            "bin_end": -0.34740598016127877,
            "count": 0
           },
           {
            "bin_start": -0.34740598016127877,
            "bin_end": -0.2474059801612788,
            "count": 0
           },
           {
            "bin_start": -0.2474059801612788,
            "bin_end": -0.14740598016127876,
            "count": 0
           },
           {
            "bin_start": -0.14740598016127876,
            "bin_end": -0.04740598016127878,
            "count": 0
           },
           {
            "bin_start": -0.04740598016127878,
            "bin_end": 0.052594019838721195,
            "count": 1
           },
           {
            "bin_start": 0.052594019838721195,
            "bin_end": 0.15259401983872128,
            "count": 0
           },
           {
            "bin_start": 0.15259401983872128,
            "bin_end": 0.25259401983872126,
            "count": 0
           },
           {
            "bin_start": 0.25259401983872126,
            "bin_end": 0.35259401983872124,
            "count": 0
           },
           {
            "bin_start": 0.35259401983872124,
            "bin_end": 0.4525940198387212,
            "count": 0
           },
           {
            "bin_start": 0.4525940198387212,
            "bin_end": 0.5525940198387211,
            "count": 0
           }
          ]
         }
        },
        {
         "name": "_deepnote_index_column",
         "dtype": "int64"
        }
       ],
       "rows": [
        {
         "Model Name": "Random forest",
         "Precison": "0.32651464341605185",
         "Recall": "0.20844929708128165",
         "k": "2000",
         "Precison at k": "0.3683158420789605",
         "Recall at k": "0.05259401983872119",
         "_deepnote_index_column": "0"
        }
       ]
      },
      "text/plain": "      Model Name  Precison    Recall     k  Precison at k  Recall at k\n0  Random forest  0.326515  0.208449  2000       0.368316     0.052594",
      "text/html": "<div>\n<style scoped>\n    .dataframe tbody tr th:only-of-type {\n        vertical-align: middle;\n    }\n\n    .dataframe tbody tr th {\n        vertical-align: top;\n    }\n\n    .dataframe thead th {\n        text-align: right;\n    }\n</style>\n<table border=\"1\" class=\"dataframe\">\n  <thead>\n    <tr style=\"text-align: right;\">\n      <th></th>\n      <th>Model Name</th>\n      <th>Precison</th>\n      <th>Recall</th>\n      <th>k</th>\n      <th>Precison at k</th>\n      <th>Recall at k</th>\n    </tr>\n  </thead>\n  <tbody>\n    <tr>\n      <th>0</th>\n      <td>Random forest</td>\n      <td>0.326515</td>\n      <td>0.208449</td>\n      <td>2000</td>\n      <td>0.368316</td>\n      <td>0.052594</td>\n    </tr>\n  </tbody>\n</table>\n</div>"
     },
     "metadata": {}
    }
   ]
  },
  {
   "cell_type": "markdown",
   "source": "## Extra trees",
   "metadata": {
    "cell_id": "00056-d6b22faf-9ace-4332-82b7-25c9eef166ed",
    "deepnote_cell_type": "markdown",
    "deepnote_cell_height": 69.60000610351562
   }
  },
  {
   "cell_type": "code",
   "metadata": {
    "ExecuteTime": {
     "end_time": "2022-09-07T16:46:51.266711Z",
     "start_time": "2022-09-07T16:46:51.251088Z"
    },
    "cell_id": "00057-ab10e8ec-87df-4a0b-8d17-092ff9bd7d9c",
    "deepnote_to_be_reexecuted": false,
    "source_hash": "1b318dfe",
    "execution_start": 1662726629784,
    "execution_millis": 16,
    "deepnote_cell_type": "code",
    "deepnote_cell_height": 75.60000610351562
   },
   "source": "et_df = val.copy()",
   "execution_count": 42,
   "outputs": []
  },
  {
   "cell_type": "code",
   "metadata": {
    "ExecuteTime": {
     "end_time": "2022-09-07T16:46:51.351332Z",
     "start_time": "2022-09-07T16:46:51.266711Z"
    },
    "cell_id": "00058-f309bae6-132f-492f-aee5-2eeb9d63e3e3",
    "deepnote_to_be_reexecuted": false,
    "source_hash": "c65c3bec",
    "execution_start": 1662726629800,
    "execution_millis": 43,
    "deepnote_cell_type": "code",
    "deepnote_cell_height": 111.60000610351562
   },
   "source": "et_df['score_et'] = yhat_et_proba[:,1].tolist()\n# sorte by score\net_df = et_df.sort_values('score_et',ascending=False)",
   "execution_count": 43,
   "outputs": []
  },
  {
   "cell_type": "code",
   "metadata": {
    "ExecuteTime": {
     "end_time": "2022-09-07T16:46:51.382577Z",
     "start_time": "2022-09-07T16:46:51.351332Z"
    },
    "cell_id": "00059-f1641854-fefd-47a9-9944-1b45bab93295",
    "deepnote_to_be_reexecuted": false,
    "source_hash": "9c48153f",
    "execution_start": 1662726629887,
    "execution_millis": 22,
    "deepnote_cell_type": "code",
    "deepnote_cell_height": 389.20001220703125,
    "deepnote_output_heights": [
     175
    ]
   },
   "source": "et_df.head()",
   "execution_count": 44,
   "outputs": [
    {
     "output_type": "execute_result",
     "execution_count": 44,
     "data": {
      "application/vnd.deepnote.dataframe.v3+json": {
       "column_count": 10,
       "row_count": 5,
       "columns": [
        {
         "name": "id",
         "dtype": "int64",
         "stats": {
          "unique_count": 5,
          "nan_count": 0,
          "min": "44290",
          "max": "325304",
          "histogram": [
           {
            "bin_start": 44290,
            "bin_end": 72391.4,
            "count": 2
           },
           {
            "bin_start": 72391.4,
            "bin_end": 100492.8,
            "count": 0
           },
           {
            "bin_start": 100492.8,
            "bin_end": 128594.20000000001,
            "count": 1
           },
           {
            "bin_start": 128594.20000000001,
            "bin_end": 156695.6,
            "count": 0
           },
           {
            "bin_start": 156695.6,
            "bin_end": 184797,
            "count": 1
           },
           {
            "bin_start": 184797,
            "bin_end": 212898.40000000002,
            "count": 0
           },
           {
            "bin_start": 212898.40000000002,
            "bin_end": 240999.80000000002,
            "count": 0
           },
           {
            "bin_start": 240999.80000000002,
            "bin_end": 269101.2,
            "count": 0
           },
           {
            "bin_start": 269101.2,
            "bin_end": 297202.6,
            "count": 0
           },
           {
            "bin_start": 297202.6,
            "bin_end": 325304,
            "count": 1
           }
          ]
         }
        },
        {
         "name": "age",
         "dtype": "float64",
         "stats": {
          "unique_count": 5,
          "nan_count": 0,
          "min": "0.2307692307692308",
          "max": "0.476923076923077",
          "histogram": [
           {
            "bin_start": 0.2307692307692308,
            "bin_end": 0.25538461538461543,
            "count": 2
           },
           {
            "bin_start": 0.25538461538461543,
            "bin_end": 0.28,
            "count": 0
           },
           {
            "bin_start": 0.28,
            "bin_end": 0.3046153846153847,
            "count": 0
           },
           {
            "bin_start": 0.3046153846153847,
            "bin_end": 0.32923076923076927,
            "count": 0
           },
           {
            "bin_start": 0.32923076923076927,
            "bin_end": 0.3538461538461539,
            "count": 1
           },
           {
            "bin_start": 0.3538461538461539,
            "bin_end": 0.3784615384615385,
            "count": 0
           },
           {
            "bin_start": 0.3784615384615385,
            "bin_end": 0.4030769230769231,
            "count": 1
           },
           {
            "bin_start": 0.4030769230769231,
            "bin_end": 0.42769230769230776,
            "count": 0
           },
           {
            "bin_start": 0.42769230769230776,
            "bin_end": 0.4523076923076924,
            "count": 0
           },
           {
            "bin_start": 0.4523076923076924,
            "bin_end": 0.476923076923077,
            "count": 1
           }
          ]
         }
        },
        {
         "name": "region_code",
         "dtype": "float64",
         "stats": {
          "unique_count": 2,
          "nan_count": 0,
          "min": "28.0",
          "max": "33.0",
          "histogram": [
           {
            "bin_start": 28,
            "bin_end": 28.5,
            "count": 4
           },
           {
            "bin_start": 28.5,
            "bin_end": 29,
            "count": 0
           },
           {
            "bin_start": 29,
            "bin_end": 29.5,
            "count": 0
           },
           {
            "bin_start": 29.5,
            "bin_end": 30,
            "count": 0
           },
           {
            "bin_start": 30,
            "bin_end": 30.5,
            "count": 0
           },
           {
            "bin_start": 30.5,
            "bin_end": 31,
            "count": 0
           },
           {
            "bin_start": 31,
            "bin_end": 31.5,
            "count": 0
           },
           {
            "bin_start": 31.5,
            "bin_end": 32,
            "count": 0
           },
           {
            "bin_start": 32,
            "bin_end": 32.5,
            "count": 0
           },
           {
            "bin_start": 32.5,
            "bin_end": 33,
            "count": 1
           }
          ]
         }
        },
        {
         "name": "policy_sales_channel",
         "dtype": "float64",
         "stats": {
          "unique_count": 3,
          "nan_count": 0,
          "min": "26.0",
          "max": "124.0",
          "histogram": [
           {
            "bin_start": 26,
            "bin_end": 35.8,
            "count": 2
           },
           {
            "bin_start": 35.8,
            "bin_end": 45.6,
            "count": 0
           },
           {
            "bin_start": 45.6,
            "bin_end": 55.400000000000006,
            "count": 0
           },
           {
            "bin_start": 55.400000000000006,
            "bin_end": 65.2,
            "count": 0
           },
           {
            "bin_start": 65.2,
            "bin_end": 75,
            "count": 0
           },
           {
            "bin_start": 75,
            "bin_end": 84.80000000000001,
            "count": 0
           },
           {
            "bin_start": 84.80000000000001,
            "bin_end": 94.60000000000001,
            "count": 0
           },
           {
            "bin_start": 94.60000000000001,
            "bin_end": 104.4,
            "count": 0
           },
           {
            "bin_start": 104.4,
            "bin_end": 114.2,
            "count": 0
           },
           {
            "bin_start": 114.2,
            "bin_end": 124,
            "count": 3
           }
          ]
         }
        },
        {
         "name": "previously_insured",
         "dtype": "int64",
         "stats": {
          "unique_count": 1,
          "nan_count": 0,
          "min": "0",
          "max": "0",
          "histogram": [
           {
            "bin_start": -0.5,
            "bin_end": -0.4,
            "count": 0
           },
           {
            "bin_start": -0.4,
            "bin_end": -0.3,
            "count": 0
           },
           {
            "bin_start": -0.3,
            "bin_end": -0.19999999999999996,
            "count": 0
           },
           {
            "bin_start": -0.19999999999999996,
            "bin_end": -0.09999999999999998,
            "count": 0
           },
           {
            "bin_start": -0.09999999999999998,
            "bin_end": 0,
            "count": 0
           },
           {
            "bin_start": 0,
            "bin_end": 0.10000000000000009,
            "count": 5
           },
           {
            "bin_start": 0.10000000000000009,
            "bin_end": 0.20000000000000007,
            "count": 0
           },
           {
            "bin_start": 0.20000000000000007,
            "bin_end": 0.30000000000000004,
            "count": 0
           },
           {
            "bin_start": 0.30000000000000004,
            "bin_end": 0.4,
            "count": 0
           },
           {
            "bin_start": 0.4,
            "bin_end": 0.5,
            "count": 0
           }
          ]
         }
        },
        {
         "name": "vintage",
         "dtype": "float64",
         "stats": {
          "unique_count": 5,
          "nan_count": 0,
          "min": "0.0899653979238754",
          "max": "0.71280276816609",
          "histogram": [
           {
            "bin_start": 0.0899653979238754,
            "bin_end": 0.15224913494809686,
            "count": 2
           },
           {
            "bin_start": 0.15224913494809686,
            "bin_end": 0.21453287197231832,
            "count": 0
           },
           {
            "bin_start": 0.21453287197231832,
            "bin_end": 0.2768166089965398,
            "count": 1
           },
           {
            "bin_start": 0.2768166089965398,
            "bin_end": 0.3391003460207612,
            "count": 0
           },
           {
            "bin_start": 0.3391003460207612,
            "bin_end": 0.40138408304498274,
            "count": 0
           },
           {
            "bin_start": 0.40138408304498274,
            "bin_end": 0.46366782006920415,
            "count": 0
           },
           {
            "bin_start": 0.46366782006920415,
            "bin_end": 0.5259515570934257,
            "count": 0
           },
           {
            "bin_start": 0.5259515570934257,
            "bin_end": 0.5882352941176471,
            "count": 0
           },
           {
            "bin_start": 0.5882352941176471,
            "bin_end": 0.6505190311418686,
            "count": 1
           },
           {
            "bin_start": 0.6505190311418686,
            "bin_end": 0.71280276816609,
            "count": 1
           }
          ]
         }
        },
        {
         "name": "vehicle_age",
         "dtype": "int64",
         "stats": {
          "unique_count": 2,
          "nan_count": 0,
          "min": "2",
          "max": "3",
          "histogram": [
           {
            "bin_start": 2,
            "bin_end": 2.1,
            "count": 4
           },
           {
            "bin_start": 2.1,
            "bin_end": 2.2,
            "count": 0
           },
           {
            "bin_start": 2.2,
            "bin_end": 2.3,
            "count": 0
           },
           {
            "bin_start": 2.3,
            "bin_end": 2.4,
            "count": 0
           },
           {
            "bin_start": 2.4,
            "bin_end": 2.5,
            "count": 0
           },
           {
            "bin_start": 2.5,
            "bin_end": 2.6,
            "count": 0
           },
           {
            "bin_start": 2.6,
            "bin_end": 2.7,
            "count": 0
           },
           {
            "bin_start": 2.7,
            "bin_end": 2.8,
            "count": 0
           },
           {
            "bin_start": 2.8,
            "bin_end": 2.9,
            "count": 0
           },
           {
            "bin_start": 2.9,
            "bin_end": 3,
            "count": 1
           }
          ]
         }
        },
        {
         "name": "vehicle_damage",
         "dtype": "int64",
         "stats": {
          "unique_count": 1,
          "nan_count": 0,
          "min": "1",
          "max": "1",
          "histogram": [
           {
            "bin_start": 0.5,
            "bin_end": 0.6,
            "count": 0
           },
           {
            "bin_start": 0.6,
            "bin_end": 0.7,
            "count": 0
           },
           {
            "bin_start": 0.7,
            "bin_end": 0.8,
            "count": 0
           },
           {
            "bin_start": 0.8,
            "bin_end": 0.9,
            "count": 0
           },
           {
            "bin_start": 0.9,
            "bin_end": 1,
            "count": 0
           },
           {
            "bin_start": 1,
            "bin_end": 1.1,
            "count": 5
           },
           {
            "bin_start": 1.1,
            "bin_end": 1.2000000000000002,
            "count": 0
           },
           {
            "bin_start": 1.2000000000000002,
            "bin_end": 1.3,
            "count": 0
           },
           {
            "bin_start": 1.3,
            "bin_end": 1.4,
            "count": 0
           },
           {
            "bin_start": 1.4,
            "bin_end": 1.5,
            "count": 0
           }
          ]
         }
        },
        {
         "name": "response",
         "dtype": "int64",
         "stats": {
          "unique_count": 2,
          "nan_count": 0,
          "min": "0",
          "max": "1",
          "histogram": [
           {
            "bin_start": 0,
            "bin_end": 0.1,
            "count": 3
           },
           {
            "bin_start": 0.1,
            "bin_end": 0.2,
            "count": 0
           },
           {
            "bin_start": 0.2,
            "bin_end": 0.30000000000000004,
            "count": 0
           },
           {
            "bin_start": 0.30000000000000004,
            "bin_end": 0.4,
            "count": 0
           },
           {
            "bin_start": 0.4,
            "bin_end": 0.5,
            "count": 0
           },
           {
            "bin_start": 0.5,
            "bin_end": 0.6000000000000001,
            "count": 0
           },
           {
            "bin_start": 0.6000000000000001,
            "bin_end": 0.7000000000000001,
            "count": 0
           },
           {
            "bin_start": 0.7000000000000001,
            "bin_end": 0.8,
            "count": 0
           },
           {
            "bin_start": 0.8,
            "bin_end": 0.9,
            "count": 0
           },
           {
            "bin_start": 0.9,
            "bin_end": 1,
            "count": 2
           }
          ]
         }
        },
        {
         "name": "score_et",
         "dtype": "float64",
         "stats": {
          "unique_count": 1,
          "nan_count": 0,
          "min": "1.0",
          "max": "1.0",
          "histogram": [
           {
            "bin_start": 0.5,
            "bin_end": 0.6,
            "count": 0
           },
           {
            "bin_start": 0.6,
            "bin_end": 0.7,
            "count": 0
           },
           {
            "bin_start": 0.7,
            "bin_end": 0.8,
            "count": 0
           },
           {
            "bin_start": 0.8,
            "bin_end": 0.9,
            "count": 0
           },
           {
            "bin_start": 0.9,
            "bin_end": 1,
            "count": 0
           },
           {
            "bin_start": 1,
            "bin_end": 1.1,
            "count": 5
           },
           {
            "bin_start": 1.1,
            "bin_end": 1.2000000000000002,
            "count": 0
           },
           {
            "bin_start": 1.2000000000000002,
            "bin_end": 1.3,
            "count": 0
           },
           {
            "bin_start": 1.3,
            "bin_end": 1.4,
            "count": 0
           },
           {
            "bin_start": 1.4,
            "bin_end": 1.5,
            "count": 0
           }
          ]
         }
        },
        {
         "name": "_deepnote_index_column",
         "dtype": "int64"
        }
       ],
       "rows": [
        {
         "id": "44290",
         "age": "0.2461538461538461",
         "region_code": "33.0",
         "policy_sales_channel": "124.0",
         "previously_insured": "0",
         "vintage": "0.1453287197231834",
         "vehicle_age": "2",
         "vehicle_damage": "1",
         "response": "0",
         "score_et": "1.0",
         "_deepnote_index_column": "44289"
        },
        {
         "id": "183710",
         "age": "0.4",
         "region_code": "28.0",
         "policy_sales_channel": "122.0",
         "previously_insured": "0",
         "vintage": "0.71280276816609",
         "vehicle_age": "2",
         "vehicle_damage": "1",
         "response": "0",
         "score_et": "1.0",
         "_deepnote_index_column": "183709"
        },
        {
         "id": "100547",
         "age": "0.2307692307692308",
         "region_code": "28.0",
         "policy_sales_channel": "124.0",
         "previously_insured": "0",
         "vintage": "0.0899653979238754",
         "vehicle_age": "2",
         "vehicle_damage": "1",
         "response": "1",
         "score_et": "1.0",
         "_deepnote_index_column": "100546"
        },
        {
         "id": "325304",
         "age": "0.3384615384615385",
         "region_code": "28.0",
         "policy_sales_channel": "26.0",
         "previously_insured": "0",
         "vintage": "0.2698961937716263",
         "vehicle_age": "2",
         "vehicle_damage": "1",
         "response": "1",
         "score_et": "1.0",
         "_deepnote_index_column": "325303"
        },
        {
         "id": "56980",
         "age": "0.476923076923077",
         "region_code": "28.0",
         "policy_sales_channel": "26.0",
         "previously_insured": "0",
         "vintage": "0.615916955017301",
         "vehicle_age": "3",
         "vehicle_damage": "1",
         "response": "0",
         "score_et": "1.0",
         "_deepnote_index_column": "56979"
        }
       ]
      },
      "text/plain": "            id       age  region_code  policy_sales_channel  \\\n44289    44290  0.246154         33.0                 124.0   \n183709  183710  0.400000         28.0                 122.0   \n100546  100547  0.230769         28.0                 124.0   \n325303  325304  0.338462         28.0                  26.0   \n56979    56980  0.476923         28.0                  26.0   \n\n        previously_insured   vintage  vehicle_age  vehicle_damage  response  \\\n44289                    0  0.145329            2               1         0   \n183709                   0  0.712803            2               1         0   \n100546                   0  0.089965            2               1         1   \n325303                   0  0.269896            2               1         1   \n56979                    0  0.615917            3               1         0   \n\n        score_et  \n44289        1.0  \n183709       1.0  \n100546       1.0  \n325303       1.0  \n56979        1.0  ",
      "text/html": "<div>\n<style scoped>\n    .dataframe tbody tr th:only-of-type {\n        vertical-align: middle;\n    }\n\n    .dataframe tbody tr th {\n        vertical-align: top;\n    }\n\n    .dataframe thead th {\n        text-align: right;\n    }\n</style>\n<table border=\"1\" class=\"dataframe\">\n  <thead>\n    <tr style=\"text-align: right;\">\n      <th></th>\n      <th>id</th>\n      <th>age</th>\n      <th>region_code</th>\n      <th>policy_sales_channel</th>\n      <th>previously_insured</th>\n      <th>vintage</th>\n      <th>vehicle_age</th>\n      <th>vehicle_damage</th>\n      <th>response</th>\n      <th>score_et</th>\n    </tr>\n  </thead>\n  <tbody>\n    <tr>\n      <th>44289</th>\n      <td>44290</td>\n      <td>0.246154</td>\n      <td>33.0</td>\n      <td>124.0</td>\n      <td>0</td>\n      <td>0.145329</td>\n      <td>2</td>\n      <td>1</td>\n      <td>0</td>\n      <td>1.0</td>\n    </tr>\n    <tr>\n      <th>183709</th>\n      <td>183710</td>\n      <td>0.400000</td>\n      <td>28.0</td>\n      <td>122.0</td>\n      <td>0</td>\n      <td>0.712803</td>\n      <td>2</td>\n      <td>1</td>\n      <td>0</td>\n      <td>1.0</td>\n    </tr>\n    <tr>\n      <th>100546</th>\n      <td>100547</td>\n      <td>0.230769</td>\n      <td>28.0</td>\n      <td>124.0</td>\n      <td>0</td>\n      <td>0.089965</td>\n      <td>2</td>\n      <td>1</td>\n      <td>1</td>\n      <td>1.0</td>\n    </tr>\n    <tr>\n      <th>325303</th>\n      <td>325304</td>\n      <td>0.338462</td>\n      <td>28.0</td>\n      <td>26.0</td>\n      <td>0</td>\n      <td>0.269896</td>\n      <td>2</td>\n      <td>1</td>\n      <td>1</td>\n      <td>1.0</td>\n    </tr>\n    <tr>\n      <th>56979</th>\n      <td>56980</td>\n      <td>0.476923</td>\n      <td>28.0</td>\n      <td>26.0</td>\n      <td>0</td>\n      <td>0.615917</td>\n      <td>3</td>\n      <td>1</td>\n      <td>0</td>\n      <td>1.0</td>\n    </tr>\n  </tbody>\n</table>\n</div>"
     },
     "metadata": {}
    }
   ]
  },
  {
   "cell_type": "code",
   "metadata": {
    "ExecuteTime": {
     "end_time": "2022-09-07T16:46:51.551859Z",
     "start_time": "2022-09-07T16:46:51.382577Z"
    },
    "cell_id": "00060-7253624e-e847-4c39-9e7c-098ca220fb82",
    "deepnote_to_be_reexecuted": false,
    "source_hash": "72701628",
    "execution_start": 1662726629912,
    "execution_millis": 115,
    "deepnote_cell_type": "code",
    "deepnote_cell_height": 75.60000610351562
   },
   "source": "et_performace = performace(\"Extra trees\",et_df,y_val,yhat_et_class,clients)",
   "execution_count": 45,
   "outputs": []
  },
  {
   "cell_type": "code",
   "metadata": {
    "ExecuteTime": {
     "end_time": "2022-09-07T16:46:51.583064Z",
     "start_time": "2022-09-07T16:46:51.551859Z"
    },
    "scrolled": true,
    "cell_id": "00061-1bd81c17-ac04-48c0-8c5e-3218c8bfd7c6",
    "deepnote_to_be_reexecuted": false,
    "source_hash": "b4f684ea",
    "execution_start": 1662726630057,
    "execution_millis": 3,
    "deepnote_cell_type": "code",
    "deepnote_cell_height": 225.1999969482422,
    "deepnote_output_heights": [
     59
    ]
   },
   "source": "et_performace",
   "execution_count": 46,
   "outputs": [
    {
     "output_type": "execute_result",
     "execution_count": 46,
     "data": {
      "application/vnd.deepnote.dataframe.v3+json": {
       "column_count": 6,
       "row_count": 1,
       "columns": [
        {
         "name": "Model Name",
         "dtype": "object",
         "stats": {
          "unique_count": 1,
          "nan_count": 0,
          "categories": [
           {
            "name": "Extra trees",
            "count": 1
           }
          ]
         }
        },
        {
         "name": "Precison",
         "dtype": "float64",
         "stats": {
          "unique_count": 1,
          "nan_count": 0,
          "min": "0.3164781548015081",
          "max": "0.3164781548015081",
          "histogram": [
           {
            "bin_start": -0.1835218451984919,
            "bin_end": -0.0835218451984919,
            "count": 0
           },
           {
            "bin_start": -0.0835218451984919,
            "bin_end": 0.016478154801508105,
            "count": 0
           },
           {
            "bin_start": 0.016478154801508105,
            "bin_end": 0.11647815480150814,
            "count": 0
           },
           {
            "bin_start": 0.11647815480150814,
            "bin_end": 0.21647815480150812,
            "count": 0
           },
           {
            "bin_start": 0.21647815480150812,
            "bin_end": 0.3164781548015081,
            "count": 0
           },
           {
            "bin_start": 0.3164781548015081,
            "bin_end": 0.4164781548015082,
            "count": 1
           },
           {
            "bin_start": 0.4164781548015082,
            "bin_end": 0.5164781548015082,
            "count": 0
           },
           {
            "bin_start": 0.5164781548015082,
            "bin_end": 0.6164781548015081,
            "count": 0
           },
           {
            "bin_start": 0.6164781548015081,
            "bin_end": 0.7164781548015081,
            "count": 0
           },
           {
            "bin_start": 0.7164781548015081,
            "bin_end": 0.8164781548015081,
            "count": 0
           }
          ]
         }
        },
        {
         "name": "Recall",
         "dtype": "float64",
         "stats": {
          "unique_count": 1,
          "nan_count": 0,
          "min": "0.20366802255048883",
          "max": "0.20366802255048883",
          "histogram": [
           {
            "bin_start": -0.2963319774495112,
            "bin_end": -0.19633197744951117,
            "count": 0
           },
           {
            "bin_start": -0.19633197744951117,
            "bin_end": -0.09633197744951116,
            "count": 0
           },
           {
            "bin_start": -0.09633197744951116,
            "bin_end": 0.0036680225504888697,
            "count": 0
           },
           {
            "bin_start": 0.0036680225504888697,
            "bin_end": 0.10366802255048885,
            "count": 0
           },
           {
            "bin_start": 0.10366802255048885,
            "bin_end": 0.20366802255048883,
            "count": 0
           },
           {
            "bin_start": 0.20366802255048883,
            "bin_end": 0.3036680225504889,
            "count": 1
           },
           {
            "bin_start": 0.3036680225504889,
            "bin_end": 0.4036680225504889,
            "count": 0
           },
           {
            "bin_start": 0.4036680225504889,
            "bin_end": 0.5036680225504888,
            "count": 0
           },
           {
            "bin_start": 0.5036680225504888,
            "bin_end": 0.6036680225504889,
            "count": 0
           },
           {
            "bin_start": 0.6036680225504889,
            "bin_end": 0.7036680225504888,
            "count": 0
           }
          ]
         }
        },
        {
         "name": "k",
         "dtype": "int64",
         "stats": {
          "unique_count": 1,
          "nan_count": 0,
          "min": "2000",
          "max": "2000",
          "histogram": [
           {
            "bin_start": 1999.5,
            "bin_end": 1999.6,
            "count": 0
           },
           {
            "bin_start": 1999.6,
            "bin_end": 1999.7,
            "count": 0
           },
           {
            "bin_start": 1999.7,
            "bin_end": 1999.8,
            "count": 0
           },
           {
            "bin_start": 1999.8,
            "bin_end": 1999.9,
            "count": 0
           },
           {
            "bin_start": 1999.9,
            "bin_end": 2000,
            "count": 0
           },
           {
            "bin_start": 2000,
            "bin_end": 2000.1,
            "count": 1
           },
           {
            "bin_start": 2000.1,
            "bin_end": 2000.2,
            "count": 0
           },
           {
            "bin_start": 2000.2,
            "bin_end": 2000.3,
            "count": 0
           },
           {
            "bin_start": 2000.3,
            "bin_end": 2000.4,
            "count": 0
           },
           {
            "bin_start": 2000.4,
            "bin_end": 2000.5,
            "count": 0
           }
          ]
         }
        },
        {
         "name": "Precison at k",
         "dtype": "float64",
         "stats": {
          "unique_count": 1,
          "nan_count": 0,
          "min": "0.3168415792103948",
          "max": "0.3168415792103948",
          "histogram": [
           {
            "bin_start": -0.1831584207896052,
            "bin_end": -0.0831584207896052,
            "count": 0
           },
           {
            "bin_start": -0.0831584207896052,
            "bin_end": 0.016841579210394808,
            "count": 0
           },
           {
            "bin_start": 0.016841579210394808,
            "bin_end": 0.11684157921039484,
            "count": 0
           },
           {
            "bin_start": 0.11684157921039484,
            "bin_end": 0.21684157921039482,
            "count": 0
           },
           {
            "bin_start": 0.21684157921039482,
            "bin_end": 0.3168415792103948,
            "count": 0
           },
           {
            "bin_start": 0.3168415792103948,
            "bin_end": 0.4168415792103949,
            "count": 1
           },
           {
            "bin_start": 0.4168415792103949,
            "bin_end": 0.5168415792103949,
            "count": 0
           },
           {
            "bin_start": 0.5168415792103949,
            "bin_end": 0.6168415792103948,
            "count": 0
           },
           {
            "bin_start": 0.6168415792103948,
            "bin_end": 0.7168415792103948,
            "count": 0
           },
           {
            "bin_start": 0.7168415792103948,
            "bin_end": 0.8168415792103948,
            "count": 0
           }
          ]
         }
        },
        {
         "name": "Recall at k",
         "dtype": "float64",
         "stats": {
          "unique_count": 1,
          "nan_count": 0,
          "min": "0.045243702276457576",
          "max": "0.045243702276457576",
          "histogram": [
           {
            "bin_start": -0.4547562977235424,
            "bin_end": -0.35475629772354245,
            "count": 0
           },
           {
            "bin_start": -0.35475629772354245,
            "bin_end": -0.2547562977235424,
            "count": 0
           },
           {
            "bin_start": -0.2547562977235424,
            "bin_end": -0.15475629772354238,
            "count": 0
           },
           {
            "bin_start": -0.15475629772354238,
            "bin_end": -0.0547562977235424,
            "count": 0
           },
           {
            "bin_start": -0.0547562977235424,
            "bin_end": 0.045243702276457576,
            "count": 0
           },
           {
            "bin_start": 0.045243702276457576,
            "bin_end": 0.14524370227645766,
            "count": 1
           },
           {
            "bin_start": 0.14524370227645766,
            "bin_end": 0.24524370227645764,
            "count": 0
           },
           {
            "bin_start": 0.24524370227645764,
            "bin_end": 0.3452437022764576,
            "count": 0
           },
           {
            "bin_start": 0.3452437022764576,
            "bin_end": 0.4452437022764576,
            "count": 0
           },
           {
            "bin_start": 0.4452437022764576,
            "bin_end": 0.5452437022764576,
            "count": 0
           }
          ]
         }
        },
        {
         "name": "_deepnote_index_column",
         "dtype": "int64"
        }
       ],
       "rows": [
        {
         "Model Name": "Extra trees",
         "Precison": "0.3164781548015081",
         "Recall": "0.20366802255048883",
         "k": "2000",
         "Precison at k": "0.3168415792103948",
         "Recall at k": "0.045243702276457576",
         "_deepnote_index_column": "0"
        }
       ]
      },
      "text/plain": "    Model Name  Precison    Recall     k  Precison at k  Recall at k\n0  Extra trees  0.316478  0.203668  2000       0.316842     0.045244",
      "text/html": "<div>\n<style scoped>\n    .dataframe tbody tr th:only-of-type {\n        vertical-align: middle;\n    }\n\n    .dataframe tbody tr th {\n        vertical-align: top;\n    }\n\n    .dataframe thead th {\n        text-align: right;\n    }\n</style>\n<table border=\"1\" class=\"dataframe\">\n  <thead>\n    <tr style=\"text-align: right;\">\n      <th></th>\n      <th>Model Name</th>\n      <th>Precison</th>\n      <th>Recall</th>\n      <th>k</th>\n      <th>Precison at k</th>\n      <th>Recall at k</th>\n    </tr>\n  </thead>\n  <tbody>\n    <tr>\n      <th>0</th>\n      <td>Extra trees</td>\n      <td>0.316478</td>\n      <td>0.203668</td>\n      <td>2000</td>\n      <td>0.316842</td>\n      <td>0.045244</td>\n    </tr>\n  </tbody>\n</table>\n</div>"
     },
     "metadata": {}
    }
   ]
  },
  {
   "cell_type": "markdown",
   "source": "## XGboost",
   "metadata": {
    "cell_id": "00062-2f0e872a-5a97-40e8-bde0-34a8874eb3b4",
    "deepnote_cell_type": "markdown",
    "deepnote_cell_height": 69.60000610351562
   }
  },
  {
   "cell_type": "code",
   "metadata": {
    "ExecuteTime": {
     "end_time": "2022-09-07T16:46:51.605199Z",
     "start_time": "2022-09-07T16:46:51.583064Z"
    },
    "cell_id": "00063-3ba13c60-7eb9-495e-b4ed-06c546647462",
    "deepnote_to_be_reexecuted": false,
    "source_hash": "ce3549ee",
    "execution_start": 1662726630059,
    "execution_millis": 6,
    "deepnote_cell_type": "code",
    "deepnote_cell_height": 75.60000610351562
   },
   "source": "xgb_df = val.copy()",
   "execution_count": 47,
   "outputs": []
  },
  {
   "cell_type": "code",
   "metadata": {
    "ExecuteTime": {
     "end_time": "2022-09-07T16:46:51.705441Z",
     "start_time": "2022-09-07T16:46:51.605199Z"
    },
    "cell_id": "00064-af73a354-da26-47fe-afaf-da6516ae265d",
    "deepnote_to_be_reexecuted": false,
    "source_hash": "bfe8602",
    "execution_start": 1662726630111,
    "execution_millis": 44,
    "deepnote_cell_type": "code",
    "deepnote_cell_height": 111.60000610351562
   },
   "source": "xgb_df['score_xgb'] = yhat_xgb_proba[:,1].tolist()\n# sorte by score\nxgb_df = xgb_df.sort_values('score_xgb',ascending=False)",
   "execution_count": 48,
   "outputs": []
  },
  {
   "cell_type": "code",
   "metadata": {
    "ExecuteTime": {
     "end_time": "2022-09-07T16:46:51.736691Z",
     "start_time": "2022-09-07T16:46:51.705441Z"
    },
    "scrolled": true,
    "cell_id": "00065-203b47f9-af3e-4755-bc28-9936b15ffacc",
    "deepnote_to_be_reexecuted": false,
    "source_hash": "e7f31522",
    "execution_start": 1662726630156,
    "execution_millis": 8,
    "deepnote_cell_type": "code",
    "deepnote_cell_height": 389.20001220703125,
    "deepnote_output_heights": [
     175
    ]
   },
   "source": "xgb_df.head()",
   "execution_count": 49,
   "outputs": [
    {
     "output_type": "execute_result",
     "execution_count": 49,
     "data": {
      "application/vnd.deepnote.dataframe.v3+json": {
       "column_count": 10,
       "row_count": 5,
       "columns": [
        {
         "name": "id",
         "dtype": "int64",
         "stats": {
          "unique_count": 5,
          "nan_count": 0,
          "min": "15524",
          "max": "332802",
          "histogram": [
           {
            "bin_start": 15524,
            "bin_end": 47251.8,
            "count": 1
           },
           {
            "bin_start": 47251.8,
            "bin_end": 78979.6,
            "count": 1
           },
           {
            "bin_start": 78979.6,
            "bin_end": 110707.4,
            "count": 0
           },
           {
            "bin_start": 110707.4,
            "bin_end": 142435.2,
            "count": 0
           },
           {
            "bin_start": 142435.2,
            "bin_end": 174163,
            "count": 0
           },
           {
            "bin_start": 174163,
            "bin_end": 205890.8,
            "count": 0
           },
           {
            "bin_start": 205890.8,
            "bin_end": 237618.6,
            "count": 0
           },
           {
            "bin_start": 237618.6,
            "bin_end": 269346.4,
            "count": 0
           },
           {
            "bin_start": 269346.4,
            "bin_end": 301074.2,
            "count": 1
           },
           {
            "bin_start": 301074.2,
            "bin_end": 332802,
            "count": 2
           }
          ]
         }
        },
        {
         "name": "age",
         "dtype": "float64",
         "stats": {
          "unique_count": 5,
          "nan_count": 0,
          "min": "0.0923076923076923",
          "max": "0.5538461538461539",
          "histogram": [
           {
            "bin_start": 0.0923076923076923,
            "bin_end": 0.13846153846153847,
            "count": 2
           },
           {
            "bin_start": 0.13846153846153847,
            "bin_end": 0.18461538461538463,
            "count": 0
           },
           {
            "bin_start": 0.18461538461538463,
            "bin_end": 0.23076923076923078,
            "count": 0
           },
           {
            "bin_start": 0.23076923076923078,
            "bin_end": 0.27692307692307694,
            "count": 0
           },
           {
            "bin_start": 0.27692307692307694,
            "bin_end": 0.3230769230769231,
            "count": 0
           },
           {
            "bin_start": 0.3230769230769231,
            "bin_end": 0.36923076923076925,
            "count": 0
           },
           {
            "bin_start": 0.36923076923076925,
            "bin_end": 0.4153846153846154,
            "count": 0
           },
           {
            "bin_start": 0.4153846153846154,
            "bin_end": 0.46153846153846156,
            "count": 0
           },
           {
            "bin_start": 0.46153846153846156,
            "bin_end": 0.5076923076923077,
            "count": 1
           },
           {
            "bin_start": 0.5076923076923077,
            "bin_end": 0.5538461538461539,
            "count": 2
           }
          ]
         }
        },
        {
         "name": "region_code",
         "dtype": "float64",
         "stats": {
          "unique_count": 4,
          "nan_count": 0,
          "min": "7.0",
          "max": "41.0",
          "histogram": [
           {
            "bin_start": 7,
            "bin_end": 10.4,
            "count": 2
           },
           {
            "bin_start": 10.4,
            "bin_end": 13.8,
            "count": 0
           },
           {
            "bin_start": 13.8,
            "bin_end": 17.2,
            "count": 0
           },
           {
            "bin_start": 17.2,
            "bin_end": 20.6,
            "count": 0
           },
           {
            "bin_start": 20.6,
            "bin_end": 24,
            "count": 0
           },
           {
            "bin_start": 24,
            "bin_end": 27.4,
            "count": 0
           },
           {
            "bin_start": 27.4,
            "bin_end": 30.8,
            "count": 1
           },
           {
            "bin_start": 30.8,
            "bin_end": 34.2,
            "count": 1
           },
           {
            "bin_start": 34.2,
            "bin_end": 37.599999999999994,
            "count": 0
           },
           {
            "bin_start": 37.599999999999994,
            "bin_end": 41,
            "count": 1
           }
          ]
         }
        },
        {
         "name": "policy_sales_channel",
         "dtype": "float64",
         "stats": {
          "unique_count": 2,
          "nan_count": 0,
          "min": "26.0",
          "max": "124.0",
          "histogram": [
           {
            "bin_start": 26,
            "bin_end": 35.8,
            "count": 2
           },
           {
            "bin_start": 35.8,
            "bin_end": 45.6,
            "count": 0
           },
           {
            "bin_start": 45.6,
            "bin_end": 55.400000000000006,
            "count": 0
           },
           {
            "bin_start": 55.400000000000006,
            "bin_end": 65.2,
            "count": 0
           },
           {
            "bin_start": 65.2,
            "bin_end": 75,
            "count": 0
           },
           {
            "bin_start": 75,
            "bin_end": 84.80000000000001,
            "count": 0
           },
           {
            "bin_start": 84.80000000000001,
            "bin_end": 94.60000000000001,
            "count": 0
           },
           {
            "bin_start": 94.60000000000001,
            "bin_end": 104.4,
            "count": 0
           },
           {
            "bin_start": 104.4,
            "bin_end": 114.2,
            "count": 0
           },
           {
            "bin_start": 114.2,
            "bin_end": 124,
            "count": 3
           }
          ]
         }
        },
        {
         "name": "previously_insured",
         "dtype": "int64",
         "stats": {
          "unique_count": 1,
          "nan_count": 0,
          "min": "0",
          "max": "0",
          "histogram": [
           {
            "bin_start": -0.5,
            "bin_end": -0.4,
            "count": 0
           },
           {
            "bin_start": -0.4,
            "bin_end": -0.3,
            "count": 0
           },
           {
            "bin_start": -0.3,
            "bin_end": -0.19999999999999996,
            "count": 0
           },
           {
            "bin_start": -0.19999999999999996,
            "bin_end": -0.09999999999999998,
            "count": 0
           },
           {
            "bin_start": -0.09999999999999998,
            "bin_end": 0,
            "count": 0
           },
           {
            "bin_start": 0,
            "bin_end": 0.10000000000000009,
            "count": 5
           },
           {
            "bin_start": 0.10000000000000009,
            "bin_end": 0.20000000000000007,
            "count": 0
           },
           {
            "bin_start": 0.20000000000000007,
            "bin_end": 0.30000000000000004,
            "count": 0
           },
           {
            "bin_start": 0.30000000000000004,
            "bin_end": 0.4,
            "count": 0
           },
           {
            "bin_start": 0.4,
            "bin_end": 0.5,
            "count": 0
           }
          ]
         }
        },
        {
         "name": "vintage",
         "dtype": "float64",
         "stats": {
          "unique_count": 4,
          "nan_count": 0,
          "min": "0.0034602076124567",
          "max": "0.7024221453287197",
          "histogram": [
           {
            "bin_start": 0.0034602076124567,
            "bin_end": 0.073356401384083,
            "count": 2
           },
           {
            "bin_start": 0.073356401384083,
            "bin_end": 0.1432525951557093,
            "count": 0
           },
           {
            "bin_start": 0.1432525951557093,
            "bin_end": 0.21314878892733558,
            "count": 0
           },
           {
            "bin_start": 0.21314878892733558,
            "bin_end": 0.2830449826989619,
            "count": 0
           },
           {
            "bin_start": 0.2830449826989619,
            "bin_end": 0.3529411764705882,
            "count": 0
           },
           {
            "bin_start": 0.3529411764705882,
            "bin_end": 0.42283737024221446,
            "count": 0
           },
           {
            "bin_start": 0.42283737024221446,
            "bin_end": 0.4927335640138408,
            "count": 2
           },
           {
            "bin_start": 0.4927335640138408,
            "bin_end": 0.5626297577854671,
            "count": 0
           },
           {
            "bin_start": 0.5626297577854671,
            "bin_end": 0.6325259515570933,
            "count": 0
           },
           {
            "bin_start": 0.6325259515570933,
            "bin_end": 0.7024221453287197,
            "count": 1
           }
          ]
         }
        },
        {
         "name": "vehicle_age",
         "dtype": "int64",
         "stats": {
          "unique_count": 1,
          "nan_count": 0,
          "min": "1",
          "max": "1",
          "histogram": [
           {
            "bin_start": 0.5,
            "bin_end": 0.6,
            "count": 0
           },
           {
            "bin_start": 0.6,
            "bin_end": 0.7,
            "count": 0
           },
           {
            "bin_start": 0.7,
            "bin_end": 0.8,
            "count": 0
           },
           {
            "bin_start": 0.8,
            "bin_end": 0.9,
            "count": 0
           },
           {
            "bin_start": 0.9,
            "bin_end": 1,
            "count": 0
           },
           {
            "bin_start": 1,
            "bin_end": 1.1,
            "count": 5
           },
           {
            "bin_start": 1.1,
            "bin_end": 1.2000000000000002,
            "count": 0
           },
           {
            "bin_start": 1.2000000000000002,
            "bin_end": 1.3,
            "count": 0
           },
           {
            "bin_start": 1.3,
            "bin_end": 1.4,
            "count": 0
           },
           {
            "bin_start": 1.4,
            "bin_end": 1.5,
            "count": 0
           }
          ]
         }
        },
        {
         "name": "vehicle_damage",
         "dtype": "int64",
         "stats": {
          "unique_count": 1,
          "nan_count": 0,
          "min": "1",
          "max": "1",
          "histogram": [
           {
            "bin_start": 0.5,
            "bin_end": 0.6,
            "count": 0
           },
           {
            "bin_start": 0.6,
            "bin_end": 0.7,
            "count": 0
           },
           {
            "bin_start": 0.7,
            "bin_end": 0.8,
            "count": 0
           },
           {
            "bin_start": 0.8,
            "bin_end": 0.9,
            "count": 0
           },
           {
            "bin_start": 0.9,
            "bin_end": 1,
            "count": 0
           },
           {
            "bin_start": 1,
            "bin_end": 1.1,
            "count": 5
           },
           {
            "bin_start": 1.1,
            "bin_end": 1.2000000000000002,
            "count": 0
           },
           {
            "bin_start": 1.2000000000000002,
            "bin_end": 1.3,
            "count": 0
           },
           {
            "bin_start": 1.3,
            "bin_end": 1.4,
            "count": 0
           },
           {
            "bin_start": 1.4,
            "bin_end": 1.5,
            "count": 0
           }
          ]
         }
        },
        {
         "name": "response",
         "dtype": "int64",
         "stats": {
          "unique_count": 2,
          "nan_count": 0,
          "min": "0",
          "max": "1",
          "histogram": [
           {
            "bin_start": 0,
            "bin_end": 0.1,
            "count": 2
           },
           {
            "bin_start": 0.1,
            "bin_end": 0.2,
            "count": 0
           },
           {
            "bin_start": 0.2,
            "bin_end": 0.30000000000000004,
            "count": 0
           },
           {
            "bin_start": 0.30000000000000004,
            "bin_end": 0.4,
            "count": 0
           },
           {
            "bin_start": 0.4,
            "bin_end": 0.5,
            "count": 0
           },
           {
            "bin_start": 0.5,
            "bin_end": 0.6000000000000001,
            "count": 0
           },
           {
            "bin_start": 0.6000000000000001,
            "bin_end": 0.7000000000000001,
            "count": 0
           },
           {
            "bin_start": 0.7000000000000001,
            "bin_end": 0.8,
            "count": 0
           },
           {
            "bin_start": 0.8,
            "bin_end": 0.9,
            "count": 0
           },
           {
            "bin_start": 0.9,
            "bin_end": 1,
            "count": 3
           }
          ]
         }
        },
        {
         "name": "score_xgb",
         "dtype": "float64",
         "stats": {
          "unique_count": 5,
          "nan_count": 0,
          "min": "0.6282508969306946",
          "max": "0.6744939088821411",
          "histogram": [
           {
            "bin_start": 0.6282508969306946,
            "bin_end": 0.6328751981258393,
            "count": 1
           },
           {
            "bin_start": 0.6328751981258393,
            "bin_end": 0.6374994993209839,
            "count": 0
           },
           {
            "bin_start": 0.6374994993209839,
            "bin_end": 0.6421238005161285,
            "count": 1
           },
           {
            "bin_start": 0.6421238005161285,
            "bin_end": 0.6467481017112732,
            "count": 1
           },
           {
            "bin_start": 0.6467481017112732,
            "bin_end": 0.6513724029064178,
            "count": 0
           },
           {
            "bin_start": 0.6513724029064178,
            "bin_end": 0.6559967041015625,
            "count": 0
           },
           {
            "bin_start": 0.6559967041015625,
            "bin_end": 0.6606210052967072,
            "count": 1
           },
           {
            "bin_start": 0.6606210052967072,
            "bin_end": 0.6652453064918518,
            "count": 0
           },
           {
            "bin_start": 0.6652453064918518,
            "bin_end": 0.6698696076869964,
            "count": 0
           },
           {
            "bin_start": 0.6698696076869964,
            "bin_end": 0.6744939088821411,
            "count": 1
           }
          ]
         }
        },
        {
         "name": "_deepnote_index_column",
         "dtype": "int64"
        }
       ],
       "rows": [
        {
         "id": "324646",
         "age": "0.0923076923076923",
         "region_code": "7.0",
         "policy_sales_channel": "124.0",
         "previously_insured": "0",
         "vintage": "0.0034602076124567",
         "vehicle_age": "1",
         "vehicle_damage": "1",
         "response": "0",
         "score_xgb": "0.6744939088821411",
         "_deepnote_index_column": "324645"
        },
        {
         "id": "332802",
         "age": "0.1076923076923077",
         "region_code": "7.0",
         "policy_sales_channel": "124.0",
         "previously_insured": "0",
         "vintage": "0.0034602076124567",
         "vehicle_age": "1",
         "vehicle_damage": "1",
         "response": "1",
         "score_xgb": "0.6599578261375427",
         "_deepnote_index_column": "332801"
        },
        {
         "id": "61337",
         "age": "0.4615384615384616",
         "region_code": "28.0",
         "policy_sales_channel": "124.0",
         "previously_insured": "0",
         "vintage": "0.4394463667820069",
         "vehicle_age": "1",
         "vehicle_damage": "1",
         "response": "1",
         "score_xgb": "0.6453888416290283",
         "_deepnote_index_column": "61336"
        },
        {
         "id": "282874",
         "age": "0.5384615384615385",
         "region_code": "41.0",
         "policy_sales_channel": "26.0",
         "previously_insured": "0",
         "vintage": "0.7024221453287197",
         "vehicle_age": "1",
         "vehicle_damage": "1",
         "response": "0",
         "score_xgb": "0.6410526037216187",
         "_deepnote_index_column": "282873"
        },
        {
         "id": "15524",
         "age": "0.5538461538461539",
         "region_code": "33.0",
         "policy_sales_channel": "26.0",
         "previously_insured": "0",
         "vintage": "0.4463667820069205",
         "vehicle_age": "1",
         "vehicle_damage": "1",
         "response": "1",
         "score_xgb": "0.6282508969306946",
         "_deepnote_index_column": "15523"
        }
       ]
      },
      "text/plain": "            id       age  region_code  policy_sales_channel  \\\n324645  324646  0.092308          7.0                 124.0   \n332801  332802  0.107692          7.0                 124.0   \n61336    61337  0.461538         28.0                 124.0   \n282873  282874  0.538462         41.0                  26.0   \n15523    15524  0.553846         33.0                  26.0   \n\n        previously_insured   vintage  vehicle_age  vehicle_damage  response  \\\n324645                   0  0.003460            1               1         0   \n332801                   0  0.003460            1               1         1   \n61336                    0  0.439446            1               1         1   \n282873                   0  0.702422            1               1         0   \n15523                    0  0.446367            1               1         1   \n\n        score_xgb  \n324645   0.674494  \n332801   0.659958  \n61336    0.645389  \n282873   0.641053  \n15523    0.628251  ",
      "text/html": "<div>\n<style scoped>\n    .dataframe tbody tr th:only-of-type {\n        vertical-align: middle;\n    }\n\n    .dataframe tbody tr th {\n        vertical-align: top;\n    }\n\n    .dataframe thead th {\n        text-align: right;\n    }\n</style>\n<table border=\"1\" class=\"dataframe\">\n  <thead>\n    <tr style=\"text-align: right;\">\n      <th></th>\n      <th>id</th>\n      <th>age</th>\n      <th>region_code</th>\n      <th>policy_sales_channel</th>\n      <th>previously_insured</th>\n      <th>vintage</th>\n      <th>vehicle_age</th>\n      <th>vehicle_damage</th>\n      <th>response</th>\n      <th>score_xgb</th>\n    </tr>\n  </thead>\n  <tbody>\n    <tr>\n      <th>324645</th>\n      <td>324646</td>\n      <td>0.092308</td>\n      <td>7.0</td>\n      <td>124.0</td>\n      <td>0</td>\n      <td>0.003460</td>\n      <td>1</td>\n      <td>1</td>\n      <td>0</td>\n      <td>0.674494</td>\n    </tr>\n    <tr>\n      <th>332801</th>\n      <td>332802</td>\n      <td>0.107692</td>\n      <td>7.0</td>\n      <td>124.0</td>\n      <td>0</td>\n      <td>0.003460</td>\n      <td>1</td>\n      <td>1</td>\n      <td>1</td>\n      <td>0.659958</td>\n    </tr>\n    <tr>\n      <th>61336</th>\n      <td>61337</td>\n      <td>0.461538</td>\n      <td>28.0</td>\n      <td>124.0</td>\n      <td>0</td>\n      <td>0.439446</td>\n      <td>1</td>\n      <td>1</td>\n      <td>1</td>\n      <td>0.645389</td>\n    </tr>\n    <tr>\n      <th>282873</th>\n      <td>282874</td>\n      <td>0.538462</td>\n      <td>41.0</td>\n      <td>26.0</td>\n      <td>0</td>\n      <td>0.702422</td>\n      <td>1</td>\n      <td>1</td>\n      <td>0</td>\n      <td>0.641053</td>\n    </tr>\n    <tr>\n      <th>15523</th>\n      <td>15524</td>\n      <td>0.553846</td>\n      <td>33.0</td>\n      <td>26.0</td>\n      <td>0</td>\n      <td>0.446367</td>\n      <td>1</td>\n      <td>1</td>\n      <td>1</td>\n      <td>0.628251</td>\n    </tr>\n  </tbody>\n</table>\n</div>"
     },
     "metadata": {}
    }
   ]
  },
  {
   "cell_type": "code",
   "metadata": {
    "ExecuteTime": {
     "end_time": "2022-09-07T16:46:51.883794Z",
     "start_time": "2022-09-07T16:46:51.736691Z"
    },
    "cell_id": "00066-e78cbdff-e532-4e1a-86bb-c727b8b570fb",
    "deepnote_to_be_reexecuted": false,
    "source_hash": "bd5735b3",
    "execution_start": 1662726630168,
    "execution_millis": 90,
    "deepnote_cell_type": "code",
    "deepnote_cell_height": 75.60000610351562
   },
   "source": "xgb_performace = performace(\"XGBoost\",xgb_df,y_val,yhat_xgb_class,clients)",
   "execution_count": 50,
   "outputs": []
  },
  {
   "cell_type": "code",
   "metadata": {
    "ExecuteTime": {
     "end_time": "2022-09-07T16:46:51.905940Z",
     "start_time": "2022-09-07T16:46:51.883794Z"
    },
    "cell_id": "00067-24f9a94c-dd95-4675-9ff2-08ad9e4592de",
    "deepnote_to_be_reexecuted": false,
    "source_hash": "e518ccbf",
    "execution_start": 1662726630279,
    "execution_millis": 4,
    "deepnote_cell_type": "code",
    "deepnote_cell_height": 225.1999969482422,
    "deepnote_output_heights": [
     59
    ]
   },
   "source": "xgb_performace",
   "execution_count": 51,
   "outputs": [
    {
     "output_type": "execute_result",
     "execution_count": 51,
     "data": {
      "application/vnd.deepnote.dataframe.v3+json": {
       "column_count": 6,
       "row_count": 1,
       "columns": [
        {
         "name": "Model Name",
         "dtype": "object",
         "stats": {
          "unique_count": 1,
          "nan_count": 0,
          "categories": [
           {
            "name": "XGBoost",
            "count": 1
           }
          ]
         }
        },
        {
         "name": "Precison",
         "dtype": "float64",
         "stats": {
          "unique_count": 1,
          "nan_count": 0,
          "min": "0.4418604651162791",
          "max": "0.4418604651162791",
          "histogram": [
           {
            "bin_start": -0.05813953488372092,
            "bin_end": 0.04186046511627908,
            "count": 0
           },
           {
            "bin_start": 0.04186046511627908,
            "bin_end": 0.1418604651162791,
            "count": 0
           },
           {
            "bin_start": 0.1418604651162791,
            "bin_end": 0.24186046511627912,
            "count": 0
           },
           {
            "bin_start": 0.24186046511627912,
            "bin_end": 0.3418604651162791,
            "count": 0
           },
           {
            "bin_start": 0.3418604651162791,
            "bin_end": 0.4418604651162791,
            "count": 0
           },
           {
            "bin_start": 0.4418604651162791,
            "bin_end": 0.5418604651162792,
            "count": 1
           },
           {
            "bin_start": 0.5418604651162792,
            "bin_end": 0.6418604651162791,
            "count": 0
           },
           {
            "bin_start": 0.6418604651162791,
            "bin_end": 0.7418604651162791,
            "count": 0
           },
           {
            "bin_start": 0.7418604651162791,
            "bin_end": 0.8418604651162791,
            "count": 0
           },
           {
            "bin_start": 0.8418604651162791,
            "bin_end": 0.9418604651162791,
            "count": 0
           }
          ]
         }
        },
        {
         "name": "Recall",
         "dtype": "float64",
         "stats": {
          "unique_count": 1,
          "nan_count": 0,
          "min": "0.002711767644330265",
          "max": "0.002711767644330265",
          "histogram": [
           {
            "bin_start": -0.4972882323556697,
            "bin_end": -0.3972882323556697,
            "count": 0
           },
           {
            "bin_start": -0.3972882323556697,
            "bin_end": -0.2972882323556697,
            "count": 0
           },
           {
            "bin_start": -0.2972882323556697,
            "bin_end": -0.19728823235566967,
            "count": 0
           },
           {
            "bin_start": -0.19728823235566967,
            "bin_end": -0.09728823235566969,
            "count": 0
           },
           {
            "bin_start": -0.09728823235566969,
            "bin_end": 0.0027117676443302874,
            "count": 1
           },
           {
            "bin_start": 0.0027117676443302874,
            "bin_end": 0.10271176764433038,
            "count": 0
           },
           {
            "bin_start": 0.10271176764433038,
            "bin_end": 0.20271176764433035,
            "count": 0
           },
           {
            "bin_start": 0.20271176764433035,
            "bin_end": 0.30271176764433033,
            "count": 0
           },
           {
            "bin_start": 0.30271176764433033,
            "bin_end": 0.4027117676443303,
            "count": 0
           },
           {
            "bin_start": 0.4027117676443303,
            "bin_end": 0.5027117676443302,
            "count": 0
           }
          ]
         }
        },
        {
         "name": "k",
         "dtype": "int64",
         "stats": {
          "unique_count": 1,
          "nan_count": 0,
          "min": "2000",
          "max": "2000",
          "histogram": [
           {
            "bin_start": 1999.5,
            "bin_end": 1999.6,
            "count": 0
           },
           {
            "bin_start": 1999.6,
            "bin_end": 1999.7,
            "count": 0
           },
           {
            "bin_start": 1999.7,
            "bin_end": 1999.8,
            "count": 0
           },
           {
            "bin_start": 1999.8,
            "bin_end": 1999.9,
            "count": 0
           },
           {
            "bin_start": 1999.9,
            "bin_end": 2000,
            "count": 0
           },
           {
            "bin_start": 2000,
            "bin_end": 2000.1,
            "count": 1
           },
           {
            "bin_start": 2000.1,
            "bin_end": 2000.2,
            "count": 0
           },
           {
            "bin_start": 2000.2,
            "bin_end": 2000.3,
            "count": 0
           },
           {
            "bin_start": 2000.3,
            "bin_end": 2000.4,
            "count": 0
           },
           {
            "bin_start": 2000.4,
            "bin_end": 2000.5,
            "count": 0
           }
          ]
         }
        },
        {
         "name": "Precison at k",
         "dtype": "float64",
         "stats": {
          "unique_count": 1,
          "nan_count": 0,
          "min": "0.4577711144427786",
          "max": "0.4577711144427786",
          "histogram": [
           {
            "bin_start": -0.042228885557221374,
            "bin_end": 0.05777111444277863,
            "count": 0
           },
           {
            "bin_start": 0.05777111444277863,
            "bin_end": 0.15777111444277864,
            "count": 0
           },
           {
            "bin_start": 0.15777111444277864,
            "bin_end": 0.25777111444277867,
            "count": 0
           },
           {
            "bin_start": 0.25777111444277867,
            "bin_end": 0.35777111444277865,
            "count": 0
           },
           {
            "bin_start": 0.35777111444277865,
            "bin_end": 0.4577711144427786,
            "count": 0
           },
           {
            "bin_start": 0.4577711144427786,
            "bin_end": 0.5577711144427787,
            "count": 1
           },
           {
            "bin_start": 0.5577711144427787,
            "bin_end": 0.6577711144427787,
            "count": 0
           },
           {
            "bin_start": 0.6577711144427787,
            "bin_end": 0.7577711144427787,
            "count": 0
           },
           {
            "bin_start": 0.7577711144427787,
            "bin_end": 0.8577711144427786,
            "count": 0
           },
           {
            "bin_start": 0.8577711144427786,
            "bin_end": 0.9577711144427786,
            "count": 0
           }
          ]
         }
        },
        {
         "name": "Recall at k",
         "dtype": "float64",
         "stats": {
          "unique_count": 1,
          "nan_count": 0,
          "min": "0.06536787268964533",
          "max": "0.06536787268964533",
          "histogram": [
           {
            "bin_start": -0.43463212731035467,
            "bin_end": -0.33463212731035463,
            "count": 0
           },
           {
            "bin_start": -0.33463212731035463,
            "bin_end": -0.23463212731035465,
            "count": 0
           },
           {
            "bin_start": -0.23463212731035465,
            "bin_end": -0.13463212731035462,
            "count": 0
           },
           {
            "bin_start": -0.13463212731035462,
            "bin_end": -0.03463212731035464,
            "count": 0
           },
           {
            "bin_start": -0.03463212731035464,
            "bin_end": 0.06536787268964533,
            "count": 0
           },
           {
            "bin_start": 0.06536787268964533,
            "bin_end": 0.16536787268964542,
            "count": 1
           },
           {
            "bin_start": 0.16536787268964542,
            "bin_end": 0.2653678726896454,
            "count": 0
           },
           {
            "bin_start": 0.2653678726896454,
            "bin_end": 0.3653678726896454,
            "count": 0
           },
           {
            "bin_start": 0.3653678726896454,
            "bin_end": 0.46536787268964536,
            "count": 0
           },
           {
            "bin_start": 0.46536787268964536,
            "bin_end": 0.5653678726896454,
            "count": 0
           }
          ]
         }
        },
        {
         "name": "_deepnote_index_column",
         "dtype": "int64"
        }
       ],
       "rows": [
        {
         "Model Name": "XGBoost",
         "Precison": "0.4418604651162791",
         "Recall": "0.002711767644330265",
         "k": "2000",
         "Precison at k": "0.4577711144427786",
         "Recall at k": "0.06536787268964533",
         "_deepnote_index_column": "0"
        }
       ]
      },
      "text/plain": "  Model Name  Precison    Recall     k  Precison at k  Recall at k\n0    XGBoost   0.44186  0.002712  2000       0.457771     0.065368",
      "text/html": "<div>\n<style scoped>\n    .dataframe tbody tr th:only-of-type {\n        vertical-align: middle;\n    }\n\n    .dataframe tbody tr th {\n        vertical-align: top;\n    }\n\n    .dataframe thead th {\n        text-align: right;\n    }\n</style>\n<table border=\"1\" class=\"dataframe\">\n  <thead>\n    <tr style=\"text-align: right;\">\n      <th></th>\n      <th>Model Name</th>\n      <th>Precison</th>\n      <th>Recall</th>\n      <th>k</th>\n      <th>Precison at k</th>\n      <th>Recall at k</th>\n    </tr>\n  </thead>\n  <tbody>\n    <tr>\n      <th>0</th>\n      <td>XGBoost</td>\n      <td>0.44186</td>\n      <td>0.002712</td>\n      <td>2000</td>\n      <td>0.457771</td>\n      <td>0.065368</td>\n    </tr>\n  </tbody>\n</table>\n</div>"
     },
     "metadata": {}
    }
   ]
  },
  {
   "cell_type": "markdown",
   "source": "# Model comparrison",
   "metadata": {
    "cell_id": "00068-43a40468-d766-4a92-9077-be35e724189d",
    "deepnote_cell_type": "markdown",
    "deepnote_cell_height": 81.60000610351562
   }
  },
  {
   "cell_type": "code",
   "metadata": {
    "ExecuteTime": {
     "end_time": "2022-09-07T16:46:51.921553Z",
     "start_time": "2022-09-07T16:46:51.905940Z"
    },
    "cell_id": "00069-17f50f37-4610-4017-a3b1-188d76530cf0",
    "deepnote_to_be_reexecuted": false,
    "source_hash": "128bf144",
    "execution_start": 1662726630339,
    "execution_millis": 0,
    "deepnote_cell_type": "code",
    "deepnote_cell_height": 75.60000610351562
   },
   "source": "model_comp = pd.concat([knn_performace,lm_performace,rf_performace,et_performace,xgb_performace])",
   "execution_count": 52,
   "outputs": []
  },
  {
   "cell_type": "code",
   "metadata": {
    "ExecuteTime": {
     "end_time": "2022-09-07T16:46:51.952796Z",
     "start_time": "2022-09-07T16:46:51.921553Z"
    },
    "cell_id": "00070-1eb35801-a6aa-4d87-abe0-e32a85d585f6",
    "deepnote_to_be_reexecuted": false,
    "source_hash": "c8530f44",
    "execution_start": 1662726630339,
    "execution_millis": 3,
    "deepnote_cell_type": "code",
    "deepnote_cell_height": 389.20001220703125,
    "deepnote_output_heights": [
     175
    ]
   },
   "source": "model_comp.sort_values('Precison at k',ascending=False)",
   "execution_count": 53,
   "outputs": [
    {
     "output_type": "execute_result",
     "execution_count": 53,
     "data": {
      "application/vnd.deepnote.dataframe.v3+json": {
       "column_count": 6,
       "row_count": 5,
       "columns": [
        {
         "name": "Model Name",
         "dtype": "object",
         "stats": {
          "unique_count": 5,
          "nan_count": 0,
          "categories": [
           {
            "name": "XGBoost",
            "count": 1
           },
           {
            "name": "linear model",
            "count": 1
           },
           {
            "name": "3 others",
            "count": 3
           }
          ]
         }
        },
        {
         "name": "Precison",
         "dtype": "float64",
         "stats": {
          "unique_count": 5,
          "nan_count": 0,
          "min": "0.3164781548015081",
          "max": "0.4576271186440678",
          "histogram": [
           {
            "bin_start": 0.3164781548015081,
            "bin_end": 0.33059305118576404,
            "count": 2
           },
           {
            "bin_start": 0.33059305118576404,
            "bin_end": 0.34470794757002005,
            "count": 1
           },
           {
            "bin_start": 0.34470794757002005,
            "bin_end": 0.358822843954276,
            "count": 0
           },
           {
            "bin_start": 0.358822843954276,
            "bin_end": 0.372937740338532,
            "count": 0
           },
           {
            "bin_start": 0.372937740338532,
            "bin_end": 0.38705263672278795,
            "count": 0
           },
           {
            "bin_start": 0.38705263672278795,
            "bin_end": 0.4011675331070439,
            "count": 0
           },
           {
            "bin_start": 0.4011675331070439,
            "bin_end": 0.4152824294912999,
            "count": 0
           },
           {
            "bin_start": 0.4152824294912999,
            "bin_end": 0.42939732587555585,
            "count": 0
           },
           {
            "bin_start": 0.42939732587555585,
            "bin_end": 0.4435122222598118,
            "count": 1
           },
           {
            "bin_start": 0.4435122222598118,
            "bin_end": 0.4576271186440678,
            "count": 1
           }
          ]
         }
        },
        {
         "name": "Recall",
         "dtype": "float64",
         "stats": {
          "unique_count": 5,
          "nan_count": 0,
          "min": "0.0019267822736030828",
          "max": "0.20844929708128165",
          "histogram": [
           {
            "bin_start": 0.0019267822736030828,
            "bin_end": 0.022579033754370943,
            "count": 2
           },
           {
            "bin_start": 0.022579033754370943,
            "bin_end": 0.0432312852351388,
            "count": 0
           },
           {
            "bin_start": 0.0432312852351388,
            "bin_end": 0.06388353671590666,
            "count": 0
           },
           {
            "bin_start": 0.06388353671590666,
            "bin_end": 0.08453578819667452,
            "count": 0
           },
           {
            "bin_start": 0.08453578819667452,
            "bin_end": 0.10518803967744238,
            "count": 0
           },
           {
            "bin_start": 0.10518803967744238,
            "bin_end": 0.12584029115821024,
            "count": 0
           },
           {
            "bin_start": 0.12584029115821024,
            "bin_end": 0.1464925426389781,
            "count": 0
           },
           {
            "bin_start": 0.1464925426389781,
            "bin_end": 0.16714479411974595,
            "count": 0
           },
           {
            "bin_start": 0.16714479411974595,
            "bin_end": 0.1877970456005138,
            "count": 1
           },
           {
            "bin_start": 0.1877970456005138,
            "bin_end": 0.20844929708128165,
            "count": 2
           }
          ]
         }
        },
        {
         "name": "k",
         "dtype": "int64",
         "stats": {
          "unique_count": 1,
          "nan_count": 0,
          "min": "2000",
          "max": "2000",
          "histogram": [
           {
            "bin_start": 1999.5,
            "bin_end": 1999.6,
            "count": 0
           },
           {
            "bin_start": 1999.6,
            "bin_end": 1999.7,
            "count": 0
           },
           {
            "bin_start": 1999.7,
            "bin_end": 1999.8,
            "count": 0
           },
           {
            "bin_start": 1999.8,
            "bin_end": 1999.9,
            "count": 0
           },
           {
            "bin_start": 1999.9,
            "bin_end": 2000,
            "count": 0
           },
           {
            "bin_start": 2000,
            "bin_end": 2000.1,
            "count": 5
           },
           {
            "bin_start": 2000.1,
            "bin_end": 2000.2,
            "count": 0
           },
           {
            "bin_start": 2000.2,
            "bin_end": 2000.3,
            "count": 0
           },
           {
            "bin_start": 2000.3,
            "bin_end": 2000.4,
            "count": 0
           },
           {
            "bin_start": 2000.4,
            "bin_end": 2000.5,
            "count": 0
           }
          ]
         }
        },
        {
         "name": "Precison at k",
         "dtype": "float64",
         "stats": {
          "unique_count": 5,
          "nan_count": 0,
          "min": "0.3168415792103948",
          "max": "0.4577711144427786",
          "histogram": [
           {
            "bin_start": 0.3168415792103948,
            "bin_end": 0.33093453273363316,
            "count": 1
           },
           {
            "bin_start": 0.33093453273363316,
            "bin_end": 0.3450274862568716,
            "count": 0
           },
           {
            "bin_start": 0.3450274862568716,
            "bin_end": 0.35912043978010993,
            "count": 1
           },
           {
            "bin_start": 0.35912043978010993,
            "bin_end": 0.37321339330334835,
            "count": 1
           },
           {
            "bin_start": 0.37321339330334835,
            "bin_end": 0.3873063468265867,
            "count": 0
           },
           {
            "bin_start": 0.3873063468265867,
            "bin_end": 0.40139930034982507,
            "count": 0
           },
           {
            "bin_start": 0.40139930034982507,
            "bin_end": 0.4154922538730635,
            "count": 1
           },
           {
            "bin_start": 0.4154922538730635,
            "bin_end": 0.42958520739630185,
            "count": 0
           },
           {
            "bin_start": 0.42958520739630185,
            "bin_end": 0.44367816091954027,
            "count": 0
           },
           {
            "bin_start": 0.44367816091954027,
            "bin_end": 0.4577711144427786,
            "count": 1
           }
          ]
         }
        },
        {
         "name": "Recall at k",
         "dtype": "float64",
         "stats": {
          "unique_count": 5,
          "nan_count": 0,
          "min": "0.045243702276457576",
          "max": "0.06536787268964533",
          "histogram": [
           {
            "bin_start": 0.045243702276457576,
            "bin_end": 0.04725611931777635,
            "count": 1
           },
           {
            "bin_start": 0.04725611931777635,
            "bin_end": 0.04926853635909513,
            "count": 0
           },
           {
            "bin_start": 0.04926853635909513,
            "bin_end": 0.0512809534004139,
            "count": 1
           },
           {
            "bin_start": 0.0512809534004139,
            "bin_end": 0.05329337044173268,
            "count": 1
           },
           {
            "bin_start": 0.05329337044173268,
            "bin_end": 0.055305787483051455,
            "count": 0
           },
           {
            "bin_start": 0.055305787483051455,
            "bin_end": 0.05731820452437023,
            "count": 0
           },
           {
            "bin_start": 0.05731820452437023,
            "bin_end": 0.05933062156568901,
            "count": 1
           },
           {
            "bin_start": 0.05933062156568901,
            "bin_end": 0.06134303860700778,
            "count": 0
           },
           {
            "bin_start": 0.06134303860700778,
            "bin_end": 0.06335545564832656,
            "count": 0
           },
           {
            "bin_start": 0.06335545564832656,
            "bin_end": 0.06536787268964533,
            "count": 1
           }
          ]
         }
        },
        {
         "name": "_deepnote_index_column",
         "dtype": "int64"
        }
       ],
       "rows": [
        {
         "Model Name": "XGBoost",
         "Precison": "0.4418604651162791",
         "Recall": "0.002711767644330265",
         "k": "2000",
         "Precison at k": "0.4577711144427786",
         "Recall at k": "0.06536787268964533",
         "_deepnote_index_column": "0"
        },
        {
         "Model Name": "linear model",
         "Precison": "0.4576271186440678",
         "Recall": "0.0019267822736030828",
         "k": "2000",
         "Precison at k": "0.4047976011994003",
         "Recall at k": "0.057803468208092484",
         "_deepnote_index_column": "0"
        },
        {
         "Model Name": "Random forest",
         "Precison": "0.32651464341605185",
         "Recall": "0.20844929708128165",
         "k": "2000",
         "Precison at k": "0.3683158420789605",
         "Recall at k": "0.05259401983872119",
         "_deepnote_index_column": "0"
        },
        {
         "Model Name": "KNN",
         "Precison": "0.3390610201596536",
         "Recall": "0.17883393991293797",
         "k": "2000",
         "Precison at k": "0.3568215892053973",
         "Recall at k": "0.05095268679083708",
         "_deepnote_index_column": "0"
        },
        {
         "Model Name": "Extra trees",
         "Precison": "0.3164781548015081",
         "Recall": "0.20366802255048883",
         "k": "2000",
         "Precison at k": "0.3168415792103948",
         "Recall at k": "0.045243702276457576",
         "_deepnote_index_column": "0"
        }
       ]
      },
      "text/plain": "      Model Name  Precison    Recall     k  Precison at k  Recall at k\n0        XGBoost  0.441860  0.002712  2000       0.457771     0.065368\n0   linear model  0.457627  0.001927  2000       0.404798     0.057803\n0  Random forest  0.326515  0.208449  2000       0.368316     0.052594\n0            KNN  0.339061  0.178834  2000       0.356822     0.050953\n0    Extra trees  0.316478  0.203668  2000       0.316842     0.045244",
      "text/html": "<div>\n<style scoped>\n    .dataframe tbody tr th:only-of-type {\n        vertical-align: middle;\n    }\n\n    .dataframe tbody tr th {\n        vertical-align: top;\n    }\n\n    .dataframe thead th {\n        text-align: right;\n    }\n</style>\n<table border=\"1\" class=\"dataframe\">\n  <thead>\n    <tr style=\"text-align: right;\">\n      <th></th>\n      <th>Model Name</th>\n      <th>Precison</th>\n      <th>Recall</th>\n      <th>k</th>\n      <th>Precison at k</th>\n      <th>Recall at k</th>\n    </tr>\n  </thead>\n  <tbody>\n    <tr>\n      <th>0</th>\n      <td>XGBoost</td>\n      <td>0.441860</td>\n      <td>0.002712</td>\n      <td>2000</td>\n      <td>0.457771</td>\n      <td>0.065368</td>\n    </tr>\n    <tr>\n      <th>0</th>\n      <td>linear model</td>\n      <td>0.457627</td>\n      <td>0.001927</td>\n      <td>2000</td>\n      <td>0.404798</td>\n      <td>0.057803</td>\n    </tr>\n    <tr>\n      <th>0</th>\n      <td>Random forest</td>\n      <td>0.326515</td>\n      <td>0.208449</td>\n      <td>2000</td>\n      <td>0.368316</td>\n      <td>0.052594</td>\n    </tr>\n    <tr>\n      <th>0</th>\n      <td>KNN</td>\n      <td>0.339061</td>\n      <td>0.178834</td>\n      <td>2000</td>\n      <td>0.356822</td>\n      <td>0.050953</td>\n    </tr>\n    <tr>\n      <th>0</th>\n      <td>Extra trees</td>\n      <td>0.316478</td>\n      <td>0.203668</td>\n      <td>2000</td>\n      <td>0.316842</td>\n      <td>0.045244</td>\n    </tr>\n  </tbody>\n</table>\n</div>"
     },
     "metadata": {}
    }
   ]
  },
  {
   "cell_type": "code",
   "metadata": {
    "cell_id": "10b9716afb0e43ec902cd65d98598193",
    "tags": [],
    "deepnote_to_be_reexecuted": false,
    "source_hash": "b623e53d",
    "execution_start": 1662726630344,
    "execution_millis": 2,
    "deepnote_cell_type": "code",
    "deepnote_cell_height": 75.60000610351562
   },
   "source": "",
   "execution_count": 53,
   "outputs": []
  },
  {
   "cell_type": "markdown",
   "source": "# Croos validation",
   "metadata": {
    "cell_id": "7729b9592a0040b9b48b9c4bf63ea40e",
    "tags": [],
    "deepnote_cell_type": "markdown",
    "deepnote_cell_height": 81.60000610351562
   }
  },
  {
   "cell_type": "code",
   "source": "models = {\n    'KNN': knn_model,\n    'Linear model': lm_model,\n    'Random forrest': rf_model,\n    'Extra trees': et_model,\n    'XGBoost':xgb_model\n}",
   "metadata": {
    "cell_id": "10b61a404d604ec29e3e9c0b82be0527",
    "tags": [],
    "deepnote_to_be_reexecuted": false,
    "source_hash": "8d835ae8",
    "execution_start": 1662727098006,
    "execution_millis": 1,
    "deepnote_cell_type": "code",
    "deepnote_cell_height": 183.60000610351562
   },
   "outputs": [],
   "execution_count": 62
  },
  {
   "cell_type": "code",
   "source": "models_comparison = pd.DataFrame()",
   "metadata": {
    "cell_id": "b4dd383fbea74b0d99c0c71dd7b9727c",
    "tags": [],
    "deepnote_to_be_reexecuted": false,
    "source_hash": "3f39f1c8",
    "execution_start": 1662727189519,
    "execution_millis": 0,
    "deepnote_cell_type": "code",
    "deepnote_cell_height": 75.60000610351562
   },
   "outputs": [],
   "execution_count": 67
  },
  {
   "cell_type": "code",
   "source": "for c, v in models.items():\n    aux = performace_cross_val(df6,'response',v,c)\n    models_comparison = pd.concat([models_comparison,aux])",
   "metadata": {
    "cell_id": "77188b1acc204fefaa0cb2826b9b1cfe",
    "tags": [],
    "deepnote_to_be_reexecuted": false,
    "source_hash": "10e4c46f",
    "execution_start": 1662727442095,
    "execution_millis": 987092,
    "deepnote_cell_type": "code",
    "deepnote_cell_height": 731.4000244140625
   },
   "outputs": [
    {
     "name": "stderr",
     "text": "/shared-libs/python3.9/py/lib/python3.9/site-packages/sklearn/neighbors/_classification.py:237: FutureWarning: Unlike other reduction functions (e.g. `skew`, `kurtosis`), the default behavior of `mode` typically preserves the axis it acts along. In SciPy 1.11.0, this behavior will change: the default value of `keepdims` will become False, the `axis` over which the statistic is taken will be eliminated, and the value None will no longer be accepted. Set `keepdims` to True or False to avoid this warning.\n  mode, _ = stats.mode(_y[neigh_ind, k], axis=1)\n/tmp/ipykernel_434/4150168656.py:31: SettingWithCopyWarning: \nA value is trying to be set on a copy of a slice from a DataFrame.\nTry using .loc[row_indexer,col_indexer] = value instead\n\nSee the caveats in the documentation: https://pandas.pydata.org/pandas-docs/stable/user_guide/indexing.html#returning-a-view-versus-a-copy\n  aux[target] = y[test_index]\n/tmp/ipykernel_434/4150168656.py:32: SettingWithCopyWarning: \nA value is trying to be set on a copy of a slice from a DataFrame.\nTry using .loc[row_indexer,col_indexer] = value instead\n\nSee the caveats in the documentation: https://pandas.pydata.org/pandas-docs/stable/user_guide/indexing.html#returning-a-view-versus-a-copy\n  aux['score'] = yhat_proba[:,1].tolist()\n/shared-libs/python3.9/py/lib/python3.9/site-packages/sklearn/neighbors/_classification.py:237: FutureWarning: Unlike other reduction functions (e.g. `skew`, `kurtosis`), the default behavior of `mode` typically preserves the axis it acts along. In SciPy 1.11.0, this behavior will change: the default value of `keepdims` will become False, the `axis` over which the statistic is taken will be eliminated, and the value None will no longer be accepted. Set `keepdims` to True or False to avoid this warning.\n  mode, _ = stats.mode(_y[neigh_ind, k], axis=1)\n/tmp/ipykernel_434/4150168656.py:31: SettingWithCopyWarning: \nA value is trying to be set on a copy of a slice from a DataFrame.\nTry using .loc[row_indexer,col_indexer] = value instead\n\nSee the caveats in the documentation: https://pandas.pydata.org/pandas-docs/stable/user_guide/indexing.html#returning-a-view-versus-a-copy\n  aux[target] = y[test_index]\n/tmp/ipykernel_434/4150168656.py:32: SettingWithCopyWarning: \nA value is trying to be set on a copy of a slice from a DataFrame.\nTry using .loc[row_indexer,col_indexer] = value instead\n\nSee the caveats in the documentation: https://pandas.pydata.org/pandas-docs/stable/user_guide/indexing.html#returning-a-view-versus-a-copy\n  aux['score'] = yhat_proba[:,1].tolist()\n/shared-libs/python3.9/py/lib/python3.9/site-packages/sklearn/neighbors/_classification.py:237: FutureWarning: Unlike other reduction functions (e.g. `skew`, `kurtosis`), the default behavior of `mode` typically preserves the axis it acts along. In SciPy 1.11.0, this behavior will change: the default value of `keepdims` will become False, the `axis` over which the statistic is taken will be eliminated, and the value None will no longer be accepted. Set `keepdims` to True or False to avoid this warning.\n  mode, _ = stats.mode(_y[neigh_ind, k], axis=1)\n/tmp/ipykernel_434/4150168656.py:31: SettingWithCopyWarning: \nA value is trying to be set on a copy of a slice from a DataFrame.\nTry using .loc[row_indexer,col_indexer] = value instead\n\nSee the caveats in the documentation: https://pandas.pydata.org/pandas-docs/stable/user_guide/indexing.html#returning-a-view-versus-a-copy\n  aux[target] = y[test_index]\n/tmp/ipykernel_434/4150168656.py:32: SettingWithCopyWarning: \nA value is trying to be set on a copy of a slice from a DataFrame.\nTry using .loc[row_indexer,col_indexer] = value instead\n\nSee the caveats in the documentation: https://pandas.pydata.org/pandas-docs/stable/user_guide/indexing.html#returning-a-view-versus-a-copy\n  aux['score'] = yhat_proba[:,1].tolist()\n/shared-libs/python3.9/py/lib/python3.9/site-packages/sklearn/neighbors/_classification.py:237: FutureWarning: Unlike other reduction functions (e.g. `skew`, `kurtosis`), the default behavior of `mode` typically preserves the axis it acts along. In SciPy 1.11.0, this behavior will change: the default value of `keepdims` will become False, the `axis` over which the statistic is taken will be eliminated, and the value None will no longer be accepted. Set `keepdims` to True or False to avoid this warning.\n  mode, _ = stats.mode(_y[neigh_ind, k], axis=1)\n/tmp/ipykernel_434/4150168656.py:31: SettingWithCopyWarning: \nA value is trying to be set on a copy of a slice from a DataFrame.\nTry using .loc[row_indexer,col_indexer] = value instead\n\nSee the caveats in the documentation: https://pandas.pydata.org/pandas-docs/stable/user_guide/indexing.html#returning-a-view-versus-a-copy\n  aux[target] = y[test_index]\n/tmp/ipykernel_434/4150168656.py:32: SettingWithCopyWarning: \nA value is trying to be set on a copy of a slice from a DataFrame.\nTry using .loc[row_indexer,col_indexer] = value instead\n\nSee the caveats in the documentation: https://pandas.pydata.org/pandas-docs/stable/user_guide/indexing.html#returning-a-view-versus-a-copy\n  aux['score'] = yhat_proba[:,1].tolist()\n/shared-libs/python3.9/py/lib/python3.9/site-packages/sklearn/linear_model/_logistic.py:444: ConvergenceWarning: lbfgs failed to converge (status=1):\nSTOP: TOTAL NO. of ITERATIONS REACHED LIMIT.\n\nIncrease the number of iterations (max_iter) or scale the data as shown in:\n    https://scikit-learn.org/stable/modules/preprocessing.html\nPlease also refer to the documentation for alternative solver options:\n    https://scikit-learn.org/stable/modules/linear_model.html#logistic-regression\n  n_iter_i = _check_optimize_result(\n/tmp/ipykernel_434/4150168656.py:31: SettingWithCopyWarning: \nA value is trying to be set on a copy of a slice from a DataFrame.\nTry using .loc[row_indexer,col_indexer] = value instead\n\nSee the caveats in the documentation: https://pandas.pydata.org/pandas-docs/stable/user_guide/indexing.html#returning-a-view-versus-a-copy\n  aux[target] = y[test_index]\n/tmp/ipykernel_434/4150168656.py:32: SettingWithCopyWarning: \nA value is trying to be set on a copy of a slice from a DataFrame.\nTry using .loc[row_indexer,col_indexer] = value instead\n\nSee the caveats in the documentation: https://pandas.pydata.org/pandas-docs/stable/user_guide/indexing.html#returning-a-view-versus-a-copy\n  aux['score'] = yhat_proba[:,1].tolist()\n/shared-libs/python3.9/py/lib/python3.9/site-packages/sklearn/linear_model/_logistic.py:444: ConvergenceWarning: lbfgs failed to converge (status=1):\nSTOP: TOTAL NO. of ITERATIONS REACHED LIMIT.\n\nIncrease the number of iterations (max_iter) or scale the data as shown in:\n    https://scikit-learn.org/stable/modules/preprocessing.html\nPlease also refer to the documentation for alternative solver options:\n    https://scikit-learn.org/stable/modules/linear_model.html#logistic-regression\n  n_iter_i = _check_optimize_result(\n/tmp/ipykernel_434/4150168656.py:31: SettingWithCopyWarning: \nA value is trying to be set on a copy of a slice from a DataFrame.\nTry using .loc[row_indexer,col_indexer] = value instead\n\nSee the caveats in the documentation: https://pandas.pydata.org/pandas-docs/stable/user_guide/indexing.html#returning-a-view-versus-a-copy\n  aux[target] = y[test_index]\n/tmp/ipykernel_434/4150168656.py:32: SettingWithCopyWarning: \nA value is trying to be set on a copy of a slice from a DataFrame.\nTry using .loc[row_indexer,col_indexer] = value instead\n\nSee the caveats in the documentation: https://pandas.pydata.org/pandas-docs/stable/user_guide/indexing.html#returning-a-view-versus-a-copy\n  aux['score'] = yhat_proba[:,1].tolist()\n/shared-libs/python3.9/py/lib/python3.9/site-packages/sklearn/linear_model/_logistic.py:444: ConvergenceWarning: lbfgs failed to converge (status=1):\nSTOP: TOTAL NO. of ITERATIONS REACHED LIMIT.\n\nIncrease the number of iterations (max_iter) or scale the data as shown in:\n    https://scikit-learn.org/stable/modules/preprocessing.html\nPlease also refer to the documentation for alternative solver options:\n    https://scikit-learn.org/stable/modules/linear_model.html#logistic-regression\n  n_iter_i = _check_optimize_result(\n/tmp/ipykernel_434/4150168656.py:31: SettingWithCopyWarning: \nA value is trying to be set on a copy of a slice from a DataFrame.\nTry using .loc[row_indexer,col_indexer] = value instead\n\nSee the caveats in the documentation: https://pandas.pydata.org/pandas-docs/stable/user_guide/indexing.html#returning-a-view-versus-a-copy\n  aux[target] = y[test_index]\n/tmp/ipykernel_434/4150168656.py:32: SettingWithCopyWarning: \nA value is trying to be set on a copy of a slice from a DataFrame.\nTry using .loc[row_indexer,col_indexer] = value instead\n\nSee the caveats in the documentation: https://pandas.pydata.org/pandas-docs/stable/user_guide/indexing.html#returning-a-view-versus-a-copy\n  aux['score'] = yhat_proba[:,1].tolist()\n/shared-libs/python3.9/py/lib/python3.9/site-packages/sklearn/linear_model/_logistic.py:444: ConvergenceWarning: lbfgs failed to converge (status=1):\nSTOP: TOTAL NO. of ITERATIONS REACHED LIMIT.\n\nIncrease the number of iterations (max_iter) or scale the data as shown in:\n    https://scikit-learn.org/stable/modules/preprocessing.html\nPlease also refer to the documentation for alternative solver options:\n    https://scikit-learn.org/stable/modules/linear_model.html#logistic-regression\n  n_iter_i = _check_optimize_result(\n/tmp/ipykernel_434/4150168656.py:31: SettingWithCopyWarning: \nA value is trying to be set on a copy of a slice from a DataFrame.\nTry using .loc[row_indexer,col_indexer] = value instead\n\nSee the caveats in the documentation: https://pandas.pydata.org/pandas-docs/stable/user_guide/indexing.html#returning-a-view-versus-a-copy\n  aux[target] = y[test_index]\n/tmp/ipykernel_434/4150168656.py:32: SettingWithCopyWarning: \nA value is trying to be set on a copy of a slice from a DataFrame.\nTry using .loc[row_indexer,col_indexer] = value instead\n\nSee the caveats in the documentation: https://pandas.pydata.org/pandas-docs/stable/user_guide/indexing.html#returning-a-view-versus-a-copy\n  aux['score'] = yhat_proba[:,1].tolist()\n/tmp/ipykernel_434/4150168656.py:31: SettingWithCopyWarning: \nA value is trying to be set on a copy of a slice from a DataFrame.\nTry using .loc[row_indexer,col_indexer] = value instead\n\nSee the caveats in the documentation: https://pandas.pydata.org/pandas-docs/stable/user_guide/indexing.html#returning-a-view-versus-a-copy\n  aux[target] = y[test_index]\n/tmp/ipykernel_434/4150168656.py:32: SettingWithCopyWarning: \nA value is trying to be set on a copy of a slice from a DataFrame.\nTry using .loc[row_indexer,col_indexer] = value instead\n\nSee the caveats in the documentation: https://pandas.pydata.org/pandas-docs/stable/user_guide/indexing.html#returning-a-view-versus-a-copy\n  aux['score'] = yhat_proba[:,1].tolist()\n/tmp/ipykernel_434/4150168656.py:31: SettingWithCopyWarning: \nA value is trying to be set on a copy of a slice from a DataFrame.\nTry using .loc[row_indexer,col_indexer] = value instead\n\nSee the caveats in the documentation: https://pandas.pydata.org/pandas-docs/stable/user_guide/indexing.html#returning-a-view-versus-a-copy\n  aux[target] = y[test_index]\n/tmp/ipykernel_434/4150168656.py:32: SettingWithCopyWarning: \nA value is trying to be set on a copy of a slice from a DataFrame.\nTry using .loc[row_indexer,col_indexer] = value instead\n\nSee the caveats in the documentation: https://pandas.pydata.org/pandas-docs/stable/user_guide/indexing.html#returning-a-view-versus-a-copy\n  aux['score'] = yhat_proba[:,1].tolist()\n/tmp/ipykernel_434/4150168656.py:31: SettingWithCopyWarning: \nA value is trying to be set on a copy of a slice from a DataFrame.\nTry using .loc[row_indexer,col_indexer] = value instead\n\nSee the caveats in the documentation: https://pandas.pydata.org/pandas-docs/stable/user_guide/indexing.html#returning-a-view-versus-a-copy\n  aux[target] = y[test_index]\n/tmp/ipykernel_434/4150168656.py:32: SettingWithCopyWarning: \nA value is trying to be set on a copy of a slice from a DataFrame.\nTry using .loc[row_indexer,col_indexer] = value instead\n\nSee the caveats in the documentation: https://pandas.pydata.org/pandas-docs/stable/user_guide/indexing.html#returning-a-view-versus-a-copy\n  aux['score'] = yhat_proba[:,1].tolist()\n/tmp/ipykernel_434/4150168656.py:31: SettingWithCopyWarning: \nA value is trying to be set on a copy of a slice from a DataFrame.\nTry using .loc[row_indexer,col_indexer] = value instead\n\nSee the caveats in the documentation: https://pandas.pydata.org/pandas-docs/stable/user_guide/indexing.html#returning-a-view-versus-a-copy\n  aux[target] = y[test_index]\n/tmp/ipykernel_434/4150168656.py:32: SettingWithCopyWarning: \nA value is trying to be set on a copy of a slice from a DataFrame.\nTry using .loc[row_indexer,col_indexer] = value instead\n\nSee the caveats in the documentation: https://pandas.pydata.org/pandas-docs/stable/user_guide/indexing.html#returning-a-view-versus-a-copy\n  aux['score'] = yhat_proba[:,1].tolist()\n/tmp/ipykernel_434/4150168656.py:31: SettingWithCopyWarning: \nA value is trying to be set on a copy of a slice from a DataFrame.\nTry using .loc[row_indexer,col_indexer] = value instead\n\nSee the caveats in the documentation: https://pandas.pydata.org/pandas-docs/stable/user_guide/indexing.html#returning-a-view-versus-a-copy\n  aux[target] = y[test_index]\n/tmp/ipykernel_434/4150168656.py:32: SettingWithCopyWarning: \nA value is trying to be set on a copy of a slice from a DataFrame.\nTry using .loc[row_indexer,col_indexer] = value instead\n\nSee the caveats in the documentation: https://pandas.pydata.org/pandas-docs/stable/user_guide/indexing.html#returning-a-view-versus-a-copy\n  aux['score'] = yhat_proba[:,1].tolist()\n/tmp/ipykernel_434/4150168656.py:31: SettingWithCopyWarning: \nA value is trying to be set on a copy of a slice from a DataFrame.\nTry using .loc[row_indexer,col_indexer] = value instead\n\nSee the caveats in the documentation: https://pandas.pydata.org/pandas-docs/stable/user_guide/indexing.html#returning-a-view-versus-a-copy\n  aux[target] = y[test_index]\n/tmp/ipykernel_434/4150168656.py:32: SettingWithCopyWarning: \nA value is trying to be set on a copy of a slice from a DataFrame.\nTry using .loc[row_indexer,col_indexer] = value instead\n\nSee the caveats in the documentation: https://pandas.pydata.org/pandas-docs/stable/user_guide/indexing.html#returning-a-view-versus-a-copy\n  aux['score'] = yhat_proba[:,1].tolist()\n/tmp/ipykernel_434/4150168656.py:31: SettingWithCopyWarning: \nA value is trying to be set on a copy of a slice from a DataFrame.\nTry using .loc[row_indexer,col_indexer] = value instead\n\nSee the caveats in the documentation: https://pandas.pydata.org/pandas-docs/stable/user_guide/indexing.html#returning-a-view-versus-a-copy\n  aux[target] = y[test_index]\n/tmp/ipykernel_434/4150168656.py:32: SettingWithCopyWarning: \nA value is trying to be set on a copy of a slice from a DataFrame.\nTry using .loc[row_indexer,col_indexer] = value instead\n\nSee the caveats in the documentation: https://pandas.pydata.org/pandas-docs/stable/user_guide/indexing.html#returning-a-view-versus-a-copy\n  aux['score'] = yhat_proba[:,1].tolist()\n/tmp/ipykernel_434/4150168656.py:31: SettingWithCopyWarning: \nA value is trying to be set on a copy of a slice from a DataFrame.\nTry using .loc[row_indexer,col_indexer] = value instead\n\nSee the caveats in the documentation: https://pandas.pydata.org/pandas-docs/stable/user_guide/indexing.html#returning-a-view-versus-a-copy\n  aux[target] = y[test_index]\n/tmp/ipykernel_434/4150168656.py:32: SettingWithCopyWarning: \nA value is trying to be set on a copy of a slice from a DataFrame.\nTry using .loc[row_indexer,col_indexer] = value instead\n\nSee the caveats in the documentation: https://pandas.pydata.org/pandas-docs/stable/user_guide/indexing.html#returning-a-view-versus-a-copy\n  aux['score'] = yhat_proba[:,1].tolist()\n/tmp/ipykernel_434/4150168656.py:31: SettingWithCopyWarning: \nA value is trying to be set on a copy of a slice from a DataFrame.\nTry using .loc[row_indexer,col_indexer] = value instead\n\nSee the caveats in the documentation: https://pandas.pydata.org/pandas-docs/stable/user_guide/indexing.html#returning-a-view-versus-a-copy\n  aux[target] = y[test_index]\n/tmp/ipykernel_434/4150168656.py:32: SettingWithCopyWarning: \nA value is trying to be set on a copy of a slice from a DataFrame.\nTry using .loc[row_indexer,col_indexer] = value instead\n\nSee the caveats in the documentation: https://pandas.pydata.org/pandas-docs/stable/user_guide/indexing.html#returning-a-view-versus-a-copy\n  aux['score'] = yhat_proba[:,1].tolist()\n/tmp/ipykernel_434/4150168656.py:31: SettingWithCopyWarning: \nA value is trying to be set on a copy of a slice from a DataFrame.\nTry using .loc[row_indexer,col_indexer] = value instead\n\nSee the caveats in the documentation: https://pandas.pydata.org/pandas-docs/stable/user_guide/indexing.html#returning-a-view-versus-a-copy\n  aux[target] = y[test_index]\n/tmp/ipykernel_434/4150168656.py:32: SettingWithCopyWarning: \nA value is trying to be set on a copy of a slice from a DataFrame.\nTry using .loc[row_indexer,col_indexer] = value instead\n\nSee the caveats in the documentation: https://pandas.pydata.org/pandas-docs/stable/user_guide/indexing.html#returning-a-view-versus-a-copy\n  aux['score'] = yhat_proba[:,1].tolist()\n/tmp/ipykernel_434/4150168656.py:31: SettingWithCopyWarning: \nA value is trying to be set on a copy of a slice from a DataFrame.\nTry using .loc[row_indexer,col_indexer] = value instead\n\nSee the caveats in the documentation: https://pandas.pydata.org/pandas-docs/stable/user_guide/indexing.html#returning-a-view-versus-a-copy\n  aux[target] = y[test_index]\n/tmp/ipykernel_434/4150168656.py:32: SettingWithCopyWarning: \nA value is trying to be set on a copy of a slice from a DataFrame.\nTry using .loc[row_indexer,col_indexer] = value instead\n\nSee the caveats in the documentation: https://pandas.pydata.org/pandas-docs/stable/user_guide/indexing.html#returning-a-view-versus-a-copy\n  aux['score'] = yhat_proba[:,1].tolist()\n/tmp/ipykernel_434/4150168656.py:31: SettingWithCopyWarning: \nA value is trying to be set on a copy of a slice from a DataFrame.\nTry using .loc[row_indexer,col_indexer] = value instead\n\nSee the caveats in the documentation: https://pandas.pydata.org/pandas-docs/stable/user_guide/indexing.html#returning-a-view-versus-a-copy\n  aux[target] = y[test_index]\n/tmp/ipykernel_434/4150168656.py:32: SettingWithCopyWarning: \nA value is trying to be set on a copy of a slice from a DataFrame.\nTry using .loc[row_indexer,col_indexer] = value instead\n\nSee the caveats in the documentation: https://pandas.pydata.org/pandas-docs/stable/user_guide/indexing.html#returning-a-view-versus-a-copy\n  aux['score'] = yhat_proba[:,1].tolist()\n",
     "output_type": "stream"
    }
   ],
   "execution_count": 68
  },
  {
   "cell_type": "code",
   "source": "models_comparison",
   "metadata": {
    "cell_id": "89bd6895251a42d999f3d89a099dc862",
    "tags": [],
    "deepnote_to_be_reexecuted": false,
    "source_hash": "6df05d0a",
    "execution_start": 1662728538404,
    "execution_millis": 38,
    "deepnote_table_state": {
     "pageSize": 10,
     "pageIndex": 0,
     "filters": [],
     "sortBy": [
      {
       "id": "PRECISION AT K CROSS_VAL",
       "type": "desc"
      }
     ]
    },
    "deepnote_table_loading": false,
    "deepnote_cell_type": "code",
    "deepnote_cell_height": 421.20001220703125
   },
   "outputs": [
    {
     "output_type": "execute_result",
     "execution_count": 71,
     "data": {
      "application/vnd.deepnote.dataframe.v3+json": {
       "column_count": 9,
       "row_count": 5,
       "columns": [
        {
         "name": "Model name",
         "dtype": "object",
         "stats": {
          "unique_count": 5,
          "nan_count": 0,
          "categories": [
           {
            "name": "XGBoost Cross_Val",
            "count": 1
           },
           {
            "name": "Linear model Cross_Val",
            "count": 1
           },
           {
            "name": "3 others",
            "count": 3
           }
          ]
         }
        },
        {
         "name": "PRECISION CROSS_VAL",
         "dtype": "float64",
         "stats": {
          "unique_count": 5,
          "nan_count": 0,
          "min": "0.316",
          "max": "0.502",
          "histogram": [
           {
            "bin_start": 0.316,
            "bin_end": 0.3346,
            "count": 2
           },
           {
            "bin_start": 0.3346,
            "bin_end": 0.3532,
            "count": 1
           },
           {
            "bin_start": 0.3532,
            "bin_end": 0.3718,
            "count": 0
           },
           {
            "bin_start": 0.3718,
            "bin_end": 0.39039999999999997,
            "count": 1
           },
           {
            "bin_start": 0.39039999999999997,
            "bin_end": 0.40900000000000003,
            "count": 0
           },
           {
            "bin_start": 0.40900000000000003,
            "bin_end": 0.4276,
            "count": 0
           },
           {
            "bin_start": 0.4276,
            "bin_end": 0.4462,
            "count": 0
           },
           {
            "bin_start": 0.4462,
            "bin_end": 0.4648,
            "count": 0
           },
           {
            "bin_start": 0.4648,
            "bin_end": 0.4834,
            "count": 0
           },
           {
            "bin_start": 0.4834,
            "bin_end": 0.502,
            "count": 1
           }
          ]
         }
        },
        {
         "name": "PRECISON STD",
         "dtype": "float64",
         "stats": {
          "unique_count": 5,
          "nan_count": 0,
          "min": "0.001",
          "max": "0.082",
          "histogram": [
           {
            "bin_start": 0.001,
            "bin_end": 0.0091,
            "count": 3
           },
           {
            "bin_start": 0.0091,
            "bin_end": 0.0172,
            "count": 1
           },
           {
            "bin_start": 0.0172,
            "bin_end": 0.0253,
            "count": 0
           },
           {
            "bin_start": 0.0253,
            "bin_end": 0.0334,
            "count": 0
           },
           {
            "bin_start": 0.0334,
            "bin_end": 0.041499999999999995,
            "count": 0
           },
           {
            "bin_start": 0.041499999999999995,
            "bin_end": 0.0496,
            "count": 0
           },
           {
            "bin_start": 0.0496,
            "bin_end": 0.0577,
            "count": 0
           },
           {
            "bin_start": 0.0577,
            "bin_end": 0.0658,
            "count": 0
           },
           {
            "bin_start": 0.0658,
            "bin_end": 0.0739,
            "count": 0
           },
           {
            "bin_start": 0.0739,
            "bin_end": 0.082,
            "count": 1
           }
          ]
         }
        },
        {
         "name": "RECALL CROSS_VAL",
         "dtype": "float64",
         "stats": {
          "unique_count": 5,
          "nan_count": 0,
          "min": "0.001",
          "max": "0.205",
          "histogram": [
           {
            "bin_start": 0.001,
            "bin_end": 0.0214,
            "count": 2
           },
           {
            "bin_start": 0.0214,
            "bin_end": 0.0418,
            "count": 0
           },
           {
            "bin_start": 0.0418,
            "bin_end": 0.06219999999999999,
            "count": 0
           },
           {
            "bin_start": 0.06219999999999999,
            "bin_end": 0.08259999999999999,
            "count": 0
           },
           {
            "bin_start": 0.08259999999999999,
            "bin_end": 0.103,
            "count": 0
           },
           {
            "bin_start": 0.103,
            "bin_end": 0.12339999999999998,
            "count": 0
           },
           {
            "bin_start": 0.12339999999999998,
            "bin_end": 0.14379999999999998,
            "count": 0
           },
           {
            "bin_start": 0.14379999999999998,
            "bin_end": 0.16419999999999998,
            "count": 0
           },
           {
            "bin_start": 0.16419999999999998,
            "bin_end": 0.1846,
            "count": 1
           },
           {
            "bin_start": 0.1846,
            "bin_end": 0.205,
            "count": 2
           }
          ]
         }
        },
        {
         "name": "RECALL STD",
         "dtype": "float64",
         "stats": {
          "unique_count": 2,
          "nan_count": 0,
          "min": "0.0",
          "max": "0.001",
          "histogram": [
           {
            "bin_start": 0,
            "bin_end": 0.0001,
            "count": 1
           },
           {
            "bin_start": 0.0001,
            "bin_end": 0.0002,
            "count": 0
           },
           {
            "bin_start": 0.0002,
            "bin_end": 0.00030000000000000003,
            "count": 0
           },
           {
            "bin_start": 0.00030000000000000003,
            "bin_end": 0.0004,
            "count": 0
           },
           {
            "bin_start": 0.0004,
            "bin_end": 0.0005,
            "count": 0
           },
           {
            "bin_start": 0.0005,
            "bin_end": 0.0006000000000000001,
            "count": 0
           },
           {
            "bin_start": 0.0006000000000000001,
            "bin_end": 0.0007,
            "count": 0
           },
           {
            "bin_start": 0.0007,
            "bin_end": 0.0008,
            "count": 0
           },
           {
            "bin_start": 0.0008,
            "bin_end": 0.0009000000000000001,
            "count": 0
           },
           {
            "bin_start": 0.0009000000000000001,
            "bin_end": 0.001,
            "count": 4
           }
          ]
         }
        },
        {
         "name": "PRECISION AT K CROSS_VAL",
         "dtype": "float64",
         "stats": {
          "unique_count": 5,
          "nan_count": 0,
          "min": "0.312",
          "max": "0.458",
          "histogram": [
           {
            "bin_start": 0.312,
            "bin_end": 0.3266,
            "count": 1
           },
           {
            "bin_start": 0.3266,
            "bin_end": 0.3412,
            "count": 0
           },
           {
            "bin_start": 0.3412,
            "bin_end": 0.3558,
            "count": 2
           },
           {
            "bin_start": 0.3558,
            "bin_end": 0.3704,
            "count": 0
           },
           {
            "bin_start": 0.3704,
            "bin_end": 0.385,
            "count": 1
           },
           {
            "bin_start": 0.385,
            "bin_end": 0.3996,
            "count": 0
           },
           {
            "bin_start": 0.3996,
            "bin_end": 0.4142,
            "count": 0
           },
           {
            "bin_start": 0.4142,
            "bin_end": 0.4288,
            "count": 0
           },
           {
            "bin_start": 0.4288,
            "bin_end": 0.4434,
            "count": 0
           },
           {
            "bin_start": 0.4434,
            "bin_end": 0.458,
            "count": 1
           }
          ]
         }
        },
        {
         "name": "PRECISION AT K STD",
         "dtype": "float64",
         "stats": {
          "unique_count": 4,
          "nan_count": 0,
          "min": "0.003",
          "max": "0.01",
          "histogram": [
           {
            "bin_start": 0.003,
            "bin_end": 0.0037,
            "count": 1
           },
           {
            "bin_start": 0.0037,
            "bin_end": 0.0044,
            "count": 0
           },
           {
            "bin_start": 0.0044,
            "bin_end": 0.0051,
            "count": 0
           },
           {
            "bin_start": 0.0051,
            "bin_end": 0.0058,
            "count": 0
           },
           {
            "bin_start": 0.0058,
            "bin_end": 0.006500000000000001,
            "count": 0
           },
           {
            "bin_start": 0.006500000000000001,
            "bin_end": 0.0072,
            "count": 1
           },
           {
            "bin_start": 0.0072,
            "bin_end": 0.0079,
            "count": 0
           },
           {
            "bin_start": 0.0079,
            "bin_end": 0.0086,
            "count": 1
           },
           {
            "bin_start": 0.0086,
            "bin_end": 0.0093,
            "count": 0
           },
           {
            "bin_start": 0.0093,
            "bin_end": 0.01,
            "count": 2
           }
          ]
         }
        },
        {
         "name": "RECALL AT K CROSS_VAL",
         "dtype": "float64",
         "stats": {
          "unique_count": 5,
          "nan_count": 0,
          "min": "0.053",
          "max": "0.079",
          "histogram": [
           {
            "bin_start": 0.053,
            "bin_end": 0.0556,
            "count": 1
           },
           {
            "bin_start": 0.0556,
            "bin_end": 0.0582,
            "count": 0
           },
           {
            "bin_start": 0.0582,
            "bin_end": 0.0608,
            "count": 1
           },
           {
            "bin_start": 0.0608,
            "bin_end": 0.0634,
            "count": 1
           },
           {
            "bin_start": 0.0634,
            "bin_end": 0.066,
            "count": 1
           },
           {
            "bin_start": 0.066,
            "bin_end": 0.0686,
            "count": 0
           },
           {
            "bin_start": 0.0686,
            "bin_end": 0.0712,
            "count": 0
           },
           {
            "bin_start": 0.0712,
            "bin_end": 0.0738,
            "count": 0
           },
           {
            "bin_start": 0.0738,
            "bin_end": 0.0764,
            "count": 0
           },
           {
            "bin_start": 0.0764,
            "bin_end": 0.079,
            "count": 1
           }
          ]
         }
        },
        {
         "name": "RECALL AT K STD",
         "dtype": "float64",
         "stats": {
          "unique_count": 1,
          "nan_count": 0,
          "min": "0.0",
          "max": "0.0",
          "histogram": [
           {
            "bin_start": -0.5,
            "bin_end": -0.4,
            "count": 0
           },
           {
            "bin_start": -0.4,
            "bin_end": -0.3,
            "count": 0
           },
           {
            "bin_start": -0.3,
            "bin_end": -0.19999999999999996,
            "count": 0
           },
           {
            "bin_start": -0.19999999999999996,
            "bin_end": -0.09999999999999998,
            "count": 0
           },
           {
            "bin_start": -0.09999999999999998,
            "bin_end": 0,
            "count": 0
           },
           {
            "bin_start": 0,
            "bin_end": 0.10000000000000009,
            "count": 5
           },
           {
            "bin_start": 0.10000000000000009,
            "bin_end": 0.20000000000000007,
            "count": 0
           },
           {
            "bin_start": 0.20000000000000007,
            "bin_end": 0.30000000000000004,
            "count": 0
           },
           {
            "bin_start": 0.30000000000000004,
            "bin_end": 0.4,
            "count": 0
           },
           {
            "bin_start": 0.4,
            "bin_end": 0.5,
            "count": 0
           }
          ]
         }
        },
        {
         "name": "_deepnote_index_column",
         "dtype": "int64"
        }
       ],
       "rows": [
        {
         "Model name": "XGBoost Cross_Val",
         "PRECISION CROSS_VAL": "0.502",
         "PRECISON STD": "0.017",
         "RECALL CROSS_VAL": "0.003",
         "RECALL STD": "0.0",
         "PRECISION AT K CROSS_VAL": "0.458",
         "PRECISION AT K STD": "0.01",
         "RECALL AT K CROSS_VAL": "0.079",
         "RECALL AT K STD": "0.0",
         "_deepnote_index_column": "0"
        },
        {
         "Model name": "Linear model Cross_Val",
         "PRECISION CROSS_VAL": "0.384",
         "PRECISON STD": "0.082",
         "RECALL CROSS_VAL": "0.001",
         "RECALL STD": "0.001",
         "PRECISION AT K CROSS_VAL": "0.374",
         "PRECISION AT K STD": "0.007",
         "RECALL AT K CROSS_VAL": "0.064",
         "RECALL AT K STD": "0.0",
         "_deepnote_index_column": "0"
        },
        {
         "Model name": "KNN Cross_Val",
         "PRECISION CROSS_VAL": "0.34",
         "PRECISON STD": "0.005",
         "RECALL CROSS_VAL": "0.183",
         "RECALL STD": "0.001",
         "PRECISION AT K CROSS_VAL": "0.354",
         "PRECISION AT K STD": "0.01",
         "RECALL AT K CROSS_VAL": "0.061",
         "RECALL AT K STD": "0.0",
         "_deepnote_index_column": "0"
        },
        {
         "Model name": "Random forrest Cross_Val",
         "PRECISION CROSS_VAL": "0.324",
         "PRECISON STD": "0.001",
         "RECALL CROSS_VAL": "0.205",
         "RECALL STD": "0.001",
         "PRECISION AT K CROSS_VAL": "0.347",
         "PRECISION AT K STD": "0.008",
         "RECALL AT K CROSS_VAL": "0.059",
         "RECALL AT K STD": "0.0",
         "_deepnote_index_column": "0"
        },
        {
         "Model name": "Extra trees Cross_Val",
         "PRECISION CROSS_VAL": "0.316",
         "PRECISON STD": "0.003",
         "RECALL CROSS_VAL": "0.203",
         "RECALL STD": "0.001",
         "PRECISION AT K CROSS_VAL": "0.312",
         "PRECISION AT K STD": "0.003",
         "RECALL AT K CROSS_VAL": "0.053",
         "RECALL AT K STD": "0.0",
         "_deepnote_index_column": "0"
        }
       ]
      },
      "text/plain": "                 Model name  PRECISION CROSS_VAL  PRECISON STD  \\\n0             KNN Cross_Val                0.340         0.005   \n0    Linear model Cross_Val                0.384         0.082   \n0  Random forrest Cross_Val                0.324         0.001   \n0     Extra trees Cross_Val                0.316         0.003   \n0         XGBoost Cross_Val                0.502         0.017   \n\n   RECALL CROSS_VAL  RECALL STD  PRECISION AT K CROSS_VAL  PRECISION AT K STD  \\\n0             0.183       0.001                     0.354               0.010   \n0             0.001       0.001                     0.374               0.007   \n0             0.205       0.001                     0.347               0.008   \n0             0.203       0.001                     0.312               0.003   \n0             0.003       0.000                     0.458               0.010   \n\n   RECALL AT K CROSS_VAL  RECALL AT K STD  \n0                  0.061              0.0  \n0                  0.064              0.0  \n0                  0.059              0.0  \n0                  0.053              0.0  \n0                  0.079              0.0  ",
      "text/html": "<div>\n<style scoped>\n    .dataframe tbody tr th:only-of-type {\n        vertical-align: middle;\n    }\n\n    .dataframe tbody tr th {\n        vertical-align: top;\n    }\n\n    .dataframe thead th {\n        text-align: right;\n    }\n</style>\n<table border=\"1\" class=\"dataframe\">\n  <thead>\n    <tr style=\"text-align: right;\">\n      <th></th>\n      <th>Model name</th>\n      <th>PRECISION CROSS_VAL</th>\n      <th>PRECISON STD</th>\n      <th>RECALL CROSS_VAL</th>\n      <th>RECALL STD</th>\n      <th>PRECISION AT K CROSS_VAL</th>\n      <th>PRECISION AT K STD</th>\n      <th>RECALL AT K CROSS_VAL</th>\n      <th>RECALL AT K STD</th>\n    </tr>\n  </thead>\n  <tbody>\n    <tr>\n      <th>0</th>\n      <td>KNN Cross_Val</td>\n      <td>0.340</td>\n      <td>0.005</td>\n      <td>0.183</td>\n      <td>0.001</td>\n      <td>0.354</td>\n      <td>0.010</td>\n      <td>0.061</td>\n      <td>0.0</td>\n    </tr>\n    <tr>\n      <th>0</th>\n      <td>Linear model Cross_Val</td>\n      <td>0.384</td>\n      <td>0.082</td>\n      <td>0.001</td>\n      <td>0.001</td>\n      <td>0.374</td>\n      <td>0.007</td>\n      <td>0.064</td>\n      <td>0.0</td>\n    </tr>\n    <tr>\n      <th>0</th>\n      <td>Random forrest Cross_Val</td>\n      <td>0.324</td>\n      <td>0.001</td>\n      <td>0.205</td>\n      <td>0.001</td>\n      <td>0.347</td>\n      <td>0.008</td>\n      <td>0.059</td>\n      <td>0.0</td>\n    </tr>\n    <tr>\n      <th>0</th>\n      <td>Extra trees Cross_Val</td>\n      <td>0.316</td>\n      <td>0.003</td>\n      <td>0.203</td>\n      <td>0.001</td>\n      <td>0.312</td>\n      <td>0.003</td>\n      <td>0.053</td>\n      <td>0.0</td>\n    </tr>\n    <tr>\n      <th>0</th>\n      <td>XGBoost Cross_Val</td>\n      <td>0.502</td>\n      <td>0.017</td>\n      <td>0.003</td>\n      <td>0.000</td>\n      <td>0.458</td>\n      <td>0.010</td>\n      <td>0.079</td>\n      <td>0.0</td>\n    </tr>\n  </tbody>\n</table>\n</div>"
     },
     "metadata": {}
    }
   ],
   "execution_count": 71
  },
  {
   "cell_type": "code",
   "source": "xgb_model = xgb.XGBClassifier(objective='reg:squarederror',\n                             n_estimators=700,\n                             eta=0.01,\n                             max_depth=10,\n                             subsample=0.7,\n                             colsample_bytree=0.9)\nxg_cross = performace_cross_val(df6,'response',xgb_model,'XGBoost')\nxg_cross",
   "metadata": {
    "cell_id": "97ce6ada86574f8fae7b3e259647108b",
    "tags": [],
    "deepnote_to_be_reexecuted": false,
    "source_hash": "9dda8b34",
    "execution_start": 1662732497094,
    "execution_millis": 998819,
    "deepnote_cell_type": "code",
    "deepnote_cell_height": 351.20001220703125
   },
   "outputs": [
    {
     "output_type": "execute_result",
     "execution_count": 78,
     "data": {
      "application/vnd.deepnote.dataframe.v3+json": {
       "column_count": 9,
       "row_count": 1,
       "columns": [
        {
         "name": "Model name",
         "dtype": "object",
         "stats": {
          "unique_count": 1,
          "nan_count": 0,
          "categories": [
           {
            "name": "XGBoost Cross_Val",
            "count": 1
           }
          ]
         }
        },
        {
         "name": "PRECISION CROSS_VAL",
         "dtype": "float64",
         "stats": {
          "unique_count": 1,
          "nan_count": 0,
          "min": "0.473",
          "max": "0.473",
          "histogram": [
           {
            "bin_start": -0.027000000000000024,
            "bin_end": 0.07299999999999998,
            "count": 0
           },
           {
            "bin_start": 0.07299999999999998,
            "bin_end": 0.173,
            "count": 0
           },
           {
            "bin_start": 0.173,
            "bin_end": 0.273,
            "count": 0
           },
           {
            "bin_start": 0.273,
            "bin_end": 0.373,
            "count": 0
           },
           {
            "bin_start": 0.373,
            "bin_end": 0.473,
            "count": 0
           },
           {
            "bin_start": 0.473,
            "bin_end": 0.5730000000000001,
            "count": 1
           },
           {
            "bin_start": 0.5730000000000001,
            "bin_end": 0.673,
            "count": 0
           },
           {
            "bin_start": 0.673,
            "bin_end": 0.773,
            "count": 0
           },
           {
            "bin_start": 0.773,
            "bin_end": 0.873,
            "count": 0
           },
           {
            "bin_start": 0.873,
            "bin_end": 0.973,
            "count": 0
           }
          ]
         }
        },
        {
         "name": "PRECISON STD",
         "dtype": "float64",
         "stats": {
          "unique_count": 1,
          "nan_count": 0,
          "min": "0.023",
          "max": "0.023",
          "histogram": [
           {
            "bin_start": -0.477,
            "bin_end": -0.377,
            "count": 0
           },
           {
            "bin_start": -0.377,
            "bin_end": -0.27699999999999997,
            "count": 0
           },
           {
            "bin_start": -0.27699999999999997,
            "bin_end": -0.17699999999999994,
            "count": 0
           },
           {
            "bin_start": -0.17699999999999994,
            "bin_end": -0.07699999999999996,
            "count": 0
           },
           {
            "bin_start": -0.07699999999999996,
            "bin_end": 0.02300000000000002,
            "count": 1
           },
           {
            "bin_start": 0.02300000000000002,
            "bin_end": 0.12300000000000011,
            "count": 0
           },
           {
            "bin_start": 0.12300000000000011,
            "bin_end": 0.2230000000000001,
            "count": 0
           },
           {
            "bin_start": 0.2230000000000001,
            "bin_end": 0.32300000000000006,
            "count": 0
           },
           {
            "bin_start": 0.32300000000000006,
            "bin_end": 0.42300000000000004,
            "count": 0
           },
           {
            "bin_start": 0.42300000000000004,
            "bin_end": 0.523,
            "count": 0
           }
          ]
         }
        },
        {
         "name": "RECALL CROSS_VAL",
         "dtype": "float64",
         "stats": {
          "unique_count": 1,
          "nan_count": 0,
          "min": "0.013",
          "max": "0.013",
          "histogram": [
           {
            "bin_start": -0.487,
            "bin_end": -0.387,
            "count": 0
           },
           {
            "bin_start": -0.387,
            "bin_end": -0.287,
            "count": 0
           },
           {
            "bin_start": -0.287,
            "bin_end": -0.18699999999999994,
            "count": 0
           },
           {
            "bin_start": -0.18699999999999994,
            "bin_end": -0.08699999999999997,
            "count": 0
           },
           {
            "bin_start": -0.08699999999999997,
            "bin_end": 0.013000000000000012,
            "count": 1
           },
           {
            "bin_start": 0.013000000000000012,
            "bin_end": 0.1130000000000001,
            "count": 0
           },
           {
            "bin_start": 0.1130000000000001,
            "bin_end": 0.21300000000000008,
            "count": 0
           },
           {
            "bin_start": 0.21300000000000008,
            "bin_end": 0.31300000000000006,
            "count": 0
           },
           {
            "bin_start": 0.31300000000000006,
            "bin_end": 0.41300000000000003,
            "count": 0
           },
           {
            "bin_start": 0.41300000000000003,
            "bin_end": 0.513,
            "count": 0
           }
          ]
         }
        },
        {
         "name": "RECALL STD",
         "dtype": "float64",
         "stats": {
          "unique_count": 1,
          "nan_count": 0,
          "min": "0.002",
          "max": "0.002",
          "histogram": [
           {
            "bin_start": -0.498,
            "bin_end": -0.398,
            "count": 0
           },
           {
            "bin_start": -0.398,
            "bin_end": -0.298,
            "count": 0
           },
           {
            "bin_start": -0.298,
            "bin_end": -0.19799999999999995,
            "count": 0
           },
           {
            "bin_start": -0.19799999999999995,
            "bin_end": -0.09799999999999998,
            "count": 0
           },
           {
            "bin_start": -0.09799999999999998,
            "bin_end": 0.0020000000000000018,
            "count": 1
           },
           {
            "bin_start": 0.0020000000000000018,
            "bin_end": 0.10200000000000009,
            "count": 0
           },
           {
            "bin_start": 0.10200000000000009,
            "bin_end": 0.20200000000000007,
            "count": 0
           },
           {
            "bin_start": 0.20200000000000007,
            "bin_end": 0.30200000000000005,
            "count": 0
           },
           {
            "bin_start": 0.30200000000000005,
            "bin_end": 0.402,
            "count": 0
           },
           {
            "bin_start": 0.402,
            "bin_end": 0.502,
            "count": 0
           }
          ]
         }
        },
        {
         "name": "PRECISION AT K CROSS_VAL",
         "dtype": "float64",
         "stats": {
          "unique_count": 1,
          "nan_count": 0,
          "min": "0.449",
          "max": "0.449",
          "histogram": [
           {
            "bin_start": -0.05099999999999999,
            "bin_end": 0.049000000000000016,
            "count": 0
           },
           {
            "bin_start": 0.049000000000000016,
            "bin_end": 0.14900000000000002,
            "count": 0
           },
           {
            "bin_start": 0.14900000000000002,
            "bin_end": 0.24900000000000005,
            "count": 0
           },
           {
            "bin_start": 0.24900000000000005,
            "bin_end": 0.34900000000000003,
            "count": 0
           },
           {
            "bin_start": 0.34900000000000003,
            "bin_end": 0.449,
            "count": 0
           },
           {
            "bin_start": 0.449,
            "bin_end": 0.5490000000000002,
            "count": 1
           },
           {
            "bin_start": 0.5490000000000002,
            "bin_end": 0.649,
            "count": 0
           },
           {
            "bin_start": 0.649,
            "bin_end": 0.7490000000000001,
            "count": 0
           },
           {
            "bin_start": 0.7490000000000001,
            "bin_end": 0.849,
            "count": 0
           },
           {
            "bin_start": 0.849,
            "bin_end": 0.9490000000000001,
            "count": 0
           }
          ]
         }
        },
        {
         "name": "PRECISION AT K STD",
         "dtype": "float64",
         "stats": {
          "unique_count": 1,
          "nan_count": 0,
          "min": "0.009",
          "max": "0.009",
          "histogram": [
           {
            "bin_start": -0.491,
            "bin_end": -0.391,
            "count": 0
           },
           {
            "bin_start": -0.391,
            "bin_end": -0.291,
            "count": 0
           },
           {
            "bin_start": -0.291,
            "bin_end": -0.19099999999999995,
            "count": 0
           },
           {
            "bin_start": -0.19099999999999995,
            "bin_end": -0.09099999999999997,
            "count": 0
           },
           {
            "bin_start": -0.09099999999999997,
            "bin_end": 0.009000000000000008,
            "count": 1
           },
           {
            "bin_start": 0.009000000000000008,
            "bin_end": 0.1090000000000001,
            "count": 0
           },
           {
            "bin_start": 0.1090000000000001,
            "bin_end": 0.20900000000000007,
            "count": 0
           },
           {
            "bin_start": 0.20900000000000007,
            "bin_end": 0.30900000000000005,
            "count": 0
           },
           {
            "bin_start": 0.30900000000000005,
            "bin_end": 0.40900000000000003,
            "count": 0
           },
           {
            "bin_start": 0.40900000000000003,
            "bin_end": 0.509,
            "count": 0
           }
          ]
         }
        },
        {
         "name": "RECALL AT K CROSS_VAL",
         "dtype": "float64",
         "stats": {
          "unique_count": 1,
          "nan_count": 0,
          "min": "0.077",
          "max": "0.077",
          "histogram": [
           {
            "bin_start": -0.423,
            "bin_end": -0.32299999999999995,
            "count": 0
           },
           {
            "bin_start": -0.32299999999999995,
            "bin_end": -0.22299999999999998,
            "count": 0
           },
           {
            "bin_start": -0.22299999999999998,
            "bin_end": -0.12299999999999994,
            "count": 0
           },
           {
            "bin_start": -0.12299999999999994,
            "bin_end": -0.022999999999999965,
            "count": 0
           },
           {
            "bin_start": -0.022999999999999965,
            "bin_end": 0.07700000000000001,
            "count": 1
           },
           {
            "bin_start": 0.07700000000000001,
            "bin_end": 0.1770000000000001,
            "count": 0
           },
           {
            "bin_start": 0.1770000000000001,
            "bin_end": 0.2770000000000001,
            "count": 0
           },
           {
            "bin_start": 0.2770000000000001,
            "bin_end": 0.37700000000000006,
            "count": 0
           },
           {
            "bin_start": 0.37700000000000006,
            "bin_end": 0.47700000000000004,
            "count": 0
           },
           {
            "bin_start": 0.47700000000000004,
            "bin_end": 0.577,
            "count": 0
           }
          ]
         }
        },
        {
         "name": "RECALL AT K STD",
         "dtype": "float64",
         "stats": {
          "unique_count": 1,
          "nan_count": 0,
          "min": "0.0",
          "max": "0.0",
          "histogram": [
           {
            "bin_start": -0.5,
            "bin_end": -0.4,
            "count": 0
           },
           {
            "bin_start": -0.4,
            "bin_end": -0.3,
            "count": 0
           },
           {
            "bin_start": -0.3,
            "bin_end": -0.19999999999999996,
            "count": 0
           },
           {
            "bin_start": -0.19999999999999996,
            "bin_end": -0.09999999999999998,
            "count": 0
           },
           {
            "bin_start": -0.09999999999999998,
            "bin_end": 0,
            "count": 0
           },
           {
            "bin_start": 0,
            "bin_end": 0.10000000000000009,
            "count": 1
           },
           {
            "bin_start": 0.10000000000000009,
            "bin_end": 0.20000000000000007,
            "count": 0
           },
           {
            "bin_start": 0.20000000000000007,
            "bin_end": 0.30000000000000004,
            "count": 0
           },
           {
            "bin_start": 0.30000000000000004,
            "bin_end": 0.4,
            "count": 0
           },
           {
            "bin_start": 0.4,
            "bin_end": 0.5,
            "count": 0
           }
          ]
         }
        },
        {
         "name": "_deepnote_index_column",
         "dtype": "int64"
        }
       ],
       "rows": [
        {
         "Model name": "XGBoost Cross_Val",
         "PRECISION CROSS_VAL": "0.473",
         "PRECISON STD": "0.023",
         "RECALL CROSS_VAL": "0.013",
         "RECALL STD": "0.002",
         "PRECISION AT K CROSS_VAL": "0.449",
         "PRECISION AT K STD": "0.009",
         "RECALL AT K CROSS_VAL": "0.077",
         "RECALL AT K STD": "0.0",
         "_deepnote_index_column": "0"
        }
       ]
      },
      "text/plain": "          Model name  PRECISION CROSS_VAL  PRECISON STD  RECALL CROSS_VAL  \\\n0  XGBoost Cross_Val                0.473         0.023             0.013   \n\n   RECALL STD  PRECISION AT K CROSS_VAL  PRECISION AT K STD  \\\n0       0.002                     0.449               0.009   \n\n   RECALL AT K CROSS_VAL  RECALL AT K STD  \n0                  0.077              0.0  ",
      "text/html": "<div>\n<style scoped>\n    .dataframe tbody tr th:only-of-type {\n        vertical-align: middle;\n    }\n\n    .dataframe tbody tr th {\n        vertical-align: top;\n    }\n\n    .dataframe thead th {\n        text-align: right;\n    }\n</style>\n<table border=\"1\" class=\"dataframe\">\n  <thead>\n    <tr style=\"text-align: right;\">\n      <th></th>\n      <th>Model name</th>\n      <th>PRECISION CROSS_VAL</th>\n      <th>PRECISON STD</th>\n      <th>RECALL CROSS_VAL</th>\n      <th>RECALL STD</th>\n      <th>PRECISION AT K CROSS_VAL</th>\n      <th>PRECISION AT K STD</th>\n      <th>RECALL AT K CROSS_VAL</th>\n      <th>RECALL AT K STD</th>\n    </tr>\n  </thead>\n  <tbody>\n    <tr>\n      <th>0</th>\n      <td>XGBoost Cross_Val</td>\n      <td>0.473</td>\n      <td>0.023</td>\n      <td>0.013</td>\n      <td>0.002</td>\n      <td>0.449</td>\n      <td>0.009</td>\n      <td>0.077</td>\n      <td>0.0</td>\n    </tr>\n  </tbody>\n</table>\n</div>"
     },
     "metadata": {}
    }
   ],
   "execution_count": 78
  },
  {
   "cell_type": "markdown",
   "source": "<a style='text-decoration:none;line-height:16px;display:flex;color:#5B5B62;padding:10px;justify-content:end;' href='https://deepnote.com?utm_source=created-in-deepnote-cell&projectId=3161d838-98a4-47ed-ae81-127ad2068af4' target=\"_blank\">\n<img alt='Created in deepnote.com' style='display:inline;max-height:16px;margin:0px;margin-right:7.5px;' src='data:image/svg+xml;base64,PD94bWwgdmVyc2lvbj0iMS4wIiBlbmNvZGluZz0iVVRGLTgiPz4KPHN2ZyB3aWR0aD0iODBweCIgaGVpZ2h0PSI4MHB4IiB2aWV3Qm94PSIwIDAgODAgODAiIHZlcnNpb249IjEuMSIgeG1sbnM9Imh0dHA6Ly93d3cudzMub3JnLzIwMDAvc3ZnIiB4bWxuczp4bGluaz0iaHR0cDovL3d3dy53My5vcmcvMTk5OS94bGluayI+CiAgICA8IS0tIEdlbmVyYXRvcjogU2tldGNoIDU0LjEgKDc2NDkwKSAtIGh0dHBzOi8vc2tldGNoYXBwLmNvbSAtLT4KICAgIDx0aXRsZT5Hcm91cCAzPC90aXRsZT4KICAgIDxkZXNjPkNyZWF0ZWQgd2l0aCBTa2V0Y2guPC9kZXNjPgogICAgPGcgaWQ9IkxhbmRpbmciIHN0cm9rZT0ibm9uZSIgc3Ryb2tlLXdpZHRoPSIxIiBmaWxsPSJub25lIiBmaWxsLXJ1bGU9ImV2ZW5vZGQiPgogICAgICAgIDxnIGlkPSJBcnRib2FyZCIgdHJhbnNmb3JtPSJ0cmFuc2xhdGUoLTEyMzUuMDAwMDAwLCAtNzkuMDAwMDAwKSI+CiAgICAgICAgICAgIDxnIGlkPSJHcm91cC0zIiB0cmFuc2Zvcm09InRyYW5zbGF0ZSgxMjM1LjAwMDAwMCwgNzkuMDAwMDAwKSI+CiAgICAgICAgICAgICAgICA8cG9seWdvbiBpZD0iUGF0aC0yMCIgZmlsbD0iIzAyNjVCNCIgcG9pbnRzPSIyLjM3NjIzNzYyIDgwIDM4LjA0NzY2NjcgODAgNTcuODIxNzgyMiA3My44MDU3NTkyIDU3LjgyMTc4MjIgMzIuNzU5MjczOSAzOS4xNDAyMjc4IDMxLjY4MzE2ODMiPjwvcG9seWdvbj4KICAgICAgICAgICAgICAgIDxwYXRoIGQ9Ik0zNS4wMDc3MTgsODAgQzQyLjkwNjIwMDcsNzYuNDU0OTM1OCA0Ny41NjQ5MTY3LDcxLjU0MjI2NzEgNDguOTgzODY2LDY1LjI2MTk5MzkgQzUxLjExMjI4OTksNTUuODQxNTg0MiA0MS42NzcxNzk1LDQ5LjIxMjIyODQgMjUuNjIzOTg0Niw0OS4yMTIyMjg0IEMyNS40ODQ5Mjg5LDQ5LjEyNjg0NDggMjkuODI2MTI5Niw0My4yODM4MjQ4IDM4LjY0NzU4NjksMzEuNjgzMTY4MyBMNzIuODcxMjg3MSwzMi41NTQ0MjUgTDY1LjI4MDk3Myw2Ny42NzYzNDIxIEw1MS4xMTIyODk5LDc3LjM3NjE0NCBMMzUuMDA3NzE4LDgwIFoiIGlkPSJQYXRoLTIyIiBmaWxsPSIjMDAyODY4Ij48L3BhdGg+CiAgICAgICAgICAgICAgICA8cGF0aCBkPSJNMCwzNy43MzA0NDA1IEwyNy4xMTQ1MzcsMC4yNTcxMTE0MzYgQzYyLjM3MTUxMjMsLTEuOTkwNzE3MDEgODAsMTAuNTAwMzkyNyA4MCwzNy43MzA0NDA1IEM4MCw2NC45NjA0ODgyIDY0Ljc3NjUwMzgsNzkuMDUwMzQxNCAzNC4zMjk1MTEzLDgwIEM0Ny4wNTUzNDg5LDc3LjU2NzA4MDggNTMuNDE4MjY3Nyw3MC4zMTM2MTAzIDUzLjQxODI2NzcsNTguMjM5NTg4NSBDNTMuNDE4MjY3Nyw0MC4xMjg1NTU3IDM2LjMwMzk1NDQsMzcuNzMwNDQwNSAyNS4yMjc0MTcsMzcuNzMwNDQwNSBDMTcuODQzMDU4NiwzNy43MzA0NDA1IDkuNDMzOTE5NjYsMzcuNzMwNDQwNSAwLDM3LjczMDQ0MDUgWiIgaWQ9IlBhdGgtMTkiIGZpbGw9IiMzNzkzRUYiPjwvcGF0aD4KICAgICAgICAgICAgPC9nPgogICAgICAgIDwvZz4KICAgIDwvZz4KPC9zdmc+' > </img>\nCreated in <span style='font-weight:600;margin-left:4px;'>Deepnote</span></a>",
   "metadata": {
    "tags": [],
    "created_in_deepnote_cell": true,
    "deepnote_cell_type": "markdown"
   }
  }
 ],
 "nbformat": 4,
 "nbformat_minor": 4,
 "metadata": {
  "kernelspec": {
   "display_name": "Python 3",
   "language": "python",
   "name": "python3"
  },
  "language_info": {
   "codemirror_mode": {
    "name": "ipython",
    "version": 3
   },
   "file_extension": ".py",
   "mimetype": "text/x-python",
   "name": "python",
   "nbconvert_exporter": "python",
   "pygments_lexer": "ipython3",
   "version": "3.8.5"
  },
  "deepnote_notebook_id": "902457a8-c054-48cb-9ba9-398e078092fa",
  "deepnote": {},
  "deepnote_execution_queue": []
 }
}