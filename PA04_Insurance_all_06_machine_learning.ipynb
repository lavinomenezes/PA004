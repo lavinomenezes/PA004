{
 "cells": [
  {
   "cell_type": "markdown",
   "source": "# Imports",
   "metadata": {
    "cell_id": "14d744d2-4748-4c95-903c-15a9d3adc6e6",
    "deepnote_cell_type": "markdown",
    "deepnote_cell_height": 81.60000610351562
   }
  },
  {
   "cell_type": "code",
   "metadata": {
    "ExecuteTime": {
     "end_time": "2022-09-14T00:49:15.341155Z",
     "start_time": "2022-09-14T00:49:15.321142Z"
    },
    "cell_id": "00001-8f2e38cd-122d-43db-9f3e-17e868bf9b11",
    "deepnote_to_be_reexecuted": false,
    "execution_millis": 776,
    "execution_start": 1663115735944,
    "source_hash": "fe089ebc",
    "deepnote_cell_type": "code",
    "deepnote_cell_height": 327.6000061035156
   },
   "source": "import pandas as pd\nimport numpy as np\nimport seaborn as sns\nimport matplotlib.pyplot as plt\nimport xgboost as xgb\nfrom IPython.core.display import HTML\nfrom sklearn.model_selection import train_test_split\nfrom sklearn.ensemble import RandomForestClassifier\nfrom sklearn.ensemble import ExtraTreesClassifier\nfrom sklearn.neighbors import KNeighborsClassifier\nfrom sklearn.model_selection import StratifiedKFold\nimport sklearn.metrics\nfrom sklearn import linear_model as lm\nimport scikitplot as skplt\npd.options.mode.chained_assignment = None  # default='warn'",
   "execution_count": null,
   "outputs": [
    {
     "output_type": "error",
     "ename": "ModuleNotFoundError",
     "evalue": "No module named 'xgboost'",
     "traceback": [
      "\u001b[0;31m---------------------------------------------------------------------------\u001b[0m",
      "\u001b[0;31mModuleNotFoundError\u001b[0m                       Traceback (most recent call last)",
      "Cell \u001b[0;32mIn [1], line 5\u001b[0m\n\u001b[1;32m      3\u001b[0m \u001b[38;5;28;01mimport\u001b[39;00m \u001b[38;5;21;01mseaborn\u001b[39;00m \u001b[38;5;28;01mas\u001b[39;00m \u001b[38;5;21;01msns\u001b[39;00m\n\u001b[1;32m      4\u001b[0m \u001b[38;5;28;01mimport\u001b[39;00m \u001b[38;5;21;01mmatplotlib\u001b[39;00m\u001b[38;5;21;01m.\u001b[39;00m\u001b[38;5;21;01mpyplot\u001b[39;00m \u001b[38;5;28;01mas\u001b[39;00m \u001b[38;5;21;01mplt\u001b[39;00m\n\u001b[0;32m----> 5\u001b[0m \u001b[38;5;28;01mimport\u001b[39;00m \u001b[38;5;21;01mxgboost\u001b[39;00m \u001b[38;5;28;01mas\u001b[39;00m \u001b[38;5;21;01mxgb\u001b[39;00m\n\u001b[1;32m      6\u001b[0m \u001b[38;5;28;01mfrom\u001b[39;00m \u001b[38;5;21;01mIPython\u001b[39;00m\u001b[38;5;21;01m.\u001b[39;00m\u001b[38;5;21;01mcore\u001b[39;00m\u001b[38;5;21;01m.\u001b[39;00m\u001b[38;5;21;01mdisplay\u001b[39;00m \u001b[38;5;28;01mimport\u001b[39;00m HTML\n\u001b[1;32m      7\u001b[0m \u001b[38;5;28;01mfrom\u001b[39;00m \u001b[38;5;21;01msklearn\u001b[39;00m\u001b[38;5;21;01m.\u001b[39;00m\u001b[38;5;21;01mmodel_selection\u001b[39;00m \u001b[38;5;28;01mimport\u001b[39;00m train_test_split\n",
      "\u001b[0;31mModuleNotFoundError\u001b[0m: No module named 'xgboost'"
     ]
    }
   ]
  },
  {
   "cell_type": "markdown",
   "source": "# helper functions",
   "metadata": {
    "cell_id": "00002-c8dd785f-c8d1-46e1-a60a-736494a581d6",
    "deepnote_cell_type": "markdown",
    "deepnote_cell_height": 81.60000610351562
   }
  },
  {
   "cell_type": "code",
   "metadata": {
    "ExecuteTime": {
     "end_time": "2022-09-14T00:49:15.389050Z",
     "start_time": "2022-09-14T00:49:15.341155Z"
    },
    "cell_id": "00003-5517e9ba-f076-4b96-a62d-e53e82cfe237",
    "deepnote_to_be_reexecuted": false,
    "execution_millis": 82,
    "execution_start": 1663075328122,
    "source_hash": "46a4bb4d",
    "deepnote_cell_type": "code",
    "deepnote_cell_height": 282.20001220703125,
    "deepnote_output_heights": [
     null,
     1
    ]
   },
   "source": "def jupyter_settings():\n    %matplotlib inline\n    %pylab inline\n    plt.style.use( 'bmh' )\n    plt.rcParams['figure.figsize'] = [25, 12]\n    plt.rcParams['font.size'] = 24\n    display( HTML( '<style>.container { width:100% !important; }</style>') )\n    sns.set()\njupyter_settings()",
   "execution_count": null,
   "outputs": [
    {
     "name": "stdout",
     "text": "%pylab is deprecated, use %matplotlib inline and import the required libraries.\nPopulating the interactive namespace from numpy and matplotlib\n",
     "output_type": "stream"
    },
    {
     "data": {
      "text/plain": "<IPython.core.display.HTML object>",
      "text/html": "<style>.container { width:100% !important; }</style>"
     },
     "metadata": {},
     "output_type": "display_data"
    }
   ]
  },
  {
   "cell_type": "code",
   "metadata": {
    "ExecuteTime": {
     "end_time": "2022-09-14T00:49:15.405028Z",
     "start_time": "2022-09-14T00:49:15.389050Z"
    },
    "cell_id": "00004-47f8bd42-4273-4320-bc31-e5a79be3291f",
    "deepnote_to_be_reexecuted": false,
    "execution_millis": 3,
    "execution_start": 1663115739466,
    "source_hash": "3c1bb37b",
    "deepnote_cell_type": "code",
    "deepnote_cell_height": 237.60000610351562
   },
   "source": "def precision_at_k( data, k=2000 ):\n    # reset index\n    data = data.reset_index( drop=True )\n\n    # create ranking order\n    data['ranking'] = data.index + 1 \n\n    data['precision_at_k'] = data['response'].cumsum() / data['ranking']\n\n    return data.loc[k, 'precision_at_k']",
   "execution_count": null,
   "outputs": []
  },
  {
   "cell_type": "code",
   "metadata": {
    "ExecuteTime": {
     "end_time": "2022-09-14T00:49:15.421007Z",
     "start_time": "2022-09-14T00:49:15.409023Z"
    },
    "cell_id": "00005-9d92dab6-46cd-49b8-8ed3-62f3a5a3e035",
    "deepnote_to_be_reexecuted": false,
    "execution_millis": 3,
    "execution_start": 1663115741181,
    "source_hash": "979ce389",
    "deepnote_cell_type": "code",
    "deepnote_cell_height": 237.60000610351562
   },
   "source": "def recall_at_k( data, k=2000 ):\n    # reset index\n    data = data.reset_index( drop=True )\n\n    # create ranking order\n    data['ranking'] = data.index + 1 \n\n    data['recall_at_k'] = data['response'].cumsum() / data['response'].sum()\n\n    return data.loc[k, 'recall_at_k']",
   "execution_count": null,
   "outputs": []
  },
  {
   "cell_type": "code",
   "metadata": {
    "ExecuteTime": {
     "end_time": "2022-09-14T00:49:15.436987Z",
     "start_time": "2022-09-14T00:49:15.421007Z"
    },
    "cell_id": "00006-ab8794da-ac1a-4a74-a1c7-59a2709e69f8",
    "deepnote_to_be_reexecuted": false,
    "execution_millis": 9,
    "execution_start": 1663115743484,
    "source_hash": "1776f534",
    "deepnote_cell_type": "code",
    "deepnote_cell_height": 291.6000061035156
   },
   "source": "def performace(model_name,data,y_val,yhat_class,k):\n    import sklearn.metrics\n    prec = sklearn.metrics.precision_score(y_val,yhat_class)\n    recal = sklearn.metrics.recall_score(y_val,yhat_class)\n    recal_k = recall_at_k(data,k)\n    prec_k = precision_at_k(data,k)\n    \n    return pd.DataFrame({'Model Name':model_name,\n                        'Precison':prec,\n                        'Recall':recal,\n                        'k':k,\n                        'Precison at k':prec_k,\n                        'Recall at k':recal_k},index=[0])",
   "execution_count": null,
   "outputs": []
  },
  {
   "cell_type": "code",
   "metadata": {
    "ExecuteTime": {
     "end_time": "2022-09-14T00:49:15.468985Z",
     "start_time": "2022-09-14T00:49:15.436987Z"
    },
    "cell_id": "742c29517f224f6298fe9b0cab0c09de",
    "deepnote_to_be_reexecuted": false,
    "execution_millis": 3,
    "execution_start": 1663115745298,
    "source_hash": "14efc264",
    "tags": [],
    "deepnote_cell_type": "code",
    "deepnote_cell_height": 993.5999755859375
   },
   "source": "def performace_cross_val(data,target,model,model_name,round_n=3,splits=4,shuffle_n=True,random=42,k=2000):\n    \n    import sklearn.model_selection as ms\n    import sklearn.metrics\n    import numpy as np\n    skf = ms.StratifiedKFold(n_splits=splits,shuffle=shuffle_n,random_state=random)\n    X = data\n    y = X[target]\n    X = X.drop(columns=[target,'id'])\n    precision = []\n    recall = []\n    prec_k = []\n    rec_k = []\n    for train_index, test_index in skf.split(X,y):\n        #train the model \n        model.fit(X.iloc[train_index],y.iloc[train_index])\n\n        #predict the classification \n        yhat_class = model.predict( X.iloc[test_index] )\n\n        #predict the probabilit\n        yhat_proba = model.predict_proba(X.iloc[test_index])\n\n        # precision and recall\n        prec = sklearn.metrics.precision_score(y.iloc[test_index],yhat_class)\n        rec = sklearn.metrics.recall_score(y.iloc[test_index],yhat_class)\n        precision.append(prec)\n        recall.append(rec)\n\n        # sort the test dataframe by the probabiliti score of the model\n        aux = X.iloc[test_index]\n        aux[target] = y.iloc[test_index]\n        aux['score'] = yhat_proba[:,1].tolist()\n\n        # sorte by score\n        aux = aux.sort_values('score',ascending=False)\n\n        # precision and recall at k\n        prec_k.append(precision_at_k(aux,k))\n        rec_k.append(recall_at_k(aux,k))\n\n    # return a dataset with the metrics    \n    return pd.DataFrame({'Model name': model_name + \" Cross_Val\",\n                                'PRECISION CROSS_VAL': np.round( np.mean( precision ), round_n ),\n                                'PRECISON STD': np.round( np.std( precision ), round_n ),\n                                'RECALL CROSS_VAL': np.round( np.mean( recall ), round_n ),\n                                'RECALL STD': np.round( np.std( recall ), round_n ),\n                                'K': k,\n                                'PRECISION AT K CROSS_VAL': np.round( np.mean( prec_k ), round_n ),\n                                'PRECISION AT K STD': np.round( np.std( prec_k ), round_n ),\n                                'RECALL AT K CROSS_VAL': np.round( np.mean( rec_k), round_n ),\n                                'RECALL AT K STD': np.round( np.std( rec_k )) },index=[0]) ",
   "execution_count": null,
   "outputs": []
  },
  {
   "cell_type": "markdown",
   "source": "# Load data",
   "metadata": {
    "cell_id": "00007-84180494-931e-413c-ac91-7d9eb41170ee",
    "deepnote_cell_type": "markdown",
    "deepnote_cell_height": 81.60000610351562
   }
  },
  {
   "cell_type": "code",
   "metadata": {
    "ExecuteTime": {
     "end_time": "2022-09-14T00:49:15.977891Z",
     "start_time": "2022-09-14T00:49:15.468985Z"
    },
    "cell_id": "00008-c41e43a5-52c6-4310-9007-b7ae4b5435fa",
    "deepnote_to_be_reexecuted": false,
    "execution_millis": 319,
    "execution_start": 1663115748567,
    "source_hash": "37361c87",
    "deepnote_cell_type": "code",
    "deepnote_cell_height": 75.60000610351562
   },
   "source": "df6 = pd.read_csv('data/df5.csv')",
   "execution_count": null,
   "outputs": []
  },
  {
   "cell_type": "code",
   "metadata": {
    "ExecuteTime": {
     "end_time": "2022-09-14T00:49:16.036629Z",
     "start_time": "2022-09-14T00:49:15.981891Z"
    },
    "cell_id": "00009-51310743-184f-4924-9bd7-bad07ab35a12",
    "deepnote_to_be_reexecuted": false,
    "execution_millis": 78,
    "execution_start": 1663115754551,
    "scrolled": true,
    "source_hash": "8f2e4d8a",
    "deepnote_cell_type": "code",
    "deepnote_cell_height": 266.3999938964844,
    "deepnote_output_heights": [
     175
    ]
   },
   "source": "df6.head()",
   "execution_count": null,
   "outputs": [
    {
     "output_type": "execute_result",
     "execution_count": 8,
     "data": {
      "application/vnd.deepnote.dataframe.v3+json": {
       "column_count": 9,
       "row_count": 5,
       "columns": [
        {
         "name": "id",
         "dtype": "int64",
         "stats": {
          "unique_count": 5,
          "nan_count": 0,
          "min": "1",
          "max": "5",
          "histogram": [
           {
            "bin_start": 1,
            "bin_end": 1.4,
            "count": 1
           },
           {
            "bin_start": 1.4,
            "bin_end": 1.8,
            "count": 0
           },
           {
            "bin_start": 1.8,
            "bin_end": 2.2,
            "count": 1
           },
           {
            "bin_start": 2.2,
            "bin_end": 2.6,
            "count": 0
           },
           {
            "bin_start": 2.6,
            "bin_end": 3,
            "count": 0
           },
           {
            "bin_start": 3,
            "bin_end": 3.4000000000000004,
            "count": 1
           },
           {
            "bin_start": 3.4000000000000004,
            "bin_end": 3.8000000000000003,
            "count": 0
           },
           {
            "bin_start": 3.8000000000000003,
            "bin_end": 4.2,
            "count": 1
           },
           {
            "bin_start": 4.2,
            "bin_end": 4.6,
            "count": 0
           },
           {
            "bin_start": 4.6,
            "bin_end": 5,
            "count": 1
           }
          ]
         }
        },
        {
         "name": "age",
         "dtype": "float64",
         "stats": {
          "unique_count": 5,
          "nan_count": 0,
          "min": "0.0153846153846153",
          "max": "0.8615384615384616",
          "histogram": [
           {
            "bin_start": 0.0153846153846153,
            "bin_end": 0.09999999999999992,
            "count": 1
           },
           {
            "bin_start": 0.09999999999999992,
            "bin_end": 0.18461538461538454,
            "count": 1
           },
           {
            "bin_start": 0.18461538461538454,
            "bin_end": 0.2692307692307691,
            "count": 0
           },
           {
            "bin_start": 0.2692307692307691,
            "bin_end": 0.35384615384615375,
            "count": 0
           },
           {
            "bin_start": 0.35384615384615375,
            "bin_end": 0.4384615384615384,
            "count": 2
           },
           {
            "bin_start": 0.4384615384615384,
            "bin_end": 0.523076923076923,
            "count": 0
           },
           {
            "bin_start": 0.523076923076923,
            "bin_end": 0.6076923076923076,
            "count": 0
           },
           {
            "bin_start": 0.6076923076923076,
            "bin_end": 0.6923076923076923,
            "count": 0
           },
           {
            "bin_start": 0.6923076923076923,
            "bin_end": 0.7769230769230769,
            "count": 0
           },
           {
            "bin_start": 0.7769230769230769,
            "bin_end": 0.8615384615384616,
            "count": 1
           }
          ]
         }
        },
        {
         "name": "region_code",
         "dtype": "float64",
         "stats": {
          "unique_count": 4,
          "nan_count": 0,
          "min": "3.0",
          "max": "41.0",
          "histogram": [
           {
            "bin_start": 3,
            "bin_end": 6.8,
            "count": 1
           },
           {
            "bin_start": 6.8,
            "bin_end": 10.6,
            "count": 0
           },
           {
            "bin_start": 10.6,
            "bin_end": 14.399999999999999,
            "count": 1
           },
           {
            "bin_start": 14.399999999999999,
            "bin_end": 18.2,
            "count": 0
           },
           {
            "bin_start": 18.2,
            "bin_end": 22,
            "count": 0
           },
           {
            "bin_start": 22,
            "bin_end": 25.799999999999997,
            "count": 0
           },
           {
            "bin_start": 25.799999999999997,
            "bin_end": 29.599999999999998,
            "count": 2
           },
           {
            "bin_start": 29.599999999999998,
            "bin_end": 33.4,
            "count": 0
           },
           {
            "bin_start": 33.4,
            "bin_end": 37.199999999999996,
            "count": 0
           },
           {
            "bin_start": 37.199999999999996,
            "bin_end": 41,
            "count": 1
           }
          ]
         }
        },
        {
         "name": "policy_sales_channel",
         "dtype": "float64",
         "stats": {
          "unique_count": 2,
          "nan_count": 0,
          "min": "26.0",
          "max": "152.0",
          "histogram": [
           {
            "bin_start": 26,
            "bin_end": 38.6,
            "count": 3
           },
           {
            "bin_start": 38.6,
            "bin_end": 51.2,
            "count": 0
           },
           {
            "bin_start": 51.2,
            "bin_end": 63.8,
            "count": 0
           },
           {
            "bin_start": 63.8,
            "bin_end": 76.4,
            "count": 0
           },
           {
            "bin_start": 76.4,
            "bin_end": 89,
            "count": 0
           },
           {
            "bin_start": 89,
            "bin_end": 101.6,
            "count": 0
           },
           {
            "bin_start": 101.6,
            "bin_end": 114.2,
            "count": 0
           },
           {
            "bin_start": 114.2,
            "bin_end": 126.8,
            "count": 0
           },
           {
            "bin_start": 126.8,
            "bin_end": 139.39999999999998,
            "count": 0
           },
           {
            "bin_start": 139.39999999999998,
            "bin_end": 152,
            "count": 2
           }
          ]
         }
        },
        {
         "name": "previously_insured",
         "dtype": "int64",
         "stats": {
          "unique_count": 2,
          "nan_count": 0,
          "min": "0",
          "max": "1",
          "histogram": [
           {
            "bin_start": 0,
            "bin_end": 0.1,
            "count": 3
           },
           {
            "bin_start": 0.1,
            "bin_end": 0.2,
            "count": 0
           },
           {
            "bin_start": 0.2,
            "bin_end": 0.30000000000000004,
            "count": 0
           },
           {
            "bin_start": 0.30000000000000004,
            "bin_end": 0.4,
            "count": 0
           },
           {
            "bin_start": 0.4,
            "bin_end": 0.5,
            "count": 0
           },
           {
            "bin_start": 0.5,
            "bin_end": 0.6000000000000001,
            "count": 0
           },
           {
            "bin_start": 0.6000000000000001,
            "bin_end": 0.7000000000000001,
            "count": 0
           },
           {
            "bin_start": 0.7000000000000001,
            "bin_end": 0.8,
            "count": 0
           },
           {
            "bin_start": 0.8,
            "bin_end": 0.9,
            "count": 0
           },
           {
            "bin_start": 0.9,
            "bin_end": 1,
            "count": 2
           }
          ]
         }
        },
        {
         "name": "vintage",
         "dtype": "float64",
         "stats": {
          "unique_count": 5,
          "nan_count": 0,
          "min": "0.0588235294117647",
          "max": "0.7162629757785468",
          "histogram": [
           {
            "bin_start": 0.0588235294117647,
            "bin_end": 0.1245674740484429,
            "count": 2
           },
           {
            "bin_start": 0.1245674740484429,
            "bin_end": 0.1903114186851211,
            "count": 0
           },
           {
            "bin_start": 0.1903114186851211,
            "bin_end": 0.25605536332179935,
            "count": 0
           },
           {
            "bin_start": 0.25605536332179935,
            "bin_end": 0.32179930795847755,
            "count": 0
           },
           {
            "bin_start": 0.32179930795847755,
            "bin_end": 0.38754325259515576,
            "count": 0
           },
           {
            "bin_start": 0.38754325259515576,
            "bin_end": 0.45328719723183397,
            "count": 0
           },
           {
            "bin_start": 0.45328719723183397,
            "bin_end": 0.5190311418685122,
            "count": 0
           },
           {
            "bin_start": 0.5190311418685122,
            "bin_end": 0.5847750865051904,
            "count": 0
           },
           {
            "bin_start": 0.5847750865051904,
            "bin_end": 0.6505190311418686,
            "count": 1
           },
           {
            "bin_start": 0.6505190311418686,
            "bin_end": 0.7162629757785468,
            "count": 2
           }
          ]
         }
        },
        {
         "name": "vehicle_age",
         "dtype": "int64",
         "stats": {
          "unique_count": 3,
          "nan_count": 0,
          "min": "1",
          "max": "3",
          "histogram": [
           {
            "bin_start": 1,
            "bin_end": 1.2,
            "count": 2
           },
           {
            "bin_start": 1.2,
            "bin_end": 1.4,
            "count": 0
           },
           {
            "bin_start": 1.4,
            "bin_end": 1.6,
            "count": 0
           },
           {
            "bin_start": 1.6,
            "bin_end": 1.8,
            "count": 0
           },
           {
            "bin_start": 1.8,
            "bin_end": 2,
            "count": 0
           },
           {
            "bin_start": 2,
            "bin_end": 2.2,
            "count": 1
           },
           {
            "bin_start": 2.2,
            "bin_end": 2.4000000000000004,
            "count": 0
           },
           {
            "bin_start": 2.4000000000000004,
            "bin_end": 2.6,
            "count": 0
           },
           {
            "bin_start": 2.6,
            "bin_end": 2.8,
            "count": 0
           },
           {
            "bin_start": 2.8,
            "bin_end": 3,
            "count": 2
           }
          ]
         }
        },
        {
         "name": "vehicle_damage",
         "dtype": "int64",
         "stats": {
          "unique_count": 2,
          "nan_count": 0,
          "min": "0",
          "max": "1",
          "histogram": [
           {
            "bin_start": 0,
            "bin_end": 0.1,
            "count": 3
           },
           {
            "bin_start": 0.1,
            "bin_end": 0.2,
            "count": 0
           },
           {
            "bin_start": 0.2,
            "bin_end": 0.30000000000000004,
            "count": 0
           },
           {
            "bin_start": 0.30000000000000004,
            "bin_end": 0.4,
            "count": 0
           },
           {
            "bin_start": 0.4,
            "bin_end": 0.5,
            "count": 0
           },
           {
            "bin_start": 0.5,
            "bin_end": 0.6000000000000001,
            "count": 0
           },
           {
            "bin_start": 0.6000000000000001,
            "bin_end": 0.7000000000000001,
            "count": 0
           },
           {
            "bin_start": 0.7000000000000001,
            "bin_end": 0.8,
            "count": 0
           },
           {
            "bin_start": 0.8,
            "bin_end": 0.9,
            "count": 0
           },
           {
            "bin_start": 0.9,
            "bin_end": 1,
            "count": 2
           }
          ]
         }
        },
        {
         "name": "response",
         "dtype": "int64",
         "stats": {
          "unique_count": 2,
          "nan_count": 0,
          "min": "0",
          "max": "1",
          "histogram": [
           {
            "bin_start": 0,
            "bin_end": 0.1,
            "count": 3
           },
           {
            "bin_start": 0.1,
            "bin_end": 0.2,
            "count": 0
           },
           {
            "bin_start": 0.2,
            "bin_end": 0.30000000000000004,
            "count": 0
           },
           {
            "bin_start": 0.30000000000000004,
            "bin_end": 0.4,
            "count": 0
           },
           {
            "bin_start": 0.4,
            "bin_end": 0.5,
            "count": 0
           },
           {
            "bin_start": 0.5,
            "bin_end": 0.6000000000000001,
            "count": 0
           },
           {
            "bin_start": 0.6000000000000001,
            "bin_end": 0.7000000000000001,
            "count": 0
           },
           {
            "bin_start": 0.7000000000000001,
            "bin_end": 0.8,
            "count": 0
           },
           {
            "bin_start": 0.8,
            "bin_end": 0.9,
            "count": 0
           },
           {
            "bin_start": 0.9,
            "bin_end": 1,
            "count": 2
           }
          ]
         }
        },
        {
         "name": "_deepnote_index_column",
         "dtype": "int64"
        }
       ],
       "rows": [
        {
         "id": "1",
         "age": "0.3692307692307693",
         "region_code": "28.0",
         "policy_sales_channel": "26.0",
         "previously_insured": "0",
         "vintage": "0.7162629757785468",
         "vehicle_age": "3",
         "vehicle_damage": "1",
         "response": "1",
         "_deepnote_index_column": "0"
        },
        {
         "id": "2",
         "age": "0.8615384615384616",
         "region_code": "3.0",
         "policy_sales_channel": "26.0",
         "previously_insured": "0",
         "vintage": "0.5986159169550174",
         "vehicle_age": "2",
         "vehicle_damage": "0",
         "response": "0",
         "_deepnote_index_column": "1"
        },
        {
         "id": "3",
         "age": "0.4153846153846154",
         "region_code": "28.0",
         "policy_sales_channel": "26.0",
         "previously_insured": "0",
         "vintage": "0.0588235294117647",
         "vehicle_age": "3",
         "vehicle_damage": "1",
         "response": "1",
         "_deepnote_index_column": "2"
        },
        {
         "id": "4",
         "age": "0.0153846153846153",
         "region_code": "11.0",
         "policy_sales_channel": "152.0",
         "previously_insured": "1",
         "vintage": "0.6678200692041523",
         "vehicle_age": "1",
         "vehicle_damage": "0",
         "response": "0",
         "_deepnote_index_column": "3"
        },
        {
         "id": "5",
         "age": "0.1384615384615384",
         "region_code": "41.0",
         "policy_sales_channel": "152.0",
         "previously_insured": "1",
         "vintage": "0.1003460207612456",
         "vehicle_age": "1",
         "vehicle_damage": "0",
         "response": "0",
         "_deepnote_index_column": "4"
        }
       ]
      },
      "text/plain": "   id       age  region_code  policy_sales_channel  previously_insured  \\\n0   1  0.369231         28.0                  26.0                   0   \n1   2  0.861538          3.0                  26.0                   0   \n2   3  0.415385         28.0                  26.0                   0   \n3   4  0.015385         11.0                 152.0                   1   \n4   5  0.138462         41.0                 152.0                   1   \n\n    vintage  vehicle_age  vehicle_damage  response  \n0  0.716263            3               1         1  \n1  0.598616            2               0         0  \n2  0.058824            3               1         1  \n3  0.667820            1               0         0  \n4  0.100346            1               0         0  ",
      "text/html": "<div>\n<style scoped>\n    .dataframe tbody tr th:only-of-type {\n        vertical-align: middle;\n    }\n\n    .dataframe tbody tr th {\n        vertical-align: top;\n    }\n\n    .dataframe thead th {\n        text-align: right;\n    }\n</style>\n<table border=\"1\" class=\"dataframe\">\n  <thead>\n    <tr style=\"text-align: right;\">\n      <th></th>\n      <th>id</th>\n      <th>age</th>\n      <th>region_code</th>\n      <th>policy_sales_channel</th>\n      <th>previously_insured</th>\n      <th>vintage</th>\n      <th>vehicle_age</th>\n      <th>vehicle_damage</th>\n      <th>response</th>\n    </tr>\n  </thead>\n  <tbody>\n    <tr>\n      <th>0</th>\n      <td>1</td>\n      <td>0.369231</td>\n      <td>28.0</td>\n      <td>26.0</td>\n      <td>0</td>\n      <td>0.716263</td>\n      <td>3</td>\n      <td>1</td>\n      <td>1</td>\n    </tr>\n    <tr>\n      <th>1</th>\n      <td>2</td>\n      <td>0.861538</td>\n      <td>3.0</td>\n      <td>26.0</td>\n      <td>0</td>\n      <td>0.598616</td>\n      <td>2</td>\n      <td>0</td>\n      <td>0</td>\n    </tr>\n    <tr>\n      <th>2</th>\n      <td>3</td>\n      <td>0.415385</td>\n      <td>28.0</td>\n      <td>26.0</td>\n      <td>0</td>\n      <td>0.058824</td>\n      <td>3</td>\n      <td>1</td>\n      <td>1</td>\n    </tr>\n    <tr>\n      <th>3</th>\n      <td>4</td>\n      <td>0.015385</td>\n      <td>11.0</td>\n      <td>152.0</td>\n      <td>1</td>\n      <td>0.667820</td>\n      <td>1</td>\n      <td>0</td>\n      <td>0</td>\n    </tr>\n    <tr>\n      <th>4</th>\n      <td>5</td>\n      <td>0.138462</td>\n      <td>41.0</td>\n      <td>152.0</td>\n      <td>1</td>\n      <td>0.100346</td>\n      <td>1</td>\n      <td>0</td>\n      <td>0</td>\n    </tr>\n  </tbody>\n</table>\n</div>"
     },
     "metadata": {}
    }
   ]
  },
  {
   "cell_type": "code",
   "metadata": {
    "ExecuteTime": {
     "end_time": "2022-09-14T00:49:16.052606Z",
     "start_time": "2022-09-14T00:49:16.036629Z"
    },
    "cell_id": "00010-9bcda57f-6c10-4b76-a917-7cc123ffa627",
    "deepnote_to_be_reexecuted": false,
    "execution_millis": 785,
    "execution_start": 1663075328587,
    "source_hash": "ac6ebbf9",
    "deepnote_cell_type": "code",
    "deepnote_cell_height": 284.3999938964844,
    "deepnote_output_heights": [
     193
    ]
   },
   "source": "df6.dtypes",
   "execution_count": null,
   "outputs": [
    {
     "output_type": "execute_result",
     "execution_count": 9,
     "data": {
      "text/plain": "id                        int64\nage                     float64\nregion_code             float64\npolicy_sales_channel    float64\npreviously_insured        int64\nvintage                 float64\nvehicle_age               int64\nvehicle_damage            int64\nresponse                  int64\ndtype: object"
     },
     "metadata": {}
    }
   ]
  },
  {
   "cell_type": "markdown",
   "source": "## Slipt train test",
   "metadata": {
    "cell_id": "00011-8ade3ecc-bbc3-41e9-a58a-9ed7c892b3e5",
    "deepnote_cell_type": "markdown",
    "deepnote_cell_height": 69.60000610351562
   }
  },
  {
   "cell_type": "code",
   "metadata": {
    "ExecuteTime": {
     "end_time": "2022-09-14T00:49:16.399900Z",
     "start_time": "2022-09-14T00:49:16.052606Z"
    },
    "cell_id": "00014-300c7c0c-ae4e-4c09-82c3-e8890820e92b",
    "deepnote_to_be_reexecuted": false,
    "execution_millis": 167,
    "execution_start": 1663075328588,
    "source_hash": "6fdaa04d",
    "deepnote_cell_type": "code",
    "deepnote_cell_height": 237.60000610351562
   },
   "source": "train, val = train_test_split(df6,test_size=0.3,stratify=df6['response'],random_state=42)\n\n# train dataframes\nX_train = train.copy()\ny_train = X_train['response']\nX_train.drop(columns = ['response','id'],inplace=True)\n# validation dataframes\nx_val = val.copy()\ny_val = val['response']\nx_val.drop(columns = ['response','id'],inplace=True)",
   "execution_count": null,
   "outputs": []
  },
  {
   "cell_type": "markdown",
   "source": "# Machine learning",
   "metadata": {
    "cell_id": "00015-e802f5a4-b869-4d12-8fa2-9235c385383f",
    "deepnote_cell_type": "markdown",
    "deepnote_cell_height": 81.60000610351562
   }
  },
  {
   "cell_type": "markdown",
   "source": "## KNN",
   "metadata": {
    "cell_id": "00016-2a0bce78-f887-46fc-bacb-c84b26d3beda",
    "deepnote_cell_type": "markdown",
    "deepnote_cell_height": 69.60000610351562
   }
  },
  {
   "cell_type": "code",
   "metadata": {
    "ExecuteTime": {
     "end_time": "2022-09-14T00:49:17.585662Z",
     "start_time": "2022-09-14T00:49:16.400769Z"
    },
    "cell_id": "00017-edcd367a-ef36-45f6-b004-e7dfad534627",
    "deepnote_to_be_reexecuted": false,
    "execution_millis": 0,
    "execution_start": 1663115833468,
    "source_hash": "10a81161",
    "deepnote_cell_type": "code",
    "deepnote_cell_height": 222.39999389648438,
    "deepnote_output_heights": [
     59
    ]
   },
   "source": "#model\nknn_model = KNeighborsClassifier(n_neighbors=5)\n\n# model training\nknn_model.fit(X_train,y_train)",
   "execution_count": null,
   "outputs": []
  },
  {
   "cell_type": "code",
   "metadata": {
    "ExecuteTime": {
     "end_time": "2022-09-14T00:50:03.597688Z",
     "start_time": "2022-09-14T00:49:17.585662Z"
    },
    "cell_id": "00018-73123b44-fc09-4483-84e1-8c67af5f6f3a",
    "deepnote_to_be_reexecuted": false,
    "execution_millis": 25512,
    "execution_start": 1663075329189,
    "source_hash": "e479a2c4",
    "deepnote_cell_type": "code",
    "deepnote_cell_height": 147.60000610351562
   },
   "source": "#model prediction proba - poder de generalizção\nyhat_knn_proba = knn_model.predict_proba( x_val )\n\n#model prediction - poder de generalizção\nyhat_knn_class = knn_model.predict( x_val )",
   "execution_count": null,
   "outputs": [
    {
     "name": "stderr",
     "text": "/shared-libs/python3.9/py/lib/python3.9/site-packages/sklearn/neighbors/_classification.py:237: FutureWarning: Unlike other reduction functions (e.g. `skew`, `kurtosis`), the default behavior of `mode` typically preserves the axis it acts along. In SciPy 1.11.0, this behavior will change: the default value of `keepdims` will become False, the `axis` over which the statistic is taken will be eliminated, and the value None will no longer be accepted. Set `keepdims` to True or False to avoid this warning.\n  mode, _ = stats.mode(_y[neigh_ind, k], axis=1)\n",
     "output_type": "stream"
    }
   ]
  },
  {
   "cell_type": "code",
   "metadata": {
    "ExecuteTime": {
     "end_time": "2022-09-14T00:50:04.561801Z",
     "start_time": "2022-09-14T00:50:03.597688Z"
    },
    "cell_id": "00019-287ff93b-6fce-49eb-97a2-4de2942ff0ba",
    "deepnote_to_be_reexecuted": false,
    "execution_millis": 1621,
    "execution_start": 1663075354714,
    "scrolled": false,
    "source_hash": "4922d075",
    "deepnote_cell_type": "code",
    "deepnote_cell_height": 128.39999389648438,
    "deepnote_output_heights": [
     1
    ]
   },
   "source": "fig ,ax = plt.subplots(1,2)\nskplt.metrics.plot_cumulative_gain(y_val,yhat_knn_proba,ax=ax[0]);\nskplt.metrics.plot_lift_curve(y_val,yhat_knn_proba,ax=ax[1]);",
   "execution_count": null,
   "outputs": [
    {
     "data": {
      "text/plain": "<Figure size 1800x864 with 2 Axes>",
      "image/png": "[encoded data removed]"
     },
     "metadata": {
      "image/png": {
       "width": 1454,
       "height": 723
      }
     },
     "output_type": "display_data"
    }
   ]
  },
  {
   "cell_type": "markdown",
   "source": "## Linear model",
   "metadata": {
    "cell_id": "00020-ee979896-bb38-4467-b22e-8003e0d9b462",
    "deepnote_cell_type": "markdown",
    "deepnote_cell_height": 69.60000610351562
   }
  },
  {
   "cell_type": "code",
   "metadata": {
    "ExecuteTime": {
     "end_time": "2022-09-14T00:50:11.112444Z",
     "start_time": "2022-09-14T00:50:04.561801Z"
    },
    "cell_id": "00021-f4bab372-bb15-4b26-a4de-f6769167124c",
    "deepnote_to_be_reexecuted": false,
    "execution_millis": 3,
    "execution_start": 1663115839990,
    "source_hash": "d481df20",
    "deepnote_cell_type": "code",
    "deepnote_cell_height": 168.39999389648438,
    "deepnote_output_heights": [
     59
    ]
   },
   "source": "lm_model = lm.LogisticRegression(random_state=42,n_jobs=-1)\nlm_model.fit(X_train,y_train)",
   "execution_count": null,
   "outputs": []
  },
  {
   "cell_type": "code",
   "metadata": {
    "ExecuteTime": {
     "end_time": "2022-09-14T00:50:11.159313Z",
     "start_time": "2022-09-14T00:50:11.112444Z"
    },
    "cell_id": "00022-3be5e03f-fcad-4558-b5de-952efaf0c41e",
    "deepnote_to_be_reexecuted": false,
    "execution_millis": 102,
    "execution_start": 1663075367316,
    "source_hash": "478f3e19",
    "deepnote_cell_type": "code",
    "deepnote_cell_height": 147.60000610351562
   },
   "source": "#model prediction proba - poder de generalizção\nyhat_lm_proba = lm_model.predict_proba( x_val )\n\n#model prediction - poder de generalizção\nyhat_lm_class = lm_model.predict( x_val )",
   "execution_count": null,
   "outputs": []
  },
  {
   "cell_type": "code",
   "metadata": {
    "ExecuteTime": {
     "end_time": "2022-09-14T00:50:11.876814Z",
     "start_time": "2022-09-14T00:50:11.159313Z"
    },
    "cell_id": "00023-f8e2c4a6-d24d-46f3-b32a-7b23f29db642",
    "deepnote_to_be_reexecuted": false,
    "execution_millis": 932,
    "execution_start": 1663075367501,
    "scrolled": true,
    "source_hash": "cc604100",
    "deepnote_cell_type": "code",
    "deepnote_cell_height": 128.39999389648438,
    "deepnote_output_heights": [
     1
    ]
   },
   "source": "fig ,ax = plt.subplots(1,2)\nskplt.metrics.plot_cumulative_gain(y_val,yhat_lm_proba,ax=ax[0]);\nskplt.metrics.plot_lift_curve(y_val,yhat_lm_proba,ax=ax[1]);",
   "execution_count": null,
   "outputs": [
    {
     "data": {
      "text/plain": "<Figure size 1800x864 with 2 Axes>",
      "image/png": "[encoded data removed]"
     },
     "metadata": {
      "image/png": {
       "width": 1454,
       "height": 723
      }
     },
     "output_type": "display_data"
    }
   ]
  },
  {
   "cell_type": "markdown",
   "source": "## Random forrest classifier",
   "metadata": {
    "cell_id": "00024-ca2a8dd8-8310-48f8-999f-6799c50992ac",
    "deepnote_cell_type": "markdown",
    "deepnote_cell_height": 69.60000610351562
   }
  },
  {
   "cell_type": "code",
   "metadata": {
    "ExecuteTime": {
     "end_time": "2022-09-14T00:52:49.150311Z",
     "start_time": "2022-09-14T00:50:11.876814Z"
    },
    "cell_id": "00025-57c9c35f-0bae-4a9b-898e-e25b1f58e4c5",
    "deepnote_to_be_reexecuted": false,
    "execution_millis": 73481,
    "execution_start": 1663075368252,
    "source_hash": "92259f83",
    "deepnote_cell_type": "code",
    "deepnote_cell_height": 168.39999389648438,
    "deepnote_output_heights": [
     59
    ]
   },
   "source": "rf_model = RandomForestClassifier(n_estimators=1000,random_state=42,n_jobs=-1)\nrf_model.fit(X_train,y_train)",
   "execution_count": null,
   "outputs": [
    {
     "output_type": "execute_result",
     "execution_count": 17,
     "data": {
      "text/plain": "RandomForestClassifier(n_estimators=300, n_jobs=-1, random_state=42)",
      "text/html": "<style>#sk-container-id-3 {color: black;background-color: white;}#sk-container-id-3 pre{padding: 0;}#sk-container-id-3 div.sk-toggleable {background-color: white;}#sk-container-id-3 label.sk-toggleable__label {cursor: pointer;display: block;width: 100%;margin-bottom: 0;padding: 0.3em;box-sizing: border-box;text-align: center;}#sk-container-id-3 label.sk-toggleable__label-arrow:before {content: \"▸\";float: left;margin-right: 0.25em;color: #696969;}#sk-container-id-3 label.sk-toggleable__label-arrow:hover:before {color: black;}#sk-container-id-3 div.sk-estimator:hover label.sk-toggleable__label-arrow:before {color: black;}#sk-container-id-3 div.sk-toggleable__content {max-height: 0;max-width: 0;overflow: hidden;text-align: left;background-color: #f0f8ff;}#sk-container-id-3 div.sk-toggleable__content pre {margin: 0.2em;color: black;border-radius: 0.25em;background-color: #f0f8ff;}#sk-container-id-3 input.sk-toggleable__control:checked~div.sk-toggleable__content {max-height: 200px;max-width: 100%;overflow: auto;}#sk-container-id-3 input.sk-toggleable__control:checked~label.sk-toggleable__label-arrow:before {content: \"▾\";}#sk-container-id-3 div.sk-estimator input.sk-toggleable__control:checked~label.sk-toggleable__label {background-color: #d4ebff;}#sk-container-id-3 div.sk-label input.sk-toggleable__control:checked~label.sk-toggleable__label {background-color: #d4ebff;}#sk-container-id-3 input.sk-hidden--visually {border: 0;clip: rect(1px 1px 1px 1px);clip: rect(1px, 1px, 1px, 1px);height: 1px;margin: -1px;overflow: hidden;padding: 0;position: absolute;width: 1px;}#sk-container-id-3 div.sk-estimator {font-family: monospace;background-color: #f0f8ff;border: 1px dotted black;border-radius: 0.25em;box-sizing: border-box;margin-bottom: 0.5em;}#sk-container-id-3 div.sk-estimator:hover {background-color: #d4ebff;}#sk-container-id-3 div.sk-parallel-item::after {content: \"\";width: 100%;border-bottom: 1px solid gray;flex-grow: 1;}#sk-container-id-3 div.sk-label:hover label.sk-toggleable__label {background-color: #d4ebff;}#sk-container-id-3 div.sk-serial::before {content: \"\";position: absolute;border-left: 1px solid gray;box-sizing: border-box;top: 0;bottom: 0;left: 50%;z-index: 0;}#sk-container-id-3 div.sk-serial {display: flex;flex-direction: column;align-items: center;background-color: white;padding-right: 0.2em;padding-left: 0.2em;position: relative;}#sk-container-id-3 div.sk-item {position: relative;z-index: 1;}#sk-container-id-3 div.sk-parallel {display: flex;align-items: stretch;justify-content: center;background-color: white;position: relative;}#sk-container-id-3 div.sk-item::before, #sk-container-id-3 div.sk-parallel-item::before {content: \"\";position: absolute;border-left: 1px solid gray;box-sizing: border-box;top: 0;bottom: 0;left: 50%;z-index: -1;}#sk-container-id-3 div.sk-parallel-item {display: flex;flex-direction: column;z-index: 1;position: relative;background-color: white;}#sk-container-id-3 div.sk-parallel-item:first-child::after {align-self: flex-end;width: 50%;}#sk-container-id-3 div.sk-parallel-item:last-child::after {align-self: flex-start;width: 50%;}#sk-container-id-3 div.sk-parallel-item:only-child::after {width: 0;}#sk-container-id-3 div.sk-dashed-wrapped {border: 1px dashed gray;margin: 0 0.4em 0.5em 0.4em;box-sizing: border-box;padding-bottom: 0.4em;background-color: white;}#sk-container-id-3 div.sk-label label {font-family: monospace;font-weight: bold;display: inline-block;line-height: 1.2em;}#sk-container-id-3 div.sk-label-container {text-align: center;}#sk-container-id-3 div.sk-container {/* jupyter's `normalize.less` sets `[hidden] { display: none; }` but bootstrap.min.css set `[hidden] { display: none !important; }` so we also need the `!important` here to be able to override the default hidden behavior on the sphinx rendered scikit-learn.org. See: https://github.com/scikit-learn/scikit-learn/issues/21755 */display: inline-block !important;position: relative;}#sk-container-id-3 div.sk-text-repr-fallback {display: none;}</style><div id=\"sk-container-id-3\" class=\"sk-top-container\"><div class=\"sk-text-repr-fallback\"><pre>RandomForestClassifier(n_estimators=300, n_jobs=-1, random_state=42)</pre><b>In a Jupyter environment, please rerun this cell to show the HTML representation or trust the notebook. <br />On GitHub, the HTML representation is unable to render, please try loading this page with nbviewer.org.</b></div><div class=\"sk-container\" hidden><div class=\"sk-item\"><div class=\"sk-estimator sk-toggleable\"><input class=\"sk-toggleable__control sk-hidden--visually\" id=\"sk-estimator-id-3\" type=\"checkbox\" checked><label for=\"sk-estimator-id-3\" class=\"sk-toggleable__label sk-toggleable__label-arrow\">RandomForestClassifier</label><div class=\"sk-toggleable__content\"><pre>RandomForestClassifier(n_estimators=300, n_jobs=-1, random_state=42)</pre></div></div></div></div></div>"
     },
     "metadata": {}
    }
   ]
  },
  {
   "cell_type": "code",
   "metadata": {
    "ExecuteTime": {
     "end_time": "2022-09-14T00:54:00.976287Z",
     "start_time": "2022-09-14T00:52:49.162817Z"
    },
    "cell_id": "00026-f232cb90-923d-453b-9727-a2f224179aa3",
    "deepnote_to_be_reexecuted": false,
    "execution_millis": 18219,
    "execution_start": 1663075441732,
    "source_hash": "5bb0233b",
    "deepnote_cell_type": "code",
    "deepnote_cell_height": 147.60000610351562
   },
   "source": "#model prediction proba - poder de generalizção\nyhat_rf_proba = rf_model.predict_proba( x_val )\n\n#model prediction - poder de generalizção\nyhat_rf_class = rf_model.predict( x_val )",
   "execution_count": null,
   "outputs": []
  },
  {
   "cell_type": "code",
   "metadata": {
    "ExecuteTime": {
     "end_time": "2022-09-14T00:54:03.511273Z",
     "start_time": "2022-09-14T00:54:00.991910Z"
    },
    "cell_id": "00027-fd53a067-8226-4d8a-94f7-400b7890c90d",
    "deepnote_to_be_reexecuted": false,
    "execution_millis": 1539,
    "execution_start": 1663075459955,
    "scrolled": true,
    "source_hash": "d0650421",
    "deepnote_cell_type": "code",
    "deepnote_cell_height": 128.39999389648438,
    "deepnote_output_heights": [
     1
    ]
   },
   "source": "fig ,ax = plt.subplots(1,2)\nskplt.metrics.plot_cumulative_gain(y_val,yhat_rf_proba,ax=ax[0]);\nskplt.metrics.plot_lift_curve(y_val,yhat_rf_proba,ax=ax[1]);",
   "execution_count": null,
   "outputs": [
    {
     "data": {
      "text/plain": "<Figure size 1800x864 with 2 Axes>",
      "image/png": "[encoded data removed]"
     },
     "metadata": {
      "image/png": {
       "width": 1454,
       "height": 723
      }
     },
     "output_type": "display_data"
    }
   ]
  },
  {
   "cell_type": "markdown",
   "source": "## Extratree classifier",
   "metadata": {
    "cell_id": "00028-e34935f1-dd41-4aa6-8221-7a8391895f6c",
    "deepnote_cell_type": "markdown",
    "deepnote_cell_height": 69.60000610351562
   }
  },
  {
   "cell_type": "code",
   "metadata": {
    "ExecuteTime": {
     "end_time": "2022-09-14T00:55:08.828354Z",
     "start_time": "2022-09-14T00:54:03.511273Z"
    },
    "cell_id": "00029-e590be43-30d2-4729-9575-edf6e2e66bb7",
    "deepnote_to_be_reexecuted": false,
    "execution_millis": 7976,
    "execution_start": 1663075460627,
    "source_hash": "808783ba",
    "deepnote_cell_type": "code",
    "deepnote_cell_height": 187.39999389648438,
    "deepnote_output_heights": [
     78
    ]
   },
   "source": "et_model = ExtraTreesClassifier(n_estimators=1000,random_state=42,n_jobs=-1,max_depth=10)\net_model.fit(X_train,y_train)",
   "execution_count": null,
   "outputs": [
    {
     "output_type": "execute_result",
     "execution_count": 20,
     "data": {
      "text/plain": "ExtraTreesClassifier(max_depth=10, n_jobs=-1, random_state=42)",
      "text/html": "<style>#sk-container-id-4 {color: black;background-color: white;}#sk-container-id-4 pre{padding: 0;}#sk-container-id-4 div.sk-toggleable {background-color: white;}#sk-container-id-4 label.sk-toggleable__label {cursor: pointer;display: block;width: 100%;margin-bottom: 0;padding: 0.3em;box-sizing: border-box;text-align: center;}#sk-container-id-4 label.sk-toggleable__label-arrow:before {content: \"▸\";float: left;margin-right: 0.25em;color: #696969;}#sk-container-id-4 label.sk-toggleable__label-arrow:hover:before {color: black;}#sk-container-id-4 div.sk-estimator:hover label.sk-toggleable__label-arrow:before {color: black;}#sk-container-id-4 div.sk-toggleable__content {max-height: 0;max-width: 0;overflow: hidden;text-align: left;background-color: #f0f8ff;}#sk-container-id-4 div.sk-toggleable__content pre {margin: 0.2em;color: black;border-radius: 0.25em;background-color: #f0f8ff;}#sk-container-id-4 input.sk-toggleable__control:checked~div.sk-toggleable__content {max-height: 200px;max-width: 100%;overflow: auto;}#sk-container-id-4 input.sk-toggleable__control:checked~label.sk-toggleable__label-arrow:before {content: \"▾\";}#sk-container-id-4 div.sk-estimator input.sk-toggleable__control:checked~label.sk-toggleable__label {background-color: #d4ebff;}#sk-container-id-4 div.sk-label input.sk-toggleable__control:checked~label.sk-toggleable__label {background-color: #d4ebff;}#sk-container-id-4 input.sk-hidden--visually {border: 0;clip: rect(1px 1px 1px 1px);clip: rect(1px, 1px, 1px, 1px);height: 1px;margin: -1px;overflow: hidden;padding: 0;position: absolute;width: 1px;}#sk-container-id-4 div.sk-estimator {font-family: monospace;background-color: #f0f8ff;border: 1px dotted black;border-radius: 0.25em;box-sizing: border-box;margin-bottom: 0.5em;}#sk-container-id-4 div.sk-estimator:hover {background-color: #d4ebff;}#sk-container-id-4 div.sk-parallel-item::after {content: \"\";width: 100%;border-bottom: 1px solid gray;flex-grow: 1;}#sk-container-id-4 div.sk-label:hover label.sk-toggleable__label {background-color: #d4ebff;}#sk-container-id-4 div.sk-serial::before {content: \"\";position: absolute;border-left: 1px solid gray;box-sizing: border-box;top: 0;bottom: 0;left: 50%;z-index: 0;}#sk-container-id-4 div.sk-serial {display: flex;flex-direction: column;align-items: center;background-color: white;padding-right: 0.2em;padding-left: 0.2em;position: relative;}#sk-container-id-4 div.sk-item {position: relative;z-index: 1;}#sk-container-id-4 div.sk-parallel {display: flex;align-items: stretch;justify-content: center;background-color: white;position: relative;}#sk-container-id-4 div.sk-item::before, #sk-container-id-4 div.sk-parallel-item::before {content: \"\";position: absolute;border-left: 1px solid gray;box-sizing: border-box;top: 0;bottom: 0;left: 50%;z-index: -1;}#sk-container-id-4 div.sk-parallel-item {display: flex;flex-direction: column;z-index: 1;position: relative;background-color: white;}#sk-container-id-4 div.sk-parallel-item:first-child::after {align-self: flex-end;width: 50%;}#sk-container-id-4 div.sk-parallel-item:last-child::after {align-self: flex-start;width: 50%;}#sk-container-id-4 div.sk-parallel-item:only-child::after {width: 0;}#sk-container-id-4 div.sk-dashed-wrapped {border: 1px dashed gray;margin: 0 0.4em 0.5em 0.4em;box-sizing: border-box;padding-bottom: 0.4em;background-color: white;}#sk-container-id-4 div.sk-label label {font-family: monospace;font-weight: bold;display: inline-block;line-height: 1.2em;}#sk-container-id-4 div.sk-label-container {text-align: center;}#sk-container-id-4 div.sk-container {/* jupyter's `normalize.less` sets `[hidden] { display: none; }` but bootstrap.min.css set `[hidden] { display: none !important; }` so we also need the `!important` here to be able to override the default hidden behavior on the sphinx rendered scikit-learn.org. See: https://github.com/scikit-learn/scikit-learn/issues/21755 */display: inline-block !important;position: relative;}#sk-container-id-4 div.sk-text-repr-fallback {display: none;}</style><div id=\"sk-container-id-4\" class=\"sk-top-container\"><div class=\"sk-text-repr-fallback\"><pre>ExtraTreesClassifier(max_depth=10, n_jobs=-1, random_state=42)</pre><b>In a Jupyter environment, please rerun this cell to show the HTML representation or trust the notebook. <br />On GitHub, the HTML representation is unable to render, please try loading this page with nbviewer.org.</b></div><div class=\"sk-container\" hidden><div class=\"sk-item\"><div class=\"sk-estimator sk-toggleable\"><input class=\"sk-toggleable__control sk-hidden--visually\" id=\"sk-estimator-id-4\" type=\"checkbox\" checked><label for=\"sk-estimator-id-4\" class=\"sk-toggleable__label sk-toggleable__label-arrow\">ExtraTreesClassifier</label><div class=\"sk-toggleable__content\"><pre>ExtraTreesClassifier(max_depth=10, n_jobs=-1, random_state=42)</pre></div></div></div></div></div>"
     },
     "metadata": {}
    }
   ]
  },
  {
   "cell_type": "code",
   "metadata": {
    "ExecuteTime": {
     "end_time": "2022-09-14T00:55:20.170181Z",
     "start_time": "2022-09-14T00:55:08.830385Z"
    },
    "cell_id": "00030-7d26fbc0-c61f-4321-a96b-e8a0ce64c60c",
    "deepnote_to_be_reexecuted": false,
    "execution_millis": 2246,
    "execution_start": 1663075468610,
    "source_hash": "dcc23347",
    "deepnote_cell_type": "code",
    "deepnote_cell_height": 147.60000610351562
   },
   "source": "#model prediction proba - poder de generalizção\nyhat_et_proba = et_model.predict_proba( x_val )\n\n#model prediction - poder de generalizção\nyhat_et_class = et_model.predict( x_val )",
   "execution_count": null,
   "outputs": []
  },
  {
   "cell_type": "code",
   "metadata": {
    "ExecuteTime": {
     "end_time": "2022-09-14T00:55:21.326223Z",
     "start_time": "2022-09-14T00:55:20.172204Z"
    },
    "cell_id": "00031-5b456b84-3792-42d6-8c91-c99e792bf168",
    "deepnote_to_be_reexecuted": false,
    "execution_millis": 664,
    "execution_start": 1663075470860,
    "scrolled": true,
    "source_hash": "d18b4278",
    "deepnote_cell_type": "code",
    "deepnote_cell_height": 128.39999389648438,
    "deepnote_output_heights": [
     1
    ]
   },
   "source": "fig ,ax = plt.subplots(1,2)\nskplt.metrics.plot_cumulative_gain(y_val,yhat_et_proba,ax=ax[0]);\nskplt.metrics.plot_lift_curve(y_val,yhat_et_proba,ax=ax[1]);",
   "execution_count": null,
   "outputs": [
    {
     "data": {
      "text/plain": "<Figure size 1800x864 with 2 Axes>",
      "image/png": "[encoded data removed]"
     },
     "metadata": {
      "image/png": {
       "width": 1454,
       "height": 723
      }
     },
     "output_type": "display_data"
    }
   ]
  },
  {
   "cell_type": "markdown",
   "source": "## XGBoost",
   "metadata": {
    "cell_id": "00032-05e3d8ce-6628-4b64-8481-e513b51e0439",
    "deepnote_cell_type": "markdown",
    "deepnote_cell_height": 69.60000610351562
   }
  },
  {
   "cell_type": "code",
   "metadata": {
    "ExecuteTime": {
     "end_time": "2022-09-14T00:59:07.442747Z",
     "start_time": "2022-09-14T00:55:21.398850Z"
    },
    "cell_id": "00033-51b3229f-cf51-4b33-a8d2-4333b9435c2e",
    "deepnote_to_be_reexecuted": false,
    "execution_millis": 339660,
    "execution_start": 1663075471521,
    "source_hash": "57151775",
    "deepnote_cell_type": "code",
    "deepnote_cell_height": 165.60000610351562
   },
   "source": "xgb_model = xgb.XGBClassifier(objective='reg:squarederror',\n                             n_estimators=1000,\n                             eta=0.01,\n                             max_depth=10,\n                             subsample=0.7,\n                             colsample_bytree=0.9).fit(X_train,y_train)",
   "execution_count": null,
   "outputs": []
  },
  {
   "cell_type": "code",
   "metadata": {
    "ExecuteTime": {
     "end_time": "2022-09-14T00:59:13.991859Z",
     "start_time": "2022-09-14T00:59:07.442747Z"
    },
    "cell_id": "00034-2cda73e1-1a7f-487b-8561-c94ba23f24d7",
    "deepnote_to_be_reexecuted": false,
    "execution_millis": 17732,
    "execution_start": 1663075811185,
    "source_hash": "d5fa6e95",
    "deepnote_cell_type": "code",
    "deepnote_cell_height": 147.60000610351562
   },
   "source": "#model prediction proba - poder de generalizção\nyhat_xgb_proba = xgb_model.predict_proba( x_val )\n\n#model prediction - poder de generalizção\nyhat_xgb_class = xgb_model.predict( x_val )",
   "execution_count": null,
   "outputs": []
  },
  {
   "cell_type": "code",
   "metadata": {
    "ExecuteTime": {
     "end_time": "2022-09-14T00:59:14.705142Z",
     "start_time": "2022-09-14T00:59:13.993872Z"
    },
    "cell_id": "00035-4ecf6a99-50af-4a0c-bd4e-61325abf311c",
    "deepnote_to_be_reexecuted": false,
    "execution_millis": 829,
    "execution_start": 1663075828920,
    "source_hash": "221f8686",
    "deepnote_cell_type": "code",
    "deepnote_cell_height": 128.39999389648438,
    "deepnote_output_heights": [
     1
    ]
   },
   "source": "fig ,ax = plt.subplots(1,2)\nskplt.metrics.plot_cumulative_gain(y_val,yhat_xgb_proba,ax=ax[0]);\nskplt.metrics.plot_lift_curve(y_val,yhat_xgb_proba,ax=ax[1]);",
   "execution_count": null,
   "outputs": [
    {
     "data": {
      "text/plain": "<Figure size 1800x864 with 2 Axes>",
      "image/png": "[encoded data removed]"
     },
     "metadata": {
      "image/png": {
       "width": 1454,
       "height": 723
      }
     },
     "output_type": "display_data"
    }
   ]
  },
  {
   "cell_type": "markdown",
   "source": "# Model performace ",
   "metadata": {
    "cell_id": "00036-e6b2d869-4189-43cf-8f7e-6c63eee6eba7",
    "deepnote_cell_type": "markdown",
    "deepnote_cell_height": 81.60000610351562
   }
  },
  {
   "cell_type": "code",
   "metadata": {
    "ExecuteTime": {
     "end_time": "2022-09-14T00:59:14.736386Z",
     "start_time": "2022-09-14T00:59:14.705142Z"
    },
    "cell_id": "00037-ec461c44-3aac-4dc3-9f36-550ab0bb9f98",
    "deepnote_to_be_reexecuted": false,
    "execution_millis": 19,
    "execution_start": 1663075829696,
    "source_hash": "5100a059",
    "deepnote_cell_type": "code",
    "deepnote_cell_height": 75.60000610351562
   },
   "source": "clients = 20000",
   "execution_count": null,
   "outputs": []
  },
  {
   "cell_type": "markdown",
   "source": "## KNN",
   "metadata": {
    "cell_id": "00038-0f6c4694-3c8c-4bdd-bf62-e373191bfd4e",
    "deepnote_cell_type": "markdown",
    "deepnote_cell_height": 69.60000610351562
   }
  },
  {
   "cell_type": "code",
   "metadata": {
    "ExecuteTime": {
     "end_time": "2022-09-14T00:59:14.821293Z",
     "start_time": "2022-09-14T00:59:14.736386Z"
    },
    "cell_id": "00039-5c151074-e16d-42d9-96a7-69a4ee7c2be3",
    "deepnote_to_be_reexecuted": false,
    "execution_millis": 0,
    "execution_start": 1663075829716,
    "source_hash": "62e7a121",
    "deepnote_cell_type": "code",
    "deepnote_cell_height": 75.60000610351562
   },
   "source": "knn_df = val.copy()",
   "execution_count": null,
   "outputs": []
  },
  {
   "cell_type": "code",
   "metadata": {
    "ExecuteTime": {
     "end_time": "2022-09-14T00:59:14.969045Z",
     "start_time": "2022-09-14T00:59:14.821293Z"
    },
    "cell_id": "00040-7e8456a4-922d-489f-81b0-ec1da174bbac",
    "deepnote_to_be_reexecuted": false,
    "execution_millis": 37,
    "execution_start": 1663075829721,
    "source_hash": "c91651cb",
    "deepnote_cell_type": "code",
    "deepnote_cell_height": 111.60000610351562
   },
   "source": "knn_df['score_knn'] = yhat_knn_proba[:,1].tolist()\n# sorte by score\nknn_df = knn_df.sort_values('score_knn',ascending=False)",
   "execution_count": null,
   "outputs": []
  },
  {
   "cell_type": "code",
   "metadata": {
    "ExecuteTime": {
     "end_time": "2022-09-14T00:59:15.053163Z",
     "start_time": "2022-09-14T00:59:14.969045Z"
    },
    "cell_id": "00041-e8751d43-0672-4296-9375-d4fd533622a1",
    "deepnote_to_be_reexecuted": false,
    "execution_millis": 65,
    "execution_start": 1663075829763,
    "source_hash": "241cdc53",
    "deepnote_cell_type": "code",
    "deepnote_cell_height": 266.3999938964844,
    "deepnote_output_heights": [
     175
    ]
   },
   "source": "knn_df.head()",
   "execution_count": null,
   "outputs": [
    {
     "output_type": "execute_result",
     "execution_count": 29,
     "data": {
      "application/vnd.deepnote.dataframe.v3+json": {
       "column_count": 10,
       "row_count": 5,
       "columns": [
        {
         "name": "id",
         "dtype": "int64",
         "stats": {
          "unique_count": 5,
          "nan_count": 0,
          "min": "66092",
          "max": "378904",
          "histogram": [
           {
            "bin_start": 66092,
            "bin_end": 97373.2,
            "count": 1
           },
           {
            "bin_start": 97373.2,
            "bin_end": 128654.4,
            "count": 0
           },
           {
            "bin_start": 128654.4,
            "bin_end": 159935.6,
            "count": 0
           },
           {
            "bin_start": 159935.6,
            "bin_end": 191216.8,
            "count": 0
           },
           {
            "bin_start": 191216.8,
            "bin_end": 222498,
            "count": 1
           },
           {
            "bin_start": 222498,
            "bin_end": 253779.2,
            "count": 1
           },
           {
            "bin_start": 253779.2,
            "bin_end": 285060.4,
            "count": 0
           },
           {
            "bin_start": 285060.4,
            "bin_end": 316341.6,
            "count": 0
           },
           {
            "bin_start": 316341.6,
            "bin_end": 347622.8,
            "count": 0
           },
           {
            "bin_start": 347622.8,
            "bin_end": 378904,
            "count": 2
           }
          ]
         }
        },
        {
         "name": "age",
         "dtype": "float64",
         "stats": {
          "unique_count": 3,
          "nan_count": 0,
          "min": "0.1538461538461538",
          "max": "0.3692307692307693",
          "histogram": [
           {
            "bin_start": 0.1538461538461538,
            "bin_end": 0.17538461538461536,
            "count": 3
           },
           {
            "bin_start": 0.17538461538461536,
            "bin_end": 0.1969230769230769,
            "count": 0
           },
           {
            "bin_start": 0.1969230769230769,
            "bin_end": 0.21846153846153846,
            "count": 0
           },
           {
            "bin_start": 0.21846153846153846,
            "bin_end": 0.24,
            "count": 0
           },
           {
            "bin_start": 0.24,
            "bin_end": 0.26153846153846155,
            "count": 0
           },
           {
            "bin_start": 0.26153846153846155,
            "bin_end": 0.2830769230769231,
            "count": 0
           },
           {
            "bin_start": 0.2830769230769231,
            "bin_end": 0.3046153846153846,
            "count": 0
           },
           {
            "bin_start": 0.3046153846153846,
            "bin_end": 0.32615384615384624,
            "count": 0
           },
           {
            "bin_start": 0.32615384615384624,
            "bin_end": 0.34769230769230774,
            "count": 1
           },
           {
            "bin_start": 0.34769230769230774,
            "bin_end": 0.3692307692307693,
            "count": 1
           }
          ]
         }
        },
        {
         "name": "region_code",
         "dtype": "float64",
         "stats": {
          "unique_count": 5,
          "nan_count": 0,
          "min": "3.0",
          "max": "43.0",
          "histogram": [
           {
            "bin_start": 3,
            "bin_end": 7,
            "count": 1
           },
           {
            "bin_start": 7,
            "bin_end": 11,
            "count": 0
           },
           {
            "bin_start": 11,
            "bin_end": 15,
            "count": 0
           },
           {
            "bin_start": 15,
            "bin_end": 19,
            "count": 0
           },
           {
            "bin_start": 19,
            "bin_end": 23,
            "count": 0
           },
           {
            "bin_start": 23,
            "bin_end": 27,
            "count": 0
           },
           {
            "bin_start": 27,
            "bin_end": 31,
            "count": 2
           },
           {
            "bin_start": 31,
            "bin_end": 35,
            "count": 1
           },
           {
            "bin_start": 35,
            "bin_end": 39,
            "count": 0
           },
           {
            "bin_start": 39,
            "bin_end": 43,
            "count": 1
           }
          ]
         }
        },
        {
         "name": "policy_sales_channel",
         "dtype": "float64",
         "stats": {
          "unique_count": 3,
          "nan_count": 0,
          "min": "26.0",
          "max": "155.0",
          "histogram": [
           {
            "bin_start": 26,
            "bin_end": 38.9,
            "count": 1
           },
           {
            "bin_start": 38.9,
            "bin_end": 51.8,
            "count": 0
           },
           {
            "bin_start": 51.8,
            "bin_end": 64.7,
            "count": 0
           },
           {
            "bin_start": 64.7,
            "bin_end": 77.6,
            "count": 0
           },
           {
            "bin_start": 77.6,
            "bin_end": 90.5,
            "count": 0
           },
           {
            "bin_start": 90.5,
            "bin_end": 103.4,
            "count": 0
           },
           {
            "bin_start": 103.4,
            "bin_end": 116.3,
            "count": 0
           },
           {
            "bin_start": 116.3,
            "bin_end": 129.2,
            "count": 3
           },
           {
            "bin_start": 129.2,
            "bin_end": 142.10000000000002,
            "count": 0
           },
           {
            "bin_start": 142.10000000000002,
            "bin_end": 155,
            "count": 1
           }
          ]
         }
        },
        {
         "name": "previously_insured",
         "dtype": "int64",
         "stats": {
          "unique_count": 1,
          "nan_count": 0,
          "min": "0",
          "max": "0",
          "histogram": [
           {
            "bin_start": -0.5,
            "bin_end": -0.4,
            "count": 0
           },
           {
            "bin_start": -0.4,
            "bin_end": -0.3,
            "count": 0
           },
           {
            "bin_start": -0.3,
            "bin_end": -0.19999999999999996,
            "count": 0
           },
           {
            "bin_start": -0.19999999999999996,
            "bin_end": -0.09999999999999998,
            "count": 0
           },
           {
            "bin_start": -0.09999999999999998,
            "bin_end": 0,
            "count": 0
           },
           {
            "bin_start": 0,
            "bin_end": 0.10000000000000009,
            "count": 5
           },
           {
            "bin_start": 0.10000000000000009,
            "bin_end": 0.20000000000000007,
            "count": 0
           },
           {
            "bin_start": 0.20000000000000007,
            "bin_end": 0.30000000000000004,
            "count": 0
           },
           {
            "bin_start": 0.30000000000000004,
            "bin_end": 0.4,
            "count": 0
           },
           {
            "bin_start": 0.4,
            "bin_end": 0.5,
            "count": 0
           }
          ]
         }
        },
        {
         "name": "vintage",
         "dtype": "float64",
         "stats": {
          "unique_count": 5,
          "nan_count": 0,
          "min": "0.0588235294117647",
          "max": "0.944636678200692",
          "histogram": [
           {
            "bin_start": 0.0588235294117647,
            "bin_end": 0.14740484429065742,
            "count": 1
           },
           {
            "bin_start": 0.14740484429065742,
            "bin_end": 0.23598615916955015,
            "count": 1
           },
           {
            "bin_start": 0.23598615916955015,
            "bin_end": 0.3245674740484429,
            "count": 0
           },
           {
            "bin_start": 0.3245674740484429,
            "bin_end": 0.41314878892733564,
            "count": 0
           },
           {
            "bin_start": 0.41314878892733564,
            "bin_end": 0.5017301038062284,
            "count": 0
           },
           {
            "bin_start": 0.5017301038062284,
            "bin_end": 0.590311418685121,
            "count": 0
           },
           {
            "bin_start": 0.590311418685121,
            "bin_end": 0.6788927335640138,
            "count": 0
           },
           {
            "bin_start": 0.6788927335640138,
            "bin_end": 0.7674740484429066,
            "count": 0
           },
           {
            "bin_start": 0.7674740484429066,
            "bin_end": 0.8560553633217993,
            "count": 2
           },
           {
            "bin_start": 0.8560553633217993,
            "bin_end": 0.944636678200692,
            "count": 1
           }
          ]
         }
        },
        {
         "name": "vehicle_age",
         "dtype": "int64",
         "stats": {
          "unique_count": 3,
          "nan_count": 0,
          "min": "1",
          "max": "3",
          "histogram": [
           {
            "bin_start": 1,
            "bin_end": 1.2,
            "count": 2
           },
           {
            "bin_start": 1.2,
            "bin_end": 1.4,
            "count": 0
           },
           {
            "bin_start": 1.4,
            "bin_end": 1.6,
            "count": 0
           },
           {
            "bin_start": 1.6,
            "bin_end": 1.8,
            "count": 0
           },
           {
            "bin_start": 1.8,
            "bin_end": 2,
            "count": 0
           },
           {
            "bin_start": 2,
            "bin_end": 2.2,
            "count": 2
           },
           {
            "bin_start": 2.2,
            "bin_end": 2.4000000000000004,
            "count": 0
           },
           {
            "bin_start": 2.4000000000000004,
            "bin_end": 2.6,
            "count": 0
           },
           {
            "bin_start": 2.6,
            "bin_end": 2.8,
            "count": 0
           },
           {
            "bin_start": 2.8,
            "bin_end": 3,
            "count": 1
           }
          ]
         }
        },
        {
         "name": "vehicle_damage",
         "dtype": "int64",
         "stats": {
          "unique_count": 1,
          "nan_count": 0,
          "min": "1",
          "max": "1",
          "histogram": [
           {
            "bin_start": 0.5,
            "bin_end": 0.6,
            "count": 0
           },
           {
            "bin_start": 0.6,
            "bin_end": 0.7,
            "count": 0
           },
           {
            "bin_start": 0.7,
            "bin_end": 0.8,
            "count": 0
           },
           {
            "bin_start": 0.8,
            "bin_end": 0.9,
            "count": 0
           },
           {
            "bin_start": 0.9,
            "bin_end": 1,
            "count": 0
           },
           {
            "bin_start": 1,
            "bin_end": 1.1,
            "count": 5
           },
           {
            "bin_start": 1.1,
            "bin_end": 1.2000000000000002,
            "count": 0
           },
           {
            "bin_start": 1.2000000000000002,
            "bin_end": 1.3,
            "count": 0
           },
           {
            "bin_start": 1.3,
            "bin_end": 1.4,
            "count": 0
           },
           {
            "bin_start": 1.4,
            "bin_end": 1.5,
            "count": 0
           }
          ]
         }
        },
        {
         "name": "response",
         "dtype": "int64",
         "stats": {
          "unique_count": 1,
          "nan_count": 0,
          "min": "0",
          "max": "0",
          "histogram": [
           {
            "bin_start": -0.5,
            "bin_end": -0.4,
            "count": 0
           },
           {
            "bin_start": -0.4,
            "bin_end": -0.3,
            "count": 0
           },
           {
            "bin_start": -0.3,
            "bin_end": -0.19999999999999996,
            "count": 0
           },
           {
            "bin_start": -0.19999999999999996,
            "bin_end": -0.09999999999999998,
            "count": 0
           },
           {
            "bin_start": -0.09999999999999998,
            "bin_end": 0,
            "count": 0
           },
           {
            "bin_start": 0,
            "bin_end": 0.10000000000000009,
            "count": 5
           },
           {
            "bin_start": 0.10000000000000009,
            "bin_end": 0.20000000000000007,
            "count": 0
           },
           {
            "bin_start": 0.20000000000000007,
            "bin_end": 0.30000000000000004,
            "count": 0
           },
           {
            "bin_start": 0.30000000000000004,
            "bin_end": 0.4,
            "count": 0
           },
           {
            "bin_start": 0.4,
            "bin_end": 0.5,
            "count": 0
           }
          ]
         }
        },
        {
         "name": "score_knn",
         "dtype": "float64",
         "stats": {
          "unique_count": 1,
          "nan_count": 0,
          "min": "1.0",
          "max": "1.0",
          "histogram": [
           {
            "bin_start": 0.5,
            "bin_end": 0.6,
            "count": 0
           },
           {
            "bin_start": 0.6,
            "bin_end": 0.7,
            "count": 0
           },
           {
            "bin_start": 0.7,
            "bin_end": 0.8,
            "count": 0
           },
           {
            "bin_start": 0.8,
            "bin_end": 0.9,
            "count": 0
           },
           {
            "bin_start": 0.9,
            "bin_end": 1,
            "count": 0
           },
           {
            "bin_start": 1,
            "bin_end": 1.1,
            "count": 5
           },
           {
            "bin_start": 1.1,
            "bin_end": 1.2000000000000002,
            "count": 0
           },
           {
            "bin_start": 1.2000000000000002,
            "bin_end": 1.3,
            "count": 0
           },
           {
            "bin_start": 1.3,
            "bin_end": 1.4,
            "count": 0
           },
           {
            "bin_start": 1.4,
            "bin_end": 1.5,
            "count": 0
           }
          ]
         }
        },
        {
         "name": "_deepnote_index_column",
         "dtype": "int64"
        }
       ],
       "rows": [
        {
         "id": "194784",
         "age": "0.1538461538461538",
         "region_code": "43.0",
         "policy_sales_channel": "155.0",
         "previously_insured": "0",
         "vintage": "0.7785467128027682",
         "vehicle_age": "2",
         "vehicle_damage": "1",
         "response": "0",
         "score_knn": "1.0",
         "_deepnote_index_column": "194783"
        },
        {
         "id": "235907",
         "age": "0.1538461538461538",
         "region_code": "33.0",
         "policy_sales_channel": "124.0",
         "previously_insured": "0",
         "vintage": "0.0588235294117647",
         "vehicle_age": "1",
         "vehicle_damage": "1",
         "response": "0",
         "score_knn": "1.0",
         "_deepnote_index_column": "235906"
        },
        {
         "id": "66092",
         "age": "0.3692307692307693",
         "region_code": "28.0",
         "policy_sales_channel": "26.0",
         "previously_insured": "0",
         "vintage": "0.944636678200692",
         "vehicle_age": "3",
         "vehicle_damage": "1",
         "response": "0",
         "score_knn": "1.0",
         "_deepnote_index_column": "66091"
        },
        {
         "id": "364419",
         "age": "0.3384615384615385",
         "region_code": "30.0",
         "policy_sales_channel": "124.0",
         "previously_insured": "0",
         "vintage": "0.8269896193771626",
         "vehicle_age": "2",
         "vehicle_damage": "1",
         "response": "0",
         "score_knn": "1.0",
         "_deepnote_index_column": "364418"
        },
        {
         "id": "378904",
         "age": "0.1538461538461538",
         "region_code": "3.0",
         "policy_sales_channel": "124.0",
         "previously_insured": "0",
         "vintage": "0.1903114186851211",
         "vehicle_age": "1",
         "vehicle_damage": "1",
         "response": "0",
         "score_knn": "1.0",
         "_deepnote_index_column": "378903"
        }
       ]
      },
      "text/plain": "            id       age  region_code  policy_sales_channel  \\\n194783  194784  0.153846         43.0                 155.0   \n235906  235907  0.153846         33.0                 124.0   \n66091    66092  0.369231         28.0                  26.0   \n364418  364419  0.338462         30.0                 124.0   \n378903  378904  0.153846          3.0                 124.0   \n\n        previously_insured   vintage  vehicle_age  vehicle_damage  response  \\\n194783                   0  0.778547            2               1         0   \n235906                   0  0.058824            1               1         0   \n66091                    0  0.944637            3               1         0   \n364418                   0  0.826990            2               1         0   \n378903                   0  0.190311            1               1         0   \n\n        score_knn  \n194783        1.0  \n235906        1.0  \n66091         1.0  \n364418        1.0  \n378903        1.0  ",
      "text/html": "<div>\n<style scoped>\n    .dataframe tbody tr th:only-of-type {\n        vertical-align: middle;\n    }\n\n    .dataframe tbody tr th {\n        vertical-align: top;\n    }\n\n    .dataframe thead th {\n        text-align: right;\n    }\n</style>\n<table border=\"1\" class=\"dataframe\">\n  <thead>\n    <tr style=\"text-align: right;\">\n      <th></th>\n      <th>id</th>\n      <th>age</th>\n      <th>region_code</th>\n      <th>policy_sales_channel</th>\n      <th>previously_insured</th>\n      <th>vintage</th>\n      <th>vehicle_age</th>\n      <th>vehicle_damage</th>\n      <th>response</th>\n      <th>score_knn</th>\n    </tr>\n  </thead>\n  <tbody>\n    <tr>\n      <th>194783</th>\n      <td>194784</td>\n      <td>0.153846</td>\n      <td>43.0</td>\n      <td>155.0</td>\n      <td>0</td>\n      <td>0.778547</td>\n      <td>2</td>\n      <td>1</td>\n      <td>0</td>\n      <td>1.0</td>\n    </tr>\n    <tr>\n      <th>235906</th>\n      <td>235907</td>\n      <td>0.153846</td>\n      <td>33.0</td>\n      <td>124.0</td>\n      <td>0</td>\n      <td>0.058824</td>\n      <td>1</td>\n      <td>1</td>\n      <td>0</td>\n      <td>1.0</td>\n    </tr>\n    <tr>\n      <th>66091</th>\n      <td>66092</td>\n      <td>0.369231</td>\n      <td>28.0</td>\n      <td>26.0</td>\n      <td>0</td>\n      <td>0.944637</td>\n      <td>3</td>\n      <td>1</td>\n      <td>0</td>\n      <td>1.0</td>\n    </tr>\n    <tr>\n      <th>364418</th>\n      <td>364419</td>\n      <td>0.338462</td>\n      <td>30.0</td>\n      <td>124.0</td>\n      <td>0</td>\n      <td>0.826990</td>\n      <td>2</td>\n      <td>1</td>\n      <td>0</td>\n      <td>1.0</td>\n    </tr>\n    <tr>\n      <th>378903</th>\n      <td>378904</td>\n      <td>0.153846</td>\n      <td>3.0</td>\n      <td>124.0</td>\n      <td>0</td>\n      <td>0.190311</td>\n      <td>1</td>\n      <td>1</td>\n      <td>0</td>\n      <td>1.0</td>\n    </tr>\n  </tbody>\n</table>\n</div>"
     },
     "metadata": {}
    }
   ]
  },
  {
   "cell_type": "code",
   "metadata": {
    "ExecuteTime": {
     "end_time": "2022-09-14T00:59:15.439180Z",
     "start_time": "2022-09-14T00:59:15.053163Z"
    },
    "cell_id": "00042-a4d1060d-fe1e-40e6-8483-840387e9ff97",
    "deepnote_to_be_reexecuted": false,
    "execution_millis": 92,
    "execution_start": 1663075829826,
    "source_hash": "cc0a5808",
    "deepnote_cell_type": "code",
    "deepnote_cell_height": 75.60000610351562
   },
   "source": "knn_performace = performace(\"KNN\",knn_df,y_val,yhat_knn_class,clients)",
   "execution_count": null,
   "outputs": []
  },
  {
   "cell_type": "code",
   "metadata": {
    "ExecuteTime": {
     "end_time": "2022-09-14T00:59:15.469825Z",
     "start_time": "2022-09-14T00:59:15.439180Z"
    },
    "cell_id": "00043-522682fb-0425-405c-9e4f-a84fe3f921d2",
    "deepnote_to_be_reexecuted": false,
    "execution_millis": 46,
    "execution_start": 1663075829921,
    "source_hash": "2a4b12ec",
    "deepnote_cell_type": "code",
    "deepnote_cell_height": 150.39999389648438,
    "deepnote_output_heights": [
     59
    ]
   },
   "source": "knn_performace",
   "execution_count": null,
   "outputs": [
    {
     "output_type": "execute_result",
     "execution_count": 31,
     "data": {
      "application/vnd.deepnote.dataframe.v3+json": {
       "column_count": 6,
       "row_count": 1,
       "columns": [
        {
         "name": "Model Name",
         "dtype": "object",
         "stats": {
          "unique_count": 1,
          "nan_count": 0,
          "categories": [
           {
            "name": "KNN",
            "count": 1
           }
          ]
         }
        },
        {
         "name": "Precison",
         "dtype": "float64",
         "stats": {
          "unique_count": 1,
          "nan_count": 0,
          "min": "0.3390610201596536",
          "max": "0.3390610201596536",
          "histogram": [
           {
            "bin_start": -0.16093897984034639,
            "bin_end": -0.06093897984034638,
            "count": 0
           },
           {
            "bin_start": -0.06093897984034638,
            "bin_end": 0.039061020159653626,
            "count": 0
           },
           {
            "bin_start": 0.039061020159653626,
            "bin_end": 0.13906102015965366,
            "count": 0
           },
           {
            "bin_start": 0.13906102015965366,
            "bin_end": 0.23906102015965364,
            "count": 0
           },
           {
            "bin_start": 0.23906102015965364,
            "bin_end": 0.3390610201596536,
            "count": 0
           },
           {
            "bin_start": 0.3390610201596536,
            "bin_end": 0.4390610201596537,
            "count": 1
           },
           {
            "bin_start": 0.4390610201596537,
            "bin_end": 0.5390610201596537,
            "count": 0
           },
           {
            "bin_start": 0.5390610201596537,
            "bin_end": 0.6390610201596536,
            "count": 0
           },
           {
            "bin_start": 0.6390610201596536,
            "bin_end": 0.7390610201596537,
            "count": 0
           },
           {
            "bin_start": 0.7390610201596537,
            "bin_end": 0.8390610201596536,
            "count": 0
           }
          ]
         }
        },
        {
         "name": "Recall",
         "dtype": "float64",
         "stats": {
          "unique_count": 1,
          "nan_count": 0,
          "min": "0.17883393991293797",
          "max": "0.17883393991293797",
          "histogram": [
           {
            "bin_start": -0.32116606008706206,
            "bin_end": -0.22116606008706205,
            "count": 0
           },
           {
            "bin_start": -0.22116606008706205,
            "bin_end": -0.12116606008706204,
            "count": 0
           },
           {
            "bin_start": -0.12116606008706204,
            "bin_end": -0.02116606008706201,
            "count": 0
           },
           {
            "bin_start": -0.02116606008706201,
            "bin_end": 0.07883393991293797,
            "count": 0
           },
           {
            "bin_start": 0.07883393991293797,
            "bin_end": 0.17883393991293794,
            "count": 0
           },
           {
            "bin_start": 0.17883393991293794,
            "bin_end": 0.27883393991293803,
            "count": 1
           },
           {
            "bin_start": 0.27883393991293803,
            "bin_end": 0.378833939912938,
            "count": 0
           },
           {
            "bin_start": 0.378833939912938,
            "bin_end": 0.478833939912938,
            "count": 0
           },
           {
            "bin_start": 0.478833939912938,
            "bin_end": 0.578833939912938,
            "count": 0
           },
           {
            "bin_start": 0.578833939912938,
            "bin_end": 0.678833939912938,
            "count": 0
           }
          ]
         }
        },
        {
         "name": "k",
         "dtype": "int64",
         "stats": {
          "unique_count": 1,
          "nan_count": 0,
          "min": "20000",
          "max": "20000",
          "histogram": [
           {
            "bin_start": 19999.5,
            "bin_end": 19999.6,
            "count": 0
           },
           {
            "bin_start": 19999.6,
            "bin_end": 19999.7,
            "count": 0
           },
           {
            "bin_start": 19999.7,
            "bin_end": 19999.8,
            "count": 0
           },
           {
            "bin_start": 19999.8,
            "bin_end": 19999.9,
            "count": 0
           },
           {
            "bin_start": 19999.9,
            "bin_end": 20000,
            "count": 0
           },
           {
            "bin_start": 20000,
            "bin_end": 20000.1,
            "count": 1
           },
           {
            "bin_start": 20000.1,
            "bin_end": 20000.2,
            "count": 0
           },
           {
            "bin_start": 20000.2,
            "bin_end": 20000.3,
            "count": 0
           },
           {
            "bin_start": 20000.3,
            "bin_end": 20000.4,
            "count": 0
           },
           {
            "bin_start": 20000.4,
            "bin_end": 20000.5,
            "count": 0
           }
          ]
         }
        },
        {
         "name": "Precison at k",
         "dtype": "float64",
         "stats": {
          "unique_count": 1,
          "nan_count": 0,
          "min": "0.31138443077846106",
          "max": "0.31138443077846106",
          "histogram": [
           {
            "bin_start": -0.18861556922153894,
            "bin_end": -0.08861556922153893,
            "count": 0
           },
           {
            "bin_start": -0.08861556922153893,
            "bin_end": 0.011384430778461074,
            "count": 0
           },
           {
            "bin_start": 0.011384430778461074,
            "bin_end": 0.11138443077846111,
            "count": 0
           },
           {
            "bin_start": 0.11138443077846111,
            "bin_end": 0.21138443077846109,
            "count": 0
           },
           {
            "bin_start": 0.21138443077846109,
            "bin_end": 0.31138443077846106,
            "count": 0
           },
           {
            "bin_start": 0.31138443077846106,
            "bin_end": 0.41138443077846115,
            "count": 1
           },
           {
            "bin_start": 0.41138443077846115,
            "bin_end": 0.5113844307784612,
            "count": 0
           },
           {
            "bin_start": 0.5113844307784612,
            "bin_end": 0.611384430778461,
            "count": 0
           },
           {
            "bin_start": 0.611384430778461,
            "bin_end": 0.7113844307784611,
            "count": 0
           },
           {
            "bin_start": 0.7113844307784611,
            "bin_end": 0.811384430778461,
            "count": 0
           }
          ]
         }
        },
        {
         "name": "Recall at k",
         "dtype": "float64",
         "stats": {
          "unique_count": 1,
          "nan_count": 0,
          "min": "0.4444444444444444",
          "max": "0.4444444444444444",
          "histogram": [
           {
            "bin_start": -0.05555555555555558,
            "bin_end": 0.044444444444444425,
            "count": 0
           },
           {
            "bin_start": 0.044444444444444425,
            "bin_end": 0.14444444444444443,
            "count": 0
           },
           {
            "bin_start": 0.14444444444444443,
            "bin_end": 0.24444444444444446,
            "count": 0
           },
           {
            "bin_start": 0.24444444444444446,
            "bin_end": 0.34444444444444444,
            "count": 0
           },
           {
            "bin_start": 0.34444444444444444,
            "bin_end": 0.4444444444444444,
            "count": 0
           },
           {
            "bin_start": 0.4444444444444444,
            "bin_end": 0.5444444444444445,
            "count": 1
           },
           {
            "bin_start": 0.5444444444444445,
            "bin_end": 0.6444444444444445,
            "count": 0
           },
           {
            "bin_start": 0.6444444444444445,
            "bin_end": 0.7444444444444445,
            "count": 0
           },
           {
            "bin_start": 0.7444444444444445,
            "bin_end": 0.8444444444444444,
            "count": 0
           },
           {
            "bin_start": 0.8444444444444444,
            "bin_end": 0.9444444444444444,
            "count": 0
           }
          ]
         }
        },
        {
         "name": "_deepnote_index_column",
         "dtype": "int64"
        }
       ],
       "rows": [
        {
         "Model Name": "KNN",
         "Precison": "0.3390610201596536",
         "Recall": "0.17883393991293797",
         "k": "20000",
         "Precison at k": "0.31138443077846106",
         "Recall at k": "0.4444444444444444",
         "_deepnote_index_column": "0"
        }
       ]
      },
      "text/plain": "  Model Name  Precison    Recall      k  Precison at k  Recall at k\n0        KNN  0.339061  0.178834  20000       0.311384     0.444444",
      "text/html": "<div>\n<style scoped>\n    .dataframe tbody tr th:only-of-type {\n        vertical-align: middle;\n    }\n\n    .dataframe tbody tr th {\n        vertical-align: top;\n    }\n\n    .dataframe thead th {\n        text-align: right;\n    }\n</style>\n<table border=\"1\" class=\"dataframe\">\n  <thead>\n    <tr style=\"text-align: right;\">\n      <th></th>\n      <th>Model Name</th>\n      <th>Precison</th>\n      <th>Recall</th>\n      <th>k</th>\n      <th>Precison at k</th>\n      <th>Recall at k</th>\n    </tr>\n  </thead>\n  <tbody>\n    <tr>\n      <th>0</th>\n      <td>KNN</td>\n      <td>0.339061</td>\n      <td>0.178834</td>\n      <td>20000</td>\n      <td>0.311384</td>\n      <td>0.444444</td>\n    </tr>\n  </tbody>\n</table>\n</div>"
     },
     "metadata": {}
    }
   ]
  },
  {
   "cell_type": "markdown",
   "source": "## Linear model",
   "metadata": {
    "cell_id": "00044-2f3d17c0-0789-41ee-8b61-32961a365368",
    "deepnote_cell_type": "markdown",
    "deepnote_cell_height": 69.60000610351562
   }
  },
  {
   "cell_type": "code",
   "metadata": {
    "ExecuteTime": {
     "end_time": "2022-09-14T00:59:15.491968Z",
     "start_time": "2022-09-14T00:59:15.469825Z"
    },
    "cell_id": "00045-39b57d7f-fcf5-40c4-9d68-d0ccd1331b48",
    "deepnote_to_be_reexecuted": false,
    "execution_millis": 3,
    "execution_start": 1663075829945,
    "source_hash": "ed4ec854",
    "deepnote_cell_type": "code",
    "deepnote_cell_height": 75.60000610351562
   },
   "source": "lm_df = val.copy()",
   "execution_count": null,
   "outputs": []
  },
  {
   "cell_type": "code",
   "metadata": {
    "ExecuteTime": {
     "end_time": "2022-09-14T00:59:15.570112Z",
     "start_time": "2022-09-14T00:59:15.491968Z"
    },
    "cell_id": "00046-c0b26255-6cd8-4bca-adda-37d36242005c",
    "deepnote_to_be_reexecuted": false,
    "execution_millis": 234,
    "execution_start": 1663075829950,
    "source_hash": "15c9d82a",
    "deepnote_cell_type": "code",
    "deepnote_cell_height": 111.60000610351562
   },
   "source": "lm_df['score_lm'] = yhat_lm_proba[:,1].tolist()\n# sorte by score\nlm_df = lm_df.sort_values('score_lm',ascending=False)",
   "execution_count": null,
   "outputs": []
  },
  {
   "cell_type": "code",
   "metadata": {
    "ExecuteTime": {
     "end_time": "2022-09-14T00:59:15.592284Z",
     "start_time": "2022-09-14T00:59:15.570112Z"
    },
    "cell_id": "00047-12820bf5-37f7-4ff5-916c-96ff096c1932",
    "deepnote_to_be_reexecuted": false,
    "execution_millis": 38,
    "execution_start": 1663075830184,
    "source_hash": "b43de6bd",
    "deepnote_cell_type": "code",
    "deepnote_cell_height": 266.3999938964844,
    "deepnote_output_heights": [
     175
    ]
   },
   "source": "lm_df.head()",
   "execution_count": null,
   "outputs": [
    {
     "output_type": "execute_result",
     "execution_count": 34,
     "data": {
      "application/vnd.deepnote.dataframe.v3+json": {
       "column_count": 10,
       "row_count": 5,
       "columns": [
        {
         "name": "id",
         "dtype": "int64",
         "stats": {
          "unique_count": 5,
          "nan_count": 0,
          "min": "91144",
          "max": "375384",
          "histogram": [
           {
            "bin_start": 91144,
            "bin_end": 119568,
            "count": 1
           },
           {
            "bin_start": 119568,
            "bin_end": 147992,
            "count": 0
           },
           {
            "bin_start": 147992,
            "bin_end": 176416,
            "count": 0
           },
           {
            "bin_start": 176416,
            "bin_end": 204840,
            "count": 0
           },
           {
            "bin_start": 204840,
            "bin_end": 233264,
            "count": 1
           },
           {
            "bin_start": 233264,
            "bin_end": 261688,
            "count": 0
           },
           {
            "bin_start": 261688,
            "bin_end": 290112,
            "count": 0
           },
           {
            "bin_start": 290112,
            "bin_end": 318536,
            "count": 0
           },
           {
            "bin_start": 318536,
            "bin_end": 346960,
            "count": 2
           },
           {
            "bin_start": 346960,
            "bin_end": 375384,
            "count": 1
           }
          ]
         }
        },
        {
         "name": "age",
         "dtype": "float64",
         "stats": {
          "unique_count": 3,
          "nan_count": 0,
          "min": "0.1538461538461538",
          "max": "0.1846153846153846",
          "histogram": [
           {
            "bin_start": 0.1538461538461538,
            "bin_end": 0.1569230769230769,
            "count": 1
           },
           {
            "bin_start": 0.1569230769230769,
            "bin_end": 0.15999999999999995,
            "count": 0
           },
           {
            "bin_start": 0.15999999999999995,
            "bin_end": 0.16307692307692304,
            "count": 0
           },
           {
            "bin_start": 0.16307692307692304,
            "bin_end": 0.16615384615384612,
            "count": 0
           },
           {
            "bin_start": 0.16615384615384612,
            "bin_end": 0.16923076923076918,
            "count": 0
           },
           {
            "bin_start": 0.16923076923076918,
            "bin_end": 0.17230769230769227,
            "count": 1
           },
           {
            "bin_start": 0.17230769230769227,
            "bin_end": 0.17538461538461536,
            "count": 0
           },
           {
            "bin_start": 0.17538461538461536,
            "bin_end": 0.17846153846153845,
            "count": 0
           },
           {
            "bin_start": 0.17846153846153845,
            "bin_end": 0.1815384615384615,
            "count": 0
           },
           {
            "bin_start": 0.1815384615384615,
            "bin_end": 0.1846153846153846,
            "count": 3
           }
          ]
         }
        },
        {
         "name": "region_code",
         "dtype": "float64",
         "stats": {
          "unique_count": 3,
          "nan_count": 0,
          "min": "1.0",
          "max": "28.0",
          "histogram": [
           {
            "bin_start": 1,
            "bin_end": 3.7,
            "count": 1
           },
           {
            "bin_start": 3.7,
            "bin_end": 6.4,
            "count": 0
           },
           {
            "bin_start": 6.4,
            "bin_end": 9.100000000000001,
            "count": 1
           },
           {
            "bin_start": 9.100000000000001,
            "bin_end": 11.8,
            "count": 0
           },
           {
            "bin_start": 11.8,
            "bin_end": 14.5,
            "count": 0
           },
           {
            "bin_start": 14.5,
            "bin_end": 17.200000000000003,
            "count": 0
           },
           {
            "bin_start": 17.200000000000003,
            "bin_end": 19.900000000000002,
            "count": 0
           },
           {
            "bin_start": 19.900000000000002,
            "bin_end": 22.6,
            "count": 0
           },
           {
            "bin_start": 22.6,
            "bin_end": 25.3,
            "count": 0
           },
           {
            "bin_start": 25.3,
            "bin_end": 28,
            "count": 3
           }
          ]
         }
        },
        {
         "name": "policy_sales_channel",
         "dtype": "float64",
         "stats": {
          "unique_count": 2,
          "nan_count": 0,
          "min": "26.0",
          "max": "31.0",
          "histogram": [
           {
            "bin_start": 26,
            "bin_end": 26.5,
            "count": 4
           },
           {
            "bin_start": 26.5,
            "bin_end": 27,
            "count": 0
           },
           {
            "bin_start": 27,
            "bin_end": 27.5,
            "count": 0
           },
           {
            "bin_start": 27.5,
            "bin_end": 28,
            "count": 0
           },
           {
            "bin_start": 28,
            "bin_end": 28.5,
            "count": 0
           },
           {
            "bin_start": 28.5,
            "bin_end": 29,
            "count": 0
           },
           {
            "bin_start": 29,
            "bin_end": 29.5,
            "count": 0
           },
           {
            "bin_start": 29.5,
            "bin_end": 30,
            "count": 0
           },
           {
            "bin_start": 30,
            "bin_end": 30.5,
            "count": 0
           },
           {
            "bin_start": 30.5,
            "bin_end": 31,
            "count": 1
           }
          ]
         }
        },
        {
         "name": "previously_insured",
         "dtype": "int64",
         "stats": {
          "unique_count": 1,
          "nan_count": 0,
          "min": "0",
          "max": "0",
          "histogram": [
           {
            "bin_start": -0.5,
            "bin_end": -0.4,
            "count": 0
           },
           {
            "bin_start": -0.4,
            "bin_end": -0.3,
            "count": 0
           },
           {
            "bin_start": -0.3,
            "bin_end": -0.19999999999999996,
            "count": 0
           },
           {
            "bin_start": -0.19999999999999996,
            "bin_end": -0.09999999999999998,
            "count": 0
           },
           {
            "bin_start": -0.09999999999999998,
            "bin_end": 0,
            "count": 0
           },
           {
            "bin_start": 0,
            "bin_end": 0.10000000000000009,
            "count": 5
           },
           {
            "bin_start": 0.10000000000000009,
            "bin_end": 0.20000000000000007,
            "count": 0
           },
           {
            "bin_start": 0.20000000000000007,
            "bin_end": 0.30000000000000004,
            "count": 0
           },
           {
            "bin_start": 0.30000000000000004,
            "bin_end": 0.4,
            "count": 0
           },
           {
            "bin_start": 0.4,
            "bin_end": 0.5,
            "count": 0
           }
          ]
         }
        },
        {
         "name": "vintage",
         "dtype": "float64",
         "stats": {
          "unique_count": 5,
          "nan_count": 0,
          "min": "0.1418685121107266",
          "max": "0.9792387543252596",
          "histogram": [
           {
            "bin_start": 0.1418685121107266,
            "bin_end": 0.2256055363321799,
            "count": 1
           },
           {
            "bin_start": 0.2256055363321799,
            "bin_end": 0.3093425605536332,
            "count": 0
           },
           {
            "bin_start": 0.3093425605536332,
            "bin_end": 0.39307958477508653,
            "count": 1
           },
           {
            "bin_start": 0.39307958477508653,
            "bin_end": 0.4768166089965398,
            "count": 1
           },
           {
            "bin_start": 0.4768166089965398,
            "bin_end": 0.5605536332179931,
            "count": 0
           },
           {
            "bin_start": 0.5605536332179931,
            "bin_end": 0.6442906574394465,
            "count": 0
           },
           {
            "bin_start": 0.6442906574394465,
            "bin_end": 0.7280276816608997,
            "count": 0
           },
           {
            "bin_start": 0.7280276816608997,
            "bin_end": 0.811764705882353,
            "count": 1
           },
           {
            "bin_start": 0.811764705882353,
            "bin_end": 0.8955017301038064,
            "count": 0
           },
           {
            "bin_start": 0.8955017301038064,
            "bin_end": 0.9792387543252596,
            "count": 1
           }
          ]
         }
        },
        {
         "name": "vehicle_age",
         "dtype": "int64",
         "stats": {
          "unique_count": 1,
          "nan_count": 0,
          "min": "3",
          "max": "3",
          "histogram": [
           {
            "bin_start": 2.5,
            "bin_end": 2.6,
            "count": 0
           },
           {
            "bin_start": 2.6,
            "bin_end": 2.7,
            "count": 0
           },
           {
            "bin_start": 2.7,
            "bin_end": 2.8,
            "count": 0
           },
           {
            "bin_start": 2.8,
            "bin_end": 2.9,
            "count": 0
           },
           {
            "bin_start": 2.9,
            "bin_end": 3,
            "count": 0
           },
           {
            "bin_start": 3,
            "bin_end": 3.1,
            "count": 5
           },
           {
            "bin_start": 3.1,
            "bin_end": 3.2,
            "count": 0
           },
           {
            "bin_start": 3.2,
            "bin_end": 3.3,
            "count": 0
           },
           {
            "bin_start": 3.3,
            "bin_end": 3.4,
            "count": 0
           },
           {
            "bin_start": 3.4,
            "bin_end": 3.5,
            "count": 0
           }
          ]
         }
        },
        {
         "name": "vehicle_damage",
         "dtype": "int64",
         "stats": {
          "unique_count": 1,
          "nan_count": 0,
          "min": "1",
          "max": "1",
          "histogram": [
           {
            "bin_start": 0.5,
            "bin_end": 0.6,
            "count": 0
           },
           {
            "bin_start": 0.6,
            "bin_end": 0.7,
            "count": 0
           },
           {
            "bin_start": 0.7,
            "bin_end": 0.8,
            "count": 0
           },
           {
            "bin_start": 0.8,
            "bin_end": 0.9,
            "count": 0
           },
           {
            "bin_start": 0.9,
            "bin_end": 1,
            "count": 0
           },
           {
            "bin_start": 1,
            "bin_end": 1.1,
            "count": 5
           },
           {
            "bin_start": 1.1,
            "bin_end": 1.2000000000000002,
            "count": 0
           },
           {
            "bin_start": 1.2000000000000002,
            "bin_end": 1.3,
            "count": 0
           },
           {
            "bin_start": 1.3,
            "bin_end": 1.4,
            "count": 0
           },
           {
            "bin_start": 1.4,
            "bin_end": 1.5,
            "count": 0
           }
          ]
         }
        },
        {
         "name": "response",
         "dtype": "int64",
         "stats": {
          "unique_count": 2,
          "nan_count": 0,
          "min": "0",
          "max": "1",
          "histogram": [
           {
            "bin_start": 0,
            "bin_end": 0.1,
            "count": 4
           },
           {
            "bin_start": 0.1,
            "bin_end": 0.2,
            "count": 0
           },
           {
            "bin_start": 0.2,
            "bin_end": 0.30000000000000004,
            "count": 0
           },
           {
            "bin_start": 0.30000000000000004,
            "bin_end": 0.4,
            "count": 0
           },
           {
            "bin_start": 0.4,
            "bin_end": 0.5,
            "count": 0
           },
           {
            "bin_start": 0.5,
            "bin_end": 0.6000000000000001,
            "count": 0
           },
           {
            "bin_start": 0.6000000000000001,
            "bin_end": 0.7000000000000001,
            "count": 0
           },
           {
            "bin_start": 0.7000000000000001,
            "bin_end": 0.8,
            "count": 0
           },
           {
            "bin_start": 0.8,
            "bin_end": 0.9,
            "count": 0
           },
           {
            "bin_start": 0.9,
            "bin_end": 1,
            "count": 1
           }
          ]
         }
        },
        {
         "name": "score_lm",
         "dtype": "float64",
         "stats": {
          "unique_count": 5,
          "nan_count": 0,
          "min": "0.5275307949849593",
          "max": "0.5362469240322407",
          "histogram": [
           {
            "bin_start": 0.5275307949849593,
            "bin_end": 0.5284024078896874,
            "count": 1
           },
           {
            "bin_start": 0.5284024078896874,
            "bin_end": 0.5292740207944155,
            "count": 1
           },
           {
            "bin_start": 0.5292740207944155,
            "bin_end": 0.5301456336991437,
            "count": 1
           },
           {
            "bin_start": 0.5301456336991437,
            "bin_end": 0.5310172466038718,
            "count": 0
           },
           {
            "bin_start": 0.5310172466038718,
            "bin_end": 0.5318888595086,
            "count": 0
           },
           {
            "bin_start": 0.5318888595086,
            "bin_end": 0.5327604724133281,
            "count": 0
           },
           {
            "bin_start": 0.5327604724133281,
            "bin_end": 0.5336320853180563,
            "count": 0
           },
           {
            "bin_start": 0.5336320853180563,
            "bin_end": 0.5345036982227844,
            "count": 0
           },
           {
            "bin_start": 0.5345036982227844,
            "bin_end": 0.5353753111275126,
            "count": 0
           },
           {
            "bin_start": 0.5353753111275126,
            "bin_end": 0.5362469240322407,
            "count": 2
           }
          ]
         }
        },
        {
         "name": "_deepnote_index_column",
         "dtype": "int64"
        }
       ],
       "rows": [
        {
         "id": "205845",
         "age": "0.1692307692307692",
         "region_code": "1.0",
         "policy_sales_channel": "26.0",
         "previously_insured": "0",
         "vintage": "0.3806228373702423",
         "vehicle_age": "3",
         "vehicle_damage": "1",
         "response": "0",
         "score_lm": "0.5362469240322407",
         "_deepnote_index_column": "205844"
        },
        {
         "id": "375384",
         "age": "0.1538461538461538",
         "region_code": "9.0",
         "policy_sales_channel": "31.0",
         "previously_insured": "0",
         "vintage": "0.782006920415225",
         "vehicle_age": "3",
         "vehicle_damage": "1",
         "response": "0",
         "score_lm": "0.5359416533700582",
         "_deepnote_index_column": "375383"
        },
        {
         "id": "334419",
         "age": "0.1846153846153846",
         "region_code": "28.0",
         "policy_sales_channel": "26.0",
         "previously_insured": "0",
         "vintage": "0.1418685121107266",
         "vehicle_age": "3",
         "vehicle_damage": "1",
         "response": "0",
         "score_lm": "0.5297106736500248",
         "_deepnote_index_column": "334418"
        },
        {
         "id": "330639",
         "age": "0.1846153846153846",
         "region_code": "28.0",
         "policy_sales_channel": "26.0",
         "previously_insured": "0",
         "vintage": "0.4325259515570934",
         "vehicle_age": "3",
         "vehicle_damage": "1",
         "response": "1",
         "score_lm": "0.5289541457194417",
         "_deepnote_index_column": "330638"
        },
        {
         "id": "91144",
         "age": "0.1846153846153846",
         "region_code": "28.0",
         "policy_sales_channel": "26.0",
         "previously_insured": "0",
         "vintage": "0.9792387543252596",
         "vehicle_age": "3",
         "vehicle_damage": "1",
         "response": "0",
         "score_lm": "0.5275307949849593",
         "_deepnote_index_column": "91143"
        }
       ]
      },
      "text/plain": "            id       age  region_code  policy_sales_channel  \\\n205844  205845  0.169231          1.0                  26.0   \n375383  375384  0.153846          9.0                  31.0   \n334418  334419  0.184615         28.0                  26.0   \n330638  330639  0.184615         28.0                  26.0   \n91143    91144  0.184615         28.0                  26.0   \n\n        previously_insured   vintage  vehicle_age  vehicle_damage  response  \\\n205844                   0  0.380623            3               1         0   \n375383                   0  0.782007            3               1         0   \n334418                   0  0.141869            3               1         0   \n330638                   0  0.432526            3               1         1   \n91143                    0  0.979239            3               1         0   \n\n        score_lm  \n205844  0.536247  \n375383  0.535942  \n334418  0.529711  \n330638  0.528954  \n91143   0.527531  ",
      "text/html": "<div>\n<style scoped>\n    .dataframe tbody tr th:only-of-type {\n        vertical-align: middle;\n    }\n\n    .dataframe tbody tr th {\n        vertical-align: top;\n    }\n\n    .dataframe thead th {\n        text-align: right;\n    }\n</style>\n<table border=\"1\" class=\"dataframe\">\n  <thead>\n    <tr style=\"text-align: right;\">\n      <th></th>\n      <th>id</th>\n      <th>age</th>\n      <th>region_code</th>\n      <th>policy_sales_channel</th>\n      <th>previously_insured</th>\n      <th>vintage</th>\n      <th>vehicle_age</th>\n      <th>vehicle_damage</th>\n      <th>response</th>\n      <th>score_lm</th>\n    </tr>\n  </thead>\n  <tbody>\n    <tr>\n      <th>205844</th>\n      <td>205845</td>\n      <td>0.169231</td>\n      <td>1.0</td>\n      <td>26.0</td>\n      <td>0</td>\n      <td>0.380623</td>\n      <td>3</td>\n      <td>1</td>\n      <td>0</td>\n      <td>0.536247</td>\n    </tr>\n    <tr>\n      <th>375383</th>\n      <td>375384</td>\n      <td>0.153846</td>\n      <td>9.0</td>\n      <td>31.0</td>\n      <td>0</td>\n      <td>0.782007</td>\n      <td>3</td>\n      <td>1</td>\n      <td>0</td>\n      <td>0.535942</td>\n    </tr>\n    <tr>\n      <th>334418</th>\n      <td>334419</td>\n      <td>0.184615</td>\n      <td>28.0</td>\n      <td>26.0</td>\n      <td>0</td>\n      <td>0.141869</td>\n      <td>3</td>\n      <td>1</td>\n      <td>0</td>\n      <td>0.529711</td>\n    </tr>\n    <tr>\n      <th>330638</th>\n      <td>330639</td>\n      <td>0.184615</td>\n      <td>28.0</td>\n      <td>26.0</td>\n      <td>0</td>\n      <td>0.432526</td>\n      <td>3</td>\n      <td>1</td>\n      <td>1</td>\n      <td>0.528954</td>\n    </tr>\n    <tr>\n      <th>91143</th>\n      <td>91144</td>\n      <td>0.184615</td>\n      <td>28.0</td>\n      <td>26.0</td>\n      <td>0</td>\n      <td>0.979239</td>\n      <td>3</td>\n      <td>1</td>\n      <td>0</td>\n      <td>0.527531</td>\n    </tr>\n  </tbody>\n</table>\n</div>"
     },
     "metadata": {}
    }
   ]
  },
  {
   "cell_type": "code",
   "metadata": {
    "ExecuteTime": {
     "end_time": "2022-09-14T00:59:15.708803Z",
     "start_time": "2022-09-14T00:59:15.592284Z"
    },
    "cell_id": "00048-3d7d9cfb-03f2-495f-832d-e177a6440a73",
    "deepnote_to_be_reexecuted": false,
    "execution_millis": 0,
    "execution_start": 1663075830185,
    "source_hash": "ff62ee21",
    "deepnote_cell_type": "code",
    "deepnote_cell_height": 75.60000610351562
   },
   "source": "lm_performace = performace(\"linear model\",lm_df,y_val,yhat_lm_class,clients)",
   "execution_count": null,
   "outputs": []
  },
  {
   "cell_type": "code",
   "metadata": {
    "ExecuteTime": {
     "end_time": "2022-09-14T00:59:15.770696Z",
     "start_time": "2022-09-14T00:59:15.708803Z"
    },
    "cell_id": "00049-08cc8e3d-0ea6-406e-985f-9e0b1ad313bd",
    "deepnote_to_be_reexecuted": false,
    "execution_millis": 39,
    "execution_start": 1663075830185,
    "scrolled": true,
    "source_hash": "6f0100eb",
    "deepnote_cell_type": "code",
    "deepnote_cell_height": 150.39999389648438,
    "deepnote_output_heights": [
     59
    ]
   },
   "source": "lm_performace",
   "execution_count": null,
   "outputs": [
    {
     "output_type": "execute_result",
     "execution_count": 36,
     "data": {
      "application/vnd.deepnote.dataframe.v3+json": {
       "column_count": 6,
       "row_count": 1,
       "columns": [
        {
         "name": "Model Name",
         "dtype": "object",
         "stats": {
          "unique_count": 1,
          "nan_count": 0,
          "categories": [
           {
            "name": "linear model",
            "count": 1
           }
          ]
         }
        },
        {
         "name": "Precison",
         "dtype": "float64",
         "stats": {
          "unique_count": 1,
          "nan_count": 0,
          "min": "0.4576271186440678",
          "max": "0.4576271186440678",
          "histogram": [
           {
            "bin_start": -0.0423728813559322,
            "bin_end": 0.057627118644067804,
            "count": 0
           },
           {
            "bin_start": 0.057627118644067804,
            "bin_end": 0.1576271186440678,
            "count": 0
           },
           {
            "bin_start": 0.1576271186440678,
            "bin_end": 0.25762711864406784,
            "count": 0
           },
           {
            "bin_start": 0.25762711864406784,
            "bin_end": 0.3576271186440678,
            "count": 0
           },
           {
            "bin_start": 0.3576271186440678,
            "bin_end": 0.4576271186440678,
            "count": 0
           },
           {
            "bin_start": 0.4576271186440678,
            "bin_end": 0.5576271186440679,
            "count": 1
           },
           {
            "bin_start": 0.5576271186440679,
            "bin_end": 0.6576271186440679,
            "count": 0
           },
           {
            "bin_start": 0.6576271186440679,
            "bin_end": 0.7576271186440678,
            "count": 0
           },
           {
            "bin_start": 0.7576271186440678,
            "bin_end": 0.8576271186440678,
            "count": 0
           },
           {
            "bin_start": 0.8576271186440678,
            "bin_end": 0.9576271186440678,
            "count": 0
           }
          ]
         }
        },
        {
         "name": "Recall",
         "dtype": "float64",
         "stats": {
          "unique_count": 1,
          "nan_count": 0,
          "min": "0.0019267822736030828",
          "max": "0.0019267822736030828",
          "histogram": [
           {
            "bin_start": -0.4980732177263969,
            "bin_end": -0.3980732177263969,
            "count": 0
           },
           {
            "bin_start": -0.3980732177263969,
            "bin_end": -0.2980732177263969,
            "count": 0
           },
           {
            "bin_start": -0.2980732177263969,
            "bin_end": -0.19807321772639686,
            "count": 0
           },
           {
            "bin_start": -0.19807321772639686,
            "bin_end": -0.09807321772639688,
            "count": 0
           },
           {
            "bin_start": -0.09807321772639688,
            "bin_end": 0.0019267822736031004,
            "count": 1
           },
           {
            "bin_start": 0.0019267822736031004,
            "bin_end": 0.10192678227360319,
            "count": 0
           },
           {
            "bin_start": 0.10192678227360319,
            "bin_end": 0.20192678227360317,
            "count": 0
           },
           {
            "bin_start": 0.20192678227360317,
            "bin_end": 0.30192678227360314,
            "count": 0
           },
           {
            "bin_start": 0.30192678227360314,
            "bin_end": 0.4019267822736031,
            "count": 0
           },
           {
            "bin_start": 0.4019267822736031,
            "bin_end": 0.5019267822736031,
            "count": 0
           }
          ]
         }
        },
        {
         "name": "k",
         "dtype": "int64",
         "stats": {
          "unique_count": 1,
          "nan_count": 0,
          "min": "20000",
          "max": "20000",
          "histogram": [
           {
            "bin_start": 19999.5,
            "bin_end": 19999.6,
            "count": 0
           },
           {
            "bin_start": 19999.6,
            "bin_end": 19999.7,
            "count": 0
           },
           {
            "bin_start": 19999.7,
            "bin_end": 19999.8,
            "count": 0
           },
           {
            "bin_start": 19999.8,
            "bin_end": 19999.9,
            "count": 0
           },
           {
            "bin_start": 19999.9,
            "bin_end": 20000,
            "count": 0
           },
           {
            "bin_start": 20000,
            "bin_end": 20000.1,
            "count": 1
           },
           {
            "bin_start": 20000.1,
            "bin_end": 20000.2,
            "count": 0
           },
           {
            "bin_start": 20000.2,
            "bin_end": 20000.3,
            "count": 0
           },
           {
            "bin_start": 20000.3,
            "bin_end": 20000.4,
            "count": 0
           },
           {
            "bin_start": 20000.4,
            "bin_end": 20000.5,
            "count": 0
           }
          ]
         }
        },
        {
         "name": "Precison at k",
         "dtype": "float64",
         "stats": {
          "unique_count": 1,
          "nan_count": 0,
          "min": "0.33093345332733365",
          "max": "0.33093345332733365",
          "histogram": [
           {
            "bin_start": -0.16906654667266635,
            "bin_end": -0.06906654667266635,
            "count": 0
           },
           {
            "bin_start": -0.06906654667266635,
            "bin_end": 0.03093345332733366,
            "count": 0
           },
           {
            "bin_start": 0.03093345332733366,
            "bin_end": 0.1309334533273337,
            "count": 0
           },
           {
            "bin_start": 0.1309334533273337,
            "bin_end": 0.23093345332733367,
            "count": 0
           },
           {
            "bin_start": 0.23093345332733367,
            "bin_end": 0.33093345332733365,
            "count": 0
           },
           {
            "bin_start": 0.33093345332733365,
            "bin_end": 0.43093345332733374,
            "count": 1
           },
           {
            "bin_start": 0.43093345332733374,
            "bin_end": 0.5309334533273338,
            "count": 0
           },
           {
            "bin_start": 0.5309334533273338,
            "bin_end": 0.6309334533273336,
            "count": 0
           },
           {
            "bin_start": 0.6309334533273336,
            "bin_end": 0.7309334533273337,
            "count": 0
           },
           {
            "bin_start": 0.7309334533273337,
            "bin_end": 0.8309334533273336,
            "count": 0
           }
          ]
         }
        },
        {
         "name": "Recall at k",
         "dtype": "float64",
         "stats": {
          "unique_count": 1,
          "nan_count": 0,
          "min": "0.47234710625847426",
          "max": "0.47234710625847426",
          "histogram": [
           {
            "bin_start": -0.02765289374152574,
            "bin_end": 0.07234710625847426,
            "count": 0
           },
           {
            "bin_start": 0.07234710625847426,
            "bin_end": 0.17234710625847427,
            "count": 0
           },
           {
            "bin_start": 0.17234710625847427,
            "bin_end": 0.2723471062584743,
            "count": 0
           },
           {
            "bin_start": 0.2723471062584743,
            "bin_end": 0.3723471062584743,
            "count": 0
           },
           {
            "bin_start": 0.3723471062584743,
            "bin_end": 0.47234710625847426,
            "count": 0
           },
           {
            "bin_start": 0.47234710625847426,
            "bin_end": 0.5723471062584744,
            "count": 1
           },
           {
            "bin_start": 0.5723471062584744,
            "bin_end": 0.6723471062584743,
            "count": 0
           },
           {
            "bin_start": 0.6723471062584743,
            "bin_end": 0.7723471062584744,
            "count": 0
           },
           {
            "bin_start": 0.7723471062584744,
            "bin_end": 0.8723471062584742,
            "count": 0
           },
           {
            "bin_start": 0.8723471062584742,
            "bin_end": 0.9723471062584743,
            "count": 0
           }
          ]
         }
        },
        {
         "name": "_deepnote_index_column",
         "dtype": "int64"
        }
       ],
       "rows": [
        {
         "Model Name": "linear model",
         "Precison": "0.4576271186440678",
         "Recall": "0.0019267822736030828",
         "k": "20000",
         "Precison at k": "0.33093345332733365",
         "Recall at k": "0.47234710625847426",
         "_deepnote_index_column": "0"
        }
       ]
      },
      "text/plain": "     Model Name  Precison    Recall      k  Precison at k  Recall at k\n0  linear model  0.457627  0.001927  20000       0.330933     0.472347",
      "text/html": "<div>\n<style scoped>\n    .dataframe tbody tr th:only-of-type {\n        vertical-align: middle;\n    }\n\n    .dataframe tbody tr th {\n        vertical-align: top;\n    }\n\n    .dataframe thead th {\n        text-align: right;\n    }\n</style>\n<table border=\"1\" class=\"dataframe\">\n  <thead>\n    <tr style=\"text-align: right;\">\n      <th></th>\n      <th>Model Name</th>\n      <th>Precison</th>\n      <th>Recall</th>\n      <th>k</th>\n      <th>Precison at k</th>\n      <th>Recall at k</th>\n    </tr>\n  </thead>\n  <tbody>\n    <tr>\n      <th>0</th>\n      <td>linear model</td>\n      <td>0.457627</td>\n      <td>0.001927</td>\n      <td>20000</td>\n      <td>0.330933</td>\n      <td>0.472347</td>\n    </tr>\n  </tbody>\n</table>\n</div>"
     },
     "metadata": {}
    }
   ]
  },
  {
   "cell_type": "markdown",
   "source": "## Randon forrest",
   "metadata": {
    "cell_id": "00050-e6b0f135-4fa7-4b06-a9fa-c2951bd5e88a",
    "deepnote_cell_type": "markdown",
    "deepnote_cell_height": 69.60000610351562
   }
  },
  {
   "cell_type": "code",
   "metadata": {
    "ExecuteTime": {
     "end_time": "2022-09-14T00:59:15.793431Z",
     "start_time": "2022-09-14T00:59:15.770696Z"
    },
    "cell_id": "00051-69a2972c-6073-4c73-9495-c75f08b585c8",
    "deepnote_to_be_reexecuted": false,
    "execution_millis": 0,
    "execution_start": 1663075830194,
    "source_hash": "a252b339",
    "deepnote_cell_type": "code",
    "deepnote_cell_height": 75.60000610351562
   },
   "source": "rf_df = val.copy()",
   "execution_count": null,
   "outputs": []
  },
  {
   "cell_type": "code",
   "metadata": {
    "ExecuteTime": {
     "end_time": "2022-09-14T00:59:15.893104Z",
     "start_time": "2022-09-14T00:59:15.793431Z"
    },
    "cell_id": "00052-9a1a2149-e455-4660-94b7-ada3a784b077",
    "deepnote_to_be_reexecuted": false,
    "execution_millis": 84,
    "execution_start": 1663075830194,
    "source_hash": "e6544e31",
    "deepnote_cell_type": "code",
    "deepnote_cell_height": 111.60000610351562
   },
   "source": "rf_df['score_rf'] = yhat_rf_proba[:,1].tolist()\n# sorte by score\nrf_df = rf_df.sort_values('score_rf',ascending=False)",
   "execution_count": null,
   "outputs": []
  },
  {
   "cell_type": "code",
   "metadata": {
    "ExecuteTime": {
     "end_time": "2022-09-14T00:59:15.924365Z",
     "start_time": "2022-09-14T00:59:15.893104Z"
    },
    "cell_id": "00053-ae3f04e1-419b-417a-ad20-8d95a50b4d38",
    "deepnote_to_be_reexecuted": false,
    "execution_millis": 16,
    "execution_start": 1663075830278,
    "scrolled": true,
    "source_hash": "46481eba",
    "deepnote_cell_type": "code",
    "deepnote_cell_height": 266.3999938964844,
    "deepnote_output_heights": [
     175
    ]
   },
   "source": "rf_df.head()",
   "execution_count": null,
   "outputs": [
    {
     "output_type": "execute_result",
     "execution_count": 39,
     "data": {
      "application/vnd.deepnote.dataframe.v3+json": {
       "column_count": 10,
       "row_count": 5,
       "columns": [
        {
         "name": "id",
         "dtype": "int64",
         "stats": {
          "unique_count": 5,
          "nan_count": 0,
          "min": "72982",
          "max": "336025",
          "histogram": [
           {
            "bin_start": 72982,
            "bin_end": 99286.3,
            "count": 1
           },
           {
            "bin_start": 99286.3,
            "bin_end": 125590.6,
            "count": 1
           },
           {
            "bin_start": 125590.6,
            "bin_end": 151894.9,
            "count": 0
           },
           {
            "bin_start": 151894.9,
            "bin_end": 178199.2,
            "count": 0
           },
           {
            "bin_start": 178199.2,
            "bin_end": 204503.5,
            "count": 1
           },
           {
            "bin_start": 204503.5,
            "bin_end": 230807.8,
            "count": 1
           },
           {
            "bin_start": 230807.8,
            "bin_end": 257112.1,
            "count": 0
           },
           {
            "bin_start": 257112.1,
            "bin_end": 283416.4,
            "count": 0
           },
           {
            "bin_start": 283416.4,
            "bin_end": 309720.69999999995,
            "count": 0
           },
           {
            "bin_start": 309720.69999999995,
            "bin_end": 336025,
            "count": 1
           }
          ]
         }
        },
        {
         "name": "age",
         "dtype": "float64",
         "stats": {
          "unique_count": 3,
          "nan_count": 0,
          "min": "0.1538461538461538",
          "max": "0.3846153846153846",
          "histogram": [
           {
            "bin_start": 0.1538461538461538,
            "bin_end": 0.17692307692307688,
            "count": 1
           },
           {
            "bin_start": 0.17692307692307688,
            "bin_end": 0.19999999999999996,
            "count": 0
           },
           {
            "bin_start": 0.19999999999999996,
            "bin_end": 0.22307692307692303,
            "count": 0
           },
           {
            "bin_start": 0.22307692307692303,
            "bin_end": 0.2461538461538461,
            "count": 0
           },
           {
            "bin_start": 0.2461538461538461,
            "bin_end": 0.26923076923076916,
            "count": 0
           },
           {
            "bin_start": 0.26923076923076916,
            "bin_end": 0.29230769230769227,
            "count": 0
           },
           {
            "bin_start": 0.29230769230769227,
            "bin_end": 0.3153846153846154,
            "count": 0
           },
           {
            "bin_start": 0.3153846153846154,
            "bin_end": 0.3384615384615384,
            "count": 0
           },
           {
            "bin_start": 0.3384615384615384,
            "bin_end": 0.3615384615384615,
            "count": 0
           },
           {
            "bin_start": 0.3615384615384615,
            "bin_end": 0.3846153846153846,
            "count": 4
           }
          ]
         }
        },
        {
         "name": "region_code",
         "dtype": "float64",
         "stats": {
          "unique_count": 1,
          "nan_count": 0,
          "min": "28.0",
          "max": "28.0",
          "histogram": [
           {
            "bin_start": 27.5,
            "bin_end": 27.6,
            "count": 0
           },
           {
            "bin_start": 27.6,
            "bin_end": 27.7,
            "count": 0
           },
           {
            "bin_start": 27.7,
            "bin_end": 27.8,
            "count": 0
           },
           {
            "bin_start": 27.8,
            "bin_end": 27.9,
            "count": 0
           },
           {
            "bin_start": 27.9,
            "bin_end": 28,
            "count": 0
           },
           {
            "bin_start": 28,
            "bin_end": 28.1,
            "count": 5
           },
           {
            "bin_start": 28.1,
            "bin_end": 28.2,
            "count": 0
           },
           {
            "bin_start": 28.2,
            "bin_end": 28.3,
            "count": 0
           },
           {
            "bin_start": 28.3,
            "bin_end": 28.4,
            "count": 0
           },
           {
            "bin_start": 28.4,
            "bin_end": 28.5,
            "count": 0
           }
          ]
         }
        },
        {
         "name": "policy_sales_channel",
         "dtype": "float64",
         "stats": {
          "unique_count": 1,
          "nan_count": 0,
          "min": "26.0",
          "max": "26.0",
          "histogram": [
           {
            "bin_start": 25.5,
            "bin_end": 25.6,
            "count": 0
           },
           {
            "bin_start": 25.6,
            "bin_end": 25.7,
            "count": 0
           },
           {
            "bin_start": 25.7,
            "bin_end": 25.8,
            "count": 0
           },
           {
            "bin_start": 25.8,
            "bin_end": 25.9,
            "count": 0
           },
           {
            "bin_start": 25.9,
            "bin_end": 26,
            "count": 0
           },
           {
            "bin_start": 26,
            "bin_end": 26.1,
            "count": 5
           },
           {
            "bin_start": 26.1,
            "bin_end": 26.2,
            "count": 0
           },
           {
            "bin_start": 26.2,
            "bin_end": 26.3,
            "count": 0
           },
           {
            "bin_start": 26.3,
            "bin_end": 26.4,
            "count": 0
           },
           {
            "bin_start": 26.4,
            "bin_end": 26.5,
            "count": 0
           }
          ]
         }
        },
        {
         "name": "previously_insured",
         "dtype": "int64",
         "stats": {
          "unique_count": 1,
          "nan_count": 0,
          "min": "0",
          "max": "0",
          "histogram": [
           {
            "bin_start": -0.5,
            "bin_end": -0.4,
            "count": 0
           },
           {
            "bin_start": -0.4,
            "bin_end": -0.3,
            "count": 0
           },
           {
            "bin_start": -0.3,
            "bin_end": -0.19999999999999996,
            "count": 0
           },
           {
            "bin_start": -0.19999999999999996,
            "bin_end": -0.09999999999999998,
            "count": 0
           },
           {
            "bin_start": -0.09999999999999998,
            "bin_end": 0,
            "count": 0
           },
           {
            "bin_start": 0,
            "bin_end": 0.10000000000000009,
            "count": 5
           },
           {
            "bin_start": 0.10000000000000009,
            "bin_end": 0.20000000000000007,
            "count": 0
           },
           {
            "bin_start": 0.20000000000000007,
            "bin_end": 0.30000000000000004,
            "count": 0
           },
           {
            "bin_start": 0.30000000000000004,
            "bin_end": 0.4,
            "count": 0
           },
           {
            "bin_start": 0.4,
            "bin_end": 0.5,
            "count": 0
           }
          ]
         }
        },
        {
         "name": "vintage",
         "dtype": "float64",
         "stats": {
          "unique_count": 3,
          "nan_count": 0,
          "min": "0.1626297577854671",
          "max": "0.8512110726643599",
          "histogram": [
           {
            "bin_start": 0.1626297577854671,
            "bin_end": 0.2314878892733564,
            "count": 1
           },
           {
            "bin_start": 0.2314878892733564,
            "bin_end": 0.30034602076124567,
            "count": 0
           },
           {
            "bin_start": 0.30034602076124567,
            "bin_end": 0.36920415224913494,
            "count": 0
           },
           {
            "bin_start": 0.36920415224913494,
            "bin_end": 0.43806228373702427,
            "count": 0
           },
           {
            "bin_start": 0.43806228373702427,
            "bin_end": 0.5069204152249135,
            "count": 0
           },
           {
            "bin_start": 0.5069204152249135,
            "bin_end": 0.5757785467128028,
            "count": 0
           },
           {
            "bin_start": 0.5757785467128028,
            "bin_end": 0.6446366782006921,
            "count": 0
           },
           {
            "bin_start": 0.6446366782006921,
            "bin_end": 0.7134948096885814,
            "count": 3
           },
           {
            "bin_start": 0.7134948096885814,
            "bin_end": 0.7823529411764707,
            "count": 0
           },
           {
            "bin_start": 0.7823529411764707,
            "bin_end": 0.8512110726643599,
            "count": 1
           }
          ]
         }
        },
        {
         "name": "vehicle_age",
         "dtype": "int64",
         "stats": {
          "unique_count": 2,
          "nan_count": 0,
          "min": "1",
          "max": "2",
          "histogram": [
           {
            "bin_start": 1,
            "bin_end": 1.1,
            "count": 1
           },
           {
            "bin_start": 1.1,
            "bin_end": 1.2,
            "count": 0
           },
           {
            "bin_start": 1.2,
            "bin_end": 1.3,
            "count": 0
           },
           {
            "bin_start": 1.3,
            "bin_end": 1.4,
            "count": 0
           },
           {
            "bin_start": 1.4,
            "bin_end": 1.5,
            "count": 0
           },
           {
            "bin_start": 1.5,
            "bin_end": 1.6,
            "count": 0
           },
           {
            "bin_start": 1.6,
            "bin_end": 1.7000000000000002,
            "count": 0
           },
           {
            "bin_start": 1.7000000000000002,
            "bin_end": 1.8,
            "count": 0
           },
           {
            "bin_start": 1.8,
            "bin_end": 1.9,
            "count": 0
           },
           {
            "bin_start": 1.9,
            "bin_end": 2,
            "count": 4
           }
          ]
         }
        },
        {
         "name": "vehicle_damage",
         "dtype": "int64",
         "stats": {
          "unique_count": 1,
          "nan_count": 0,
          "min": "1",
          "max": "1",
          "histogram": [
           {
            "bin_start": 0.5,
            "bin_end": 0.6,
            "count": 0
           },
           {
            "bin_start": 0.6,
            "bin_end": 0.7,
            "count": 0
           },
           {
            "bin_start": 0.7,
            "bin_end": 0.8,
            "count": 0
           },
           {
            "bin_start": 0.8,
            "bin_end": 0.9,
            "count": 0
           },
           {
            "bin_start": 0.9,
            "bin_end": 1,
            "count": 0
           },
           {
            "bin_start": 1,
            "bin_end": 1.1,
            "count": 5
           },
           {
            "bin_start": 1.1,
            "bin_end": 1.2000000000000002,
            "count": 0
           },
           {
            "bin_start": 1.2000000000000002,
            "bin_end": 1.3,
            "count": 0
           },
           {
            "bin_start": 1.3,
            "bin_end": 1.4,
            "count": 0
           },
           {
            "bin_start": 1.4,
            "bin_end": 1.5,
            "count": 0
           }
          ]
         }
        },
        {
         "name": "response",
         "dtype": "int64",
         "stats": {
          "unique_count": 2,
          "nan_count": 0,
          "min": "0",
          "max": "1",
          "histogram": [
           {
            "bin_start": 0,
            "bin_end": 0.1,
            "count": 4
           },
           {
            "bin_start": 0.1,
            "bin_end": 0.2,
            "count": 0
           },
           {
            "bin_start": 0.2,
            "bin_end": 0.30000000000000004,
            "count": 0
           },
           {
            "bin_start": 0.30000000000000004,
            "bin_end": 0.4,
            "count": 0
           },
           {
            "bin_start": 0.4,
            "bin_end": 0.5,
            "count": 0
           },
           {
            "bin_start": 0.5,
            "bin_end": 0.6000000000000001,
            "count": 0
           },
           {
            "bin_start": 0.6000000000000001,
            "bin_end": 0.7000000000000001,
            "count": 0
           },
           {
            "bin_start": 0.7000000000000001,
            "bin_end": 0.8,
            "count": 0
           },
           {
            "bin_start": 0.8,
            "bin_end": 0.9,
            "count": 0
           },
           {
            "bin_start": 0.9,
            "bin_end": 1,
            "count": 1
           }
          ]
         }
        },
        {
         "name": "score_rf",
         "dtype": "float64",
         "stats": {
          "unique_count": 3,
          "nan_count": 0,
          "min": "0.9912478632478633",
          "max": "0.9966666666666667",
          "histogram": [
           {
            "bin_start": 0.9912478632478633,
            "bin_end": 0.9917897435897436,
            "count": 3
           },
           {
            "bin_start": 0.9917897435897436,
            "bin_end": 0.992331623931624,
            "count": 0
           },
           {
            "bin_start": 0.992331623931624,
            "bin_end": 0.9928735042735043,
            "count": 0
           },
           {
            "bin_start": 0.9928735042735043,
            "bin_end": 0.9934153846153847,
            "count": 0
           },
           {
            "bin_start": 0.9934153846153847,
            "bin_end": 0.993957264957265,
            "count": 0
           },
           {
            "bin_start": 0.993957264957265,
            "bin_end": 0.9944991452991453,
            "count": 1
           },
           {
            "bin_start": 0.9944991452991453,
            "bin_end": 0.9950410256410257,
            "count": 0
           },
           {
            "bin_start": 0.9950410256410257,
            "bin_end": 0.995582905982906,
            "count": 0
           },
           {
            "bin_start": 0.995582905982906,
            "bin_end": 0.9961247863247864,
            "count": 0
           },
           {
            "bin_start": 0.9961247863247864,
            "bin_end": 0.9966666666666667,
            "count": 1
           }
          ]
         }
        },
        {
         "name": "_deepnote_index_column",
         "dtype": "int64"
        }
       ],
       "rows": [
        {
         "id": "106976",
         "age": "0.1538461538461538",
         "region_code": "28.0",
         "policy_sales_channel": "26.0",
         "previously_insured": "0",
         "vintage": "0.1626297577854671",
         "vehicle_age": "1",
         "vehicle_damage": "1",
         "response": "0",
         "score_rf": "0.9966666666666667",
         "_deepnote_index_column": "106975"
        },
        {
         "id": "223684",
         "age": "0.3692307692307693",
         "region_code": "28.0",
         "policy_sales_channel": "26.0",
         "previously_insured": "0",
         "vintage": "0.8512110726643599",
         "vehicle_age": "2",
         "vehicle_damage": "1",
         "response": "0",
         "score_rf": "0.9939880952380952",
         "_deepnote_index_column": "223683"
        },
        {
         "id": "72982",
         "age": "0.3846153846153846",
         "region_code": "28.0",
         "policy_sales_channel": "26.0",
         "previously_insured": "0",
         "vintage": "0.6539792387543253",
         "vehicle_age": "2",
         "vehicle_damage": "1",
         "response": "0",
         "score_rf": "0.9912478632478633",
         "_deepnote_index_column": "72981"
        },
        {
         "id": "184470",
         "age": "0.3846153846153846",
         "region_code": "28.0",
         "policy_sales_channel": "26.0",
         "previously_insured": "0",
         "vintage": "0.6539792387543253",
         "vehicle_age": "2",
         "vehicle_damage": "1",
         "response": "0",
         "score_rf": "0.9912478632478633",
         "_deepnote_index_column": "184469"
        },
        {
         "id": "336025",
         "age": "0.3846153846153846",
         "region_code": "28.0",
         "policy_sales_channel": "26.0",
         "previously_insured": "0",
         "vintage": "0.6539792387543253",
         "vehicle_age": "2",
         "vehicle_damage": "1",
         "response": "1",
         "score_rf": "0.9912478632478633",
         "_deepnote_index_column": "336024"
        }
       ]
      },
      "text/plain": "            id       age  region_code  policy_sales_channel  \\\n106975  106976  0.153846         28.0                  26.0   \n223683  223684  0.369231         28.0                  26.0   \n72981    72982  0.384615         28.0                  26.0   \n184469  184470  0.384615         28.0                  26.0   \n336024  336025  0.384615         28.0                  26.0   \n\n        previously_insured   vintage  vehicle_age  vehicle_damage  response  \\\n106975                   0  0.162630            1               1         0   \n223683                   0  0.851211            2               1         0   \n72981                    0  0.653979            2               1         0   \n184469                   0  0.653979            2               1         0   \n336024                   0  0.653979            2               1         1   \n\n        score_rf  \n106975  0.996667  \n223683  0.993988  \n72981   0.991248  \n184469  0.991248  \n336024  0.991248  ",
      "text/html": "<div>\n<style scoped>\n    .dataframe tbody tr th:only-of-type {\n        vertical-align: middle;\n    }\n\n    .dataframe tbody tr th {\n        vertical-align: top;\n    }\n\n    .dataframe thead th {\n        text-align: right;\n    }\n</style>\n<table border=\"1\" class=\"dataframe\">\n  <thead>\n    <tr style=\"text-align: right;\">\n      <th></th>\n      <th>id</th>\n      <th>age</th>\n      <th>region_code</th>\n      <th>policy_sales_channel</th>\n      <th>previously_insured</th>\n      <th>vintage</th>\n      <th>vehicle_age</th>\n      <th>vehicle_damage</th>\n      <th>response</th>\n      <th>score_rf</th>\n    </tr>\n  </thead>\n  <tbody>\n    <tr>\n      <th>106975</th>\n      <td>106976</td>\n      <td>0.153846</td>\n      <td>28.0</td>\n      <td>26.0</td>\n      <td>0</td>\n      <td>0.162630</td>\n      <td>1</td>\n      <td>1</td>\n      <td>0</td>\n      <td>0.996667</td>\n    </tr>\n    <tr>\n      <th>223683</th>\n      <td>223684</td>\n      <td>0.369231</td>\n      <td>28.0</td>\n      <td>26.0</td>\n      <td>0</td>\n      <td>0.851211</td>\n      <td>2</td>\n      <td>1</td>\n      <td>0</td>\n      <td>0.993988</td>\n    </tr>\n    <tr>\n      <th>72981</th>\n      <td>72982</td>\n      <td>0.384615</td>\n      <td>28.0</td>\n      <td>26.0</td>\n      <td>0</td>\n      <td>0.653979</td>\n      <td>2</td>\n      <td>1</td>\n      <td>0</td>\n      <td>0.991248</td>\n    </tr>\n    <tr>\n      <th>184469</th>\n      <td>184470</td>\n      <td>0.384615</td>\n      <td>28.0</td>\n      <td>26.0</td>\n      <td>0</td>\n      <td>0.653979</td>\n      <td>2</td>\n      <td>1</td>\n      <td>0</td>\n      <td>0.991248</td>\n    </tr>\n    <tr>\n      <th>336024</th>\n      <td>336025</td>\n      <td>0.384615</td>\n      <td>28.0</td>\n      <td>26.0</td>\n      <td>0</td>\n      <td>0.653979</td>\n      <td>2</td>\n      <td>1</td>\n      <td>1</td>\n      <td>0.991248</td>\n    </tr>\n  </tbody>\n</table>\n</div>"
     },
     "metadata": {}
    }
   ]
  },
  {
   "cell_type": "code",
   "metadata": {
    "ExecuteTime": {
     "end_time": "2022-09-14T00:59:16.093572Z",
     "start_time": "2022-09-14T00:59:15.924365Z"
    },
    "cell_id": "00054-34328c7b-ef48-4413-a617-e954eb8af022",
    "deepnote_to_be_reexecuted": false,
    "execution_millis": 92,
    "execution_start": 1663075830287,
    "source_hash": "ea237d99",
    "deepnote_cell_type": "code",
    "deepnote_cell_height": 75.60000610351562
   },
   "source": "rf_performace = performace(\"Random forest\",rf_df,y_val,yhat_rf_class,clients)",
   "execution_count": null,
   "outputs": []
  },
  {
   "cell_type": "code",
   "metadata": {
    "ExecuteTime": {
     "end_time": "2022-09-14T00:59:16.109193Z",
     "start_time": "2022-09-14T00:59:16.093572Z"
    },
    "cell_id": "00055-9db3f910-6e56-4d5c-b448-f000a9b00e36",
    "deepnote_to_be_reexecuted": false,
    "execution_millis": 4,
    "execution_start": 1663075830418,
    "source_hash": "ed170d2f",
    "deepnote_cell_type": "code",
    "deepnote_cell_height": 150.39999389648438,
    "deepnote_output_heights": [
     59
    ]
   },
   "source": "rf_performace",
   "execution_count": null,
   "outputs": [
    {
     "output_type": "execute_result",
     "execution_count": 41,
     "data": {
      "application/vnd.deepnote.dataframe.v3+json": {
       "column_count": 6,
       "row_count": 1,
       "columns": [
        {
         "name": "Model Name",
         "dtype": "object",
         "stats": {
          "unique_count": 1,
          "nan_count": 0,
          "categories": [
           {
            "name": "Random forest",
            "count": 1
           }
          ]
         }
        },
        {
         "name": "Precison",
         "dtype": "float64",
         "stats": {
          "unique_count": 1,
          "nan_count": 0,
          "min": "0.32651464341605185",
          "max": "0.32651464341605185",
          "histogram": [
           {
            "bin_start": -0.17348535658394815,
            "bin_end": -0.07348535658394814,
            "count": 0
           },
           {
            "bin_start": -0.07348535658394814,
            "bin_end": 0.026514643416051864,
            "count": 0
           },
           {
            "bin_start": 0.026514643416051864,
            "bin_end": 0.1265146434160519,
            "count": 0
           },
           {
            "bin_start": 0.1265146434160519,
            "bin_end": 0.22651464341605188,
            "count": 0
           },
           {
            "bin_start": 0.22651464341605188,
            "bin_end": 0.32651464341605185,
            "count": 0
           },
           {
            "bin_start": 0.32651464341605185,
            "bin_end": 0.42651464341605194,
            "count": 1
           },
           {
            "bin_start": 0.42651464341605194,
            "bin_end": 0.5265146434160519,
            "count": 0
           },
           {
            "bin_start": 0.5265146434160519,
            "bin_end": 0.6265146434160519,
            "count": 0
           },
           {
            "bin_start": 0.6265146434160519,
            "bin_end": 0.7265146434160519,
            "count": 0
           },
           {
            "bin_start": 0.7265146434160519,
            "bin_end": 0.8265146434160519,
            "count": 0
           }
          ]
         }
        },
        {
         "name": "Recall",
         "dtype": "float64",
         "stats": {
          "unique_count": 1,
          "nan_count": 0,
          "min": "0.20844929708128165",
          "max": "0.20844929708128165",
          "histogram": [
           {
            "bin_start": -0.2915507029187183,
            "bin_end": -0.1915507029187183,
            "count": 0
           },
           {
            "bin_start": -0.1915507029187183,
            "bin_end": -0.09155070291871831,
            "count": 0
           },
           {
            "bin_start": -0.09155070291871831,
            "bin_end": 0.008449297081281726,
            "count": 0
           },
           {
            "bin_start": 0.008449297081281726,
            "bin_end": 0.1084492970812817,
            "count": 0
           },
           {
            "bin_start": 0.1084492970812817,
            "bin_end": 0.20844929708128168,
            "count": 1
           },
           {
            "bin_start": 0.20844929708128168,
            "bin_end": 0.30844929708128177,
            "count": 0
           },
           {
            "bin_start": 0.30844929708128177,
            "bin_end": 0.40844929708128175,
            "count": 0
           },
           {
            "bin_start": 0.40844929708128175,
            "bin_end": 0.5084492970812817,
            "count": 0
           },
           {
            "bin_start": 0.5084492970812817,
            "bin_end": 0.6084492970812817,
            "count": 0
           },
           {
            "bin_start": 0.6084492970812817,
            "bin_end": 0.7084492970812817,
            "count": 0
           }
          ]
         }
        },
        {
         "name": "k",
         "dtype": "int64",
         "stats": {
          "unique_count": 1,
          "nan_count": 0,
          "min": "20000",
          "max": "20000",
          "histogram": [
           {
            "bin_start": 19999.5,
            "bin_end": 19999.6,
            "count": 0
           },
           {
            "bin_start": 19999.6,
            "bin_end": 19999.7,
            "count": 0
           },
           {
            "bin_start": 19999.7,
            "bin_end": 19999.8,
            "count": 0
           },
           {
            "bin_start": 19999.8,
            "bin_end": 19999.9,
            "count": 0
           },
           {
            "bin_start": 19999.9,
            "bin_end": 20000,
            "count": 0
           },
           {
            "bin_start": 20000,
            "bin_end": 20000.1,
            "count": 1
           },
           {
            "bin_start": 20000.1,
            "bin_end": 20000.2,
            "count": 0
           },
           {
            "bin_start": 20000.2,
            "bin_end": 20000.3,
            "count": 0
           },
           {
            "bin_start": 20000.3,
            "bin_end": 20000.4,
            "count": 0
           },
           {
            "bin_start": 20000.4,
            "bin_end": 20000.5,
            "count": 0
           }
          ]
         }
        },
        {
         "name": "Precison at k",
         "dtype": "float64",
         "stats": {
          "unique_count": 1,
          "nan_count": 0,
          "min": "0.3111344432778361",
          "max": "0.3111344432778361",
          "histogram": [
           {
            "bin_start": -0.18886555672216387,
            "bin_end": -0.08886555672216387,
            "count": 0
           },
           {
            "bin_start": -0.08886555672216387,
            "bin_end": 0.011134443277836137,
            "count": 0
           },
           {
            "bin_start": 0.011134443277836137,
            "bin_end": 0.11113444327783617,
            "count": 0
           },
           {
            "bin_start": 0.11113444327783617,
            "bin_end": 0.21113444327783615,
            "count": 0
           },
           {
            "bin_start": 0.21113444327783615,
            "bin_end": 0.3111344432778361,
            "count": 0
           },
           {
            "bin_start": 0.3111344432778361,
            "bin_end": 0.4111344432778362,
            "count": 1
           },
           {
            "bin_start": 0.4111344432778362,
            "bin_end": 0.5111344432778362,
            "count": 0
           },
           {
            "bin_start": 0.5111344432778362,
            "bin_end": 0.6111344432778362,
            "count": 0
           },
           {
            "bin_start": 0.6111344432778362,
            "bin_end": 0.7111344432778361,
            "count": 0
           },
           {
            "bin_start": 0.7111344432778361,
            "bin_end": 0.8111344432778361,
            "count": 0
           }
          ]
         }
        },
        {
         "name": "Recall at k",
         "dtype": "float64",
         "stats": {
          "unique_count": 1,
          "nan_count": 0,
          "min": "0.44408763291229575",
          "max": "0.44408763291229575",
          "histogram": [
           {
            "bin_start": -0.05591236708770425,
            "bin_end": 0.044087632912295754,
            "count": 0
           },
           {
            "bin_start": 0.044087632912295754,
            "bin_end": 0.14408763291229576,
            "count": 0
           },
           {
            "bin_start": 0.14408763291229576,
            "bin_end": 0.2440876329122958,
            "count": 0
           },
           {
            "bin_start": 0.2440876329122958,
            "bin_end": 0.34408763291229577,
            "count": 0
           },
           {
            "bin_start": 0.34408763291229577,
            "bin_end": 0.44408763291229575,
            "count": 0
           },
           {
            "bin_start": 0.44408763291229575,
            "bin_end": 0.5440876329122959,
            "count": 1
           },
           {
            "bin_start": 0.5440876329122959,
            "bin_end": 0.6440876329122958,
            "count": 0
           },
           {
            "bin_start": 0.6440876329122958,
            "bin_end": 0.7440876329122958,
            "count": 0
           },
           {
            "bin_start": 0.7440876329122958,
            "bin_end": 0.8440876329122957,
            "count": 0
           },
           {
            "bin_start": 0.8440876329122957,
            "bin_end": 0.9440876329122958,
            "count": 0
           }
          ]
         }
        },
        {
         "name": "_deepnote_index_column",
         "dtype": "int64"
        }
       ],
       "rows": [
        {
         "Model Name": "Random forest",
         "Precison": "0.32651464341605185",
         "Recall": "0.20844929708128165",
         "k": "20000",
         "Precison at k": "0.3111344432778361",
         "Recall at k": "0.44408763291229575",
         "_deepnote_index_column": "0"
        }
       ]
      },
      "text/plain": "      Model Name  Precison    Recall      k  Precison at k  Recall at k\n0  Random forest  0.326515  0.208449  20000       0.311134     0.444088",
      "text/html": "<div>\n<style scoped>\n    .dataframe tbody tr th:only-of-type {\n        vertical-align: middle;\n    }\n\n    .dataframe tbody tr th {\n        vertical-align: top;\n    }\n\n    .dataframe thead th {\n        text-align: right;\n    }\n</style>\n<table border=\"1\" class=\"dataframe\">\n  <thead>\n    <tr style=\"text-align: right;\">\n      <th></th>\n      <th>Model Name</th>\n      <th>Precison</th>\n      <th>Recall</th>\n      <th>k</th>\n      <th>Precison at k</th>\n      <th>Recall at k</th>\n    </tr>\n  </thead>\n  <tbody>\n    <tr>\n      <th>0</th>\n      <td>Random forest</td>\n      <td>0.326515</td>\n      <td>0.208449</td>\n      <td>20000</td>\n      <td>0.311134</td>\n      <td>0.444088</td>\n    </tr>\n  </tbody>\n</table>\n</div>"
     },
     "metadata": {}
    }
   ]
  },
  {
   "cell_type": "markdown",
   "source": "## Extra trees",
   "metadata": {
    "cell_id": "00056-d6b22faf-9ace-4332-82b7-25c9eef166ed",
    "deepnote_cell_type": "markdown",
    "deepnote_cell_height": 69.60000610351562
   }
  },
  {
   "cell_type": "code",
   "metadata": {
    "ExecuteTime": {
     "end_time": "2022-09-14T00:59:16.171677Z",
     "start_time": "2022-09-14T00:59:16.109193Z"
    },
    "cell_id": "00057-ab10e8ec-87df-4a0b-8d17-092ff9bd7d9c",
    "deepnote_to_be_reexecuted": false,
    "execution_millis": 4,
    "execution_start": 1663075830419,
    "source_hash": "1b318dfe",
    "deepnote_cell_type": "code",
    "deepnote_cell_height": 75.60000610351562
   },
   "source": "et_df = val.copy()",
   "execution_count": null,
   "outputs": []
  },
  {
   "cell_type": "code",
   "metadata": {
    "ExecuteTime": {
     "end_time": "2022-09-14T00:59:16.256302Z",
     "start_time": "2022-09-14T00:59:16.171677Z"
    },
    "cell_id": "00058-f309bae6-132f-492f-aee5-2eeb9d63e3e3",
    "deepnote_to_be_reexecuted": false,
    "execution_millis": 33,
    "execution_start": 1663075830427,
    "source_hash": "c65c3bec",
    "deepnote_cell_type": "code",
    "deepnote_cell_height": 111.60000610351562
   },
   "source": "et_df['score_et'] = yhat_et_proba[:,1].tolist()\n# sorte by score\net_df = et_df.sort_values('score_et',ascending=False)",
   "execution_count": null,
   "outputs": []
  },
  {
   "cell_type": "code",
   "metadata": {
    "ExecuteTime": {
     "end_time": "2022-09-14T00:59:16.294060Z",
     "start_time": "2022-09-14T00:59:16.256302Z"
    },
    "cell_id": "00059-f1641854-fefd-47a9-9944-1b45bab93295",
    "deepnote_to_be_reexecuted": false,
    "execution_millis": 56,
    "execution_start": 1663075830465,
    "source_hash": "9c48153f",
    "deepnote_cell_type": "code",
    "deepnote_cell_height": 266.3999938964844,
    "deepnote_output_heights": [
     175
    ]
   },
   "source": "et_df.head()",
   "execution_count": null,
   "outputs": [
    {
     "output_type": "execute_result",
     "execution_count": 44,
     "data": {
      "application/vnd.deepnote.dataframe.v3+json": {
       "column_count": 10,
       "row_count": 5,
       "columns": [
        {
         "name": "id",
         "dtype": "int64",
         "stats": {
          "unique_count": 5,
          "nan_count": 0,
          "min": "79758",
          "max": "292588",
          "histogram": [
           {
            "bin_start": 79758,
            "bin_end": 101041,
            "count": 1
           },
           {
            "bin_start": 101041,
            "bin_end": 122324,
            "count": 0
           },
           {
            "bin_start": 122324,
            "bin_end": 143607,
            "count": 0
           },
           {
            "bin_start": 143607,
            "bin_end": 164890,
            "count": 0
           },
           {
            "bin_start": 164890,
            "bin_end": 186173,
            "count": 1
           },
           {
            "bin_start": 186173,
            "bin_end": 207456,
            "count": 1
           },
           {
            "bin_start": 207456,
            "bin_end": 228739,
            "count": 0
           },
           {
            "bin_start": 228739,
            "bin_end": 250022,
            "count": 0
           },
           {
            "bin_start": 250022,
            "bin_end": 271305,
            "count": 0
           },
           {
            "bin_start": 271305,
            "bin_end": 292588,
            "count": 2
           }
          ]
         }
        },
        {
         "name": "age",
         "dtype": "float64",
         "stats": {
          "unique_count": 5,
          "nan_count": 0,
          "min": "0.4615384615384616",
          "max": "0.7692307692307694",
          "histogram": [
           {
            "bin_start": 0.4615384615384616,
            "bin_end": 0.4923076923076924,
            "count": 1
           },
           {
            "bin_start": 0.4923076923076924,
            "bin_end": 0.5230769230769232,
            "count": 1
           },
           {
            "bin_start": 0.5230769230769232,
            "bin_end": 0.553846153846154,
            "count": 1
           },
           {
            "bin_start": 0.553846153846154,
            "bin_end": 0.5846153846153848,
            "count": 0
           },
           {
            "bin_start": 0.5846153846153848,
            "bin_end": 0.6153846153846155,
            "count": 1
           },
           {
            "bin_start": 0.6153846153846155,
            "bin_end": 0.6461538461538463,
            "count": 0
           },
           {
            "bin_start": 0.6461538461538463,
            "bin_end": 0.6769230769230771,
            "count": 0
           },
           {
            "bin_start": 0.6769230769230771,
            "bin_end": 0.7076923076923078,
            "count": 0
           },
           {
            "bin_start": 0.7076923076923078,
            "bin_end": 0.7384615384615386,
            "count": 0
           },
           {
            "bin_start": 0.7384615384615386,
            "bin_end": 0.7692307692307694,
            "count": 1
           }
          ]
         }
        },
        {
         "name": "region_code",
         "dtype": "float64",
         "stats": {
          "unique_count": 3,
          "nan_count": 0,
          "min": "28.0",
          "max": "46.0",
          "histogram": [
           {
            "bin_start": 28,
            "bin_end": 29.8,
            "count": 3
           },
           {
            "bin_start": 29.8,
            "bin_end": 31.6,
            "count": 0
           },
           {
            "bin_start": 31.6,
            "bin_end": 33.4,
            "count": 0
           },
           {
            "bin_start": 33.4,
            "bin_end": 35.2,
            "count": 0
           },
           {
            "bin_start": 35.2,
            "bin_end": 37,
            "count": 0
           },
           {
            "bin_start": 37,
            "bin_end": 38.8,
            "count": 0
           },
           {
            "bin_start": 38.8,
            "bin_end": 40.6,
            "count": 0
           },
           {
            "bin_start": 40.6,
            "bin_end": 42.4,
            "count": 1
           },
           {
            "bin_start": 42.4,
            "bin_end": 44.2,
            "count": 0
           },
           {
            "bin_start": 44.2,
            "bin_end": 46,
            "count": 1
           }
          ]
         }
        },
        {
         "name": "policy_sales_channel",
         "dtype": "float64",
         "stats": {
          "unique_count": 1,
          "nan_count": 0,
          "min": "26.0",
          "max": "26.0",
          "histogram": [
           {
            "bin_start": 25.5,
            "bin_end": 25.6,
            "count": 0
           },
           {
            "bin_start": 25.6,
            "bin_end": 25.7,
            "count": 0
           },
           {
            "bin_start": 25.7,
            "bin_end": 25.8,
            "count": 0
           },
           {
            "bin_start": 25.8,
            "bin_end": 25.9,
            "count": 0
           },
           {
            "bin_start": 25.9,
            "bin_end": 26,
            "count": 0
           },
           {
            "bin_start": 26,
            "bin_end": 26.1,
            "count": 5
           },
           {
            "bin_start": 26.1,
            "bin_end": 26.2,
            "count": 0
           },
           {
            "bin_start": 26.2,
            "bin_end": 26.3,
            "count": 0
           },
           {
            "bin_start": 26.3,
            "bin_end": 26.4,
            "count": 0
           },
           {
            "bin_start": 26.4,
            "bin_end": 26.5,
            "count": 0
           }
          ]
         }
        },
        {
         "name": "previously_insured",
         "dtype": "int64",
         "stats": {
          "unique_count": 1,
          "nan_count": 0,
          "min": "0",
          "max": "0",
          "histogram": [
           {
            "bin_start": -0.5,
            "bin_end": -0.4,
            "count": 0
           },
           {
            "bin_start": -0.4,
            "bin_end": -0.3,
            "count": 0
           },
           {
            "bin_start": -0.3,
            "bin_end": -0.19999999999999996,
            "count": 0
           },
           {
            "bin_start": -0.19999999999999996,
            "bin_end": -0.09999999999999998,
            "count": 0
           },
           {
            "bin_start": -0.09999999999999998,
            "bin_end": 0,
            "count": 0
           },
           {
            "bin_start": 0,
            "bin_end": 0.10000000000000009,
            "count": 5
           },
           {
            "bin_start": 0.10000000000000009,
            "bin_end": 0.20000000000000007,
            "count": 0
           },
           {
            "bin_start": 0.20000000000000007,
            "bin_end": 0.30000000000000004,
            "count": 0
           },
           {
            "bin_start": 0.30000000000000004,
            "bin_end": 0.4,
            "count": 0
           },
           {
            "bin_start": 0.4,
            "bin_end": 0.5,
            "count": 0
           }
          ]
         }
        },
        {
         "name": "vintage",
         "dtype": "float64",
         "stats": {
          "unique_count": 5,
          "nan_count": 0,
          "min": "0.3875432525951557",
          "max": "0.9861591695501732",
          "histogram": [
           {
            "bin_start": 0.3875432525951557,
            "bin_end": 0.44740484429065747,
            "count": 1
           },
           {
            "bin_start": 0.44740484429065747,
            "bin_end": 0.5072664359861592,
            "count": 0
           },
           {
            "bin_start": 0.5072664359861592,
            "bin_end": 0.567128027681661,
            "count": 0
           },
           {
            "bin_start": 0.567128027681661,
            "bin_end": 0.6269896193771627,
            "count": 0
           },
           {
            "bin_start": 0.6269896193771627,
            "bin_end": 0.6868512110726646,
            "count": 0
           },
           {
            "bin_start": 0.6868512110726646,
            "bin_end": 0.7467128027681662,
            "count": 2
           },
           {
            "bin_start": 0.7467128027681662,
            "bin_end": 0.8065743944636681,
            "count": 0
           },
           {
            "bin_start": 0.8065743944636681,
            "bin_end": 0.8664359861591697,
            "count": 1
           },
           {
            "bin_start": 0.8664359861591697,
            "bin_end": 0.9262975778546716,
            "count": 0
           },
           {
            "bin_start": 0.9262975778546716,
            "bin_end": 0.9861591695501732,
            "count": 1
           }
          ]
         }
        },
        {
         "name": "vehicle_age",
         "dtype": "int64",
         "stats": {
          "unique_count": 1,
          "nan_count": 0,
          "min": "1",
          "max": "1",
          "histogram": [
           {
            "bin_start": 0.5,
            "bin_end": 0.6,
            "count": 0
           },
           {
            "bin_start": 0.6,
            "bin_end": 0.7,
            "count": 0
           },
           {
            "bin_start": 0.7,
            "bin_end": 0.8,
            "count": 0
           },
           {
            "bin_start": 0.8,
            "bin_end": 0.9,
            "count": 0
           },
           {
            "bin_start": 0.9,
            "bin_end": 1,
            "count": 0
           },
           {
            "bin_start": 1,
            "bin_end": 1.1,
            "count": 5
           },
           {
            "bin_start": 1.1,
            "bin_end": 1.2000000000000002,
            "count": 0
           },
           {
            "bin_start": 1.2000000000000002,
            "bin_end": 1.3,
            "count": 0
           },
           {
            "bin_start": 1.3,
            "bin_end": 1.4,
            "count": 0
           },
           {
            "bin_start": 1.4,
            "bin_end": 1.5,
            "count": 0
           }
          ]
         }
        },
        {
         "name": "vehicle_damage",
         "dtype": "int64",
         "stats": {
          "unique_count": 1,
          "nan_count": 0,
          "min": "1",
          "max": "1",
          "histogram": [
           {
            "bin_start": 0.5,
            "bin_end": 0.6,
            "count": 0
           },
           {
            "bin_start": 0.6,
            "bin_end": 0.7,
            "count": 0
           },
           {
            "bin_start": 0.7,
            "bin_end": 0.8,
            "count": 0
           },
           {
            "bin_start": 0.8,
            "bin_end": 0.9,
            "count": 0
           },
           {
            "bin_start": 0.9,
            "bin_end": 1,
            "count": 0
           },
           {
            "bin_start": 1,
            "bin_end": 1.1,
            "count": 5
           },
           {
            "bin_start": 1.1,
            "bin_end": 1.2000000000000002,
            "count": 0
           },
           {
            "bin_start": 1.2000000000000002,
            "bin_end": 1.3,
            "count": 0
           },
           {
            "bin_start": 1.3,
            "bin_end": 1.4,
            "count": 0
           },
           {
            "bin_start": 1.4,
            "bin_end": 1.5,
            "count": 0
           }
          ]
         }
        },
        {
         "name": "response",
         "dtype": "int64",
         "stats": {
          "unique_count": 2,
          "nan_count": 0,
          "min": "0",
          "max": "1",
          "histogram": [
           {
            "bin_start": 0,
            "bin_end": 0.1,
            "count": 3
           },
           {
            "bin_start": 0.1,
            "bin_end": 0.2,
            "count": 0
           },
           {
            "bin_start": 0.2,
            "bin_end": 0.30000000000000004,
            "count": 0
           },
           {
            "bin_start": 0.30000000000000004,
            "bin_end": 0.4,
            "count": 0
           },
           {
            "bin_start": 0.4,
            "bin_end": 0.5,
            "count": 0
           },
           {
            "bin_start": 0.5,
            "bin_end": 0.6000000000000001,
            "count": 0
           },
           {
            "bin_start": 0.6000000000000001,
            "bin_end": 0.7000000000000001,
            "count": 0
           },
           {
            "bin_start": 0.7000000000000001,
            "bin_end": 0.8,
            "count": 0
           },
           {
            "bin_start": 0.8,
            "bin_end": 0.9,
            "count": 0
           },
           {
            "bin_start": 0.9,
            "bin_end": 1,
            "count": 2
           }
          ]
         }
        },
        {
         "name": "score_et",
         "dtype": "float64",
         "stats": {
          "unique_count": 5,
          "nan_count": 0,
          "min": "0.4583485594743494",
          "max": "0.4748939087013852",
          "histogram": [
           {
            "bin_start": 0.4583485594743494,
            "bin_end": 0.46000309439705295,
            "count": 1
           },
           {
            "bin_start": 0.46000309439705295,
            "bin_end": 0.46165762931975657,
            "count": 1
           },
           {
            "bin_start": 0.46165762931975657,
            "bin_end": 0.46331216424246013,
            "count": 0
           },
           {
            "bin_start": 0.46331216424246013,
            "bin_end": 0.4649666991651637,
            "count": 0
           },
           {
            "bin_start": 0.4649666991651637,
            "bin_end": 0.46662123408786726,
            "count": 0
           },
           {
            "bin_start": 0.46662123408786726,
            "bin_end": 0.4682757690105709,
            "count": 1
           },
           {
            "bin_start": 0.4682757690105709,
            "bin_end": 0.46993030393327445,
            "count": 0
           },
           {
            "bin_start": 0.46993030393327445,
            "bin_end": 0.471584838855978,
            "count": 0
           },
           {
            "bin_start": 0.471584838855978,
            "bin_end": 0.47323937377868164,
            "count": 1
           },
           {
            "bin_start": 0.47323937377868164,
            "bin_end": 0.4748939087013852,
            "count": 1
           }
          ]
         }
        },
        {
         "name": "_deepnote_index_column",
         "dtype": "int64"
        }
       ],
       "rows": [
        {
         "id": "79758",
         "age": "0.4615384615384616",
         "region_code": "46.0",
         "policy_sales_channel": "26.0",
         "previously_insured": "0",
         "vintage": "0.9861591695501732",
         "vehicle_age": "1",
         "vehicle_damage": "1",
         "response": "1",
         "score_et": "0.4748939087013852",
         "_deepnote_index_column": "79757"
        },
        {
         "id": "180726",
         "age": "0.6000000000000001",
         "region_code": "28.0",
         "policy_sales_channel": "26.0",
         "previously_insured": "0",
         "vintage": "0.8373702422145329",
         "vehicle_age": "1",
         "vehicle_damage": "1",
         "response": "0",
         "score_et": "0.472823785501597",
         "_deepnote_index_column": "180725"
        },
        {
         "id": "282874",
         "age": "0.5384615384615385",
         "region_code": "41.0",
         "policy_sales_channel": "26.0",
         "previously_insured": "0",
         "vintage": "0.7024221453287197",
         "vehicle_age": "1",
         "vehicle_damage": "1",
         "response": "0",
         "score_et": "0.467928241150412",
         "_deepnote_index_column": "282873"
        },
        {
         "id": "292588",
         "age": "0.5076923076923077",
         "region_code": "28.0",
         "policy_sales_channel": "26.0",
         "previously_insured": "0",
         "vintage": "0.7197231833910035",
         "vehicle_age": "1",
         "vehicle_damage": "1",
         "response": "1",
         "score_et": "0.46110751756149343",
         "_deepnote_index_column": "292587"
        },
        {
         "id": "198228",
         "age": "0.7692307692307694",
         "region_code": "28.0",
         "policy_sales_channel": "26.0",
         "previously_insured": "0",
         "vintage": "0.3875432525951557",
         "vehicle_age": "1",
         "vehicle_damage": "1",
         "response": "0",
         "score_et": "0.4583485594743494",
         "_deepnote_index_column": "198227"
        }
       ]
      },
      "text/plain": "            id       age  region_code  policy_sales_channel  \\\n79757    79758  0.461538         46.0                  26.0   \n180725  180726  0.600000         28.0                  26.0   \n282873  282874  0.538462         41.0                  26.0   \n292587  292588  0.507692         28.0                  26.0   \n198227  198228  0.769231         28.0                  26.0   \n\n        previously_insured   vintage  vehicle_age  vehicle_damage  response  \\\n79757                    0  0.986159            1               1         1   \n180725                   0  0.837370            1               1         0   \n282873                   0  0.702422            1               1         0   \n292587                   0  0.719723            1               1         1   \n198227                   0  0.387543            1               1         0   \n\n        score_et  \n79757   0.474894  \n180725  0.472824  \n282873  0.467928  \n292587  0.461108  \n198227  0.458349  ",
      "text/html": "<div>\n<style scoped>\n    .dataframe tbody tr th:only-of-type {\n        vertical-align: middle;\n    }\n\n    .dataframe tbody tr th {\n        vertical-align: top;\n    }\n\n    .dataframe thead th {\n        text-align: right;\n    }\n</style>\n<table border=\"1\" class=\"dataframe\">\n  <thead>\n    <tr style=\"text-align: right;\">\n      <th></th>\n      <th>id</th>\n      <th>age</th>\n      <th>region_code</th>\n      <th>policy_sales_channel</th>\n      <th>previously_insured</th>\n      <th>vintage</th>\n      <th>vehicle_age</th>\n      <th>vehicle_damage</th>\n      <th>response</th>\n      <th>score_et</th>\n    </tr>\n  </thead>\n  <tbody>\n    <tr>\n      <th>79757</th>\n      <td>79758</td>\n      <td>0.461538</td>\n      <td>46.0</td>\n      <td>26.0</td>\n      <td>0</td>\n      <td>0.986159</td>\n      <td>1</td>\n      <td>1</td>\n      <td>1</td>\n      <td>0.474894</td>\n    </tr>\n    <tr>\n      <th>180725</th>\n      <td>180726</td>\n      <td>0.600000</td>\n      <td>28.0</td>\n      <td>26.0</td>\n      <td>0</td>\n      <td>0.837370</td>\n      <td>1</td>\n      <td>1</td>\n      <td>0</td>\n      <td>0.472824</td>\n    </tr>\n    <tr>\n      <th>282873</th>\n      <td>282874</td>\n      <td>0.538462</td>\n      <td>41.0</td>\n      <td>26.0</td>\n      <td>0</td>\n      <td>0.702422</td>\n      <td>1</td>\n      <td>1</td>\n      <td>0</td>\n      <td>0.467928</td>\n    </tr>\n    <tr>\n      <th>292587</th>\n      <td>292588</td>\n      <td>0.507692</td>\n      <td>28.0</td>\n      <td>26.0</td>\n      <td>0</td>\n      <td>0.719723</td>\n      <td>1</td>\n      <td>1</td>\n      <td>1</td>\n      <td>0.461108</td>\n    </tr>\n    <tr>\n      <th>198227</th>\n      <td>198228</td>\n      <td>0.769231</td>\n      <td>28.0</td>\n      <td>26.0</td>\n      <td>0</td>\n      <td>0.387543</td>\n      <td>1</td>\n      <td>1</td>\n      <td>0</td>\n      <td>0.458349</td>\n    </tr>\n  </tbody>\n</table>\n</div>"
     },
     "metadata": {}
    }
   ]
  },
  {
   "cell_type": "code",
   "metadata": {
    "ExecuteTime": {
     "end_time": "2022-09-14T00:59:16.456789Z",
     "start_time": "2022-09-14T00:59:16.294060Z"
    },
    "cell_id": "00060-7253624e-e847-4c39-9e7c-098ca220fb82",
    "deepnote_to_be_reexecuted": false,
    "execution_millis": 89,
    "execution_start": 1663075830523,
    "source_hash": "72701628",
    "deepnote_cell_type": "code",
    "deepnote_cell_height": 75.60000610351562
   },
   "source": "et_performace = performace(\"Extra trees\",et_df,y_val,yhat_et_class,clients)",
   "execution_count": null,
   "outputs": [
    {
     "name": "stderr",
     "text": "/shared-libs/python3.9/py/lib/python3.9/site-packages/sklearn/metrics/_classification.py:1327: UndefinedMetricWarning: Precision is ill-defined and being set to 0.0 due to no predicted samples. Use `zero_division` parameter to control this behavior.\n  _warn_prf(average, modifier, msg_start, len(result))\n",
     "output_type": "stream"
    }
   ]
  },
  {
   "cell_type": "code",
   "metadata": {
    "ExecuteTime": {
     "end_time": "2022-09-14T00:59:16.494550Z",
     "start_time": "2022-09-14T00:59:16.456789Z"
    },
    "cell_id": "00061-1bd81c17-ac04-48c0-8c5e-3218c8bfd7c6",
    "deepnote_to_be_reexecuted": false,
    "execution_millis": 4,
    "execution_start": 1663075830634,
    "scrolled": true,
    "source_hash": "b4f684ea",
    "deepnote_cell_type": "code",
    "deepnote_cell_height": 150.39999389648438,
    "deepnote_output_heights": [
     59
    ]
   },
   "source": "et_performace",
   "execution_count": null,
   "outputs": [
    {
     "output_type": "execute_result",
     "execution_count": 46,
     "data": {
      "application/vnd.deepnote.dataframe.v3+json": {
       "column_count": 6,
       "row_count": 1,
       "columns": [
        {
         "name": "Model Name",
         "dtype": "object",
         "stats": {
          "unique_count": 1,
          "nan_count": 0,
          "categories": [
           {
            "name": "Extra trees",
            "count": 1
           }
          ]
         }
        },
        {
         "name": "Precison",
         "dtype": "float64",
         "stats": {
          "unique_count": 1,
          "nan_count": 0,
          "min": "0.0",
          "max": "0.0",
          "histogram": [
           {
            "bin_start": -0.5,
            "bin_end": -0.4,
            "count": 0
           },
           {
            "bin_start": -0.4,
            "bin_end": -0.3,
            "count": 0
           },
           {
            "bin_start": -0.3,
            "bin_end": -0.19999999999999996,
            "count": 0
           },
           {
            "bin_start": -0.19999999999999996,
            "bin_end": -0.09999999999999998,
            "count": 0
           },
           {
            "bin_start": -0.09999999999999998,
            "bin_end": 0,
            "count": 0
           },
           {
            "bin_start": 0,
            "bin_end": 0.10000000000000009,
            "count": 1
           },
           {
            "bin_start": 0.10000000000000009,
            "bin_end": 0.20000000000000007,
            "count": 0
           },
           {
            "bin_start": 0.20000000000000007,
            "bin_end": 0.30000000000000004,
            "count": 0
           },
           {
            "bin_start": 0.30000000000000004,
            "bin_end": 0.4,
            "count": 0
           },
           {
            "bin_start": 0.4,
            "bin_end": 0.5,
            "count": 0
           }
          ]
         }
        },
        {
         "name": "Recall",
         "dtype": "float64",
         "stats": {
          "unique_count": 1,
          "nan_count": 0,
          "min": "0.0",
          "max": "0.0",
          "histogram": [
           {
            "bin_start": -0.5,
            "bin_end": -0.4,
            "count": 0
           },
           {
            "bin_start": -0.4,
            "bin_end": -0.3,
            "count": 0
           },
           {
            "bin_start": -0.3,
            "bin_end": -0.19999999999999996,
            "count": 0
           },
           {
            "bin_start": -0.19999999999999996,
            "bin_end": -0.09999999999999998,
            "count": 0
           },
           {
            "bin_start": -0.09999999999999998,
            "bin_end": 0,
            "count": 0
           },
           {
            "bin_start": 0,
            "bin_end": 0.10000000000000009,
            "count": 1
           },
           {
            "bin_start": 0.10000000000000009,
            "bin_end": 0.20000000000000007,
            "count": 0
           },
           {
            "bin_start": 0.20000000000000007,
            "bin_end": 0.30000000000000004,
            "count": 0
           },
           {
            "bin_start": 0.30000000000000004,
            "bin_end": 0.4,
            "count": 0
           },
           {
            "bin_start": 0.4,
            "bin_end": 0.5,
            "count": 0
           }
          ]
         }
        },
        {
         "name": "k",
         "dtype": "int64",
         "stats": {
          "unique_count": 1,
          "nan_count": 0,
          "min": "20000",
          "max": "20000",
          "histogram": [
           {
            "bin_start": 19999.5,
            "bin_end": 19999.6,
            "count": 0
           },
           {
            "bin_start": 19999.6,
            "bin_end": 19999.7,
            "count": 0
           },
           {
            "bin_start": 19999.7,
            "bin_end": 19999.8,
            "count": 0
           },
           {
            "bin_start": 19999.8,
            "bin_end": 19999.9,
            "count": 0
           },
           {
            "bin_start": 19999.9,
            "bin_end": 20000,
            "count": 0
           },
           {
            "bin_start": 20000,
            "bin_end": 20000.1,
            "count": 1
           },
           {
            "bin_start": 20000.1,
            "bin_end": 20000.2,
            "count": 0
           },
           {
            "bin_start": 20000.2,
            "bin_end": 20000.3,
            "count": 0
           },
           {
            "bin_start": 20000.3,
            "bin_end": 20000.4,
            "count": 0
           },
           {
            "bin_start": 20000.4,
            "bin_end": 20000.5,
            "count": 0
           }
          ]
         }
        },
        {
         "name": "Precison at k",
         "dtype": "float64",
         "stats": {
          "unique_count": 1,
          "nan_count": 0,
          "min": "0.3590820458977051",
          "max": "0.3590820458977051",
          "histogram": [
           {
            "bin_start": -0.1409179541022949,
            "bin_end": -0.0409179541022949,
            "count": 0
           },
           {
            "bin_start": -0.0409179541022949,
            "bin_end": 0.059082045897705104,
            "count": 0
           },
           {
            "bin_start": 0.059082045897705104,
            "bin_end": 0.15908204589770514,
            "count": 0
           },
           {
            "bin_start": 0.15908204589770514,
            "bin_end": 0.2590820458977051,
            "count": 0
           },
           {
            "bin_start": 0.2590820458977051,
            "bin_end": 0.3590820458977051,
            "count": 0
           },
           {
            "bin_start": 0.3590820458977051,
            "bin_end": 0.4590820458977052,
            "count": 1
           },
           {
            "bin_start": 0.4590820458977052,
            "bin_end": 0.5590820458977052,
            "count": 0
           },
           {
            "bin_start": 0.5590820458977052,
            "bin_end": 0.6590820458977051,
            "count": 0
           },
           {
            "bin_start": 0.6590820458977051,
            "bin_end": 0.7590820458977051,
            "count": 0
           },
           {
            "bin_start": 0.7590820458977051,
            "bin_end": 0.8590820458977051,
            "count": 0
           }
          ]
         }
        },
        {
         "name": "Recall at k",
         "dtype": "float64",
         "stats": {
          "unique_count": 1,
          "nan_count": 0,
          "min": "0.51252408477842",
          "max": "0.51252408477842",
          "histogram": [
           {
            "bin_start": 0.012524084778420042,
            "bin_end": 0.11252408477842005,
            "count": 0
           },
           {
            "bin_start": 0.11252408477842005,
            "bin_end": 0.21252408477842005,
            "count": 0
           },
           {
            "bin_start": 0.21252408477842005,
            "bin_end": 0.3125240847784201,
            "count": 0
           },
           {
            "bin_start": 0.3125240847784201,
            "bin_end": 0.41252408477842006,
            "count": 0
           },
           {
            "bin_start": 0.41252408477842006,
            "bin_end": 0.51252408477842,
            "count": 0
           },
           {
            "bin_start": 0.51252408477842,
            "bin_end": 0.6125240847784201,
            "count": 1
           },
           {
            "bin_start": 0.6125240847784201,
            "bin_end": 0.7125240847784201,
            "count": 0
           },
           {
            "bin_start": 0.7125240847784201,
            "bin_end": 0.8125240847784201,
            "count": 0
           },
           {
            "bin_start": 0.8125240847784201,
            "bin_end": 0.9125240847784201,
            "count": 0
           },
           {
            "bin_start": 0.9125240847784201,
            "bin_end": 1.01252408477842,
            "count": 0
           }
          ]
         }
        },
        {
         "name": "_deepnote_index_column",
         "dtype": "int64"
        }
       ],
       "rows": [
        {
         "Model Name": "Extra trees",
         "Precison": "0.0",
         "Recall": "0.0",
         "k": "20000",
         "Precison at k": "0.3590820458977051",
         "Recall at k": "0.51252408477842",
         "_deepnote_index_column": "0"
        }
       ]
      },
      "text/plain": "    Model Name  Precison  Recall      k  Precison at k  Recall at k\n0  Extra trees       0.0     0.0  20000       0.359082     0.512524",
      "text/html": "<div>\n<style scoped>\n    .dataframe tbody tr th:only-of-type {\n        vertical-align: middle;\n    }\n\n    .dataframe tbody tr th {\n        vertical-align: top;\n    }\n\n    .dataframe thead th {\n        text-align: right;\n    }\n</style>\n<table border=\"1\" class=\"dataframe\">\n  <thead>\n    <tr style=\"text-align: right;\">\n      <th></th>\n      <th>Model Name</th>\n      <th>Precison</th>\n      <th>Recall</th>\n      <th>k</th>\n      <th>Precison at k</th>\n      <th>Recall at k</th>\n    </tr>\n  </thead>\n  <tbody>\n    <tr>\n      <th>0</th>\n      <td>Extra trees</td>\n      <td>0.0</td>\n      <td>0.0</td>\n      <td>20000</td>\n      <td>0.359082</td>\n      <td>0.512524</td>\n    </tr>\n  </tbody>\n</table>\n</div>"
     },
     "metadata": {}
    }
   ]
  },
  {
   "cell_type": "markdown",
   "source": "## XGboost",
   "metadata": {
    "cell_id": "00062-2f0e872a-5a97-40e8-bde0-34a8874eb3b4",
    "deepnote_cell_type": "markdown",
    "deepnote_cell_height": 69.60000610351562
   }
  },
  {
   "cell_type": "code",
   "metadata": {
    "ExecuteTime": {
     "end_time": "2022-09-14T00:59:16.510169Z",
     "start_time": "2022-09-14T00:59:16.494550Z"
    },
    "cell_id": "00063-3ba13c60-7eb9-495e-b4ed-06c546647462",
    "deepnote_to_be_reexecuted": false,
    "execution_millis": 0,
    "execution_start": 1663075830683,
    "source_hash": "ce3549ee",
    "deepnote_cell_type": "code",
    "deepnote_cell_height": 75.60000610351562
   },
   "source": "xgb_df = val.copy()",
   "execution_count": null,
   "outputs": []
  },
  {
   "cell_type": "code",
   "metadata": {
    "ExecuteTime": {
     "end_time": "2022-09-14T00:59:16.594797Z",
     "start_time": "2022-09-14T00:59:16.510169Z"
    },
    "cell_id": "00064-af73a354-da26-47fe-afaf-da6516ae265d",
    "deepnote_to_be_reexecuted": false,
    "execution_millis": 44,
    "execution_start": 1663075830684,
    "source_hash": "bfe8602",
    "deepnote_cell_type": "code",
    "deepnote_cell_height": 111.60000610351562
   },
   "source": "xgb_df['score_xgb'] = yhat_xgb_proba[:,1].tolist()\n# sorte by score\nxgb_df = xgb_df.sort_values('score_xgb',ascending=False)",
   "execution_count": null,
   "outputs": []
  },
  {
   "cell_type": "code",
   "metadata": {
    "ExecuteTime": {
     "end_time": "2022-09-14T00:59:16.626039Z",
     "start_time": "2022-09-14T00:59:16.594797Z"
    },
    "cell_id": "00065-203b47f9-af3e-4755-bc28-9936b15ffacc",
    "deepnote_to_be_reexecuted": false,
    "execution_millis": 35,
    "execution_start": 1663075830730,
    "scrolled": true,
    "source_hash": "e7f31522",
    "deepnote_cell_type": "code",
    "deepnote_cell_height": 266.3999938964844,
    "deepnote_output_heights": [
     175
    ]
   },
   "source": "xgb_df.head()",
   "execution_count": null,
   "outputs": [
    {
     "output_type": "execute_result",
     "execution_count": 49,
     "data": {
      "application/vnd.deepnote.dataframe.v3+json": {
       "column_count": 10,
       "row_count": 5,
       "columns": [
        {
         "name": "id",
         "dtype": "int64",
         "stats": {
          "unique_count": 5,
          "nan_count": 0,
          "min": "180726",
          "max": "359030",
          "histogram": [
           {
            "bin_start": 180726,
            "bin_end": 198556.4,
            "count": 1
           },
           {
            "bin_start": 198556.4,
            "bin_end": 216386.8,
            "count": 0
           },
           {
            "bin_start": 216386.8,
            "bin_end": 234217.2,
            "count": 0
           },
           {
            "bin_start": 234217.2,
            "bin_end": 252047.6,
            "count": 0
           },
           {
            "bin_start": 252047.6,
            "bin_end": 269878,
            "count": 1
           },
           {
            "bin_start": 269878,
            "bin_end": 287708.4,
            "count": 0
           },
           {
            "bin_start": 287708.4,
            "bin_end": 305538.80000000005,
            "count": 0
           },
           {
            "bin_start": 305538.80000000005,
            "bin_end": 323369.2,
            "count": 1
           },
           {
            "bin_start": 323369.2,
            "bin_end": 341199.6,
            "count": 1
           },
           {
            "bin_start": 341199.6,
            "bin_end": 359030,
            "count": 1
           }
          ]
         }
        },
        {
         "name": "age",
         "dtype": "float64",
         "stats": {
          "unique_count": 5,
          "nan_count": 0,
          "min": "0.0923076923076923",
          "max": "0.6000000000000001",
          "histogram": [
           {
            "bin_start": 0.0923076923076923,
            "bin_end": 0.14307692307692307,
            "count": 1
           },
           {
            "bin_start": 0.14307692307692307,
            "bin_end": 0.19384615384615383,
            "count": 1
           },
           {
            "bin_start": 0.19384615384615383,
            "bin_end": 0.24461538461538462,
            "count": 0
           },
           {
            "bin_start": 0.24461538461538462,
            "bin_end": 0.2953846153846154,
            "count": 0
           },
           {
            "bin_start": 0.2953846153846154,
            "bin_end": 0.3461538461538462,
            "count": 0
           },
           {
            "bin_start": 0.3461538461538462,
            "bin_end": 0.39692307692307693,
            "count": 0
           },
           {
            "bin_start": 0.39692307692307693,
            "bin_end": 0.4476923076923077,
            "count": 1
           },
           {
            "bin_start": 0.4476923076923077,
            "bin_end": 0.4984615384615385,
            "count": 0
           },
           {
            "bin_start": 0.4984615384615385,
            "bin_end": 0.5492307692307693,
            "count": 0
           },
           {
            "bin_start": 0.5492307692307693,
            "bin_end": 0.6000000000000001,
            "count": 2
           }
          ]
         }
        },
        {
         "name": "region_code",
         "dtype": "float64",
         "stats": {
          "unique_count": 4,
          "nan_count": 0,
          "min": "3.0",
          "max": "28.0",
          "histogram": [
           {
            "bin_start": 3,
            "bin_end": 5.5,
            "count": 1
           },
           {
            "bin_start": 5.5,
            "bin_end": 8,
            "count": 1
           },
           {
            "bin_start": 8,
            "bin_end": 10.5,
            "count": 1
           },
           {
            "bin_start": 10.5,
            "bin_end": 13,
            "count": 0
           },
           {
            "bin_start": 13,
            "bin_end": 15.5,
            "count": 0
           },
           {
            "bin_start": 15.5,
            "bin_end": 18,
            "count": 0
           },
           {
            "bin_start": 18,
            "bin_end": 20.5,
            "count": 0
           },
           {
            "bin_start": 20.5,
            "bin_end": 23,
            "count": 0
           },
           {
            "bin_start": 23,
            "bin_end": 25.5,
            "count": 0
           },
           {
            "bin_start": 25.5,
            "bin_end": 28,
            "count": 2
           }
          ]
         }
        },
        {
         "name": "policy_sales_channel",
         "dtype": "float64",
         "stats": {
          "unique_count": 4,
          "nan_count": 0,
          "min": "3.0",
          "max": "163.0",
          "histogram": [
           {
            "bin_start": 3,
            "bin_end": 19,
            "count": 2
           },
           {
            "bin_start": 19,
            "bin_end": 35,
            "count": 1
           },
           {
            "bin_start": 35,
            "bin_end": 51,
            "count": 0
           },
           {
            "bin_start": 51,
            "bin_end": 67,
            "count": 0
           },
           {
            "bin_start": 67,
            "bin_end": 83,
            "count": 0
           },
           {
            "bin_start": 83,
            "bin_end": 99,
            "count": 0
           },
           {
            "bin_start": 99,
            "bin_end": 115,
            "count": 0
           },
           {
            "bin_start": 115,
            "bin_end": 131,
            "count": 1
           },
           {
            "bin_start": 131,
            "bin_end": 147,
            "count": 0
           },
           {
            "bin_start": 147,
            "bin_end": 163,
            "count": 1
           }
          ]
         }
        },
        {
         "name": "previously_insured",
         "dtype": "int64",
         "stats": {
          "unique_count": 1,
          "nan_count": 0,
          "min": "0",
          "max": "0",
          "histogram": [
           {
            "bin_start": -0.5,
            "bin_end": -0.4,
            "count": 0
           },
           {
            "bin_start": -0.4,
            "bin_end": -0.3,
            "count": 0
           },
           {
            "bin_start": -0.3,
            "bin_end": -0.19999999999999996,
            "count": 0
           },
           {
            "bin_start": -0.19999999999999996,
            "bin_end": -0.09999999999999998,
            "count": 0
           },
           {
            "bin_start": -0.09999999999999998,
            "bin_end": 0,
            "count": 0
           },
           {
            "bin_start": 0,
            "bin_end": 0.10000000000000009,
            "count": 5
           },
           {
            "bin_start": 0.10000000000000009,
            "bin_end": 0.20000000000000007,
            "count": 0
           },
           {
            "bin_start": 0.20000000000000007,
            "bin_end": 0.30000000000000004,
            "count": 0
           },
           {
            "bin_start": 0.30000000000000004,
            "bin_end": 0.4,
            "count": 0
           },
           {
            "bin_start": 0.4,
            "bin_end": 0.5,
            "count": 0
           }
          ]
         }
        },
        {
         "name": "vintage",
         "dtype": "float64",
         "stats": {
          "unique_count": 5,
          "nan_count": 0,
          "min": "0.0034602076124567",
          "max": "0.9965397923875432",
          "histogram": [
           {
            "bin_start": 0.0034602076124567,
            "bin_end": 0.10276816608996535,
            "count": 1
           },
           {
            "bin_start": 0.10276816608996535,
            "bin_end": 0.20207612456747398,
            "count": 0
           },
           {
            "bin_start": 0.20207612456747398,
            "bin_end": 0.30138408304498265,
            "count": 0
           },
           {
            "bin_start": 0.30138408304498265,
            "bin_end": 0.40069204152249127,
            "count": 0
           },
           {
            "bin_start": 0.40069204152249127,
            "bin_end": 0.4999999999999999,
            "count": 0
           },
           {
            "bin_start": 0.4999999999999999,
            "bin_end": 0.5993079584775086,
            "count": 0
           },
           {
            "bin_start": 0.5993079584775086,
            "bin_end": 0.6986159169550172,
            "count": 1
           },
           {
            "bin_start": 0.6986159169550172,
            "bin_end": 0.7979238754325259,
            "count": 0
           },
           {
            "bin_start": 0.7979238754325259,
            "bin_end": 0.8972318339100345,
            "count": 1
           },
           {
            "bin_start": 0.8972318339100345,
            "bin_end": 0.9965397923875432,
            "count": 2
           }
          ]
         }
        },
        {
         "name": "vehicle_age",
         "dtype": "int64",
         "stats": {
          "unique_count": 3,
          "nan_count": 0,
          "min": "1",
          "max": "3",
          "histogram": [
           {
            "bin_start": 1,
            "bin_end": 1.2,
            "count": 2
           },
           {
            "bin_start": 1.2,
            "bin_end": 1.4,
            "count": 0
           },
           {
            "bin_start": 1.4,
            "bin_end": 1.6,
            "count": 0
           },
           {
            "bin_start": 1.6,
            "bin_end": 1.8,
            "count": 0
           },
           {
            "bin_start": 1.8,
            "bin_end": 2,
            "count": 0
           },
           {
            "bin_start": 2,
            "bin_end": 2.2,
            "count": 2
           },
           {
            "bin_start": 2.2,
            "bin_end": 2.4000000000000004,
            "count": 0
           },
           {
            "bin_start": 2.4000000000000004,
            "bin_end": 2.6,
            "count": 0
           },
           {
            "bin_start": 2.6,
            "bin_end": 2.8,
            "count": 0
           },
           {
            "bin_start": 2.8,
            "bin_end": 3,
            "count": 1
           }
          ]
         }
        },
        {
         "name": "vehicle_damage",
         "dtype": "int64",
         "stats": {
          "unique_count": 1,
          "nan_count": 0,
          "min": "1",
          "max": "1",
          "histogram": [
           {
            "bin_start": 0.5,
            "bin_end": 0.6,
            "count": 0
           },
           {
            "bin_start": 0.6,
            "bin_end": 0.7,
            "count": 0
           },
           {
            "bin_start": 0.7,
            "bin_end": 0.8,
            "count": 0
           },
           {
            "bin_start": 0.8,
            "bin_end": 0.9,
            "count": 0
           },
           {
            "bin_start": 0.9,
            "bin_end": 1,
            "count": 0
           },
           {
            "bin_start": 1,
            "bin_end": 1.1,
            "count": 5
           },
           {
            "bin_start": 1.1,
            "bin_end": 1.2000000000000002,
            "count": 0
           },
           {
            "bin_start": 1.2000000000000002,
            "bin_end": 1.3,
            "count": 0
           },
           {
            "bin_start": 1.3,
            "bin_end": 1.4,
            "count": 0
           },
           {
            "bin_start": 1.4,
            "bin_end": 1.5,
            "count": 0
           }
          ]
         }
        },
        {
         "name": "response",
         "dtype": "int64",
         "stats": {
          "unique_count": 1,
          "nan_count": 0,
          "min": "0",
          "max": "0",
          "histogram": [
           {
            "bin_start": -0.5,
            "bin_end": -0.4,
            "count": 0
           },
           {
            "bin_start": -0.4,
            "bin_end": -0.3,
            "count": 0
           },
           {
            "bin_start": -0.3,
            "bin_end": -0.19999999999999996,
            "count": 0
           },
           {
            "bin_start": -0.19999999999999996,
            "bin_end": -0.09999999999999998,
            "count": 0
           },
           {
            "bin_start": -0.09999999999999998,
            "bin_end": 0,
            "count": 0
           },
           {
            "bin_start": 0,
            "bin_end": 0.10000000000000009,
            "count": 5
           },
           {
            "bin_start": 0.10000000000000009,
            "bin_end": 0.20000000000000007,
            "count": 0
           },
           {
            "bin_start": 0.20000000000000007,
            "bin_end": 0.30000000000000004,
            "count": 0
           },
           {
            "bin_start": 0.30000000000000004,
            "bin_end": 0.4,
            "count": 0
           },
           {
            "bin_start": 0.4,
            "bin_end": 0.5,
            "count": 0
           }
          ]
         }
        },
        {
         "name": "score_xgb",
         "dtype": "float64",
         "stats": {
          "unique_count": 5,
          "nan_count": 0,
          "min": "0.7425644993782043",
          "max": "0.8399754166603088",
          "histogram": [
           {
            "bin_start": 0.7425644993782043,
            "bin_end": 0.7523055911064148,
            "count": 1
           },
           {
            "bin_start": 0.7523055911064148,
            "bin_end": 0.7620466828346253,
            "count": 1
           },
           {
            "bin_start": 0.7620466828346253,
            "bin_end": 0.7717877745628356,
            "count": 0
           },
           {
            "bin_start": 0.7717877745628356,
            "bin_end": 0.7815288662910461,
            "count": 2
           },
           {
            "bin_start": 0.7815288662910461,
            "bin_end": 0.7912699580192566,
            "count": 0
           },
           {
            "bin_start": 0.7912699580192566,
            "bin_end": 0.8010110497474671,
            "count": 0
           },
           {
            "bin_start": 0.8010110497474671,
            "bin_end": 0.8107521414756775,
            "count": 0
           },
           {
            "bin_start": 0.8107521414756775,
            "bin_end": 0.8204932332038879,
            "count": 0
           },
           {
            "bin_start": 0.8204932332038879,
            "bin_end": 0.8302343249320984,
            "count": 0
           },
           {
            "bin_start": 0.8302343249320984,
            "bin_end": 0.8399754166603088,
            "count": 1
           }
          ]
         }
        },
        {
         "name": "_deepnote_index_column",
         "dtype": "int64"
        }
       ],
       "rows": [
        {
         "id": "308034",
         "age": "0.4461538461538461",
         "region_code": "8.0",
         "policy_sales_channel": "3.0",
         "previously_insured": "0",
         "vintage": "0.9965397923875432",
         "vehicle_age": "2",
         "vehicle_damage": "1",
         "response": "0",
         "score_xgb": "0.8399754166603088",
         "_deepnote_index_column": "308033"
        },
        {
         "id": "269432",
         "age": "0.1538461538461538",
         "region_code": "3.0",
         "policy_sales_channel": "163.0",
         "previously_insured": "0",
         "vintage": "0.9757785467128028",
         "vehicle_age": "2",
         "vehicle_damage": "1",
         "response": "0",
         "score_xgb": "0.7753957509994507",
         "_deepnote_index_column": "269431"
        },
        {
         "id": "359030",
         "age": "0.5846153846153846",
         "region_code": "28.0",
         "policy_sales_channel": "3.0",
         "previously_insured": "0",
         "vintage": "0.6193771626297578",
         "vehicle_age": "3",
         "vehicle_damage": "1",
         "response": "0",
         "score_xgb": "0.7723471522331238",
         "_deepnote_index_column": "359029"
        },
        {
         "id": "324646",
         "age": "0.0923076923076923",
         "region_code": "7.0",
         "policy_sales_channel": "124.0",
         "previously_insured": "0",
         "vintage": "0.0034602076124567",
         "vehicle_age": "1",
         "vehicle_damage": "1",
         "response": "0",
         "score_xgb": "0.7598636150360107",
         "_deepnote_index_column": "324645"
        },
        {
         "id": "180726",
         "age": "0.6000000000000001",
         "region_code": "28.0",
         "policy_sales_channel": "26.0",
         "previously_insured": "0",
         "vintage": "0.8373702422145329",
         "vehicle_age": "1",
         "vehicle_damage": "1",
         "response": "0",
         "score_xgb": "0.7425644993782043",
         "_deepnote_index_column": "180725"
        }
       ]
      },
      "text/plain": "            id       age  region_code  policy_sales_channel  \\\n308033  308034  0.446154          8.0                   3.0   \n269431  269432  0.153846          3.0                 163.0   \n359029  359030  0.584615         28.0                   3.0   \n324645  324646  0.092308          7.0                 124.0   \n180725  180726  0.600000         28.0                  26.0   \n\n        previously_insured   vintage  vehicle_age  vehicle_damage  response  \\\n308033                   0  0.996540            2               1         0   \n269431                   0  0.975779            2               1         0   \n359029                   0  0.619377            3               1         0   \n324645                   0  0.003460            1               1         0   \n180725                   0  0.837370            1               1         0   \n\n        score_xgb  \n308033   0.839975  \n269431   0.775396  \n359029   0.772347  \n324645   0.759864  \n180725   0.742564  ",
      "text/html": "<div>\n<style scoped>\n    .dataframe tbody tr th:only-of-type {\n        vertical-align: middle;\n    }\n\n    .dataframe tbody tr th {\n        vertical-align: top;\n    }\n\n    .dataframe thead th {\n        text-align: right;\n    }\n</style>\n<table border=\"1\" class=\"dataframe\">\n  <thead>\n    <tr style=\"text-align: right;\">\n      <th></th>\n      <th>id</th>\n      <th>age</th>\n      <th>region_code</th>\n      <th>policy_sales_channel</th>\n      <th>previously_insured</th>\n      <th>vintage</th>\n      <th>vehicle_age</th>\n      <th>vehicle_damage</th>\n      <th>response</th>\n      <th>score_xgb</th>\n    </tr>\n  </thead>\n  <tbody>\n    <tr>\n      <th>308033</th>\n      <td>308034</td>\n      <td>0.446154</td>\n      <td>8.0</td>\n      <td>3.0</td>\n      <td>0</td>\n      <td>0.996540</td>\n      <td>2</td>\n      <td>1</td>\n      <td>0</td>\n      <td>0.839975</td>\n    </tr>\n    <tr>\n      <th>269431</th>\n      <td>269432</td>\n      <td>0.153846</td>\n      <td>3.0</td>\n      <td>163.0</td>\n      <td>0</td>\n      <td>0.975779</td>\n      <td>2</td>\n      <td>1</td>\n      <td>0</td>\n      <td>0.775396</td>\n    </tr>\n    <tr>\n      <th>359029</th>\n      <td>359030</td>\n      <td>0.584615</td>\n      <td>28.0</td>\n      <td>3.0</td>\n      <td>0</td>\n      <td>0.619377</td>\n      <td>3</td>\n      <td>1</td>\n      <td>0</td>\n      <td>0.772347</td>\n    </tr>\n    <tr>\n      <th>324645</th>\n      <td>324646</td>\n      <td>0.092308</td>\n      <td>7.0</td>\n      <td>124.0</td>\n      <td>0</td>\n      <td>0.003460</td>\n      <td>1</td>\n      <td>1</td>\n      <td>0</td>\n      <td>0.759864</td>\n    </tr>\n    <tr>\n      <th>180725</th>\n      <td>180726</td>\n      <td>0.600000</td>\n      <td>28.0</td>\n      <td>26.0</td>\n      <td>0</td>\n      <td>0.837370</td>\n      <td>1</td>\n      <td>1</td>\n      <td>0</td>\n      <td>0.742564</td>\n    </tr>\n  </tbody>\n</table>\n</div>"
     },
     "metadata": {}
    }
   ]
  },
  {
   "cell_type": "code",
   "metadata": {
    "ExecuteTime": {
     "end_time": "2022-09-14T00:59:16.757580Z",
     "start_time": "2022-09-14T00:59:16.626039Z"
    },
    "cell_id": "00066-e78cbdff-e532-4e1a-86bb-c727b8b570fb",
    "deepnote_to_be_reexecuted": false,
    "execution_millis": 89,
    "execution_start": 1663075830764,
    "source_hash": "bd5735b3",
    "deepnote_cell_type": "code",
    "deepnote_cell_height": 75.60000610351562
   },
   "source": "xgb_performace = performace(\"XGBoost\",xgb_df,y_val,yhat_xgb_class,clients)",
   "execution_count": null,
   "outputs": []
  },
  {
   "cell_type": "code",
   "metadata": {
    "ExecuteTime": {
     "end_time": "2022-09-14T00:59:16.795297Z",
     "start_time": "2022-09-14T00:59:16.757580Z"
    },
    "cell_id": "00067-24f9a94c-dd95-4675-9ff2-08ad9e4592de",
    "deepnote_to_be_reexecuted": false,
    "execution_millis": 2,
    "execution_start": 1663075830899,
    "source_hash": "e518ccbf",
    "deepnote_cell_type": "code",
    "deepnote_cell_height": 150.39999389648438,
    "deepnote_output_heights": [
     59
    ]
   },
   "source": "xgb_performace",
   "execution_count": null,
   "outputs": [
    {
     "output_type": "execute_result",
     "execution_count": 51,
     "data": {
      "application/vnd.deepnote.dataframe.v3+json": {
       "column_count": 6,
       "row_count": 1,
       "columns": [
        {
         "name": "Model Name",
         "dtype": "object",
         "stats": {
          "unique_count": 1,
          "nan_count": 0,
          "categories": [
           {
            "name": "XGBoost",
            "count": 1
           }
          ]
         }
        },
        {
         "name": "Precison",
         "dtype": "float64",
         "stats": {
          "unique_count": 1,
          "nan_count": 0,
          "min": "0.4323529411764706",
          "max": "0.4323529411764706",
          "histogram": [
           {
            "bin_start": -0.0676470588235294,
            "bin_end": 0.03235294117647061,
            "count": 0
           },
           {
            "bin_start": 0.03235294117647061,
            "bin_end": 0.13235294117647062,
            "count": 0
           },
           {
            "bin_start": 0.13235294117647062,
            "bin_end": 0.23235294117647065,
            "count": 0
           },
           {
            "bin_start": 0.23235294117647065,
            "bin_end": 0.33235294117647063,
            "count": 0
           },
           {
            "bin_start": 0.33235294117647063,
            "bin_end": 0.4323529411764706,
            "count": 0
           },
           {
            "bin_start": 0.4323529411764706,
            "bin_end": 0.5323529411764707,
            "count": 1
           },
           {
            "bin_start": 0.5323529411764707,
            "bin_end": 0.6323529411764707,
            "count": 0
           },
           {
            "bin_start": 0.6323529411764707,
            "bin_end": 0.7323529411764707,
            "count": 0
           },
           {
            "bin_start": 0.7323529411764707,
            "bin_end": 0.8323529411764706,
            "count": 0
           },
           {
            "bin_start": 0.8323529411764706,
            "bin_end": 0.9323529411764706,
            "count": 0
           }
          ]
         }
        },
        {
         "name": "Recall",
         "dtype": "float64",
         "stats": {
          "unique_count": 1,
          "nan_count": 0,
          "min": "0.02098051809034468",
          "max": "0.02098051809034468",
          "histogram": [
           {
            "bin_start": -0.4790194819096553,
            "bin_end": -0.3790194819096553,
            "count": 0
           },
           {
            "bin_start": -0.3790194819096553,
            "bin_end": -0.2790194819096553,
            "count": 0
           },
           {
            "bin_start": -0.2790194819096553,
            "bin_end": -0.17901948190965528,
            "count": 0
           },
           {
            "bin_start": -0.17901948190965528,
            "bin_end": -0.0790194819096553,
            "count": 0
           },
           {
            "bin_start": -0.0790194819096553,
            "bin_end": 0.02098051809034468,
            "count": 0
           },
           {
            "bin_start": 0.02098051809034468,
            "bin_end": 0.12098051809034477,
            "count": 1
           },
           {
            "bin_start": 0.12098051809034477,
            "bin_end": 0.22098051809034475,
            "count": 0
           },
           {
            "bin_start": 0.22098051809034475,
            "bin_end": 0.3209805180903447,
            "count": 0
           },
           {
            "bin_start": 0.3209805180903447,
            "bin_end": 0.4209805180903447,
            "count": 0
           },
           {
            "bin_start": 0.4209805180903447,
            "bin_end": 0.5209805180903446,
            "count": 0
           }
          ]
         }
        },
        {
         "name": "k",
         "dtype": "int64",
         "stats": {
          "unique_count": 1,
          "nan_count": 0,
          "min": "20000",
          "max": "20000",
          "histogram": [
           {
            "bin_start": 19999.5,
            "bin_end": 19999.6,
            "count": 0
           },
           {
            "bin_start": 19999.6,
            "bin_end": 19999.7,
            "count": 0
           },
           {
            "bin_start": 19999.7,
            "bin_end": 19999.8,
            "count": 0
           },
           {
            "bin_start": 19999.8,
            "bin_end": 19999.9,
            "count": 0
           },
           {
            "bin_start": 19999.9,
            "bin_end": 20000,
            "count": 0
           },
           {
            "bin_start": 20000,
            "bin_end": 20000.1,
            "count": 1
           },
           {
            "bin_start": 20000.1,
            "bin_end": 20000.2,
            "count": 0
           },
           {
            "bin_start": 20000.2,
            "bin_end": 20000.3,
            "count": 0
           },
           {
            "bin_start": 20000.3,
            "bin_end": 20000.4,
            "count": 0
           },
           {
            "bin_start": 20000.4,
            "bin_end": 20000.5,
            "count": 0
           }
          ]
         }
        },
        {
         "name": "Precison at k",
         "dtype": "float64",
         "stats": {
          "unique_count": 1,
          "nan_count": 0,
          "min": "0.36108194590270487",
          "max": "0.36108194590270487",
          "histogram": [
           {
            "bin_start": -0.13891805409729513,
            "bin_end": -0.038918054097295124,
            "count": 0
           },
           {
            "bin_start": -0.038918054097295124,
            "bin_end": 0.06108194590270488,
            "count": 0
           },
           {
            "bin_start": 0.06108194590270488,
            "bin_end": 0.16108194590270491,
            "count": 0
           },
           {
            "bin_start": 0.16108194590270491,
            "bin_end": 0.2610819459027049,
            "count": 0
           },
           {
            "bin_start": 0.2610819459027049,
            "bin_end": 0.36108194590270487,
            "count": 0
           },
           {
            "bin_start": 0.36108194590270487,
            "bin_end": 0.46108194590270496,
            "count": 1
           },
           {
            "bin_start": 0.46108194590270496,
            "bin_end": 0.561081945902705,
            "count": 0
           },
           {
            "bin_start": 0.561081945902705,
            "bin_end": 0.6610819459027049,
            "count": 0
           },
           {
            "bin_start": 0.6610819459027049,
            "bin_end": 0.761081945902705,
            "count": 0
           },
           {
            "bin_start": 0.761081945902705,
            "bin_end": 0.8610819459027048,
            "count": 0
           }
          ]
         }
        },
        {
         "name": "Recall at k",
         "dtype": "float64",
         "stats": {
          "unique_count": 1,
          "nan_count": 0,
          "min": "0.5153785770356097",
          "max": "0.5153785770356097",
          "histogram": [
           {
            "bin_start": 0.015378577035609742,
            "bin_end": 0.11537857703560973,
            "count": 0
           },
           {
            "bin_start": 0.11537857703560973,
            "bin_end": 0.21537857703560973,
            "count": 0
           },
           {
            "bin_start": 0.21537857703560973,
            "bin_end": 0.31537857703560973,
            "count": 0
           },
           {
            "bin_start": 0.31537857703560973,
            "bin_end": 0.4153785770356097,
            "count": 0
           },
           {
            "bin_start": 0.4153785770356097,
            "bin_end": 0.5153785770356096,
            "count": 0
           },
           {
            "bin_start": 0.5153785770356096,
            "bin_end": 0.6153785770356097,
            "count": 1
           },
           {
            "bin_start": 0.6153785770356097,
            "bin_end": 0.7153785770356097,
            "count": 0
           },
           {
            "bin_start": 0.7153785770356097,
            "bin_end": 0.8153785770356097,
            "count": 0
           },
           {
            "bin_start": 0.8153785770356097,
            "bin_end": 0.9153785770356097,
            "count": 0
           },
           {
            "bin_start": 0.9153785770356097,
            "bin_end": 1.0153785770356096,
            "count": 0
           }
          ]
         }
        },
        {
         "name": "_deepnote_index_column",
         "dtype": "int64"
        }
       ],
       "rows": [
        {
         "Model Name": "XGBoost",
         "Precison": "0.4323529411764706",
         "Recall": "0.02098051809034468",
         "k": "20000",
         "Precison at k": "0.36108194590270487",
         "Recall at k": "0.5153785770356097",
         "_deepnote_index_column": "0"
        }
       ]
      },
      "text/plain": "  Model Name  Precison    Recall      k  Precison at k  Recall at k\n0    XGBoost  0.432353  0.020981  20000       0.361082     0.515379",
      "text/html": "<div>\n<style scoped>\n    .dataframe tbody tr th:only-of-type {\n        vertical-align: middle;\n    }\n\n    .dataframe tbody tr th {\n        vertical-align: top;\n    }\n\n    .dataframe thead th {\n        text-align: right;\n    }\n</style>\n<table border=\"1\" class=\"dataframe\">\n  <thead>\n    <tr style=\"text-align: right;\">\n      <th></th>\n      <th>Model Name</th>\n      <th>Precison</th>\n      <th>Recall</th>\n      <th>k</th>\n      <th>Precison at k</th>\n      <th>Recall at k</th>\n    </tr>\n  </thead>\n  <tbody>\n    <tr>\n      <th>0</th>\n      <td>XGBoost</td>\n      <td>0.432353</td>\n      <td>0.020981</td>\n      <td>20000</td>\n      <td>0.361082</td>\n      <td>0.515379</td>\n    </tr>\n  </tbody>\n</table>\n</div>"
     },
     "metadata": {}
    }
   ]
  },
  {
   "cell_type": "markdown",
   "source": "# Model comparrison",
   "metadata": {
    "cell_id": "00068-43a40468-d766-4a92-9077-be35e724189d",
    "deepnote_cell_type": "markdown",
    "deepnote_cell_height": 81.60000610351562
   }
  },
  {
   "cell_type": "code",
   "metadata": {
    "ExecuteTime": {
     "end_time": "2022-09-14T00:59:16.826540Z",
     "start_time": "2022-09-14T00:59:16.795297Z"
    },
    "cell_id": "00069-17f50f37-4610-4017-a3b1-188d76530cf0",
    "deepnote_to_be_reexecuted": false,
    "execution_millis": 0,
    "execution_start": 1663075830942,
    "source_hash": "128bf144",
    "deepnote_cell_type": "code",
    "deepnote_cell_height": 75.60000610351562
   },
   "source": "model_comp = pd.concat([knn_performace,lm_performace,rf_performace,et_performace,xgb_performace])",
   "execution_count": null,
   "outputs": []
  },
  {
   "cell_type": "code",
   "metadata": {
    "ExecuteTime": {
     "end_time": "2022-09-14T00:59:16.857783Z",
     "start_time": "2022-09-14T00:59:16.826540Z"
    },
    "cell_id": "00070-1eb35801-a6aa-4d87-abe0-e32a85d585f6",
    "deepnote_to_be_reexecuted": false,
    "execution_millis": 7,
    "execution_start": 1663075830943,
    "source_hash": "c8530f44",
    "deepnote_cell_type": "code",
    "deepnote_cell_height": 266.3999938964844,
    "deepnote_output_heights": [
     175
    ]
   },
   "source": "model_comp.sort_values(by='Recall at k',ascending=False)",
   "execution_count": null,
   "outputs": [
    {
     "output_type": "execute_result",
     "execution_count": 53,
     "data": {
      "application/vnd.deepnote.dataframe.v3+json": {
       "column_count": 6,
       "row_count": 5,
       "columns": [
        {
         "name": "Model Name",
         "dtype": "object",
         "stats": {
          "unique_count": 5,
          "nan_count": 0,
          "categories": [
           {
            "name": "XGBoost",
            "count": 1
           },
           {
            "name": "Extra trees",
            "count": 1
           },
           {
            "name": "3 others",
            "count": 3
           }
          ]
         }
        },
        {
         "name": "Precison",
         "dtype": "float64",
         "stats": {
          "unique_count": 5,
          "nan_count": 0,
          "min": "0.0",
          "max": "0.4576271186440678",
          "histogram": [
           {
            "bin_start": 0,
            "bin_end": 0.04576271186440678,
            "count": 1
           },
           {
            "bin_start": 0.04576271186440678,
            "bin_end": 0.09152542372881356,
            "count": 0
           },
           {
            "bin_start": 0.09152542372881356,
            "bin_end": 0.13728813559322034,
            "count": 0
           },
           {
            "bin_start": 0.13728813559322034,
            "bin_end": 0.18305084745762712,
            "count": 0
           },
           {
            "bin_start": 0.18305084745762712,
            "bin_end": 0.2288135593220339,
            "count": 0
           },
           {
            "bin_start": 0.2288135593220339,
            "bin_end": 0.2745762711864407,
            "count": 0
           },
           {
            "bin_start": 0.2745762711864407,
            "bin_end": 0.32033898305084746,
            "count": 0
           },
           {
            "bin_start": 0.32033898305084746,
            "bin_end": 0.36610169491525424,
            "count": 2
           },
           {
            "bin_start": 0.36610169491525424,
            "bin_end": 0.411864406779661,
            "count": 0
           },
           {
            "bin_start": 0.411864406779661,
            "bin_end": 0.4576271186440678,
            "count": 2
           }
          ]
         }
        },
        {
         "name": "Recall",
         "dtype": "float64",
         "stats": {
          "unique_count": 5,
          "nan_count": 0,
          "min": "0.0",
          "max": "0.20844929708128165",
          "histogram": [
           {
            "bin_start": 0,
            "bin_end": 0.020844929708128165,
            "count": 2
           },
           {
            "bin_start": 0.020844929708128165,
            "bin_end": 0.04168985941625633,
            "count": 1
           },
           {
            "bin_start": 0.04168985941625633,
            "bin_end": 0.0625347891243845,
            "count": 0
           },
           {
            "bin_start": 0.0625347891243845,
            "bin_end": 0.08337971883251266,
            "count": 0
           },
           {
            "bin_start": 0.08337971883251266,
            "bin_end": 0.10422464854064083,
            "count": 0
           },
           {
            "bin_start": 0.10422464854064083,
            "bin_end": 0.125069578248769,
            "count": 0
           },
           {
            "bin_start": 0.125069578248769,
            "bin_end": 0.14591450795689714,
            "count": 0
           },
           {
            "bin_start": 0.14591450795689714,
            "bin_end": 0.16675943766502532,
            "count": 0
           },
           {
            "bin_start": 0.16675943766502532,
            "bin_end": 0.1876043673731535,
            "count": 1
           },
           {
            "bin_start": 0.1876043673731535,
            "bin_end": 0.20844929708128165,
            "count": 1
           }
          ]
         }
        },
        {
         "name": "k",
         "dtype": "int64",
         "stats": {
          "unique_count": 1,
          "nan_count": 0,
          "min": "20000",
          "max": "20000",
          "histogram": [
           {
            "bin_start": 19999.5,
            "bin_end": 19999.6,
            "count": 0
           },
           {
            "bin_start": 19999.6,
            "bin_end": 19999.7,
            "count": 0
           },
           {
            "bin_start": 19999.7,
            "bin_end": 19999.8,
            "count": 0
           },
           {
            "bin_start": 19999.8,
            "bin_end": 19999.9,
            "count": 0
           },
           {
            "bin_start": 19999.9,
            "bin_end": 20000,
            "count": 0
           },
           {
            "bin_start": 20000,
            "bin_end": 20000.1,
            "count": 5
           },
           {
            "bin_start": 20000.1,
            "bin_end": 20000.2,
            "count": 0
           },
           {
            "bin_start": 20000.2,
            "bin_end": 20000.3,
            "count": 0
           },
           {
            "bin_start": 20000.3,
            "bin_end": 20000.4,
            "count": 0
           },
           {
            "bin_start": 20000.4,
            "bin_end": 20000.5,
            "count": 0
           }
          ]
         }
        },
        {
         "name": "Precison at k",
         "dtype": "float64",
         "stats": {
          "unique_count": 5,
          "nan_count": 0,
          "min": "0.3111344432778361",
          "max": "0.36108194590270487",
          "histogram": [
           {
            "bin_start": 0.3111344432778361,
            "bin_end": 0.316129193540323,
            "count": 2
           },
           {
            "bin_start": 0.316129193540323,
            "bin_end": 0.3211239438028099,
            "count": 0
           },
           {
            "bin_start": 0.3211239438028099,
            "bin_end": 0.32611869406529675,
            "count": 0
           },
           {
            "bin_start": 0.32611869406529675,
            "bin_end": 0.3311134443277836,
            "count": 1
           },
           {
            "bin_start": 0.3311134443277836,
            "bin_end": 0.3361081945902705,
            "count": 0
           },
           {
            "bin_start": 0.3361081945902705,
            "bin_end": 0.3411029448527574,
            "count": 0
           },
           {
            "bin_start": 0.3411029448527574,
            "bin_end": 0.34609769511524424,
            "count": 0
           },
           {
            "bin_start": 0.34609769511524424,
            "bin_end": 0.3510924453777311,
            "count": 0
           },
           {
            "bin_start": 0.3510924453777311,
            "bin_end": 0.356087195640218,
            "count": 0
           },
           {
            "bin_start": 0.356087195640218,
            "bin_end": 0.36108194590270487,
            "count": 2
           }
          ]
         }
        },
        {
         "name": "Recall at k",
         "dtype": "float64",
         "stats": {
          "unique_count": 5,
          "nan_count": 0,
          "min": "0.44408763291229575",
          "max": "0.5153785770356097",
          "histogram": [
           {
            "bin_start": 0.44408763291229575,
            "bin_end": 0.45121672732462714,
            "count": 2
           },
           {
            "bin_start": 0.45121672732462714,
            "bin_end": 0.45834582173695854,
            "count": 0
           },
           {
            "bin_start": 0.45834582173695854,
            "bin_end": 0.46547491614928993,
            "count": 0
           },
           {
            "bin_start": 0.46547491614928993,
            "bin_end": 0.4726040105616213,
            "count": 1
           },
           {
            "bin_start": 0.4726040105616213,
            "bin_end": 0.4797331049739527,
            "count": 0
           },
           {
            "bin_start": 0.4797331049739527,
            "bin_end": 0.48686219938628417,
            "count": 0
           },
           {
            "bin_start": 0.48686219938628417,
            "bin_end": 0.49399129379861556,
            "count": 0
           },
           {
            "bin_start": 0.49399129379861556,
            "bin_end": 0.501120388210947,
            "count": 0
           },
           {
            "bin_start": 0.501120388210947,
            "bin_end": 0.5082494826232783,
            "count": 0
           },
           {
            "bin_start": 0.5082494826232783,
            "bin_end": 0.5153785770356097,
            "count": 2
           }
          ]
         }
        },
        {
         "name": "_deepnote_index_column",
         "dtype": "int64"
        }
       ],
       "rows": [
        {
         "Model Name": "XGBoost",
         "Precison": "0.4323529411764706",
         "Recall": "0.02098051809034468",
         "k": "20000",
         "Precison at k": "0.36108194590270487",
         "Recall at k": "0.5153785770356097",
         "_deepnote_index_column": "0"
        },
        {
         "Model Name": "Extra trees",
         "Precison": "0.0",
         "Recall": "0.0",
         "k": "20000",
         "Precison at k": "0.3590820458977051",
         "Recall at k": "0.51252408477842",
         "_deepnote_index_column": "0"
        },
        {
         "Model Name": "linear model",
         "Precison": "0.4576271186440678",
         "Recall": "0.0019267822736030828",
         "k": "20000",
         "Precison at k": "0.33093345332733365",
         "Recall at k": "0.47234710625847426",
         "_deepnote_index_column": "0"
        },
        {
         "Model Name": "KNN",
         "Precison": "0.3390610201596536",
         "Recall": "0.17883393991293797",
         "k": "20000",
         "Precison at k": "0.31138443077846106",
         "Recall at k": "0.4444444444444444",
         "_deepnote_index_column": "0"
        },
        {
         "Model Name": "Random forest",
         "Precison": "0.32651464341605185",
         "Recall": "0.20844929708128165",
         "k": "20000",
         "Precison at k": "0.3111344432778361",
         "Recall at k": "0.44408763291229575",
         "_deepnote_index_column": "0"
        }
       ]
      },
      "text/plain": "      Model Name  Precison    Recall      k  Precison at k  Recall at k\n0        XGBoost  0.432353  0.020981  20000       0.361082     0.515379\n0    Extra trees  0.000000  0.000000  20000       0.359082     0.512524\n0   linear model  0.457627  0.001927  20000       0.330933     0.472347\n0            KNN  0.339061  0.178834  20000       0.311384     0.444444\n0  Random forest  0.326515  0.208449  20000       0.311134     0.444088",
      "text/html": "<div>\n<style scoped>\n    .dataframe tbody tr th:only-of-type {\n        vertical-align: middle;\n    }\n\n    .dataframe tbody tr th {\n        vertical-align: top;\n    }\n\n    .dataframe thead th {\n        text-align: right;\n    }\n</style>\n<table border=\"1\" class=\"dataframe\">\n  <thead>\n    <tr style=\"text-align: right;\">\n      <th></th>\n      <th>Model Name</th>\n      <th>Precison</th>\n      <th>Recall</th>\n      <th>k</th>\n      <th>Precison at k</th>\n      <th>Recall at k</th>\n    </tr>\n  </thead>\n  <tbody>\n    <tr>\n      <th>0</th>\n      <td>XGBoost</td>\n      <td>0.432353</td>\n      <td>0.020981</td>\n      <td>20000</td>\n      <td>0.361082</td>\n      <td>0.515379</td>\n    </tr>\n    <tr>\n      <th>0</th>\n      <td>Extra trees</td>\n      <td>0.000000</td>\n      <td>0.000000</td>\n      <td>20000</td>\n      <td>0.359082</td>\n      <td>0.512524</td>\n    </tr>\n    <tr>\n      <th>0</th>\n      <td>linear model</td>\n      <td>0.457627</td>\n      <td>0.001927</td>\n      <td>20000</td>\n      <td>0.330933</td>\n      <td>0.472347</td>\n    </tr>\n    <tr>\n      <th>0</th>\n      <td>KNN</td>\n      <td>0.339061</td>\n      <td>0.178834</td>\n      <td>20000</td>\n      <td>0.311384</td>\n      <td>0.444444</td>\n    </tr>\n    <tr>\n      <th>0</th>\n      <td>Random forest</td>\n      <td>0.326515</td>\n      <td>0.208449</td>\n      <td>20000</td>\n      <td>0.311134</td>\n      <td>0.444088</td>\n    </tr>\n  </tbody>\n</table>\n</div>"
     },
     "metadata": {}
    }
   ]
  },
  {
   "cell_type": "markdown",
   "source": "# Croos validation",
   "metadata": {
    "cell_id": "7729b9592a0040b9b48b9c4bf63ea40e",
    "tags": [],
    "deepnote_cell_type": "markdown",
    "deepnote_cell_height": 81.60000610351562
   }
  },
  {
   "cell_type": "code",
   "metadata": {
    "ExecuteTime": {
     "end_time": "2022-09-14T00:59:16.873404Z",
     "start_time": "2022-09-14T00:59:16.857783Z"
    },
    "cell_id": "10b61a404d604ec29e3e9c0b82be0527",
    "deepnote_to_be_reexecuted": false,
    "execution_millis": 2,
    "execution_start": 1663115859141,
    "source_hash": "96169d53",
    "tags": [],
    "deepnote_cell_type": "code",
    "deepnote_cell_height": 183.60000610351562
   },
   "source": "models = {\n    'KNN': knn_model,\n    'Linear model': lm_model,\n    'Random forrest': rf_model,\n    'Extra trees': et_model,\n    'XGBoost':xgb_model\n}",
   "execution_count": null,
   "outputs": []
  },
  {
   "cell_type": "code",
   "metadata": {
    "ExecuteTime": {
     "end_time": "2022-09-14T00:59:16.895558Z",
     "start_time": "2022-09-14T00:59:16.873404Z"
    },
    "cell_id": "b4dd383fbea74b0d99c0c71dd7b9727c",
    "deepnote_to_be_reexecuted": false,
    "execution_millis": 2,
    "execution_start": 1663115863194,
    "source_hash": "3f39f1c8",
    "tags": [],
    "deepnote_cell_type": "code",
    "deepnote_cell_height": 75.60000610351562
   },
   "source": "models_comparison = pd.DataFrame()",
   "execution_count": null,
   "outputs": []
  },
  {
   "cell_type": "code",
   "metadata": {
    "ExecuteTime": {
     "end_time": "2022-09-14T01:40:07.517522Z",
     "start_time": "2022-09-14T00:59:16.895558Z"
    },
    "cell_id": "77188b1acc204fefaa0cb2826b9b1cfe",
    "deepnote_to_be_reexecuted": false,
    "execution_millis": 70213,
    "execution_start": 1663115865559,
    "source_hash": "e239236d",
    "tags": [],
    "deepnote_cell_type": "code",
    "deepnote_cell_height": 202.39999389648438
   },
   "source": "for c, v in models.items():\n    aux = performace_cross_val(df6,'response',v,c,k=20000)\n    models_comparison = pd.concat([models_comparison,aux])",
   "execution_count": null,
   "outputs": [
    {
     "name": "stderr",
     "text": "/shared-libs/python3.9/py/lib/python3.9/site-packages/sklearn/neighbors/_classification.py:237: FutureWarning: Unlike other reduction functions (e.g. `skew`, `kurtosis`), the default behavior of `mode` typically preserves the axis it acts along. In SciPy 1.11.0, this behavior will change: the default value of `keepdims` will become False, the `axis` over which the statistic is taken will be eliminated, and the value None will no longer be accepted. Set `keepdims` to True or False to avoid this warning.\n  mode, _ = stats.mode(_y[neigh_ind, k], axis=1)\n/shared-libs/python3.9/py/lib/python3.9/site-packages/sklearn/neighbors/_classification.py:237: FutureWarning: Unlike other reduction functions (e.g. `skew`, `kurtosis`), the default behavior of `mode` typically preserves the axis it acts along. In SciPy 1.11.0, this behavior will change: the default value of `keepdims` will become False, the `axis` over which the statistic is taken will be eliminated, and the value None will no longer be accepted. Set `keepdims` to True or False to avoid this warning.\n  mode, _ = stats.mode(_y[neigh_ind, k], axis=1)\n/shared-libs/python3.9/py/lib/python3.9/site-packages/sklearn/neighbors/_classification.py:237: FutureWarning: Unlike other reduction functions (e.g. `skew`, `kurtosis`), the default behavior of `mode` typically preserves the axis it acts along. In SciPy 1.11.0, this behavior will change: the default value of `keepdims` will become False, the `axis` over which the statistic is taken will be eliminated, and the value None will no longer be accepted. Set `keepdims` to True or False to avoid this warning.\n  mode, _ = stats.mode(_y[neigh_ind, k], axis=1)\n",
     "output_type": "stream"
    },
    {
     "output_type": "error",
     "ename": "KeyboardInterrupt",
     "evalue": "",
     "traceback": [
      "\u001b[0;31m---------------------------------------------------------------------------\u001b[0m",
      "\u001b[0;31mKeyboardInterrupt\u001b[0m                         Traceback (most recent call last)",
      "Input \u001b[0;32mIn [14]\u001b[0m, in \u001b[0;36m<cell line: 1>\u001b[0;34m()\u001b[0m\n\u001b[1;32m      1\u001b[0m \u001b[38;5;28;01mfor\u001b[39;00m c, v \u001b[38;5;129;01min\u001b[39;00m models\u001b[38;5;241m.\u001b[39mitems():\n\u001b[0;32m----> 2\u001b[0m     aux \u001b[38;5;241m=\u001b[39m \u001b[43mperformace_cross_val\u001b[49m\u001b[43m(\u001b[49m\u001b[43mdf6\u001b[49m\u001b[43m,\u001b[49m\u001b[38;5;124;43m'\u001b[39;49m\u001b[38;5;124;43mresponse\u001b[39;49m\u001b[38;5;124;43m'\u001b[39;49m\u001b[43m,\u001b[49m\u001b[43mv\u001b[49m\u001b[43m,\u001b[49m\u001b[43mc\u001b[49m\u001b[43m,\u001b[49m\u001b[43mk\u001b[49m\u001b[38;5;241;43m=\u001b[39;49m\u001b[38;5;241;43m20000\u001b[39;49m\u001b[43m)\u001b[49m\n\u001b[1;32m      3\u001b[0m     models_comparison \u001b[38;5;241m=\u001b[39m pd\u001b[38;5;241m.\u001b[39mconcat([models_comparison,aux])\n",
      "Input \u001b[0;32mIn [6]\u001b[0m, in \u001b[0;36mperformace_cross_val\u001b[0;34m(data, target, model, model_name, round_n, splits, shuffle_n, random, k)\u001b[0m\n\u001b[1;32m     19\u001b[0m yhat_class \u001b[38;5;241m=\u001b[39m model\u001b[38;5;241m.\u001b[39mpredict( X\u001b[38;5;241m.\u001b[39miloc[test_index] )\n\u001b[1;32m     21\u001b[0m \u001b[38;5;66;03m#predict the probabilit\u001b[39;00m\n\u001b[0;32m---> 22\u001b[0m yhat_proba \u001b[38;5;241m=\u001b[39m \u001b[43mmodel\u001b[49m\u001b[38;5;241;43m.\u001b[39;49m\u001b[43mpredict_proba\u001b[49m\u001b[43m(\u001b[49m\u001b[43mX\u001b[49m\u001b[38;5;241;43m.\u001b[39;49m\u001b[43miloc\u001b[49m\u001b[43m[\u001b[49m\u001b[43mtest_index\u001b[49m\u001b[43m]\u001b[49m\u001b[43m)\u001b[49m\n\u001b[1;32m     24\u001b[0m \u001b[38;5;66;03m# precision and recall\u001b[39;00m\n\u001b[1;32m     25\u001b[0m prec \u001b[38;5;241m=\u001b[39m sklearn\u001b[38;5;241m.\u001b[39mmetrics\u001b[38;5;241m.\u001b[39mprecision_score(y\u001b[38;5;241m.\u001b[39miloc[test_index],yhat_class)\n",
      "File \u001b[0;32m/shared-libs/python3.9/py/lib/python3.9/site-packages/sklearn/neighbors/_classification.py:268\u001b[0m, in \u001b[0;36mKNeighborsClassifier.predict_proba\u001b[0;34m(self, X)\u001b[0m\n\u001b[1;32m    250\u001b[0m \u001b[38;5;124;03m\"\"\"Return probability estimates for the test data X.\u001b[39;00m\n\u001b[1;32m    251\u001b[0m \n\u001b[1;32m    252\u001b[0m \u001b[38;5;124;03mParameters\u001b[39;00m\n\u001b[0;32m   (...)\u001b[0m\n\u001b[1;32m    263\u001b[0m \u001b[38;5;124;03m    by lexicographic order.\u001b[39;00m\n\u001b[1;32m    264\u001b[0m \u001b[38;5;124;03m\"\"\"\u001b[39;00m\n\u001b[1;32m    265\u001b[0m \u001b[38;5;28;01mif\u001b[39;00m \u001b[38;5;28mself\u001b[39m\u001b[38;5;241m.\u001b[39mweights \u001b[38;5;241m==\u001b[39m \u001b[38;5;124m\"\u001b[39m\u001b[38;5;124muniform\u001b[39m\u001b[38;5;124m\"\u001b[39m:\n\u001b[1;32m    266\u001b[0m     \u001b[38;5;66;03m# In that case, we do not need the distances to perform\u001b[39;00m\n\u001b[1;32m    267\u001b[0m     \u001b[38;5;66;03m# the weighting so we do not compute them.\u001b[39;00m\n\u001b[0;32m--> 268\u001b[0m     neigh_ind \u001b[38;5;241m=\u001b[39m \u001b[38;5;28;43mself\u001b[39;49m\u001b[38;5;241;43m.\u001b[39;49m\u001b[43mkneighbors\u001b[49m\u001b[43m(\u001b[49m\u001b[43mX\u001b[49m\u001b[43m,\u001b[49m\u001b[43m \u001b[49m\u001b[43mreturn_distance\u001b[49m\u001b[38;5;241;43m=\u001b[39;49m\u001b[38;5;28;43;01mFalse\u001b[39;49;00m\u001b[43m)\u001b[49m\n\u001b[1;32m    269\u001b[0m     neigh_dist \u001b[38;5;241m=\u001b[39m \u001b[38;5;28;01mNone\u001b[39;00m\n\u001b[1;32m    270\u001b[0m \u001b[38;5;28;01melse\u001b[39;00m:\n",
      "File \u001b[0;32m/shared-libs/python3.9/py/lib/python3.9/site-packages/sklearn/neighbors/_base.py:814\u001b[0m, in \u001b[0;36mKNeighborsMixin.kneighbors\u001b[0;34m(self, X, n_neighbors, return_distance)\u001b[0m\n\u001b[1;32m    808\u001b[0m     \u001b[38;5;28;01mif\u001b[39;00m issparse(X):\n\u001b[1;32m    809\u001b[0m         \u001b[38;5;28;01mraise\u001b[39;00m \u001b[38;5;167;01mValueError\u001b[39;00m(\n\u001b[1;32m    810\u001b[0m             \u001b[38;5;124m\"\u001b[39m\u001b[38;5;132;01m%s\u001b[39;00m\u001b[38;5;124m does not work with sparse matrices. Densify the data, \u001b[39m\u001b[38;5;124m\"\u001b[39m\n\u001b[1;32m    811\u001b[0m             \u001b[38;5;124m\"\u001b[39m\u001b[38;5;124mor set algorithm=\u001b[39m\u001b[38;5;124m'\u001b[39m\u001b[38;5;124mbrute\u001b[39m\u001b[38;5;124m'\u001b[39m\u001b[38;5;124m\"\u001b[39m\n\u001b[1;32m    812\u001b[0m             \u001b[38;5;241m%\u001b[39m \u001b[38;5;28mself\u001b[39m\u001b[38;5;241m.\u001b[39m_fit_method\n\u001b[1;32m    813\u001b[0m         )\n\u001b[0;32m--> 814\u001b[0m     chunked_results \u001b[38;5;241m=\u001b[39m \u001b[43mParallel\u001b[49m\u001b[43m(\u001b[49m\u001b[43mn_jobs\u001b[49m\u001b[43m,\u001b[49m\u001b[43m \u001b[49m\u001b[43mprefer\u001b[49m\u001b[38;5;241;43m=\u001b[39;49m\u001b[38;5;124;43m\"\u001b[39;49m\u001b[38;5;124;43mthreads\u001b[39;49m\u001b[38;5;124;43m\"\u001b[39;49m\u001b[43m)\u001b[49m\u001b[43m(\u001b[49m\n\u001b[1;32m    815\u001b[0m \u001b[43m        \u001b[49m\u001b[43mdelayed\u001b[49m\u001b[43m(\u001b[49m\u001b[43m_tree_query_parallel_helper\u001b[49m\u001b[43m)\u001b[49m\u001b[43m(\u001b[49m\n\u001b[1;32m    816\u001b[0m \u001b[43m            \u001b[49m\u001b[38;5;28;43mself\u001b[39;49m\u001b[38;5;241;43m.\u001b[39;49m\u001b[43m_tree\u001b[49m\u001b[43m,\u001b[49m\u001b[43m \u001b[49m\u001b[43mX\u001b[49m\u001b[43m[\u001b[49m\u001b[43ms\u001b[49m\u001b[43m]\u001b[49m\u001b[43m,\u001b[49m\u001b[43m \u001b[49m\u001b[43mn_neighbors\u001b[49m\u001b[43m,\u001b[49m\u001b[43m \u001b[49m\u001b[43mreturn_distance\u001b[49m\n\u001b[1;32m    817\u001b[0m \u001b[43m        \u001b[49m\u001b[43m)\u001b[49m\n\u001b[1;32m    818\u001b[0m \u001b[43m        \u001b[49m\u001b[38;5;28;43;01mfor\u001b[39;49;00m\u001b[43m \u001b[49m\u001b[43ms\u001b[49m\u001b[43m \u001b[49m\u001b[38;5;129;43;01min\u001b[39;49;00m\u001b[43m \u001b[49m\u001b[43mgen_even_slices\u001b[49m\u001b[43m(\u001b[49m\u001b[43mX\u001b[49m\u001b[38;5;241;43m.\u001b[39;49m\u001b[43mshape\u001b[49m\u001b[43m[\u001b[49m\u001b[38;5;241;43m0\u001b[39;49m\u001b[43m]\u001b[49m\u001b[43m,\u001b[49m\u001b[43m \u001b[49m\u001b[43mn_jobs\u001b[49m\u001b[43m)\u001b[49m\n\u001b[1;32m    819\u001b[0m \u001b[43m    \u001b[49m\u001b[43m)\u001b[49m\n\u001b[1;32m    820\u001b[0m \u001b[38;5;28;01melse\u001b[39;00m:\n\u001b[1;32m    821\u001b[0m     \u001b[38;5;28;01mraise\u001b[39;00m \u001b[38;5;167;01mValueError\u001b[39;00m(\u001b[38;5;124m\"\u001b[39m\u001b[38;5;124minternal: _fit_method not recognized\u001b[39m\u001b[38;5;124m\"\u001b[39m)\n",
      "File \u001b[0;32m/shared-libs/python3.9/py/lib/python3.9/site-packages/joblib/parallel.py:1043\u001b[0m, in \u001b[0;36mParallel.__call__\u001b[0;34m(self, iterable)\u001b[0m\n\u001b[1;32m   1034\u001b[0m \u001b[38;5;28;01mtry\u001b[39;00m:\n\u001b[1;32m   1035\u001b[0m     \u001b[38;5;66;03m# Only set self._iterating to True if at least a batch\u001b[39;00m\n\u001b[1;32m   1036\u001b[0m     \u001b[38;5;66;03m# was dispatched. In particular this covers the edge\u001b[39;00m\n\u001b[0;32m   (...)\u001b[0m\n\u001b[1;32m   1040\u001b[0m     \u001b[38;5;66;03m# was very quick and its callback already dispatched all the\u001b[39;00m\n\u001b[1;32m   1041\u001b[0m     \u001b[38;5;66;03m# remaining jobs.\u001b[39;00m\n\u001b[1;32m   1042\u001b[0m     \u001b[38;5;28mself\u001b[39m\u001b[38;5;241m.\u001b[39m_iterating \u001b[38;5;241m=\u001b[39m \u001b[38;5;28;01mFalse\u001b[39;00m\n\u001b[0;32m-> 1043\u001b[0m     \u001b[38;5;28;01mif\u001b[39;00m \u001b[38;5;28;43mself\u001b[39;49m\u001b[38;5;241;43m.\u001b[39;49m\u001b[43mdispatch_one_batch\u001b[49m\u001b[43m(\u001b[49m\u001b[43miterator\u001b[49m\u001b[43m)\u001b[49m:\n\u001b[1;32m   1044\u001b[0m         \u001b[38;5;28mself\u001b[39m\u001b[38;5;241m.\u001b[39m_iterating \u001b[38;5;241m=\u001b[39m \u001b[38;5;28mself\u001b[39m\u001b[38;5;241m.\u001b[39m_original_iterator \u001b[38;5;129;01mis\u001b[39;00m \u001b[38;5;129;01mnot\u001b[39;00m \u001b[38;5;28;01mNone\u001b[39;00m\n\u001b[1;32m   1046\u001b[0m     \u001b[38;5;28;01mwhile\u001b[39;00m \u001b[38;5;28mself\u001b[39m\u001b[38;5;241m.\u001b[39mdispatch_one_batch(iterator):\n",
      "File \u001b[0;32m/shared-libs/python3.9/py/lib/python3.9/site-packages/joblib/parallel.py:861\u001b[0m, in \u001b[0;36mParallel.dispatch_one_batch\u001b[0;34m(self, iterator)\u001b[0m\n\u001b[1;32m    859\u001b[0m     \u001b[38;5;28;01mreturn\u001b[39;00m \u001b[38;5;28;01mFalse\u001b[39;00m\n\u001b[1;32m    860\u001b[0m \u001b[38;5;28;01melse\u001b[39;00m:\n\u001b[0;32m--> 861\u001b[0m     \u001b[38;5;28;43mself\u001b[39;49m\u001b[38;5;241;43m.\u001b[39;49m\u001b[43m_dispatch\u001b[49m\u001b[43m(\u001b[49m\u001b[43mtasks\u001b[49m\u001b[43m)\u001b[49m\n\u001b[1;32m    862\u001b[0m     \u001b[38;5;28;01mreturn\u001b[39;00m \u001b[38;5;28;01mTrue\u001b[39;00m\n",
      "File \u001b[0;32m/shared-libs/python3.9/py/lib/python3.9/site-packages/joblib/parallel.py:779\u001b[0m, in \u001b[0;36mParallel._dispatch\u001b[0;34m(self, batch)\u001b[0m\n\u001b[1;32m    777\u001b[0m \u001b[38;5;28;01mwith\u001b[39;00m \u001b[38;5;28mself\u001b[39m\u001b[38;5;241m.\u001b[39m_lock:\n\u001b[1;32m    778\u001b[0m     job_idx \u001b[38;5;241m=\u001b[39m \u001b[38;5;28mlen\u001b[39m(\u001b[38;5;28mself\u001b[39m\u001b[38;5;241m.\u001b[39m_jobs)\n\u001b[0;32m--> 779\u001b[0m     job \u001b[38;5;241m=\u001b[39m \u001b[38;5;28;43mself\u001b[39;49m\u001b[38;5;241;43m.\u001b[39;49m\u001b[43m_backend\u001b[49m\u001b[38;5;241;43m.\u001b[39;49m\u001b[43mapply_async\u001b[49m\u001b[43m(\u001b[49m\u001b[43mbatch\u001b[49m\u001b[43m,\u001b[49m\u001b[43m \u001b[49m\u001b[43mcallback\u001b[49m\u001b[38;5;241;43m=\u001b[39;49m\u001b[43mcb\u001b[49m\u001b[43m)\u001b[49m\n\u001b[1;32m    780\u001b[0m     \u001b[38;5;66;03m# A job can complete so quickly than its callback is\u001b[39;00m\n\u001b[1;32m    781\u001b[0m     \u001b[38;5;66;03m# called before we get here, causing self._jobs to\u001b[39;00m\n\u001b[1;32m    782\u001b[0m     \u001b[38;5;66;03m# grow. To ensure correct results ordering, .insert is\u001b[39;00m\n\u001b[1;32m    783\u001b[0m     \u001b[38;5;66;03m# used (rather than .append) in the following line\u001b[39;00m\n\u001b[1;32m    784\u001b[0m     \u001b[38;5;28mself\u001b[39m\u001b[38;5;241m.\u001b[39m_jobs\u001b[38;5;241m.\u001b[39minsert(job_idx, job)\n",
      "File \u001b[0;32m/shared-libs/python3.9/py/lib/python3.9/site-packages/joblib/_parallel_backends.py:208\u001b[0m, in \u001b[0;36mSequentialBackend.apply_async\u001b[0;34m(self, func, callback)\u001b[0m\n\u001b[1;32m    206\u001b[0m \u001b[38;5;28;01mdef\u001b[39;00m \u001b[38;5;21mapply_async\u001b[39m(\u001b[38;5;28mself\u001b[39m, func, callback\u001b[38;5;241m=\u001b[39m\u001b[38;5;28;01mNone\u001b[39;00m):\n\u001b[1;32m    207\u001b[0m     \u001b[38;5;124;03m\"\"\"Schedule a func to be run\"\"\"\u001b[39;00m\n\u001b[0;32m--> 208\u001b[0m     result \u001b[38;5;241m=\u001b[39m \u001b[43mImmediateResult\u001b[49m\u001b[43m(\u001b[49m\u001b[43mfunc\u001b[49m\u001b[43m)\u001b[49m\n\u001b[1;32m    209\u001b[0m     \u001b[38;5;28;01mif\u001b[39;00m callback:\n\u001b[1;32m    210\u001b[0m         callback(result)\n",
      "File \u001b[0;32m/shared-libs/python3.9/py/lib/python3.9/site-packages/joblib/_parallel_backends.py:572\u001b[0m, in \u001b[0;36mImmediateResult.__init__\u001b[0;34m(self, batch)\u001b[0m\n\u001b[1;32m    569\u001b[0m \u001b[38;5;28;01mdef\u001b[39;00m \u001b[38;5;21m__init__\u001b[39m(\u001b[38;5;28mself\u001b[39m, batch):\n\u001b[1;32m    570\u001b[0m     \u001b[38;5;66;03m# Don't delay the application, to avoid keeping the input\u001b[39;00m\n\u001b[1;32m    571\u001b[0m     \u001b[38;5;66;03m# arguments in memory\u001b[39;00m\n\u001b[0;32m--> 572\u001b[0m     \u001b[38;5;28mself\u001b[39m\u001b[38;5;241m.\u001b[39mresults \u001b[38;5;241m=\u001b[39m \u001b[43mbatch\u001b[49m\u001b[43m(\u001b[49m\u001b[43m)\u001b[49m\n",
      "File \u001b[0;32m/shared-libs/python3.9/py/lib/python3.9/site-packages/joblib/parallel.py:262\u001b[0m, in \u001b[0;36mBatchedCalls.__call__\u001b[0;34m(self)\u001b[0m\n\u001b[1;32m    258\u001b[0m \u001b[38;5;28;01mdef\u001b[39;00m \u001b[38;5;21m__call__\u001b[39m(\u001b[38;5;28mself\u001b[39m):\n\u001b[1;32m    259\u001b[0m     \u001b[38;5;66;03m# Set the default nested backend to self._backend but do not set the\u001b[39;00m\n\u001b[1;32m    260\u001b[0m     \u001b[38;5;66;03m# change the default number of processes to -1\u001b[39;00m\n\u001b[1;32m    261\u001b[0m     \u001b[38;5;28;01mwith\u001b[39;00m parallel_backend(\u001b[38;5;28mself\u001b[39m\u001b[38;5;241m.\u001b[39m_backend, n_jobs\u001b[38;5;241m=\u001b[39m\u001b[38;5;28mself\u001b[39m\u001b[38;5;241m.\u001b[39m_n_jobs):\n\u001b[0;32m--> 262\u001b[0m         \u001b[38;5;28;01mreturn\u001b[39;00m [func(\u001b[38;5;241m*\u001b[39margs, \u001b[38;5;241m*\u001b[39m\u001b[38;5;241m*\u001b[39mkwargs)\n\u001b[1;32m    263\u001b[0m                 \u001b[38;5;28;01mfor\u001b[39;00m func, args, kwargs \u001b[38;5;129;01min\u001b[39;00m \u001b[38;5;28mself\u001b[39m\u001b[38;5;241m.\u001b[39mitems]\n",
      "File \u001b[0;32m/shared-libs/python3.9/py/lib/python3.9/site-packages/joblib/parallel.py:262\u001b[0m, in \u001b[0;36m<listcomp>\u001b[0;34m(.0)\u001b[0m\n\u001b[1;32m    258\u001b[0m \u001b[38;5;28;01mdef\u001b[39;00m \u001b[38;5;21m__call__\u001b[39m(\u001b[38;5;28mself\u001b[39m):\n\u001b[1;32m    259\u001b[0m     \u001b[38;5;66;03m# Set the default nested backend to self._backend but do not set the\u001b[39;00m\n\u001b[1;32m    260\u001b[0m     \u001b[38;5;66;03m# change the default number of processes to -1\u001b[39;00m\n\u001b[1;32m    261\u001b[0m     \u001b[38;5;28;01mwith\u001b[39;00m parallel_backend(\u001b[38;5;28mself\u001b[39m\u001b[38;5;241m.\u001b[39m_backend, n_jobs\u001b[38;5;241m=\u001b[39m\u001b[38;5;28mself\u001b[39m\u001b[38;5;241m.\u001b[39m_n_jobs):\n\u001b[0;32m--> 262\u001b[0m         \u001b[38;5;28;01mreturn\u001b[39;00m [\u001b[43mfunc\u001b[49m\u001b[43m(\u001b[49m\u001b[38;5;241;43m*\u001b[39;49m\u001b[43margs\u001b[49m\u001b[43m,\u001b[49m\u001b[43m \u001b[49m\u001b[38;5;241;43m*\u001b[39;49m\u001b[38;5;241;43m*\u001b[39;49m\u001b[43mkwargs\u001b[49m\u001b[43m)\u001b[49m\n\u001b[1;32m    263\u001b[0m                 \u001b[38;5;28;01mfor\u001b[39;00m func, args, kwargs \u001b[38;5;129;01min\u001b[39;00m \u001b[38;5;28mself\u001b[39m\u001b[38;5;241m.\u001b[39mitems]\n",
      "File \u001b[0;32m/shared-libs/python3.9/py/lib/python3.9/site-packages/sklearn/utils/fixes.py:117\u001b[0m, in \u001b[0;36m_FuncWrapper.__call__\u001b[0;34m(self, *args, **kwargs)\u001b[0m\n\u001b[1;32m    115\u001b[0m \u001b[38;5;28;01mdef\u001b[39;00m \u001b[38;5;21m__call__\u001b[39m(\u001b[38;5;28mself\u001b[39m, \u001b[38;5;241m*\u001b[39margs, \u001b[38;5;241m*\u001b[39m\u001b[38;5;241m*\u001b[39mkwargs):\n\u001b[1;32m    116\u001b[0m     \u001b[38;5;28;01mwith\u001b[39;00m config_context(\u001b[38;5;241m*\u001b[39m\u001b[38;5;241m*\u001b[39m\u001b[38;5;28mself\u001b[39m\u001b[38;5;241m.\u001b[39mconfig):\n\u001b[0;32m--> 117\u001b[0m         \u001b[38;5;28;01mreturn\u001b[39;00m \u001b[38;5;28;43mself\u001b[39;49m\u001b[38;5;241;43m.\u001b[39;49m\u001b[43mfunction\u001b[49m\u001b[43m(\u001b[49m\u001b[38;5;241;43m*\u001b[39;49m\u001b[43margs\u001b[49m\u001b[43m,\u001b[49m\u001b[43m \u001b[49m\u001b[38;5;241;43m*\u001b[39;49m\u001b[38;5;241;43m*\u001b[39;49m\u001b[43mkwargs\u001b[49m\u001b[43m)\u001b[49m\n",
      "File \u001b[0;32m/shared-libs/python3.9/py/lib/python3.9/site-packages/sklearn/neighbors/_base.py:623\u001b[0m, in \u001b[0;36m_tree_query_parallel_helper\u001b[0;34m(tree, *args, **kwargs)\u001b[0m\n\u001b[1;32m    617\u001b[0m \u001b[38;5;28;01mdef\u001b[39;00m \u001b[38;5;21m_tree_query_parallel_helper\u001b[39m(tree, \u001b[38;5;241m*\u001b[39margs, \u001b[38;5;241m*\u001b[39m\u001b[38;5;241m*\u001b[39mkwargs):\n\u001b[1;32m    618\u001b[0m     \u001b[38;5;124;03m\"\"\"Helper for the Parallel calls in KNeighborsMixin.kneighbors.\u001b[39;00m\n\u001b[1;32m    619\u001b[0m \n\u001b[1;32m    620\u001b[0m \u001b[38;5;124;03m    The Cython method tree.query is not directly picklable by cloudpickle\u001b[39;00m\n\u001b[1;32m    621\u001b[0m \u001b[38;5;124;03m    under PyPy.\u001b[39;00m\n\u001b[1;32m    622\u001b[0m \u001b[38;5;124;03m    \"\"\"\u001b[39;00m\n\u001b[0;32m--> 623\u001b[0m     \u001b[38;5;28;01mreturn\u001b[39;00m \u001b[43mtree\u001b[49m\u001b[38;5;241;43m.\u001b[39;49m\u001b[43mquery\u001b[49m\u001b[43m(\u001b[49m\u001b[38;5;241;43m*\u001b[39;49m\u001b[43margs\u001b[49m\u001b[43m,\u001b[49m\u001b[43m \u001b[49m\u001b[38;5;241;43m*\u001b[39;49m\u001b[38;5;241;43m*\u001b[39;49m\u001b[43mkwargs\u001b[49m\u001b[43m)\u001b[49m\n",
      "\u001b[0;31mKeyboardInterrupt\u001b[0m: "
     ]
    }
   ]
  },
  {
   "cell_type": "code",
   "metadata": {
    "ExecuteTime": {
     "end_time": "2022-09-14T01:41:46.491400Z",
     "start_time": "2022-09-14T01:41:46.444533Z"
    },
    "cell_id": "89bd6895251a42d999f3d89a099dc862",
    "deepnote_table_loading": false,
    "deepnote_table_state": {
     "filters": [],
     "pageIndex": 0,
     "pageSize": 10,
     "sortBy": [
      {
       "id": "PRECISION AT K CROSS_VAL",
       "type": "desc"
      }
     ]
    },
    "deepnote_to_be_reexecuted": false,
    "execution_millis": 317,
    "execution_start": 1663077842336,
    "source_hash": "6df05d0a",
    "tags": [],
    "deepnote_cell_type": "code",
    "deepnote_cell_height": 266.3999938964844,
    "deepnote_output_heights": [
     175
    ]
   },
   "source": "models_comparison.sort_values(by='RECALL AT K CROSS_VAL',ascending=False)",
   "execution_count": null,
   "outputs": [
    {
     "output_type": "execute_result",
     "execution_count": 57,
     "data": {
      "application/vnd.deepnote.dataframe.v3+json": {
       "column_count": 10,
       "row_count": 5,
       "columns": [
        {
         "name": "Model name",
         "dtype": "object",
         "stats": {
          "unique_count": 5,
          "nan_count": 0,
          "categories": [
           {
            "name": "XGBoost Cross_Val",
            "count": 1
           },
           {
            "name": "Extra trees Cross_Val",
            "count": 1
           },
           {
            "name": "3 others",
            "count": 3
           }
          ]
         }
        },
        {
         "name": "PRECISION CROSS_VAL",
         "dtype": "float64",
         "stats": {
          "unique_count": 5,
          "nan_count": 0,
          "min": "0.2",
          "max": "0.455",
          "histogram": [
           {
            "bin_start": 0.2,
            "bin_end": 0.2255,
            "count": 1
           },
           {
            "bin_start": 0.2255,
            "bin_end": 0.251,
            "count": 0
           },
           {
            "bin_start": 0.251,
            "bin_end": 0.2765,
            "count": 0
           },
           {
            "bin_start": 0.2765,
            "bin_end": 0.30200000000000005,
            "count": 0
           },
           {
            "bin_start": 0.30200000000000005,
            "bin_end": 0.3275,
            "count": 1
           },
           {
            "bin_start": 0.3275,
            "bin_end": 0.35300000000000004,
            "count": 1
           },
           {
            "bin_start": 0.35300000000000004,
            "bin_end": 0.37850000000000006,
            "count": 0
           },
           {
            "bin_start": 0.37850000000000006,
            "bin_end": 0.404,
            "count": 1
           },
           {
            "bin_start": 0.404,
            "bin_end": 0.4295,
            "count": 0
           },
           {
            "bin_start": 0.4295,
            "bin_end": 0.455,
            "count": 1
           }
          ]
         }
        },
        {
         "name": "PRECISON STD",
         "dtype": "float64",
         "stats": {
          "unique_count": 5,
          "nan_count": 0,
          "min": "0.001",
          "max": "0.212",
          "histogram": [
           {
            "bin_start": 0.001,
            "bin_end": 0.0221,
            "count": 3
           },
           {
            "bin_start": 0.0221,
            "bin_end": 0.0432,
            "count": 0
           },
           {
            "bin_start": 0.0432,
            "bin_end": 0.0643,
            "count": 0
           },
           {
            "bin_start": 0.0643,
            "bin_end": 0.0854,
            "count": 1
           },
           {
            "bin_start": 0.0854,
            "bin_end": 0.10650000000000001,
            "count": 0
           },
           {
            "bin_start": 0.10650000000000001,
            "bin_end": 0.1276,
            "count": 0
           },
           {
            "bin_start": 0.1276,
            "bin_end": 0.1487,
            "count": 0
           },
           {
            "bin_start": 0.1487,
            "bin_end": 0.1698,
            "count": 0
           },
           {
            "bin_start": 0.1698,
            "bin_end": 0.19090000000000001,
            "count": 0
           },
           {
            "bin_start": 0.19090000000000001,
            "bin_end": 0.212,
            "count": 1
           }
          ]
         }
        },
        {
         "name": "RECALL CROSS_VAL",
         "dtype": "float64",
         "stats": {
          "unique_count": 5,
          "nan_count": 0,
          "min": "0.0",
          "max": "0.205",
          "histogram": [
           {
            "bin_start": 0,
            "bin_end": 0.020499999999999997,
            "count": 2
           },
           {
            "bin_start": 0.020499999999999997,
            "bin_end": 0.040999999999999995,
            "count": 1
           },
           {
            "bin_start": 0.040999999999999995,
            "bin_end": 0.06149999999999999,
            "count": 0
           },
           {
            "bin_start": 0.06149999999999999,
            "bin_end": 0.08199999999999999,
            "count": 0
           },
           {
            "bin_start": 0.08199999999999999,
            "bin_end": 0.10249999999999998,
            "count": 0
           },
           {
            "bin_start": 0.10249999999999998,
            "bin_end": 0.12299999999999998,
            "count": 0
           },
           {
            "bin_start": 0.12299999999999998,
            "bin_end": 0.1435,
            "count": 0
           },
           {
            "bin_start": 0.1435,
            "bin_end": 0.16399999999999998,
            "count": 0
           },
           {
            "bin_start": 0.16399999999999998,
            "bin_end": 0.18449999999999997,
            "count": 1
           },
           {
            "bin_start": 0.18449999999999997,
            "bin_end": 0.205,
            "count": 1
           }
          ]
         }
        },
        {
         "name": "RECALL STD",
         "dtype": "float64",
         "stats": {
          "unique_count": 3,
          "nan_count": 0,
          "min": "0.0",
          "max": "0.003",
          "histogram": [
           {
            "bin_start": 0,
            "bin_end": 0.00030000000000000003,
            "count": 1
           },
           {
            "bin_start": 0.00030000000000000003,
            "bin_end": 0.0006000000000000001,
            "count": 0
           },
           {
            "bin_start": 0.0006000000000000001,
            "bin_end": 0.0009000000000000001,
            "count": 0
           },
           {
            "bin_start": 0.0009000000000000001,
            "bin_end": 0.0012000000000000001,
            "count": 3
           },
           {
            "bin_start": 0.0012000000000000001,
            "bin_end": 0.0015,
            "count": 0
           },
           {
            "bin_start": 0.0015,
            "bin_end": 0.0018000000000000002,
            "count": 0
           },
           {
            "bin_start": 0.0018000000000000002,
            "bin_end": 0.0021000000000000003,
            "count": 0
           },
           {
            "bin_start": 0.0021000000000000003,
            "bin_end": 0.0024000000000000002,
            "count": 0
           },
           {
            "bin_start": 0.0024000000000000002,
            "bin_end": 0.0027,
            "count": 0
           },
           {
            "bin_start": 0.0027,
            "bin_end": 0.003,
            "count": 1
           }
          ]
         }
        },
        {
         "name": "K",
         "dtype": "int64",
         "stats": {
          "unique_count": 1,
          "nan_count": 0,
          "min": "20000",
          "max": "20000",
          "histogram": [
           {
            "bin_start": 19999.5,
            "bin_end": 19999.6,
            "count": 0
           },
           {
            "bin_start": 19999.6,
            "bin_end": 19999.7,
            "count": 0
           },
           {
            "bin_start": 19999.7,
            "bin_end": 19999.8,
            "count": 0
           },
           {
            "bin_start": 19999.8,
            "bin_end": 19999.9,
            "count": 0
           },
           {
            "bin_start": 19999.9,
            "bin_end": 20000,
            "count": 0
           },
           {
            "bin_start": 20000,
            "bin_end": 20000.1,
            "count": 5
           },
           {
            "bin_start": 20000.1,
            "bin_end": 20000.2,
            "count": 0
           },
           {
            "bin_start": 20000.2,
            "bin_end": 20000.3,
            "count": 0
           },
           {
            "bin_start": 20000.3,
            "bin_end": 20000.4,
            "count": 0
           },
           {
            "bin_start": 20000.4,
            "bin_end": 20000.5,
            "count": 0
           }
          ]
         }
        },
        {
         "name": "PRECISION AT K CROSS_VAL",
         "dtype": "float64",
         "stats": {
          "unique_count": 5,
          "nan_count": 0,
          "min": "0.301",
          "max": "0.349",
          "histogram": [
           {
            "bin_start": 0.301,
            "bin_end": 0.30579999999999996,
            "count": 2
           },
           {
            "bin_start": 0.30579999999999996,
            "bin_end": 0.3106,
            "count": 0
           },
           {
            "bin_start": 0.3106,
            "bin_end": 0.3154,
            "count": 0
           },
           {
            "bin_start": 0.3154,
            "bin_end": 0.3202,
            "count": 1
           },
           {
            "bin_start": 0.3202,
            "bin_end": 0.32499999999999996,
            "count": 0
           },
           {
            "bin_start": 0.32499999999999996,
            "bin_end": 0.3298,
            "count": 0
           },
           {
            "bin_start": 0.3298,
            "bin_end": 0.3346,
            "count": 0
           },
           {
            "bin_start": 0.3346,
            "bin_end": 0.3394,
            "count": 0
           },
           {
            "bin_start": 0.3394,
            "bin_end": 0.34419999999999995,
            "count": 0
           },
           {
            "bin_start": 0.34419999999999995,
            "bin_end": 0.349,
            "count": 2
           }
          ]
         }
        },
        {
         "name": "PRECISION AT K STD",
         "dtype": "float64",
         "stats": {
          "unique_count": 3,
          "nan_count": 0,
          "min": "0.002",
          "max": "0.004",
          "histogram": [
           {
            "bin_start": 0.002,
            "bin_end": 0.0022,
            "count": 1
           },
           {
            "bin_start": 0.0022,
            "bin_end": 0.0024000000000000002,
            "count": 0
           },
           {
            "bin_start": 0.0024000000000000002,
            "bin_end": 0.0026,
            "count": 0
           },
           {
            "bin_start": 0.0026,
            "bin_end": 0.0028,
            "count": 0
           },
           {
            "bin_start": 0.0028,
            "bin_end": 0.003,
            "count": 0
           },
           {
            "bin_start": 0.003,
            "bin_end": 0.0032,
            "count": 2
           },
           {
            "bin_start": 0.0032,
            "bin_end": 0.0034000000000000002,
            "count": 0
           },
           {
            "bin_start": 0.0034000000000000002,
            "bin_end": 0.0036,
            "count": 0
           },
           {
            "bin_start": 0.0036,
            "bin_end": 0.0038000000000000004,
            "count": 0
           },
           {
            "bin_start": 0.0038000000000000004,
            "bin_end": 0.004,
            "count": 2
           }
          ]
         }
        },
        {
         "name": "RECALL AT K CROSS_VAL",
         "dtype": "float64",
         "stats": {
          "unique_count": 5,
          "nan_count": 0,
          "min": "0.515",
          "max": "0.598",
          "histogram": [
           {
            "bin_start": 0.515,
            "bin_end": 0.5233,
            "count": 2
           },
           {
            "bin_start": 0.5233,
            "bin_end": 0.5316,
            "count": 0
           },
           {
            "bin_start": 0.5316,
            "bin_end": 0.5399,
            "count": 0
           },
           {
            "bin_start": 0.5399,
            "bin_end": 0.5482,
            "count": 1
           },
           {
            "bin_start": 0.5482,
            "bin_end": 0.5565,
            "count": 0
           },
           {
            "bin_start": 0.5565,
            "bin_end": 0.5648,
            "count": 0
           },
           {
            "bin_start": 0.5648,
            "bin_end": 0.5730999999999999,
            "count": 0
           },
           {
            "bin_start": 0.5730999999999999,
            "bin_end": 0.5814,
            "count": 0
           },
           {
            "bin_start": 0.5814,
            "bin_end": 0.5897,
            "count": 0
           },
           {
            "bin_start": 0.5897,
            "bin_end": 0.598,
            "count": 2
           }
          ]
         }
        },
        {
         "name": "RECALL AT K STD",
         "dtype": "float64",
         "stats": {
          "unique_count": 1,
          "nan_count": 0,
          "min": "0.0",
          "max": "0.0",
          "histogram": [
           {
            "bin_start": -0.5,
            "bin_end": -0.4,
            "count": 0
           },
           {
            "bin_start": -0.4,
            "bin_end": -0.3,
            "count": 0
           },
           {
            "bin_start": -0.3,
            "bin_end": -0.19999999999999996,
            "count": 0
           },
           {
            "bin_start": -0.19999999999999996,
            "bin_end": -0.09999999999999998,
            "count": 0
           },
           {
            "bin_start": -0.09999999999999998,
            "bin_end": 0,
            "count": 0
           },
           {
            "bin_start": 0,
            "bin_end": 0.10000000000000009,
            "count": 5
           },
           {
            "bin_start": 0.10000000000000009,
            "bin_end": 0.20000000000000007,
            "count": 0
           },
           {
            "bin_start": 0.20000000000000007,
            "bin_end": 0.30000000000000004,
            "count": 0
           },
           {
            "bin_start": 0.30000000000000004,
            "bin_end": 0.4,
            "count": 0
           },
           {
            "bin_start": 0.4,
            "bin_end": 0.5,
            "count": 0
           }
          ]
         }
        },
        {
         "name": "_deepnote_index_column",
         "dtype": "int64"
        }
       ],
       "rows": [
        {
         "Model name": "XGBoost Cross_Val",
         "PRECISION CROSS_VAL": "0.455",
         "PRECISON STD": "0.014",
         "RECALL CROSS_VAL": "0.021",
         "RECALL STD": "0.003",
         "K": "20000",
         "PRECISION AT K CROSS_VAL": "0.349",
         "PRECISION AT K STD": "0.004",
         "RECALL AT K CROSS_VAL": "0.598",
         "RECALL AT K STD": "0.0",
         "_deepnote_index_column": "0"
        },
        {
         "Model name": "Extra trees Cross_Val",
         "PRECISION CROSS_VAL": "0.2",
         "PRECISON STD": "0.212",
         "RECALL CROSS_VAL": "0.0",
         "RECALL STD": "0.0",
         "K": "20000",
         "PRECISION AT K CROSS_VAL": "0.346",
         "PRECISION AT K STD": "0.004",
         "RECALL AT K CROSS_VAL": "0.593",
         "RECALL AT K STD": "0.0",
         "_deepnote_index_column": "0"
        },
        {
         "Model name": "Linear model Cross_Val",
         "PRECISION CROSS_VAL": "0.384",
         "PRECISON STD": "0.082",
         "RECALL CROSS_VAL": "0.001",
         "RECALL STD": "0.001",
         "K": "20000",
         "PRECISION AT K CROSS_VAL": "0.319",
         "PRECISION AT K STD": "0.003",
         "RECALL AT K CROSS_VAL": "0.546",
         "RECALL AT K STD": "0.0",
         "_deepnote_index_column": "0"
        },
        {
         "Model name": "Random forrest Cross_Val",
         "PRECISION CROSS_VAL": "0.324",
         "PRECISON STD": "0.001",
         "RECALL CROSS_VAL": "0.205",
         "RECALL STD": "0.001",
         "K": "20000",
         "PRECISION AT K CROSS_VAL": "0.305",
         "PRECISION AT K STD": "0.003",
         "RECALL AT K CROSS_VAL": "0.522",
         "RECALL AT K STD": "0.0",
         "_deepnote_index_column": "0"
        },
        {
         "Model name": "KNN Cross_Val",
         "PRECISION CROSS_VAL": "0.34",
         "PRECISON STD": "0.005",
         "RECALL CROSS_VAL": "0.183",
         "RECALL STD": "0.001",
         "K": "20000",
         "PRECISION AT K CROSS_VAL": "0.301",
         "PRECISION AT K STD": "0.002",
         "RECALL AT K CROSS_VAL": "0.515",
         "RECALL AT K STD": "0.0",
         "_deepnote_index_column": "0"
        }
       ]
      },
      "text/plain": "                 Model name  PRECISION CROSS_VAL  PRECISON STD  \\\n0             KNN Cross_Val                0.340         0.005   \n0    Linear model Cross_Val                0.384         0.082   \n0  Random forrest Cross_Val                0.324         0.001   \n0     Extra trees Cross_Val                0.200         0.212   \n0         XGBoost Cross_Val                0.455         0.014   \n\n   RECALL CROSS_VAL  RECALL STD      K  PRECISION AT K CROSS_VAL  \\\n0             0.183       0.001  20000                     0.301   \n0             0.001       0.001  20000                     0.319   \n0             0.205       0.001  20000                     0.305   \n0             0.000       0.000  20000                     0.346   \n0             0.021       0.003  20000                     0.349   \n\n   PRECISION AT K STD  RECALL AT K CROSS_VAL  RECALL AT K STD  \n0               0.002                  0.515              0.0  \n0               0.003                  0.546              0.0  \n0               0.003                  0.522              0.0  \n0               0.004                  0.593              0.0  \n0               0.004                  0.598              0.0  ",
      "text/html": "<div>\n<style scoped>\n    .dataframe tbody tr th:only-of-type {\n        vertical-align: middle;\n    }\n\n    .dataframe tbody tr th {\n        vertical-align: top;\n    }\n\n    .dataframe thead th {\n        text-align: right;\n    }\n</style>\n<table border=\"1\" class=\"dataframe\">\n  <thead>\n    <tr style=\"text-align: right;\">\n      <th></th>\n      <th>Model name</th>\n      <th>PRECISION CROSS_VAL</th>\n      <th>PRECISON STD</th>\n      <th>RECALL CROSS_VAL</th>\n      <th>RECALL STD</th>\n      <th>K</th>\n      <th>PRECISION AT K CROSS_VAL</th>\n      <th>PRECISION AT K STD</th>\n      <th>RECALL AT K CROSS_VAL</th>\n      <th>RECALL AT K STD</th>\n    </tr>\n  </thead>\n  <tbody>\n    <tr>\n      <th>0</th>\n      <td>KNN Cross_Val</td>\n      <td>0.340</td>\n      <td>0.005</td>\n      <td>0.183</td>\n      <td>0.001</td>\n      <td>20000</td>\n      <td>0.301</td>\n      <td>0.002</td>\n      <td>0.515</td>\n      <td>0.0</td>\n    </tr>\n    <tr>\n      <th>0</th>\n      <td>Linear model Cross_Val</td>\n      <td>0.384</td>\n      <td>0.082</td>\n      <td>0.001</td>\n      <td>0.001</td>\n      <td>20000</td>\n      <td>0.319</td>\n      <td>0.003</td>\n      <td>0.546</td>\n      <td>0.0</td>\n    </tr>\n    <tr>\n      <th>0</th>\n      <td>Random forrest Cross_Val</td>\n      <td>0.324</td>\n      <td>0.001</td>\n      <td>0.205</td>\n      <td>0.001</td>\n      <td>20000</td>\n      <td>0.305</td>\n      <td>0.003</td>\n      <td>0.522</td>\n      <td>0.0</td>\n    </tr>\n    <tr>\n      <th>0</th>\n      <td>Extra trees Cross_Val</td>\n      <td>0.200</td>\n      <td>0.212</td>\n      <td>0.000</td>\n      <td>0.000</td>\n      <td>20000</td>\n      <td>0.346</td>\n      <td>0.004</td>\n      <td>0.593</td>\n      <td>0.0</td>\n    </tr>\n    <tr>\n      <th>0</th>\n      <td>XGBoost Cross_Val</td>\n      <td>0.455</td>\n      <td>0.014</td>\n      <td>0.021</td>\n      <td>0.003</td>\n      <td>20000</td>\n      <td>0.349</td>\n      <td>0.004</td>\n      <td>0.598</td>\n      <td>0.0</td>\n    </tr>\n  </tbody>\n</table>\n</div>"
     },
     "metadata": {}
    }
   ]
  },
  {
   "cell_type": "code",
   "metadata": {
    "ExecuteTime": {
     "end_time": "2022-09-14T01:43:08.915551Z",
     "start_time": "2022-09-14T01:43:08.862211Z"
    },
    "cell_id": "00075-930b72fe-e52d-4aa7-893e-6f1d67f7fb57",
    "deepnote_cell_type": "code",
    "deepnote_cell_height": 60.600006103515625
   },
   "source": "models_comparison.to_csv('data/models_comparison.csv',index=False)",
   "execution_count": null,
   "outputs": []
  },
  {
   "cell_type": "markdown",
   "source": "<a style='text-decoration:none;line-height:16px;display:flex;color:#5B5B62;padding:10px;justify-content:end;' href='https://deepnote.com?utm_source=created-in-deepnote-cell&projectId=3161d838-98a4-47ed-ae81-127ad2068af4' target=\"_blank\">\n<img alt='Created in deepnote.com' style='display:inline;max-height:16px;margin:0px;margin-right:7.5px;' src='data:image/svg+xml;base64,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' > </img>\nCreated in <span style='font-weight:600;margin-left:4px;'>Deepnote</span></a>",
   "metadata": {
    "tags": [],
    "created_in_deepnote_cell": true,
    "deepnote_cell_type": "markdown"
   }
  }
 ],
 "nbformat": 4,
 "nbformat_minor": 4,
 "metadata": {
  "deepnote": {},
  "deepnote_execution_queue": [],
  "deepnote_notebook_id": "902457a8-c054-48cb-9ba9-398e078092fa",
  "kernelspec": {
   "display_name": "Python 3",
   "language": "python",
   "name": "python3"
  },
  "language_info": {
   "codemirror_mode": {
    "name": "ipython",
    "version": 3
   },
   "file_extension": ".py",
   "mimetype": "text/x-python",
   "name": "python",
   "nbconvert_exporter": "python",
   "pygments_lexer": "ipython3",
   "version": "3.8.5"
  }
 }
}