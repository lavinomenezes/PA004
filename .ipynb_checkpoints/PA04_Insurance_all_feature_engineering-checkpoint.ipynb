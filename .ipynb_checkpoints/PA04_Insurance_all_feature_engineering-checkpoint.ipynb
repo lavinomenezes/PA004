{
 "cells": [
  {
   "cell_type": "markdown",
   "metadata": {
    "cell_id": "b056084e-58c4-4a65-8005-f5eec9911c4c",
    "deepnote_cell_height": 81.60000610351562,
    "deepnote_cell_type": "markdown"
   },
   "source": [
    "# Imports"
   ]
  },
  {
   "cell_type": "code",
   "execution_count": 1,
   "metadata": {
    "cell_id": "00001-0a9f36d4-b20a-420a-bb6e-f6c85c4d07a5",
    "deepnote_cell_height": 147.60000610351562,
    "deepnote_cell_type": "code",
    "deepnote_to_be_reexecuted": false,
    "execution_millis": 1858,
    "execution_start": 1660918788372,
    "source_hash": "c77f524a"
   },
   "outputs": [],
   "source": [
    "import pandas as pd\n",
    "import numpy as np\n",
    "import seaborn as sns\n",
    "import matplotlib.pyplot as plt\n",
    "from IPython.core.display import HTML"
   ]
  },
  {
   "cell_type": "markdown",
   "metadata": {
    "cell_id": "00002-9f9bb0fa-aa96-4dd2-91e2-09b0efd8ad2b",
    "deepnote_cell_height": 81.60000610351562,
    "deepnote_cell_type": "markdown"
   },
   "source": [
    "# Helper functions"
   ]
  },
  {
   "cell_type": "code",
   "execution_count": 2,
   "metadata": {
    "cell_id": "00003-7c80120b-5d73-4371-84c6-4344c16c4daf",
    "deepnote_cell_height": 302.20001220703125,
    "deepnote_cell_type": "code",
    "deepnote_output_heights": [
     null,
     1
    ],
    "deepnote_to_be_reexecuted": false,
    "execution_millis": 504,
    "execution_start": 1660918790243,
    "source_hash": "46a4bb4d"
   },
   "outputs": [
    {
     "name": "stdout",
     "output_type": "stream",
     "text": [
      "%pylab is deprecated, use %matplotlib inline and import the required libraries.\n",
      "Populating the interactive namespace from numpy and matplotlib\n"
     ]
    },
    {
     "data": {
      "text/html": [
       "<style>.container { width:100% !important; }</style>"
      ],
      "text/plain": [
       "<IPython.core.display.HTML object>"
      ]
     },
     "metadata": {},
     "output_type": "display_data"
    }
   ],
   "source": [
    "def jupyter_settings():\n",
    "    %matplotlib inline\n",
    "    %pylab inline\n",
    "    plt.style.use( 'bmh' )\n",
    "    plt.rcParams['figure.figsize'] = [25, 12]\n",
    "    plt.rcParams['font.size'] = 24\n",
    "    display( HTML( '<style>.container { width:100% !important; }</style>') )\n",
    "    sns.set()\n",
    "jupyter_settings()"
   ]
  },
  {
   "cell_type": "markdown",
   "metadata": {
    "cell_id": "72f8fb83e21440fb9425a07763fef1c5",
    "deepnote_cell_height": 81.60000610351562,
    "deepnote_cell_type": "markdown",
    "tags": []
   },
   "source": [
    "# Load data"
   ]
  },
  {
   "cell_type": "code",
   "execution_count": 3,
   "metadata": {
    "cell_id": "cb47777b8406484f988f7dcc99c44f0d",
    "deepnote_cell_height": 75.60000610351562,
    "deepnote_cell_type": "code",
    "deepnote_to_be_reexecuted": false,
    "execution_millis": 377,
    "execution_start": 1660918790327,
    "source_hash": "aceef04b",
    "tags": []
   },
   "outputs": [],
   "source": [
    "df2 = pd.read_csv('data/df1.csv')"
   ]
  },
  {
   "cell_type": "code",
   "execution_count": 4,
   "metadata": {
    "cell_id": "d4d665e3f64248c78f1b49edc200a0a8",
    "deepnote_cell_height": 389.20001220703125,
    "deepnote_cell_type": "code",
    "deepnote_to_be_reexecuted": false,
    "execution_millis": 41,
    "execution_start": 1660918790723,
    "source_hash": "4e0cbe0d",
    "tags": []
   },
   "outputs": [
    {
     "data": {
      "application/vnd.deepnote.dataframe.v3+json": {
       "column_count": 12,
       "columns": [
        {
         "dtype": "int64",
         "name": "id",
         "stats": {
          "histogram": [
           {
            "bin_end": 1.4,
            "bin_start": 1,
            "count": 1
           },
           {
            "bin_end": 1.8,
            "bin_start": 1.4,
            "count": 0
           },
           {
            "bin_end": 2.2,
            "bin_start": 1.8,
            "count": 1
           },
           {
            "bin_end": 2.6,
            "bin_start": 2.2,
            "count": 0
           },
           {
            "bin_end": 3,
            "bin_start": 2.6,
            "count": 0
           },
           {
            "bin_end": 3.4000000000000004,
            "bin_start": 3,
            "count": 1
           },
           {
            "bin_end": 3.8000000000000003,
            "bin_start": 3.4000000000000004,
            "count": 0
           },
           {
            "bin_end": 4.2,
            "bin_start": 3.8000000000000003,
            "count": 1
           },
           {
            "bin_end": 4.6,
            "bin_start": 4.2,
            "count": 0
           },
           {
            "bin_end": 5,
            "bin_start": 4.6,
            "count": 1
           }
          ],
          "max": "5",
          "min": "1",
          "nan_count": 0,
          "unique_count": 5
         }
        },
        {
         "dtype": "object",
         "name": "gender",
         "stats": {
          "categories": [
           {
            "count": 4,
            "name": "Male"
           },
           {
            "count": 1,
            "name": "Female"
           }
          ],
          "nan_count": 0,
          "unique_count": 2
         }
        },
        {
         "dtype": "int64",
         "name": "age",
         "stats": {
          "histogram": [
           {
            "bin_end": 26.5,
            "bin_start": 21,
            "count": 1
           },
           {
            "bin_end": 32,
            "bin_start": 26.5,
            "count": 1
           },
           {
            "bin_end": 37.5,
            "bin_start": 32,
            "count": 0
           },
           {
            "bin_end": 43,
            "bin_start": 37.5,
            "count": 0
           },
           {
            "bin_end": 48.5,
            "bin_start": 43,
            "count": 2
           },
           {
            "bin_end": 54,
            "bin_start": 48.5,
            "count": 0
           },
           {
            "bin_end": 59.5,
            "bin_start": 54,
            "count": 0
           },
           {
            "bin_end": 65,
            "bin_start": 59.5,
            "count": 0
           },
           {
            "bin_end": 70.5,
            "bin_start": 65,
            "count": 0
           },
           {
            "bin_end": 76,
            "bin_start": 70.5,
            "count": 1
           }
          ],
          "max": "76",
          "min": "21",
          "nan_count": 0,
          "unique_count": 5
         }
        },
        {
         "dtype": "float64",
         "name": "region_code",
         "stats": {
          "histogram": [
           {
            "bin_end": 6.8,
            "bin_start": 3,
            "count": 1
           },
           {
            "bin_end": 10.6,
            "bin_start": 6.8,
            "count": 0
           },
           {
            "bin_end": 14.399999999999999,
            "bin_start": 10.6,
            "count": 1
           },
           {
            "bin_end": 18.2,
            "bin_start": 14.399999999999999,
            "count": 0
           },
           {
            "bin_end": 22,
            "bin_start": 18.2,
            "count": 0
           },
           {
            "bin_end": 25.799999999999997,
            "bin_start": 22,
            "count": 0
           },
           {
            "bin_end": 29.599999999999998,
            "bin_start": 25.799999999999997,
            "count": 2
           },
           {
            "bin_end": 33.4,
            "bin_start": 29.599999999999998,
            "count": 0
           },
           {
            "bin_end": 37.199999999999996,
            "bin_start": 33.4,
            "count": 0
           },
           {
            "bin_end": 41,
            "bin_start": 37.199999999999996,
            "count": 1
           }
          ],
          "max": "41.0",
          "min": "3.0",
          "nan_count": 0,
          "unique_count": 4
         }
        },
        {
         "dtype": "float64",
         "name": "policy_sales_channel",
         "stats": {
          "histogram": [
           {
            "bin_end": 38.6,
            "bin_start": 26,
            "count": 3
           },
           {
            "bin_end": 51.2,
            "bin_start": 38.6,
            "count": 0
           },
           {
            "bin_end": 63.8,
            "bin_start": 51.2,
            "count": 0
           },
           {
            "bin_end": 76.4,
            "bin_start": 63.8,
            "count": 0
           },
           {
            "bin_end": 89,
            "bin_start": 76.4,
            "count": 0
           },
           {
            "bin_end": 101.6,
            "bin_start": 89,
            "count": 0
           },
           {
            "bin_end": 114.2,
            "bin_start": 101.6,
            "count": 0
           },
           {
            "bin_end": 126.8,
            "bin_start": 114.2,
            "count": 0
           },
           {
            "bin_end": 139.39999999999998,
            "bin_start": 126.8,
            "count": 0
           },
           {
            "bin_end": 152,
            "bin_start": 139.39999999999998,
            "count": 2
           }
          ],
          "max": "152.0",
          "min": "26.0",
          "nan_count": 0,
          "unique_count": 2
         }
        },
        {
         "dtype": "int64",
         "name": "previously_insured",
         "stats": {
          "histogram": [
           {
            "bin_end": 0.1,
            "bin_start": 0,
            "count": 3
           },
           {
            "bin_end": 0.2,
            "bin_start": 0.1,
            "count": 0
           },
           {
            "bin_end": 0.30000000000000004,
            "bin_start": 0.2,
            "count": 0
           },
           {
            "bin_end": 0.4,
            "bin_start": 0.30000000000000004,
            "count": 0
           },
           {
            "bin_end": 0.5,
            "bin_start": 0.4,
            "count": 0
           },
           {
            "bin_end": 0.6000000000000001,
            "bin_start": 0.5,
            "count": 0
           },
           {
            "bin_end": 0.7000000000000001,
            "bin_start": 0.6000000000000001,
            "count": 0
           },
           {
            "bin_end": 0.8,
            "bin_start": 0.7000000000000001,
            "count": 0
           },
           {
            "bin_end": 0.9,
            "bin_start": 0.8,
            "count": 0
           },
           {
            "bin_end": 1,
            "bin_start": 0.9,
            "count": 2
           }
          ],
          "max": "1",
          "min": "0",
          "nan_count": 0,
          "unique_count": 2
         }
        },
        {
         "dtype": "float64",
         "name": "annual_premium",
         "stats": {
          "histogram": [
           {
            "bin_end": 28791.8,
            "bin_start": 27496,
            "count": 2
           },
           {
            "bin_end": 30087.6,
            "bin_start": 28791.8,
            "count": 0
           },
           {
            "bin_end": 31383.4,
            "bin_start": 30087.6,
            "count": 0
           },
           {
            "bin_end": 32679.2,
            "bin_start": 31383.4,
            "count": 0
           },
           {
            "bin_end": 33975,
            "bin_start": 32679.2,
            "count": 1
           },
           {
            "bin_end": 35270.8,
            "bin_start": 33975,
            "count": 0
           },
           {
            "bin_end": 36566.6,
            "bin_start": 35270.8,
            "count": 0
           },
           {
            "bin_end": 37862.4,
            "bin_start": 36566.6,
            "count": 0
           },
           {
            "bin_end": 39158.2,
            "bin_start": 37862.4,
            "count": 1
           },
           {
            "bin_end": 40454,
            "bin_start": 39158.2,
            "count": 1
           }
          ],
          "max": "40454.0",
          "min": "27496.0",
          "nan_count": 0,
          "unique_count": 5
         }
        },
        {
         "dtype": "int64",
         "name": "vintage",
         "stats": {
          "histogram": [
           {
            "bin_end": 46,
            "bin_start": 27,
            "count": 2
           },
           {
            "bin_end": 65,
            "bin_start": 46,
            "count": 0
           },
           {
            "bin_end": 84,
            "bin_start": 65,
            "count": 0
           },
           {
            "bin_end": 103,
            "bin_start": 84,
            "count": 0
           },
           {
            "bin_end": 122,
            "bin_start": 103,
            "count": 0
           },
           {
            "bin_end": 141,
            "bin_start": 122,
            "count": 0
           },
           {
            "bin_end": 160,
            "bin_start": 141,
            "count": 0
           },
           {
            "bin_end": 179,
            "bin_start": 160,
            "count": 0
           },
           {
            "bin_end": 198,
            "bin_start": 179,
            "count": 1
           },
           {
            "bin_end": 217,
            "bin_start": 198,
            "count": 2
           }
          ],
          "max": "217",
          "min": "27",
          "nan_count": 0,
          "unique_count": 5
         }
        },
        {
         "dtype": "int64",
         "name": "driving_license",
         "stats": {
          "histogram": [
           {
            "bin_end": 0.6,
            "bin_start": 0.5,
            "count": 0
           },
           {
            "bin_end": 0.7,
            "bin_start": 0.6,
            "count": 0
           },
           {
            "bin_end": 0.8,
            "bin_start": 0.7,
            "count": 0
           },
           {
            "bin_end": 0.9,
            "bin_start": 0.8,
            "count": 0
           },
           {
            "bin_end": 1,
            "bin_start": 0.9,
            "count": 0
           },
           {
            "bin_end": 1.1,
            "bin_start": 1,
            "count": 5
           },
           {
            "bin_end": 1.2000000000000002,
            "bin_start": 1.1,
            "count": 0
           },
           {
            "bin_end": 1.3,
            "bin_start": 1.2000000000000002,
            "count": 0
           },
           {
            "bin_end": 1.4,
            "bin_start": 1.3,
            "count": 0
           },
           {
            "bin_end": 1.5,
            "bin_start": 1.4,
            "count": 0
           }
          ],
          "max": "1",
          "min": "1",
          "nan_count": 0,
          "unique_count": 1
         }
        },
        {
         "dtype": "object",
         "name": "vehicle_age",
         "stats": {
          "categories": [
           {
            "count": 2,
            "name": "> 2 Years"
           },
           {
            "count": 2,
            "name": "< 1 Year"
           },
           {
            "count": 1,
            "name": "1-2 Year"
           }
          ],
          "nan_count": 0,
          "unique_count": 3
         }
        },
        {
         "dtype": "object",
         "name": "vehicle_damage",
         "stats": {
          "categories": [
           {
            "count": 3,
            "name": "No"
           },
           {
            "count": 2,
            "name": "Yes"
           }
          ],
          "nan_count": 0,
          "unique_count": 2
         }
        },
        {
         "dtype": "int64",
         "name": "response",
         "stats": {
          "histogram": [
           {
            "bin_end": 0.1,
            "bin_start": 0,
            "count": 3
           },
           {
            "bin_end": 0.2,
            "bin_start": 0.1,
            "count": 0
           },
           {
            "bin_end": 0.30000000000000004,
            "bin_start": 0.2,
            "count": 0
           },
           {
            "bin_end": 0.4,
            "bin_start": 0.30000000000000004,
            "count": 0
           },
           {
            "bin_end": 0.5,
            "bin_start": 0.4,
            "count": 0
           },
           {
            "bin_end": 0.6000000000000001,
            "bin_start": 0.5,
            "count": 0
           },
           {
            "bin_end": 0.7000000000000001,
            "bin_start": 0.6000000000000001,
            "count": 0
           },
           {
            "bin_end": 0.8,
            "bin_start": 0.7000000000000001,
            "count": 0
           },
           {
            "bin_end": 0.9,
            "bin_start": 0.8,
            "count": 0
           },
           {
            "bin_end": 1,
            "bin_start": 0.9,
            "count": 2
           }
          ],
          "max": "1",
          "min": "0",
          "nan_count": 0,
          "unique_count": 2
         }
        },
        {
         "dtype": "int64",
         "name": "_deepnote_index_column"
        }
       ],
       "row_count": 5,
       "rows": [
        {
         "_deepnote_index_column": 0,
         "age": 44,
         "annual_premium": 40454,
         "driving_license": 1,
         "gender": "Male",
         "id": 1,
         "policy_sales_channel": 26,
         "previously_insured": 0,
         "region_code": 28,
         "response": 1,
         "vehicle_age": "> 2 Years",
         "vehicle_damage": "Yes",
         "vintage": 217
        },
        {
         "_deepnote_index_column": 1,
         "age": 76,
         "annual_premium": 33536,
         "driving_license": 1,
         "gender": "Male",
         "id": 2,
         "policy_sales_channel": 26,
         "previously_insured": 0,
         "region_code": 3,
         "response": 0,
         "vehicle_age": "1-2 Year",
         "vehicle_damage": "No",
         "vintage": 183
        },
        {
         "_deepnote_index_column": 2,
         "age": 47,
         "annual_premium": 38294,
         "driving_license": 1,
         "gender": "Male",
         "id": 3,
         "policy_sales_channel": 26,
         "previously_insured": 0,
         "region_code": 28,
         "response": 1,
         "vehicle_age": "> 2 Years",
         "vehicle_damage": "Yes",
         "vintage": 27
        },
        {
         "_deepnote_index_column": 3,
         "age": 21,
         "annual_premium": 28619,
         "driving_license": 1,
         "gender": "Male",
         "id": 4,
         "policy_sales_channel": 152,
         "previously_insured": 1,
         "region_code": 11,
         "response": 0,
         "vehicle_age": "< 1 Year",
         "vehicle_damage": "No",
         "vintage": 203
        },
        {
         "_deepnote_index_column": 4,
         "age": 29,
         "annual_premium": 27496,
         "driving_license": 1,
         "gender": "Female",
         "id": 5,
         "policy_sales_channel": 152,
         "previously_insured": 1,
         "region_code": 41,
         "response": 0,
         "vehicle_age": "< 1 Year",
         "vehicle_damage": "No",
         "vintage": 39
        }
       ]
      },
      "text/html": [
       "<div>\n",
       "<style scoped>\n",
       "    .dataframe tbody tr th:only-of-type {\n",
       "        vertical-align: middle;\n",
       "    }\n",
       "\n",
       "    .dataframe tbody tr th {\n",
       "        vertical-align: top;\n",
       "    }\n",
       "\n",
       "    .dataframe thead th {\n",
       "        text-align: right;\n",
       "    }\n",
       "</style>\n",
       "<table border=\"1\" class=\"dataframe\">\n",
       "  <thead>\n",
       "    <tr style=\"text-align: right;\">\n",
       "      <th></th>\n",
       "      <th>id</th>\n",
       "      <th>gender</th>\n",
       "      <th>age</th>\n",
       "      <th>region_code</th>\n",
       "      <th>policy_sales_channel</th>\n",
       "      <th>previously_insured</th>\n",
       "      <th>annual_premium</th>\n",
       "      <th>vintage</th>\n",
       "      <th>driving_license</th>\n",
       "      <th>vehicle_age</th>\n",
       "      <th>vehicle_damage</th>\n",
       "      <th>response</th>\n",
       "    </tr>\n",
       "  </thead>\n",
       "  <tbody>\n",
       "    <tr>\n",
       "      <th>0</th>\n",
       "      <td>1</td>\n",
       "      <td>Male</td>\n",
       "      <td>44</td>\n",
       "      <td>28.0</td>\n",
       "      <td>26.0</td>\n",
       "      <td>0</td>\n",
       "      <td>40454.0</td>\n",
       "      <td>217</td>\n",
       "      <td>1</td>\n",
       "      <td>&gt; 2 Years</td>\n",
       "      <td>Yes</td>\n",
       "      <td>1</td>\n",
       "    </tr>\n",
       "    <tr>\n",
       "      <th>1</th>\n",
       "      <td>2</td>\n",
       "      <td>Male</td>\n",
       "      <td>76</td>\n",
       "      <td>3.0</td>\n",
       "      <td>26.0</td>\n",
       "      <td>0</td>\n",
       "      <td>33536.0</td>\n",
       "      <td>183</td>\n",
       "      <td>1</td>\n",
       "      <td>1-2 Year</td>\n",
       "      <td>No</td>\n",
       "      <td>0</td>\n",
       "    </tr>\n",
       "    <tr>\n",
       "      <th>2</th>\n",
       "      <td>3</td>\n",
       "      <td>Male</td>\n",
       "      <td>47</td>\n",
       "      <td>28.0</td>\n",
       "      <td>26.0</td>\n",
       "      <td>0</td>\n",
       "      <td>38294.0</td>\n",
       "      <td>27</td>\n",
       "      <td>1</td>\n",
       "      <td>&gt; 2 Years</td>\n",
       "      <td>Yes</td>\n",
       "      <td>1</td>\n",
       "    </tr>\n",
       "    <tr>\n",
       "      <th>3</th>\n",
       "      <td>4</td>\n",
       "      <td>Male</td>\n",
       "      <td>21</td>\n",
       "      <td>11.0</td>\n",
       "      <td>152.0</td>\n",
       "      <td>1</td>\n",
       "      <td>28619.0</td>\n",
       "      <td>203</td>\n",
       "      <td>1</td>\n",
       "      <td>&lt; 1 Year</td>\n",
       "      <td>No</td>\n",
       "      <td>0</td>\n",
       "    </tr>\n",
       "    <tr>\n",
       "      <th>4</th>\n",
       "      <td>5</td>\n",
       "      <td>Female</td>\n",
       "      <td>29</td>\n",
       "      <td>41.0</td>\n",
       "      <td>152.0</td>\n",
       "      <td>1</td>\n",
       "      <td>27496.0</td>\n",
       "      <td>39</td>\n",
       "      <td>1</td>\n",
       "      <td>&lt; 1 Year</td>\n",
       "      <td>No</td>\n",
       "      <td>0</td>\n",
       "    </tr>\n",
       "  </tbody>\n",
       "</table>\n",
       "</div>"
      ],
      "text/plain": [
       "   id  gender  age  region_code  policy_sales_channel  previously_insured  \\\n",
       "0   1    Male   44         28.0                  26.0                   0   \n",
       "1   2    Male   76          3.0                  26.0                   0   \n",
       "2   3    Male   47         28.0                  26.0                   0   \n",
       "3   4    Male   21         11.0                 152.0                   1   \n",
       "4   5  Female   29         41.0                 152.0                   1   \n",
       "\n",
       "   annual_premium  vintage  driving_license vehicle_age vehicle_damage  \\\n",
       "0         40454.0      217                1   > 2 Years            Yes   \n",
       "1         33536.0      183                1    1-2 Year             No   \n",
       "2         38294.0       27                1   > 2 Years            Yes   \n",
       "3         28619.0      203                1    < 1 Year             No   \n",
       "4         27496.0       39                1    < 1 Year             No   \n",
       "\n",
       "   response  \n",
       "0         1  \n",
       "1         0  \n",
       "2         1  \n",
       "3         0  \n",
       "4         0  "
      ]
     },
     "execution_count": 4,
     "metadata": {},
     "output_type": "execute_result"
    }
   ],
   "source": [
    "df2.head()"
   ]
  },
  {
   "cell_type": "markdown",
   "metadata": {
    "cell_id": "76f9302ca0fb4e0296788beb8aa5286f",
    "deepnote_cell_height": 81.60000610351562,
    "deepnote_cell_type": "markdown",
    "tags": []
   },
   "source": [
    "\n",
    "# hyphotheses mind map"
   ]
  },
  {
   "cell_type": "markdown",
   "metadata": {
    "cell_id": "c9f28daa37a54030ac9d7a4480159f20",
    "deepnote_cell_height": 69.60000610351562,
    "deepnote_cell_type": "markdown",
    "tags": []
   },
   "source": [
    "## hyphotheses"
   ]
  },
  {
   "cell_type": "markdown",
   "metadata": {},
   "source": [
    "h1: Clientes mais com 20 a 30 idade tem carros com mais danos\n",
    "\n",
    "h2: clientes com mais de 40 anos tendem a já ter seguro veicular\n",
    "\n",
    "h3: quantos mais velho o cliente mais tenden a responder que sim ao seguro\n",
    "\n",
    "h4: clientes com mais de 35 anos gastam mais anualmente\n",
    "\n",
    "h5: clientes do sexo masculino tem mais probablidade de ter um carro danificado\n",
    "\n",
    "h6: clientes do sexo feminino tem mais tendência a ja ter seguro que do sexo masculinos\n",
    "\n",
    "h7: clientes com mais tempo na empresa tendem a aceitar a proposta de outro seguro\n",
    "\n",
    "h8: Clientes a mais tempo na empresa gastam mais\n",
    "\n",
    "h9: clientes com carros mais antigos \">2 years\" tem mais danos\n",
    "\n",
    "h10: clientes com carros já danificados contratam seguro 3x mais\n",
    "\n",
    "h11: clientes com carros mais novos \"<2year\" contratam mais seguro"
   ]
  },
  {
   "cell_type": "markdown",
   "metadata": {
    "cell_id": "85e2ba62422849f49acdfc82aa80b774",
    "deepnote_cell_height": 81.60000610351562,
    "deepnote_cell_type": "markdown",
    "tags": []
   },
   "source": [
    "\n",
    "# Variable filtering"
   ]
  },
  {
   "cell_type": "code",
   "execution_count": 5,
   "metadata": {
    "cell_id": "6ea2ef9920d244f0bc2f19339fb5c4c5",
    "deepnote_cell_height": 75.60000610351562,
    "deepnote_cell_type": "code",
    "deepnote_to_be_reexecuted": false,
    "execution_millis": 22,
    "execution_start": 1660918790771,
    "source_hash": "c58ba8a7",
    "tags": []
   },
   "outputs": [],
   "source": [
    "df3 = df2.copy()"
   ]
  },
  {
   "cell_type": "code",
   "execution_count": 6,
   "metadata": {
    "cell_id": "00004-b5e4c28c-3dde-46a0-ac81-1a77c1e5a0c9",
    "deepnote_cell_height": 75.60000610351562,
    "deepnote_cell_type": "code",
    "deepnote_to_be_reexecuted": false,
    "execution_millis": 45,
    "execution_start": 1660918790843,
    "source_hash": "baa402fb"
   },
   "outputs": [],
   "source": [
    "df3 = df2.drop(columns = ['driving_license'])"
   ]
  },
  {
   "cell_type": "markdown",
   "metadata": {
    "cell_id": "0f42ab0108e046e892a039a017d558c5",
    "deepnote_cell_height": 117,
    "deepnote_cell_type": "markdown",
    "tags": []
   },
   "source": [
    "Eliminar a coluna de linçensa de motorista já que devido ao fato de grande maioria ser positivo (1) não traz grandes informações ao modelo"
   ]
  },
  {
   "cell_type": "markdown",
   "metadata": {
    "created_in_deepnote_cell": true,
    "deepnote_cell_type": "markdown",
    "tags": []
   },
   "source": [
    "<a style='text-decoration:none;line-height:16px;display:flex;color:#5B5B62;padding:10px;justify-content:end;' href='https://deepnote.com?utm_source=created-in-deepnote-cell&projectId=3161d838-98a4-47ed-ae81-127ad2068af4' target=\"_blank\">\n",
    "<img alt='Created in deepnote.com' style='display:inline;max-height:16px;margin:0px;margin-right:7.5px;' src='data:image/svg+xml;base64,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' > </img>\n",
    "Created in <span style='font-weight:600;margin-left:4px;'>Deepnote</span></a>"
   ]
  }
 ],
 "metadata": {
  "deepnote": {},
  "deepnote_execution_queue": [],
  "deepnote_notebook_id": "8db4527f-aba8-4fba-a7a3-1740b38249d2",
  "kernelspec": {
   "display_name": "Python 3",
   "language": "python",
   "name": "python3"
  },
  "language_info": {
   "codemirror_mode": {
    "name": "ipython",
    "version": 3
   },
   "file_extension": ".py",
   "mimetype": "text/x-python",
   "name": "python",
   "nbconvert_exporter": "python",
   "pygments_lexer": "ipython3",
   "version": "3.8.5"
  }
 },
 "nbformat": 4,
 "nbformat_minor": 4
}
