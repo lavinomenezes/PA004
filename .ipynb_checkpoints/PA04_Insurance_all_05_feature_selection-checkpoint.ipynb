{
 "cells": [
  {
   "cell_type": "markdown",
   "metadata": {
    "cell_id": "212708af50214a78910b537f94e104c6",
    "deepnote_cell_height": 81.60000610351562,
    "deepnote_cell_type": "markdown",
    "tags": []
   },
   "source": [
    "# Imports"
   ]
  },
  {
   "cell_type": "code",
   "execution_count": 56,
   "metadata": {
    "ExecuteTime": {
     "end_time": "2022-08-30T22:13:21.310260Z",
     "start_time": "2022-08-30T22:13:21.288127Z"
    },
    "cell_id": "5e7d084a-f3be-4dbf-8839-c97912c25066",
    "deepnote_cell_height": 201.60000610351562,
    "deepnote_cell_type": "code",
    "deepnote_to_be_reexecuted": false,
    "execution_millis": 3275,
    "execution_start": 1661864310290,
    "source_hash": "a156261c",
    "tags": []
   },
   "outputs": [],
   "source": [
    "import pandas as pd\n",
    "import numpy as np\n",
    "import seaborn as sns\n",
    "import matplotlib.pyplot as plt\n",
    "from IPython.core.display import HTML\n",
    "from IPython.display import Image\n",
    "from scipy import stats\n",
    "from sklearn.model_selection import train_test_split\n",
    "from boruta import BorutaPy\n",
    "from sklearn.ensemble import RandomForestRegressor\n",
    "\n",
    "\n",
    "from sklearn.feature_selection import SelectKBest\n",
    "from sklearn.feature_selection import chi2, f_regression"
   ]
  },
  {
   "cell_type": "markdown",
   "metadata": {
    "cell_id": "1289ff42ed1b4ba893e01759d632e489",
    "deepnote_cell_height": 81.60000610351562,
    "deepnote_cell_type": "markdown",
    "deepnote_to_be_reexecuted": false,
    "execution_millis": 2,
    "execution_start": 1661864259673,
    "source_hash": "7e52a908",
    "tags": []
   },
   "source": [
    "# Helper functions"
   ]
  },
  {
   "cell_type": "code",
   "execution_count": 57,
   "metadata": {
    "ExecuteTime": {
     "end_time": "2022-08-30T22:13:21.688920Z",
     "start_time": "2022-08-30T22:13:21.310260Z"
    },
    "cell_id": "ed3fd78355f94579a665b0fa4d1ddfe7",
    "deepnote_cell_height": 302.20001220703125,
    "deepnote_cell_type": "code",
    "deepnote_output_heights": [
     null,
     1
    ],
    "deepnote_to_be_reexecuted": false,
    "execution_millis": 46,
    "execution_start": 1661864313619,
    "source_hash": "46a4bb4d",
    "tags": []
   },
   "outputs": [
    {
     "name": "stdout",
     "output_type": "stream",
     "text": [
      "Populating the interactive namespace from numpy and matplotlib\n"
     ]
    },
    {
     "data": {
      "text/html": [
       "<style>.container { width:100% !important; }</style>"
      ],
      "text/plain": [
       "<IPython.core.display.HTML object>"
      ]
     },
     "metadata": {},
     "output_type": "display_data"
    }
   ],
   "source": [
    "def jupyter_settings():\n",
    "    %matplotlib inline\n",
    "    %pylab inline\n",
    "    plt.style.use( 'bmh' )\n",
    "    plt.rcParams['figure.figsize'] = [25, 12]\n",
    "    plt.rcParams['font.size'] = 24\n",
    "    display( HTML( '<style>.container { width:100% !important; }</style>') )\n",
    "    sns.set()\n",
    "jupyter_settings()"
   ]
  },
  {
   "cell_type": "markdown",
   "metadata": {
    "cell_id": "588de57180ca403db6d9b5681a5d4417",
    "deepnote_cell_height": 81.60000610351562,
    "deepnote_cell_type": "markdown",
    "tags": []
   },
   "source": [
    "# Load functions"
   ]
  },
  {
   "cell_type": "code",
   "execution_count": 58,
   "metadata": {
    "ExecuteTime": {
     "end_time": "2022-08-30T22:13:22.460275Z",
     "start_time": "2022-08-30T22:13:21.688920Z"
    },
    "cell_id": "cead86bb780842739ab760f76b30e879",
    "deepnote_cell_height": 75.60000610351562,
    "deepnote_cell_type": "code",
    "deepnote_to_be_reexecuted": false,
    "execution_millis": 1155,
    "execution_start": 1661864583311,
    "source_hash": "1b473213",
    "tags": []
   },
   "outputs": [],
   "source": [
    "df5 = pd.read_csv('data/df4.csv')"
   ]
  },
  {
   "cell_type": "code",
   "execution_count": 59,
   "metadata": {
    "ExecuteTime": {
     "end_time": "2022-08-30T22:13:22.559713Z",
     "start_time": "2022-08-30T22:13:22.460275Z"
    },
    "cell_id": "3a20fe3772ad44ad8f13ebfdbc7195dc",
    "deepnote_cell_height": 389.20001220703125,
    "deepnote_cell_type": "code",
    "deepnote_to_be_reexecuted": false,
    "execution_millis": 169,
    "execution_start": 1661864589788,
    "source_hash": "306cd46f",
    "tags": []
   },
   "outputs": [
    {
     "data": {
      "text/html": [
       "<div>\n",
       "<style scoped>\n",
       "    .dataframe tbody tr th:only-of-type {\n",
       "        vertical-align: middle;\n",
       "    }\n",
       "\n",
       "    .dataframe tbody tr th {\n",
       "        vertical-align: top;\n",
       "    }\n",
       "\n",
       "    .dataframe thead th {\n",
       "        text-align: right;\n",
       "    }\n",
       "</style>\n",
       "<table border=\"1\" class=\"dataframe\">\n",
       "  <thead>\n",
       "    <tr style=\"text-align: right;\">\n",
       "      <th></th>\n",
       "      <th>id</th>\n",
       "      <th>gender</th>\n",
       "      <th>age</th>\n",
       "      <th>region_code</th>\n",
       "      <th>policy_sales_channel</th>\n",
       "      <th>previously_insured</th>\n",
       "      <th>annual_premium</th>\n",
       "      <th>vintage</th>\n",
       "      <th>vehicle_age</th>\n",
       "      <th>vehicle_damage</th>\n",
       "      <th>response</th>\n",
       "    </tr>\n",
       "  </thead>\n",
       "  <tbody>\n",
       "    <tr>\n",
       "      <th>0</th>\n",
       "      <td>1</td>\n",
       "      <td>0</td>\n",
       "      <td>0.369231</td>\n",
       "      <td>28.0</td>\n",
       "      <td>26.0</td>\n",
       "      <td>0</td>\n",
       "      <td>0.585862</td>\n",
       "      <td>0.716263</td>\n",
       "      <td>3</td>\n",
       "      <td>1</td>\n",
       "      <td>1</td>\n",
       "    </tr>\n",
       "    <tr>\n",
       "      <th>1</th>\n",
       "      <td>2</td>\n",
       "      <td>0</td>\n",
       "      <td>0.861538</td>\n",
       "      <td>3.0</td>\n",
       "      <td>26.0</td>\n",
       "      <td>0</td>\n",
       "      <td>0.124508</td>\n",
       "      <td>0.598616</td>\n",
       "      <td>2</td>\n",
       "      <td>0</td>\n",
       "      <td>0</td>\n",
       "    </tr>\n",
       "    <tr>\n",
       "      <th>2</th>\n",
       "      <td>3</td>\n",
       "      <td>0</td>\n",
       "      <td>0.415385</td>\n",
       "      <td>28.0</td>\n",
       "      <td>26.0</td>\n",
       "      <td>0</td>\n",
       "      <td>0.441814</td>\n",
       "      <td>0.058824</td>\n",
       "      <td>3</td>\n",
       "      <td>1</td>\n",
       "      <td>1</td>\n",
       "    </tr>\n",
       "    <tr>\n",
       "      <th>3</th>\n",
       "      <td>4</td>\n",
       "      <td>0</td>\n",
       "      <td>0.015385</td>\n",
       "      <td>11.0</td>\n",
       "      <td>152.0</td>\n",
       "      <td>1</td>\n",
       "      <td>-0.203401</td>\n",
       "      <td>0.667820</td>\n",
       "      <td>1</td>\n",
       "      <td>0</td>\n",
       "      <td>0</td>\n",
       "    </tr>\n",
       "    <tr>\n",
       "      <th>4</th>\n",
       "      <td>5</td>\n",
       "      <td>1</td>\n",
       "      <td>0.138462</td>\n",
       "      <td>41.0</td>\n",
       "      <td>152.0</td>\n",
       "      <td>1</td>\n",
       "      <td>-0.278293</td>\n",
       "      <td>0.100346</td>\n",
       "      <td>1</td>\n",
       "      <td>0</td>\n",
       "      <td>0</td>\n",
       "    </tr>\n",
       "  </tbody>\n",
       "</table>\n",
       "</div>"
      ],
      "text/plain": [
       "   id  gender       age  region_code  policy_sales_channel  \\\n",
       "0   1       0  0.369231         28.0                  26.0   \n",
       "1   2       0  0.861538          3.0                  26.0   \n",
       "2   3       0  0.415385         28.0                  26.0   \n",
       "3   4       0  0.015385         11.0                 152.0   \n",
       "4   5       1  0.138462         41.0                 152.0   \n",
       "\n",
       "   previously_insured  annual_premium   vintage  vehicle_age  vehicle_damage  \\\n",
       "0                   0        0.585862  0.716263            3               1   \n",
       "1                   0        0.124508  0.598616            2               0   \n",
       "2                   0        0.441814  0.058824            3               1   \n",
       "3                   1       -0.203401  0.667820            1               0   \n",
       "4                   1       -0.278293  0.100346            1               0   \n",
       "\n",
       "   response  \n",
       "0         1  \n",
       "1         0  \n",
       "2         1  \n",
       "3         0  \n",
       "4         0  "
      ]
     },
     "execution_count": 59,
     "metadata": {},
     "output_type": "execute_result"
    }
   ],
   "source": [
    "df5.head()"
   ]
  },
  {
   "cell_type": "code",
   "execution_count": 60,
   "metadata": {
    "ExecuteTime": {
     "end_time": "2022-08-30T22:13:22.590954Z",
     "start_time": "2022-08-30T22:13:22.559713Z"
    },
    "cell_id": "acdac1df05194ee88515cba7cb2e91a9",
    "deepnote_cell_height": 322.3999938964844,
    "deepnote_cell_type": "code",
    "deepnote_output_heights": [
     231
    ],
    "deepnote_to_be_reexecuted": false,
    "execution_millis": 723,
    "execution_start": 1661864599722,
    "source_hash": "24a6343e",
    "tags": []
   },
   "outputs": [
    {
     "data": {
      "text/plain": [
       "id                        int64\n",
       "gender                    int64\n",
       "age                     float64\n",
       "region_code             float64\n",
       "policy_sales_channel    float64\n",
       "previously_insured        int64\n",
       "annual_premium          float64\n",
       "vintage                 float64\n",
       "vehicle_age               int64\n",
       "vehicle_damage            int64\n",
       "response                  int64\n",
       "dtype: object"
      ]
     },
     "execution_count": 60,
     "metadata": {},
     "output_type": "execute_result"
    }
   ],
   "source": [
    "df5.dtypes"
   ]
  },
  {
   "cell_type": "markdown",
   "metadata": {},
   "source": [
    "# Split data frame"
   ]
  },
  {
   "cell_type": "code",
   "execution_count": 61,
   "metadata": {
    "ExecuteTime": {
     "end_time": "2022-08-30T22:13:22.945126Z",
     "start_time": "2022-08-30T22:13:22.590954Z"
    }
   },
   "outputs": [],
   "source": [
    "train, val = train_test_split(df5,test_size=0.2,stratify=df5['response'],random_state=42)"
   ]
  },
  {
   "cell_type": "code",
   "execution_count": 62,
   "metadata": {
    "ExecuteTime": {
     "end_time": "2022-08-30T22:13:22.960747Z",
     "start_time": "2022-08-30T22:13:22.945126Z"
    }
   },
   "outputs": [],
   "source": [
    "# train dataframes\n",
    "X_train = train\n",
    "y_train = X_train['response']\n",
    "\n",
    "# validation dataframes\n",
    "x_val = val\n",
    "y_val = val['response']"
   ]
  },
  {
   "cell_type": "markdown",
   "metadata": {},
   "source": [
    "# Feature Selection"
   ]
  },
  {
   "cell_type": "markdown",
   "metadata": {},
   "source": [
    "## Boruta"
   ]
  },
  {
   "cell_type": "code",
   "execution_count": 69,
   "metadata": {
    "ExecuteTime": {
     "end_time": "2022-08-30T22:13:57.000261Z",
     "start_time": "2022-08-30T22:13:56.969610Z"
    }
   },
   "outputs": [],
   "source": [
    "# training and teste dataset for boruta\n",
    "X_train_n = X_train.drop(columns=['id','response'])\n",
    "y_train_n = y_train\n",
    "\n",
    "#define RandonForestRegressor\n",
    "rf = RandomForestRegressor(n_jobs=-1)"
   ]
  },
  {
   "cell_type": "code",
   "execution_count": 64,
   "metadata": {
    "ExecuteTime": {
     "end_time": "2022-08-30T22:13:23.045406Z",
     "start_time": "2022-08-30T22:13:23.029748Z"
    }
   },
   "outputs": [],
   "source": [
    "# boruta\n",
    "# boruta = BorutaPy(rf,n_estimators='auto',verbose=2,random_state=42).fit(X_train_n,y_train_n)"
   ]
  },
  {
   "cell_type": "code",
   "execution_count": 65,
   "metadata": {
    "ExecuteTime": {
     "end_time": "2022-08-30T22:13:23.060989Z",
     "start_time": "2022-08-30T22:13:23.045406Z"
    }
   },
   "outputs": [],
   "source": [
    "\n",
    "\n",
    "# cols_selected = boruta.support_.tolist()\n",
    "\n",
    "# x_train_fs = X_train.drop(columns='response')\n",
    "# cols_selected_boruta = x_train_fs.iloc[:,cols_selected]\n",
    "\n",
    "# cols_not_selected_boruta = list(np.setdiff1d(x_train_fs.columns, cols_selected_boruta))\n",
    "\n"
   ]
  },
  {
   "cell_type": "code",
   "execution_count": 66,
   "metadata": {
    "ExecuteTime": {
     "end_time": "2022-08-30T22:13:23.076611Z",
     "start_time": "2022-08-30T22:13:23.060989Z"
    }
   },
   "outputs": [],
   "source": [
    "#cols_selected_boruta.columns"
   ]
  },
  {
   "cell_type": "code",
   "execution_count": 67,
   "metadata": {
    "ExecuteTime": {
     "end_time": "2022-08-30T22:13:23.092234Z",
     "start_time": "2022-08-30T22:13:23.076611Z"
    },
    "scrolled": true
   },
   "outputs": [],
   "source": [
    "#cols_not_selected_boruta"
   ]
  }
 ],
 "metadata": {
  "deepnote": {},
  "deepnote_execution_queue": [],
  "deepnote_notebook_id": "6fc7dc12-8e27-4a37-9e9e-26b7f39d675c",
  "kernelspec": {
   "display_name": "Python 3",
   "language": "python",
   "name": "python3"
  },
  "language_info": {
   "codemirror_mode": {
    "name": "ipython",
    "version": 3
   },
   "file_extension": ".py",
   "mimetype": "text/x-python",
   "name": "python",
   "nbconvert_exporter": "python",
   "pygments_lexer": "ipython3",
   "version": "3.8.5"
  }
 },
 "nbformat": 4,
 "nbformat_minor": 2
}
