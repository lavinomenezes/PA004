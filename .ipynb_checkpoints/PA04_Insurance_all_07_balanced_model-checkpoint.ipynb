{
 "cells": [
  {
   "cell_type": "code",
   "execution_count": null,
   "metadata": {},
   "outputs": [],
   "source": []
  },
  {
   "cell_type": "code",
   "execution_count": null,
   "metadata": {},
   "outputs": [],
   "source": []
  },
  {
   "cell_type": "code",
   "execution_count": null,
   "metadata": {},
   "outputs": [],
   "source": [
    "# xgb_model = xgb.XGBClassifier(objective='reg:squarederror',\n",
    "#                              n_estimators=700,\n",
    "#                              eta=0.01,\n",
    "#                              max_depth=10,\n",
    "#                              subsample=0.7,\n",
    "#                              colsample_bytree=0.9,\n",
    "#                              scale_pos_weight=8)\n",
    "# xg_cross = performace_cross_val(df6,'response',xgb_model,'XGBoost',k=20000,round_n=5)\n",
    "# xg_cross"
   ]
  },
  {
   "cell_type": "code",
   "execution_count": null,
   "metadata": {},
   "outputs": [],
   "source": [
    "# df6['response'].value_counts()[0]/df6['response'].value_counts()[1]"
   ]
  }
 ],
 "metadata": {
  "kernelspec": {
   "display_name": "Python 3",
   "language": "python",
   "name": "python3"
  },
  "language_info": {
   "codemirror_mode": {
    "name": "ipython",
    "version": 3
   },
   "file_extension": ".py",
   "mimetype": "text/x-python",
   "name": "python",
   "nbconvert_exporter": "python",
   "pygments_lexer": "ipython3",
   "version": "3.8.5"
  }
 },
 "nbformat": 4,
 "nbformat_minor": 4
}
