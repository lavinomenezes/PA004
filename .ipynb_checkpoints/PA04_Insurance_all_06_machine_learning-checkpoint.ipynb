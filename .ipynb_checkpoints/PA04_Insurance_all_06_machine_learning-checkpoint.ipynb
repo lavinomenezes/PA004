{
 "cells": [
  {
   "cell_type": "markdown",
   "metadata": {
    "cell_id": "14d744d2-4748-4c95-903c-15a9d3adc6e6",
    "deepnote_cell_height": 82,
    "deepnote_cell_type": "markdown"
   },
   "source": [
    "# Imports"
   ]
  },
  {
   "cell_type": "code",
   "execution_count": 2,
   "metadata": {
    "ExecuteTime": {
     "end_time": "2022-09-14T00:49:15.341155Z",
     "start_time": "2022-09-14T00:49:15.321142Z"
    },
    "cell_id": "00001-8f2e38cd-122d-43db-9f3e-17e868bf9b11",
    "deepnote_cell_height": 328,
    "deepnote_cell_type": "code",
    "deepnote_to_be_reexecuted": false,
    "execution_millis": 776,
    "execution_start": 1663115735944,
    "source_hash": "fe089ebc"
   },
   "outputs": [],
   "source": [
    "import pandas as pd\n",
    "import numpy as np\n",
    "import seaborn as sns\n",
    "import matplotlib.pyplot as plt\n",
    "import xgboost as xgb\n",
    "from IPython.core.display import HTML\n",
    "from sklearn.model_selection import train_test_split\n",
    "from sklearn.ensemble import RandomForestClassifier\n",
    "from sklearn.ensemble import ExtraTreesClassifier\n",
    "from sklearn.neighbors import KNeighborsClassifier\n",
    "from sklearn.model_selection import StratifiedKFold\n",
    "import sklearn.metrics\n",
    "from sklearn import linear_model as lm\n",
    "import scikitplot as skplt\n",
    "pd.options.mode.chained_assignment = None  # default='warn'"
   ]
  },
  {
   "cell_type": "markdown",
   "metadata": {
    "cell_id": "00002-c8dd785f-c8d1-46e1-a60a-736494a581d6",
    "deepnote_cell_height": 82,
    "deepnote_cell_type": "markdown"
   },
   "source": [
    "# helper functions"
   ]
  },
  {
   "cell_type": "code",
   "execution_count": 3,
   "metadata": {
    "ExecuteTime": {
     "end_time": "2022-09-14T00:49:15.389050Z",
     "start_time": "2022-09-14T00:49:15.341155Z"
    },
    "cell_id": "00003-5517e9ba-f076-4b96-a62d-e53e82cfe237",
    "deepnote_cell_height": 303.3999938964844,
    "deepnote_cell_type": "code",
    "deepnote_output_heights": [
     null,
     1
    ],
    "deepnote_to_be_reexecuted": false,
    "execution_millis": 82,
    "execution_start": 1663075328122,
    "source_hash": "46a4bb4d"
   },
   "outputs": [
    {
     "name": "stdout",
     "output_type": "stream",
     "text": [
      "Populating the interactive namespace from numpy and matplotlib\n"
     ]
    },
    {
     "data": {
      "text/html": [
       "<style>.container { width:100% !important; }</style>"
      ],
      "text/plain": [
       "<IPython.core.display.HTML object>"
      ]
     },
     "metadata": {},
     "output_type": "display_data"
    }
   ],
   "source": [
    "def jupyter_settings():\n",
    "    %matplotlib inline\n",
    "    %pylab inline\n",
    "    plt.style.use( 'bmh' )\n",
    "    plt.rcParams['figure.figsize'] = [25, 12]\n",
    "    plt.rcParams['font.size'] = 24\n",
    "    display( HTML( '<style>.container { width:100% !important; }</style>') )\n",
    "    sns.set()\n",
    "jupyter_settings()"
   ]
  },
  {
   "cell_type": "code",
   "execution_count": 4,
   "metadata": {
    "ExecuteTime": {
     "end_time": "2022-09-14T00:49:15.405028Z",
     "start_time": "2022-09-14T00:49:15.389050Z"
    },
    "cell_id": "00004-47f8bd42-4273-4320-bc31-e5a79be3291f",
    "deepnote_cell_height": 238,
    "deepnote_cell_type": "code",
    "deepnote_to_be_reexecuted": false,
    "execution_millis": 3,
    "execution_start": 1663115739466,
    "source_hash": "3c1bb37b"
   },
   "outputs": [],
   "source": [
    "def precision_at_k( data, k=2000 ):\n",
    "    # reset index\n",
    "    data = data.reset_index( drop=True )\n",
    "\n",
    "    # create ranking order\n",
    "    data['ranking'] = data.index + 1 \n",
    "\n",
    "    data['precision_at_k'] = data['response'].cumsum() / data['ranking']\n",
    "\n",
    "    return data.loc[k, 'precision_at_k']"
   ]
  },
  {
   "cell_type": "code",
   "execution_count": 5,
   "metadata": {
    "ExecuteTime": {
     "end_time": "2022-09-14T00:49:15.421007Z",
     "start_time": "2022-09-14T00:49:15.409023Z"
    },
    "cell_id": "00005-9d92dab6-46cd-49b8-8ed3-62f3a5a3e035",
    "deepnote_cell_height": 238,
    "deepnote_cell_type": "code",
    "deepnote_to_be_reexecuted": false,
    "execution_millis": 3,
    "execution_start": 1663115741181,
    "source_hash": "979ce389"
   },
   "outputs": [],
   "source": [
    "def recall_at_k( data, k=2000 ):\n",
    "    # reset index\n",
    "    data = data.reset_index( drop=True )\n",
    "\n",
    "    # create ranking order\n",
    "    data['ranking'] = data.index + 1 \n",
    "\n",
    "    data['recall_at_k'] = data['response'].cumsum() / data['response'].sum()\n",
    "\n",
    "    return data.loc[k, 'recall_at_k']"
   ]
  },
  {
   "cell_type": "code",
   "execution_count": 6,
   "metadata": {
    "ExecuteTime": {
     "end_time": "2022-09-14T00:49:15.436987Z",
     "start_time": "2022-09-14T00:49:15.421007Z"
    },
    "cell_id": "00006-ab8794da-ac1a-4a74-a1c7-59a2709e69f8",
    "deepnote_cell_height": 292,
    "deepnote_cell_type": "code",
    "deepnote_to_be_reexecuted": false,
    "execution_millis": 9,
    "execution_start": 1663115743484,
    "source_hash": "1776f534"
   },
   "outputs": [],
   "source": [
    "def performace(model_name,data,y_val,yhat_class,k):\n",
    "    import sklearn.metrics\n",
    "    prec = sklearn.metrics.precision_score(y_val,yhat_class)\n",
    "    recal = sklearn.metrics.recall_score(y_val,yhat_class)\n",
    "    recal_k = recall_at_k(data,k)\n",
    "    prec_k = precision_at_k(data,k)\n",
    "    \n",
    "    return pd.DataFrame({'Model Name':model_name,\n",
    "                        'Precison':prec,\n",
    "                        'Recall':recal,\n",
    "                        'k':k,\n",
    "                        'Precison at k':prec_k,\n",
    "                        'Recall at k':recal_k},index=[0])"
   ]
  },
  {
   "cell_type": "code",
   "execution_count": 7,
   "metadata": {
    "ExecuteTime": {
     "end_time": "2022-09-14T00:49:15.468985Z",
     "start_time": "2022-09-14T00:49:15.436987Z"
    },
    "cell_id": "742c29517f224f6298fe9b0cab0c09de",
    "deepnote_cell_height": 999,
    "deepnote_cell_type": "code",
    "deepnote_to_be_reexecuted": false,
    "execution_millis": 3,
    "execution_start": 1663115745298,
    "source_hash": "14efc264",
    "tags": []
   },
   "outputs": [],
   "source": [
    "def performace_cross_val(data,target,model,model_name,round_n=3,splits=4,shuffle_n=True,random=42,k=2000):\n",
    "    \n",
    "    import sklearn.model_selection as ms\n",
    "    import sklearn.metrics\n",
    "    import numpy as np\n",
    "    skf = ms.StratifiedKFold(n_splits=splits,shuffle=shuffle_n,random_state=random)\n",
    "    X = data\n",
    "    y = X[target]\n",
    "    X = X.drop(columns=[target,'id'])\n",
    "    precision = []\n",
    "    recall = []\n",
    "    prec_k = []\n",
    "    rec_k = []\n",
    "    for train_index, test_index in skf.split(X,y):\n",
    "        #train the model \n",
    "        model.fit(X.iloc[train_index],y.iloc[train_index])\n",
    "\n",
    "        #predict the classification \n",
    "        yhat_class = model.predict( X.iloc[test_index] )\n",
    "\n",
    "        #predict the probabilit\n",
    "        yhat_proba = model.predict_proba(X.iloc[test_index])\n",
    "\n",
    "        # precision and recall\n",
    "        prec = sklearn.metrics.precision_score(y.iloc[test_index],yhat_class)\n",
    "        rec = sklearn.metrics.recall_score(y.iloc[test_index],yhat_class)\n",
    "        precision.append(prec)\n",
    "        recall.append(rec)\n",
    "\n",
    "        # sort the test dataframe by the probabiliti score of the model\n",
    "        aux = X.iloc[test_index]\n",
    "        aux[target] = y.iloc[test_index]\n",
    "        aux['score'] = yhat_proba[:,1].tolist()\n",
    "\n",
    "        # sorte by score\n",
    "        aux = aux.sort_values('score',ascending=False)\n",
    "\n",
    "        # precision and recall at k\n",
    "        prec_k.append(precision_at_k(aux,k))\n",
    "        rec_k.append(recall_at_k(aux,k))\n",
    "\n",
    "    # return a dataset with the metrics    \n",
    "    return pd.DataFrame({'Model name': model_name + \" Cross_Val\",\n",
    "                                'PRECISION CROSS_VAL': np.round( np.mean( precision ), round_n ),\n",
    "                                'PRECISON STD': np.round( np.std( precision ), round_n ),\n",
    "                                'RECALL CROSS_VAL': np.round( np.mean( recall ), round_n ),\n",
    "                                'RECALL STD': np.round( np.std( recall ), round_n ),\n",
    "                                'K': k,\n",
    "                                'PRECISION AT K CROSS_VAL': np.round( np.mean( prec_k ), round_n ),\n",
    "                                'PRECISION AT K STD': np.round( np.std( prec_k ), round_n ),\n",
    "                                'RECALL AT K CROSS_VAL': np.round( np.mean( rec_k), round_n ),\n",
    "                                'RECALL AT K STD': np.round( np.std( rec_k )) },index=[0]) "
   ]
  },
  {
   "cell_type": "markdown",
   "metadata": {
    "cell_id": "00007-84180494-931e-413c-ac91-7d9eb41170ee",
    "deepnote_cell_height": 82,
    "deepnote_cell_type": "markdown"
   },
   "source": [
    "# Load data"
   ]
  },
  {
   "cell_type": "code",
   "execution_count": 8,
   "metadata": {
    "ExecuteTime": {
     "end_time": "2022-09-14T00:49:15.977891Z",
     "start_time": "2022-09-14T00:49:15.468985Z"
    },
    "cell_id": "00008-c41e43a5-52c6-4310-9007-b7ae4b5435fa",
    "deepnote_cell_height": 76,
    "deepnote_cell_type": "code",
    "deepnote_to_be_reexecuted": false,
    "execution_millis": 319,
    "execution_start": 1663115748567,
    "source_hash": "37361c87"
   },
   "outputs": [],
   "source": [
    "df6 = pd.read_csv('data/df5.csv')"
   ]
  },
  {
   "cell_type": "code",
   "execution_count": 9,
   "metadata": {
    "ExecuteTime": {
     "end_time": "2022-09-14T00:49:16.036629Z",
     "start_time": "2022-09-14T00:49:15.981891Z"
    },
    "cell_id": "00009-51310743-184f-4924-9bd7-bad07ab35a12",
    "deepnote_cell_height": 407,
    "deepnote_cell_type": "code",
    "deepnote_to_be_reexecuted": false,
    "execution_millis": 78,
    "execution_start": 1663115754551,
    "scrolled": true,
    "source_hash": "8f2e4d8a"
   },
   "outputs": [
    {
     "data": {
      "text/html": [
       "<div>\n",
       "<style scoped>\n",
       "    .dataframe tbody tr th:only-of-type {\n",
       "        vertical-align: middle;\n",
       "    }\n",
       "\n",
       "    .dataframe tbody tr th {\n",
       "        vertical-align: top;\n",
       "    }\n",
       "\n",
       "    .dataframe thead th {\n",
       "        text-align: right;\n",
       "    }\n",
       "</style>\n",
       "<table border=\"1\" class=\"dataframe\">\n",
       "  <thead>\n",
       "    <tr style=\"text-align: right;\">\n",
       "      <th></th>\n",
       "      <th>id</th>\n",
       "      <th>age</th>\n",
       "      <th>region_code</th>\n",
       "      <th>policy_sales_channel</th>\n",
       "      <th>previously_insured</th>\n",
       "      <th>vintage</th>\n",
       "      <th>vehicle_age</th>\n",
       "      <th>vehicle_damage</th>\n",
       "      <th>response</th>\n",
       "    </tr>\n",
       "  </thead>\n",
       "  <tbody>\n",
       "    <tr>\n",
       "      <th>0</th>\n",
       "      <td>1</td>\n",
       "      <td>0.369231</td>\n",
       "      <td>28.0</td>\n",
       "      <td>26.0</td>\n",
       "      <td>0</td>\n",
       "      <td>0.716263</td>\n",
       "      <td>3</td>\n",
       "      <td>1</td>\n",
       "      <td>1</td>\n",
       "    </tr>\n",
       "    <tr>\n",
       "      <th>1</th>\n",
       "      <td>2</td>\n",
       "      <td>0.861538</td>\n",
       "      <td>3.0</td>\n",
       "      <td>26.0</td>\n",
       "      <td>0</td>\n",
       "      <td>0.598616</td>\n",
       "      <td>2</td>\n",
       "      <td>0</td>\n",
       "      <td>0</td>\n",
       "    </tr>\n",
       "    <tr>\n",
       "      <th>2</th>\n",
       "      <td>3</td>\n",
       "      <td>0.415385</td>\n",
       "      <td>28.0</td>\n",
       "      <td>26.0</td>\n",
       "      <td>0</td>\n",
       "      <td>0.058824</td>\n",
       "      <td>3</td>\n",
       "      <td>1</td>\n",
       "      <td>1</td>\n",
       "    </tr>\n",
       "    <tr>\n",
       "      <th>3</th>\n",
       "      <td>4</td>\n",
       "      <td>0.015385</td>\n",
       "      <td>11.0</td>\n",
       "      <td>152.0</td>\n",
       "      <td>1</td>\n",
       "      <td>0.667820</td>\n",
       "      <td>1</td>\n",
       "      <td>0</td>\n",
       "      <td>0</td>\n",
       "    </tr>\n",
       "    <tr>\n",
       "      <th>4</th>\n",
       "      <td>5</td>\n",
       "      <td>0.138462</td>\n",
       "      <td>41.0</td>\n",
       "      <td>152.0</td>\n",
       "      <td>1</td>\n",
       "      <td>0.100346</td>\n",
       "      <td>1</td>\n",
       "      <td>0</td>\n",
       "      <td>0</td>\n",
       "    </tr>\n",
       "  </tbody>\n",
       "</table>\n",
       "</div>"
      ],
      "text/plain": [
       "   id       age  region_code  policy_sales_channel  previously_insured  \\\n",
       "0   1  0.369231         28.0                  26.0                   0   \n",
       "1   2  0.861538          3.0                  26.0                   0   \n",
       "2   3  0.415385         28.0                  26.0                   0   \n",
       "3   4  0.015385         11.0                 152.0                   1   \n",
       "4   5  0.138462         41.0                 152.0                   1   \n",
       "\n",
       "    vintage  vehicle_age  vehicle_damage  response  \n",
       "0  0.716263            3               1         1  \n",
       "1  0.598616            2               0         0  \n",
       "2  0.058824            3               1         1  \n",
       "3  0.667820            1               0         0  \n",
       "4  0.100346            1               0         0  "
      ]
     },
     "execution_count": 9,
     "metadata": {},
     "output_type": "execute_result"
    }
   ],
   "source": [
    "df6.head()"
   ]
  },
  {
   "cell_type": "code",
   "execution_count": 10,
   "metadata": {
    "ExecuteTime": {
     "end_time": "2022-09-14T00:49:16.052606Z",
     "start_time": "2022-09-14T00:49:16.036629Z"
    },
    "cell_id": "00010-9bcda57f-6c10-4b76-a917-7cc123ffa627",
    "deepnote_cell_height": 285,
    "deepnote_cell_type": "code",
    "deepnote_output_heights": [
     193
    ],
    "deepnote_to_be_reexecuted": false,
    "execution_millis": 785,
    "execution_start": 1663075328587,
    "source_hash": "ac6ebbf9"
   },
   "outputs": [
    {
     "data": {
      "text/plain": [
       "id                        int64\n",
       "age                     float64\n",
       "region_code             float64\n",
       "policy_sales_channel    float64\n",
       "previously_insured        int64\n",
       "vintage                 float64\n",
       "vehicle_age               int64\n",
       "vehicle_damage            int64\n",
       "response                  int64\n",
       "dtype: object"
      ]
     },
     "execution_count": 10,
     "metadata": {},
     "output_type": "execute_result"
    }
   ],
   "source": [
    "df6.dtypes"
   ]
  },
  {
   "cell_type": "markdown",
   "metadata": {
    "cell_id": "00011-8ade3ecc-bbc3-41e9-a58a-9ed7c892b3e5",
    "deepnote_cell_height": 70,
    "deepnote_cell_type": "markdown"
   },
   "source": [
    "## Slipt train test"
   ]
  },
  {
   "cell_type": "code",
   "execution_count": 11,
   "metadata": {
    "ExecuteTime": {
     "end_time": "2022-09-14T00:49:16.399900Z",
     "start_time": "2022-09-14T00:49:16.052606Z"
    },
    "cell_id": "00014-300c7c0c-ae4e-4c09-82c3-e8890820e92b",
    "deepnote_cell_height": 238,
    "deepnote_cell_type": "code",
    "deepnote_to_be_reexecuted": false,
    "execution_millis": 167,
    "execution_start": 1663075328588,
    "source_hash": "6fdaa04d"
   },
   "outputs": [],
   "source": [
    "train, val = train_test_split(df6,test_size=0.3,stratify=df6['response'],random_state=42)\n",
    "\n",
    "# train dataframes\n",
    "X_train = train.copy()\n",
    "y_train = X_train['response']\n",
    "X_train.drop(columns = ['response','id'],inplace=True)\n",
    "# validation dataframes\n",
    "x_val = val.copy()\n",
    "y_val = val['response']\n",
    "x_val.drop(columns = ['response','id'],inplace=True)"
   ]
  },
  {
   "cell_type": "markdown",
   "metadata": {
    "cell_id": "00015-e802f5a4-b869-4d12-8fa2-9235c385383f",
    "deepnote_cell_height": 82,
    "deepnote_cell_type": "markdown"
   },
   "source": [
    "# Machine learning"
   ]
  },
  {
   "cell_type": "markdown",
   "metadata": {
    "cell_id": "00016-2a0bce78-f887-46fc-bacb-c84b26d3beda",
    "deepnote_cell_height": 70,
    "deepnote_cell_type": "markdown"
   },
   "source": [
    "## KNN"
   ]
  },
  {
   "cell_type": "code",
   "execution_count": 12,
   "metadata": {
    "ExecuteTime": {
     "end_time": "2022-09-14T00:49:17.585662Z",
     "start_time": "2022-09-14T00:49:16.400769Z"
    },
    "cell_id": "00017-edcd367a-ef36-45f6-b004-e7dfad534627",
    "deepnote_cell_height": 148,
    "deepnote_cell_type": "code",
    "deepnote_output_heights": [
     59
    ],
    "deepnote_to_be_reexecuted": false,
    "execution_millis": 0,
    "execution_start": 1663115833468,
    "source_hash": "10a81161"
   },
   "outputs": [
    {
     "data": {
      "text/html": [
       "<style>#sk-container-id-1 {color: black;background-color: white;}#sk-container-id-1 pre{padding: 0;}#sk-container-id-1 div.sk-toggleable {background-color: white;}#sk-container-id-1 label.sk-toggleable__label {cursor: pointer;display: block;width: 100%;margin-bottom: 0;padding: 0.3em;box-sizing: border-box;text-align: center;}#sk-container-id-1 label.sk-toggleable__label-arrow:before {content: \"▸\";float: left;margin-right: 0.25em;color: #696969;}#sk-container-id-1 label.sk-toggleable__label-arrow:hover:before {color: black;}#sk-container-id-1 div.sk-estimator:hover label.sk-toggleable__label-arrow:before {color: black;}#sk-container-id-1 div.sk-toggleable__content {max-height: 0;max-width: 0;overflow: hidden;text-align: left;background-color: #f0f8ff;}#sk-container-id-1 div.sk-toggleable__content pre {margin: 0.2em;color: black;border-radius: 0.25em;background-color: #f0f8ff;}#sk-container-id-1 input.sk-toggleable__control:checked~div.sk-toggleable__content {max-height: 200px;max-width: 100%;overflow: auto;}#sk-container-id-1 input.sk-toggleable__control:checked~label.sk-toggleable__label-arrow:before {content: \"▾\";}#sk-container-id-1 div.sk-estimator input.sk-toggleable__control:checked~label.sk-toggleable__label {background-color: #d4ebff;}#sk-container-id-1 div.sk-label input.sk-toggleable__control:checked~label.sk-toggleable__label {background-color: #d4ebff;}#sk-container-id-1 input.sk-hidden--visually {border: 0;clip: rect(1px 1px 1px 1px);clip: rect(1px, 1px, 1px, 1px);height: 1px;margin: -1px;overflow: hidden;padding: 0;position: absolute;width: 1px;}#sk-container-id-1 div.sk-estimator {font-family: monospace;background-color: #f0f8ff;border: 1px dotted black;border-radius: 0.25em;box-sizing: border-box;margin-bottom: 0.5em;}#sk-container-id-1 div.sk-estimator:hover {background-color: #d4ebff;}#sk-container-id-1 div.sk-parallel-item::after {content: \"\";width: 100%;border-bottom: 1px solid gray;flex-grow: 1;}#sk-container-id-1 div.sk-label:hover label.sk-toggleable__label {background-color: #d4ebff;}#sk-container-id-1 div.sk-serial::before {content: \"\";position: absolute;border-left: 1px solid gray;box-sizing: border-box;top: 0;bottom: 0;left: 50%;z-index: 0;}#sk-container-id-1 div.sk-serial {display: flex;flex-direction: column;align-items: center;background-color: white;padding-right: 0.2em;padding-left: 0.2em;position: relative;}#sk-container-id-1 div.sk-item {position: relative;z-index: 1;}#sk-container-id-1 div.sk-parallel {display: flex;align-items: stretch;justify-content: center;background-color: white;position: relative;}#sk-container-id-1 div.sk-item::before, #sk-container-id-1 div.sk-parallel-item::before {content: \"\";position: absolute;border-left: 1px solid gray;box-sizing: border-box;top: 0;bottom: 0;left: 50%;z-index: -1;}#sk-container-id-1 div.sk-parallel-item {display: flex;flex-direction: column;z-index: 1;position: relative;background-color: white;}#sk-container-id-1 div.sk-parallel-item:first-child::after {align-self: flex-end;width: 50%;}#sk-container-id-1 div.sk-parallel-item:last-child::after {align-self: flex-start;width: 50%;}#sk-container-id-1 div.sk-parallel-item:only-child::after {width: 0;}#sk-container-id-1 div.sk-dashed-wrapped {border: 1px dashed gray;margin: 0 0.4em 0.5em 0.4em;box-sizing: border-box;padding-bottom: 0.4em;background-color: white;}#sk-container-id-1 div.sk-label label {font-family: monospace;font-weight: bold;display: inline-block;line-height: 1.2em;}#sk-container-id-1 div.sk-label-container {text-align: center;}#sk-container-id-1 div.sk-container {/* jupyter's `normalize.less` sets `[hidden] { display: none; }` but bootstrap.min.css set `[hidden] { display: none !important; }` so we also need the `!important` here to be able to override the default hidden behavior on the sphinx rendered scikit-learn.org. See: https://github.com/scikit-learn/scikit-learn/issues/21755 */display: inline-block !important;position: relative;}#sk-container-id-1 div.sk-text-repr-fallback {display: none;}</style><div id=\"sk-container-id-1\" class=\"sk-top-container\"><div class=\"sk-text-repr-fallback\"><pre>KNeighborsClassifier()</pre><b>In a Jupyter environment, please rerun this cell to show the HTML representation or trust the notebook. <br />On GitHub, the HTML representation is unable to render, please try loading this page with nbviewer.org.</b></div><div class=\"sk-container\" hidden><div class=\"sk-item\"><div class=\"sk-estimator sk-toggleable\"><input class=\"sk-toggleable__control sk-hidden--visually\" id=\"sk-estimator-id-1\" type=\"checkbox\" checked><label for=\"sk-estimator-id-1\" class=\"sk-toggleable__label sk-toggleable__label-arrow\">KNeighborsClassifier</label><div class=\"sk-toggleable__content\"><pre>KNeighborsClassifier()</pre></div></div></div></div></div>"
      ],
      "text/plain": [
       "KNeighborsClassifier()"
      ]
     },
     "execution_count": 12,
     "metadata": {},
     "output_type": "execute_result"
    }
   ],
   "source": [
    "#model\n",
    "knn_model = KNeighborsClassifier(n_neighbors=5)\n",
    "\n",
    "# model training\n",
    "knn_model.fit(X_train,y_train)"
   ]
  },
  {
   "cell_type": "code",
   "execution_count": 13,
   "metadata": {
    "ExecuteTime": {
     "end_time": "2022-09-14T00:50:03.597688Z",
     "start_time": "2022-09-14T00:49:17.585662Z"
    },
    "cell_id": "00018-73123b44-fc09-4483-84e1-8c67af5f6f3a",
    "deepnote_cell_height": 216.39999389648438,
    "deepnote_cell_type": "code",
    "deepnote_to_be_reexecuted": false,
    "execution_millis": 25512,
    "execution_start": 1663075329189,
    "source_hash": "e479a2c4"
   },
   "outputs": [],
   "source": [
    "#model prediction proba - poder de generalizção\n",
    "yhat_knn_proba = knn_model.predict_proba( x_val )\n",
    "\n",
    "#model prediction - poder de generalizção\n",
    "yhat_knn_class = knn_model.predict( x_val )"
   ]
  },
  {
   "cell_type": "code",
   "execution_count": 14,
   "metadata": {
    "ExecuteTime": {
     "end_time": "2022-09-14T00:50:04.561801Z",
     "start_time": "2022-09-14T00:50:03.597688Z"
    },
    "cell_id": "00019-287ff93b-6fce-49eb-97a2-4de2942ff0ba",
    "deepnote_cell_height": 559,
    "deepnote_cell_type": "code",
    "deepnote_output_heights": [
     431
    ],
    "deepnote_to_be_reexecuted": false,
    "execution_millis": 1621,
    "execution_start": 1663075354714,
    "scrolled": false,
    "source_hash": "4922d075"
   },
   "outputs": [
    {
     "data": {
      "image/png": "[encoded data removed]",
      "text/plain": [
       "<Figure size 1800x864 with 2 Axes>"
      ]
     },
     "metadata": {},
     "output_type": "display_data"
    }
   ],
   "source": [
    "fig ,ax = plt.subplots(1,2)\n",
    "skplt.metrics.plot_cumulative_gain(y_val,yhat_knn_proba,ax=ax[0]);\n",
    "skplt.metrics.plot_lift_curve(y_val,yhat_knn_proba,ax=ax[1]);"
   ]
  },
  {
   "cell_type": "markdown",
   "metadata": {
    "cell_id": "00020-ee979896-bb38-4467-b22e-8003e0d9b462",
    "deepnote_cell_height": 70,
    "deepnote_cell_type": "markdown"
   },
   "source": [
    "## Linear model"
   ]
  },
  {
   "cell_type": "code",
   "execution_count": 15,
   "metadata": {
    "ExecuteTime": {
     "end_time": "2022-09-14T00:50:11.112444Z",
     "start_time": "2022-09-14T00:50:04.561801Z"
    },
    "cell_id": "00021-f4bab372-bb15-4b26-a4de-f6769167124c",
    "deepnote_cell_height": 94,
    "deepnote_cell_type": "code",
    "deepnote_output_heights": [
     null,
     59
    ],
    "deepnote_to_be_reexecuted": false,
    "execution_millis": 3,
    "execution_start": 1663115839990,
    "source_hash": "d481df20"
   },
   "outputs": [
    {
     "data": {
      "text/html": [
       "<style>#sk-container-id-2 {color: black;background-color: white;}#sk-container-id-2 pre{padding: 0;}#sk-container-id-2 div.sk-toggleable {background-color: white;}#sk-container-id-2 label.sk-toggleable__label {cursor: pointer;display: block;width: 100%;margin-bottom: 0;padding: 0.3em;box-sizing: border-box;text-align: center;}#sk-container-id-2 label.sk-toggleable__label-arrow:before {content: \"▸\";float: left;margin-right: 0.25em;color: #696969;}#sk-container-id-2 label.sk-toggleable__label-arrow:hover:before {color: black;}#sk-container-id-2 div.sk-estimator:hover label.sk-toggleable__label-arrow:before {color: black;}#sk-container-id-2 div.sk-toggleable__content {max-height: 0;max-width: 0;overflow: hidden;text-align: left;background-color: #f0f8ff;}#sk-container-id-2 div.sk-toggleable__content pre {margin: 0.2em;color: black;border-radius: 0.25em;background-color: #f0f8ff;}#sk-container-id-2 input.sk-toggleable__control:checked~div.sk-toggleable__content {max-height: 200px;max-width: 100%;overflow: auto;}#sk-container-id-2 input.sk-toggleable__control:checked~label.sk-toggleable__label-arrow:before {content: \"▾\";}#sk-container-id-2 div.sk-estimator input.sk-toggleable__control:checked~label.sk-toggleable__label {background-color: #d4ebff;}#sk-container-id-2 div.sk-label input.sk-toggleable__control:checked~label.sk-toggleable__label {background-color: #d4ebff;}#sk-container-id-2 input.sk-hidden--visually {border: 0;clip: rect(1px 1px 1px 1px);clip: rect(1px, 1px, 1px, 1px);height: 1px;margin: -1px;overflow: hidden;padding: 0;position: absolute;width: 1px;}#sk-container-id-2 div.sk-estimator {font-family: monospace;background-color: #f0f8ff;border: 1px dotted black;border-radius: 0.25em;box-sizing: border-box;margin-bottom: 0.5em;}#sk-container-id-2 div.sk-estimator:hover {background-color: #d4ebff;}#sk-container-id-2 div.sk-parallel-item::after {content: \"\";width: 100%;border-bottom: 1px solid gray;flex-grow: 1;}#sk-container-id-2 div.sk-label:hover label.sk-toggleable__label {background-color: #d4ebff;}#sk-container-id-2 div.sk-serial::before {content: \"\";position: absolute;border-left: 1px solid gray;box-sizing: border-box;top: 0;bottom: 0;left: 50%;z-index: 0;}#sk-container-id-2 div.sk-serial {display: flex;flex-direction: column;align-items: center;background-color: white;padding-right: 0.2em;padding-left: 0.2em;position: relative;}#sk-container-id-2 div.sk-item {position: relative;z-index: 1;}#sk-container-id-2 div.sk-parallel {display: flex;align-items: stretch;justify-content: center;background-color: white;position: relative;}#sk-container-id-2 div.sk-item::before, #sk-container-id-2 div.sk-parallel-item::before {content: \"\";position: absolute;border-left: 1px solid gray;box-sizing: border-box;top: 0;bottom: 0;left: 50%;z-index: -1;}#sk-container-id-2 div.sk-parallel-item {display: flex;flex-direction: column;z-index: 1;position: relative;background-color: white;}#sk-container-id-2 div.sk-parallel-item:first-child::after {align-self: flex-end;width: 50%;}#sk-container-id-2 div.sk-parallel-item:last-child::after {align-self: flex-start;width: 50%;}#sk-container-id-2 div.sk-parallel-item:only-child::after {width: 0;}#sk-container-id-2 div.sk-dashed-wrapped {border: 1px dashed gray;margin: 0 0.4em 0.5em 0.4em;box-sizing: border-box;padding-bottom: 0.4em;background-color: white;}#sk-container-id-2 div.sk-label label {font-family: monospace;font-weight: bold;display: inline-block;line-height: 1.2em;}#sk-container-id-2 div.sk-label-container {text-align: center;}#sk-container-id-2 div.sk-container {/* jupyter's `normalize.less` sets `[hidden] { display: none; }` but bootstrap.min.css set `[hidden] { display: none !important; }` so we also need the `!important` here to be able to override the default hidden behavior on the sphinx rendered scikit-learn.org. See: https://github.com/scikit-learn/scikit-learn/issues/21755 */display: inline-block !important;position: relative;}#sk-container-id-2 div.sk-text-repr-fallback {display: none;}</style><div id=\"sk-container-id-2\" class=\"sk-top-container\"><div class=\"sk-text-repr-fallback\"><pre>LogisticRegression(n_jobs=-1, random_state=42)</pre><b>In a Jupyter environment, please rerun this cell to show the HTML representation or trust the notebook. <br />On GitHub, the HTML representation is unable to render, please try loading this page with nbviewer.org.</b></div><div class=\"sk-container\" hidden><div class=\"sk-item\"><div class=\"sk-estimator sk-toggleable\"><input class=\"sk-toggleable__control sk-hidden--visually\" id=\"sk-estimator-id-2\" type=\"checkbox\" checked><label for=\"sk-estimator-id-2\" class=\"sk-toggleable__label sk-toggleable__label-arrow\">LogisticRegression</label><div class=\"sk-toggleable__content\"><pre>LogisticRegression(n_jobs=-1, random_state=42)</pre></div></div></div></div></div>"
      ],
      "text/plain": [
       "LogisticRegression(n_jobs=-1, random_state=42)"
      ]
     },
     "execution_count": 15,
     "metadata": {},
     "output_type": "execute_result"
    }
   ],
   "source": [
    "lm_model = lm.LogisticRegression(random_state=42,n_jobs=-1)\n",
    "lm_model.fit(X_train,y_train)"
   ]
  },
  {
   "cell_type": "code",
   "execution_count": 16,
   "metadata": {
    "ExecuteTime": {
     "end_time": "2022-09-14T00:50:11.159313Z",
     "start_time": "2022-09-14T00:50:11.112444Z"
    },
    "cell_id": "00022-3be5e03f-fcad-4558-b5de-952efaf0c41e",
    "deepnote_cell_height": 148,
    "deepnote_cell_type": "code",
    "deepnote_to_be_reexecuted": false,
    "execution_millis": 102,
    "execution_start": 1663075367316,
    "source_hash": "478f3e19"
   },
   "outputs": [],
   "source": [
    "#model prediction proba - poder de generalizção\n",
    "yhat_lm_proba = lm_model.predict_proba( x_val )\n",
    "\n",
    "#model prediction - poder de generalizção\n",
    "yhat_lm_class = lm_model.predict( x_val )"
   ]
  },
  {
   "cell_type": "code",
   "execution_count": 17,
   "metadata": {
    "ExecuteTime": {
     "end_time": "2022-09-14T00:50:11.876814Z",
     "start_time": "2022-09-14T00:50:11.159313Z"
    },
    "cell_id": "00023-f8e2c4a6-d24d-46f3-b32a-7b23f29db642",
    "deepnote_cell_height": 550,
    "deepnote_cell_type": "code",
    "deepnote_output_heights": [
     422
    ],
    "deepnote_to_be_reexecuted": false,
    "execution_millis": 932,
    "execution_start": 1663075367501,
    "scrolled": true,
    "source_hash": "cc604100"
   },
   "outputs": [
    {
     "data": {
      "image/png": "[encoded data removed]",
      "text/plain": [
       "<Figure size 1800x864 with 2 Axes>"
      ]
     },
     "metadata": {},
     "output_type": "display_data"
    }
   ],
   "source": [
    "fig ,ax = plt.subplots(1,2)\n",
    "skplt.metrics.plot_cumulative_gain(y_val,yhat_lm_proba,ax=ax[0]);\n",
    "skplt.metrics.plot_lift_curve(y_val,yhat_lm_proba,ax=ax[1]);"
   ]
  },
  {
   "cell_type": "markdown",
   "metadata": {
    "cell_id": "00024-ca2a8dd8-8310-48f8-999f-6799c50992ac",
    "deepnote_cell_height": 70,
    "deepnote_cell_type": "markdown"
   },
   "source": [
    "## Random forrest classifier"
   ]
  },
  {
   "cell_type": "code",
   "execution_count": 18,
   "metadata": {
    "ExecuteTime": {
     "end_time": "2022-09-14T00:52:49.150311Z",
     "start_time": "2022-09-14T00:50:11.876814Z"
    },
    "cell_id": "00025-57c9c35f-0bae-4a9b-898e-e25b1f58e4c5",
    "deepnote_cell_height": 169,
    "deepnote_cell_type": "code",
    "deepnote_output_heights": [
     59
    ],
    "deepnote_to_be_reexecuted": false,
    "execution_millis": 73481,
    "execution_start": 1663075368252,
    "source_hash": "92259f83"
   },
   "outputs": [
    {
     "data": {
      "text/html": [
       "<style>#sk-container-id-3 {color: black;background-color: white;}#sk-container-id-3 pre{padding: 0;}#sk-container-id-3 div.sk-toggleable {background-color: white;}#sk-container-id-3 label.sk-toggleable__label {cursor: pointer;display: block;width: 100%;margin-bottom: 0;padding: 0.3em;box-sizing: border-box;text-align: center;}#sk-container-id-3 label.sk-toggleable__label-arrow:before {content: \"▸\";float: left;margin-right: 0.25em;color: #696969;}#sk-container-id-3 label.sk-toggleable__label-arrow:hover:before {color: black;}#sk-container-id-3 div.sk-estimator:hover label.sk-toggleable__label-arrow:before {color: black;}#sk-container-id-3 div.sk-toggleable__content {max-height: 0;max-width: 0;overflow: hidden;text-align: left;background-color: #f0f8ff;}#sk-container-id-3 div.sk-toggleable__content pre {margin: 0.2em;color: black;border-radius: 0.25em;background-color: #f0f8ff;}#sk-container-id-3 input.sk-toggleable__control:checked~div.sk-toggleable__content {max-height: 200px;max-width: 100%;overflow: auto;}#sk-container-id-3 input.sk-toggleable__control:checked~label.sk-toggleable__label-arrow:before {content: \"▾\";}#sk-container-id-3 div.sk-estimator input.sk-toggleable__control:checked~label.sk-toggleable__label {background-color: #d4ebff;}#sk-container-id-3 div.sk-label input.sk-toggleable__control:checked~label.sk-toggleable__label {background-color: #d4ebff;}#sk-container-id-3 input.sk-hidden--visually {border: 0;clip: rect(1px 1px 1px 1px);clip: rect(1px, 1px, 1px, 1px);height: 1px;margin: -1px;overflow: hidden;padding: 0;position: absolute;width: 1px;}#sk-container-id-3 div.sk-estimator {font-family: monospace;background-color: #f0f8ff;border: 1px dotted black;border-radius: 0.25em;box-sizing: border-box;margin-bottom: 0.5em;}#sk-container-id-3 div.sk-estimator:hover {background-color: #d4ebff;}#sk-container-id-3 div.sk-parallel-item::after {content: \"\";width: 100%;border-bottom: 1px solid gray;flex-grow: 1;}#sk-container-id-3 div.sk-label:hover label.sk-toggleable__label {background-color: #d4ebff;}#sk-container-id-3 div.sk-serial::before {content: \"\";position: absolute;border-left: 1px solid gray;box-sizing: border-box;top: 0;bottom: 0;left: 50%;z-index: 0;}#sk-container-id-3 div.sk-serial {display: flex;flex-direction: column;align-items: center;background-color: white;padding-right: 0.2em;padding-left: 0.2em;position: relative;}#sk-container-id-3 div.sk-item {position: relative;z-index: 1;}#sk-container-id-3 div.sk-parallel {display: flex;align-items: stretch;justify-content: center;background-color: white;position: relative;}#sk-container-id-3 div.sk-item::before, #sk-container-id-3 div.sk-parallel-item::before {content: \"\";position: absolute;border-left: 1px solid gray;box-sizing: border-box;top: 0;bottom: 0;left: 50%;z-index: -1;}#sk-container-id-3 div.sk-parallel-item {display: flex;flex-direction: column;z-index: 1;position: relative;background-color: white;}#sk-container-id-3 div.sk-parallel-item:first-child::after {align-self: flex-end;width: 50%;}#sk-container-id-3 div.sk-parallel-item:last-child::after {align-self: flex-start;width: 50%;}#sk-container-id-3 div.sk-parallel-item:only-child::after {width: 0;}#sk-container-id-3 div.sk-dashed-wrapped {border: 1px dashed gray;margin: 0 0.4em 0.5em 0.4em;box-sizing: border-box;padding-bottom: 0.4em;background-color: white;}#sk-container-id-3 div.sk-label label {font-family: monospace;font-weight: bold;display: inline-block;line-height: 1.2em;}#sk-container-id-3 div.sk-label-container {text-align: center;}#sk-container-id-3 div.sk-container {/* jupyter's `normalize.less` sets `[hidden] { display: none; }` but bootstrap.min.css set `[hidden] { display: none !important; }` so we also need the `!important` here to be able to override the default hidden behavior on the sphinx rendered scikit-learn.org. See: https://github.com/scikit-learn/scikit-learn/issues/21755 */display: inline-block !important;position: relative;}#sk-container-id-3 div.sk-text-repr-fallback {display: none;}</style><div id=\"sk-container-id-3\" class=\"sk-top-container\"><div class=\"sk-text-repr-fallback\"><pre>RandomForestClassifier(n_estimators=1000, n_jobs=-1, random_state=42)</pre><b>In a Jupyter environment, please rerun this cell to show the HTML representation or trust the notebook. <br />On GitHub, the HTML representation is unable to render, please try loading this page with nbviewer.org.</b></div><div class=\"sk-container\" hidden><div class=\"sk-item\"><div class=\"sk-estimator sk-toggleable\"><input class=\"sk-toggleable__control sk-hidden--visually\" id=\"sk-estimator-id-3\" type=\"checkbox\" checked><label for=\"sk-estimator-id-3\" class=\"sk-toggleable__label sk-toggleable__label-arrow\">RandomForestClassifier</label><div class=\"sk-toggleable__content\"><pre>RandomForestClassifier(n_estimators=1000, n_jobs=-1, random_state=42)</pre></div></div></div></div></div>"
      ],
      "text/plain": [
       "RandomForestClassifier(n_estimators=1000, n_jobs=-1, random_state=42)"
      ]
     },
     "execution_count": 18,
     "metadata": {},
     "output_type": "execute_result"
    }
   ],
   "source": [
    "rf_model = RandomForestClassifier(n_estimators=1000,random_state=42,n_jobs=-1)\n",
    "rf_model.fit(X_train,y_train)"
   ]
  },
  {
   "cell_type": "code",
   "execution_count": 19,
   "metadata": {
    "ExecuteTime": {
     "end_time": "2022-09-14T00:54:00.976287Z",
     "start_time": "2022-09-14T00:52:49.162817Z"
    },
    "cell_id": "00026-f232cb90-923d-453b-9727-a2f224179aa3",
    "deepnote_cell_height": 148,
    "deepnote_cell_type": "code",
    "deepnote_to_be_reexecuted": false,
    "execution_millis": 18219,
    "execution_start": 1663075441732,
    "source_hash": "5bb0233b"
   },
   "outputs": [],
   "source": [
    "#model prediction proba - poder de generalizção\n",
    "yhat_rf_proba = rf_model.predict_proba( x_val )\n",
    "\n",
    "#model prediction - poder de generalizção\n",
    "yhat_rf_class = rf_model.predict( x_val )"
   ]
  },
  {
   "cell_type": "code",
   "execution_count": 20,
   "metadata": {
    "ExecuteTime": {
     "end_time": "2022-09-14T00:54:03.511273Z",
     "start_time": "2022-09-14T00:54:00.991910Z"
    },
    "cell_id": "00027-fd53a067-8226-4d8a-94f7-400b7890c90d",
    "deepnote_cell_height": 550,
    "deepnote_cell_type": "code",
    "deepnote_output_heights": [
     422
    ],
    "deepnote_to_be_reexecuted": false,
    "execution_millis": 1539,
    "execution_start": 1663075459955,
    "scrolled": true,
    "source_hash": "d0650421"
   },
   "outputs": [
    {
     "data": {
      "image/png": "[encoded data removed]",
      "text/plain": [
       "<Figure size 1800x864 with 2 Axes>"
      ]
     },
     "metadata": {},
     "output_type": "display_data"
    }
   ],
   "source": [
    "fig ,ax = plt.subplots(1,2)\n",
    "skplt.metrics.plot_cumulative_gain(y_val,yhat_rf_proba,ax=ax[0]);\n",
    "skplt.metrics.plot_lift_curve(y_val,yhat_rf_proba,ax=ax[1]);"
   ]
  },
  {
   "cell_type": "markdown",
   "metadata": {
    "cell_id": "00028-e34935f1-dd41-4aa6-8221-7a8391895f6c",
    "deepnote_cell_height": 70,
    "deepnote_cell_type": "markdown"
   },
   "source": [
    "## Extratree classifier"
   ]
  },
  {
   "cell_type": "code",
   "execution_count": 21,
   "metadata": {
    "ExecuteTime": {
     "end_time": "2022-09-14T00:55:08.828354Z",
     "start_time": "2022-09-14T00:54:03.511273Z"
    },
    "cell_id": "00029-e590be43-30d2-4729-9575-edf6e2e66bb7",
    "deepnote_cell_height": 169,
    "deepnote_cell_type": "code",
    "deepnote_output_heights": [
     59
    ],
    "deepnote_to_be_reexecuted": false,
    "execution_millis": 7976,
    "execution_start": 1663075460627,
    "source_hash": "808783ba"
   },
   "outputs": [
    {
     "data": {
      "text/html": [
       "<style>#sk-container-id-4 {color: black;background-color: white;}#sk-container-id-4 pre{padding: 0;}#sk-container-id-4 div.sk-toggleable {background-color: white;}#sk-container-id-4 label.sk-toggleable__label {cursor: pointer;display: block;width: 100%;margin-bottom: 0;padding: 0.3em;box-sizing: border-box;text-align: center;}#sk-container-id-4 label.sk-toggleable__label-arrow:before {content: \"▸\";float: left;margin-right: 0.25em;color: #696969;}#sk-container-id-4 label.sk-toggleable__label-arrow:hover:before {color: black;}#sk-container-id-4 div.sk-estimator:hover label.sk-toggleable__label-arrow:before {color: black;}#sk-container-id-4 div.sk-toggleable__content {max-height: 0;max-width: 0;overflow: hidden;text-align: left;background-color: #f0f8ff;}#sk-container-id-4 div.sk-toggleable__content pre {margin: 0.2em;color: black;border-radius: 0.25em;background-color: #f0f8ff;}#sk-container-id-4 input.sk-toggleable__control:checked~div.sk-toggleable__content {max-height: 200px;max-width: 100%;overflow: auto;}#sk-container-id-4 input.sk-toggleable__control:checked~label.sk-toggleable__label-arrow:before {content: \"▾\";}#sk-container-id-4 div.sk-estimator input.sk-toggleable__control:checked~label.sk-toggleable__label {background-color: #d4ebff;}#sk-container-id-4 div.sk-label input.sk-toggleable__control:checked~label.sk-toggleable__label {background-color: #d4ebff;}#sk-container-id-4 input.sk-hidden--visually {border: 0;clip: rect(1px 1px 1px 1px);clip: rect(1px, 1px, 1px, 1px);height: 1px;margin: -1px;overflow: hidden;padding: 0;position: absolute;width: 1px;}#sk-container-id-4 div.sk-estimator {font-family: monospace;background-color: #f0f8ff;border: 1px dotted black;border-radius: 0.25em;box-sizing: border-box;margin-bottom: 0.5em;}#sk-container-id-4 div.sk-estimator:hover {background-color: #d4ebff;}#sk-container-id-4 div.sk-parallel-item::after {content: \"\";width: 100%;border-bottom: 1px solid gray;flex-grow: 1;}#sk-container-id-4 div.sk-label:hover label.sk-toggleable__label {background-color: #d4ebff;}#sk-container-id-4 div.sk-serial::before {content: \"\";position: absolute;border-left: 1px solid gray;box-sizing: border-box;top: 0;bottom: 0;left: 50%;z-index: 0;}#sk-container-id-4 div.sk-serial {display: flex;flex-direction: column;align-items: center;background-color: white;padding-right: 0.2em;padding-left: 0.2em;position: relative;}#sk-container-id-4 div.sk-item {position: relative;z-index: 1;}#sk-container-id-4 div.sk-parallel {display: flex;align-items: stretch;justify-content: center;background-color: white;position: relative;}#sk-container-id-4 div.sk-item::before, #sk-container-id-4 div.sk-parallel-item::before {content: \"\";position: absolute;border-left: 1px solid gray;box-sizing: border-box;top: 0;bottom: 0;left: 50%;z-index: -1;}#sk-container-id-4 div.sk-parallel-item {display: flex;flex-direction: column;z-index: 1;position: relative;background-color: white;}#sk-container-id-4 div.sk-parallel-item:first-child::after {align-self: flex-end;width: 50%;}#sk-container-id-4 div.sk-parallel-item:last-child::after {align-self: flex-start;width: 50%;}#sk-container-id-4 div.sk-parallel-item:only-child::after {width: 0;}#sk-container-id-4 div.sk-dashed-wrapped {border: 1px dashed gray;margin: 0 0.4em 0.5em 0.4em;box-sizing: border-box;padding-bottom: 0.4em;background-color: white;}#sk-container-id-4 div.sk-label label {font-family: monospace;font-weight: bold;display: inline-block;line-height: 1.2em;}#sk-container-id-4 div.sk-label-container {text-align: center;}#sk-container-id-4 div.sk-container {/* jupyter's `normalize.less` sets `[hidden] { display: none; }` but bootstrap.min.css set `[hidden] { display: none !important; }` so we also need the `!important` here to be able to override the default hidden behavior on the sphinx rendered scikit-learn.org. See: https://github.com/scikit-learn/scikit-learn/issues/21755 */display: inline-block !important;position: relative;}#sk-container-id-4 div.sk-text-repr-fallback {display: none;}</style><div id=\"sk-container-id-4\" class=\"sk-top-container\"><div class=\"sk-text-repr-fallback\"><pre>ExtraTreesClassifier(max_depth=10, n_estimators=1000, n_jobs=-1,\n",
       "                     random_state=42)</pre><b>In a Jupyter environment, please rerun this cell to show the HTML representation or trust the notebook. <br />On GitHub, the HTML representation is unable to render, please try loading this page with nbviewer.org.</b></div><div class=\"sk-container\" hidden><div class=\"sk-item\"><div class=\"sk-estimator sk-toggleable\"><input class=\"sk-toggleable__control sk-hidden--visually\" id=\"sk-estimator-id-4\" type=\"checkbox\" checked><label for=\"sk-estimator-id-4\" class=\"sk-toggleable__label sk-toggleable__label-arrow\">ExtraTreesClassifier</label><div class=\"sk-toggleable__content\"><pre>ExtraTreesClassifier(max_depth=10, n_estimators=1000, n_jobs=-1,\n",
       "                     random_state=42)</pre></div></div></div></div></div>"
      ],
      "text/plain": [
       "ExtraTreesClassifier(max_depth=10, n_estimators=1000, n_jobs=-1,\n",
       "                     random_state=42)"
      ]
     },
     "execution_count": 21,
     "metadata": {},
     "output_type": "execute_result"
    }
   ],
   "source": [
    "et_model = ExtraTreesClassifier(n_estimators=1000,random_state=42,n_jobs=-1,max_depth=10)\n",
    "et_model.fit(X_train,y_train)"
   ]
  },
  {
   "cell_type": "code",
   "execution_count": 22,
   "metadata": {
    "ExecuteTime": {
     "end_time": "2022-09-14T00:55:20.170181Z",
     "start_time": "2022-09-14T00:55:08.830385Z"
    },
    "cell_id": "00030-7d26fbc0-c61f-4321-a96b-e8a0ce64c60c",
    "deepnote_cell_height": 148,
    "deepnote_cell_type": "code",
    "deepnote_to_be_reexecuted": false,
    "execution_millis": 2246,
    "execution_start": 1663075468610,
    "source_hash": "dcc23347"
   },
   "outputs": [],
   "source": [
    "#model prediction proba - poder de generalizção\n",
    "yhat_et_proba = et_model.predict_proba( x_val )\n",
    "\n",
    "#model prediction - poder de generalizção\n",
    "yhat_et_class = et_model.predict( x_val )"
   ]
  },
  {
   "cell_type": "code",
   "execution_count": 23,
   "metadata": {
    "ExecuteTime": {
     "end_time": "2022-09-14T00:55:21.326223Z",
     "start_time": "2022-09-14T00:55:20.172204Z"
    },
    "cell_id": "00031-5b456b84-3792-42d6-8c91-c99e792bf168",
    "deepnote_cell_height": 550,
    "deepnote_cell_type": "code",
    "deepnote_output_heights": [
     422
    ],
    "deepnote_to_be_reexecuted": false,
    "execution_millis": 664,
    "execution_start": 1663075470860,
    "scrolled": true,
    "source_hash": "d18b4278"
   },
   "outputs": [
    {
     "data": {
      "image/png": "[encoded data removed]",
      "text/plain": [
       "<Figure size 1800x864 with 2 Axes>"
      ]
     },
     "metadata": {},
     "output_type": "display_data"
    }
   ],
   "source": [
    "fig ,ax = plt.subplots(1,2)\n",
    "skplt.metrics.plot_cumulative_gain(y_val,yhat_et_proba,ax=ax[0]);\n",
    "skplt.metrics.plot_lift_curve(y_val,yhat_et_proba,ax=ax[1]);"
   ]
  },
  {
   "cell_type": "markdown",
   "metadata": {
    "cell_id": "00032-05e3d8ce-6628-4b64-8481-e513b51e0439",
    "deepnote_cell_height": 70,
    "deepnote_cell_type": "markdown"
   },
   "source": [
    "## XGBoost"
   ]
  },
  {
   "cell_type": "code",
   "execution_count": 24,
   "metadata": {
    "ExecuteTime": {
     "end_time": "2022-09-14T00:59:07.442747Z",
     "start_time": "2022-09-14T00:55:21.398850Z"
    },
    "cell_id": "00033-51b3229f-cf51-4b33-a8d2-4333b9435c2e",
    "deepnote_cell_height": 166,
    "deepnote_cell_type": "code",
    "deepnote_to_be_reexecuted": false,
    "execution_millis": 339660,
    "execution_start": 1663075471521,
    "source_hash": "57151775"
   },
   "outputs": [],
   "source": [
    "xgb_model = xgb.XGBClassifier(objective='reg:squarederror',\n",
    "                             n_estimators=1000,\n",
    "                             eta=0.01,\n",
    "                             max_depth=10,\n",
    "                             subsample=0.7,\n",
    "                             colsample_bytree=0.9).fit(X_train,y_train)"
   ]
  },
  {
   "cell_type": "code",
   "execution_count": 25,
   "metadata": {
    "ExecuteTime": {
     "end_time": "2022-09-14T00:59:13.991859Z",
     "start_time": "2022-09-14T00:59:07.442747Z"
    },
    "cell_id": "00034-2cda73e1-1a7f-487b-8561-c94ba23f24d7",
    "deepnote_cell_height": 148,
    "deepnote_cell_type": "code",
    "deepnote_to_be_reexecuted": false,
    "execution_millis": 17732,
    "execution_start": 1663075811185,
    "source_hash": "d5fa6e95"
   },
   "outputs": [],
   "source": [
    "#model prediction proba - poder de generalizção\n",
    "yhat_xgb_proba = xgb_model.predict_proba( x_val )\n",
    "\n",
    "#model prediction - poder de generalizção\n",
    "yhat_xgb_class = xgb_model.predict( x_val )"
   ]
  },
  {
   "cell_type": "code",
   "execution_count": 26,
   "metadata": {
    "ExecuteTime": {
     "end_time": "2022-09-14T00:59:14.705142Z",
     "start_time": "2022-09-14T00:59:13.993872Z"
    },
    "cell_id": "00035-4ecf6a99-50af-4a0c-bd4e-61325abf311c",
    "deepnote_cell_height": 550,
    "deepnote_cell_type": "code",
    "deepnote_output_heights": [
     422
    ],
    "deepnote_to_be_reexecuted": false,
    "execution_millis": 829,
    "execution_start": 1663075828920,
    "source_hash": "221f8686"
   },
   "outputs": [
    {
     "data": {
      "image/png": "[encoded data removed]",
      "text/plain": [
       "<Figure size 1800x864 with 2 Axes>"
      ]
     },
     "metadata": {},
     "output_type": "display_data"
    }
   ],
   "source": [
    "fig ,ax = plt.subplots(1,2)\n",
    "skplt.metrics.plot_cumulative_gain(y_val,yhat_xgb_proba,ax=ax[0]);\n",
    "skplt.metrics.plot_lift_curve(y_val,yhat_xgb_proba,ax=ax[1]);"
   ]
  },
  {
   "cell_type": "markdown",
   "metadata": {
    "cell_id": "00036-e6b2d869-4189-43cf-8f7e-6c63eee6eba7",
    "deepnote_cell_height": 82,
    "deepnote_cell_type": "markdown"
   },
   "source": [
    "# Model performace "
   ]
  },
  {
   "cell_type": "code",
   "execution_count": 27,
   "metadata": {
    "ExecuteTime": {
     "end_time": "2022-09-14T00:59:14.736386Z",
     "start_time": "2022-09-14T00:59:14.705142Z"
    },
    "cell_id": "00037-ec461c44-3aac-4dc3-9f36-550ab0bb9f98",
    "deepnote_cell_height": 76,
    "deepnote_cell_type": "code",
    "deepnote_to_be_reexecuted": false,
    "execution_millis": 19,
    "execution_start": 1663075829696,
    "source_hash": "5100a059"
   },
   "outputs": [],
   "source": [
    "clients = 20000"
   ]
  },
  {
   "cell_type": "markdown",
   "metadata": {
    "cell_id": "00038-0f6c4694-3c8c-4bdd-bf62-e373191bfd4e",
    "deepnote_cell_height": 70,
    "deepnote_cell_type": "markdown"
   },
   "source": [
    "## KNN"
   ]
  },
  {
   "cell_type": "code",
   "execution_count": 28,
   "metadata": {
    "ExecuteTime": {
     "end_time": "2022-09-14T00:59:14.821293Z",
     "start_time": "2022-09-14T00:59:14.736386Z"
    },
    "cell_id": "00039-5c151074-e16d-42d9-96a7-69a4ee7c2be3",
    "deepnote_cell_height": 76,
    "deepnote_cell_type": "code",
    "deepnote_to_be_reexecuted": false,
    "execution_millis": 0,
    "execution_start": 1663075829716,
    "source_hash": "62e7a121"
   },
   "outputs": [],
   "source": [
    "knn_df = val.copy()"
   ]
  },
  {
   "cell_type": "code",
   "execution_count": 29,
   "metadata": {
    "ExecuteTime": {
     "end_time": "2022-09-14T00:59:14.969045Z",
     "start_time": "2022-09-14T00:59:14.821293Z"
    },
    "cell_id": "00040-7e8456a4-922d-489f-81b0-ec1da174bbac",
    "deepnote_cell_height": 112,
    "deepnote_cell_type": "code",
    "deepnote_to_be_reexecuted": false,
    "execution_millis": 37,
    "execution_start": 1663075829721,
    "source_hash": "c91651cb"
   },
   "outputs": [],
   "source": [
    "knn_df['score_knn'] = yhat_knn_proba[:,1].tolist()\n",
    "# sorte by score\n",
    "knn_df = knn_df.sort_values('score_knn',ascending=False)"
   ]
  },
  {
   "cell_type": "code",
   "execution_count": 30,
   "metadata": {
    "ExecuteTime": {
     "end_time": "2022-09-14T00:59:15.053163Z",
     "start_time": "2022-09-14T00:59:14.969045Z"
    },
    "cell_id": "00041-e8751d43-0672-4296-9375-d4fd533622a1",
    "deepnote_cell_height": 407,
    "deepnote_cell_type": "code",
    "deepnote_to_be_reexecuted": false,
    "execution_millis": 65,
    "execution_start": 1663075829763,
    "source_hash": "241cdc53"
   },
   "outputs": [
    {
     "data": {
      "text/html": [
       "<div>\n",
       "<style scoped>\n",
       "    .dataframe tbody tr th:only-of-type {\n",
       "        vertical-align: middle;\n",
       "    }\n",
       "\n",
       "    .dataframe tbody tr th {\n",
       "        vertical-align: top;\n",
       "    }\n",
       "\n",
       "    .dataframe thead th {\n",
       "        text-align: right;\n",
       "    }\n",
       "</style>\n",
       "<table border=\"1\" class=\"dataframe\">\n",
       "  <thead>\n",
       "    <tr style=\"text-align: right;\">\n",
       "      <th></th>\n",
       "      <th>id</th>\n",
       "      <th>age</th>\n",
       "      <th>region_code</th>\n",
       "      <th>policy_sales_channel</th>\n",
       "      <th>previously_insured</th>\n",
       "      <th>vintage</th>\n",
       "      <th>vehicle_age</th>\n",
       "      <th>vehicle_damage</th>\n",
       "      <th>response</th>\n",
       "      <th>score_knn</th>\n",
       "    </tr>\n",
       "  </thead>\n",
       "  <tbody>\n",
       "    <tr>\n",
       "      <th>87582</th>\n",
       "      <td>87583</td>\n",
       "      <td>0.369231</td>\n",
       "      <td>28.0</td>\n",
       "      <td>26.0</td>\n",
       "      <td>0</td>\n",
       "      <td>0.968858</td>\n",
       "      <td>2</td>\n",
       "      <td>1</td>\n",
       "      <td>1</td>\n",
       "      <td>1.0</td>\n",
       "    </tr>\n",
       "    <tr>\n",
       "      <th>209375</th>\n",
       "      <td>209376</td>\n",
       "      <td>0.230769</td>\n",
       "      <td>47.0</td>\n",
       "      <td>124.0</td>\n",
       "      <td>0</td>\n",
       "      <td>0.685121</td>\n",
       "      <td>2</td>\n",
       "      <td>1</td>\n",
       "      <td>0</td>\n",
       "      <td>1.0</td>\n",
       "    </tr>\n",
       "    <tr>\n",
       "      <th>23137</th>\n",
       "      <td>23138</td>\n",
       "      <td>0.030769</td>\n",
       "      <td>10.0</td>\n",
       "      <td>26.0</td>\n",
       "      <td>0</td>\n",
       "      <td>0.844291</td>\n",
       "      <td>2</td>\n",
       "      <td>1</td>\n",
       "      <td>0</td>\n",
       "      <td>1.0</td>\n",
       "    </tr>\n",
       "    <tr>\n",
       "      <th>334075</th>\n",
       "      <td>334076</td>\n",
       "      <td>0.400000</td>\n",
       "      <td>43.0</td>\n",
       "      <td>155.0</td>\n",
       "      <td>0</td>\n",
       "      <td>0.048443</td>\n",
       "      <td>2</td>\n",
       "      <td>1</td>\n",
       "      <td>1</td>\n",
       "      <td>1.0</td>\n",
       "    </tr>\n",
       "    <tr>\n",
       "      <th>66585</th>\n",
       "      <td>66586</td>\n",
       "      <td>0.338462</td>\n",
       "      <td>12.0</td>\n",
       "      <td>26.0</td>\n",
       "      <td>0</td>\n",
       "      <td>0.038062</td>\n",
       "      <td>2</td>\n",
       "      <td>1</td>\n",
       "      <td>1</td>\n",
       "      <td>1.0</td>\n",
       "    </tr>\n",
       "  </tbody>\n",
       "</table>\n",
       "</div>"
      ],
      "text/plain": [
       "            id       age  region_code  policy_sales_channel  \\\n",
       "87582    87583  0.369231         28.0                  26.0   \n",
       "209375  209376  0.230769         47.0                 124.0   \n",
       "23137    23138  0.030769         10.0                  26.0   \n",
       "334075  334076  0.400000         43.0                 155.0   \n",
       "66585    66586  0.338462         12.0                  26.0   \n",
       "\n",
       "        previously_insured   vintage  vehicle_age  vehicle_damage  response  \\\n",
       "87582                    0  0.968858            2               1         1   \n",
       "209375                   0  0.685121            2               1         0   \n",
       "23137                    0  0.844291            2               1         0   \n",
       "334075                   0  0.048443            2               1         1   \n",
       "66585                    0  0.038062            2               1         1   \n",
       "\n",
       "        score_knn  \n",
       "87582         1.0  \n",
       "209375        1.0  \n",
       "23137         1.0  \n",
       "334075        1.0  \n",
       "66585         1.0  "
      ]
     },
     "execution_count": 30,
     "metadata": {},
     "output_type": "execute_result"
    }
   ],
   "source": [
    "knn_df.head()"
   ]
  },
  {
   "cell_type": "code",
   "execution_count": 31,
   "metadata": {
    "ExecuteTime": {
     "end_time": "2022-09-14T00:59:15.439180Z",
     "start_time": "2022-09-14T00:59:15.053163Z"
    },
    "cell_id": "00042-a4d1060d-fe1e-40e6-8483-840387e9ff97",
    "deepnote_cell_height": 76,
    "deepnote_cell_type": "code",
    "deepnote_to_be_reexecuted": false,
    "execution_millis": 92,
    "execution_start": 1663075829826,
    "source_hash": "cc0a5808"
   },
   "outputs": [],
   "source": [
    "knn_performace = performace(\"KNN\",knn_df,y_val,yhat_knn_class,clients)"
   ]
  },
  {
   "cell_type": "code",
   "execution_count": 32,
   "metadata": {
    "ExecuteTime": {
     "end_time": "2022-09-14T00:59:15.469825Z",
     "start_time": "2022-09-14T00:59:15.439180Z"
    },
    "cell_id": "00043-522682fb-0425-405c-9e4f-a84fe3f921d2",
    "deepnote_cell_height": 226,
    "deepnote_cell_type": "code",
    "deepnote_to_be_reexecuted": false,
    "execution_millis": 46,
    "execution_start": 1663075829921,
    "source_hash": "2a4b12ec"
   },
   "outputs": [
    {
     "data": {
      "text/html": [
       "<div>\n",
       "<style scoped>\n",
       "    .dataframe tbody tr th:only-of-type {\n",
       "        vertical-align: middle;\n",
       "    }\n",
       "\n",
       "    .dataframe tbody tr th {\n",
       "        vertical-align: top;\n",
       "    }\n",
       "\n",
       "    .dataframe thead th {\n",
       "        text-align: right;\n",
       "    }\n",
       "</style>\n",
       "<table border=\"1\" class=\"dataframe\">\n",
       "  <thead>\n",
       "    <tr style=\"text-align: right;\">\n",
       "      <th></th>\n",
       "      <th>Model Name</th>\n",
       "      <th>Precison</th>\n",
       "      <th>Recall</th>\n",
       "      <th>k</th>\n",
       "      <th>Precison at k</th>\n",
       "      <th>Recall at k</th>\n",
       "    </tr>\n",
       "  </thead>\n",
       "  <tbody>\n",
       "    <tr>\n",
       "      <th>0</th>\n",
       "      <td>KNN</td>\n",
       "      <td>0.338387</td>\n",
       "      <td>0.178406</td>\n",
       "      <td>20000</td>\n",
       "      <td>0.309985</td>\n",
       "      <td>0.442446</td>\n",
       "    </tr>\n",
       "  </tbody>\n",
       "</table>\n",
       "</div>"
      ],
      "text/plain": [
       "  Model Name  Precison    Recall      k  Precison at k  Recall at k\n",
       "0        KNN  0.338387  0.178406  20000       0.309985     0.442446"
      ]
     },
     "execution_count": 32,
     "metadata": {},
     "output_type": "execute_result"
    }
   ],
   "source": [
    "knn_performace"
   ]
  },
  {
   "cell_type": "markdown",
   "metadata": {
    "cell_id": "00044-2f3d17c0-0789-41ee-8b61-32961a365368",
    "deepnote_cell_height": 70,
    "deepnote_cell_type": "markdown"
   },
   "source": [
    "## Linear model"
   ]
  },
  {
   "cell_type": "code",
   "execution_count": 33,
   "metadata": {
    "ExecuteTime": {
     "end_time": "2022-09-14T00:59:15.491968Z",
     "start_time": "2022-09-14T00:59:15.469825Z"
    },
    "cell_id": "00045-39b57d7f-fcf5-40c4-9d68-d0ccd1331b48",
    "deepnote_cell_height": 76,
    "deepnote_cell_type": "code",
    "deepnote_to_be_reexecuted": false,
    "execution_millis": 3,
    "execution_start": 1663075829945,
    "source_hash": "ed4ec854"
   },
   "outputs": [],
   "source": [
    "lm_df = val.copy()"
   ]
  },
  {
   "cell_type": "code",
   "execution_count": 34,
   "metadata": {
    "ExecuteTime": {
     "end_time": "2022-09-14T00:59:15.570112Z",
     "start_time": "2022-09-14T00:59:15.491968Z"
    },
    "cell_id": "00046-c0b26255-6cd8-4bca-adda-37d36242005c",
    "deepnote_cell_height": 112,
    "deepnote_cell_type": "code",
    "deepnote_to_be_reexecuted": false,
    "execution_millis": 234,
    "execution_start": 1663075829950,
    "source_hash": "15c9d82a"
   },
   "outputs": [],
   "source": [
    "lm_df['score_lm'] = yhat_lm_proba[:,1].tolist()\n",
    "# sorte by score\n",
    "lm_df = lm_df.sort_values('score_lm',ascending=False)"
   ]
  },
  {
   "cell_type": "code",
   "execution_count": 35,
   "metadata": {
    "ExecuteTime": {
     "end_time": "2022-09-14T00:59:15.592284Z",
     "start_time": "2022-09-14T00:59:15.570112Z"
    },
    "cell_id": "00047-12820bf5-37f7-4ff5-916c-96ff096c1932",
    "deepnote_cell_height": 407,
    "deepnote_cell_type": "code",
    "deepnote_to_be_reexecuted": false,
    "execution_millis": 38,
    "execution_start": 1663075830184,
    "source_hash": "b43de6bd"
   },
   "outputs": [
    {
     "data": {
      "text/html": [
       "<div>\n",
       "<style scoped>\n",
       "    .dataframe tbody tr th:only-of-type {\n",
       "        vertical-align: middle;\n",
       "    }\n",
       "\n",
       "    .dataframe tbody tr th {\n",
       "        vertical-align: top;\n",
       "    }\n",
       "\n",
       "    .dataframe thead th {\n",
       "        text-align: right;\n",
       "    }\n",
       "</style>\n",
       "<table border=\"1\" class=\"dataframe\">\n",
       "  <thead>\n",
       "    <tr style=\"text-align: right;\">\n",
       "      <th></th>\n",
       "      <th>id</th>\n",
       "      <th>age</th>\n",
       "      <th>region_code</th>\n",
       "      <th>policy_sales_channel</th>\n",
       "      <th>previously_insured</th>\n",
       "      <th>vintage</th>\n",
       "      <th>vehicle_age</th>\n",
       "      <th>vehicle_damage</th>\n",
       "      <th>response</th>\n",
       "      <th>score_lm</th>\n",
       "    </tr>\n",
       "  </thead>\n",
       "  <tbody>\n",
       "    <tr>\n",
       "      <th>205844</th>\n",
       "      <td>205845</td>\n",
       "      <td>0.169231</td>\n",
       "      <td>1.0</td>\n",
       "      <td>26.0</td>\n",
       "      <td>0</td>\n",
       "      <td>0.380623</td>\n",
       "      <td>3</td>\n",
       "      <td>1</td>\n",
       "      <td>0</td>\n",
       "      <td>0.538778</td>\n",
       "    </tr>\n",
       "    <tr>\n",
       "      <th>375383</th>\n",
       "      <td>375384</td>\n",
       "      <td>0.153846</td>\n",
       "      <td>9.0</td>\n",
       "      <td>31.0</td>\n",
       "      <td>0</td>\n",
       "      <td>0.782007</td>\n",
       "      <td>3</td>\n",
       "      <td>1</td>\n",
       "      <td>0</td>\n",
       "      <td>0.537737</td>\n",
       "    </tr>\n",
       "    <tr>\n",
       "      <th>334418</th>\n",
       "      <td>334419</td>\n",
       "      <td>0.184615</td>\n",
       "      <td>28.0</td>\n",
       "      <td>26.0</td>\n",
       "      <td>0</td>\n",
       "      <td>0.141869</td>\n",
       "      <td>3</td>\n",
       "      <td>1</td>\n",
       "      <td>0</td>\n",
       "      <td>0.531767</td>\n",
       "    </tr>\n",
       "    <tr>\n",
       "      <th>330638</th>\n",
       "      <td>330639</td>\n",
       "      <td>0.184615</td>\n",
       "      <td>28.0</td>\n",
       "      <td>26.0</td>\n",
       "      <td>0</td>\n",
       "      <td>0.432526</td>\n",
       "      <td>3</td>\n",
       "      <td>1</td>\n",
       "      <td>1</td>\n",
       "      <td>0.530637</td>\n",
       "    </tr>\n",
       "    <tr>\n",
       "      <th>91143</th>\n",
       "      <td>91144</td>\n",
       "      <td>0.184615</td>\n",
       "      <td>28.0</td>\n",
       "      <td>26.0</td>\n",
       "      <td>0</td>\n",
       "      <td>0.979239</td>\n",
       "      <td>3</td>\n",
       "      <td>1</td>\n",
       "      <td>0</td>\n",
       "      <td>0.528510</td>\n",
       "    </tr>\n",
       "  </tbody>\n",
       "</table>\n",
       "</div>"
      ],
      "text/plain": [
       "            id       age  region_code  policy_sales_channel  \\\n",
       "205844  205845  0.169231          1.0                  26.0   \n",
       "375383  375384  0.153846          9.0                  31.0   \n",
       "334418  334419  0.184615         28.0                  26.0   \n",
       "330638  330639  0.184615         28.0                  26.0   \n",
       "91143    91144  0.184615         28.0                  26.0   \n",
       "\n",
       "        previously_insured   vintage  vehicle_age  vehicle_damage  response  \\\n",
       "205844                   0  0.380623            3               1         0   \n",
       "375383                   0  0.782007            3               1         0   \n",
       "334418                   0  0.141869            3               1         0   \n",
       "330638                   0  0.432526            3               1         1   \n",
       "91143                    0  0.979239            3               1         0   \n",
       "\n",
       "        score_lm  \n",
       "205844  0.538778  \n",
       "375383  0.537737  \n",
       "334418  0.531767  \n",
       "330638  0.530637  \n",
       "91143   0.528510  "
      ]
     },
     "execution_count": 35,
     "metadata": {},
     "output_type": "execute_result"
    }
   ],
   "source": [
    "lm_df.head()"
   ]
  },
  {
   "cell_type": "code",
   "execution_count": 36,
   "metadata": {
    "ExecuteTime": {
     "end_time": "2022-09-14T00:59:15.708803Z",
     "start_time": "2022-09-14T00:59:15.592284Z"
    },
    "cell_id": "00048-3d7d9cfb-03f2-495f-832d-e177a6440a73",
    "deepnote_cell_height": 76,
    "deepnote_cell_type": "code",
    "deepnote_to_be_reexecuted": false,
    "execution_millis": 0,
    "execution_start": 1663075830185,
    "source_hash": "ff62ee21"
   },
   "outputs": [],
   "source": [
    "lm_performace = performace(\"linear model\",lm_df,y_val,yhat_lm_class,clients)"
   ]
  },
  {
   "cell_type": "code",
   "execution_count": 37,
   "metadata": {
    "ExecuteTime": {
     "end_time": "2022-09-14T00:59:15.770696Z",
     "start_time": "2022-09-14T00:59:15.708803Z"
    },
    "cell_id": "00049-08cc8e3d-0ea6-406e-985f-9e0b1ad313bd",
    "deepnote_cell_height": 226,
    "deepnote_cell_type": "code",
    "deepnote_to_be_reexecuted": false,
    "execution_millis": 39,
    "execution_start": 1663075830185,
    "scrolled": true,
    "source_hash": "6f0100eb"
   },
   "outputs": [
    {
     "data": {
      "text/html": [
       "<div>\n",
       "<style scoped>\n",
       "    .dataframe tbody tr th:only-of-type {\n",
       "        vertical-align: middle;\n",
       "    }\n",
       "\n",
       "    .dataframe tbody tr th {\n",
       "        vertical-align: top;\n",
       "    }\n",
       "\n",
       "    .dataframe thead th {\n",
       "        text-align: right;\n",
       "    }\n",
       "</style>\n",
       "<table border=\"1\" class=\"dataframe\">\n",
       "  <thead>\n",
       "    <tr style=\"text-align: right;\">\n",
       "      <th></th>\n",
       "      <th>Model Name</th>\n",
       "      <th>Precison</th>\n",
       "      <th>Recall</th>\n",
       "      <th>k</th>\n",
       "      <th>Precison at k</th>\n",
       "      <th>Recall at k</th>\n",
       "    </tr>\n",
       "  </thead>\n",
       "  <tbody>\n",
       "    <tr>\n",
       "      <th>0</th>\n",
       "      <td>linear model</td>\n",
       "      <td>0.444444</td>\n",
       "      <td>0.001998</td>\n",
       "      <td>20000</td>\n",
       "      <td>0.331283</td>\n",
       "      <td>0.472847</td>\n",
       "    </tr>\n",
       "  </tbody>\n",
       "</table>\n",
       "</div>"
      ],
      "text/plain": [
       "     Model Name  Precison    Recall      k  Precison at k  Recall at k\n",
       "0  linear model  0.444444  0.001998  20000       0.331283     0.472847"
      ]
     },
     "execution_count": 37,
     "metadata": {},
     "output_type": "execute_result"
    }
   ],
   "source": [
    "lm_performace"
   ]
  },
  {
   "cell_type": "markdown",
   "metadata": {
    "cell_id": "00050-e6b0f135-4fa7-4b06-a9fa-c2951bd5e88a",
    "deepnote_cell_height": 70,
    "deepnote_cell_type": "markdown"
   },
   "source": [
    "## Randon forrest"
   ]
  },
  {
   "cell_type": "code",
   "execution_count": 38,
   "metadata": {
    "ExecuteTime": {
     "end_time": "2022-09-14T00:59:15.793431Z",
     "start_time": "2022-09-14T00:59:15.770696Z"
    },
    "cell_id": "00051-69a2972c-6073-4c73-9495-c75f08b585c8",
    "deepnote_cell_height": 76,
    "deepnote_cell_type": "code",
    "deepnote_to_be_reexecuted": false,
    "execution_millis": 0,
    "execution_start": 1663075830194,
    "source_hash": "a252b339"
   },
   "outputs": [],
   "source": [
    "rf_df = val.copy()"
   ]
  },
  {
   "cell_type": "code",
   "execution_count": 39,
   "metadata": {
    "ExecuteTime": {
     "end_time": "2022-09-14T00:59:15.893104Z",
     "start_time": "2022-09-14T00:59:15.793431Z"
    },
    "cell_id": "00052-9a1a2149-e455-4660-94b7-ada3a784b077",
    "deepnote_cell_height": 112,
    "deepnote_cell_type": "code",
    "deepnote_to_be_reexecuted": false,
    "execution_millis": 84,
    "execution_start": 1663075830194,
    "source_hash": "e6544e31"
   },
   "outputs": [],
   "source": [
    "rf_df['score_rf'] = yhat_rf_proba[:,1].tolist()\n",
    "# sorte by score\n",
    "rf_df = rf_df.sort_values('score_rf',ascending=False)"
   ]
  },
  {
   "cell_type": "code",
   "execution_count": 40,
   "metadata": {
    "ExecuteTime": {
     "end_time": "2022-09-14T00:59:15.924365Z",
     "start_time": "2022-09-14T00:59:15.893104Z"
    },
    "cell_id": "00053-ae3f04e1-419b-417a-ad20-8d95a50b4d38",
    "deepnote_cell_height": 407,
    "deepnote_cell_type": "code",
    "deepnote_to_be_reexecuted": false,
    "execution_millis": 16,
    "execution_start": 1663075830278,
    "scrolled": true,
    "source_hash": "46481eba"
   },
   "outputs": [
    {
     "data": {
      "text/html": [
       "<div>\n",
       "<style scoped>\n",
       "    .dataframe tbody tr th:only-of-type {\n",
       "        vertical-align: middle;\n",
       "    }\n",
       "\n",
       "    .dataframe tbody tr th {\n",
       "        vertical-align: top;\n",
       "    }\n",
       "\n",
       "    .dataframe thead th {\n",
       "        text-align: right;\n",
       "    }\n",
       "</style>\n",
       "<table border=\"1\" class=\"dataframe\">\n",
       "  <thead>\n",
       "    <tr style=\"text-align: right;\">\n",
       "      <th></th>\n",
       "      <th>id</th>\n",
       "      <th>age</th>\n",
       "      <th>region_code</th>\n",
       "      <th>policy_sales_channel</th>\n",
       "      <th>previously_insured</th>\n",
       "      <th>vintage</th>\n",
       "      <th>vehicle_age</th>\n",
       "      <th>vehicle_damage</th>\n",
       "      <th>response</th>\n",
       "      <th>score_rf</th>\n",
       "    </tr>\n",
       "  </thead>\n",
       "  <tbody>\n",
       "    <tr>\n",
       "      <th>106975</th>\n",
       "      <td>106976</td>\n",
       "      <td>0.153846</td>\n",
       "      <td>28.0</td>\n",
       "      <td>26.0</td>\n",
       "      <td>0</td>\n",
       "      <td>0.162630</td>\n",
       "      <td>1</td>\n",
       "      <td>1</td>\n",
       "      <td>0</td>\n",
       "      <td>0.997000</td>\n",
       "    </tr>\n",
       "    <tr>\n",
       "      <th>70894</th>\n",
       "      <td>70895</td>\n",
       "      <td>0.415385</td>\n",
       "      <td>28.0</td>\n",
       "      <td>26.0</td>\n",
       "      <td>0</td>\n",
       "      <td>0.550173</td>\n",
       "      <td>2</td>\n",
       "      <td>1</td>\n",
       "      <td>1</td>\n",
       "      <td>0.994091</td>\n",
       "    </tr>\n",
       "    <tr>\n",
       "      <th>223683</th>\n",
       "      <td>223684</td>\n",
       "      <td>0.369231</td>\n",
       "      <td>28.0</td>\n",
       "      <td>26.0</td>\n",
       "      <td>0</td>\n",
       "      <td>0.851211</td>\n",
       "      <td>2</td>\n",
       "      <td>1</td>\n",
       "      <td>0</td>\n",
       "      <td>0.994042</td>\n",
       "    </tr>\n",
       "    <tr>\n",
       "      <th>287179</th>\n",
       "      <td>287180</td>\n",
       "      <td>0.384615</td>\n",
       "      <td>28.0</td>\n",
       "      <td>26.0</td>\n",
       "      <td>0</td>\n",
       "      <td>0.653979</td>\n",
       "      <td>2</td>\n",
       "      <td>1</td>\n",
       "      <td>0</td>\n",
       "      <td>0.991699</td>\n",
       "    </tr>\n",
       "    <tr>\n",
       "      <th>72981</th>\n",
       "      <td>72982</td>\n",
       "      <td>0.384615</td>\n",
       "      <td>28.0</td>\n",
       "      <td>26.0</td>\n",
       "      <td>0</td>\n",
       "      <td>0.653979</td>\n",
       "      <td>2</td>\n",
       "      <td>1</td>\n",
       "      <td>0</td>\n",
       "      <td>0.991699</td>\n",
       "    </tr>\n",
       "  </tbody>\n",
       "</table>\n",
       "</div>"
      ],
      "text/plain": [
       "            id       age  region_code  policy_sales_channel  \\\n",
       "106975  106976  0.153846         28.0                  26.0   \n",
       "70894    70895  0.415385         28.0                  26.0   \n",
       "223683  223684  0.369231         28.0                  26.0   \n",
       "287179  287180  0.384615         28.0                  26.0   \n",
       "72981    72982  0.384615         28.0                  26.0   \n",
       "\n",
       "        previously_insured   vintage  vehicle_age  vehicle_damage  response  \\\n",
       "106975                   0  0.162630            1               1         0   \n",
       "70894                    0  0.550173            2               1         1   \n",
       "223683                   0  0.851211            2               1         0   \n",
       "287179                   0  0.653979            2               1         0   \n",
       "72981                    0  0.653979            2               1         0   \n",
       "\n",
       "        score_rf  \n",
       "106975  0.997000  \n",
       "70894   0.994091  \n",
       "223683  0.994042  \n",
       "287179  0.991699  \n",
       "72981   0.991699  "
      ]
     },
     "execution_count": 40,
     "metadata": {},
     "output_type": "execute_result"
    }
   ],
   "source": [
    "rf_df.head()"
   ]
  },
  {
   "cell_type": "code",
   "execution_count": 41,
   "metadata": {
    "ExecuteTime": {
     "end_time": "2022-09-14T00:59:16.093572Z",
     "start_time": "2022-09-14T00:59:15.924365Z"
    },
    "cell_id": "00054-34328c7b-ef48-4413-a617-e954eb8af022",
    "deepnote_cell_height": 76,
    "deepnote_cell_type": "code",
    "deepnote_to_be_reexecuted": false,
    "execution_millis": 92,
    "execution_start": 1663075830287,
    "source_hash": "ea237d99"
   },
   "outputs": [],
   "source": [
    "rf_performace = performace(\"Random forest\",rf_df,y_val,yhat_rf_class,clients)"
   ]
  },
  {
   "cell_type": "code",
   "execution_count": 42,
   "metadata": {
    "ExecuteTime": {
     "end_time": "2022-09-14T00:59:16.109193Z",
     "start_time": "2022-09-14T00:59:16.093572Z"
    },
    "cell_id": "00055-9db3f910-6e56-4d5c-b448-f000a9b00e36",
    "deepnote_cell_height": 226,
    "deepnote_cell_type": "code",
    "deepnote_to_be_reexecuted": false,
    "execution_millis": 4,
    "execution_start": 1663075830418,
    "source_hash": "ed170d2f"
   },
   "outputs": [
    {
     "data": {
      "text/html": [
       "<div>\n",
       "<style scoped>\n",
       "    .dataframe tbody tr th:only-of-type {\n",
       "        vertical-align: middle;\n",
       "    }\n",
       "\n",
       "    .dataframe tbody tr th {\n",
       "        vertical-align: top;\n",
       "    }\n",
       "\n",
       "    .dataframe thead th {\n",
       "        text-align: right;\n",
       "    }\n",
       "</style>\n",
       "<table border=\"1\" class=\"dataframe\">\n",
       "  <thead>\n",
       "    <tr style=\"text-align: right;\">\n",
       "      <th></th>\n",
       "      <th>Model Name</th>\n",
       "      <th>Precison</th>\n",
       "      <th>Recall</th>\n",
       "      <th>k</th>\n",
       "      <th>Precison at k</th>\n",
       "      <th>Recall at k</th>\n",
       "    </tr>\n",
       "  </thead>\n",
       "  <tbody>\n",
       "    <tr>\n",
       "      <th>0</th>\n",
       "      <td>Random forest</td>\n",
       "      <td>0.328247</td>\n",
       "      <td>0.207236</td>\n",
       "      <td>20000</td>\n",
       "      <td>0.311284</td>\n",
       "      <td>0.444302</td>\n",
       "    </tr>\n",
       "  </tbody>\n",
       "</table>\n",
       "</div>"
      ],
      "text/plain": [
       "      Model Name  Precison    Recall      k  Precison at k  Recall at k\n",
       "0  Random forest  0.328247  0.207236  20000       0.311284     0.444302"
      ]
     },
     "execution_count": 42,
     "metadata": {},
     "output_type": "execute_result"
    }
   ],
   "source": [
    "rf_performace"
   ]
  },
  {
   "cell_type": "markdown",
   "metadata": {
    "cell_id": "00056-d6b22faf-9ace-4332-82b7-25c9eef166ed",
    "deepnote_cell_height": 70,
    "deepnote_cell_type": "markdown"
   },
   "source": [
    "## Extra trees"
   ]
  },
  {
   "cell_type": "code",
   "execution_count": 43,
   "metadata": {
    "ExecuteTime": {
     "end_time": "2022-09-14T00:59:16.171677Z",
     "start_time": "2022-09-14T00:59:16.109193Z"
    },
    "cell_id": "00057-ab10e8ec-87df-4a0b-8d17-092ff9bd7d9c",
    "deepnote_cell_height": 76,
    "deepnote_cell_type": "code",
    "deepnote_to_be_reexecuted": false,
    "execution_millis": 4,
    "execution_start": 1663075830419,
    "source_hash": "1b318dfe"
   },
   "outputs": [],
   "source": [
    "et_df = val.copy()"
   ]
  },
  {
   "cell_type": "code",
   "execution_count": 44,
   "metadata": {
    "ExecuteTime": {
     "end_time": "2022-09-14T00:59:16.256302Z",
     "start_time": "2022-09-14T00:59:16.171677Z"
    },
    "cell_id": "00058-f309bae6-132f-492f-aee5-2eeb9d63e3e3",
    "deepnote_cell_height": 112,
    "deepnote_cell_type": "code",
    "deepnote_to_be_reexecuted": false,
    "execution_millis": 33,
    "execution_start": 1663075830427,
    "source_hash": "c65c3bec"
   },
   "outputs": [],
   "source": [
    "et_df['score_et'] = yhat_et_proba[:,1].tolist()\n",
    "# sorte by score\n",
    "et_df = et_df.sort_values('score_et',ascending=False)"
   ]
  },
  {
   "cell_type": "code",
   "execution_count": 45,
   "metadata": {
    "ExecuteTime": {
     "end_time": "2022-09-14T00:59:16.294060Z",
     "start_time": "2022-09-14T00:59:16.256302Z"
    },
    "cell_id": "00059-f1641854-fefd-47a9-9944-1b45bab93295",
    "deepnote_cell_height": 407,
    "deepnote_cell_type": "code",
    "deepnote_to_be_reexecuted": false,
    "execution_millis": 56,
    "execution_start": 1663075830465,
    "source_hash": "9c48153f"
   },
   "outputs": [
    {
     "data": {
      "text/html": [
       "<div>\n",
       "<style scoped>\n",
       "    .dataframe tbody tr th:only-of-type {\n",
       "        vertical-align: middle;\n",
       "    }\n",
       "\n",
       "    .dataframe tbody tr th {\n",
       "        vertical-align: top;\n",
       "    }\n",
       "\n",
       "    .dataframe thead th {\n",
       "        text-align: right;\n",
       "    }\n",
       "</style>\n",
       "<table border=\"1\" class=\"dataframe\">\n",
       "  <thead>\n",
       "    <tr style=\"text-align: right;\">\n",
       "      <th></th>\n",
       "      <th>id</th>\n",
       "      <th>age</th>\n",
       "      <th>region_code</th>\n",
       "      <th>policy_sales_channel</th>\n",
       "      <th>previously_insured</th>\n",
       "      <th>vintage</th>\n",
       "      <th>vehicle_age</th>\n",
       "      <th>vehicle_damage</th>\n",
       "      <th>response</th>\n",
       "      <th>score_et</th>\n",
       "    </tr>\n",
       "  </thead>\n",
       "  <tbody>\n",
       "    <tr>\n",
       "      <th>198227</th>\n",
       "      <td>198228</td>\n",
       "      <td>0.769231</td>\n",
       "      <td>28.0</td>\n",
       "      <td>26.0</td>\n",
       "      <td>0</td>\n",
       "      <td>0.387543</td>\n",
       "      <td>1</td>\n",
       "      <td>1</td>\n",
       "      <td>0</td>\n",
       "      <td>0.528581</td>\n",
       "    </tr>\n",
       "    <tr>\n",
       "      <th>333801</th>\n",
       "      <td>333802</td>\n",
       "      <td>0.769231</td>\n",
       "      <td>28.0</td>\n",
       "      <td>26.0</td>\n",
       "      <td>0</td>\n",
       "      <td>0.598616</td>\n",
       "      <td>1</td>\n",
       "      <td>1</td>\n",
       "      <td>1</td>\n",
       "      <td>0.525305</td>\n",
       "    </tr>\n",
       "    <tr>\n",
       "      <th>282873</th>\n",
       "      <td>282874</td>\n",
       "      <td>0.538462</td>\n",
       "      <td>41.0</td>\n",
       "      <td>26.0</td>\n",
       "      <td>0</td>\n",
       "      <td>0.702422</td>\n",
       "      <td>1</td>\n",
       "      <td>1</td>\n",
       "      <td>0</td>\n",
       "      <td>0.492989</td>\n",
       "    </tr>\n",
       "    <tr>\n",
       "      <th>292587</th>\n",
       "      <td>292588</td>\n",
       "      <td>0.507692</td>\n",
       "      <td>28.0</td>\n",
       "      <td>26.0</td>\n",
       "      <td>0</td>\n",
       "      <td>0.719723</td>\n",
       "      <td>1</td>\n",
       "      <td>1</td>\n",
       "      <td>1</td>\n",
       "      <td>0.484059</td>\n",
       "    </tr>\n",
       "    <tr>\n",
       "      <th>15523</th>\n",
       "      <td>15524</td>\n",
       "      <td>0.553846</td>\n",
       "      <td>33.0</td>\n",
       "      <td>26.0</td>\n",
       "      <td>0</td>\n",
       "      <td>0.446367</td>\n",
       "      <td>1</td>\n",
       "      <td>1</td>\n",
       "      <td>1</td>\n",
       "      <td>0.482387</td>\n",
       "    </tr>\n",
       "  </tbody>\n",
       "</table>\n",
       "</div>"
      ],
      "text/plain": [
       "            id       age  region_code  policy_sales_channel  \\\n",
       "198227  198228  0.769231         28.0                  26.0   \n",
       "333801  333802  0.769231         28.0                  26.0   \n",
       "282873  282874  0.538462         41.0                  26.0   \n",
       "292587  292588  0.507692         28.0                  26.0   \n",
       "15523    15524  0.553846         33.0                  26.0   \n",
       "\n",
       "        previously_insured   vintage  vehicle_age  vehicle_damage  response  \\\n",
       "198227                   0  0.387543            1               1         0   \n",
       "333801                   0  0.598616            1               1         1   \n",
       "282873                   0  0.702422            1               1         0   \n",
       "292587                   0  0.719723            1               1         1   \n",
       "15523                    0  0.446367            1               1         1   \n",
       "\n",
       "        score_et  \n",
       "198227  0.528581  \n",
       "333801  0.525305  \n",
       "282873  0.492989  \n",
       "292587  0.484059  \n",
       "15523   0.482387  "
      ]
     },
     "execution_count": 45,
     "metadata": {},
     "output_type": "execute_result"
    }
   ],
   "source": [
    "et_df.head()"
   ]
  },
  {
   "cell_type": "code",
   "execution_count": 46,
   "metadata": {
    "ExecuteTime": {
     "end_time": "2022-09-14T00:59:16.456789Z",
     "start_time": "2022-09-14T00:59:16.294060Z"
    },
    "cell_id": "00060-7253624e-e847-4c39-9e7c-098ca220fb82",
    "deepnote_cell_height": 144.39999389648438,
    "deepnote_cell_type": "code",
    "deepnote_to_be_reexecuted": false,
    "execution_millis": 89,
    "execution_start": 1663075830523,
    "source_hash": "72701628"
   },
   "outputs": [],
   "source": [
    "et_performace = performace(\"Extra trees\",et_df,y_val,yhat_et_class,clients)"
   ]
  },
  {
   "cell_type": "code",
   "execution_count": 47,
   "metadata": {
    "ExecuteTime": {
     "end_time": "2022-09-14T00:59:16.494550Z",
     "start_time": "2022-09-14T00:59:16.456789Z"
    },
    "cell_id": "00061-1bd81c17-ac04-48c0-8c5e-3218c8bfd7c6",
    "deepnote_cell_height": 226,
    "deepnote_cell_type": "code",
    "deepnote_to_be_reexecuted": false,
    "execution_millis": 4,
    "execution_start": 1663075830634,
    "scrolled": true,
    "source_hash": "b4f684ea"
   },
   "outputs": [
    {
     "data": {
      "text/html": [
       "<div>\n",
       "<style scoped>\n",
       "    .dataframe tbody tr th:only-of-type {\n",
       "        vertical-align: middle;\n",
       "    }\n",
       "\n",
       "    .dataframe tbody tr th {\n",
       "        vertical-align: top;\n",
       "    }\n",
       "\n",
       "    .dataframe thead th {\n",
       "        text-align: right;\n",
       "    }\n",
       "</style>\n",
       "<table border=\"1\" class=\"dataframe\">\n",
       "  <thead>\n",
       "    <tr style=\"text-align: right;\">\n",
       "      <th></th>\n",
       "      <th>Model Name</th>\n",
       "      <th>Precison</th>\n",
       "      <th>Recall</th>\n",
       "      <th>k</th>\n",
       "      <th>Precison at k</th>\n",
       "      <th>Recall at k</th>\n",
       "    </tr>\n",
       "  </thead>\n",
       "  <tbody>\n",
       "    <tr>\n",
       "      <th>0</th>\n",
       "      <td>Extra trees</td>\n",
       "      <td>0.5</td>\n",
       "      <td>0.000071</td>\n",
       "      <td>20000</td>\n",
       "      <td>0.360032</td>\n",
       "      <td>0.51388</td>\n",
       "    </tr>\n",
       "  </tbody>\n",
       "</table>\n",
       "</div>"
      ],
      "text/plain": [
       "    Model Name  Precison    Recall      k  Precison at k  Recall at k\n",
       "0  Extra trees       0.5  0.000071  20000       0.360032      0.51388"
      ]
     },
     "execution_count": 47,
     "metadata": {},
     "output_type": "execute_result"
    }
   ],
   "source": [
    "et_performace"
   ]
  },
  {
   "cell_type": "markdown",
   "metadata": {
    "cell_id": "00062-2f0e872a-5a97-40e8-bde0-34a8874eb3b4",
    "deepnote_cell_height": 70,
    "deepnote_cell_type": "markdown"
   },
   "source": [
    "## XGboost"
   ]
  },
  {
   "cell_type": "code",
   "execution_count": 48,
   "metadata": {
    "ExecuteTime": {
     "end_time": "2022-09-14T00:59:16.510169Z",
     "start_time": "2022-09-14T00:59:16.494550Z"
    },
    "cell_id": "00063-3ba13c60-7eb9-495e-b4ed-06c546647462",
    "deepnote_cell_height": 76,
    "deepnote_cell_type": "code",
    "deepnote_to_be_reexecuted": false,
    "execution_millis": 0,
    "execution_start": 1663075830683,
    "source_hash": "ce3549ee"
   },
   "outputs": [],
   "source": [
    "xgb_df = val.copy()"
   ]
  },
  {
   "cell_type": "code",
   "execution_count": 49,
   "metadata": {
    "ExecuteTime": {
     "end_time": "2022-09-14T00:59:16.594797Z",
     "start_time": "2022-09-14T00:59:16.510169Z"
    },
    "cell_id": "00064-af73a354-da26-47fe-afaf-da6516ae265d",
    "deepnote_cell_height": 112,
    "deepnote_cell_type": "code",
    "deepnote_to_be_reexecuted": false,
    "execution_millis": 44,
    "execution_start": 1663075830684,
    "source_hash": "bfe8602"
   },
   "outputs": [],
   "source": [
    "xgb_df['score_xgb'] = yhat_xgb_proba[:,1].tolist()\n",
    "# sorte by score\n",
    "xgb_df = xgb_df.sort_values('score_xgb',ascending=False)"
   ]
  },
  {
   "cell_type": "code",
   "execution_count": 50,
   "metadata": {
    "ExecuteTime": {
     "end_time": "2022-09-14T00:59:16.626039Z",
     "start_time": "2022-09-14T00:59:16.594797Z"
    },
    "cell_id": "00065-203b47f9-af3e-4755-bc28-9936b15ffacc",
    "deepnote_cell_height": 407,
    "deepnote_cell_type": "code",
    "deepnote_to_be_reexecuted": false,
    "execution_millis": 35,
    "execution_start": 1663075830730,
    "scrolled": true,
    "source_hash": "e7f31522"
   },
   "outputs": [
    {
     "data": {
      "text/html": [
       "<div>\n",
       "<style scoped>\n",
       "    .dataframe tbody tr th:only-of-type {\n",
       "        vertical-align: middle;\n",
       "    }\n",
       "\n",
       "    .dataframe tbody tr th {\n",
       "        vertical-align: top;\n",
       "    }\n",
       "\n",
       "    .dataframe thead th {\n",
       "        text-align: right;\n",
       "    }\n",
       "</style>\n",
       "<table border=\"1\" class=\"dataframe\">\n",
       "  <thead>\n",
       "    <tr style=\"text-align: right;\">\n",
       "      <th></th>\n",
       "      <th>id</th>\n",
       "      <th>age</th>\n",
       "      <th>region_code</th>\n",
       "      <th>policy_sales_channel</th>\n",
       "      <th>previously_insured</th>\n",
       "      <th>vintage</th>\n",
       "      <th>vehicle_age</th>\n",
       "      <th>vehicle_damage</th>\n",
       "      <th>response</th>\n",
       "      <th>score_xgb</th>\n",
       "    </tr>\n",
       "  </thead>\n",
       "  <tbody>\n",
       "    <tr>\n",
       "      <th>308033</th>\n",
       "      <td>308034</td>\n",
       "      <td>0.446154</td>\n",
       "      <td>8.0</td>\n",
       "      <td>3.0</td>\n",
       "      <td>0</td>\n",
       "      <td>0.996540</td>\n",
       "      <td>2</td>\n",
       "      <td>1</td>\n",
       "      <td>0</td>\n",
       "      <td>0.833463</td>\n",
       "    </tr>\n",
       "    <tr>\n",
       "      <th>269431</th>\n",
       "      <td>269432</td>\n",
       "      <td>0.153846</td>\n",
       "      <td>3.0</td>\n",
       "      <td>163.0</td>\n",
       "      <td>0</td>\n",
       "      <td>0.975779</td>\n",
       "      <td>2</td>\n",
       "      <td>1</td>\n",
       "      <td>0</td>\n",
       "      <td>0.792653</td>\n",
       "    </tr>\n",
       "    <tr>\n",
       "      <th>359029</th>\n",
       "      <td>359030</td>\n",
       "      <td>0.584615</td>\n",
       "      <td>28.0</td>\n",
       "      <td>3.0</td>\n",
       "      <td>0</td>\n",
       "      <td>0.619377</td>\n",
       "      <td>3</td>\n",
       "      <td>1</td>\n",
       "      <td>0</td>\n",
       "      <td>0.786391</td>\n",
       "    </tr>\n",
       "    <tr>\n",
       "      <th>177941</th>\n",
       "      <td>177942</td>\n",
       "      <td>0.384615</td>\n",
       "      <td>28.0</td>\n",
       "      <td>124.0</td>\n",
       "      <td>0</td>\n",
       "      <td>0.307958</td>\n",
       "      <td>1</td>\n",
       "      <td>1</td>\n",
       "      <td>1</td>\n",
       "      <td>0.732223</td>\n",
       "    </tr>\n",
       "    <tr>\n",
       "      <th>61336</th>\n",
       "      <td>61337</td>\n",
       "      <td>0.461538</td>\n",
       "      <td>28.0</td>\n",
       "      <td>124.0</td>\n",
       "      <td>0</td>\n",
       "      <td>0.439446</td>\n",
       "      <td>1</td>\n",
       "      <td>1</td>\n",
       "      <td>1</td>\n",
       "      <td>0.723999</td>\n",
       "    </tr>\n",
       "  </tbody>\n",
       "</table>\n",
       "</div>"
      ],
      "text/plain": [
       "            id       age  region_code  policy_sales_channel  \\\n",
       "308033  308034  0.446154          8.0                   3.0   \n",
       "269431  269432  0.153846          3.0                 163.0   \n",
       "359029  359030  0.584615         28.0                   3.0   \n",
       "177941  177942  0.384615         28.0                 124.0   \n",
       "61336    61337  0.461538         28.0                 124.0   \n",
       "\n",
       "        previously_insured   vintage  vehicle_age  vehicle_damage  response  \\\n",
       "308033                   0  0.996540            2               1         0   \n",
       "269431                   0  0.975779            2               1         0   \n",
       "359029                   0  0.619377            3               1         0   \n",
       "177941                   0  0.307958            1               1         1   \n",
       "61336                    0  0.439446            1               1         1   \n",
       "\n",
       "        score_xgb  \n",
       "308033   0.833463  \n",
       "269431   0.792653  \n",
       "359029   0.786391  \n",
       "177941   0.732223  \n",
       "61336    0.723999  "
      ]
     },
     "execution_count": 50,
     "metadata": {},
     "output_type": "execute_result"
    }
   ],
   "source": [
    "xgb_df.head()"
   ]
  },
  {
   "cell_type": "code",
   "execution_count": 51,
   "metadata": {
    "ExecuteTime": {
     "end_time": "2022-09-14T00:59:16.757580Z",
     "start_time": "2022-09-14T00:59:16.626039Z"
    },
    "cell_id": "00066-e78cbdff-e532-4e1a-86bb-c727b8b570fb",
    "deepnote_cell_height": 76,
    "deepnote_cell_type": "code",
    "deepnote_to_be_reexecuted": false,
    "execution_millis": 89,
    "execution_start": 1663075830764,
    "source_hash": "bd5735b3"
   },
   "outputs": [],
   "source": [
    "xgb_performace = performace(\"XGBoost\",xgb_df,y_val,yhat_xgb_class,clients)"
   ]
  },
  {
   "cell_type": "code",
   "execution_count": 52,
   "metadata": {
    "ExecuteTime": {
     "end_time": "2022-09-14T00:59:16.795297Z",
     "start_time": "2022-09-14T00:59:16.757580Z"
    },
    "cell_id": "00067-24f9a94c-dd95-4675-9ff2-08ad9e4592de",
    "deepnote_cell_height": 226,
    "deepnote_cell_type": "code",
    "deepnote_to_be_reexecuted": false,
    "execution_millis": 2,
    "execution_start": 1663075830899,
    "source_hash": "e518ccbf"
   },
   "outputs": [
    {
     "data": {
      "text/html": [
       "<div>\n",
       "<style scoped>\n",
       "    .dataframe tbody tr th:only-of-type {\n",
       "        vertical-align: middle;\n",
       "    }\n",
       "\n",
       "    .dataframe tbody tr th {\n",
       "        vertical-align: top;\n",
       "    }\n",
       "\n",
       "    .dataframe thead th {\n",
       "        text-align: right;\n",
       "    }\n",
       "</style>\n",
       "<table border=\"1\" class=\"dataframe\">\n",
       "  <thead>\n",
       "    <tr style=\"text-align: right;\">\n",
       "      <th></th>\n",
       "      <th>Model Name</th>\n",
       "      <th>Precison</th>\n",
       "      <th>Recall</th>\n",
       "      <th>k</th>\n",
       "      <th>Precison at k</th>\n",
       "      <th>Recall at k</th>\n",
       "    </tr>\n",
       "  </thead>\n",
       "  <tbody>\n",
       "    <tr>\n",
       "      <th>0</th>\n",
       "      <td>XGBoost</td>\n",
       "      <td>0.447059</td>\n",
       "      <td>0.021694</td>\n",
       "      <td>20000</td>\n",
       "      <td>0.360482</td>\n",
       "      <td>0.514522</td>\n",
       "    </tr>\n",
       "  </tbody>\n",
       "</table>\n",
       "</div>"
      ],
      "text/plain": [
       "  Model Name  Precison    Recall      k  Precison at k  Recall at k\n",
       "0    XGBoost  0.447059  0.021694  20000       0.360482     0.514522"
      ]
     },
     "execution_count": 52,
     "metadata": {},
     "output_type": "execute_result"
    }
   ],
   "source": [
    "xgb_performace"
   ]
  },
  {
   "cell_type": "markdown",
   "metadata": {
    "cell_id": "00068-43a40468-d766-4a92-9077-be35e724189d",
    "deepnote_cell_height": 82,
    "deepnote_cell_type": "markdown"
   },
   "source": [
    "# Model comparrison"
   ]
  },
  {
   "cell_type": "code",
   "execution_count": 53,
   "metadata": {
    "ExecuteTime": {
     "end_time": "2022-09-14T00:59:16.826540Z",
     "start_time": "2022-09-14T00:59:16.795297Z"
    },
    "cell_id": "00069-17f50f37-4610-4017-a3b1-188d76530cf0",
    "deepnote_cell_height": 76,
    "deepnote_cell_type": "code",
    "deepnote_to_be_reexecuted": false,
    "execution_millis": 0,
    "execution_start": 1663075830942,
    "source_hash": "128bf144"
   },
   "outputs": [],
   "source": [
    "model_comp = pd.concat([knn_performace,lm_performace,rf_performace,et_performace,xgb_performace])"
   ]
  },
  {
   "cell_type": "code",
   "execution_count": 54,
   "metadata": {
    "ExecuteTime": {
     "end_time": "2022-09-14T00:59:16.857783Z",
     "start_time": "2022-09-14T00:59:16.826540Z"
    },
    "cell_id": "00070-1eb35801-a6aa-4d87-abe0-e32a85d585f6",
    "deepnote_cell_height": 390,
    "deepnote_cell_type": "code",
    "deepnote_to_be_reexecuted": false,
    "execution_millis": 7,
    "execution_start": 1663075830943,
    "source_hash": "c8530f44"
   },
   "outputs": [
    {
     "data": {
      "text/html": [
       "<div>\n",
       "<style scoped>\n",
       "    .dataframe tbody tr th:only-of-type {\n",
       "        vertical-align: middle;\n",
       "    }\n",
       "\n",
       "    .dataframe tbody tr th {\n",
       "        vertical-align: top;\n",
       "    }\n",
       "\n",
       "    .dataframe thead th {\n",
       "        text-align: right;\n",
       "    }\n",
       "</style>\n",
       "<table border=\"1\" class=\"dataframe\">\n",
       "  <thead>\n",
       "    <tr style=\"text-align: right;\">\n",
       "      <th></th>\n",
       "      <th>Model Name</th>\n",
       "      <th>Precison</th>\n",
       "      <th>Recall</th>\n",
       "      <th>k</th>\n",
       "      <th>Precison at k</th>\n",
       "      <th>Recall at k</th>\n",
       "    </tr>\n",
       "  </thead>\n",
       "  <tbody>\n",
       "    <tr>\n",
       "      <th>0</th>\n",
       "      <td>XGBoost</td>\n",
       "      <td>0.447059</td>\n",
       "      <td>0.021694</td>\n",
       "      <td>20000</td>\n",
       "      <td>0.360482</td>\n",
       "      <td>0.514522</td>\n",
       "    </tr>\n",
       "    <tr>\n",
       "      <th>0</th>\n",
       "      <td>Extra trees</td>\n",
       "      <td>0.500000</td>\n",
       "      <td>0.000071</td>\n",
       "      <td>20000</td>\n",
       "      <td>0.360032</td>\n",
       "      <td>0.513880</td>\n",
       "    </tr>\n",
       "    <tr>\n",
       "      <th>0</th>\n",
       "      <td>linear model</td>\n",
       "      <td>0.444444</td>\n",
       "      <td>0.001998</td>\n",
       "      <td>20000</td>\n",
       "      <td>0.331283</td>\n",
       "      <td>0.472847</td>\n",
       "    </tr>\n",
       "    <tr>\n",
       "      <th>0</th>\n",
       "      <td>Random forest</td>\n",
       "      <td>0.328247</td>\n",
       "      <td>0.207236</td>\n",
       "      <td>20000</td>\n",
       "      <td>0.311284</td>\n",
       "      <td>0.444302</td>\n",
       "    </tr>\n",
       "    <tr>\n",
       "      <th>0</th>\n",
       "      <td>KNN</td>\n",
       "      <td>0.338387</td>\n",
       "      <td>0.178406</td>\n",
       "      <td>20000</td>\n",
       "      <td>0.309985</td>\n",
       "      <td>0.442446</td>\n",
       "    </tr>\n",
       "  </tbody>\n",
       "</table>\n",
       "</div>"
      ],
      "text/plain": [
       "      Model Name  Precison    Recall      k  Precison at k  Recall at k\n",
       "0        XGBoost  0.447059  0.021694  20000       0.360482     0.514522\n",
       "0    Extra trees  0.500000  0.000071  20000       0.360032     0.513880\n",
       "0   linear model  0.444444  0.001998  20000       0.331283     0.472847\n",
       "0  Random forest  0.328247  0.207236  20000       0.311284     0.444302\n",
       "0            KNN  0.338387  0.178406  20000       0.309985     0.442446"
      ]
     },
     "execution_count": 54,
     "metadata": {},
     "output_type": "execute_result"
    }
   ],
   "source": [
    "model_comp.sort_values(by='Recall at k',ascending=False)"
   ]
  },
  {
   "cell_type": "markdown",
   "metadata": {
    "cell_id": "7729b9592a0040b9b48b9c4bf63ea40e",
    "deepnote_cell_height": 82,
    "deepnote_cell_type": "markdown",
    "tags": []
   },
   "source": [
    "# Croos validation"
   ]
  },
  {
   "cell_type": "code",
   "execution_count": 55,
   "metadata": {
    "ExecuteTime": {
     "end_time": "2022-09-14T00:59:16.873404Z",
     "start_time": "2022-09-14T00:59:16.857783Z"
    },
    "cell_id": "10b61a404d604ec29e3e9c0b82be0527",
    "deepnote_cell_height": 184,
    "deepnote_cell_type": "code",
    "deepnote_to_be_reexecuted": false,
    "execution_millis": 2,
    "execution_start": 1663115859141,
    "source_hash": "96169d53",
    "tags": []
   },
   "outputs": [],
   "source": [
    "models = {\n",
    "    'KNN': knn_model,\n",
    "    'Linear model': lm_model,\n",
    "    'Random forrest': rf_model,\n",
    "    'Extra trees': et_model,\n",
    "    'XGBoost':xgb_model\n",
    "}"
   ]
  },
  {
   "cell_type": "code",
   "execution_count": 56,
   "metadata": {
    "ExecuteTime": {
     "end_time": "2022-09-14T00:59:16.895558Z",
     "start_time": "2022-09-14T00:59:16.873404Z"
    },
    "cell_id": "b4dd383fbea74b0d99c0c71dd7b9727c",
    "deepnote_cell_height": 76,
    "deepnote_cell_type": "code",
    "deepnote_to_be_reexecuted": false,
    "execution_millis": 2,
    "execution_start": 1663115863194,
    "source_hash": "3f39f1c8",
    "tags": []
   },
   "outputs": [],
   "source": [
    "models_comparison = pd.DataFrame()"
   ]
  },
  {
   "cell_type": "code",
   "execution_count": 57,
   "metadata": {
    "ExecuteTime": {
     "end_time": "2022-09-14T01:40:07.517522Z",
     "start_time": "2022-09-14T00:59:16.895558Z"
    },
    "cell_id": "77188b1acc204fefaa0cb2826b9b1cfe",
    "deepnote_cell_height": 339.3999938964844,
    "deepnote_cell_type": "code",
    "deepnote_to_be_reexecuted": false,
    "execution_millis": 70213,
    "execution_start": 1663115865559,
    "source_hash": "e239236d",
    "tags": []
   },
   "outputs": [
    {
     "name": "stderr",
     "output_type": "stream",
     "text": [
      "C:\\Users\\Lavin\\anaconda3\\lib\\site-packages\\sklearn\\metrics\\_classification.py:1327: UndefinedMetricWarning: Precision is ill-defined and being set to 0.0 due to no predicted samples. Use `zero_division` parameter to control this behavior.\n",
      "  _warn_prf(average, modifier, msg_start, len(result))\n",
      "C:\\Users\\Lavin\\anaconda3\\lib\\site-packages\\sklearn\\metrics\\_classification.py:1327: UndefinedMetricWarning: Precision is ill-defined and being set to 0.0 due to no predicted samples. Use `zero_division` parameter to control this behavior.\n",
      "  _warn_prf(average, modifier, msg_start, len(result))\n"
     ]
    }
   ],
   "source": [
    "for c, v in models.items():\n",
    "    aux = performace_cross_val(df6,'response',v,c,k=20000)\n",
    "    models_comparison = pd.concat([models_comparison,aux])"
   ]
  },
  {
   "cell_type": "code",
   "execution_count": 61,
   "metadata": {
    "ExecuteTime": {
     "end_time": "2022-09-14T01:41:46.491400Z",
     "start_time": "2022-09-14T01:41:46.444533Z"
    },
    "cell_id": "89bd6895251a42d999f3d89a099dc862",
    "deepnote_cell_height": 439,
    "deepnote_cell_type": "code",
    "deepnote_table_loading": false,
    "deepnote_table_state": {
     "filters": [],
     "pageIndex": 0,
     "pageSize": 10,
     "sortBy": [
      {
       "id": "PRECISION AT K CROSS_VAL",
       "type": "desc"
      }
     ]
    },
    "deepnote_to_be_reexecuted": false,
    "execution_millis": 317,
    "execution_start": 1663077842336,
    "source_hash": "6df05d0a",
    "tags": []
   },
   "outputs": [
    {
     "data": {
      "text/html": [
       "<div>\n",
       "<style scoped>\n",
       "    .dataframe tbody tr th:only-of-type {\n",
       "        vertical-align: middle;\n",
       "    }\n",
       "\n",
       "    .dataframe tbody tr th {\n",
       "        vertical-align: top;\n",
       "    }\n",
       "\n",
       "    .dataframe thead th {\n",
       "        text-align: right;\n",
       "    }\n",
       "</style>\n",
       "<table border=\"1\" class=\"dataframe\">\n",
       "  <thead>\n",
       "    <tr style=\"text-align: right;\">\n",
       "      <th></th>\n",
       "      <th>Model name</th>\n",
       "      <th>PRECISION CROSS_VAL</th>\n",
       "      <th>PRECISON STD</th>\n",
       "      <th>RECALL CROSS_VAL</th>\n",
       "      <th>RECALL STD</th>\n",
       "      <th>K</th>\n",
       "      <th>PRECISION AT K CROSS_VAL</th>\n",
       "      <th>PRECISION AT K STD</th>\n",
       "      <th>RECALL AT K CROSS_VAL</th>\n",
       "      <th>RECALL AT K STD</th>\n",
       "    </tr>\n",
       "  </thead>\n",
       "  <tbody>\n",
       "    <tr>\n",
       "      <th>0</th>\n",
       "      <td>XGBoost Cross_Val</td>\n",
       "      <td>0.451</td>\n",
       "      <td>0.022</td>\n",
       "      <td>0.021</td>\n",
       "      <td>0.003</td>\n",
       "      <td>20000</td>\n",
       "      <td>0.349</td>\n",
       "      <td>0.004</td>\n",
       "      <td>0.598</td>\n",
       "      <td>0.0</td>\n",
       "    </tr>\n",
       "    <tr>\n",
       "      <th>0</th>\n",
       "      <td>Extra trees Cross_Val</td>\n",
       "      <td>0.183</td>\n",
       "      <td>0.185</td>\n",
       "      <td>0.000</td>\n",
       "      <td>0.000</td>\n",
       "      <td>20000</td>\n",
       "      <td>0.347</td>\n",
       "      <td>0.003</td>\n",
       "      <td>0.594</td>\n",
       "      <td>0.0</td>\n",
       "    </tr>\n",
       "    <tr>\n",
       "      <th>0</th>\n",
       "      <td>Linear model Cross_Val</td>\n",
       "      <td>0.348</td>\n",
       "      <td>0.048</td>\n",
       "      <td>0.002</td>\n",
       "      <td>0.001</td>\n",
       "      <td>20000</td>\n",
       "      <td>0.319</td>\n",
       "      <td>0.003</td>\n",
       "      <td>0.547</td>\n",
       "      <td>0.0</td>\n",
       "    </tr>\n",
       "    <tr>\n",
       "      <th>0</th>\n",
       "      <td>Random forrest Cross_Val</td>\n",
       "      <td>0.324</td>\n",
       "      <td>0.001</td>\n",
       "      <td>0.205</td>\n",
       "      <td>0.001</td>\n",
       "      <td>20000</td>\n",
       "      <td>0.304</td>\n",
       "      <td>0.003</td>\n",
       "      <td>0.521</td>\n",
       "      <td>0.0</td>\n",
       "    </tr>\n",
       "    <tr>\n",
       "      <th>0</th>\n",
       "      <td>KNN Cross_Val</td>\n",
       "      <td>0.340</td>\n",
       "      <td>0.004</td>\n",
       "      <td>0.183</td>\n",
       "      <td>0.001</td>\n",
       "      <td>20000</td>\n",
       "      <td>0.301</td>\n",
       "      <td>0.002</td>\n",
       "      <td>0.515</td>\n",
       "      <td>0.0</td>\n",
       "    </tr>\n",
       "  </tbody>\n",
       "</table>\n",
       "</div>"
      ],
      "text/plain": [
       "                 Model name  PRECISION CROSS_VAL  PRECISON STD  \\\n",
       "0         XGBoost Cross_Val                0.451         0.022   \n",
       "0     Extra trees Cross_Val                0.183         0.185   \n",
       "0    Linear model Cross_Val                0.348         0.048   \n",
       "0  Random forrest Cross_Val                0.324         0.001   \n",
       "0             KNN Cross_Val                0.340         0.004   \n",
       "\n",
       "   RECALL CROSS_VAL  RECALL STD      K  PRECISION AT K CROSS_VAL  \\\n",
       "0             0.021       0.003  20000                     0.349   \n",
       "0             0.000       0.000  20000                     0.347   \n",
       "0             0.002       0.001  20000                     0.319   \n",
       "0             0.205       0.001  20000                     0.304   \n",
       "0             0.183       0.001  20000                     0.301   \n",
       "\n",
       "   PRECISION AT K STD  RECALL AT K CROSS_VAL  RECALL AT K STD  \n",
       "0               0.004                  0.598              0.0  \n",
       "0               0.003                  0.594              0.0  \n",
       "0               0.003                  0.547              0.0  \n",
       "0               0.003                  0.521              0.0  \n",
       "0               0.002                  0.515              0.0  "
      ]
     },
     "execution_count": 61,
     "metadata": {},
     "output_type": "execute_result"
    }
   ],
   "source": [
    "models_comparison.sort_values(by='RECALL AT K CROSS_VAL',ascending=False)"
   ]
  },
  {
   "cell_type": "code",
   "execution_count": 62,
   "metadata": {
    "ExecuteTime": {
     "end_time": "2022-09-14T01:43:08.915551Z",
     "start_time": "2022-09-14T01:43:08.862211Z"
    }
   },
   "outputs": [],
   "source": [
    "models_comparison.to_csv('data/models_comparison.csv',index=False)"
   ]
  }
 ],
 "metadata": {
  "deepnote": {},
  "deepnote_execution_queue": [],
  "deepnote_notebook_id": "902457a8-c054-48cb-9ba9-398e078092fa",
  "kernelspec": {
   "display_name": "Python 3",
   "language": "python",
   "name": "python3"
  },
  "language_info": {
   "codemirror_mode": {
    "name": "ipython",
    "version": 3
   },
   "file_extension": ".py",
   "mimetype": "text/x-python",
   "name": "python",
   "nbconvert_exporter": "python",
   "pygments_lexer": "ipython3",
   "version": "3.8.5"
  }
 },
 "nbformat": 4,
 "nbformat_minor": 4
}
