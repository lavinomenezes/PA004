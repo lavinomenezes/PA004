{
 "cells": [
  {
   "cell_type": "markdown",
   "source": "# imports",
   "metadata": {
    "cell_id": "8e1eeda121f84c5982685b8e4ffab2f2",
    "tags": [],
    "deepnote_cell_type": "markdown",
    "deepnote_cell_height": 82
   }
  },
  {
   "cell_type": "code",
   "metadata": {
    "cell_id": "b1081808-d34a-49be-bcd9-e77d9c15f1af",
    "deepnote_to_be_reexecuted": false,
    "source_hash": "2833c534",
    "execution_start": 1663610315420,
    "execution_millis": 4470,
    "deepnote_cell_type": "code",
    "deepnote_cell_height": 256
   },
   "source": "import pandas as pd\nimport numpy as np\nimport seaborn as sns\nimport matplotlib.pyplot as plt\nimport xgboost as xgb\nfrom IPython.core.display import HTML\nfrom sklearn.model_selection import train_test_split\nfrom sklearn.model_selection import StratifiedKFold\nimport sklearn.metrics\n#import scikitplot as skplt\npd.options.mode.chained_assignment = None  # default='warn'",
   "execution_count": 1,
   "outputs": [
    {
     "output_type": "error",
     "ename": "ModuleNotFoundError",
     "evalue": "No module named 'xgboost'",
     "traceback": [
      "\u001b[0;31m---------------------------------------------------------------------------\u001b[0m",
      "\u001b[0;31mModuleNotFoundError\u001b[0m                       Traceback (most recent call last)",
      "Cell \u001b[0;32mIn [1], line 5\u001b[0m\n\u001b[1;32m      3\u001b[0m \u001b[38;5;28;01mimport\u001b[39;00m \u001b[38;5;21;01mseaborn\u001b[39;00m \u001b[38;5;28;01mas\u001b[39;00m \u001b[38;5;21;01msns\u001b[39;00m\n\u001b[1;32m      4\u001b[0m \u001b[38;5;28;01mimport\u001b[39;00m \u001b[38;5;21;01mmatplotlib\u001b[39;00m\u001b[38;5;21;01m.\u001b[39;00m\u001b[38;5;21;01mpyplot\u001b[39;00m \u001b[38;5;28;01mas\u001b[39;00m \u001b[38;5;21;01mplt\u001b[39;00m\n\u001b[0;32m----> 5\u001b[0m \u001b[38;5;28;01mimport\u001b[39;00m \u001b[38;5;21;01mxgboost\u001b[39;00m \u001b[38;5;28;01mas\u001b[39;00m \u001b[38;5;21;01mxgb\u001b[39;00m\n\u001b[1;32m      6\u001b[0m \u001b[38;5;28;01mfrom\u001b[39;00m \u001b[38;5;21;01mIPython\u001b[39;00m\u001b[38;5;21;01m.\u001b[39;00m\u001b[38;5;21;01mcore\u001b[39;00m\u001b[38;5;21;01m.\u001b[39;00m\u001b[38;5;21;01mdisplay\u001b[39;00m \u001b[38;5;28;01mimport\u001b[39;00m HTML\n\u001b[1;32m      7\u001b[0m \u001b[38;5;28;01mfrom\u001b[39;00m \u001b[38;5;21;01msklearn\u001b[39;00m\u001b[38;5;21;01m.\u001b[39;00m\u001b[38;5;21;01mmodel_selection\u001b[39;00m \u001b[38;5;28;01mimport\u001b[39;00m train_test_split\n",
      "\u001b[0;31mModuleNotFoundError\u001b[0m: No module named 'xgboost'"
     ]
    }
   ]
  },
  {
   "cell_type": "markdown",
   "source": "# helper functions",
   "metadata": {
    "cell_id": "a0c4abcf2dc14542a421ec28aecbc4cf",
    "tags": [],
    "deepnote_cell_type": "markdown",
    "deepnote_cell_height": 82
   }
  },
  {
   "cell_type": "code",
   "metadata": {
    "cell_id": "00001-db43aed9-f600-480f-b4f1-adb4ffe57c13",
    "deepnote_to_be_reexecuted": false,
    "source_hash": "46a4bb4d",
    "execution_start": 1663608570228,
    "execution_millis": 30,
    "deepnote_cell_type": "code",
    "deepnote_cell_height": 303.3999938964844,
    "deepnote_output_heights": [
     null,
     1
    ]
   },
   "source": "def jupyter_settings():\n    %matplotlib inline\n    %pylab inline\n    plt.style.use( 'bmh' )\n    plt.rcParams['figure.figsize'] = [25, 12]\n    plt.rcParams['font.size'] = 24\n    display( HTML( '<style>.container { width:100% !important; }</style>') )\n    sns.set()\njupyter_settings()",
   "outputs": [
    {
     "name": "stdout",
     "text": "%pylab is deprecated, use %matplotlib inline and import the required libraries.\nPopulating the interactive namespace from numpy and matplotlib\n",
     "output_type": "stream"
    },
    {
     "data": {
      "text/plain": "<IPython.core.display.HTML object>",
      "text/html": "<style>.container { width:100% !important; }</style>"
     },
     "metadata": {},
     "output_type": "display_data"
    }
   ],
   "execution_count": null
  },
  {
   "cell_type": "code",
   "metadata": {
    "cell_id": "744c56e7be8641c88e82c162bef4c60a",
    "tags": [],
    "deepnote_to_be_reexecuted": false,
    "source_hash": "3c1bb37b",
    "execution_start": 1663608570262,
    "execution_millis": 4,
    "deepnote_cell_type": "code",
    "deepnote_cell_height": 238
   },
   "source": "def precision_at_k( data, k=2000 ):\n    # reset index\n    data = data.reset_index( drop=True )\n\n    # create ranking order\n    data['ranking'] = data.index + 1 \n\n    data['precision_at_k'] = data['response'].cumsum() / data['ranking']\n\n    return data.loc[k, 'precision_at_k']",
   "outputs": [],
   "execution_count": null
  },
  {
   "cell_type": "code",
   "metadata": {
    "cell_id": "d744cd9497d0475cad0e0400c087b752",
    "tags": [],
    "deepnote_to_be_reexecuted": false,
    "source_hash": "979ce389",
    "execution_start": 1663608570311,
    "execution_millis": 1,
    "deepnote_cell_type": "code",
    "deepnote_cell_height": 238
   },
   "source": "def recall_at_k( data, k=2000 ):\n    # reset index\n    data = data.reset_index( drop=True )\n\n    # create ranking order\n    data['ranking'] = data.index + 1 \n\n    data['recall_at_k'] = data['response'].cumsum() / data['response'].sum()\n\n    return data.loc[k, 'recall_at_k']",
   "outputs": [],
   "execution_count": null
  },
  {
   "cell_type": "code",
   "metadata": {
    "cell_id": "970b6567e5264635bfc6368379888949",
    "tags": [],
    "deepnote_to_be_reexecuted": false,
    "source_hash": "1776f534",
    "execution_start": 1663608570312,
    "execution_millis": 15512673,
    "deepnote_cell_type": "code",
    "deepnote_cell_height": 292
   },
   "source": "def performace(model_name,data,y_val,yhat_class,k):\n    import sklearn.metrics\n    prec = sklearn.metrics.precision_score(y_val,yhat_class)\n    recal = sklearn.metrics.recall_score(y_val,yhat_class)\n    recal_k = recall_at_k(data,k)\n    prec_k = precision_at_k(data,k)\n    \n    return pd.DataFrame({'Model Name':model_name,\n                        'Precison':prec,\n                        'Recall':recal,\n                        'k':k,\n                        'Precison at k':prec_k,\n                        'Recall at k':recal_k},index=[0])",
   "outputs": [],
   "execution_count": null
  },
  {
   "cell_type": "code",
   "metadata": {
    "cell_id": "d29cd235a49d436d93af7c9b96e46e9d",
    "tags": [],
    "deepnote_to_be_reexecuted": false,
    "source_hash": "14efc264",
    "execution_start": 1663608570459,
    "execution_millis": 0,
    "deepnote_cell_type": "code",
    "deepnote_cell_height": 999
   },
   "source": "def performace_cross_val(data,target,model,model_name,round_n=3,splits=4,shuffle_n=True,random=42,k=2000):\n    \n    import sklearn.model_selection as ms\n    import sklearn.metrics\n    import numpy as np\n    skf = ms.StratifiedKFold(n_splits=splits,shuffle=shuffle_n,random_state=random)\n    X = data\n    y = X[target]\n    X = X.drop(columns=[target,'id'])\n    precision = []\n    recall = []\n    prec_k = []\n    rec_k = []\n    for train_index, test_index in skf.split(X,y):\n        #train the model \n        model.fit(X.iloc[train_index],y.iloc[train_index])\n\n        #predict the classification \n        yhat_class = model.predict( X.iloc[test_index] )\n\n        #predict the probabilit\n        yhat_proba = model.predict_proba(X.iloc[test_index])\n\n        # precision and recall\n        prec = sklearn.metrics.precision_score(y.iloc[test_index],yhat_class)\n        rec = sklearn.metrics.recall_score(y.iloc[test_index],yhat_class)\n        precision.append(prec)\n        recall.append(rec)\n\n        # sort the test dataframe by the probabiliti score of the model\n        aux = X.iloc[test_index]\n        aux[target] = y.iloc[test_index]\n        aux['score'] = yhat_proba[:,1].tolist()\n\n        # sorte by score\n        aux = aux.sort_values('score',ascending=False)\n\n        # precision and recall at k\n        prec_k.append(precision_at_k(aux,k))\n        rec_k.append(recall_at_k(aux,k))\n\n    # return a dataset with the metrics    \n    return pd.DataFrame({'Model name': model_name + \" Cross_Val\",\n                                'PRECISION CROSS_VAL': np.round( np.mean( precision ), round_n ),\n                                'PRECISON STD': np.round( np.std( precision ), round_n ),\n                                'RECALL CROSS_VAL': np.round( np.mean( recall ), round_n ),\n                                'RECALL STD': np.round( np.std( recall ), round_n ),\n                                'K': k,\n                                'PRECISION AT K CROSS_VAL': np.round( np.mean( prec_k ), round_n ),\n                                'PRECISION AT K STD': np.round( np.std( prec_k ), round_n ),\n                                'RECALL AT K CROSS_VAL': np.round( np.mean( rec_k), round_n ),\n                                'RECALL AT K STD': np.round( np.std( rec_k )) },index=[0]) ",
   "outputs": [],
   "execution_count": null
  },
  {
   "cell_type": "markdown",
   "source": "# Load data",
   "metadata": {
    "cell_id": "b7db0904becc49c0893936063345f31c",
    "tags": [],
    "deepnote_cell_type": "markdown",
    "deepnote_cell_height": 82
   }
  },
  {
   "cell_type": "code",
   "metadata": {
    "cell_id": "85d4019373694d0d8a3bbc829e66a917",
    "tags": [],
    "deepnote_to_be_reexecuted": false,
    "source_hash": "24364d9e",
    "execution_start": 1663608570460,
    "execution_millis": 469,
    "deepnote_cell_type": "code",
    "deepnote_cell_height": 76
   },
   "source": "df6 = df6 = pd.read_csv('data/df5.csv')",
   "outputs": [],
   "execution_count": null
  },
  {
   "cell_type": "code",
   "metadata": {
    "cell_id": "d15cfeb187174127b0d49ef4e3836e11",
    "tags": [],
    "deepnote_to_be_reexecuted": false,
    "source_hash": "8f2e4d8a",
    "execution_start": 1663608570936,
    "execution_millis": 897,
    "deepnote_cell_type": "code",
    "deepnote_cell_height": 407
   },
   "source": "df6.head()",
   "outputs": [
    {
     "output_type": "execute_result",
     "execution_count": 8,
     "data": {
      "application/vnd.deepnote.dataframe.v3+json": {
       "column_count": 9,
       "row_count": 5,
       "columns": [
        {
         "name": "id",
         "dtype": "int64",
         "stats": {
          "unique_count": 5,
          "nan_count": 0,
          "min": "1",
          "max": "5",
          "histogram": [
           {
            "bin_start": 1,
            "bin_end": 1.4,
            "count": 1
           },
           {
            "bin_start": 1.4,
            "bin_end": 1.8,
            "count": 0
           },
           {
            "bin_start": 1.8,
            "bin_end": 2.2,
            "count": 1
           },
           {
            "bin_start": 2.2,
            "bin_end": 2.6,
            "count": 0
           },
           {
            "bin_start": 2.6,
            "bin_end": 3,
            "count": 0
           },
           {
            "bin_start": 3,
            "bin_end": 3.4000000000000004,
            "count": 1
           },
           {
            "bin_start": 3.4000000000000004,
            "bin_end": 3.8000000000000003,
            "count": 0
           },
           {
            "bin_start": 3.8000000000000003,
            "bin_end": 4.2,
            "count": 1
           },
           {
            "bin_start": 4.2,
            "bin_end": 4.6,
            "count": 0
           },
           {
            "bin_start": 4.6,
            "bin_end": 5,
            "count": 1
           }
          ]
         }
        },
        {
         "name": "age",
         "dtype": "float64",
         "stats": {
          "unique_count": 5,
          "nan_count": 0,
          "min": "0.0153846153846153",
          "max": "0.8615384615384616",
          "histogram": [
           {
            "bin_start": 0.0153846153846153,
            "bin_end": 0.09999999999999992,
            "count": 1
           },
           {
            "bin_start": 0.09999999999999992,
            "bin_end": 0.18461538461538454,
            "count": 1
           },
           {
            "bin_start": 0.18461538461538454,
            "bin_end": 0.2692307692307691,
            "count": 0
           },
           {
            "bin_start": 0.2692307692307691,
            "bin_end": 0.35384615384615375,
            "count": 0
           },
           {
            "bin_start": 0.35384615384615375,
            "bin_end": 0.4384615384615384,
            "count": 2
           },
           {
            "bin_start": 0.4384615384615384,
            "bin_end": 0.523076923076923,
            "count": 0
           },
           {
            "bin_start": 0.523076923076923,
            "bin_end": 0.6076923076923076,
            "count": 0
           },
           {
            "bin_start": 0.6076923076923076,
            "bin_end": 0.6923076923076923,
            "count": 0
           },
           {
            "bin_start": 0.6923076923076923,
            "bin_end": 0.7769230769230769,
            "count": 0
           },
           {
            "bin_start": 0.7769230769230769,
            "bin_end": 0.8615384615384616,
            "count": 1
           }
          ]
         }
        },
        {
         "name": "region_code",
         "dtype": "float64",
         "stats": {
          "unique_count": 4,
          "nan_count": 0,
          "min": "3.0",
          "max": "41.0",
          "histogram": [
           {
            "bin_start": 3,
            "bin_end": 6.8,
            "count": 1
           },
           {
            "bin_start": 6.8,
            "bin_end": 10.6,
            "count": 0
           },
           {
            "bin_start": 10.6,
            "bin_end": 14.399999999999999,
            "count": 1
           },
           {
            "bin_start": 14.399999999999999,
            "bin_end": 18.2,
            "count": 0
           },
           {
            "bin_start": 18.2,
            "bin_end": 22,
            "count": 0
           },
           {
            "bin_start": 22,
            "bin_end": 25.799999999999997,
            "count": 0
           },
           {
            "bin_start": 25.799999999999997,
            "bin_end": 29.599999999999998,
            "count": 2
           },
           {
            "bin_start": 29.599999999999998,
            "bin_end": 33.4,
            "count": 0
           },
           {
            "bin_start": 33.4,
            "bin_end": 37.199999999999996,
            "count": 0
           },
           {
            "bin_start": 37.199999999999996,
            "bin_end": 41,
            "count": 1
           }
          ]
         }
        },
        {
         "name": "policy_sales_channel",
         "dtype": "float64",
         "stats": {
          "unique_count": 2,
          "nan_count": 0,
          "min": "26.0",
          "max": "152.0",
          "histogram": [
           {
            "bin_start": 26,
            "bin_end": 38.6,
            "count": 3
           },
           {
            "bin_start": 38.6,
            "bin_end": 51.2,
            "count": 0
           },
           {
            "bin_start": 51.2,
            "bin_end": 63.8,
            "count": 0
           },
           {
            "bin_start": 63.8,
            "bin_end": 76.4,
            "count": 0
           },
           {
            "bin_start": 76.4,
            "bin_end": 89,
            "count": 0
           },
           {
            "bin_start": 89,
            "bin_end": 101.6,
            "count": 0
           },
           {
            "bin_start": 101.6,
            "bin_end": 114.2,
            "count": 0
           },
           {
            "bin_start": 114.2,
            "bin_end": 126.8,
            "count": 0
           },
           {
            "bin_start": 126.8,
            "bin_end": 139.39999999999998,
            "count": 0
           },
           {
            "bin_start": 139.39999999999998,
            "bin_end": 152,
            "count": 2
           }
          ]
         }
        },
        {
         "name": "previously_insured",
         "dtype": "int64",
         "stats": {
          "unique_count": 2,
          "nan_count": 0,
          "min": "0",
          "max": "1",
          "histogram": [
           {
            "bin_start": 0,
            "bin_end": 0.1,
            "count": 3
           },
           {
            "bin_start": 0.1,
            "bin_end": 0.2,
            "count": 0
           },
           {
            "bin_start": 0.2,
            "bin_end": 0.30000000000000004,
            "count": 0
           },
           {
            "bin_start": 0.30000000000000004,
            "bin_end": 0.4,
            "count": 0
           },
           {
            "bin_start": 0.4,
            "bin_end": 0.5,
            "count": 0
           },
           {
            "bin_start": 0.5,
            "bin_end": 0.6000000000000001,
            "count": 0
           },
           {
            "bin_start": 0.6000000000000001,
            "bin_end": 0.7000000000000001,
            "count": 0
           },
           {
            "bin_start": 0.7000000000000001,
            "bin_end": 0.8,
            "count": 0
           },
           {
            "bin_start": 0.8,
            "bin_end": 0.9,
            "count": 0
           },
           {
            "bin_start": 0.9,
            "bin_end": 1,
            "count": 2
           }
          ]
         }
        },
        {
         "name": "vintage",
         "dtype": "float64",
         "stats": {
          "unique_count": 5,
          "nan_count": 0,
          "min": "0.0588235294117647",
          "max": "0.7162629757785468",
          "histogram": [
           {
            "bin_start": 0.0588235294117647,
            "bin_end": 0.1245674740484429,
            "count": 2
           },
           {
            "bin_start": 0.1245674740484429,
            "bin_end": 0.1903114186851211,
            "count": 0
           },
           {
            "bin_start": 0.1903114186851211,
            "bin_end": 0.25605536332179935,
            "count": 0
           },
           {
            "bin_start": 0.25605536332179935,
            "bin_end": 0.32179930795847755,
            "count": 0
           },
           {
            "bin_start": 0.32179930795847755,
            "bin_end": 0.38754325259515576,
            "count": 0
           },
           {
            "bin_start": 0.38754325259515576,
            "bin_end": 0.45328719723183397,
            "count": 0
           },
           {
            "bin_start": 0.45328719723183397,
            "bin_end": 0.5190311418685122,
            "count": 0
           },
           {
            "bin_start": 0.5190311418685122,
            "bin_end": 0.5847750865051904,
            "count": 0
           },
           {
            "bin_start": 0.5847750865051904,
            "bin_end": 0.6505190311418686,
            "count": 1
           },
           {
            "bin_start": 0.6505190311418686,
            "bin_end": 0.7162629757785468,
            "count": 2
           }
          ]
         }
        },
        {
         "name": "vehicle_age",
         "dtype": "int64",
         "stats": {
          "unique_count": 3,
          "nan_count": 0,
          "min": "1",
          "max": "3",
          "histogram": [
           {
            "bin_start": 1,
            "bin_end": 1.2,
            "count": 2
           },
           {
            "bin_start": 1.2,
            "bin_end": 1.4,
            "count": 0
           },
           {
            "bin_start": 1.4,
            "bin_end": 1.6,
            "count": 0
           },
           {
            "bin_start": 1.6,
            "bin_end": 1.8,
            "count": 0
           },
           {
            "bin_start": 1.8,
            "bin_end": 2,
            "count": 0
           },
           {
            "bin_start": 2,
            "bin_end": 2.2,
            "count": 1
           },
           {
            "bin_start": 2.2,
            "bin_end": 2.4000000000000004,
            "count": 0
           },
           {
            "bin_start": 2.4000000000000004,
            "bin_end": 2.6,
            "count": 0
           },
           {
            "bin_start": 2.6,
            "bin_end": 2.8,
            "count": 0
           },
           {
            "bin_start": 2.8,
            "bin_end": 3,
            "count": 2
           }
          ]
         }
        },
        {
         "name": "vehicle_damage",
         "dtype": "int64",
         "stats": {
          "unique_count": 2,
          "nan_count": 0,
          "min": "0",
          "max": "1",
          "histogram": [
           {
            "bin_start": 0,
            "bin_end": 0.1,
            "count": 3
           },
           {
            "bin_start": 0.1,
            "bin_end": 0.2,
            "count": 0
           },
           {
            "bin_start": 0.2,
            "bin_end": 0.30000000000000004,
            "count": 0
           },
           {
            "bin_start": 0.30000000000000004,
            "bin_end": 0.4,
            "count": 0
           },
           {
            "bin_start": 0.4,
            "bin_end": 0.5,
            "count": 0
           },
           {
            "bin_start": 0.5,
            "bin_end": 0.6000000000000001,
            "count": 0
           },
           {
            "bin_start": 0.6000000000000001,
            "bin_end": 0.7000000000000001,
            "count": 0
           },
           {
            "bin_start": 0.7000000000000001,
            "bin_end": 0.8,
            "count": 0
           },
           {
            "bin_start": 0.8,
            "bin_end": 0.9,
            "count": 0
           },
           {
            "bin_start": 0.9,
            "bin_end": 1,
            "count": 2
           }
          ]
         }
        },
        {
         "name": "response",
         "dtype": "int64",
         "stats": {
          "unique_count": 2,
          "nan_count": 0,
          "min": "0",
          "max": "1",
          "histogram": [
           {
            "bin_start": 0,
            "bin_end": 0.1,
            "count": 3
           },
           {
            "bin_start": 0.1,
            "bin_end": 0.2,
            "count": 0
           },
           {
            "bin_start": 0.2,
            "bin_end": 0.30000000000000004,
            "count": 0
           },
           {
            "bin_start": 0.30000000000000004,
            "bin_end": 0.4,
            "count": 0
           },
           {
            "bin_start": 0.4,
            "bin_end": 0.5,
            "count": 0
           },
           {
            "bin_start": 0.5,
            "bin_end": 0.6000000000000001,
            "count": 0
           },
           {
            "bin_start": 0.6000000000000001,
            "bin_end": 0.7000000000000001,
            "count": 0
           },
           {
            "bin_start": 0.7000000000000001,
            "bin_end": 0.8,
            "count": 0
           },
           {
            "bin_start": 0.8,
            "bin_end": 0.9,
            "count": 0
           },
           {
            "bin_start": 0.9,
            "bin_end": 1,
            "count": 2
           }
          ]
         }
        },
        {
         "name": "_deepnote_index_column",
         "dtype": "int64"
        }
       ],
       "rows": [
        {
         "id": "1",
         "age": "0.3692307692307693",
         "region_code": "28.0",
         "policy_sales_channel": "26.0",
         "previously_insured": "0",
         "vintage": "0.7162629757785468",
         "vehicle_age": "3",
         "vehicle_damage": "1",
         "response": "1",
         "_deepnote_index_column": "0"
        },
        {
         "id": "2",
         "age": "0.8615384615384616",
         "region_code": "3.0",
         "policy_sales_channel": "26.0",
         "previously_insured": "0",
         "vintage": "0.5986159169550174",
         "vehicle_age": "2",
         "vehicle_damage": "0",
         "response": "0",
         "_deepnote_index_column": "1"
        },
        {
         "id": "3",
         "age": "0.4153846153846154",
         "region_code": "28.0",
         "policy_sales_channel": "26.0",
         "previously_insured": "0",
         "vintage": "0.0588235294117647",
         "vehicle_age": "3",
         "vehicle_damage": "1",
         "response": "1",
         "_deepnote_index_column": "2"
        },
        {
         "id": "4",
         "age": "0.0153846153846153",
         "region_code": "11.0",
         "policy_sales_channel": "152.0",
         "previously_insured": "1",
         "vintage": "0.6678200692041523",
         "vehicle_age": "1",
         "vehicle_damage": "0",
         "response": "0",
         "_deepnote_index_column": "3"
        },
        {
         "id": "5",
         "age": "0.1384615384615384",
         "region_code": "41.0",
         "policy_sales_channel": "152.0",
         "previously_insured": "1",
         "vintage": "0.1003460207612456",
         "vehicle_age": "1",
         "vehicle_damage": "0",
         "response": "0",
         "_deepnote_index_column": "4"
        }
       ]
      },
      "text/plain": "   id       age  region_code  policy_sales_channel  previously_insured  \\\n0   1  0.369231         28.0                  26.0                   0   \n1   2  0.861538          3.0                  26.0                   0   \n2   3  0.415385         28.0                  26.0                   0   \n3   4  0.015385         11.0                 152.0                   1   \n4   5  0.138462         41.0                 152.0                   1   \n\n    vintage  vehicle_age  vehicle_damage  response  \n0  0.716263            3               1         1  \n1  0.598616            2               0         0  \n2  0.058824            3               1         1  \n3  0.667820            1               0         0  \n4  0.100346            1               0         0  ",
      "text/html": "<div>\n<style scoped>\n    .dataframe tbody tr th:only-of-type {\n        vertical-align: middle;\n    }\n\n    .dataframe tbody tr th {\n        vertical-align: top;\n    }\n\n    .dataframe thead th {\n        text-align: right;\n    }\n</style>\n<table border=\"1\" class=\"dataframe\">\n  <thead>\n    <tr style=\"text-align: right;\">\n      <th></th>\n      <th>id</th>\n      <th>age</th>\n      <th>region_code</th>\n      <th>policy_sales_channel</th>\n      <th>previously_insured</th>\n      <th>vintage</th>\n      <th>vehicle_age</th>\n      <th>vehicle_damage</th>\n      <th>response</th>\n    </tr>\n  </thead>\n  <tbody>\n    <tr>\n      <th>0</th>\n      <td>1</td>\n      <td>0.369231</td>\n      <td>28.0</td>\n      <td>26.0</td>\n      <td>0</td>\n      <td>0.716263</td>\n      <td>3</td>\n      <td>1</td>\n      <td>1</td>\n    </tr>\n    <tr>\n      <th>1</th>\n      <td>2</td>\n      <td>0.861538</td>\n      <td>3.0</td>\n      <td>26.0</td>\n      <td>0</td>\n      <td>0.598616</td>\n      <td>2</td>\n      <td>0</td>\n      <td>0</td>\n    </tr>\n    <tr>\n      <th>2</th>\n      <td>3</td>\n      <td>0.415385</td>\n      <td>28.0</td>\n      <td>26.0</td>\n      <td>0</td>\n      <td>0.058824</td>\n      <td>3</td>\n      <td>1</td>\n      <td>1</td>\n    </tr>\n    <tr>\n      <th>3</th>\n      <td>4</td>\n      <td>0.015385</td>\n      <td>11.0</td>\n      <td>152.0</td>\n      <td>1</td>\n      <td>0.667820</td>\n      <td>1</td>\n      <td>0</td>\n      <td>0</td>\n    </tr>\n    <tr>\n      <th>4</th>\n      <td>5</td>\n      <td>0.138462</td>\n      <td>41.0</td>\n      <td>152.0</td>\n      <td>1</td>\n      <td>0.100346</td>\n      <td>1</td>\n      <td>0</td>\n      <td>0</td>\n    </tr>\n  </tbody>\n</table>\n</div>"
     },
     "metadata": {}
    }
   ],
   "execution_count": null
  },
  {
   "cell_type": "code",
   "metadata": {
    "cell_id": "07e24a18691445e590cd7e564652a889",
    "tags": [],
    "deepnote_to_be_reexecuted": false,
    "source_hash": "ac6ebbf9",
    "execution_start": 1663608571003,
    "execution_millis": 831,
    "deepnote_cell_type": "code",
    "deepnote_cell_height": 285,
    "deepnote_output_heights": [
     193
    ]
   },
   "source": "df6.dtypes",
   "outputs": [
    {
     "output_type": "execute_result",
     "execution_count": 9,
     "data": {
      "text/plain": "id                        int64\nage                     float64\nregion_code             float64\npolicy_sales_channel    float64\npreviously_insured        int64\nvintage                 float64\nvehicle_age               int64\nvehicle_damage            int64\nresponse                  int64\ndtype: object"
     },
     "metadata": {}
    }
   ],
   "execution_count": null
  },
  {
   "cell_type": "code",
   "metadata": {
    "cell_id": "4d6665a51f8449ea96e10fb1f4141049",
    "tags": [],
    "deepnote_to_be_reexecuted": false,
    "source_hash": "91924a47",
    "execution_start": 1663608571065,
    "execution_millis": 1,
    "deepnote_cell_type": "code",
    "deepnote_cell_height": 238
   },
   "source": "# train, val = train_test_split(df6,test_size=0.3,stratify=df6['response'],random_state=42)\n\n# # train dataframes\n# X_train = train.copy()\n# y_train = X_train['response']\n# X_train.drop(columns = ['response','id'],inplace=True)\n# # validation dataframes\n# x_val = val.copy()\n# y_val = val['response']\n# x_val.drop(columns = ['response','id'],inplace=True)",
   "outputs": [],
   "execution_count": null
  },
  {
   "cell_type": "markdown",
   "source": "# Fine tuning",
   "metadata": {
    "cell_id": "28e12ad781c34fdcb0d107267b8f84e3",
    "tags": [],
    "deepnote_cell_type": "markdown",
    "deepnote_cell_height": 82
   }
  },
  {
   "cell_type": "code",
   "metadata": {
    "cell_id": "dd93a604f1a44873a1a3a77915acd58d",
    "tags": [],
    "deepnote_to_be_reexecuted": false,
    "source_hash": "fc5e127c",
    "execution_start": 1663608571066,
    "execution_millis": 238,
    "deepnote_cell_type": "code",
    "deepnote_cell_height": 130
   },
   "source": "from hyperopt import tpe, Trials, hp, fmin, STATUS_OK\n\nimport warnings\nwarnings.filterwarnings('ignore')",
   "outputs": [],
   "execution_count": null
  },
  {
   "cell_type": "code",
   "metadata": {
    "cell_id": "fdbe3f4228ad41aa9268cb7c6786ec07",
    "tags": [],
    "deepnote_to_be_reexecuted": false,
    "source_hash": "8c8b2dbb",
    "execution_start": 1663608571322,
    "execution_millis": 223431,
    "deepnote_cell_type": "code",
    "deepnote_cell_height": 184
   },
   "source": "xgb_model = xgb.XGBClassifier(objective='reg:squarederror',\n                             n_estimators=100,\n                             eta=0.01,\n                             max_depth=10,\n                             subsample=0.7,\n                             colsample_bytree=0.9)\nscore = performace_cross_val(df6,'response',xgb_model,'XGB_MODEL',round_n=5,splits=5,k=20000)",
   "outputs": [],
   "execution_count": null
  },
  {
   "cell_type": "code",
   "source": "score['RECALL AT K CROSS_VAL'][0]",
   "metadata": {
    "cell_id": "a3a3199819af4c1ba4d489e062ce4d93",
    "tags": [],
    "deepnote_to_be_reexecuted": false,
    "source_hash": "68cc050f",
    "execution_start": 1663608831831,
    "execution_millis": 629,
    "deepnote_cell_type": "code",
    "deepnote_cell_height": 243,
    "deepnote_output_heights": [
     20
    ]
   },
   "outputs": [
    {
     "output_type": "execute_result",
     "execution_count": 18,
     "data": {
      "application/vnd.deepnote.dataframe.v3+json": {
       "column_count": 10,
       "row_count": 1,
       "columns": [
        {
         "name": "Model name",
         "dtype": "object",
         "stats": {
          "unique_count": 1,
          "nan_count": 0,
          "categories": [
           {
            "name": "XGB_MODEL Cross_Val",
            "count": 1
           }
          ]
         }
        },
        {
         "name": "PRECISION CROSS_VAL",
         "dtype": "float64",
         "stats": {
          "unique_count": 1,
          "nan_count": 0,
          "min": "0.53927",
          "max": "0.53927",
          "histogram": [
           {
            "bin_start": 0.03927000000000003,
            "bin_end": 0.13927000000000003,
            "count": 0
           },
           {
            "bin_start": 0.13927000000000003,
            "bin_end": 0.23927000000000004,
            "count": 0
           },
           {
            "bin_start": 0.23927000000000004,
            "bin_end": 0.33927000000000007,
            "count": 0
           },
           {
            "bin_start": 0.33927000000000007,
            "bin_end": 0.43927000000000005,
            "count": 0
           },
           {
            "bin_start": 0.43927000000000005,
            "bin_end": 0.53927,
            "count": 0
           },
           {
            "bin_start": 0.53927,
            "bin_end": 0.6392700000000001,
            "count": 1
           },
           {
            "bin_start": 0.6392700000000001,
            "bin_end": 0.7392700000000001,
            "count": 0
           },
           {
            "bin_start": 0.7392700000000001,
            "bin_end": 0.8392700000000001,
            "count": 0
           },
           {
            "bin_start": 0.8392700000000001,
            "bin_end": 0.93927,
            "count": 0
           },
           {
            "bin_start": 0.93927,
            "bin_end": 1.0392700000000001,
            "count": 0
           }
          ]
         }
        },
        {
         "name": "PRECISON STD",
         "dtype": "float64",
         "stats": {
          "unique_count": 1,
          "nan_count": 0,
          "min": "0.07536",
          "max": "0.07536",
          "histogram": [
           {
            "bin_start": -0.42464,
            "bin_end": -0.32464000000000004,
            "count": 0
           },
           {
            "bin_start": -0.32464000000000004,
            "bin_end": -0.22464,
            "count": 0
           },
           {
            "bin_start": -0.22464,
            "bin_end": -0.12463999999999997,
            "count": 0
           },
           {
            "bin_start": -0.12463999999999997,
            "bin_end": -0.024639999999999995,
            "count": 0
           },
           {
            "bin_start": -0.024639999999999995,
            "bin_end": 0.07535999999999998,
            "count": 0
           },
           {
            "bin_start": 0.07535999999999998,
            "bin_end": 0.17536000000000007,
            "count": 1
           },
           {
            "bin_start": 0.17536000000000007,
            "bin_end": 0.27536000000000005,
            "count": 0
           },
           {
            "bin_start": 0.27536000000000005,
            "bin_end": 0.37536,
            "count": 0
           },
           {
            "bin_start": 0.37536,
            "bin_end": 0.47536,
            "count": 0
           },
           {
            "bin_start": 0.47536,
            "bin_end": 0.57536,
            "count": 0
           }
          ]
         }
        },
        {
         "name": "RECALL CROSS_VAL",
         "dtype": "float64",
         "stats": {
          "unique_count": 1,
          "nan_count": 0,
          "min": "0.00118",
          "max": "0.00118",
          "histogram": [
           {
            "bin_start": -0.49882,
            "bin_end": -0.39881999999999995,
            "count": 0
           },
           {
            "bin_start": -0.39881999999999995,
            "bin_end": -0.29882,
            "count": 0
           },
           {
            "bin_start": -0.29882,
            "bin_end": -0.19881999999999994,
            "count": 0
           },
           {
            "bin_start": -0.19881999999999994,
            "bin_end": -0.09881999999999996,
            "count": 0
           },
           {
            "bin_start": -0.09881999999999996,
            "bin_end": 0.0011800000000000144,
            "count": 1
           },
           {
            "bin_start": 0.0011800000000000144,
            "bin_end": 0.1011800000000001,
            "count": 0
           },
           {
            "bin_start": 0.1011800000000001,
            "bin_end": 0.20118000000000008,
            "count": 0
           },
           {
            "bin_start": 0.20118000000000008,
            "bin_end": 0.30118000000000006,
            "count": 0
           },
           {
            "bin_start": 0.30118000000000006,
            "bin_end": 0.40118000000000004,
            "count": 0
           },
           {
            "bin_start": 0.40118000000000004,
            "bin_end": 0.50118,
            "count": 0
           }
          ]
         }
        },
        {
         "name": "RECALL STD",
         "dtype": "float64",
         "stats": {
          "unique_count": 1,
          "nan_count": 0,
          "min": "0.00032",
          "max": "0.00032",
          "histogram": [
           {
            "bin_start": -0.49968,
            "bin_end": -0.39968000000000004,
            "count": 0
           },
           {
            "bin_start": -0.39968000000000004,
            "bin_end": -0.29968,
            "count": 0
           },
           {
            "bin_start": -0.29968,
            "bin_end": -0.19967999999999997,
            "count": 0
           },
           {
            "bin_start": -0.19967999999999997,
            "bin_end": -0.09967999999999999,
            "count": 0
           },
           {
            "bin_start": -0.09967999999999999,
            "bin_end": 0.00031999999999998696,
            "count": 0
           },
           {
            "bin_start": 0.00031999999999998696,
            "bin_end": 0.10032000000000008,
            "count": 1
           },
           {
            "bin_start": 0.10032000000000008,
            "bin_end": 0.20032000000000005,
            "count": 0
           },
           {
            "bin_start": 0.20032000000000005,
            "bin_end": 0.30032000000000003,
            "count": 0
           },
           {
            "bin_start": 0.30032000000000003,
            "bin_end": 0.40032,
            "count": 0
           },
           {
            "bin_start": 0.40032,
            "bin_end": 0.50032,
            "count": 0
           }
          ]
         }
        },
        {
         "name": "K",
         "dtype": "int64",
         "stats": {
          "unique_count": 1,
          "nan_count": 0,
          "min": "20000",
          "max": "20000",
          "histogram": [
           {
            "bin_start": 19999.5,
            "bin_end": 19999.6,
            "count": 0
           },
           {
            "bin_start": 19999.6,
            "bin_end": 19999.7,
            "count": 0
           },
           {
            "bin_start": 19999.7,
            "bin_end": 19999.8,
            "count": 0
           },
           {
            "bin_start": 19999.8,
            "bin_end": 19999.9,
            "count": 0
           },
           {
            "bin_start": 19999.9,
            "bin_end": 20000,
            "count": 0
           },
           {
            "bin_start": 20000,
            "bin_end": 20000.1,
            "count": 1
           },
           {
            "bin_start": 20000.1,
            "bin_end": 20000.2,
            "count": 0
           },
           {
            "bin_start": 20000.2,
            "bin_end": 20000.3,
            "count": 0
           },
           {
            "bin_start": 20000.3,
            "bin_end": 20000.4,
            "count": 0
           },
           {
            "bin_start": 20000.4,
            "bin_end": 20000.5,
            "count": 0
           }
          ]
         }
        },
        {
         "name": "PRECISION AT K CROSS_VAL",
         "dtype": "float64",
         "stats": {
          "unique_count": 1,
          "nan_count": 0,
          "min": "0.33398",
          "max": "0.33398",
          "histogram": [
           {
            "bin_start": -0.16602,
            "bin_end": -0.06602,
            "count": 0
           },
           {
            "bin_start": -0.06602,
            "bin_end": 0.03398000000000001,
            "count": 0
           },
           {
            "bin_start": 0.03398000000000001,
            "bin_end": 0.13398000000000004,
            "count": 0
           },
           {
            "bin_start": 0.13398000000000004,
            "bin_end": 0.23398000000000002,
            "count": 0
           },
           {
            "bin_start": 0.23398000000000002,
            "bin_end": 0.33398,
            "count": 0
           },
           {
            "bin_start": 0.33398,
            "bin_end": 0.4339800000000001,
            "count": 1
           },
           {
            "bin_start": 0.4339800000000001,
            "bin_end": 0.5339800000000001,
            "count": 0
           },
           {
            "bin_start": 0.5339800000000001,
            "bin_end": 0.63398,
            "count": 0
           },
           {
            "bin_start": 0.63398,
            "bin_end": 0.7339800000000001,
            "count": 0
           },
           {
            "bin_start": 0.7339800000000001,
            "bin_end": 0.8339799999999999,
            "count": 0
           }
          ]
         }
        },
        {
         "name": "PRECISION AT K STD",
         "dtype": "float64",
         "stats": {
          "unique_count": 1,
          "nan_count": 0,
          "min": "0.00175",
          "max": "0.00175",
          "histogram": [
           {
            "bin_start": -0.49825,
            "bin_end": -0.39825,
            "count": 0
           },
           {
            "bin_start": -0.39825,
            "bin_end": -0.29825,
            "count": 0
           },
           {
            "bin_start": -0.29825,
            "bin_end": -0.19824999999999998,
            "count": 0
           },
           {
            "bin_start": -0.19824999999999998,
            "bin_end": -0.09825,
            "count": 0
           },
           {
            "bin_start": -0.09825,
            "bin_end": 0.0017499999999999738,
            "count": 0
           },
           {
            "bin_start": 0.0017499999999999738,
            "bin_end": 0.10175000000000006,
            "count": 1
           },
           {
            "bin_start": 0.10175000000000006,
            "bin_end": 0.20175000000000004,
            "count": 0
           },
           {
            "bin_start": 0.20175000000000004,
            "bin_end": 0.30175,
            "count": 0
           },
           {
            "bin_start": 0.30175,
            "bin_end": 0.40175,
            "count": 0
           },
           {
            "bin_start": 0.40175,
            "bin_end": 0.50175,
            "count": 0
           }
          ]
         }
        },
        {
         "name": "RECALL AT K CROSS_VAL",
         "dtype": "float64",
         "stats": {
          "unique_count": 1,
          "nan_count": 0,
          "min": "0.71505",
          "max": "0.71505",
          "histogram": [
           {
            "bin_start": 0.21504999999999996,
            "bin_end": 0.31504999999999994,
            "count": 0
           },
           {
            "bin_start": 0.31504999999999994,
            "bin_end": 0.41505,
            "count": 0
           },
           {
            "bin_start": 0.41505,
            "bin_end": 0.51505,
            "count": 0
           },
           {
            "bin_start": 0.51505,
            "bin_end": 0.61505,
            "count": 0
           },
           {
            "bin_start": 0.61505,
            "bin_end": 0.71505,
            "count": 0
           },
           {
            "bin_start": 0.71505,
            "bin_end": 0.81505,
            "count": 1
           },
           {
            "bin_start": 0.81505,
            "bin_end": 0.91505,
            "count": 0
           },
           {
            "bin_start": 0.91505,
            "bin_end": 1.01505,
            "count": 0
           },
           {
            "bin_start": 1.01505,
            "bin_end": 1.11505,
            "count": 0
           },
           {
            "bin_start": 1.11505,
            "bin_end": 1.21505,
            "count": 0
           }
          ]
         }
        },
        {
         "name": "RECALL AT K STD",
         "dtype": "float64",
         "stats": {
          "unique_count": 1,
          "nan_count": 0,
          "min": "0.0",
          "max": "0.0",
          "histogram": [
           {
            "bin_start": -0.5,
            "bin_end": -0.4,
            "count": 0
           },
           {
            "bin_start": -0.4,
            "bin_end": -0.3,
            "count": 0
           },
           {
            "bin_start": -0.3,
            "bin_end": -0.19999999999999996,
            "count": 0
           },
           {
            "bin_start": -0.19999999999999996,
            "bin_end": -0.09999999999999998,
            "count": 0
           },
           {
            "bin_start": -0.09999999999999998,
            "bin_end": 0,
            "count": 0
           },
           {
            "bin_start": 0,
            "bin_end": 0.10000000000000009,
            "count": 1
           },
           {
            "bin_start": 0.10000000000000009,
            "bin_end": 0.20000000000000007,
            "count": 0
           },
           {
            "bin_start": 0.20000000000000007,
            "bin_end": 0.30000000000000004,
            "count": 0
           },
           {
            "bin_start": 0.30000000000000004,
            "bin_end": 0.4,
            "count": 0
           },
           {
            "bin_start": 0.4,
            "bin_end": 0.5,
            "count": 0
           }
          ]
         }
        },
        {
         "name": "_deepnote_index_column",
         "dtype": "int64"
        }
       ],
       "rows": [
        {
         "Model name": "XGB_MODEL Cross_Val",
         "PRECISION CROSS_VAL": "0.53927",
         "PRECISON STD": "0.07536",
         "RECALL CROSS_VAL": "0.00118",
         "RECALL STD": "0.00032",
         "K": "20000",
         "PRECISION AT K CROSS_VAL": "0.33398",
         "PRECISION AT K STD": "0.00175",
         "RECALL AT K CROSS_VAL": "0.71505",
         "RECALL AT K STD": "0.0",
         "_deepnote_index_column": "0"
        }
       ]
      },
      "text/plain": "            Model name  PRECISION CROSS_VAL  PRECISON STD  RECALL CROSS_VAL  \\\n0  XGB_MODEL Cross_Val              0.53927       0.07536           0.00118   \n\n   RECALL STD      K  PRECISION AT K CROSS_VAL  PRECISION AT K STD  \\\n0     0.00032  20000                   0.33398             0.00175   \n\n   RECALL AT K CROSS_VAL  RECALL AT K STD  \n0                0.71505              0.0  ",
      "text/html": "<div>\n<style scoped>\n    .dataframe tbody tr th:only-of-type {\n        vertical-align: middle;\n    }\n\n    .dataframe tbody tr th {\n        vertical-align: top;\n    }\n\n    .dataframe thead th {\n        text-align: right;\n    }\n</style>\n<table border=\"1\" class=\"dataframe\">\n  <thead>\n    <tr style=\"text-align: right;\">\n      <th></th>\n      <th>Model name</th>\n      <th>PRECISION CROSS_VAL</th>\n      <th>PRECISON STD</th>\n      <th>RECALL CROSS_VAL</th>\n      <th>RECALL STD</th>\n      <th>K</th>\n      <th>PRECISION AT K CROSS_VAL</th>\n      <th>PRECISION AT K STD</th>\n      <th>RECALL AT K CROSS_VAL</th>\n      <th>RECALL AT K STD</th>\n    </tr>\n  </thead>\n  <tbody>\n    <tr>\n      <th>0</th>\n      <td>XGB_MODEL Cross_Val</td>\n      <td>0.53927</td>\n      <td>0.07536</td>\n      <td>0.00118</td>\n      <td>0.00032</td>\n      <td>20000</td>\n      <td>0.33398</td>\n      <td>0.00175</td>\n      <td>0.71505</td>\n      <td>0.0</td>\n    </tr>\n  </tbody>\n</table>\n</div>"
     },
     "metadata": {}
    }
   ],
   "execution_count": null
  },
  {
   "cell_type": "code",
   "source": "space={'max_depth': hp.quniform(\"max_depth\", 3, 18, 1),\n        'gamma': hp.uniform ('gamma', 1,9),\n        'reg_alpha' : hp.quniform('reg_alpha', 40,180,1),\n        'reg_lambda' : hp.uniform('reg_lambda', 0,1),\n        'colsample_bytree' : hp.uniform('colsample_bytree', 0.5,1),\n        'min_child_weight' : hp.quniform('min_child_weight', 0, 10, 1),\n        'n_estimators': hp.choice('n_estimators',np.arange(300,1000+1,100)),\n        'seed': 42\n    }\n",
   "metadata": {
    "cell_id": "064d04bd8b1c41e581a63d1ae08bae4d",
    "tags": [],
    "deepnote_to_be_reexecuted": false,
    "source_hash": "82f1f150",
    "execution_start": 1663609447245,
    "execution_millis": 2,
    "deepnote_cell_type": "code",
    "deepnote_cell_height": 238
   },
   "outputs": [],
   "execution_count": null
  },
  {
   "cell_type": "code",
   "source": "",
   "metadata": {
    "cell_id": "baa0b152b86b4886bbab14735edd572c",
    "tags": [],
    "deepnote_to_be_reexecuted": false,
    "source_hash": "7ad6341e",
    "execution_start": 1663609191439,
    "execution_millis": 396684,
    "deepnote_cell_type": "code",
    "deepnote_cell_height": 76
   },
   "outputs": [],
   "execution_count": null
  },
  {
   "cell_type": "code",
   "source": "def objective_function(space):\n    xgb_model = xgb.XGBClassifier(n_estimators =700,\n                                  max_depth = int(space['max_depth']), \n                                  gamma = space['gamma'],\n                                  reg_alpha = int(space['reg_alpha']),\n                                  min_child_weight=int(space['min_child_weight']),\n                                  colsample_bytree=int(space['colsample_bytree']))      \n    score = performace_cross_val(df6,'response',xgb_model,'XGB_MODEL',round_n=5,splits=4,k=20000)\n    print(score['RECALL AT K CROSS_VAL'][0])\n    return {'loss': -score['RECALL AT K CROSS_VAL'][0],'status':STATUS_OK}",
   "metadata": {
    "cell_id": "1739659412fb41edb5a65a804c1265d3",
    "tags": [],
    "deepnote_to_be_reexecuted": false,
    "source_hash": "e8b3f87f",
    "execution_start": 1663610217614,
    "execution_millis": 1,
    "deepnote_cell_type": "code",
    "deepnote_cell_height": 238,
    "deepnote_output_heights": [
     78
    ]
   },
   "outputs": [],
   "execution_count": null
  },
  {
   "cell_type": "code",
   "metadata": {
    "cell_id": "3f1b5320f3f14572a618baf831018a15",
    "tags": [],
    "deepnote_to_be_reexecuted": false,
    "source_hash": "2a8904c",
    "execution_start": 1663610220093,
    "execution_millis": 699,
    "deepnote_cell_type": "code",
    "deepnote_cell_height": 175.1999969482422
   },
   "source": "tpe_algorithm = tpe.suggest\ntrials = Trials()\nnum_eval = 1",
   "outputs": [
    {
     "output_type": "error",
     "ename": "NameError",
     "evalue": "name 'tpe' is not defined",
     "traceback": [
      "\u001b[0;31m---------------------------------------------------------------------------\u001b[0m",
      "\u001b[0;31mNameError\u001b[0m                                 Traceback (most recent call last)",
      "Cell \u001b[0;32mIn [2], line 1\u001b[0m\n\u001b[0;32m----> 1\u001b[0m tpe_algorithm \u001b[38;5;241m=\u001b[39m \u001b[43mtpe\u001b[49m\u001b[38;5;241m.\u001b[39msuggest\n\u001b[1;32m      2\u001b[0m trials \u001b[38;5;241m=\u001b[39m Trials()\n\u001b[1;32m      3\u001b[0m num_eval \u001b[38;5;241m=\u001b[39m \u001b[38;5;241m1\u001b[39m\n",
      "\u001b[0;31mNameError\u001b[0m: name 'tpe' is not defined"
     ]
    }
   ],
   "execution_count": null
  },
  {
   "cell_type": "code",
   "metadata": {
    "cell_id": "4701cf24eb7e4ddca163906ae54c1e30",
    "tags": [],
    "deepnote_to_be_reexecuted": false,
    "source_hash": "4a3f5add",
    "execution_start": 1663610095866,
    "execution_millis": 56636,
    "deepnote_cell_type": "code",
    "deepnote_cell_height": 203.39999389648438
   },
   "source": "best_paramns = fmin(fn=objective_function,space=space,algo=tpe_algorithm,max_evals=num_eval,\n                    trials=trials)",
   "outputs": [
    {
     "name": "stdout",
     "text": "  0%|          | 0/1 [00:54<?, ?trial/s, best loss=?]\n",
     "output_type": "stream"
    },
    {
     "output_type": "error",
     "ename": "KeyboardInterrupt",
     "evalue": "",
     "traceback": [
      "\u001b[0;31m---------------------------------------------------------------------------\u001b[0m",
      "\u001b[0;31mKeyboardInterrupt\u001b[0m                         Traceback (most recent call last)",
      "Cell \u001b[0;32mIn [54], line 1\u001b[0m\n\u001b[0;32m----> 1\u001b[0m best_paramns \u001b[38;5;241m=\u001b[39m \u001b[43mfmin\u001b[49m\u001b[43m(\u001b[49m\u001b[43mfn\u001b[49m\u001b[38;5;241;43m=\u001b[39;49m\u001b[43mobjective_function\u001b[49m\u001b[43m,\u001b[49m\u001b[43mspace\u001b[49m\u001b[38;5;241;43m=\u001b[39;49m\u001b[43mspace\u001b[49m\u001b[43m,\u001b[49m\u001b[43malgo\u001b[49m\u001b[38;5;241;43m=\u001b[39;49m\u001b[43mtpe_algorithm\u001b[49m\u001b[43m,\u001b[49m\u001b[43mmax_evals\u001b[49m\u001b[38;5;241;43m=\u001b[39;49m\u001b[43mnum_eval\u001b[49m\u001b[43m,\u001b[49m\n\u001b[1;32m      2\u001b[0m \u001b[43m                    \u001b[49m\u001b[43mtrials\u001b[49m\u001b[38;5;241;43m=\u001b[39;49m\u001b[43mtrials\u001b[49m\u001b[43m)\u001b[49m\n",
      "File \u001b[0;32m~/venv/lib/python3.9/site-packages/hyperopt/fmin.py:540\u001b[0m, in \u001b[0;36mfmin\u001b[0;34m(fn, space, algo, max_evals, timeout, loss_threshold, trials, rstate, allow_trials_fmin, pass_expr_memo_ctrl, catch_eval_exceptions, verbose, return_argmin, points_to_evaluate, max_queue_len, show_progressbar, early_stop_fn, trials_save_file)\u001b[0m\n\u001b[1;32m    537\u001b[0m     fn \u001b[38;5;241m=\u001b[39m __objective_fmin_wrapper(fn)\n\u001b[1;32m    539\u001b[0m \u001b[38;5;28;01mif\u001b[39;00m allow_trials_fmin \u001b[38;5;129;01mand\u001b[39;00m \u001b[38;5;28mhasattr\u001b[39m(trials, \u001b[38;5;124m\"\u001b[39m\u001b[38;5;124mfmin\u001b[39m\u001b[38;5;124m\"\u001b[39m):\n\u001b[0;32m--> 540\u001b[0m     \u001b[38;5;28;01mreturn\u001b[39;00m \u001b[43mtrials\u001b[49m\u001b[38;5;241;43m.\u001b[39;49m\u001b[43mfmin\u001b[49m\u001b[43m(\u001b[49m\n\u001b[1;32m    541\u001b[0m \u001b[43m        \u001b[49m\u001b[43mfn\u001b[49m\u001b[43m,\u001b[49m\n\u001b[1;32m    542\u001b[0m \u001b[43m        \u001b[49m\u001b[43mspace\u001b[49m\u001b[43m,\u001b[49m\n\u001b[1;32m    543\u001b[0m \u001b[43m        \u001b[49m\u001b[43malgo\u001b[49m\u001b[38;5;241;43m=\u001b[39;49m\u001b[43malgo\u001b[49m\u001b[43m,\u001b[49m\n\u001b[1;32m    544\u001b[0m \u001b[43m        \u001b[49m\u001b[43mmax_evals\u001b[49m\u001b[38;5;241;43m=\u001b[39;49m\u001b[43mmax_evals\u001b[49m\u001b[43m,\u001b[49m\n\u001b[1;32m    545\u001b[0m \u001b[43m        \u001b[49m\u001b[43mtimeout\u001b[49m\u001b[38;5;241;43m=\u001b[39;49m\u001b[43mtimeout\u001b[49m\u001b[43m,\u001b[49m\n\u001b[1;32m    546\u001b[0m \u001b[43m        \u001b[49m\u001b[43mloss_threshold\u001b[49m\u001b[38;5;241;43m=\u001b[39;49m\u001b[43mloss_threshold\u001b[49m\u001b[43m,\u001b[49m\n\u001b[1;32m    547\u001b[0m \u001b[43m        \u001b[49m\u001b[43mmax_queue_len\u001b[49m\u001b[38;5;241;43m=\u001b[39;49m\u001b[43mmax_queue_len\u001b[49m\u001b[43m,\u001b[49m\n\u001b[1;32m    548\u001b[0m \u001b[43m        \u001b[49m\u001b[43mrstate\u001b[49m\u001b[38;5;241;43m=\u001b[39;49m\u001b[43mrstate\u001b[49m\u001b[43m,\u001b[49m\n\u001b[1;32m    549\u001b[0m \u001b[43m        \u001b[49m\u001b[43mpass_expr_memo_ctrl\u001b[49m\u001b[38;5;241;43m=\u001b[39;49m\u001b[43mpass_expr_memo_ctrl\u001b[49m\u001b[43m,\u001b[49m\n\u001b[1;32m    550\u001b[0m \u001b[43m        \u001b[49m\u001b[43mverbose\u001b[49m\u001b[38;5;241;43m=\u001b[39;49m\u001b[43mverbose\u001b[49m\u001b[43m,\u001b[49m\n\u001b[1;32m    551\u001b[0m \u001b[43m        \u001b[49m\u001b[43mcatch_eval_exceptions\u001b[49m\u001b[38;5;241;43m=\u001b[39;49m\u001b[43mcatch_eval_exceptions\u001b[49m\u001b[43m,\u001b[49m\n\u001b[1;32m    552\u001b[0m \u001b[43m        \u001b[49m\u001b[43mreturn_argmin\u001b[49m\u001b[38;5;241;43m=\u001b[39;49m\u001b[43mreturn_argmin\u001b[49m\u001b[43m,\u001b[49m\n\u001b[1;32m    553\u001b[0m \u001b[43m        \u001b[49m\u001b[43mshow_progressbar\u001b[49m\u001b[38;5;241;43m=\u001b[39;49m\u001b[43mshow_progressbar\u001b[49m\u001b[43m,\u001b[49m\n\u001b[1;32m    554\u001b[0m \u001b[43m        \u001b[49m\u001b[43mearly_stop_fn\u001b[49m\u001b[38;5;241;43m=\u001b[39;49m\u001b[43mearly_stop_fn\u001b[49m\u001b[43m,\u001b[49m\n\u001b[1;32m    555\u001b[0m \u001b[43m        \u001b[49m\u001b[43mtrials_save_file\u001b[49m\u001b[38;5;241;43m=\u001b[39;49m\u001b[43mtrials_save_file\u001b[49m\u001b[43m,\u001b[49m\n\u001b[1;32m    556\u001b[0m \u001b[43m    \u001b[49m\u001b[43m)\u001b[49m\n\u001b[1;32m    558\u001b[0m \u001b[38;5;28;01mif\u001b[39;00m trials \u001b[38;5;129;01mis\u001b[39;00m \u001b[38;5;28;01mNone\u001b[39;00m:\n\u001b[1;32m    559\u001b[0m     \u001b[38;5;28;01mif\u001b[39;00m os\u001b[38;5;241m.\u001b[39mpath\u001b[38;5;241m.\u001b[39mexists(trials_save_file):\n",
      "File \u001b[0;32m~/venv/lib/python3.9/site-packages/hyperopt/base.py:671\u001b[0m, in \u001b[0;36mTrials.fmin\u001b[0;34m(self, fn, space, algo, max_evals, timeout, loss_threshold, max_queue_len, rstate, verbose, pass_expr_memo_ctrl, catch_eval_exceptions, return_argmin, show_progressbar, early_stop_fn, trials_save_file)\u001b[0m\n\u001b[1;32m    666\u001b[0m \u001b[38;5;66;03m# -- Stop-gap implementation!\u001b[39;00m\n\u001b[1;32m    667\u001b[0m \u001b[38;5;66;03m#    fmin should have been a Trials method in the first place\u001b[39;00m\n\u001b[1;32m    668\u001b[0m \u001b[38;5;66;03m#    but for now it's still sitting in another file.\u001b[39;00m\n\u001b[1;32m    669\u001b[0m \u001b[38;5;28;01mfrom\u001b[39;00m \u001b[38;5;21;01m.\u001b[39;00m\u001b[38;5;21;01mfmin\u001b[39;00m \u001b[38;5;28;01mimport\u001b[39;00m fmin\n\u001b[0;32m--> 671\u001b[0m \u001b[38;5;28;01mreturn\u001b[39;00m \u001b[43mfmin\u001b[49m\u001b[43m(\u001b[49m\n\u001b[1;32m    672\u001b[0m \u001b[43m    \u001b[49m\u001b[43mfn\u001b[49m\u001b[43m,\u001b[49m\n\u001b[1;32m    673\u001b[0m \u001b[43m    \u001b[49m\u001b[43mspace\u001b[49m\u001b[43m,\u001b[49m\n\u001b[1;32m    674\u001b[0m \u001b[43m    \u001b[49m\u001b[43malgo\u001b[49m\u001b[38;5;241;43m=\u001b[39;49m\u001b[43malgo\u001b[49m\u001b[43m,\u001b[49m\n\u001b[1;32m    675\u001b[0m \u001b[43m    \u001b[49m\u001b[43mmax_evals\u001b[49m\u001b[38;5;241;43m=\u001b[39;49m\u001b[43mmax_evals\u001b[49m\u001b[43m,\u001b[49m\n\u001b[1;32m    676\u001b[0m \u001b[43m    \u001b[49m\u001b[43mtimeout\u001b[49m\u001b[38;5;241;43m=\u001b[39;49m\u001b[43mtimeout\u001b[49m\u001b[43m,\u001b[49m\n\u001b[1;32m    677\u001b[0m \u001b[43m    \u001b[49m\u001b[43mloss_threshold\u001b[49m\u001b[38;5;241;43m=\u001b[39;49m\u001b[43mloss_threshold\u001b[49m\u001b[43m,\u001b[49m\n\u001b[1;32m    678\u001b[0m \u001b[43m    \u001b[49m\u001b[43mtrials\u001b[49m\u001b[38;5;241;43m=\u001b[39;49m\u001b[38;5;28;43mself\u001b[39;49m\u001b[43m,\u001b[49m\n\u001b[1;32m    679\u001b[0m \u001b[43m    \u001b[49m\u001b[43mrstate\u001b[49m\u001b[38;5;241;43m=\u001b[39;49m\u001b[43mrstate\u001b[49m\u001b[43m,\u001b[49m\n\u001b[1;32m    680\u001b[0m \u001b[43m    \u001b[49m\u001b[43mverbose\u001b[49m\u001b[38;5;241;43m=\u001b[39;49m\u001b[43mverbose\u001b[49m\u001b[43m,\u001b[49m\n\u001b[1;32m    681\u001b[0m \u001b[43m    \u001b[49m\u001b[43mmax_queue_len\u001b[49m\u001b[38;5;241;43m=\u001b[39;49m\u001b[43mmax_queue_len\u001b[49m\u001b[43m,\u001b[49m\n\u001b[1;32m    682\u001b[0m \u001b[43m    \u001b[49m\u001b[43mallow_trials_fmin\u001b[49m\u001b[38;5;241;43m=\u001b[39;49m\u001b[38;5;28;43;01mFalse\u001b[39;49;00m\u001b[43m,\u001b[49m\u001b[43m  \u001b[49m\u001b[38;5;66;43;03m# -- prevent recursion\u001b[39;49;00m\n\u001b[1;32m    683\u001b[0m \u001b[43m    \u001b[49m\u001b[43mpass_expr_memo_ctrl\u001b[49m\u001b[38;5;241;43m=\u001b[39;49m\u001b[43mpass_expr_memo_ctrl\u001b[49m\u001b[43m,\u001b[49m\n\u001b[1;32m    684\u001b[0m \u001b[43m    \u001b[49m\u001b[43mcatch_eval_exceptions\u001b[49m\u001b[38;5;241;43m=\u001b[39;49m\u001b[43mcatch_eval_exceptions\u001b[49m\u001b[43m,\u001b[49m\n\u001b[1;32m    685\u001b[0m \u001b[43m    \u001b[49m\u001b[43mreturn_argmin\u001b[49m\u001b[38;5;241;43m=\u001b[39;49m\u001b[43mreturn_argmin\u001b[49m\u001b[43m,\u001b[49m\n\u001b[1;32m    686\u001b[0m \u001b[43m    \u001b[49m\u001b[43mshow_progressbar\u001b[49m\u001b[38;5;241;43m=\u001b[39;49m\u001b[43mshow_progressbar\u001b[49m\u001b[43m,\u001b[49m\n\u001b[1;32m    687\u001b[0m \u001b[43m    \u001b[49m\u001b[43mearly_stop_fn\u001b[49m\u001b[38;5;241;43m=\u001b[39;49m\u001b[43mearly_stop_fn\u001b[49m\u001b[43m,\u001b[49m\n\u001b[1;32m    688\u001b[0m \u001b[43m    \u001b[49m\u001b[43mtrials_save_file\u001b[49m\u001b[38;5;241;43m=\u001b[39;49m\u001b[43mtrials_save_file\u001b[49m\u001b[43m,\u001b[49m\n\u001b[1;32m    689\u001b[0m \u001b[43m\u001b[49m\u001b[43m)\u001b[49m\n",
      "File \u001b[0;32m~/venv/lib/python3.9/site-packages/hyperopt/fmin.py:586\u001b[0m, in \u001b[0;36mfmin\u001b[0;34m(fn, space, algo, max_evals, timeout, loss_threshold, trials, rstate, allow_trials_fmin, pass_expr_memo_ctrl, catch_eval_exceptions, verbose, return_argmin, points_to_evaluate, max_queue_len, show_progressbar, early_stop_fn, trials_save_file)\u001b[0m\n\u001b[1;32m    583\u001b[0m rval\u001b[38;5;241m.\u001b[39mcatch_eval_exceptions \u001b[38;5;241m=\u001b[39m catch_eval_exceptions\n\u001b[1;32m    585\u001b[0m \u001b[38;5;66;03m# next line is where the fmin is actually executed\u001b[39;00m\n\u001b[0;32m--> 586\u001b[0m \u001b[43mrval\u001b[49m\u001b[38;5;241;43m.\u001b[39;49m\u001b[43mexhaust\u001b[49m\u001b[43m(\u001b[49m\u001b[43m)\u001b[49m\n\u001b[1;32m    588\u001b[0m \u001b[38;5;28;01mif\u001b[39;00m return_argmin:\n\u001b[1;32m    589\u001b[0m     \u001b[38;5;28;01mif\u001b[39;00m \u001b[38;5;28mlen\u001b[39m(trials\u001b[38;5;241m.\u001b[39mtrials) \u001b[38;5;241m==\u001b[39m \u001b[38;5;241m0\u001b[39m:\n",
      "File \u001b[0;32m~/venv/lib/python3.9/site-packages/hyperopt/fmin.py:364\u001b[0m, in \u001b[0;36mFMinIter.exhaust\u001b[0;34m(self)\u001b[0m\n\u001b[1;32m    362\u001b[0m \u001b[38;5;28;01mdef\u001b[39;00m \u001b[38;5;21mexhaust\u001b[39m(\u001b[38;5;28mself\u001b[39m):\n\u001b[1;32m    363\u001b[0m     n_done \u001b[38;5;241m=\u001b[39m \u001b[38;5;28mlen\u001b[39m(\u001b[38;5;28mself\u001b[39m\u001b[38;5;241m.\u001b[39mtrials)\n\u001b[0;32m--> 364\u001b[0m     \u001b[38;5;28;43mself\u001b[39;49m\u001b[38;5;241;43m.\u001b[39;49m\u001b[43mrun\u001b[49m\u001b[43m(\u001b[49m\u001b[38;5;28;43mself\u001b[39;49m\u001b[38;5;241;43m.\u001b[39;49m\u001b[43mmax_evals\u001b[49m\u001b[43m \u001b[49m\u001b[38;5;241;43m-\u001b[39;49m\u001b[43m \u001b[49m\u001b[43mn_done\u001b[49m\u001b[43m,\u001b[49m\u001b[43m \u001b[49m\u001b[43mblock_until_done\u001b[49m\u001b[38;5;241;43m=\u001b[39;49m\u001b[38;5;28;43mself\u001b[39;49m\u001b[38;5;241;43m.\u001b[39;49m\u001b[43masynchronous\u001b[49m\u001b[43m)\u001b[49m\n\u001b[1;32m    365\u001b[0m     \u001b[38;5;28mself\u001b[39m\u001b[38;5;241m.\u001b[39mtrials\u001b[38;5;241m.\u001b[39mrefresh()\n\u001b[1;32m    366\u001b[0m     \u001b[38;5;28;01mreturn\u001b[39;00m \u001b[38;5;28mself\u001b[39m\n",
      "File \u001b[0;32m~/venv/lib/python3.9/site-packages/hyperopt/fmin.py:300\u001b[0m, in \u001b[0;36mFMinIter.run\u001b[0;34m(self, N, block_until_done)\u001b[0m\n\u001b[1;32m    297\u001b[0m     time\u001b[38;5;241m.\u001b[39msleep(\u001b[38;5;28mself\u001b[39m\u001b[38;5;241m.\u001b[39mpoll_interval_secs)\n\u001b[1;32m    298\u001b[0m \u001b[38;5;28;01melse\u001b[39;00m:\n\u001b[1;32m    299\u001b[0m     \u001b[38;5;66;03m# -- loop over trials and do the jobs directly\u001b[39;00m\n\u001b[0;32m--> 300\u001b[0m     \u001b[38;5;28;43mself\u001b[39;49m\u001b[38;5;241;43m.\u001b[39;49m\u001b[43mserial_evaluate\u001b[49m\u001b[43m(\u001b[49m\u001b[43m)\u001b[49m\n\u001b[1;32m    302\u001b[0m \u001b[38;5;28mself\u001b[39m\u001b[38;5;241m.\u001b[39mtrials\u001b[38;5;241m.\u001b[39mrefresh()\n\u001b[1;32m    303\u001b[0m \u001b[38;5;28;01mif\u001b[39;00m \u001b[38;5;28mself\u001b[39m\u001b[38;5;241m.\u001b[39mtrials_save_file \u001b[38;5;241m!=\u001b[39m \u001b[38;5;124m\"\u001b[39m\u001b[38;5;124m\"\u001b[39m:\n",
      "File \u001b[0;32m~/venv/lib/python3.9/site-packages/hyperopt/fmin.py:178\u001b[0m, in \u001b[0;36mFMinIter.serial_evaluate\u001b[0;34m(self, N)\u001b[0m\n\u001b[1;32m    176\u001b[0m ctrl \u001b[38;5;241m=\u001b[39m base\u001b[38;5;241m.\u001b[39mCtrl(\u001b[38;5;28mself\u001b[39m\u001b[38;5;241m.\u001b[39mtrials, current_trial\u001b[38;5;241m=\u001b[39mtrial)\n\u001b[1;32m    177\u001b[0m \u001b[38;5;28;01mtry\u001b[39;00m:\n\u001b[0;32m--> 178\u001b[0m     result \u001b[38;5;241m=\u001b[39m \u001b[38;5;28;43mself\u001b[39;49m\u001b[38;5;241;43m.\u001b[39;49m\u001b[43mdomain\u001b[49m\u001b[38;5;241;43m.\u001b[39;49m\u001b[43mevaluate\u001b[49m\u001b[43m(\u001b[49m\u001b[43mspec\u001b[49m\u001b[43m,\u001b[49m\u001b[43m \u001b[49m\u001b[43mctrl\u001b[49m\u001b[43m)\u001b[49m\n\u001b[1;32m    179\u001b[0m \u001b[38;5;28;01mexcept\u001b[39;00m \u001b[38;5;167;01mException\u001b[39;00m \u001b[38;5;28;01mas\u001b[39;00m e:\n\u001b[1;32m    180\u001b[0m     logger\u001b[38;5;241m.\u001b[39merror(\u001b[38;5;124m\"\u001b[39m\u001b[38;5;124mjob exception: \u001b[39m\u001b[38;5;132;01m%s\u001b[39;00m\u001b[38;5;124m\"\u001b[39m \u001b[38;5;241m%\u001b[39m \u001b[38;5;28mstr\u001b[39m(e))\n",
      "File \u001b[0;32m~/venv/lib/python3.9/site-packages/hyperopt/base.py:892\u001b[0m, in \u001b[0;36mDomain.evaluate\u001b[0;34m(self, config, ctrl, attach_attachments)\u001b[0m\n\u001b[1;32m    883\u001b[0m \u001b[38;5;28;01melse\u001b[39;00m:\n\u001b[1;32m    884\u001b[0m     \u001b[38;5;66;03m# -- the \"work\" of evaluating `config` can be written\u001b[39;00m\n\u001b[1;32m    885\u001b[0m     \u001b[38;5;66;03m#    either into the pyll part (self.expr)\u001b[39;00m\n\u001b[1;32m    886\u001b[0m     \u001b[38;5;66;03m#    or the normal Python part (self.fn)\u001b[39;00m\n\u001b[1;32m    887\u001b[0m     pyll_rval \u001b[38;5;241m=\u001b[39m pyll\u001b[38;5;241m.\u001b[39mrec_eval(\n\u001b[1;32m    888\u001b[0m         \u001b[38;5;28mself\u001b[39m\u001b[38;5;241m.\u001b[39mexpr,\n\u001b[1;32m    889\u001b[0m         memo\u001b[38;5;241m=\u001b[39mmemo,\n\u001b[1;32m    890\u001b[0m         print_node_on_error\u001b[38;5;241m=\u001b[39m\u001b[38;5;28mself\u001b[39m\u001b[38;5;241m.\u001b[39mrec_eval_print_node_on_error,\n\u001b[1;32m    891\u001b[0m     )\n\u001b[0;32m--> 892\u001b[0m     rval \u001b[38;5;241m=\u001b[39m \u001b[38;5;28;43mself\u001b[39;49m\u001b[38;5;241;43m.\u001b[39;49m\u001b[43mfn\u001b[49m\u001b[43m(\u001b[49m\u001b[43mpyll_rval\u001b[49m\u001b[43m)\u001b[49m\n\u001b[1;32m    894\u001b[0m \u001b[38;5;28;01mif\u001b[39;00m \u001b[38;5;28misinstance\u001b[39m(rval, (\u001b[38;5;28mfloat\u001b[39m, \u001b[38;5;28mint\u001b[39m, np\u001b[38;5;241m.\u001b[39mnumber)):\n\u001b[1;32m    895\u001b[0m     dict_rval \u001b[38;5;241m=\u001b[39m {\u001b[38;5;124m\"\u001b[39m\u001b[38;5;124mloss\u001b[39m\u001b[38;5;124m\"\u001b[39m: \u001b[38;5;28mfloat\u001b[39m(rval), \u001b[38;5;124m\"\u001b[39m\u001b[38;5;124mstatus\u001b[39m\u001b[38;5;124m\"\u001b[39m: STATUS_OK}\n",
      "Cell \u001b[0;32mIn [52], line 8\u001b[0m, in \u001b[0;36mobjective_function\u001b[0;34m(space)\u001b[0m\n\u001b[1;32m      1\u001b[0m \u001b[38;5;28;01mdef\u001b[39;00m \u001b[38;5;21mobjective_function\u001b[39m(space):\n\u001b[1;32m      2\u001b[0m     xgb_model \u001b[38;5;241m=\u001b[39m xgb\u001b[38;5;241m.\u001b[39mXGBClassifier(n_estimators \u001b[38;5;241m=\u001b[39m\u001b[38;5;241m700\u001b[39m,\n\u001b[1;32m      3\u001b[0m                                   max_depth \u001b[38;5;241m=\u001b[39m \u001b[38;5;28mint\u001b[39m(space[\u001b[38;5;124m'\u001b[39m\u001b[38;5;124mmax_depth\u001b[39m\u001b[38;5;124m'\u001b[39m]), \n\u001b[1;32m      4\u001b[0m                                   gamma \u001b[38;5;241m=\u001b[39m space[\u001b[38;5;124m'\u001b[39m\u001b[38;5;124mgamma\u001b[39m\u001b[38;5;124m'\u001b[39m],\n\u001b[1;32m      5\u001b[0m                                   reg_alpha \u001b[38;5;241m=\u001b[39m \u001b[38;5;28mint\u001b[39m(space[\u001b[38;5;124m'\u001b[39m\u001b[38;5;124mreg_alpha\u001b[39m\u001b[38;5;124m'\u001b[39m]),\n\u001b[1;32m      6\u001b[0m                                   min_child_weight\u001b[38;5;241m=\u001b[39m\u001b[38;5;28mint\u001b[39m(space[\u001b[38;5;124m'\u001b[39m\u001b[38;5;124mmin_child_weight\u001b[39m\u001b[38;5;124m'\u001b[39m]),\n\u001b[1;32m      7\u001b[0m                                   colsample_bytree\u001b[38;5;241m=\u001b[39m\u001b[38;5;28mint\u001b[39m(space[\u001b[38;5;124m'\u001b[39m\u001b[38;5;124mcolsample_bytree\u001b[39m\u001b[38;5;124m'\u001b[39m]))      \n\u001b[0;32m----> 8\u001b[0m     score \u001b[38;5;241m=\u001b[39m \u001b[43mperformace_cross_val\u001b[49m\u001b[43m(\u001b[49m\u001b[43mdf6\u001b[49m\u001b[43m,\u001b[49m\u001b[38;5;124;43m'\u001b[39;49m\u001b[38;5;124;43mresponse\u001b[39;49m\u001b[38;5;124;43m'\u001b[39;49m\u001b[43m,\u001b[49m\u001b[43mxgb_model\u001b[49m\u001b[43m,\u001b[49m\u001b[38;5;124;43m'\u001b[39;49m\u001b[38;5;124;43mXGB_MODEL\u001b[39;49m\u001b[38;5;124;43m'\u001b[39;49m\u001b[43m,\u001b[49m\u001b[43mround_n\u001b[49m\u001b[38;5;241;43m=\u001b[39;49m\u001b[38;5;241;43m5\u001b[39;49m\u001b[43m,\u001b[49m\u001b[43msplits\u001b[49m\u001b[38;5;241;43m=\u001b[39;49m\u001b[38;5;241;43m4\u001b[39;49m\u001b[43m,\u001b[49m\u001b[43mk\u001b[49m\u001b[38;5;241;43m=\u001b[39;49m\u001b[38;5;241;43m20000\u001b[39;49m\u001b[43m)\u001b[49m\n\u001b[1;32m      9\u001b[0m     \u001b[38;5;28mprint\u001b[39m(score)\n\u001b[1;32m     10\u001b[0m     \u001b[38;5;28;01mreturn\u001b[39;00m {\u001b[38;5;124m'\u001b[39m\u001b[38;5;124mloss\u001b[39m\u001b[38;5;124m'\u001b[39m: \u001b[38;5;241m-\u001b[39mscore[\u001b[38;5;124m'\u001b[39m\u001b[38;5;124mRECALL AT K CROSS_VAL\u001b[39m\u001b[38;5;124m'\u001b[39m][\u001b[38;5;241m0\u001b[39m],\u001b[38;5;124m'\u001b[39m\u001b[38;5;124mstatus\u001b[39m\u001b[38;5;124m'\u001b[39m:STATUS_OK}\n",
      "Cell \u001b[0;32mIn [6], line 16\u001b[0m, in \u001b[0;36mperformace_cross_val\u001b[0;34m(data, target, model, model_name, round_n, splits, shuffle_n, random, k)\u001b[0m\n\u001b[1;32m     13\u001b[0m rec_k \u001b[38;5;241m=\u001b[39m []\n\u001b[1;32m     14\u001b[0m \u001b[38;5;28;01mfor\u001b[39;00m train_index, test_index \u001b[38;5;129;01min\u001b[39;00m skf\u001b[38;5;241m.\u001b[39msplit(X,y):\n\u001b[1;32m     15\u001b[0m     \u001b[38;5;66;03m#train the model \u001b[39;00m\n\u001b[0;32m---> 16\u001b[0m     \u001b[43mmodel\u001b[49m\u001b[38;5;241;43m.\u001b[39;49m\u001b[43mfit\u001b[49m\u001b[43m(\u001b[49m\u001b[43mX\u001b[49m\u001b[38;5;241;43m.\u001b[39;49m\u001b[43miloc\u001b[49m\u001b[43m[\u001b[49m\u001b[43mtrain_index\u001b[49m\u001b[43m]\u001b[49m\u001b[43m,\u001b[49m\u001b[43my\u001b[49m\u001b[38;5;241;43m.\u001b[39;49m\u001b[43miloc\u001b[49m\u001b[43m[\u001b[49m\u001b[43mtrain_index\u001b[49m\u001b[43m]\u001b[49m\u001b[43m)\u001b[49m\n\u001b[1;32m     18\u001b[0m     \u001b[38;5;66;03m#predict the classification \u001b[39;00m\n\u001b[1;32m     19\u001b[0m     yhat_class \u001b[38;5;241m=\u001b[39m model\u001b[38;5;241m.\u001b[39mpredict( X\u001b[38;5;241m.\u001b[39miloc[test_index] )\n",
      "File \u001b[0;32m~/venv/lib/python3.9/site-packages/xgboost/core.py:575\u001b[0m, in \u001b[0;36m_deprecate_positional_args.<locals>.inner_f\u001b[0;34m(*args, **kwargs)\u001b[0m\n\u001b[1;32m    573\u001b[0m \u001b[38;5;28;01mfor\u001b[39;00m k, arg \u001b[38;5;129;01min\u001b[39;00m \u001b[38;5;28mzip\u001b[39m(sig\u001b[38;5;241m.\u001b[39mparameters, args):\n\u001b[1;32m    574\u001b[0m     kwargs[k] \u001b[38;5;241m=\u001b[39m arg\n\u001b[0;32m--> 575\u001b[0m \u001b[38;5;28;01mreturn\u001b[39;00m \u001b[43mf\u001b[49m\u001b[43m(\u001b[49m\u001b[38;5;241;43m*\u001b[39;49m\u001b[38;5;241;43m*\u001b[39;49m\u001b[43mkwargs\u001b[49m\u001b[43m)\u001b[49m\n",
      "File \u001b[0;32m~/venv/lib/python3.9/site-packages/xgboost/sklearn.py:1400\u001b[0m, in \u001b[0;36mXGBClassifier.fit\u001b[0;34m(self, X, y, sample_weight, base_margin, eval_set, eval_metric, early_stopping_rounds, verbose, xgb_model, sample_weight_eval_set, base_margin_eval_set, feature_weights, callbacks)\u001b[0m\n\u001b[1;32m   1379\u001b[0m model, metric, params, early_stopping_rounds, callbacks \u001b[38;5;241m=\u001b[39m \u001b[38;5;28mself\u001b[39m\u001b[38;5;241m.\u001b[39m_configure_fit(\n\u001b[1;32m   1380\u001b[0m     xgb_model, eval_metric, params, early_stopping_rounds, callbacks\n\u001b[1;32m   1381\u001b[0m )\n\u001b[1;32m   1382\u001b[0m train_dmatrix, evals \u001b[38;5;241m=\u001b[39m _wrap_evaluation_matrices(\n\u001b[1;32m   1383\u001b[0m     missing\u001b[38;5;241m=\u001b[39m\u001b[38;5;28mself\u001b[39m\u001b[38;5;241m.\u001b[39mmissing,\n\u001b[1;32m   1384\u001b[0m     X\u001b[38;5;241m=\u001b[39mX,\n\u001b[0;32m   (...)\u001b[0m\n\u001b[1;32m   1397\u001b[0m     enable_categorical\u001b[38;5;241m=\u001b[39m\u001b[38;5;28mself\u001b[39m\u001b[38;5;241m.\u001b[39menable_categorical,\n\u001b[1;32m   1398\u001b[0m )\n\u001b[0;32m-> 1400\u001b[0m \u001b[38;5;28mself\u001b[39m\u001b[38;5;241m.\u001b[39m_Booster \u001b[38;5;241m=\u001b[39m \u001b[43mtrain\u001b[49m\u001b[43m(\u001b[49m\n\u001b[1;32m   1401\u001b[0m \u001b[43m    \u001b[49m\u001b[43mparams\u001b[49m\u001b[43m,\u001b[49m\n\u001b[1;32m   1402\u001b[0m \u001b[43m    \u001b[49m\u001b[43mtrain_dmatrix\u001b[49m\u001b[43m,\u001b[49m\n\u001b[1;32m   1403\u001b[0m \u001b[43m    \u001b[49m\u001b[38;5;28;43mself\u001b[39;49m\u001b[38;5;241;43m.\u001b[39;49m\u001b[43mget_num_boosting_rounds\u001b[49m\u001b[43m(\u001b[49m\u001b[43m)\u001b[49m\u001b[43m,\u001b[49m\n\u001b[1;32m   1404\u001b[0m \u001b[43m    \u001b[49m\u001b[43mevals\u001b[49m\u001b[38;5;241;43m=\u001b[39;49m\u001b[43mevals\u001b[49m\u001b[43m,\u001b[49m\n\u001b[1;32m   1405\u001b[0m \u001b[43m    \u001b[49m\u001b[43mearly_stopping_rounds\u001b[49m\u001b[38;5;241;43m=\u001b[39;49m\u001b[43mearly_stopping_rounds\u001b[49m\u001b[43m,\u001b[49m\n\u001b[1;32m   1406\u001b[0m \u001b[43m    \u001b[49m\u001b[43mevals_result\u001b[49m\u001b[38;5;241;43m=\u001b[39;49m\u001b[43mevals_result\u001b[49m\u001b[43m,\u001b[49m\n\u001b[1;32m   1407\u001b[0m \u001b[43m    \u001b[49m\u001b[43mobj\u001b[49m\u001b[38;5;241;43m=\u001b[39;49m\u001b[43mobj\u001b[49m\u001b[43m,\u001b[49m\n\u001b[1;32m   1408\u001b[0m \u001b[43m    \u001b[49m\u001b[43mcustom_metric\u001b[49m\u001b[38;5;241;43m=\u001b[39;49m\u001b[43mmetric\u001b[49m\u001b[43m,\u001b[49m\n\u001b[1;32m   1409\u001b[0m \u001b[43m    \u001b[49m\u001b[43mverbose_eval\u001b[49m\u001b[38;5;241;43m=\u001b[39;49m\u001b[43mverbose\u001b[49m\u001b[43m,\u001b[49m\n\u001b[1;32m   1410\u001b[0m \u001b[43m    \u001b[49m\u001b[43mxgb_model\u001b[49m\u001b[38;5;241;43m=\u001b[39;49m\u001b[43mmodel\u001b[49m\u001b[43m,\u001b[49m\n\u001b[1;32m   1411\u001b[0m \u001b[43m    \u001b[49m\u001b[43mcallbacks\u001b[49m\u001b[38;5;241;43m=\u001b[39;49m\u001b[43mcallbacks\u001b[49m\u001b[43m,\u001b[49m\n\u001b[1;32m   1412\u001b[0m \u001b[43m\u001b[49m\u001b[43m)\u001b[49m\n\u001b[1;32m   1414\u001b[0m \u001b[38;5;28;01mif\u001b[39;00m \u001b[38;5;129;01mnot\u001b[39;00m callable(\u001b[38;5;28mself\u001b[39m\u001b[38;5;241m.\u001b[39mobjective):\n\u001b[1;32m   1415\u001b[0m     \u001b[38;5;28mself\u001b[39m\u001b[38;5;241m.\u001b[39mobjective \u001b[38;5;241m=\u001b[39m params[\u001b[38;5;124m\"\u001b[39m\u001b[38;5;124mobjective\u001b[39m\u001b[38;5;124m\"\u001b[39m]\n",
      "File \u001b[0;32m~/venv/lib/python3.9/site-packages/xgboost/core.py:575\u001b[0m, in \u001b[0;36m_deprecate_positional_args.<locals>.inner_f\u001b[0;34m(*args, **kwargs)\u001b[0m\n\u001b[1;32m    573\u001b[0m \u001b[38;5;28;01mfor\u001b[39;00m k, arg \u001b[38;5;129;01min\u001b[39;00m \u001b[38;5;28mzip\u001b[39m(sig\u001b[38;5;241m.\u001b[39mparameters, args):\n\u001b[1;32m    574\u001b[0m     kwargs[k] \u001b[38;5;241m=\u001b[39m arg\n\u001b[0;32m--> 575\u001b[0m \u001b[38;5;28;01mreturn\u001b[39;00m \u001b[43mf\u001b[49m\u001b[43m(\u001b[49m\u001b[38;5;241;43m*\u001b[39;49m\u001b[38;5;241;43m*\u001b[39;49m\u001b[43mkwargs\u001b[49m\u001b[43m)\u001b[49m\n",
      "File \u001b[0;32m~/venv/lib/python3.9/site-packages/xgboost/training.py:181\u001b[0m, in \u001b[0;36mtrain\u001b[0;34m(params, dtrain, num_boost_round, evals, obj, feval, maximize, early_stopping_rounds, evals_result, verbose_eval, xgb_model, callbacks, custom_metric)\u001b[0m\n\u001b[1;32m    179\u001b[0m \u001b[38;5;28;01mif\u001b[39;00m cb_container\u001b[38;5;241m.\u001b[39mbefore_iteration(bst, i, dtrain, evals):\n\u001b[1;32m    180\u001b[0m     \u001b[38;5;28;01mbreak\u001b[39;00m\n\u001b[0;32m--> 181\u001b[0m \u001b[43mbst\u001b[49m\u001b[38;5;241;43m.\u001b[39;49m\u001b[43mupdate\u001b[49m\u001b[43m(\u001b[49m\u001b[43mdtrain\u001b[49m\u001b[43m,\u001b[49m\u001b[43m \u001b[49m\u001b[43mi\u001b[49m\u001b[43m,\u001b[49m\u001b[43m \u001b[49m\u001b[43mobj\u001b[49m\u001b[43m)\u001b[49m\n\u001b[1;32m    182\u001b[0m \u001b[38;5;28;01mif\u001b[39;00m cb_container\u001b[38;5;241m.\u001b[39mafter_iteration(bst, i, dtrain, evals):\n\u001b[1;32m    183\u001b[0m     \u001b[38;5;28;01mbreak\u001b[39;00m\n",
      "File \u001b[0;32m~/venv/lib/python3.9/site-packages/xgboost/core.py:1778\u001b[0m, in \u001b[0;36mBooster.update\u001b[0;34m(self, dtrain, iteration, fobj)\u001b[0m\n\u001b[1;32m   1775\u001b[0m \u001b[38;5;28mself\u001b[39m\u001b[38;5;241m.\u001b[39m_validate_features(dtrain)\n\u001b[1;32m   1777\u001b[0m \u001b[38;5;28;01mif\u001b[39;00m fobj \u001b[38;5;129;01mis\u001b[39;00m \u001b[38;5;28;01mNone\u001b[39;00m:\n\u001b[0;32m-> 1778\u001b[0m     _check_call(\u001b[43m_LIB\u001b[49m\u001b[38;5;241;43m.\u001b[39;49m\u001b[43mXGBoosterUpdateOneIter\u001b[49m\u001b[43m(\u001b[49m\u001b[38;5;28;43mself\u001b[39;49m\u001b[38;5;241;43m.\u001b[39;49m\u001b[43mhandle\u001b[49m\u001b[43m,\u001b[49m\n\u001b[1;32m   1779\u001b[0m \u001b[43m                                            \u001b[49m\u001b[43mctypes\u001b[49m\u001b[38;5;241;43m.\u001b[39;49m\u001b[43mc_int\u001b[49m\u001b[43m(\u001b[49m\u001b[43miteration\u001b[49m\u001b[43m)\u001b[49m\u001b[43m,\u001b[49m\n\u001b[1;32m   1780\u001b[0m \u001b[43m                                            \u001b[49m\u001b[43mdtrain\u001b[49m\u001b[38;5;241;43m.\u001b[39;49m\u001b[43mhandle\u001b[49m\u001b[43m)\u001b[49m)\n\u001b[1;32m   1781\u001b[0m \u001b[38;5;28;01melse\u001b[39;00m:\n\u001b[1;32m   1782\u001b[0m     pred \u001b[38;5;241m=\u001b[39m \u001b[38;5;28mself\u001b[39m\u001b[38;5;241m.\u001b[39mpredict(dtrain, output_margin\u001b[38;5;241m=\u001b[39m\u001b[38;5;28;01mTrue\u001b[39;00m, training\u001b[38;5;241m=\u001b[39m\u001b[38;5;28;01mTrue\u001b[39;00m)\n",
      "\u001b[0;31mKeyboardInterrupt\u001b[0m: "
     ]
    }
   ],
   "execution_count": null
  },
  {
   "cell_type": "markdown",
   "source": "<a style='text-decoration:none;line-height:16px;display:flex;color:#5B5B62;padding:10px;justify-content:end;' href='https://deepnote.com?utm_source=created-in-deepnote-cell&projectId=3161d838-98a4-47ed-ae81-127ad2068af4' target=\"_blank\">\n<img alt='Created in deepnote.com' style='display:inline;max-height:16px;margin:0px;margin-right:7.5px;' src='data:image/svg+xml;base64,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' > </img>\nCreated in <span style='font-weight:600;margin-left:4px;'>Deepnote</span></a>",
   "metadata": {
    "tags": [],
    "created_in_deepnote_cell": true,
    "deepnote_cell_type": "markdown"
   }
  }
 ],
 "nbformat": 4,
 "nbformat_minor": 4,
 "metadata": {
  "kernelspec": {
   "display_name": "Python 3",
   "language": "python",
   "name": "python3"
  },
  "language_info": {
   "codemirror_mode": {
    "name": "ipython",
    "version": 3
   },
   "file_extension": ".py",
   "mimetype": "text/x-python",
   "name": "python",
   "nbconvert_exporter": "python",
   "pygments_lexer": "ipython3",
   "version": "3.8.5"
  },
  "deepnote_notebook_id": "1c4ae238-6d82-4b11-b14c-6a3b5dfcbe14",
  "deepnote": {},
  "deepnote_execution_queue": []
 }
}