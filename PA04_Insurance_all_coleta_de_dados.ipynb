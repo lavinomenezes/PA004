{
 "cells": [
  {
   "cell_type": "markdown",
   "source": "# imports",
   "metadata": {
    "id": "m2Qg2lqXgq8I",
    "cell_id": "2666b11c-f369-41e6-b25a-4006b85c4df6",
    "deepnote_cell_type": "markdown",
    "deepnote_cell_height": 81.60000610351562
   }
  },
  {
   "cell_type": "code",
   "metadata": {
    "ExecuteTime": {
     "end_time": "2022-08-17T00:20:07.268175Z",
     "start_time": "2022-08-17T00:20:03.265195Z"
    },
    "executionInfo": {
     "elapsed": 1000,
     "status": "ok",
     "timestamp": 1660658311500,
     "user": {
      "displayName": "Lavis",
      "userId": "11464059397454562428"
     },
     "user_tz": 0
    },
    "id": "8-a4dm0Zgq8I",
    "cell_id": "00001-f66b50ac-05aa-46bb-9360-52b86428a8b5",
    "deepnote_to_be_reexecuted": false,
    "source_hash": "c77f524a",
    "execution_start": 1660742232722,
    "execution_millis": 3265,
    "deepnote_cell_type": "code",
    "deepnote_cell_height": 147.60000610351562
   },
   "source": "import pandas as pd\nimport numpy as np\nimport seaborn as sns\nimport matplotlib.pyplot as plt\nfrom IPython.core.display import HTML",
   "outputs": [],
   "execution_count": null
  },
  {
   "cell_type": "code",
   "metadata": {
    "ExecuteTime": {
     "end_time": "2022-08-17T00:20:07.300033Z",
     "start_time": "2022-08-17T00:20:07.271107Z"
    },
    "colab": {
     "base_uri": "https://localhost:8080/",
     "height": 34
    },
    "executionInfo": {
     "elapsed": 400,
     "status": "ok",
     "timestamp": 1660658314000,
     "user": {
      "displayName": "Lavis",
      "userId": "11464059397454562428"
     },
     "user_tz": 0
    },
    "id": "XONuzfOZ8nlk",
    "outputId": "0141611e-eb1e-4c86-9ef6-32b5305141ce",
    "cell_id": "00002-c856ca02-44c2-415f-b45b-aa8c957ecd06",
    "deepnote_to_be_reexecuted": false,
    "source_hash": "46a4bb4d",
    "execution_start": 1660742235997,
    "execution_millis": 84,
    "deepnote_cell_type": "code",
    "deepnote_cell_height": 302.20001220703125,
    "deepnote_output_heights": [
     null,
     1
    ]
   },
   "source": "def jupyter_settings():\n    %matplotlib inline\n    %pylab inline\n    plt.style.use( 'bmh' )\n    plt.rcParams['figure.figsize'] = [25, 12]\n    plt.rcParams['font.size'] = 24\n    display( HTML( '<style>.container { width:100% !important; }</style>') )\n    sns.set()\njupyter_settings()",
   "outputs": [
    {
     "name": "stdout",
     "text": "%pylab is deprecated, use %matplotlib inline and import the required libraries.\nPopulating the interactive namespace from numpy and matplotlib\n",
     "output_type": "stream"
    },
    {
     "data": {
      "text/plain": "<IPython.core.display.HTML object>",
      "text/html": "<style>.container { width:100% !important; }</style>"
     },
     "metadata": {},
     "output_type": "display_data"
    }
   ],
   "execution_count": null
  },
  {
   "cell_type": "markdown",
   "source": "# load data",
   "metadata": {
    "id": "hbeo3XPrgq8I",
    "cell_id": "00003-ac9361ce-d9a1-42da-a82f-072188f79e66",
    "deepnote_cell_type": "markdown",
    "deepnote_cell_height": 81.60000610351562
   }
  },
  {
   "cell_type": "code",
   "metadata": {
    "ExecuteTime": {
     "end_time": "2022-08-17T00:20:08.861936Z",
     "start_time": "2022-08-17T00:20:07.305016Z"
    },
    "executionInfo": {
     "elapsed": 2800,
     "status": "ok",
     "timestamp": 1660651162500,
     "user": {
      "displayName": "Lavis",
      "userId": "11464059397454562428"
     },
     "user_tz": 0
    },
    "id": "Ah1r8jyggq8I",
    "cell_id": "00004-71974b3b-0733-4c16-a781-1c5cc7a1606a",
    "deepnote_to_be_reexecuted": false,
    "source_hash": "acb118ef",
    "execution_start": 1660742236088,
    "execution_millis": 832,
    "deepnote_cell_type": "code",
    "deepnote_cell_height": 75.60000610351562
   },
   "source": "data_raw = pd.read_csv('data/clients.csv')",
   "outputs": [],
   "execution_count": null
  },
  {
   "cell_type": "code",
   "metadata": {
    "ExecuteTime": {
     "end_time": "2022-08-17T00:20:08.972412Z",
     "start_time": "2022-08-17T00:20:08.871235Z"
    },
    "colab": {
     "base_uri": "https://localhost:8080/",
     "height": 270
    },
    "executionInfo": {
     "elapsed": 0,
     "status": "ok",
     "timestamp": 1660651326900,
     "user": {
      "displayName": "Lavis",
      "userId": "11464059397454562428"
     },
     "user_tz": 0
    },
    "id": "R7jnIO9agq8I",
    "outputId": "209616cc-7699-4185-9599-e8c1fbb0aadb",
    "cell_id": "00005-c06f965a-6be4-41c6-ada0-33f3486e6df7",
    "deepnote_to_be_reexecuted": false,
    "source_hash": "4492d658",
    "execution_start": 1660742236942,
    "execution_millis": 106,
    "deepnote_cell_type": "code",
    "deepnote_cell_height": 389.20001220703125,
    "deepnote_output_heights": [
     175
    ]
   },
   "source": "data_raw.head()",
   "outputs": [
    {
     "output_type": "execute_result",
     "execution_count": 4,
     "data": {
      "application/vnd.deepnote.dataframe.v3+json": {
       "column_count": 14,
       "row_count": 5,
       "columns": [
        {
         "name": "id",
         "dtype": "int64",
         "stats": {
          "unique_count": 5,
          "nan_count": 0,
          "min": "1",
          "max": "5",
          "histogram": [
           {
            "bin_start": 1,
            "bin_end": 1.4,
            "count": 1
           },
           {
            "bin_start": 1.4,
            "bin_end": 1.8,
            "count": 0
           },
           {
            "bin_start": 1.8,
            "bin_end": 2.2,
            "count": 1
           },
           {
            "bin_start": 2.2,
            "bin_end": 2.6,
            "count": 0
           },
           {
            "bin_start": 2.6,
            "bin_end": 3,
            "count": 0
           },
           {
            "bin_start": 3,
            "bin_end": 3.4000000000000004,
            "count": 1
           },
           {
            "bin_start": 3.4000000000000004,
            "bin_end": 3.8000000000000003,
            "count": 0
           },
           {
            "bin_start": 3.8000000000000003,
            "bin_end": 4.2,
            "count": 1
           },
           {
            "bin_start": 4.2,
            "bin_end": 4.6,
            "count": 0
           },
           {
            "bin_start": 4.6,
            "bin_end": 5,
            "count": 1
           }
          ]
         }
        },
        {
         "name": "gender",
         "dtype": "object",
         "stats": {
          "unique_count": 2,
          "nan_count": 0,
          "categories": [
           {
            "name": "Male",
            "count": 4
           },
           {
            "name": "Female",
            "count": 1
           }
          ]
         }
        },
        {
         "name": "age",
         "dtype": "int64",
         "stats": {
          "unique_count": 5,
          "nan_count": 0,
          "min": "21",
          "max": "76",
          "histogram": [
           {
            "bin_start": 21,
            "bin_end": 26.5,
            "count": 1
           },
           {
            "bin_start": 26.5,
            "bin_end": 32,
            "count": 1
           },
           {
            "bin_start": 32,
            "bin_end": 37.5,
            "count": 0
           },
           {
            "bin_start": 37.5,
            "bin_end": 43,
            "count": 0
           },
           {
            "bin_start": 43,
            "bin_end": 48.5,
            "count": 2
           },
           {
            "bin_start": 48.5,
            "bin_end": 54,
            "count": 0
           },
           {
            "bin_start": 54,
            "bin_end": 59.5,
            "count": 0
           },
           {
            "bin_start": 59.5,
            "bin_end": 65,
            "count": 0
           },
           {
            "bin_start": 65,
            "bin_end": 70.5,
            "count": 0
           },
           {
            "bin_start": 70.5,
            "bin_end": 76,
            "count": 1
           }
          ]
         }
        },
        {
         "name": "region_code",
         "dtype": "float64",
         "stats": {
          "unique_count": 4,
          "nan_count": 0,
          "min": "3.0",
          "max": "41.0",
          "histogram": [
           {
            "bin_start": 3,
            "bin_end": 6.8,
            "count": 1
           },
           {
            "bin_start": 6.8,
            "bin_end": 10.6,
            "count": 0
           },
           {
            "bin_start": 10.6,
            "bin_end": 14.399999999999999,
            "count": 1
           },
           {
            "bin_start": 14.399999999999999,
            "bin_end": 18.2,
            "count": 0
           },
           {
            "bin_start": 18.2,
            "bin_end": 22,
            "count": 0
           },
           {
            "bin_start": 22,
            "bin_end": 25.799999999999997,
            "count": 0
           },
           {
            "bin_start": 25.799999999999997,
            "bin_end": 29.599999999999998,
            "count": 2
           },
           {
            "bin_start": 29.599999999999998,
            "bin_end": 33.4,
            "count": 0
           },
           {
            "bin_start": 33.4,
            "bin_end": 37.199999999999996,
            "count": 0
           },
           {
            "bin_start": 37.199999999999996,
            "bin_end": 41,
            "count": 1
           }
          ]
         }
        },
        {
         "name": "policy_sales_channel",
         "dtype": "float64",
         "stats": {
          "unique_count": 2,
          "nan_count": 0,
          "min": "26.0",
          "max": "152.0",
          "histogram": [
           {
            "bin_start": 26,
            "bin_end": 38.6,
            "count": 3
           },
           {
            "bin_start": 38.6,
            "bin_end": 51.2,
            "count": 0
           },
           {
            "bin_start": 51.2,
            "bin_end": 63.8,
            "count": 0
           },
           {
            "bin_start": 63.8,
            "bin_end": 76.4,
            "count": 0
           },
           {
            "bin_start": 76.4,
            "bin_end": 89,
            "count": 0
           },
           {
            "bin_start": 89,
            "bin_end": 101.6,
            "count": 0
           },
           {
            "bin_start": 101.6,
            "bin_end": 114.2,
            "count": 0
           },
           {
            "bin_start": 114.2,
            "bin_end": 126.8,
            "count": 0
           },
           {
            "bin_start": 126.8,
            "bin_end": 139.39999999999998,
            "count": 0
           },
           {
            "bin_start": 139.39999999999998,
            "bin_end": 152,
            "count": 2
           }
          ]
         }
        },
        {
         "name": "id.1",
         "dtype": "int64",
         "stats": {
          "unique_count": 5,
          "nan_count": 0,
          "min": "1",
          "max": "5",
          "histogram": [
           {
            "bin_start": 1,
            "bin_end": 1.4,
            "count": 1
           },
           {
            "bin_start": 1.4,
            "bin_end": 1.8,
            "count": 0
           },
           {
            "bin_start": 1.8,
            "bin_end": 2.2,
            "count": 1
           },
           {
            "bin_start": 2.2,
            "bin_end": 2.6,
            "count": 0
           },
           {
            "bin_start": 2.6,
            "bin_end": 3,
            "count": 0
           },
           {
            "bin_start": 3,
            "bin_end": 3.4000000000000004,
            "count": 1
           },
           {
            "bin_start": 3.4000000000000004,
            "bin_end": 3.8000000000000003,
            "count": 0
           },
           {
            "bin_start": 3.8000000000000003,
            "bin_end": 4.2,
            "count": 1
           },
           {
            "bin_start": 4.2,
            "bin_end": 4.6,
            "count": 0
           },
           {
            "bin_start": 4.6,
            "bin_end": 5,
            "count": 1
           }
          ]
         }
        },
        {
         "name": "previously_insured",
         "dtype": "int64",
         "stats": {
          "unique_count": 2,
          "nan_count": 0,
          "min": "0",
          "max": "1",
          "histogram": [
           {
            "bin_start": 0,
            "bin_end": 0.1,
            "count": 3
           },
           {
            "bin_start": 0.1,
            "bin_end": 0.2,
            "count": 0
           },
           {
            "bin_start": 0.2,
            "bin_end": 0.30000000000000004,
            "count": 0
           },
           {
            "bin_start": 0.30000000000000004,
            "bin_end": 0.4,
            "count": 0
           },
           {
            "bin_start": 0.4,
            "bin_end": 0.5,
            "count": 0
           },
           {
            "bin_start": 0.5,
            "bin_end": 0.6000000000000001,
            "count": 0
           },
           {
            "bin_start": 0.6000000000000001,
            "bin_end": 0.7000000000000001,
            "count": 0
           },
           {
            "bin_start": 0.7000000000000001,
            "bin_end": 0.8,
            "count": 0
           },
           {
            "bin_start": 0.8,
            "bin_end": 0.9,
            "count": 0
           },
           {
            "bin_start": 0.9,
            "bin_end": 1,
            "count": 2
           }
          ]
         }
        },
        {
         "name": "annual_premium",
         "dtype": "float64",
         "stats": {
          "unique_count": 5,
          "nan_count": 0,
          "min": "27496.0",
          "max": "40454.0",
          "histogram": [
           {
            "bin_start": 27496,
            "bin_end": 28791.8,
            "count": 2
           },
           {
            "bin_start": 28791.8,
            "bin_end": 30087.6,
            "count": 0
           },
           {
            "bin_start": 30087.6,
            "bin_end": 31383.4,
            "count": 0
           },
           {
            "bin_start": 31383.4,
            "bin_end": 32679.2,
            "count": 0
           },
           {
            "bin_start": 32679.2,
            "bin_end": 33975,
            "count": 1
           },
           {
            "bin_start": 33975,
            "bin_end": 35270.8,
            "count": 0
           },
           {
            "bin_start": 35270.8,
            "bin_end": 36566.6,
            "count": 0
           },
           {
            "bin_start": 36566.6,
            "bin_end": 37862.4,
            "count": 0
           },
           {
            "bin_start": 37862.4,
            "bin_end": 39158.2,
            "count": 1
           },
           {
            "bin_start": 39158.2,
            "bin_end": 40454,
            "count": 1
           }
          ]
         }
        },
        {
         "name": "vintage",
         "dtype": "int64",
         "stats": {
          "unique_count": 5,
          "nan_count": 0,
          "min": "27",
          "max": "217",
          "histogram": [
           {
            "bin_start": 27,
            "bin_end": 46,
            "count": 2
           },
           {
            "bin_start": 46,
            "bin_end": 65,
            "count": 0
           },
           {
            "bin_start": 65,
            "bin_end": 84,
            "count": 0
           },
           {
            "bin_start": 84,
            "bin_end": 103,
            "count": 0
           },
           {
            "bin_start": 103,
            "bin_end": 122,
            "count": 0
           },
           {
            "bin_start": 122,
            "bin_end": 141,
            "count": 0
           },
           {
            "bin_start": 141,
            "bin_end": 160,
            "count": 0
           },
           {
            "bin_start": 160,
            "bin_end": 179,
            "count": 0
           },
           {
            "bin_start": 179,
            "bin_end": 198,
            "count": 1
           },
           {
            "bin_start": 198,
            "bin_end": 217,
            "count": 2
           }
          ]
         }
        },
        {
         "name": "response",
         "dtype": "int64",
         "stats": {
          "unique_count": 2,
          "nan_count": 0,
          "min": "0",
          "max": "1",
          "histogram": [
           {
            "bin_start": 0,
            "bin_end": 0.1,
            "count": 3
           },
           {
            "bin_start": 0.1,
            "bin_end": 0.2,
            "count": 0
           },
           {
            "bin_start": 0.2,
            "bin_end": 0.30000000000000004,
            "count": 0
           },
           {
            "bin_start": 0.30000000000000004,
            "bin_end": 0.4,
            "count": 0
           },
           {
            "bin_start": 0.4,
            "bin_end": 0.5,
            "count": 0
           },
           {
            "bin_start": 0.5,
            "bin_end": 0.6000000000000001,
            "count": 0
           },
           {
            "bin_start": 0.6000000000000001,
            "bin_end": 0.7000000000000001,
            "count": 0
           },
           {
            "bin_start": 0.7000000000000001,
            "bin_end": 0.8,
            "count": 0
           },
           {
            "bin_start": 0.8,
            "bin_end": 0.9,
            "count": 0
           },
           {
            "bin_start": 0.9,
            "bin_end": 1,
            "count": 2
           }
          ]
         }
        },
        {
         "name": "id.2",
         "dtype": "int64",
         "stats": {
          "unique_count": 5,
          "nan_count": 0,
          "min": "1",
          "max": "5",
          "histogram": [
           {
            "bin_start": 1,
            "bin_end": 1.4,
            "count": 1
           },
           {
            "bin_start": 1.4,
            "bin_end": 1.8,
            "count": 0
           },
           {
            "bin_start": 1.8,
            "bin_end": 2.2,
            "count": 1
           },
           {
            "bin_start": 2.2,
            "bin_end": 2.6,
            "count": 0
           },
           {
            "bin_start": 2.6,
            "bin_end": 3,
            "count": 0
           },
           {
            "bin_start": 3,
            "bin_end": 3.4000000000000004,
            "count": 1
           },
           {
            "bin_start": 3.4000000000000004,
            "bin_end": 3.8000000000000003,
            "count": 0
           },
           {
            "bin_start": 3.8000000000000003,
            "bin_end": 4.2,
            "count": 1
           },
           {
            "bin_start": 4.2,
            "bin_end": 4.6,
            "count": 0
           },
           {
            "bin_start": 4.6,
            "bin_end": 5,
            "count": 1
           }
          ]
         }
        },
        {
         "name": "driving_license",
         "dtype": "int64",
         "stats": {
          "unique_count": 1,
          "nan_count": 0,
          "min": "1",
          "max": "1",
          "histogram": [
           {
            "bin_start": 0.5,
            "bin_end": 0.6,
            "count": 0
           },
           {
            "bin_start": 0.6,
            "bin_end": 0.7,
            "count": 0
           },
           {
            "bin_start": 0.7,
            "bin_end": 0.8,
            "count": 0
           },
           {
            "bin_start": 0.8,
            "bin_end": 0.9,
            "count": 0
           },
           {
            "bin_start": 0.9,
            "bin_end": 1,
            "count": 0
           },
           {
            "bin_start": 1,
            "bin_end": 1.1,
            "count": 5
           },
           {
            "bin_start": 1.1,
            "bin_end": 1.2000000000000002,
            "count": 0
           },
           {
            "bin_start": 1.2000000000000002,
            "bin_end": 1.3,
            "count": 0
           },
           {
            "bin_start": 1.3,
            "bin_end": 1.4,
            "count": 0
           },
           {
            "bin_start": 1.4,
            "bin_end": 1.5,
            "count": 0
           }
          ]
         }
        },
        {
         "name": "vehicle_age",
         "dtype": "object",
         "stats": {
          "unique_count": 3,
          "nan_count": 0,
          "categories": [
           {
            "name": "> 2 Years",
            "count": 2
           },
           {
            "name": "< 1 Year",
            "count": 2
           },
           {
            "name": "1-2 Year",
            "count": 1
           }
          ]
         }
        },
        {
         "name": "vehicle_damage",
         "dtype": "object",
         "stats": {
          "unique_count": 2,
          "nan_count": 0,
          "categories": [
           {
            "name": "No",
            "count": 3
           },
           {
            "name": "Yes",
            "count": 2
           }
          ]
         }
        },
        {
         "name": "_deepnote_index_column",
         "dtype": "int64"
        }
       ],
       "rows": [
        {
         "id": 1,
         "gender": "Male",
         "age": 44,
         "region_code": 28,
         "policy_sales_channel": 26,
         "id.1": 1,
         "previously_insured": 0,
         "annual_premium": 40454,
         "vintage": 217,
         "response": 1,
         "id.2": 1,
         "driving_license": 1,
         "vehicle_age": "> 2 Years",
         "vehicle_damage": "Yes",
         "_deepnote_index_column": 0
        },
        {
         "id": 2,
         "gender": "Male",
         "age": 76,
         "region_code": 3,
         "policy_sales_channel": 26,
         "id.1": 2,
         "previously_insured": 0,
         "annual_premium": 33536,
         "vintage": 183,
         "response": 0,
         "id.2": 2,
         "driving_license": 1,
         "vehicle_age": "1-2 Year",
         "vehicle_damage": "No",
         "_deepnote_index_column": 1
        },
        {
         "id": 3,
         "gender": "Male",
         "age": 47,
         "region_code": 28,
         "policy_sales_channel": 26,
         "id.1": 3,
         "previously_insured": 0,
         "annual_premium": 38294,
         "vintage": 27,
         "response": 1,
         "id.2": 3,
         "driving_license": 1,
         "vehicle_age": "> 2 Years",
         "vehicle_damage": "Yes",
         "_deepnote_index_column": 2
        },
        {
         "id": 4,
         "gender": "Male",
         "age": 21,
         "region_code": 11,
         "policy_sales_channel": 152,
         "id.1": 4,
         "previously_insured": 1,
         "annual_premium": 28619,
         "vintage": 203,
         "response": 0,
         "id.2": 4,
         "driving_license": 1,
         "vehicle_age": "< 1 Year",
         "vehicle_damage": "No",
         "_deepnote_index_column": 3
        },
        {
         "id": 5,
         "gender": "Female",
         "age": 29,
         "region_code": 41,
         "policy_sales_channel": 152,
         "id.1": 5,
         "previously_insured": 1,
         "annual_premium": 27496,
         "vintage": 39,
         "response": 0,
         "id.2": 5,
         "driving_license": 1,
         "vehicle_age": "< 1 Year",
         "vehicle_damage": "No",
         "_deepnote_index_column": 4
        }
       ]
      },
      "text/plain": "   id  gender  age  region_code  policy_sales_channel  id.1  \\\n0   1    Male   44         28.0                  26.0     1   \n1   2    Male   76          3.0                  26.0     2   \n2   3    Male   47         28.0                  26.0     3   \n3   4    Male   21         11.0                 152.0     4   \n4   5  Female   29         41.0                 152.0     5   \n\n   previously_insured  annual_premium  vintage  response  id.2  \\\n0                   0         40454.0      217         1     1   \n1                   0         33536.0      183         0     2   \n2                   0         38294.0       27         1     3   \n3                   1         28619.0      203         0     4   \n4                   1         27496.0       39         0     5   \n\n   driving_license vehicle_age vehicle_damage  \n0                1   > 2 Years            Yes  \n1                1    1-2 Year             No  \n2                1   > 2 Years            Yes  \n3                1    < 1 Year             No  \n4                1    < 1 Year             No  ",
      "text/html": "<div>\n<style scoped>\n    .dataframe tbody tr th:only-of-type {\n        vertical-align: middle;\n    }\n\n    .dataframe tbody tr th {\n        vertical-align: top;\n    }\n\n    .dataframe thead th {\n        text-align: right;\n    }\n</style>\n<table border=\"1\" class=\"dataframe\">\n  <thead>\n    <tr style=\"text-align: right;\">\n      <th></th>\n      <th>id</th>\n      <th>gender</th>\n      <th>age</th>\n      <th>region_code</th>\n      <th>policy_sales_channel</th>\n      <th>id.1</th>\n      <th>previously_insured</th>\n      <th>annual_premium</th>\n      <th>vintage</th>\n      <th>response</th>\n      <th>id.2</th>\n      <th>driving_license</th>\n      <th>vehicle_age</th>\n      <th>vehicle_damage</th>\n    </tr>\n  </thead>\n  <tbody>\n    <tr>\n      <th>0</th>\n      <td>1</td>\n      <td>Male</td>\n      <td>44</td>\n      <td>28.0</td>\n      <td>26.0</td>\n      <td>1</td>\n      <td>0</td>\n      <td>40454.0</td>\n      <td>217</td>\n      <td>1</td>\n      <td>1</td>\n      <td>1</td>\n      <td>&gt; 2 Years</td>\n      <td>Yes</td>\n    </tr>\n    <tr>\n      <th>1</th>\n      <td>2</td>\n      <td>Male</td>\n      <td>76</td>\n      <td>3.0</td>\n      <td>26.0</td>\n      <td>2</td>\n      <td>0</td>\n      <td>33536.0</td>\n      <td>183</td>\n      <td>0</td>\n      <td>2</td>\n      <td>1</td>\n      <td>1-2 Year</td>\n      <td>No</td>\n    </tr>\n    <tr>\n      <th>2</th>\n      <td>3</td>\n      <td>Male</td>\n      <td>47</td>\n      <td>28.0</td>\n      <td>26.0</td>\n      <td>3</td>\n      <td>0</td>\n      <td>38294.0</td>\n      <td>27</td>\n      <td>1</td>\n      <td>3</td>\n      <td>1</td>\n      <td>&gt; 2 Years</td>\n      <td>Yes</td>\n    </tr>\n    <tr>\n      <th>3</th>\n      <td>4</td>\n      <td>Male</td>\n      <td>21</td>\n      <td>11.0</td>\n      <td>152.0</td>\n      <td>4</td>\n      <td>1</td>\n      <td>28619.0</td>\n      <td>203</td>\n      <td>0</td>\n      <td>4</td>\n      <td>1</td>\n      <td>&lt; 1 Year</td>\n      <td>No</td>\n    </tr>\n    <tr>\n      <th>4</th>\n      <td>5</td>\n      <td>Female</td>\n      <td>29</td>\n      <td>41.0</td>\n      <td>152.0</td>\n      <td>5</td>\n      <td>1</td>\n      <td>27496.0</td>\n      <td>39</td>\n      <td>0</td>\n      <td>5</td>\n      <td>1</td>\n      <td>&lt; 1 Year</td>\n      <td>No</td>\n    </tr>\n  </tbody>\n</table>\n</div>"
     },
     "metadata": {}
    }
   ],
   "execution_count": null
  },
  {
   "cell_type": "markdown",
   "source": "**drop id's columns left by the datasets merge**",
   "metadata": {
    "id": "ug0aPjSZi770",
    "cell_id": "00006-3de8ba69-cd3e-4be8-a63a-ef8e3a3d37b0",
    "deepnote_cell_type": "markdown",
    "deepnote_cell_height": 52
   }
  },
  {
   "cell_type": "code",
   "metadata": {
    "ExecuteTime": {
     "end_time": "2022-08-17T00:20:09.049567Z",
     "start_time": "2022-08-17T00:20:08.975443Z"
    },
    "executionInfo": {
     "elapsed": 300,
     "status": "ok",
     "timestamp": 1660651264800,
     "user": {
      "displayName": "Lavis",
      "userId": "11464059397454562428"
     },
     "user_tz": 0
    },
    "id": "B71GeaFzhhgU",
    "cell_id": "00007-4094e2a2-51e5-46d1-8480-5a8500e7522b",
    "deepnote_to_be_reexecuted": false,
    "source_hash": "90687e7",
    "execution_start": 1660742237049,
    "execution_millis": 19,
    "deepnote_cell_type": "code",
    "deepnote_cell_height": 75.60000610351562
   },
   "source": "data_raw = data_raw.drop(columns=['id.1','id.2'])",
   "outputs": [],
   "execution_count": null
  },
  {
   "cell_type": "code",
   "metadata": {
    "ExecuteTime": {
     "end_time": "2022-08-17T00:20:09.080528Z",
     "start_time": "2022-08-17T00:20:09.058851Z"
    },
    "colab": {
     "base_uri": "https://localhost:8080/"
    },
    "executionInfo": {
     "elapsed": 900,
     "status": "ok",
     "timestamp": 1660651284000,
     "user": {
      "displayName": "Lavis",
      "userId": "11464059397454562428"
     },
     "user_tz": 0
    },
    "id": "mRNTN-Ahh2c8",
    "outputId": "29d991ff-6227-425b-816f-5d8abac9218e",
    "cell_id": "00008-1e3344f3-416b-42fc-b258-84e3e3a90461",
    "deepnote_to_be_reexecuted": false,
    "source_hash": "e014b618",
    "execution_start": 1660742237071,
    "execution_millis": 39,
    "deepnote_cell_type": "code",
    "deepnote_cell_height": 169.39999389648438,
    "deepnote_output_heights": [
     78
    ]
   },
   "source": "data_raw.columns",
   "outputs": [
    {
     "output_type": "execute_result",
     "execution_count": 6,
     "data": {
      "text/plain": "Index(['id', 'gender', 'age', 'region_code', 'policy_sales_channel',\n       'previously_insured', 'annual_premium', 'vintage', 'response',\n       'driving_license', 'vehicle_age', 'vehicle_damage'],\n      dtype='object')"
     },
     "metadata": {}
    }
   ],
   "execution_count": null
  },
  {
   "cell_type": "markdown",
   "source": "**Datasets dimensions**",
   "metadata": {
    "id": "siMZr8N0jLm8",
    "cell_id": "00009-6ee2204a-17e4-4a56-9acb-1e4ace24c793",
    "deepnote_cell_type": "markdown",
    "deepnote_cell_height": 52
   }
  },
  {
   "cell_type": "code",
   "metadata": {
    "ExecuteTime": {
     "end_time": "2022-08-17T00:20:09.111177Z",
     "start_time": "2022-08-17T00:20:09.082045Z"
    },
    "colab": {
     "base_uri": "https://localhost:8080/"
    },
    "executionInfo": {
     "elapsed": 300,
     "status": "ok",
     "timestamp": 1660651343900,
     "user": {
      "displayName": "Lavis",
      "userId": "11464059397454562428"
     },
     "user_tz": 0
    },
    "id": "rOK9LHpCiGTA",
    "outputId": "085a4cc6-74e5-4157-91ca-14c249da415b",
    "cell_id": "00010-d555967e-e07f-4313-aa00-914808d9fb16",
    "deepnote_to_be_reexecuted": false,
    "source_hash": "db401972",
    "execution_start": 1660742237151,
    "execution_millis": 0,
    "deepnote_cell_type": "code",
    "deepnote_cell_height": 111.39999389648438,
    "deepnote_output_heights": [
     20
    ]
   },
   "source": "data_raw.shape",
   "outputs": [
    {
     "output_type": "execute_result",
     "execution_count": 7,
     "data": {
      "text/plain": "(381109, 12)"
     },
     "metadata": {}
    }
   ],
   "execution_count": null
  },
  {
   "cell_type": "markdown",
   "source": "# Checking data types",
   "metadata": {
    "id": "YddqEh7cjy5A",
    "cell_id": "00011-83837802-9caf-4608-a1b8-c7d768c68270",
    "deepnote_cell_type": "markdown",
    "deepnote_cell_height": 81.60000610351562
   }
  },
  {
   "cell_type": "code",
   "metadata": {
    "ExecuteTime": {
     "end_time": "2022-08-17T00:20:09.141478Z",
     "start_time": "2022-08-17T00:20:09.117343Z"
    },
    "colab": {
     "base_uri": "https://localhost:8080/"
    },
    "executionInfo": {
     "elapsed": 200,
     "status": "ok",
     "timestamp": 1660651307000,
     "user": {
      "displayName": "Lavis",
      "userId": "11464059397454562428"
     },
     "user_tz": 0
    },
    "id": "sCqTWeiLh9BQ",
    "outputId": "6ed287c9-e900-43df-c9db-509a6d0d4308",
    "cell_id": "00012-862a6f54-af4e-4c4d-8f92-223fa557ff04",
    "deepnote_to_be_reexecuted": false,
    "source_hash": "8f3c5461",
    "execution_start": 1660742237152,
    "execution_millis": 4,
    "deepnote_cell_type": "code",
    "deepnote_cell_height": 342.3999938964844,
    "deepnote_output_heights": [
     251
    ]
   },
   "source": "data_raw.dtypes",
   "outputs": [
    {
     "output_type": "execute_result",
     "execution_count": 8,
     "data": {
      "text/plain": "id                        int64\ngender                   object\nage                       int64\nregion_code             float64\npolicy_sales_channel    float64\npreviously_insured        int64\nannual_premium          float64\nvintage                   int64\nresponse                  int64\ndriving_license           int64\nvehicle_age              object\nvehicle_damage           object\ndtype: object"
     },
     "metadata": {}
    }
   ],
   "execution_count": null
  },
  {
   "cell_type": "markdown",
   "source": "# Checking NA values",
   "metadata": {
    "id": "HGpNA3OpoMs8",
    "cell_id": "00013-6f3d8c3b-9747-4337-84ba-edc2c6e6d683",
    "deepnote_cell_type": "markdown",
    "deepnote_cell_height": 81.60000610351562
   }
  },
  {
   "cell_type": "code",
   "metadata": {
    "ExecuteTime": {
     "end_time": "2022-08-17T00:20:09.241719Z",
     "start_time": "2022-08-17T00:20:09.141478Z"
    },
    "colab": {
     "base_uri": "https://localhost:8080/"
    },
    "executionInfo": {
     "elapsed": 300,
     "status": "ok",
     "timestamp": 1660651820400,
     "user": {
      "displayName": "Lavis",
      "userId": "11464059397454562428"
     },
     "user_tz": 0
    },
    "id": "PvXlukCVj6b0",
    "outputId": "2a987b66-fec4-4c6e-fb97-3fdc9f8ef135",
    "cell_id": "00014-cf6bcad7-1d28-4b2b-8f30-8e83cf77fb4b",
    "deepnote_to_be_reexecuted": false,
    "source_hash": "1a028bb3",
    "execution_start": 1660742237195,
    "execution_millis": 68,
    "deepnote_cell_type": "code",
    "deepnote_cell_height": 342.3999938964844,
    "deepnote_output_heights": [
     251
    ]
   },
   "source": "data_raw.isnull().sum()",
   "outputs": [
    {
     "output_type": "execute_result",
     "execution_count": 9,
     "data": {
      "text/plain": "id                      0\ngender                  0\nage                     0\nregion_code             0\npolicy_sales_channel    0\npreviously_insured      0\nannual_premium          0\nvintage                 0\nresponse                0\ndriving_license         0\nvehicle_age             0\nvehicle_damage          0\ndtype: int64"
     },
     "metadata": {}
    }
   ],
   "execution_count": null
  },
  {
   "cell_type": "markdown",
   "source": "# Descriptive Statistical",
   "metadata": {
    "id": "ndyl8gBoogvw",
    "cell_id": "00015-ac059e48-f585-4a19-a233-741e9d1fd5c0",
    "deepnote_cell_type": "markdown",
    "deepnote_cell_height": 81.60000610351562
   }
  },
  {
   "cell_type": "markdown",
   "source": "'id': numerical statistics\n\n'gender': categorical statistics\n\n'age': numerical statistics\n\n'region_code': agroup e and count ids by region \n\n'policy_sales_channel': categorical statistics\n\n'previously_insured': categorical statistics\n\n'annual_premium': numerical statistics\n\n'vintage': numerical statistics\n\n'response': categorical statistics\n\n'driving_license': categorical statistics\n\n'vehicle_age': numerical statistics\n\n\n 'vehicle_damage': categorical statistics",
   "metadata": {
    "id": "0AogTTbuwVW0",
    "cell_id": "00016-78f56bec-b788-4c89-b25e-2338c628682b",
    "deepnote_cell_type": "markdown",
    "deepnote_cell_height": 452.3999938964844
   }
  },
  {
   "cell_type": "code",
   "metadata": {
    "ExecuteTime": {
     "end_time": "2022-08-17T00:20:09.272979Z",
     "start_time": "2022-08-17T00:20:09.241719Z"
    },
    "executionInfo": {
     "elapsed": 300,
     "status": "ok",
     "timestamp": 1660653956000,
     "user": {
      "displayName": "Lavis",
      "userId": "11464059397454562428"
     },
     "user_tz": 0
    },
    "id": "OhcYm_m5sET0",
    "cell_id": "00017-c9735762-fcc0-419d-bd9a-ca335c981f65",
    "deepnote_to_be_reexecuted": false,
    "source_hash": "10e7854f",
    "execution_start": 1660742237271,
    "execution_millis": 47,
    "deepnote_cell_type": "code",
    "deepnote_cell_height": 75.60000610351562
   },
   "source": "df1 = data_raw.copy()",
   "outputs": [],
   "execution_count": null
  },
  {
   "cell_type": "code",
   "metadata": {
    "ExecuteTime": {
     "end_time": "2022-08-17T00:20:09.319826Z",
     "start_time": "2022-08-17T00:20:09.272979Z"
    },
    "executionInfo": {
     "elapsed": 300,
     "status": "ok",
     "timestamp": 1660658444300,
     "user": {
      "displayName": "Lavis",
      "userId": "11464059397454562428"
     },
     "user_tz": 0
    },
    "id": "VOjkPN25sAjM",
    "cell_id": "00018-4407640a-900e-400a-ab84-053932bb3299",
    "deepnote_to_be_reexecuted": false,
    "source_hash": "b8c4782c",
    "execution_start": 1660742237359,
    "execution_millis": 15,
    "deepnote_cell_type": "code",
    "deepnote_cell_height": 98.60000610351562
   },
   "source": "num_atributtes = df1[['id','age','annual_premium', 'vintage']]\ncat_atributtes = df1[['gender','policy_sales_channel','region_code','previously_insured','driving_license','vehicle_damage','vehicle_age','response']]",
   "outputs": [],
   "execution_count": null
  },
  {
   "cell_type": "markdown",
   "source": "## Numerical statistics",
   "metadata": {
    "id": "p6YxAgtDtOHQ",
    "cell_id": "00019-e63a84f5-09e7-401d-bf5e-290d9854a175",
    "deepnote_cell_type": "markdown",
    "deepnote_cell_height": 69.60000610351562
   }
  },
  {
   "cell_type": "code",
   "metadata": {
    "ExecuteTime": {
     "end_time": "2022-08-17T00:20:09.504733Z",
     "start_time": "2022-08-17T00:20:09.319826Z"
    },
    "colab": {
     "base_uri": "https://localhost:8080/",
     "height": 239
    },
    "executionInfo": {
     "elapsed": 700,
     "status": "ok",
     "timestamp": 1660656317000,
     "user": {
      "displayName": "Lavis",
      "userId": "11464059397454562428"
     },
     "user_tz": 0
    },
    "id": "gENVt2W0tNNc",
    "outputId": "5021bef3-1056-47c9-9aac-083c3a1a2e5c",
    "cell_id": "00020-bf6ed655-2251-467d-929d-82f964727f6e",
    "deepnote_to_be_reexecuted": false,
    "source_hash": "76a47221",
    "execution_start": 1660742237385,
    "execution_millis": 854,
    "deepnote_cell_type": "code",
    "deepnote_cell_height": 402.20001220703125,
    "deepnote_output_heights": [
     146
    ]
   },
   "source": "num_statistics = num_atributtes.agg(['max','min','mean','median','std','skew','kurtosis']).T\nnum_statistics['range'] = num_statistics['max'] - num_statistics['min']\nnum_statistics = num_statistics[['max','min','range','mean','median','std','skew','kurtosis']]\nnum_statistics",
   "outputs": [
    {
     "output_type": "execute_result",
     "execution_count": 12,
     "data": {
      "application/vnd.deepnote.dataframe.v3+json": {
       "column_count": 8,
       "row_count": 4,
       "columns": [
        {
         "name": "max",
         "dtype": "float64",
         "stats": {
          "unique_count": 4,
          "nan_count": 0,
          "min": "85.0",
          "max": "540165.0",
          "histogram": [
           {
            "bin_start": 85,
            "bin_end": 54093,
            "count": 2
           },
           {
            "bin_start": 54093,
            "bin_end": 108101,
            "count": 0
           },
           {
            "bin_start": 108101,
            "bin_end": 162109,
            "count": 0
           },
           {
            "bin_start": 162109,
            "bin_end": 216117,
            "count": 0
           },
           {
            "bin_start": 216117,
            "bin_end": 270125,
            "count": 0
           },
           {
            "bin_start": 270125,
            "bin_end": 324133,
            "count": 0
           },
           {
            "bin_start": 324133,
            "bin_end": 378141,
            "count": 0
           },
           {
            "bin_start": 378141,
            "bin_end": 432149,
            "count": 1
           },
           {
            "bin_start": 432149,
            "bin_end": 486157,
            "count": 0
           },
           {
            "bin_start": 486157,
            "bin_end": 540165,
            "count": 1
           }
          ]
         }
        },
        {
         "name": "min",
         "dtype": "float64",
         "stats": {
          "unique_count": 4,
          "nan_count": 0,
          "min": "1.0",
          "max": "2630.0",
          "histogram": [
           {
            "bin_start": 1,
            "bin_end": 263.9,
            "count": 3
           },
           {
            "bin_start": 263.9,
            "bin_end": 526.8,
            "count": 0
           },
           {
            "bin_start": 526.8,
            "bin_end": 789.6999999999999,
            "count": 0
           },
           {
            "bin_start": 789.6999999999999,
            "bin_end": 1052.6,
            "count": 0
           },
           {
            "bin_start": 1052.6,
            "bin_end": 1315.5,
            "count": 0
           },
           {
            "bin_start": 1315.5,
            "bin_end": 1578.3999999999999,
            "count": 0
           },
           {
            "bin_start": 1578.3999999999999,
            "bin_end": 1841.2999999999997,
            "count": 0
           },
           {
            "bin_start": 1841.2999999999997,
            "bin_end": 2104.2,
            "count": 0
           },
           {
            "bin_start": 2104.2,
            "bin_end": 2367.1,
            "count": 0
           },
           {
            "bin_start": 2367.1,
            "bin_end": 2630,
            "count": 1
           }
          ]
         }
        },
        {
         "name": "range",
         "dtype": "float64",
         "stats": {
          "unique_count": 4,
          "nan_count": 0,
          "min": "65.0",
          "max": "537535.0",
          "histogram": [
           {
            "bin_start": 65,
            "bin_end": 53812,
            "count": 2
           },
           {
            "bin_start": 53812,
            "bin_end": 107559,
            "count": 0
           },
           {
            "bin_start": 107559,
            "bin_end": 161306,
            "count": 0
           },
           {
            "bin_start": 161306,
            "bin_end": 215053,
            "count": 0
           },
           {
            "bin_start": 215053,
            "bin_end": 268800,
            "count": 0
           },
           {
            "bin_start": 268800,
            "bin_end": 322547,
            "count": 0
           },
           {
            "bin_start": 322547,
            "bin_end": 376294,
            "count": 0
           },
           {
            "bin_start": 376294,
            "bin_end": 430041,
            "count": 1
           },
           {
            "bin_start": 430041,
            "bin_end": 483788,
            "count": 0
           },
           {
            "bin_start": 483788,
            "bin_end": 537535,
            "count": 1
           }
          ]
         }
        },
        {
         "name": "mean",
         "dtype": "float64",
         "stats": {
          "unique_count": 4,
          "nan_count": 0,
          "min": "38.822583565331705",
          "max": "190555.0",
          "histogram": [
           {
            "bin_start": 38.822583565331705,
            "bin_end": 19090.440325208798,
            "count": 2
           },
           {
            "bin_start": 19090.440325208798,
            "bin_end": 38142.05806685226,
            "count": 1
           },
           {
            "bin_start": 38142.05806685226,
            "bin_end": 57193.675808495726,
            "count": 0
           },
           {
            "bin_start": 57193.675808495726,
            "bin_end": 76245.29355013919,
            "count": 0
           },
           {
            "bin_start": 76245.29355013919,
            "bin_end": 95296.91129178266,
            "count": 0
           },
           {
            "bin_start": 95296.91129178266,
            "bin_end": 114348.52903342612,
            "count": 0
           },
           {
            "bin_start": 114348.52903342612,
            "bin_end": 133400.14677506962,
            "count": 0
           },
           {
            "bin_start": 133400.14677506962,
            "bin_end": 152451.76451671307,
            "count": 0
           },
           {
            "bin_start": 152451.76451671307,
            "bin_end": 171503.38225835652,
            "count": 0
           },
           {
            "bin_start": 171503.38225835652,
            "bin_end": 190555,
            "count": 1
           }
          ]
         }
        },
        {
         "name": "median",
         "dtype": "float64",
         "stats": {
          "unique_count": 4,
          "nan_count": 0,
          "min": "36.0",
          "max": "190555.0",
          "histogram": [
           {
            "bin_start": 36,
            "bin_end": 19087.9,
            "count": 2
           },
           {
            "bin_start": 19087.9,
            "bin_end": 38139.8,
            "count": 1
           },
           {
            "bin_start": 38139.8,
            "bin_end": 57191.700000000004,
            "count": 0
           },
           {
            "bin_start": 57191.700000000004,
            "bin_end": 76243.6,
            "count": 0
           },
           {
            "bin_start": 76243.6,
            "bin_end": 95295.5,
            "count": 0
           },
           {
            "bin_start": 95295.5,
            "bin_end": 114347.40000000001,
            "count": 0
           },
           {
            "bin_start": 114347.40000000001,
            "bin_end": 133399.30000000002,
            "count": 0
           },
           {
            "bin_start": 133399.30000000002,
            "bin_end": 152451.2,
            "count": 0
           },
           {
            "bin_start": 152451.2,
            "bin_end": 171503.1,
            "count": 0
           },
           {
            "bin_start": 171503.1,
            "bin_end": 190555,
            "count": 1
           }
          ]
         }
        },
        {
         "name": "std",
         "dtype": "float64",
         "stats": {
          "unique_count": 4,
          "nan_count": 0,
          "min": "15.511611018095318",
          "max": "110016.83620776715",
          "histogram": [
           {
            "bin_start": 15.511611018095318,
            "bin_end": 11015.644070693,
            "count": 2
           },
           {
            "bin_start": 11015.644070693,
            "bin_end": 22015.776530367908,
            "count": 1
           },
           {
            "bin_start": 22015.776530367908,
            "bin_end": 33015.908990042815,
            "count": 0
           },
           {
            "bin_start": 33015.908990042815,
            "bin_end": 44016.04144971772,
            "count": 0
           },
           {
            "bin_start": 44016.04144971772,
            "bin_end": 55016.17390939262,
            "count": 0
           },
           {
            "bin_start": 55016.17390939262,
            "bin_end": 66016.30636906753,
            "count": 0
           },
           {
            "bin_start": 66016.30636906753,
            "bin_end": 77016.43882874244,
            "count": 0
           },
           {
            "bin_start": 77016.43882874244,
            "bin_end": 88016.57128841734,
            "count": 0
           },
           {
            "bin_start": 88016.57128841734,
            "bin_end": 99016.70374809224,
            "count": 0
           },
           {
            "bin_start": 99016.70374809224,
            "bin_end": 110016.83620776715,
            "count": 1
           }
          ]
         }
        },
        {
         "name": "skew",
         "dtype": "float64",
         "stats": {
          "unique_count": 4,
          "nan_count": 0,
          "min": "9.443273511006304e-16",
          "max": "1.7660872148961309",
          "histogram": [
           {
            "bin_start": 9.443273511006304e-16,
            "bin_end": 0.17660872148961393,
            "count": 2
           },
           {
            "bin_start": 0.17660872148961393,
            "bin_end": 0.3532174429792269,
            "count": 0
           },
           {
            "bin_start": 0.3532174429792269,
            "bin_end": 0.5298261644688399,
            "count": 0
           },
           {
            "bin_start": 0.5298261644688399,
            "bin_end": 0.7064348859584529,
            "count": 1
           },
           {
            "bin_start": 0.7064348859584529,
            "bin_end": 0.883043607448066,
            "count": 0
           },
           {
            "bin_start": 0.883043607448066,
            "bin_end": 1.0596523289376787,
            "count": 0
           },
           {
            "bin_start": 1.0596523289376787,
            "bin_end": 1.2362610504272917,
            "count": 0
           },
           {
            "bin_start": 1.2362610504272917,
            "bin_end": 1.4128697719169048,
            "count": 0
           },
           {
            "bin_start": 1.4128697719169048,
            "bin_end": 1.5894784934065178,
            "count": 0
           },
           {
            "bin_start": 1.5894784934065178,
            "bin_end": 1.7660872148961309,
            "count": 1
           }
          ]
         }
        },
        {
         "name": "kurtosis",
         "dtype": "float64",
         "stats": {
          "unique_count": 4,
          "nan_count": 0,
          "min": "-1.2006880422961197",
          "max": "34.004568696114696",
          "histogram": [
           {
            "bin_start": -1.2006880422961197,
            "bin_end": 2.319837631544962,
            "count": 3
           },
           {
            "bin_start": 2.319837631544962,
            "bin_end": 5.8403633053860435,
            "count": 0
           },
           {
            "bin_start": 5.8403633053860435,
            "bin_end": 9.360888979227125,
            "count": 0
           },
           {
            "bin_start": 9.360888979227125,
            "bin_end": 12.881414653068207,
            "count": 0
           },
           {
            "bin_start": 12.881414653068207,
            "bin_end": 16.40194032690929,
            "count": 0
           },
           {
            "bin_start": 16.40194032690929,
            "bin_end": 19.922466000750372,
            "count": 0
           },
           {
            "bin_start": 19.922466000750372,
            "bin_end": 23.442991674591454,
            "count": 0
           },
           {
            "bin_start": 23.442991674591454,
            "bin_end": 26.963517348432536,
            "count": 0
           },
           {
            "bin_start": 26.963517348432536,
            "bin_end": 30.484043022273617,
            "count": 0
           },
           {
            "bin_start": 30.484043022273617,
            "bin_end": 34.004568696114696,
            "count": 1
           }
          ]
         }
        },
        {
         "name": "_deepnote_index_column",
         "dtype": "object"
        }
       ],
       "rows": [
        {
         "max": 381109,
         "min": 1,
         "range": 381108,
         "mean": 190555,
         "median": 190555,
         "std": 110016.83620776715,
         "skew": 9.443273511006304e-16,
         "kurtosis": -1.2000000000000004,
         "_deepnote_index_column": "id"
        },
        {
         "max": 85,
         "min": 20,
         "range": 65,
         "mean": 38.822583565331705,
         "median": 36,
         "std": 15.511611018095318,
         "skew": 0.6725389977260843,
         "kurtosis": -0.5656550664686129,
         "_deepnote_index_column": "age"
        },
        {
         "max": 540165,
         "min": 2630,
         "range": 537535,
         "mean": 30564.389581458323,
         "median": 31669,
         "std": 17213.155056980126,
         "skew": 1.7660872148961309,
         "kurtosis": 34.004568696114696,
         "_deepnote_index_column": "annual_premium"
        },
        {
         "max": 299,
         "min": 10,
         "range": 289,
         "mean": 154.34739667654136,
         "median": 154,
         "std": 83.67130362658737,
         "skew": 0.0030295168899980816,
         "kurtosis": -1.2006880422961197,
         "_deepnote_index_column": "vintage"
        }
       ]
      },
      "text/plain": "                     max     min     range           mean    median  \\\nid              381109.0     1.0  381108.0  190555.000000  190555.0   \nage                 85.0    20.0      65.0      38.822584      36.0   \nannual_premium  540165.0  2630.0  537535.0   30564.389581   31669.0   \nvintage            299.0    10.0     289.0     154.347397     154.0   \n\n                          std          skew   kurtosis  \nid              110016.836208  9.443274e-16  -1.200000  \nage                 15.511611  6.725390e-01  -0.565655  \nannual_premium   17213.155057  1.766087e+00  34.004569  \nvintage             83.671304  3.029517e-03  -1.200688  ",
      "text/html": "<div>\n<style scoped>\n    .dataframe tbody tr th:only-of-type {\n        vertical-align: middle;\n    }\n\n    .dataframe tbody tr th {\n        vertical-align: top;\n    }\n\n    .dataframe thead th {\n        text-align: right;\n    }\n</style>\n<table border=\"1\" class=\"dataframe\">\n  <thead>\n    <tr style=\"text-align: right;\">\n      <th></th>\n      <th>max</th>\n      <th>min</th>\n      <th>range</th>\n      <th>mean</th>\n      <th>median</th>\n      <th>std</th>\n      <th>skew</th>\n      <th>kurtosis</th>\n    </tr>\n  </thead>\n  <tbody>\n    <tr>\n      <th>id</th>\n      <td>381109.0</td>\n      <td>1.0</td>\n      <td>381108.0</td>\n      <td>190555.000000</td>\n      <td>190555.0</td>\n      <td>110016.836208</td>\n      <td>9.443274e-16</td>\n      <td>-1.200000</td>\n    </tr>\n    <tr>\n      <th>age</th>\n      <td>85.0</td>\n      <td>20.0</td>\n      <td>65.0</td>\n      <td>38.822584</td>\n      <td>36.0</td>\n      <td>15.511611</td>\n      <td>6.725390e-01</td>\n      <td>-0.565655</td>\n    </tr>\n    <tr>\n      <th>annual_premium</th>\n      <td>540165.0</td>\n      <td>2630.0</td>\n      <td>537535.0</td>\n      <td>30564.389581</td>\n      <td>31669.0</td>\n      <td>17213.155057</td>\n      <td>1.766087e+00</td>\n      <td>34.004569</td>\n    </tr>\n    <tr>\n      <th>vintage</th>\n      <td>299.0</td>\n      <td>10.0</td>\n      <td>289.0</td>\n      <td>154.347397</td>\n      <td>154.0</td>\n      <td>83.671304</td>\n      <td>3.029517e-03</td>\n      <td>-1.200688</td>\n    </tr>\n  </tbody>\n</table>\n</div>"
     },
     "metadata": {}
    }
   ],
   "execution_count": null
  },
  {
   "cell_type": "markdown",
   "source": "# Categorical statistics",
   "metadata": {
    "id": "2GYgVJgo51qE",
    "cell_id": "00021-8407152e-81f5-47e9-b9b4-b0bef819539f",
    "deepnote_cell_type": "markdown",
    "deepnote_cell_height": 81.60000610351562
   }
  },
  {
   "cell_type": "code",
   "metadata": {
    "ExecuteTime": {
     "end_time": "2022-08-17T00:20:09.542502Z",
     "start_time": "2022-08-17T00:20:09.504733Z"
    },
    "colab": {
     "base_uri": "https://localhost:8080/",
     "height": 488
    },
    "executionInfo": {
     "elapsed": 300,
     "status": "ok",
     "timestamp": 1660658448600,
     "user": {
      "displayName": "Lavis",
      "userId": "11464059397454562428"
     },
     "user_tz": 0
    },
    "id": "K7ImJcVh88iM",
    "outputId": "539d0901-1f51-4661-9bef-2347028b4bae",
    "cell_id": "00022-0ed6a154-490c-4f8b-8ce1-1764ddab0969",
    "deepnote_to_be_reexecuted": false,
    "source_hash": "1074c1c8",
    "execution_start": 1660742237655,
    "execution_millis": 612,
    "deepnote_cell_type": "code",
    "deepnote_cell_height": 594.2000122070312,
    "deepnote_output_heights": [
     379
    ]
   },
   "source": "cat_atributtes",
   "outputs": [
    {
     "output_type": "execute_result",
     "execution_count": 13,
     "data": {
      "application/vnd.deepnote.dataframe.v3+json": {
       "column_count": 8,
       "row_count": 381109,
       "columns": [
        {
         "name": "gender",
         "dtype": "object"
        },
        {
         "name": "policy_sales_channel",
         "dtype": "float64"
        },
        {
         "name": "region_code",
         "dtype": "float64"
        },
        {
         "name": "previously_insured",
         "dtype": "int64"
        },
        {
         "name": "driving_license",
         "dtype": "int64"
        },
        {
         "name": "vehicle_damage",
         "dtype": "object"
        },
        {
         "name": "vehicle_age",
         "dtype": "object"
        },
        {
         "name": "response",
         "dtype": "int64"
        },
        {
         "name": "_deepnote_index_column",
         "dtype": "int64"
        }
       ],
       "rows": [
        {
         "gender": "Male",
         "policy_sales_channel": 26,
         "region_code": 28,
         "previously_insured": 0,
         "driving_license": 1,
         "vehicle_damage": "Yes",
         "vehicle_age": "> 2 Years",
         "response": 1,
         "_deepnote_index_column": 0
        },
        {
         "gender": "Male",
         "policy_sales_channel": 26,
         "region_code": 3,
         "previously_insured": 0,
         "driving_license": 1,
         "vehicle_damage": "No",
         "vehicle_age": "1-2 Year",
         "response": 0,
         "_deepnote_index_column": 1
        },
        {
         "gender": "Male",
         "policy_sales_channel": 26,
         "region_code": 28,
         "previously_insured": 0,
         "driving_license": 1,
         "vehicle_damage": "Yes",
         "vehicle_age": "> 2 Years",
         "response": 1,
         "_deepnote_index_column": 2
        },
        {
         "gender": "Male",
         "policy_sales_channel": 152,
         "region_code": 11,
         "previously_insured": 1,
         "driving_license": 1,
         "vehicle_damage": "No",
         "vehicle_age": "< 1 Year",
         "response": 0,
         "_deepnote_index_column": 3
        },
        {
         "gender": "Female",
         "policy_sales_channel": 152,
         "region_code": 41,
         "previously_insured": 1,
         "driving_license": 1,
         "vehicle_damage": "No",
         "vehicle_age": "< 1 Year",
         "response": 0,
         "_deepnote_index_column": 4
        },
        {
         "gender": "Female",
         "policy_sales_channel": 160,
         "region_code": 33,
         "previously_insured": 0,
         "driving_license": 1,
         "vehicle_damage": "Yes",
         "vehicle_age": "< 1 Year",
         "response": 0,
         "_deepnote_index_column": 5
        },
        {
         "gender": "Male",
         "policy_sales_channel": 152,
         "region_code": 11,
         "previously_insured": 0,
         "driving_license": 1,
         "vehicle_damage": "Yes",
         "vehicle_age": "< 1 Year",
         "response": 0,
         "_deepnote_index_column": 6
        },
        {
         "gender": "Female",
         "policy_sales_channel": 26,
         "region_code": 28,
         "previously_insured": 0,
         "driving_license": 1,
         "vehicle_damage": "Yes",
         "vehicle_age": "1-2 Year",
         "response": 1,
         "_deepnote_index_column": 7
        },
        {
         "gender": "Female",
         "policy_sales_channel": 152,
         "region_code": 3,
         "previously_insured": 1,
         "driving_license": 1,
         "vehicle_damage": "No",
         "vehicle_age": "< 1 Year",
         "response": 0,
         "_deepnote_index_column": 8
        },
        {
         "gender": "Female",
         "policy_sales_channel": 152,
         "region_code": 6,
         "previously_insured": 1,
         "driving_license": 1,
         "vehicle_damage": "No",
         "vehicle_age": "< 1 Year",
         "response": 0,
         "_deepnote_index_column": 9
        }
       ]
      },
      "text/plain": "        gender  policy_sales_channel  region_code  previously_insured  \\\n0         Male                  26.0         28.0                   0   \n1         Male                  26.0          3.0                   0   \n2         Male                  26.0         28.0                   0   \n3         Male                 152.0         11.0                   1   \n4       Female                 152.0         41.0                   1   \n...        ...                   ...          ...                 ...   \n381104    Male                  26.0         26.0                   1   \n381105    Male                 152.0         37.0                   1   \n381106    Male                 160.0         30.0                   1   \n381107  Female                 124.0         14.0                   0   \n381108    Male                  26.0         29.0                   0   \n\n        driving_license vehicle_damage vehicle_age  response  \n0                     1            Yes   > 2 Years         1  \n1                     1             No    1-2 Year         0  \n2                     1            Yes   > 2 Years         1  \n3                     1             No    < 1 Year         0  \n4                     1             No    < 1 Year         0  \n...                 ...            ...         ...       ...  \n381104                1             No    1-2 Year         0  \n381105                1             No    < 1 Year         0  \n381106                1             No    < 1 Year         0  \n381107                1            Yes   > 2 Years         0  \n381108                1             No    1-2 Year         0  \n\n[381109 rows x 8 columns]",
      "text/html": "<div>\n<style scoped>\n    .dataframe tbody tr th:only-of-type {\n        vertical-align: middle;\n    }\n\n    .dataframe tbody tr th {\n        vertical-align: top;\n    }\n\n    .dataframe thead th {\n        text-align: right;\n    }\n</style>\n<table border=\"1\" class=\"dataframe\">\n  <thead>\n    <tr style=\"text-align: right;\">\n      <th></th>\n      <th>gender</th>\n      <th>policy_sales_channel</th>\n      <th>region_code</th>\n      <th>previously_insured</th>\n      <th>driving_license</th>\n      <th>vehicle_damage</th>\n      <th>vehicle_age</th>\n      <th>response</th>\n    </tr>\n  </thead>\n  <tbody>\n    <tr>\n      <th>0</th>\n      <td>Male</td>\n      <td>26.0</td>\n      <td>28.0</td>\n      <td>0</td>\n      <td>1</td>\n      <td>Yes</td>\n      <td>&gt; 2 Years</td>\n      <td>1</td>\n    </tr>\n    <tr>\n      <th>1</th>\n      <td>Male</td>\n      <td>26.0</td>\n      <td>3.0</td>\n      <td>0</td>\n      <td>1</td>\n      <td>No</td>\n      <td>1-2 Year</td>\n      <td>0</td>\n    </tr>\n    <tr>\n      <th>2</th>\n      <td>Male</td>\n      <td>26.0</td>\n      <td>28.0</td>\n      <td>0</td>\n      <td>1</td>\n      <td>Yes</td>\n      <td>&gt; 2 Years</td>\n      <td>1</td>\n    </tr>\n    <tr>\n      <th>3</th>\n      <td>Male</td>\n      <td>152.0</td>\n      <td>11.0</td>\n      <td>1</td>\n      <td>1</td>\n      <td>No</td>\n      <td>&lt; 1 Year</td>\n      <td>0</td>\n    </tr>\n    <tr>\n      <th>4</th>\n      <td>Female</td>\n      <td>152.0</td>\n      <td>41.0</td>\n      <td>1</td>\n      <td>1</td>\n      <td>No</td>\n      <td>&lt; 1 Year</td>\n      <td>0</td>\n    </tr>\n    <tr>\n      <th>...</th>\n      <td>...</td>\n      <td>...</td>\n      <td>...</td>\n      <td>...</td>\n      <td>...</td>\n      <td>...</td>\n      <td>...</td>\n      <td>...</td>\n    </tr>\n    <tr>\n      <th>381104</th>\n      <td>Male</td>\n      <td>26.0</td>\n      <td>26.0</td>\n      <td>1</td>\n      <td>1</td>\n      <td>No</td>\n      <td>1-2 Year</td>\n      <td>0</td>\n    </tr>\n    <tr>\n      <th>381105</th>\n      <td>Male</td>\n      <td>152.0</td>\n      <td>37.0</td>\n      <td>1</td>\n      <td>1</td>\n      <td>No</td>\n      <td>&lt; 1 Year</td>\n      <td>0</td>\n    </tr>\n    <tr>\n      <th>381106</th>\n      <td>Male</td>\n      <td>160.0</td>\n      <td>30.0</td>\n      <td>1</td>\n      <td>1</td>\n      <td>No</td>\n      <td>&lt; 1 Year</td>\n      <td>0</td>\n    </tr>\n    <tr>\n      <th>381107</th>\n      <td>Female</td>\n      <td>124.0</td>\n      <td>14.0</td>\n      <td>0</td>\n      <td>1</td>\n      <td>Yes</td>\n      <td>&gt; 2 Years</td>\n      <td>0</td>\n    </tr>\n    <tr>\n      <th>381108</th>\n      <td>Male</td>\n      <td>26.0</td>\n      <td>29.0</td>\n      <td>0</td>\n      <td>1</td>\n      <td>No</td>\n      <td>1-2 Year</td>\n      <td>0</td>\n    </tr>\n  </tbody>\n</table>\n<p>381109 rows × 8 columns</p>\n</div>"
     },
     "metadata": {}
    }
   ],
   "execution_count": null
  },
  {
   "cell_type": "code",
   "metadata": {
    "ExecuteTime": {
     "end_time": "2022-08-17T00:20:09.681307Z",
     "start_time": "2022-08-17T00:20:09.542502Z"
    },
    "colab": {
     "base_uri": "https://localhost:8080/"
    },
    "executionInfo": {
     "elapsed": 600,
     "status": "ok",
     "timestamp": 1660658457000,
     "user": {
      "displayName": "Lavis",
      "userId": "11464059397454562428"
     },
     "user_tz": 0
    },
    "id": "HgL75uMjtL_U",
    "outputId": "9a26021f-3844-48b0-947b-e60bd9af0f83",
    "cell_id": "00023-0fba07ab-963d-471a-a38b-5d26d067172d",
    "deepnote_to_be_reexecuted": false,
    "source_hash": "67ad8b61",
    "execution_start": 1660742237681,
    "execution_millis": 590,
    "deepnote_cell_type": "code",
    "deepnote_cell_height": 265.3999938964844,
    "deepnote_output_heights": [
     174
    ]
   },
   "source": "cat_atributtes.apply(lambda x: x.unique().shape[0])",
   "outputs": [
    {
     "output_type": "execute_result",
     "execution_count": 14,
     "data": {
      "text/plain": "gender                    2\npolicy_sales_channel    155\nregion_code              53\npreviously_insured        2\ndriving_license           2\nvehicle_damage            2\nvehicle_age               3\nresponse                  2\ndtype: int64"
     },
     "metadata": {}
    }
   ],
   "execution_count": null
  },
  {
   "cell_type": "code",
   "source": "resp = cat_atributtes[['response']].value_counts().reset_index()\nresp[\"%\"] =round( resp[0]/resp[0].sum()*100,2)\nresp.columns=['response','count','%']\nresp",
   "metadata": {
    "ExecuteTime": {
     "end_time": "2022-08-17T00:20:09.729177Z",
     "start_time": "2022-08-17T00:20:09.684299Z"
    },
    "colab": {
     "base_uri": "https://localhost:8080/",
     "height": 112
    },
    "executionInfo": {
     "elapsed": 500,
     "status": "ok",
     "timestamp": 1660659493700,
     "user": {
      "displayName": "Lavis",
      "userId": "11464059397454562428"
     },
     "user_tz": 0
    },
    "id": "dUCd10ajA7Pw",
    "outputId": "299cdd6d-6f08-46f1-da1a-b219e0774bd1",
    "cell_id": "00024-ddcd582f-bc00-4f6a-9325-30ea0ee9db94",
    "deepnote_to_be_reexecuted": false,
    "source_hash": "a189bddf",
    "execution_start": 1660742237784,
    "execution_millis": 488,
    "deepnote_cell_type": "code",
    "deepnote_cell_height": 320.20001220703125,
    "deepnote_output_heights": [
     88
    ]
   },
   "outputs": [
    {
     "output_type": "execute_result",
     "execution_count": 15,
     "data": {
      "application/vnd.deepnote.dataframe.v3+json": {
       "column_count": 3,
       "row_count": 2,
       "columns": [
        {
         "name": "response",
         "dtype": "int64",
         "stats": {
          "unique_count": 2,
          "nan_count": 0,
          "min": "0",
          "max": "1",
          "histogram": [
           {
            "bin_start": 0,
            "bin_end": 0.1,
            "count": 1
           },
           {
            "bin_start": 0.1,
            "bin_end": 0.2,
            "count": 0
           },
           {
            "bin_start": 0.2,
            "bin_end": 0.30000000000000004,
            "count": 0
           },
           {
            "bin_start": 0.30000000000000004,
            "bin_end": 0.4,
            "count": 0
           },
           {
            "bin_start": 0.4,
            "bin_end": 0.5,
            "count": 0
           },
           {
            "bin_start": 0.5,
            "bin_end": 0.6000000000000001,
            "count": 0
           },
           {
            "bin_start": 0.6000000000000001,
            "bin_end": 0.7000000000000001,
            "count": 0
           },
           {
            "bin_start": 0.7000000000000001,
            "bin_end": 0.8,
            "count": 0
           },
           {
            "bin_start": 0.8,
            "bin_end": 0.9,
            "count": 0
           },
           {
            "bin_start": 0.9,
            "bin_end": 1,
            "count": 1
           }
          ]
         }
        },
        {
         "name": "count",
         "dtype": "int64",
         "stats": {
          "unique_count": 2,
          "nan_count": 0,
          "min": "46710",
          "max": "334399",
          "histogram": [
           {
            "bin_start": 46710,
            "bin_end": 75478.9,
            "count": 1
           },
           {
            "bin_start": 75478.9,
            "bin_end": 104247.8,
            "count": 0
           },
           {
            "bin_start": 104247.8,
            "bin_end": 133016.7,
            "count": 0
           },
           {
            "bin_start": 133016.7,
            "bin_end": 161785.6,
            "count": 0
           },
           {
            "bin_start": 161785.6,
            "bin_end": 190554.5,
            "count": 0
           },
           {
            "bin_start": 190554.5,
            "bin_end": 219323.40000000002,
            "count": 0
           },
           {
            "bin_start": 219323.40000000002,
            "bin_end": 248092.30000000002,
            "count": 0
           },
           {
            "bin_start": 248092.30000000002,
            "bin_end": 276861.2,
            "count": 0
           },
           {
            "bin_start": 276861.2,
            "bin_end": 305630.1,
            "count": 0
           },
           {
            "bin_start": 305630.1,
            "bin_end": 334399,
            "count": 1
           }
          ]
         }
        },
        {
         "name": "%",
         "dtype": "float64",
         "stats": {
          "unique_count": 2,
          "nan_count": 0,
          "min": "12.26",
          "max": "87.74",
          "histogram": [
           {
            "bin_start": 12.26,
            "bin_end": 19.808,
            "count": 1
           },
           {
            "bin_start": 19.808,
            "bin_end": 27.355999999999998,
            "count": 0
           },
           {
            "bin_start": 27.355999999999998,
            "bin_end": 34.903999999999996,
            "count": 0
           },
           {
            "bin_start": 34.903999999999996,
            "bin_end": 42.452,
            "count": 0
           },
           {
            "bin_start": 42.452,
            "bin_end": 49.99999999999999,
            "count": 0
           },
           {
            "bin_start": 49.99999999999999,
            "bin_end": 57.547999999999995,
            "count": 0
           },
           {
            "bin_start": 57.547999999999995,
            "bin_end": 65.09599999999999,
            "count": 0
           },
           {
            "bin_start": 65.09599999999999,
            "bin_end": 72.64399999999999,
            "count": 0
           },
           {
            "bin_start": 72.64399999999999,
            "bin_end": 80.192,
            "count": 0
           },
           {
            "bin_start": 80.192,
            "bin_end": 87.74,
            "count": 1
           }
          ]
         }
        },
        {
         "name": "_deepnote_index_column",
         "dtype": "int64"
        }
       ],
       "rows": [
        {
         "response": 0,
         "count": 334399,
         "%": 87.74,
         "_deepnote_index_column": 0
        },
        {
         "response": 1,
         "count": 46710,
         "%": 12.26,
         "_deepnote_index_column": 1
        }
       ]
      },
      "text/plain": "   response   count      %\n0         0  334399  87.74\n1         1   46710  12.26",
      "text/html": "<div>\n<style scoped>\n    .dataframe tbody tr th:only-of-type {\n        vertical-align: middle;\n    }\n\n    .dataframe tbody tr th {\n        vertical-align: top;\n    }\n\n    .dataframe thead th {\n        text-align: right;\n    }\n</style>\n<table border=\"1\" class=\"dataframe\">\n  <thead>\n    <tr style=\"text-align: right;\">\n      <th></th>\n      <th>response</th>\n      <th>count</th>\n      <th>%</th>\n    </tr>\n  </thead>\n  <tbody>\n    <tr>\n      <th>0</th>\n      <td>0</td>\n      <td>334399</td>\n      <td>87.74</td>\n    </tr>\n    <tr>\n      <th>1</th>\n      <td>1</td>\n      <td>46710</td>\n      <td>12.26</td>\n    </tr>\n  </tbody>\n</table>\n</div>"
     },
     "metadata": {}
    }
   ],
   "execution_count": null
  },
  {
   "cell_type": "code",
   "source": "sns.barplot(x='response',y='count',data=resp)",
   "metadata": {
    "cell_id": "a40f58b3e562493584505bd0992f5382",
    "tags": [],
    "deepnote_to_be_reexecuted": false,
    "source_hash": "dac77db3",
    "execution_start": 1660742237818,
    "execution_millis": 907,
    "deepnote_cell_type": "code",
    "deepnote_cell_height": 556.5999755859375,
    "deepnote_output_heights": [
     20,
     414
    ]
   },
   "outputs": [
    {
     "output_type": "execute_result",
     "execution_count": 16,
     "data": {
      "text/plain": "<AxesSubplot:xlabel='response', ylabel='count'>"
     },
     "metadata": {}
    },
    {
     "data": {
      "text/plain": "<Figure size 1800x864 with 1 Axes>",
      "image/png": "[encoded data removed]"
     },
     "metadata": {
      "image/png": {
       "width": 1477,
       "height": 705
      }
     },
     "output_type": "display_data"
    }
   ],
   "execution_count": null
  },
  {
   "cell_type": "markdown",
   "source": "Variável resposta está desbalanceada",
   "metadata": {
    "id": "gxidmTzOBGHE",
    "cell_id": "00025-82d267d7-f9e6-410f-8b92-af6b76183104",
    "deepnote_cell_type": "markdown",
    "deepnote_cell_height": 52
   }
  },
  {
   "cell_type": "code",
   "source": "aux = cat_atributtes[['response','gender']].value_counts().reset_index()\naux['_%'] = (round(aux[0]/aux[0].sum()*100,2))",
   "metadata": {
    "ExecuteTime": {
     "end_time": "2022-08-17T00:35:41.844701Z",
     "start_time": "2022-08-17T00:35:41.763615Z"
    },
    "colab": {
     "base_uri": "https://localhost:8080/",
     "height": 112
    },
    "executionInfo": {
     "elapsed": 600,
     "status": "ok",
     "timestamp": 1660658187800,
     "user": {
      "displayName": "Lavis",
      "userId": "11464059397454562428"
     },
     "user_tz": 0
    },
    "id": "Mulr0sNJ7__M",
    "outputId": "20e1dce5-6102-4d6d-fda5-8d360009be2a",
    "cell_id": "00027-ee30570e-788f-4d85-a622-f666e557cb9c",
    "deepnote_to_be_reexecuted": false,
    "source_hash": "16177810",
    "execution_start": 1660742238733,
    "execution_millis": 154,
    "deepnote_cell_type": "code",
    "deepnote_cell_height": 93.60000610351562
   },
   "outputs": [],
   "execution_count": null
  },
  {
   "cell_type": "code",
   "source": "plt.subplot(1,2,1)\nsns.barplot(x='gender',y=0,data=cat_atributtes[['gender']].value_counts(normalize=True).reset_index())\nplt.subplot(1,2,2)\nsns.countplot(x='gender',hue='response',data=cat_atributtes)",
   "metadata": {
    "ExecuteTime": {
     "end_time": "2022-08-17T00:20:10.136533Z",
     "start_time": "2022-08-17T00:20:09.793115Z"
    },
    "colab": {
     "base_uri": "https://localhost:8080/",
     "height": 345
    },
    "executionInfo": {
     "elapsed": 1200,
     "status": "ok",
     "timestamp": 1660658320300,
     "user": {
      "displayName": "Lavis",
      "userId": "11464059397454562428"
     },
     "user_tz": 0
    },
    "id": "0TdL5Bb07bOE",
    "outputId": "cdd052e3-3c70-4d73-e2f3-7d6db62abbc9",
    "cell_id": "00029-0e4d6ef8-d862-423a-b422-50ffdba6ff14",
    "deepnote_to_be_reexecuted": false,
    "source_hash": "e8d580ce",
    "execution_start": 1660742238887,
    "execution_millis": 868,
    "deepnote_cell_type": "code",
    "deepnote_cell_height": 615.2000122070312,
    "deepnote_output_heights": [
     20,
     419
    ]
   },
   "outputs": [
    {
     "output_type": "execute_result",
     "execution_count": 18,
     "data": {
      "text/plain": "<AxesSubplot:xlabel='gender', ylabel='count'>"
     },
     "metadata": {}
    },
    {
     "data": {
      "text/plain": "<Figure size 1800x864 with 2 Axes>",
      "image/png": "[encoded data removed]"
     },
     "metadata": {
      "image/png": {
       "width": 1453,
       "height": 703
      }
     },
     "output_type": "display_data"
    }
   ],
   "execution_count": null
  },
  {
   "cell_type": "code",
   "metadata": {
    "ExecuteTime": {
     "end_time": "2022-08-17T00:36:01.802787Z",
     "start_time": "2022-08-17T00:36:01.779809Z"
    },
    "cell_id": "00028-0bd70a1f-ab4d-4bd0-a35a-3deeabc4fb49",
    "deepnote_to_be_reexecuted": false,
    "source_hash": "9bc8d6af",
    "execution_start": 1660742239762,
    "execution_millis": 22,
    "deepnote_cell_type": "code",
    "deepnote_cell_height": 348.20001220703125,
    "deepnote_output_heights": [
     146
    ]
   },
   "source": "aux",
   "outputs": [
    {
     "output_type": "execute_result",
     "execution_count": 19,
     "data": {
      "application/vnd.deepnote.dataframe.v3+json": {
       "column_count": 4,
       "row_count": 4,
       "columns": [
        {
         "name": "response",
         "dtype": "int64",
         "stats": {
          "unique_count": 2,
          "nan_count": 0,
          "min": "0",
          "max": "1",
          "histogram": [
           {
            "bin_start": 0,
            "bin_end": 0.1,
            "count": 2
           },
           {
            "bin_start": 0.1,
            "bin_end": 0.2,
            "count": 0
           },
           {
            "bin_start": 0.2,
            "bin_end": 0.30000000000000004,
            "count": 0
           },
           {
            "bin_start": 0.30000000000000004,
            "bin_end": 0.4,
            "count": 0
           },
           {
            "bin_start": 0.4,
            "bin_end": 0.5,
            "count": 0
           },
           {
            "bin_start": 0.5,
            "bin_end": 0.6000000000000001,
            "count": 0
           },
           {
            "bin_start": 0.6000000000000001,
            "bin_end": 0.7000000000000001,
            "count": 0
           },
           {
            "bin_start": 0.7000000000000001,
            "bin_end": 0.8,
            "count": 0
           },
           {
            "bin_start": 0.8,
            "bin_end": 0.9,
            "count": 0
           },
           {
            "bin_start": 0.9,
            "bin_end": 1,
            "count": 2
           }
          ]
         }
        },
        {
         "name": "gender",
         "dtype": "object",
         "stats": {
          "unique_count": 2,
          "nan_count": 0,
          "categories": [
           {
            "name": "Male",
            "count": 2
           },
           {
            "name": "Female",
            "count": 2
           }
          ]
         }
        },
        {
         "name": 0,
         "dtype": "int64",
         "stats": {
          "unique_count": 4,
          "nan_count": 0,
          "min": "18185",
          "max": "177564",
          "histogram": [
           {
            "bin_start": 18185,
            "bin_end": 34122.9,
            "count": 2
           },
           {
            "bin_start": 34122.9,
            "bin_end": 50060.8,
            "count": 0
           },
           {
            "bin_start": 50060.8,
            "bin_end": 65998.7,
            "count": 0
           },
           {
            "bin_start": 65998.7,
            "bin_end": 81936.6,
            "count": 0
           },
           {
            "bin_start": 81936.6,
            "bin_end": 97874.5,
            "count": 0
           },
           {
            "bin_start": 97874.5,
            "bin_end": 113812.4,
            "count": 0
           },
           {
            "bin_start": 113812.4,
            "bin_end": 129750.3,
            "count": 0
           },
           {
            "bin_start": 129750.3,
            "bin_end": 145688.2,
            "count": 0
           },
           {
            "bin_start": 145688.2,
            "bin_end": 161626.1,
            "count": 1
           },
           {
            "bin_start": 161626.1,
            "bin_end": 177564,
            "count": 1
           }
          ]
         }
        },
        {
         "name": "_%",
         "dtype": "float64",
         "stats": {
          "unique_count": 4,
          "nan_count": 0,
          "min": "4.77",
          "max": "46.59",
          "histogram": [
           {
            "bin_start": 4.77,
            "bin_end": 8.952,
            "count": 2
           },
           {
            "bin_start": 8.952,
            "bin_end": 13.134,
            "count": 0
           },
           {
            "bin_start": 13.134,
            "bin_end": 17.316000000000003,
            "count": 0
           },
           {
            "bin_start": 17.316000000000003,
            "bin_end": 21.498,
            "count": 0
           },
           {
            "bin_start": 21.498,
            "bin_end": 25.680000000000003,
            "count": 0
           },
           {
            "bin_start": 25.680000000000003,
            "bin_end": 29.862000000000002,
            "count": 0
           },
           {
            "bin_start": 29.862000000000002,
            "bin_end": 34.044,
            "count": 0
           },
           {
            "bin_start": 34.044,
            "bin_end": 38.226,
            "count": 0
           },
           {
            "bin_start": 38.226,
            "bin_end": 42.408,
            "count": 1
           },
           {
            "bin_start": 42.408,
            "bin_end": 46.59,
            "count": 1
           }
          ]
         }
        },
        {
         "name": "_deepnote_index_column",
         "dtype": "int64"
        }
       ],
       "rows": [
        {
         "0": 177564,
         "response": 0,
         "gender": "Male",
         "_%": 46.59,
         "_deepnote_index_column": 0
        },
        {
         "0": 156835,
         "response": 0,
         "gender": "Female",
         "_%": 41.15,
         "_deepnote_index_column": 1
        },
        {
         "0": 28525,
         "response": 1,
         "gender": "Male",
         "_%": 7.48,
         "_deepnote_index_column": 2
        },
        {
         "0": 18185,
         "response": 1,
         "gender": "Female",
         "_%": 4.77,
         "_deepnote_index_column": 3
        }
       ]
      },
      "text/plain": "   response  gender       0     _%\n0         0    Male  177564  46.59\n1         0  Female  156835  41.15\n2         1    Male   28525   7.48\n3         1  Female   18185   4.77",
      "text/html": "<div>\n<style scoped>\n    .dataframe tbody tr th:only-of-type {\n        vertical-align: middle;\n    }\n\n    .dataframe tbody tr th {\n        vertical-align: top;\n    }\n\n    .dataframe thead th {\n        text-align: right;\n    }\n</style>\n<table border=\"1\" class=\"dataframe\">\n  <thead>\n    <tr style=\"text-align: right;\">\n      <th></th>\n      <th>response</th>\n      <th>gender</th>\n      <th>0</th>\n      <th>_%</th>\n    </tr>\n  </thead>\n  <tbody>\n    <tr>\n      <th>0</th>\n      <td>0</td>\n      <td>Male</td>\n      <td>177564</td>\n      <td>46.59</td>\n    </tr>\n    <tr>\n      <th>1</th>\n      <td>0</td>\n      <td>Female</td>\n      <td>156835</td>\n      <td>41.15</td>\n    </tr>\n    <tr>\n      <th>2</th>\n      <td>1</td>\n      <td>Male</td>\n      <td>28525</td>\n      <td>7.48</td>\n    </tr>\n    <tr>\n      <th>3</th>\n      <td>1</td>\n      <td>Female</td>\n      <td>18185</td>\n      <td>4.77</td>\n    </tr>\n  </tbody>\n</table>\n</div>"
     },
     "metadata": {}
    }
   ],
   "execution_count": null
  },
  {
   "cell_type": "markdown",
   "source": "A variável genero apresenta um pequeno deslanço tendo em sua maioria pessoas do sexo masculino, mas apresenta proporção parecida em relação a variável resposta",
   "metadata": {
    "cell_id": "cb1f8b9a9df243dd91b192a961d77eb9",
    "tags": [],
    "deepnote_cell_type": "markdown",
    "deepnote_cell_height": 74.39999389648438
   }
  },
  {
   "cell_type": "code",
   "source": "cat_atributtes['policy_sales_channel'].value_counts().plot(kind='bar')\n",
   "metadata": {
    "cell_id": "8132a97657eb47e783ff4a5c5e6ada3e",
    "tags": [],
    "deepnote_to_be_reexecuted": false,
    "source_hash": "bce84403",
    "execution_start": 1660744245470,
    "execution_millis": 7107,
    "deepnote_cell_type": "code",
    "deepnote_cell_height": 579.2000122070312,
    "deepnote_output_heights": [
     20,
     419
    ]
   },
   "outputs": [
    {
     "output_type": "execute_result",
     "execution_count": 48,
     "data": {
      "text/plain": "<AxesSubplot:>"
     },
     "metadata": {}
    },
    {
     "data": {
      "text/plain": "<Figure size 1800x864 with 1 Axes>",
      "image/png": "[encoded data removed]"
     },
     "metadata": {
      "image/png": {
       "width": 1461,
       "height": 707
      }
     },
     "output_type": "display_data"
    }
   ],
   "execution_count": null
  },
  {
   "cell_type": "code",
   "source": "cat_atributtes['policy_sales_channel'].value_counts().reset_index()[0:10]",
   "metadata": {
    "cell_id": "d092a8925b3a4fe28ba2e6e067b70957",
    "tags": [],
    "deepnote_to_be_reexecuted": false,
    "source_hash": "ed71a5b9",
    "execution_start": 1660744409386,
    "execution_millis": 25,
    "deepnote_cell_type": "code",
    "deepnote_cell_height": 594.2000122070312,
    "deepnote_output_heights": [
     20,
     406
    ]
   },
   "outputs": [
    {
     "output_type": "execute_result",
     "execution_count": 62,
     "data": {
      "application/vnd.deepnote.dataframe.v3+json": {
       "column_count": 2,
       "row_count": 10,
       "columns": [
        {
         "name": "index",
         "dtype": "float64",
         "stats": {
          "unique_count": 10,
          "nan_count": 0,
          "min": "26.0",
          "max": "163.0",
          "histogram": [
           {
            "bin_start": 26,
            "bin_end": 39.7,
            "count": 1
           },
           {
            "bin_start": 39.7,
            "bin_end": 53.4,
            "count": 0
           },
           {
            "bin_start": 53.4,
            "bin_end": 67.1,
            "count": 0
           },
           {
            "bin_start": 67.1,
            "bin_end": 80.8,
            "count": 0
           },
           {
            "bin_start": 80.8,
            "bin_end": 94.5,
            "count": 0
           },
           {
            "bin_start": 94.5,
            "bin_end": 108.19999999999999,
            "count": 0
           },
           {
            "bin_start": 108.19999999999999,
            "bin_end": 121.89999999999999,
            "count": 0
           },
           {
            "bin_start": 121.89999999999999,
            "bin_end": 135.6,
            "count": 2
           },
           {
            "bin_start": 135.6,
            "bin_end": 149.3,
            "count": 0
           },
           {
            "bin_start": 149.3,
            "bin_end": 163,
            "count": 7
           }
          ]
         }
        },
        {
         "name": "policy_sales_channel",
         "dtype": "int64",
         "stats": {
          "unique_count": 10,
          "nan_count": 0,
          "min": "2893",
          "max": "134784",
          "histogram": [
           {
            "bin_start": 2893,
            "bin_end": 16082.1,
            "count": 6
           },
           {
            "bin_start": 16082.1,
            "bin_end": 29271.2,
            "count": 1
           },
           {
            "bin_start": 29271.2,
            "bin_end": 42460.3,
            "count": 0
           },
           {
            "bin_start": 42460.3,
            "bin_end": 55649.4,
            "count": 0
           },
           {
            "bin_start": 55649.4,
            "bin_end": 68838.5,
            "count": 0
           },
           {
            "bin_start": 68838.5,
            "bin_end": 82027.6,
            "count": 2
           },
           {
            "bin_start": 82027.6,
            "bin_end": 95216.7,
            "count": 0
           },
           {
            "bin_start": 95216.7,
            "bin_end": 108405.8,
            "count": 0
           },
           {
            "bin_start": 108405.8,
            "bin_end": 121594.90000000001,
            "count": 0
           },
           {
            "bin_start": 121594.90000000001,
            "bin_end": 134784,
            "count": 1
           }
          ]
         }
        },
        {
         "name": "_deepnote_index_column",
         "dtype": "int64"
        }
       ],
       "rows": [
        {
         "index": 152,
         "policy_sales_channel": 134784,
         "_deepnote_index_column": 0
        },
        {
         "index": 26,
         "policy_sales_channel": 79700,
         "_deepnote_index_column": 1
        },
        {
         "index": 124,
         "policy_sales_channel": 73995,
         "_deepnote_index_column": 2
        },
        {
         "index": 160,
         "policy_sales_channel": 21779,
         "_deepnote_index_column": 3
        },
        {
         "index": 156,
         "policy_sales_channel": 10661,
         "_deepnote_index_column": 4
        },
        {
         "index": 122,
         "policy_sales_channel": 9930,
         "_deepnote_index_column": 5
        },
        {
         "index": 157,
         "policy_sales_channel": 6684,
         "_deepnote_index_column": 6
        },
        {
         "index": 154,
         "policy_sales_channel": 5993,
         "_deepnote_index_column": 7
        },
        {
         "index": 151,
         "policy_sales_channel": 3885,
         "_deepnote_index_column": 8
        },
        {
         "index": 163,
         "policy_sales_channel": 2893,
         "_deepnote_index_column": 9
        }
       ]
      },
      "text/plain": "   index  policy_sales_channel\n0  152.0                134784\n1   26.0                 79700\n2  124.0                 73995\n3  160.0                 21779\n4  156.0                 10661\n5  122.0                  9930\n6  157.0                  6684\n7  154.0                  5993\n8  151.0                  3885\n9  163.0                  2893",
      "text/html": "<div>\n<style scoped>\n    .dataframe tbody tr th:only-of-type {\n        vertical-align: middle;\n    }\n\n    .dataframe tbody tr th {\n        vertical-align: top;\n    }\n\n    .dataframe thead th {\n        text-align: right;\n    }\n</style>\n<table border=\"1\" class=\"dataframe\">\n  <thead>\n    <tr style=\"text-align: right;\">\n      <th></th>\n      <th>index</th>\n      <th>policy_sales_channel</th>\n    </tr>\n  </thead>\n  <tbody>\n    <tr>\n      <th>0</th>\n      <td>152.0</td>\n      <td>134784</td>\n    </tr>\n    <tr>\n      <th>1</th>\n      <td>26.0</td>\n      <td>79700</td>\n    </tr>\n    <tr>\n      <th>2</th>\n      <td>124.0</td>\n      <td>73995</td>\n    </tr>\n    <tr>\n      <th>3</th>\n      <td>160.0</td>\n      <td>21779</td>\n    </tr>\n    <tr>\n      <th>4</th>\n      <td>156.0</td>\n      <td>10661</td>\n    </tr>\n    <tr>\n      <th>5</th>\n      <td>122.0</td>\n      <td>9930</td>\n    </tr>\n    <tr>\n      <th>6</th>\n      <td>157.0</td>\n      <td>6684</td>\n    </tr>\n    <tr>\n      <th>7</th>\n      <td>154.0</td>\n      <td>5993</td>\n    </tr>\n    <tr>\n      <th>8</th>\n      <td>151.0</td>\n      <td>3885</td>\n    </tr>\n    <tr>\n      <th>9</th>\n      <td>163.0</td>\n      <td>2893</td>\n    </tr>\n  </tbody>\n</table>\n</div>"
     },
     "metadata": {}
    }
   ],
   "execution_count": null
  },
  {
   "cell_type": "code",
   "source": "cat_atributtes['policy_sales_channel'].value_counts().reset_index()[0:10].sum()/len(cat_atributtes['policy_sales_channel'])",
   "metadata": {
    "cell_id": "d1676b0b08b840e4a209d4e411aeea3d",
    "tags": [],
    "deepnote_to_be_reexecuted": false,
    "source_hash": "4a4f380b",
    "execution_start": 1660744465024,
    "execution_millis": 16,
    "deepnote_cell_type": "code",
    "deepnote_cell_height": 155.39999389648438,
    "deepnote_output_heights": [
     59
    ]
   },
   "outputs": [
    {
     "output_type": "execute_result",
     "execution_count": 64,
     "data": {
      "text/plain": "index                   0.003582\npolicy_sales_channel    0.919170\ndtype: float64"
     },
     "metadata": {}
    }
   ],
   "execution_count": null
  },
  {
   "cell_type": "markdown",
   "source": "Dos 155 meio de contato com o clientes 10 deles contém cerca de 92 % das interrasões, infelimente não temos o conhecimento sobre oq seria esses meios de contato",
   "metadata": {
    "cell_id": "d88d6f986f69460f85b5c4b784cdeb17",
    "tags": [],
    "deepnote_cell_type": "markdown",
    "deepnote_cell_height": 74.39999389648438
   }
  },
  {
   "cell_type": "code",
   "source": "bcat_atributtes['region_code'].value_counts().plot(kind='bar')",
   "metadata": {
    "cell_id": "214734544698400e85cc596ffcf4d86d",
    "tags": [],
    "deepnote_to_be_reexecuted": false,
    "source_hash": "7bb7dbdf",
    "execution_start": 1660744880651,
    "execution_millis": 2652,
    "deepnote_cell_type": "code",
    "deepnote_cell_height": 558.2000122070312,
    "deepnote_output_heights": [
     20,
     416
    ]
   },
   "outputs": [
    {
     "output_type": "execute_result",
     "execution_count": 65,
     "data": {
      "text/plain": "<AxesSubplot:>"
     },
     "metadata": {}
    },
    {
     "data": {
      "text/plain": "<Figure size 1800x864 with 1 Axes>",
      "image/png": "[encoded data removed]"
     },
     "metadata": {
      "image/png": {
       "width": 1460,
       "height": 700
      }
     },
     "output_type": "display_data"
    }
   ],
   "execution_count": null
  },
  {
   "cell_type": "markdown",
   "source": "Boa parte dos clientes se se encontram concentraods em algumas regiões",
   "metadata": {
    "cell_id": "c085bdee27084283b6a5415331e51051",
    "tags": [],
    "deepnote_cell_type": "markdown",
    "deepnote_cell_height": 52
   }
  },
  {
   "cell_type": "code",
   "source": "sns.countplot(x='previously_insured',data=cat_atributtes);",
   "metadata": {
    "cell_id": "2e8037e949324e668b18f8e517b1896e",
    "tags": [],
    "deepnote_to_be_reexecuted": false,
    "source_hash": "7fcd29d6",
    "execution_start": 1660745869791,
    "execution_millis": 646,
    "deepnote_cell_type": "code",
    "deepnote_cell_height": 504.3999938964844,
    "deepnote_output_heights": [
     413,
     413
    ]
   },
   "outputs": [
    {
     "data": {
      "text/plain": "<Figure size 1800x864 with 1 Axes>",
      "image/png": "[encoded data removed]"
     },
     "metadata": {
      "image/png": {
       "width": 1477,
       "height": 703
      }
     },
     "output_type": "display_data"
    }
   ],
   "execution_count": null
  },
  {
   "cell_type": "code",
   "source": "sns.countplot(x='driving_license',data=cat_atributtes);",
   "metadata": {
    "cell_id": "8fb9cb25ad5641349820f29946fb9774",
    "tags": [],
    "deepnote_to_be_reexecuted": false,
    "source_hash": "9c79386e",
    "execution_start": 1660745930590,
    "execution_millis": 275,
    "deepnote_cell_type": "code",
    "deepnote_cell_height": 504.3999938964844,
    "deepnote_output_heights": [
     413
    ]
   },
   "outputs": [
    {
     "data": {
      "text/plain": "<Figure size 1800x864 with 1 Axes>",
      "image/png": "[encoded data removed]"
     },
     "metadata": {
      "image/png": {
       "width": 1477,
       "height": 703
      }
     },
     "output_type": "display_data"
    }
   ],
   "execution_count": null
  },
  {
   "cell_type": "code",
   "source": "cat_atributtes['driving_license'].value_counts()",
   "metadata": {
    "cell_id": "7a402316891345c7a3fbb9ec58656c3a",
    "tags": [],
    "deepnote_to_be_reexecuted": false,
    "source_hash": "695560aa",
    "execution_start": 1660745960445,
    "execution_millis": 174,
    "deepnote_cell_type": "code",
    "deepnote_cell_height": 150.39999389648438,
    "deepnote_output_heights": [
     59
    ]
   },
   "outputs": [
    {
     "output_type": "execute_result",
     "execution_count": 73,
     "data": {
      "text/plain": "1    380297\n0       812\nName: driving_license, dtype: int64"
     },
     "metadata": {}
    }
   ],
   "execution_count": null
  },
  {
   "cell_type": "markdown",
   "source": "<a style='text-decoration:none;line-height:16px;display:flex;color:#5B5B62;padding:10px;justify-content:end;' href='https://deepnote.com?utm_source=created-in-deepnote-cell&projectId=3161d838-98a4-47ed-ae81-127ad2068af4' target=\"_blank\">\n<img alt='Created in deepnote.com' style='display:inline;max-height:16px;margin:0px;margin-right:7.5px;' src='data:image/svg+xml;base64,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' > </img>\nCreated in <span style='font-weight:600;margin-left:4px;'>Deepnote</span></a>",
   "metadata": {
    "tags": [],
    "created_in_deepnote_cell": true,
    "deepnote_cell_type": "markdown"
   }
  }
 ],
 "nbformat": 4,
 "nbformat_minor": 1,
 "metadata": {
  "colab": {
   "collapsed_sections": [],
   "name": "PA04_Insurance_all_coleta_de_dados.ipynb",
   "provenance": []
  },
  "kernelspec": {
   "display_name": "Python 3",
   "language": "python",
   "name": "python3"
  },
  "language_info": {
   "codemirror_mode": {
    "name": "ipython",
    "version": 3
   },
   "file_extension": ".py",
   "mimetype": "text/x-python",
   "name": "python",
   "nbconvert_exporter": "python",
   "pygments_lexer": "ipython3",
   "version": "3.8.5"
  },
  "deepnote_notebook_id": "4911266d-f687-4d2d-b72c-3508f1f610f6",
  "deepnote": {},
  "deepnote_execution_queue": []
 }
}